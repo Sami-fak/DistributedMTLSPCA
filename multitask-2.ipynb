{
 "cells": [
  {
   "cell_type": "code",
   "execution_count": 2,
   "metadata": {},
   "outputs": [],
   "source": [
    "import numpy as np\n",
    "import matplotlib.pyplot as plt\n",
    "#matplotlib.rcParams['text.usetex'] = True\n",
    "import scipy.integrate as integrate\n",
    "from scipy.optimize import fsolve\n",
    "from scipy.stats import norm\n",
    "from numpy.linalg import inv\n",
    "import scipy.stats as stat\n",
    "# import SSTL_perf"
   ]
  },
  {
   "cell_type": "markdown",
   "metadata": {},
   "source": [
    "Notations <br>\n",
    "$n$: total number of data points <br>\n",
    "$p$: dimension of each data point\n",
    "$T$: number of task\n",
    "$\\Gamma $: matrix of correlation between tasks <br>\n",
    "$\\lambda_t$: proportion of labeled data in task $ t$ <br>\n",
    "$\\rho_t$: proportion of data with label 1 in task $t$ <br>\n",
    "$\\alpha_t$: number of points in task $ t$ is $\\alpha_t p$ <br>\n",
    "$\\sigma$: each gaussian cluster has covariance $ \\sigma I_p$, the quantity $1/\\sigma^2$ is call signal-to-noise ratio (SNR) <br>\n",
    "\n",
    "Let $ p_t, q_t$ be the solution of\n",
    "$$\n",
    "q_t = [\\Gamma - \\Gamma(I+D \\Gamma)^{-1}]_{tt} \\\\\n",
    "p_t = \\lambda_t + (1-\\lambda_t)F(\\rho_t, q_t/\\sigma^2)\n",
    "$$\n",
    "where\n",
    "$$\n",
    "D = diag[\\alpha_1 p_1/\\sigma^2, \\dots, \\alpha_T p_T/\\sigma^2]\\\\\n",
    "F(\\rho, \\gamma) = - 1 + 2\\partial_{\\gamma} \\mathbb{E} \\left[ \\rho \\log \\left( \\rho e^{\\sqrt{\\gamma} Z - \\gamma} + (1-\\rho) e^{-\\sqrt{\\gamma}Z+\\gamma} \\right) + (1-\\rho)\\log \\left( \\rho e^{\\sqrt{\\gamma} Z + \\gamma} + (1-\\rho) e^{-\\sqrt{\\gamma}Z-\\gamma} \\right) \\right]\n",
    "$$\n",
    "The error of task $t$ is\n",
    "$$\n",
    "1-\\phi(\\sqrt{q_t}/\\sigma)\n",
    "$$"
   ]
  },
  {
   "cell_type": "code",
   "execution_count": 3,
   "metadata": {},
   "outputs": [],
   "source": [
    "def inv(A):\n",
    "    return np.linalg.inv(A)\n",
    "\n",
    "# calculation f'(x) with error O(h^2)\n",
    "def diff(f, x, h):\n",
    "    return (3*f(x)-4*f(x+h)+f(x+2*h))/(-2*h)\n",
    "\n",
    "# compute E[f(Z)] where Z ~ N(0,1)\n",
    "def EZ(f):\n",
    "    return 1/np.sqrt(2*np.pi)*integrate.quad(lambda z: np.exp(-z**2/2)*f(z), -6, 6)[0] \n",
    "\n",
    "# calculate F(rho, gamma) (which is f3)\n",
    "def f1(rho, gam, z):\n",
    "    return rho*np.log(rho*np.exp(np.sqrt(gam)*z-gam)+(1-rho)*np.exp(-np.sqrt(gam)*z+gam)) +\\\n",
    "       (1-rho)*np.log(rho*np.exp(np.sqrt(gam)*z+gam)+(1-rho)*np.exp(-np.sqrt(gam)*z-gam))\n",
    "\n",
    "def f2(rho, gam, z):\n",
    "    return diff(lambda x: f1(rho, x, z), gam, 0.0001)\n",
    "\n",
    "def f3(rho, gam):\n",
    "    return -1 + 2*EZ(lambda z: f2(rho, gam, z))"
   ]
  },
  {
   "cell_type": "code",
   "execution_count": 4,
   "metadata": {},
   "outputs": [],
   "source": [
    "T=2 #number of tasks\n",
    "\n",
    "# calculate the overlaps q1, q2, p1, p2\n",
    "def solve(l1, l2, al1, al2, rho1, rho2, snr, Gam):\n",
    "    def eqs(vec):\n",
    "        p1,p2,q1,q2 = vec[0], vec[1], vec[2], vec[3]\n",
    "        I = np.identity(2)\n",
    "        return [p1-l1-(1-l1)*f3(rho1, q1*snr),\n",
    "                p2-l2-(1-l2)*f3(rho2, q2*snr),\n",
    "                q1 - Gam[0,0]+ (Gam@inv(I + np.diag([al1*p1*snr, al2*p2*snr])@Gam))[0,0],\n",
    "                q2 - Gam[1,1]+ (Gam@inv(I + np.diag([al1*p1*snr, al2*p2*snr])@Gam))[1,1] ]\n",
    "    return fsolve(eqs, [0.5, 0.5, 0.5, 0.5])  "
   ]
  },
  {
   "cell_type": "code",
   "execution_count": 5,
   "metadata": {},
   "outputs": [],
   "source": [
    "p = 100\n",
    "nl = 100\n",
    "nu = 0\n",
    "rho_l = np.array([[0.3,0.2],[0.25,0.25]])#rho_l[0,0]/(rho_l[0,0]+rho_l[0,1])==rho_u[0,0]/(rho_u[0,0]+rho_u[0,1])\n",
    "rho_u = np.array([[0.3,0.2],[0.25,0.25]])#rho_l[1,0]/(rho_l[1,0]+rho_l[1,1])==rho_u[1,0]/(rho_u[1,0]+rho_u[1,1])\n",
    "if rho_l[0,0]/(rho_l[0,0]+rho_l[0,1])!=rho_u[0,0]/(rho_u[0,0]+rho_u[0,1]):\n",
    "    print(\"Error in task 1\")\n",
    "if rho_l[1,0]/(rho_l[1,0]+rho_l[1,1])!=rho_u[1,0]/(rho_u[1,0]+rho_u[1,1]):\n",
    "    print(\"Error in task 2\")"
   ]
  },
  {
   "cell_type": "code",
   "execution_count": 36,
   "metadata": {},
   "outputs": [
    {
     "name": "stdout",
     "output_type": "stream",
     "text": [
      "0.5\n"
     ]
    }
   ],
   "source": [
    "l1 = nl*np.sum(rho_l[0])/(nl*np.sum(rho_l[0])+nu*np.sum(rho_u[0]))\n",
    "l2 = nl*np.sum(rho_l[1])/(nl*np.sum(rho_l[1])+nu*np.sum(rho_u[1]))\n",
    "al1 = (nl*np.sum(rho_l[0])+nu*np.sum(rho_u[0]))/p\n",
    "al2 = (nl*np.sum(rho_l[1])+nu*np.sum(rho_u[1]))/p\n",
    "rho1 = rho_l[0,0]/np.sum(rho_l[0])\n",
    "rho2 = rho_l[1,0]/np.sum(rho_l[1])\n",
    "snr = 1\n",
    "print(al2)"
   ]
  },
  {
   "cell_type": "code",
   "execution_count": 24,
   "metadata": {},
   "outputs": [
    {
     "name": "stderr",
     "output_type": "stream",
     "text": [
      "/home/sami/anaconda3/lib/python3.7/site-packages/scipy/optimize/minpack.py:175: RuntimeWarning: The iteration is not making good progress, as measured by the \n",
      "  improvement from the last ten iterations.\n",
      "  warnings.warn(msg, RuntimeWarning)\n"
     ]
    }
   ],
   "source": [
    "gams = np.linspace(0.01, 0.99, 10)\n",
    "sols = [solve(l1, l2, al1, al2, rho1, rho2, snr, np.array([[1, gam],[gam, 1]])) for gam in gams]"
   ]
  },
  {
   "cell_type": "code",
   "execution_count": 40,
   "metadata": {},
   "outputs": [
    {
     "name": "stdout",
     "output_type": "stream",
     "text": [
      "MU[0][0] = [ 0.02993211 -0.15839194  0.06646006  0.04603509 -0.08880028  0.03150219\n",
      " -0.22090273 -0.12081144  0.01248615 -0.10647655 -0.1521706  -0.03142799\n",
      "  0.19069753 -0.16770682  0.09465905 -0.11005345  0.17352647 -0.0981511\n",
      " -0.08263854  0.07034782  0.01190856  0.0729596  -0.01492945 -0.06596391\n",
      " -0.03128804  0.02436265  0.02240834  0.02209916 -0.01782305  0.14525012\n",
      "  0.02519013 -0.08868027 -0.02156829  0.02153778  0.00103459 -0.10317606\n",
      "  0.18040189  0.08941142 -0.01143003  0.23867695  0.04442674 -0.02568037\n",
      " -0.19316926  0.03895849  0.0290527  -0.01185464  0.07573261 -0.06496643\n",
      "  0.04005629 -0.07913027  0.02439932 -0.00475012 -0.09505636  0.11888735\n",
      "  0.13023752 -0.13756928  0.00122922 -0.05284692 -0.05449404 -0.11411563\n",
      "  0.07101808  0.13340024 -0.10671013  0.00465315  0.05503485 -0.02187191\n",
      "  0.10330394 -0.01861624  0.11293935 -0.14327871  0.07491196  0.19456836\n",
      " -0.04210168 -0.03728157  0.02238086  0.02901932 -0.17554793  0.00411184\n",
      " -0.07508055  0.15236453 -0.09352949  0.07440186 -0.00139181 -0.02259214\n",
      " -0.11594201  0.05861578  0.06393493 -0.02099863  0.07091655 -0.25102213\n",
      " -0.07180876  0.29843455  0.02057945 -0.06004086  0.092291   -0.0961542\n",
      "  0.0355107  -0.00691119  0.07878959  0.12055992]\n",
      "MU[0][1] = [-0.02993211  0.15839194 -0.06646006 -0.04603509  0.08880028 -0.03150219\n",
      "  0.22090273  0.12081144 -0.01248615  0.10647655  0.1521706   0.03142799\n",
      " -0.19069753  0.16770682 -0.09465905  0.11005345 -0.17352647  0.0981511\n",
      "  0.08263854 -0.07034782 -0.01190856 -0.0729596   0.01492945  0.06596391\n",
      "  0.03128804 -0.02436265 -0.02240834 -0.02209916  0.01782305 -0.14525012\n",
      " -0.02519013  0.08868027  0.02156829 -0.02153778 -0.00103459  0.10317606\n",
      " -0.18040189 -0.08941142  0.01143003 -0.23867695 -0.04442674  0.02568037\n",
      "  0.19316926 -0.03895849 -0.0290527   0.01185464 -0.07573261  0.06496643\n",
      " -0.04005629  0.07913027 -0.02439932  0.00475012  0.09505636 -0.11888735\n",
      " -0.13023752  0.13756928 -0.00122922  0.05284692  0.05449404  0.11411563\n",
      " -0.07101808 -0.13340024  0.10671013 -0.00465315 -0.05503485  0.02187191\n",
      " -0.10330394  0.01861624 -0.11293935  0.14327871 -0.07491196 -0.19456836\n",
      "  0.04210168  0.03728157 -0.02238086 -0.02901932  0.17554793 -0.00411184\n",
      "  0.07508055 -0.15236453  0.09352949 -0.07440186  0.00139181  0.02259214\n",
      "  0.11594201 -0.05861578 -0.06393493  0.02099863 -0.07091655  0.25102213\n",
      "  0.07180876 -0.29843455 -0.02057945  0.06004086 -0.092291    0.0961542\n",
      " -0.0355107   0.00691119 -0.07878959 -0.12055992]\n",
      "MU[1][0] = [ 1.57244732e-02 -1.64025170e-01  8.65173637e-02  4.94010733e-02\n",
      " -8.78017408e-02  3.76111481e-02 -2.13662321e-01 -1.05782411e-01\n",
      "  3.82096852e-02 -1.06939107e-01 -1.52372581e-01 -2.34837927e-02\n",
      "  1.79374193e-01 -1.79992797e-01  1.10218421e-01 -9.15607641e-02\n",
      "  1.93638651e-01 -9.24981952e-02 -4.38716595e-02  8.73384692e-02\n",
      "  3.08853781e-02  9.18470501e-02 -1.16199870e-02 -6.14127525e-02\n",
      " -3.31246343e-02  2.72806732e-02  1.76063964e-02  8.98790355e-03\n",
      " -7.04052736e-03  1.25548386e-01  3.51673493e-02 -9.82084707e-02\n",
      " -2.55371294e-02  7.06015008e-03 -2.18163208e-03 -1.04633245e-01\n",
      "  1.90576005e-01  7.85739446e-02 -2.08414061e-02  2.21929276e-01\n",
      "  5.10765708e-02 -2.08997907e-02 -1.77741359e-01  4.40695534e-02\n",
      "  4.00860476e-02 -2.56417123e-02  7.75268026e-02 -7.30923699e-02\n",
      "  2.53588944e-02 -7.02888971e-02 -7.67235994e-03 -2.13547982e-02\n",
      " -6.80166972e-02  1.49705466e-01  1.26487796e-01 -1.24824700e-01\n",
      "  2.75093744e-02 -4.09807994e-02 -5.52187594e-02 -1.13450585e-01\n",
      "  6.70042409e-02  1.46569297e-01 -1.09227179e-01  2.93579195e-02\n",
      "  7.61135396e-02  8.58681016e-03  1.20742125e-01 -1.53215643e-02\n",
      "  1.06950979e-01 -1.39310872e-01  9.43871910e-02  1.95535340e-01\n",
      " -3.37048222e-02 -4.78237397e-02  2.87014133e-02  4.05705577e-02\n",
      " -1.65332397e-01  1.58575082e-02 -7.06326335e-02  1.67999419e-01\n",
      " -8.18799539e-02  7.28414352e-02 -1.97049930e-02 -1.51567021e-02\n",
      " -1.17850926e-01  6.04715198e-02  5.31585388e-02 -4.30862775e-03\n",
      "  3.84561016e-02 -2.40087845e-01 -6.78485340e-02  3.02116419e-01\n",
      " -1.42722835e-02 -5.70360856e-02  1.03266917e-01 -1.07634747e-01\n",
      "  5.02123367e-02  3.90586486e-05  8.40472998e-02  1.13236240e-01]\n",
      "MU[1][1] = [-1.57244732e-02  1.64025170e-01 -8.65173637e-02 -4.94010733e-02\n",
      "  8.78017408e-02 -3.76111481e-02  2.13662321e-01  1.05782411e-01\n",
      " -3.82096852e-02  1.06939107e-01  1.52372581e-01  2.34837927e-02\n",
      " -1.79374193e-01  1.79992797e-01 -1.10218421e-01  9.15607641e-02\n",
      " -1.93638651e-01  9.24981952e-02  4.38716595e-02 -8.73384692e-02\n",
      " -3.08853781e-02 -9.18470501e-02  1.16199870e-02  6.14127525e-02\n",
      "  3.31246343e-02 -2.72806732e-02 -1.76063964e-02 -8.98790355e-03\n",
      "  7.04052736e-03 -1.25548386e-01 -3.51673493e-02  9.82084707e-02\n",
      "  2.55371294e-02 -7.06015008e-03  2.18163208e-03  1.04633245e-01\n",
      " -1.90576005e-01 -7.85739446e-02  2.08414061e-02 -2.21929276e-01\n",
      " -5.10765708e-02  2.08997907e-02  1.77741359e-01 -4.40695534e-02\n",
      " -4.00860476e-02  2.56417123e-02 -7.75268026e-02  7.30923699e-02\n",
      " -2.53588944e-02  7.02888971e-02  7.67235994e-03  2.13547982e-02\n",
      "  6.80166972e-02 -1.49705466e-01 -1.26487796e-01  1.24824700e-01\n",
      " -2.75093744e-02  4.09807994e-02  5.52187594e-02  1.13450585e-01\n",
      " -6.70042409e-02 -1.46569297e-01  1.09227179e-01 -2.93579195e-02\n",
      " -7.61135396e-02 -8.58681016e-03 -1.20742125e-01  1.53215643e-02\n",
      " -1.06950979e-01  1.39310872e-01 -9.43871910e-02 -1.95535340e-01\n",
      "  3.37048222e-02  4.78237397e-02 -2.87014133e-02 -4.05705577e-02\n",
      "  1.65332397e-01 -1.58575082e-02  7.06326335e-02 -1.67999419e-01\n",
      "  8.18799539e-02 -7.28414352e-02  1.97049930e-02  1.51567021e-02\n",
      "  1.17850926e-01 -6.04715198e-02 -5.31585388e-02  4.30862775e-03\n",
      " -3.84561016e-02  2.40087845e-01  6.78485340e-02 -3.02116419e-01\n",
      "  1.42722835e-02  5.70360856e-02 -1.03266917e-01  1.07634747e-01\n",
      " -5.02123367e-02 -3.90586486e-05 -8.40472998e-02 -1.13236240e-01]\n"
     ]
    }
   ],
   "source": [
    "mu = np.random.multivariate_normal(np.zeros(p),np.eye(p))#/np.sqrt(p)\n",
    "mu /= np.linalg.norm(mu)\n",
    "mu_tilde = np.random.multivariate_normal(np.zeros(p),np.eye(p))\n",
    "mu_ortho = mu_tilde - np.dot(mu,mu_tilde)*mu\n",
    "mu_ortho /= np.linalg.norm(mu_ortho)\n",
    "MU = np.zeros((T,2,p))\n",
    "E1 = []\n",
    "E2 = []\n",
    "for gam in gams:\n",
    "    MU[0,0] = -mu\n",
    "    MU[0,1] = mu\n",
    "    MU[1,0] = -(gam*mu + np.sqrt(1-gam**2)*mu_ortho)\n",
    "    MU[1,1] = gam*mu + np.sqrt(1-gam**2)*mu_ortho\n",
    "\n",
    "for i in range(2):\n",
    "    for j in range(2):\n",
    "        print(f\"MU[{i}][{j}] = {MU[i,j]}\")\n",
    "#     E1.append(SSTL_perf.test_perf(p,nl,nu,rho_l,rho_u,gam,0,MU))\n",
    "#     E2.append(SSTL_perf.test_perf(p,nl,nu,rho_l,rho_u,1,1,MU))\n",
    "# E1 = np.array(E1)\n",
    "# E2 = np.array(E2)\n",
    "# E1_naive, E1_opt, E1_alpha = (rho_u[0,0]*E1[:,2]+rho_u[0,1]*E1[:,3])/np.sum(rho_u[0]), (rho_u[0,0]*E1[:,6]+rho_u[0,1]*E1[:,7])/np.sum(rho_u[0]), (rho_u[0,0]*E1[:,10]+rho_u[0,1]*E1[:,11])/np.sum(rho_u[0])\n",
    "# E2_naive, E2_opt, E2_alpha = (rho_u[1,0]*E2[:,2]+rho_u[1,1]*E2[:,3])/np.sum(rho_u[1]), (rho_u[1,0]*E2[:,6]+rho_u[1,1]*E2[:,7])/np.sum(rho_u[1]), (rho_u[1,0]*E2[:,10]+rho_u[1,1]*E2[:,11])/np.sum(rho_u[1])"
   ]
  },
  {
   "cell_type": "code",
   "execution_count": 39,
   "metadata": {},
   "outputs": [
    {
     "name": "stdout",
     "output_type": "stream",
     "text": [
      "[0.333348148312759, 0.3354306372243597, 0.34106422828445193, 0.35033927274227655, 0.36340702510899175, 0.3804859225232103, 0.40187097854488385, 0.4279470689990782, 0.45920727513908643, 0.49627800845397063]\n",
      "[0.2701495794133345, 0.26958960148202504, 0.2680852392456289, 0.26564121257018747, 0.2622646420048801, 0.25796429818061845, 0.25274966556761214, 0.24662990275991853, 0.23961278417661003, 0.23170370441707866]\n"
     ]
    }
   ],
   "source": [
    "q1s = [sol[2] for sol in sols]\n",
    "print(q1s)\n",
    "r1s = [1-rho1*norm.cdf(np.sqrt(q1)-np.log((1-rho1)/rho1)/(2*np.sqrt(q1)))-(1-rho1)*norm.cdf(np.sqrt(q1)+np.log((1-rho1)/rho1)/(2*np.sqrt(q1))) for q1 in q1s]\n",
    "print(r1s)\n",
    "\n",
    "q2s = [sol[3] for sol in sols]\n",
    "r2s = [1-rho2*norm.cdf(np.sqrt(q2)-np.log((1-rho2)/rho2)/(2*np.sqrt(q2)))-(1-rho2)*norm.cdf(np.sqrt(q2)+np.log((1-rho2)/rho2)/(2*np.sqrt(q2))) for q2 in q2s]"
   ]
  },
  {
   "cell_type": "code",
   "execution_count": null,
   "metadata": {},
   "outputs": [],
   "source": []
  },
  {
   "cell_type": "code",
   "execution_count": 29,
   "metadata": {},
   "outputs": [
    {
     "data": {
      "image/png": "[encoded data removed]",
      "text/plain": [
       "<Figure size 720x360 with 1 Axes>"
      ]
     },
     "metadata": {
      "needs_background": "light"
     },
     "output_type": "display_data"
    }
   ],
   "source": [
    "fig, ax = plt.subplots(figsize=(10, 5), tight_layout=True)\n",
    "plt.title(\"Task 1\")\n",
    "#plt.axis((0,1,0.21,0.28))\n",
    "ax.plot(gams, r2s, label = 'Best', color = 'black')\n",
    "# ax.plot(gams, E1_naive, label = 'Naive', color='blue')\n",
    "# ax.plot(gams, E1_opt, label = 'Opti', color='red')\n",
    "# ax.plot(gams, E1_alpha, label = 'Alpha opti', color='green')\n",
    "\n",
    "ax.set_xlabel(r'task correlation ($\\gamma$)', fontsize=20)\n",
    "ax.set_ylabel(r'error', fontsize=20)\n",
    "ax.tick_params(axis='both', labelsize=20)\n",
    "plt.legend()\n",
    "plt.show()"
   ]
  },
  {
   "cell_type": "code",
   "execution_count": 21,
   "metadata": {},
   "outputs": [
    {
     "ename": "NameError",
     "evalue": "name 'E2_naive' is not defined",
     "output_type": "error",
     "traceback": [
      "\u001b[0;31m---------------------------------------------------------------------------\u001b[0m",
      "\u001b[0;31mNameError\u001b[0m                                 Traceback (most recent call last)",
      "\u001b[0;32m<ipython-input-21-2bf195a09c21>\u001b[0m in \u001b[0;36m<module>\u001b[0;34m\u001b[0m\n\u001b[1;32m      3\u001b[0m \u001b[0;31m#plt.axis((0,1,0.21,0.28))\u001b[0m\u001b[0;34m\u001b[0m\u001b[0;34m\u001b[0m\u001b[0;34m\u001b[0m\u001b[0m\n\u001b[1;32m      4\u001b[0m \u001b[0max\u001b[0m\u001b[0;34m.\u001b[0m\u001b[0mplot\u001b[0m\u001b[0;34m(\u001b[0m\u001b[0mgams\u001b[0m\u001b[0;34m,\u001b[0m \u001b[0mr1s\u001b[0m\u001b[0;34m,\u001b[0m \u001b[0mlabel\u001b[0m \u001b[0;34m=\u001b[0m \u001b[0;34m'Best'\u001b[0m\u001b[0;34m,\u001b[0m \u001b[0mcolor\u001b[0m \u001b[0;34m=\u001b[0m \u001b[0;34m'black'\u001b[0m\u001b[0;34m)\u001b[0m\u001b[0;34m\u001b[0m\u001b[0;34m\u001b[0m\u001b[0m\n\u001b[0;32m----> 5\u001b[0;31m \u001b[0max\u001b[0m\u001b[0;34m.\u001b[0m\u001b[0mplot\u001b[0m\u001b[0;34m(\u001b[0m\u001b[0mgams\u001b[0m\u001b[0;34m,\u001b[0m \u001b[0mE2_naive\u001b[0m\u001b[0;34m,\u001b[0m \u001b[0mlabel\u001b[0m \u001b[0;34m=\u001b[0m \u001b[0;34m'Naive'\u001b[0m\u001b[0;34m,\u001b[0m \u001b[0mcolor\u001b[0m\u001b[0;34m=\u001b[0m\u001b[0;34m'blue'\u001b[0m\u001b[0;34m)\u001b[0m\u001b[0;34m\u001b[0m\u001b[0;34m\u001b[0m\u001b[0m\n\u001b[0m\u001b[1;32m      6\u001b[0m \u001b[0max\u001b[0m\u001b[0;34m.\u001b[0m\u001b[0mplot\u001b[0m\u001b[0;34m(\u001b[0m\u001b[0mgams\u001b[0m\u001b[0;34m,\u001b[0m \u001b[0mE2_opt\u001b[0m\u001b[0;34m,\u001b[0m \u001b[0mlabel\u001b[0m \u001b[0;34m=\u001b[0m \u001b[0;34m'Opti'\u001b[0m\u001b[0;34m,\u001b[0m \u001b[0mcolor\u001b[0m\u001b[0;34m=\u001b[0m\u001b[0;34m'red'\u001b[0m\u001b[0;34m)\u001b[0m\u001b[0;34m\u001b[0m\u001b[0;34m\u001b[0m\u001b[0m\n\u001b[1;32m      7\u001b[0m \u001b[0max\u001b[0m\u001b[0;34m.\u001b[0m\u001b[0mplot\u001b[0m\u001b[0;34m(\u001b[0m\u001b[0mgams\u001b[0m\u001b[0;34m,\u001b[0m \u001b[0mE2_alpha\u001b[0m\u001b[0;34m,\u001b[0m \u001b[0mlabel\u001b[0m \u001b[0;34m=\u001b[0m \u001b[0;34m'Alpha opti'\u001b[0m\u001b[0;34m,\u001b[0m \u001b[0mcolor\u001b[0m\u001b[0;34m=\u001b[0m\u001b[0;34m'green'\u001b[0m\u001b[0;34m)\u001b[0m\u001b[0;34m\u001b[0m\u001b[0;34m\u001b[0m\u001b[0m\n",
      "\u001b[0;31mNameError\u001b[0m: name 'E2_naive' is not defined"
     ]
    },
    {
     "data": {
      "image/png": "[encoded data removed]",
      "text/plain": [
       "<Figure size 720x360 with 1 Axes>"
      ]
     },
     "metadata": {
      "needs_background": "light"
     },
     "output_type": "display_data"
    }
   ],
   "source": [
    "fig, ax = plt.subplots(figsize=(10, 5), tight_layout=True)\n",
    "plt.title(\"Task 2\")\n",
    "#plt.axis((0,1,0.21,0.28))\n",
    "ax.plot(gams, r1s, label = 'Best', color = 'black')\n",
    "ax.plot(gams, E2_naive, label = 'Naive', color='blue')\n",
    "ax.plot(gams, E2_opt, label = 'Opti', color='red')\n",
    "ax.plot(gams, E2_alpha, label = 'Alpha opti', color='green') \n",
    "\n",
    "ax.set_xlabel(r'task correlation ($\\gamma$)', fontsize=20)\n",
    "ax.set_ylabel(r'error', fontsize=20)\n",
    "ax.tick_params(axis='both', labelsize=20)\n",
    "plt.legend()\n",
    "plt.show()"
   ]
  },
  {
   "cell_type": "markdown",
   "metadata": {},
   "source": [
    "# Unsupervised learning and Phase transition"
   ]
  },
  {
   "cell_type": "code",
   "execution_count": 13,
   "metadata": {},
   "outputs": [],
   "source": [
    "# unsupervised case\n",
    "l1 = 0\n",
    "l2 = 0\n",
    "al1 = 1\n",
    "al2 = 1\n",
    "rho1 = 0.5\n",
    "rho2 = 0.5\n",
    "gam = 0 \n",
    "Gam = np.array([[1, gam],[gam, 1]])"
   ]
  },
  {
   "cell_type": "markdown",
   "metadata": {},
   "source": [
    "<font color='red'>  The error when running fsolve might be eliminated when the search for the solution is restricted in the domain $[0,1]^4$ but it seems that fsolve does not support solving an equation over a domain </font>"
   ]
  },
  {
   "cell_type": "code",
   "execution_count": 14,
   "metadata": {},
   "outputs": [
    {
     "name": "stderr",
     "output_type": "stream",
     "text": [
      "/home/victor/anaconda3/lib/python3.7/site-packages/ipykernel_launcher.py:14: RuntimeWarning: invalid value encountered in sqrt\n",
      "  \n",
      "/home/victor/anaconda3/lib/python3.7/site-packages/ipykernel_launcher.py:15: RuntimeWarning: invalid value encountered in sqrt\n",
      "  from ipykernel import kernelapp as app\n",
      "/home/victor/anaconda3/lib/python3.7/site-packages/ipykernel_launcher.py:10: IntegrationWarning: The occurrence of roundoff error is detected, which prevents \n",
      "  the requested tolerance from being achieved.  The error may be \n",
      "  underestimated.\n",
      "  # Remove the CWD from sys.path while we load stuff.\n"
     ]
    }
   ],
   "source": [
    "# unsupervised learning, error vs snr\n",
    "snrs = np.linspace(0.01, 5, 50)\n",
    "sols = [solve(l1, l2, al1, al2, rho1, rho2, snr, Gam) for snr in snrs]"
   ]
  },
  {
   "cell_type": "code",
   "execution_count": 15,
   "metadata": {},
   "outputs": [
    {
     "data": {
      "image/png": "[encoded data removed]",
      "text/plain": [
       "<Figure size 720x360 with 1 Axes>"
      ]
     },
     "metadata": {
      "needs_background": "light"
     },
     "output_type": "display_data"
    }
   ],
   "source": [
    "qs = [sol[2] for sol in sols]\n",
    "risks = [1-norm.cdf(np.sqrt(qs[i])*snrs[i]) for i in range(len(qs))]\n",
    "\n",
    "fig, ax = plt.subplots(figsize=(10, 5), tight_layout=True)\n",
    "ax.plot(snrs, risks, label = 'Task 1', color = 'red')\n",
    "\n",
    "ax.set_xlabel(r'SNR ($1/\\sigma^2$)', fontsize=20)\n",
    "ax.set_ylabel(r'error', fontsize=20)\n",
    "ax.tick_params(axis='both', labelsize=20)\n",
    "plt.legend()\n",
    "plt.show()"
   ]
  }
 ],
 "metadata": {
  "kernelspec": {
   "display_name": "Python 3",
   "language": "python",
   "name": "python3"
  },
  "language_info": {
   "codemirror_mode": {
    "name": "ipython",
    "version": 3
   },
   "file_extension": ".py",
   "mimetype": "text/x-python",
   "name": "python",
   "nbconvert_exporter": "python",
   "pygments_lexer": "ipython3",
   "version": "3.7.10"
  }
 },
 "nbformat": 4,
 "nbformat_minor": 4
}
