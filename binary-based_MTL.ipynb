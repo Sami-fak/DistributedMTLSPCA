{
 "cells": [
  {
   "cell_type": "code",
   "execution_count": 1,
   "metadata": {},
   "outputs": [],
   "source": [
    "%matplotlib inline\n",
    "import numpy as np\n",
    "import matplotlib.pyplot as plt\n",
    "from sklearn.model_selection import train_test_split"
   ]
  },
  {
   "cell_type": "code",
   "execution_count": 2,
   "metadata": {},
   "outputs": [],
   "source": [
    "def matprint(mat, fmt=\"g\"):\n",
    "    \"\"\"\n",
    "    Pour une un print plus clair de la matrice\n",
    "    https://gist.github.com/braingineer/d801735dac07ff3ac4d746e1f218ab75\n",
    "    \"\"\"\n",
    "    col_maxes = [max([len((\"{:\"+fmt+\"}\").format(x)) for x in col]) for col in mat.T]\n",
    "    for x in mat:\n",
    "        for i, y in enumerate(x):\n",
    "            print((\"{:\"+str(col_maxes[i])+fmt+\"}\").format(y), end=\"  \")\n",
    "        print(\"\")"
   ]
  },
  {
   "cell_type": "markdown",
   "metadata": {},
   "source": [
    "# Table of contents\n",
    "* [Algorithme non distribué 2 taches 2 classes](#Algorithme-non-distribué-2-taches-2-classes)\n",
    "     * [1ère étape: Calcul des moyennes empiriques](#1ère-étape)\n",
    "     * [2ème étape: Estimation de $c$ et de $\\mathcal{M}$](#2ème-étape)\n",
    "     * [3ème étape: Calcul des labels optimaux](#3ème-étape)\n",
    "     * [4ème étape: Estimation des $m_{tj}$](#4ème-étape)\n",
    "     * [5ème étape: Calcul de $V$](#5ème-étape)\n",
    "     * [6ème étape: Evaluation et calcul d'erreur](#6ème-étape)\n",
    "* [2-class Gaussian mixture transfer](#2-class-Gaussian-mixture-transfer-(c.f.-Figure-2))\n",
    "* [Adding Tasks](#Adding-tasks)\n",
    "* [Algorithme distribué 2-tâches 2-classes](#Algorithme-distribué-2-tâches-2-classes)\n",
    "     * [Serveur isolé](#Serveur-isolé)\n",
    "* [Distributively adding tasks](#Distributively-adding-tasks)\n",
    "     * [Working with real data](#Real-Data)\n",
    "* [Optimalité](#Optimalité)\n",
    "* [Algorithme distribué k-tâches 2-classes](#Algorithme-distribué-k-tâches-m-classes)\n",
    "     "
   ]
  },
  {
   "cell_type": "markdown",
   "metadata": {},
   "source": [
    "Créons des données synthétiques gaussiennes. Ici nous nous intéresserons dans un premier temps au cas où $m=2$. (Binary MTL Supervised Principal Component Analysis) "
   ]
  },
  {
   "cell_type": "markdown",
   "metadata": {},
   "source": [
    "# Algorithme non distribué 2 taches 2 classes\n",
    "Fonctions pour générer des données synthétiques gaussiennes"
   ]
  },
  {
   "cell_type": "code",
   "execution_count": 3,
   "metadata": {},
   "outputs": [],
   "source": [
    "def mean_random_matrix(m, k, p, l, h, random_seed=42):\n",
    "    \"\"\"\n",
    "    Retourne une matrice M de taille pxm*k contenant\n",
    "    les moyennes de chaque composante de chaque vecteur aléatoire\n",
    "    pour l'instant les moyennes sont tirées aléatoirement \n",
    "    suivant la loi uniforme sur l, h (pas convaincu par ce choix)\n",
    "    m est le nombre de classes\n",
    "    k est le nombre de taches\n",
    "    p est le nombre de features\n",
    "    \"\"\"\n",
    "    np.random.seed(random_seed)\n",
    "    M = []\n",
    "    tmp = []\n",
    "    for task in range(k):\n",
    "        tmp = []\n",
    "        for classe in range(m):\n",
    "            # on crée un vecteur de moyennes égales pour chaque classes\n",
    "            # de sorte à créer des classes gravitant autour d'une meme moyenne\n",
    "            tmp.append(np.ones((p,1))*np.random.uniform(low = 0.0, high = h))\n",
    "        M.append(tmp)\n",
    "    return M"
   ]
  },
  {
   "cell_type": "code",
   "execution_count": 4,
   "metadata": {},
   "outputs": [],
   "source": [
    "def mean_matrix(p, beta=None, k=2, m=2, random_seed=42, random=False):\n",
    "    \"\"\"\n",
    "    Crée des vecteurs de moyennes en respectant les conditions de non trivialité \n",
    "    retourne un tableau contenant k tableaux de m moyennes.\n",
    "    beta est le paramètre de task relatedness. Si beta n'est pas précisé, il est tiré au hasard uniformément sur [0,1] pour chaque t.\n",
    "    k=2, m=2 par défaut\n",
    "    \"\"\"\n",
    "    np.random.seed(random_seed)\n",
    "    mu = np.zeros((p,1))\n",
    "    mu[0]= 1\n",
    "    mu_ortho = np.zeros((p,1))\n",
    "    mu_ortho[1] = 1\n",
    "    \n",
    "    M = []\n",
    "    classes = []\n",
    "    for l in range(m):\n",
    "        classes.append((-1)**l*mu)\n",
    "    M.append(classes)\n",
    "    \n",
    "    for t in range(1, k):\n",
    "        if random:\n",
    "            print(\"random\")\n",
    "            beta = np.random.uniform(0, 1)\n",
    "            print(\"beta\", beta)\n",
    "        mu_t = beta*mu+np.sqrt(1-beta**2)*mu_ortho\n",
    "        classes = []\n",
    "        for l in range(m):\n",
    "            classes.append((-1)**l*mu_t)\n",
    "        M.append(classes)\n",
    "    return M"
   ]
  },
  {
   "cell_type": "code",
   "execution_count": 5,
   "metadata": {},
   "outputs": [],
   "source": [
    "def gaussian_synthetic_data(n, p, m, t, n_t, M, random_seed=42):\n",
    "    \"\"\"\n",
    "    Renvoie un tableau de données synthétiques gaussiennes. X[0] accède aux données de la premiere tache.\n",
    "    X[0][1] accede aux données de la deuxieme classe de la premiere tache.\n",
    "    (vecteurs gaussiens de taille n_j * p tq sum(n_j for j) = n)\n",
    "    à partir du nombre d'échantillons n de taille p et du nombre de classe m.\n",
    "    t est le nombre de tâches\n",
    "    n_t est un vecteur comprenant les différentes valeurs n_j pour chaque task\n",
    "    M est la matrice des moyennes de chaque composante \n",
    "    de chaque vecteur aléatoire\n",
    "    \"\"\"\n",
    "    # assert(sum(n_j)/n==1\n",
    "    \n",
    "    np.random.seed(random_seed)\n",
    "    X = []\n",
    "    tmp = []\n",
    "    y_test = []\n",
    "    for task in range(t):\n",
    "        # pour une tache on a m classes\n",
    "        tmp = []\n",
    "        for k in range(m):\n",
    "            X_k = np.empty((n_t[task][k], p))\n",
    "            # on prendra la transposée a la fin\n",
    "#             print( n_t[task][k])\n",
    "            for j in range(n_t[task][k]):\n",
    "                # on crée n_j[task][k] vecteurs aléatoires de taille 1xp\n",
    "                # std = 1?\n",
    "                # comment utiliser des vecteurs de moyennes pour générer les données ?\n",
    "                mean = np.reshape(M[task][k], p)\n",
    "                X_k[j] = np.random.multivariate_normal(mean, np.identity(p))\n",
    "                y_test.append(k)\n",
    "            X_k = np.transpose(X_k)\n",
    "            #print(k)\n",
    "            tmp.append(X_k)\n",
    "            # print(\"tmp = \", tmp)\n",
    "        X.append(tmp)\n",
    "            \n",
    "    return X, y_test"
   ]
  },
  {
   "cell_type": "markdown",
   "metadata": {},
   "source": [
    "## 1ère étape\n",
    "Calcul des moyennes empiriques, et calcul de la matrice $M\\in\\mathbb{R}^{p\\times 2k}$\n",
    "$$\\frac{1}{n_{tj}}X_{tj}\\mathbb{1}_{n_{tj}}=\\frac{1}{n_{tj}}\\sum_{l=1}^{n_{tj}}x_{tl}^{(j)}$$"
   ]
  },
  {
   "cell_type": "code",
   "execution_count": 6,
   "metadata": {},
   "outputs": [],
   "source": [
    "def empirical_mean(nb_tasks, nb_classes, X, p, n_t, display=False):\n",
    "    \"\"\"\n",
    "    Retourne la matrice M avec les produits scalaires croisés\n",
    "    cf. Remark 1\n",
    "    \"\"\"\n",
    "    \n",
    "    M = np.empty((nb_tasks*nb_classes, nb_tasks*nb_classes)) # ici 4x4\n",
    "    for i in range(nb_tasks):\n",
    "        for j in range(nb_classes):\n",
    "            for k in range(nb_tasks):\n",
    "                for l in range(nb_classes):\n",
    "                    if i == k and j == l:\n",
    "                        moitie = int(n_t[i][j]/2)\n",
    "#                         print(\"DEBUG diagonal\")\n",
    "#                         print(f\"i = {i}, j = {j}\")\n",
    "#                         print(i*nb_classes+j, i*nb_classes+j)\n",
    "#                         print(\"moitie : \", moitie)\n",
    "                        \n",
    "                        M[i*nb_classes+j][i*nb_classes+j] = np.ones((moitie, 1)).T@X[i][j].T[:moitie]@X[i][j].T[moitie:].T@np.ones((moitie))\n",
    "                        M[i*nb_classes+j][i*nb_classes+j] /= moitie**2\n",
    "                    else:\n",
    "#                         print(i*nb_classes+j, k*nb_classes+l)\n",
    "#                         print(i, j, k, l)\n",
    "                        M[i*nb_classes+j][k*nb_classes+l] = np.ones((n_t[i][j], 1)).T@X[i][j].T@X[k][l]@np.ones((n_t[k][l]))\n",
    "                        M[i*nb_classes+j][k*nb_classes+l] /= n_t[i][j]*n_t[k][l]\n",
    "    \n",
    "    if display:\n",
    "        for t in range(nb_tasks):\n",
    "            for l in range(nb_classes):\n",
    "                print(f\"class {t*nb_classes+l} empirical mean = {np.mean(M[t*nb_classes+l])}\")\n",
    "                \n",
    "    return M"
   ]
  },
  {
   "cell_type": "code",
   "execution_count": 7,
   "metadata": {},
   "outputs": [],
   "source": [
    "def true_mean(M, p, nb_tasks, nb_classes):\n",
    "    \"\"\"\n",
    "    Retourne un ndarray contenant les vraies moyennes avec lequel on peut travailler\n",
    "    \"\"\"\n",
    "    true_M = np.empty((nb_tasks*nb_classes, p))\n",
    "    for t in range(nb_tasks):\n",
    "        for l in range(nb_classes):\n",
    "            mean = np.reshape(M[t][l], (p,))\n",
    "            true_M[t*nb_classes+l] = mean\n",
    "\n",
    "    return np.transpose(true_M)"
   ]
  },
  {
   "cell_type": "code",
   "execution_count": 8,
   "metadata": {},
   "outputs": [],
   "source": [
    "# utile pour les puissances négatives\n",
    "def power_diagonal_matrix(D, exponent):\n",
    "    diag = np.zeros(len(D))\n",
    "    for i in range(len(D)):\n",
    "        diag[i] = D[i][i]**exponent\n",
    "    \n",
    "    return np.diag(diag)"
   ]
  },
  {
   "cell_type": "markdown",
   "metadata": {},
   "source": [
    "## 2ème étape\n",
    "Estimer $c$ et $\\mathcal{M}\\in\\mathbb{R}^{2k\\times 2k}$. \n",
    "$c=\\left[ c_{11},\\ldots,c_{km} \\right]^T\\in\\mathbb{R}^{km}$"
   ]
  },
  {
   "cell_type": "code",
   "execution_count": 9,
   "metadata": {},
   "outputs": [],
   "source": [
    "def estimate_c(n_t, n, nb_tasks, nb_classes):\n",
    "    \"\"\"\n",
    "    Estime le vecteur c en divisant n_t[nb_tasks][nb_classes]/n\n",
    "    \"\"\"\n",
    "    c = np.empty(nb_tasks*nb_classes)\n",
    "    for task in range(nb_tasks):\n",
    "        for m in range(nb_classes):\n",
    "            c[task*nb_classes+m]=n_t[task][m]/n\n",
    "            \n",
    "    return c"
   ]
  },
  {
   "cell_type": "code",
   "execution_count": 10,
   "metadata": {},
   "outputs": [],
   "source": [
    "def compute_M_cal(n,p,Dc,MM, k=2, display=False):\n",
    "    \"\"\"\n",
    "    renvoie la matrice M cursive estimée.\n",
    "    O(2*k)\n",
    "    \"\"\"\n",
    "    c0 = k*p/n\n",
    "    correlation_matrix = 1/c0*np.power(Dc, 1/2)@MM@np.power(Dc, 1/2)\n",
    "    if display==True:\n",
    "        plt.imshow(correlation_matrix)\n",
    "        plt.show()\n",
    "    return correlation_matrix"
   ]
  },
  {
   "cell_type": "markdown",
   "metadata": {},
   "source": [
    "## 3ème étape\n",
    "Let's compute optimal labels"
   ]
  },
  {
   "cell_type": "code",
   "execution_count": 11,
   "metadata": {},
   "outputs": [],
   "source": [
    "# a revoir ?\n",
    "\n",
    "def label_evaluation(nb_tasks, nb_classes, Dc, M_estimated, c0, task_target=None):\n",
    "    \"\"\"\n",
    "    Evalue le label y pour une tache t pour 2 classes\n",
    "    task_target=None par défaut, permet de choisir la tâche target en cas d'algo distribué.\n",
    "    \"\"\"\n",
    "    inverse = np.linalg.inv(M_estimated+np.identity(nb_classes*nb_tasks))\n",
    "    # 0(16*k^3)\n",
    "    power_dc = power_diagonal_matrix(Dc, -1/2)\n",
    "    # O(2*k)\n",
    "    y = np.zeros((nb_tasks*nb_classes, 1))\n",
    "    e3_e4 = np.zeros((nb_tasks*nb_classes,1))\n",
    "    if task_target is not None:\n",
    "        e3_e4[2*task_target] = 1\n",
    "        e3_e4[2*task_target+1] = -1\n",
    "    else:\n",
    "        e3_e4[-2] = 1\n",
    "        e3_e4[-1] = -1\n",
    "    tilde_y=np.linalg.solve((Dc+Dc@M_estimated@Dc*1/c0),(Dc*1/c0@M_estimated@(e3_e4)))\n",
    "    # O(8*k^3)\n",
    "    return tilde_y\n",
    "#malik's formula:\n",
    "#tilde_y=(diag(c)*MM*diag(c)/co+diag(c))\\((e3-e4)'*MM*diag(c))';"
   ]
  },
  {
   "cell_type": "markdown",
   "metadata": {},
   "source": [
    "## 4ème étape\n",
    "Estimation des $m_{tj}$, étant les $k\\times m$ moyennes estimées pour modéliser nos données."
   ]
  },
  {
   "cell_type": "code",
   "execution_count": 12,
   "metadata": {},
   "outputs": [],
   "source": [
    "def asymptotic_mean(nb_tasks, nb_classes, y_tilde, Dc, correlation_matrix, t, j):\n",
    "    \"\"\"\n",
    "    compute asymptotic mean m_tj\n",
    "    t current task\n",
    "    j current class\n",
    "    \"\"\"\n",
    "    y_transpose = np.transpose(y_tilde)\n",
    "    etj = np.zeros((nb_tasks*nb_classes, 1))\n",
    "    etj[t*nb_classes+j] = 1\n",
    "    power_dc = power_diagonal_matrix(Dc, -1/2)\n",
    "    # Dc^1/2 ou Dc^{-1/2} ?\n",
    "    m_tj = y_transpose.dot(np.power(Dc, 1/2)).dot(correlation_matrix).dot(power_dc).dot(etj)\n",
    "    m_tj /= np.sqrt(y_transpose.dot(np.power(Dc, 1/2).dot(correlation_matrix).dot(np.power(Dc, 1/2)) + Dc).dot(y_tilde))\n",
    "    return m_tj[0][0]"
   ]
  },
  {
   "cell_type": "markdown",
   "metadata": {},
   "source": [
    "## 5ème étape\n",
    "Calcul de $V$ le sous-espace engendrés par les $\\tau$ plus grands vecteurs propres. Dans le cas du binary MTL-SPCA, $V=\\frac{Xy}{\\lVert Xy \\rVert}=\\frac{XJ\\tilde{y}}{\\lVert XJ\\tilde{y} \\rVert}\\in\\mathbb{R}^{p\\times1}$, avec $J\\in\\mathbb{R}^{n\\times km}$"
   ]
  },
  {
   "cell_type": "code",
   "execution_count": 13,
   "metadata": {},
   "outputs": [],
   "source": [
    "def aggregate_array(X, p, n, nb_tasks, nb_classes):\n",
    "    X_aggregated = np.empty((p, n))\n",
    "    class_1 = X[0][0]\n",
    "    for t in range(nb_tasks):\n",
    "        for l in range(nb_classes):\n",
    "            if t==0 and l==0:\n",
    "                continue\n",
    "            class_1 = np.append(class_1, X[t][l], 1)\n",
    "    X_aggregated = class_1\n",
    "    return X_aggregated"
   ]
  },
  {
   "cell_type": "markdown",
   "metadata": {},
   "source": [
    "$V=\\frac{Xy}{\\lVert Xy \\rVert}=\\frac{XJ\\tilde{y}}{\\lVert XJ\\tilde{y} \\rVert}$"
   ]
  },
  {
   "cell_type": "code",
   "execution_count": 14,
   "metadata": {},
   "outputs": [],
   "source": [
    "def create_J(nb_classes, nb_tasks, n, n_t):\n",
    "    # enlever paramètre n\n",
    "    left = 0\n",
    "    beg = 0\n",
    "    for i in range(nb_tasks):\n",
    "        left += int(sum(n_t[i]))\n",
    "    J = np.zeros((left, nb_tasks*nb_classes))\n",
    "    #matprint(J)\n",
    "    for t in range(nb_tasks):\n",
    "        for j in range(nb_classes):\n",
    "            for i in range(beg, beg+n_t[t][j]):\n",
    "                J[i][t*nb_classes+j] = 1\n",
    "            beg += n_t[t][j]\n",
    "    return J"
   ]
  },
  {
   "cell_type": "code",
   "execution_count": 15,
   "metadata": {},
   "outputs": [],
   "source": [
    "def compute_V_old(y_tilde, X, J):\n",
    "    \"\"\"\n",
    "    Utilise la formule explicite de V pour la classification binaire\n",
    "    \"\"\"\n",
    "    xy_product = X.dot(J).dot(y_tilde)\n",
    "    return xy_product/np.linalg.norm(xy_product)\n",
    "\n",
    "def compute_V(y, X, J, n):\n",
    "    \"\"\"\n",
    "    Recalcule V (calcul vecteur propre)\n",
    "    Vstar dans le fichier matlab\n",
    "    Division par p, si les X pas normalisé ?\n",
    "    wtf is wrong with V? \n",
    "    \"\"\"\n",
    "    #X*J*(tilde_y*tilde_y')*J'*X'/n\n",
    "    #print(X.shape)\n",
    "    eigenvalue, V = np.linalg.eig(X.dot(J).dot((y).dot(y.T)).dot(J.T).dot(X.T)/(n))\n",
    "    maximum = eigenvalue[0]\n",
    "    idx_larg = 0\n",
    "    # retrieve the index of the largest eigenvalue\n",
    "    for idx, value in enumerate(eigenvalue):\n",
    "        if value > maximum:\n",
    "            maximum = value\n",
    "            idx_larg = idx\n",
    "    \n",
    "    largest_eigenvalue = np.sort(eigenvalue.real)[-1]\n",
    "    return V.T[idx_larg].real"
   ]
  },
  {
   "cell_type": "markdown",
   "metadata": {},
   "source": [
    "## 6ème étape\n",
    "Evaluation de nouvelles données $\\mathbf{x}$ : \n",
    "$V^T\\mathbf{x}$\n",
    "\n",
    "On utilise les données du test set $X\\_test$. On obtient de très mauvais résultats"
   ]
  },
  {
   "cell_type": "code",
   "execution_count": 16,
   "metadata": {},
   "outputs": [],
   "source": [
    "def create_mt(t, m, y, Dc, correlation_matrix):\n",
    "    m_t = []\n",
    "    for k in range(t):\n",
    "        m_tj = []\n",
    "        for l in range(m):\n",
    "            m_tj.append(asymptotic_mean(t, m, y, Dc, correlation_matrix, k, l))\n",
    "        m_t.append(m_tj)\n",
    "\n",
    "    return m_t"
   ]
  },
  {
   "cell_type": "code",
   "execution_count": 17,
   "metadata": {},
   "outputs": [],
   "source": [
    "def compute_score(V, x, m_t):\n",
    "    \"\"\"\n",
    "    x vecteur aléatoire que l'on veut classifier\n",
    "    On compare V^Tx à la moyenne des moyennes estimées pour les deux classes de la tache t\n",
    "    \"\"\"\n",
    "    x_projection = np.transpose(V).dot(x)\n",
    "    average_mean = 1/2*(m_t[0] + m_t[1])\n",
    "    return (1 if x_projection > 0 else -1) "
   ]
  },
  {
   "cell_type": "code",
   "execution_count": 18,
   "metadata": {},
   "outputs": [],
   "source": [
    "from scipy import special as sp\n",
    "def qfunc(x):\n",
    "    return 0.5-0.5*sp.erf(x/np.sqrt(2))"
   ]
  },
  {
   "cell_type": "code",
   "execution_count": 19,
   "metadata": {},
   "outputs": [],
   "source": [
    "def error_rate(nb_tasks, nb_classes, Dc, M_cur, c0, task_target=1):\n",
    "    e3 = np.zeros((nb_tasks*nb_classes, 1))\n",
    "    e3[2*task_target] = 1\n",
    "    power_dc = power_diagonal_matrix(Dc, -1/2)\n",
    "    inv = np.linalg.inv(M_cur+np.identity(nb_tasks*nb_classes))\n",
    "    print(\"arg q-func : \")\n",
    "    print(e3.T.dot(M_cur).dot(Dc).dot(np.linalg.inv(Dc.dot(M_cur).dot(Dc)+c0*Dc)).dot(Dc).dot(M_cur).dot(e3))\n",
    "    return qfunc(np.sqrt(e3.T.dot(M_cur).dot(Dc).dot(np.linalg.inv(Dc.dot(M_cur).dot(Dc)+c0*Dc)).dot(Dc).dot(M_cur).dot(e3)))\n",
    "    #return qfunc(1/2*np.sqrt(et_trans.dot(power_dc).dot(M_cur).dot(inv).dot(M_cur).dot(power_dc).dot(et1_et2)))\n",
    "#erfc(sqrt(e3'*MM*diag(c)*inv((diag(c)*MM*diag(c)+diag(co*c/k)))*diag(c)*MM*e3)/(sqrt(2)))/2;"
   ]
  },
  {
   "cell_type": "code",
   "execution_count": 20,
   "metadata": {},
   "outputs": [],
   "source": [
    "def plot_error_rate(nb_tasks, nb_classes, emp_rate, error_rate, m_t, Dc, M_cur):\n",
    "    plt.scatter(1, emp_rate, label=\"empirical error\")\n",
    "    plt.scatter(1, [error_rate(m_t[1], nb_tasks, nb_classes, Dc, M_cur)], label=\"theoritical error\")\n",
    "    plt.grid()\n",
    "    plt.ylim((0,1))\n",
    "    plt.xlim((-0.5, 0.5))\n",
    "    plt.legend()\n",
    "    plt.title(f\"Classification error rate per task\")\n",
    "    plt.show()"
   ]
  },
  {
   "cell_type": "code",
   "execution_count": 21,
   "metadata": {},
   "outputs": [],
   "source": [
    "def compute_error_rate(X_test, V, m_t, nb_tasks, nb_classes, n_t, Dc, c0, task_target=1):\n",
    "    \"\"\"\n",
    "    Compute and plot classification error rate on test set\n",
    "    \"\"\"\n",
    "#     print(\"mt1= \\n\", m_t[1])\n",
    "    emp_rate = []\n",
    "    error = 0\n",
    "    ni = 0\n",
    "    error = 0\n",
    "    for t in range(nb_tasks):\n",
    "        \n",
    "        ni += sum(n_t[t])\n",
    "        for l in range(nb_classes):\n",
    "            for i in range(n_t[t][l]):\n",
    "                # on prend la transposée pour pouvoir travailler avec les colonnes\n",
    "                score = compute_score(V, X_test[t][l].T[i], m_t[task_target])\n",
    "                if (score == 1 and l == 1):\n",
    "                    error +=1\n",
    "                elif (score == -1 and l == 0):\n",
    "                    error +=1\n",
    "        \n",
    "    erreur_emp = error/ni\n",
    "\n",
    "    if erreur_emp > 0.5:\n",
    "        erreur_emp=1-erreur_emp\n",
    "    emp_rate.append(erreur_emp)\n",
    "    return np.mean(emp_rate)"
   ]
  },
  {
   "cell_type": "code",
   "execution_count": 22,
   "metadata": {},
   "outputs": [],
   "source": [
    "def debug_histogram(V, X_test, n_t):\n",
    "    \"\"\"\n",
    "    Trace l'histogramme de V^T*x_1 et V^T*x_2.\n",
    "    \"\"\"\n",
    "#     print(X1[0][0])\n",
    "#     print(n_t[0][0])\n",
    "    alpha = 0.5\n",
    "    bins = 20\n",
    "    plt.hist(V.T.dot(X_test.T[:n_t[0][0]].T), bins = bins, alpha=alpha, label=r\"$C_1$\")\n",
    "    plt.hist(V.T.dot(X_test.T[n_t[0][0]:].T), bins = bins, alpha=alpha, label=r\"$C_2$\")\n",
    "    plt.title(r\"Histogramme des données de tests projetées sur $V$ : $V^Tx_j$\")\n",
    "    plt.legend()\n",
    "    plt.show()"
   ]
  },
  {
   "cell_type": "markdown",
   "metadata": {},
   "source": [
    "# 2-class Gaussian mixture transfer (c.f. Figure 2)"
   ]
  },
  {
   "cell_type": "code",
   "execution_count": 23,
   "metadata": {},
   "outputs": [],
   "source": [
    "from time import time\n",
    "plt.style.use('seaborn-dark-palette')"
   ]
  },
  {
   "cell_type": "code",
   "execution_count": 95,
   "metadata": {
    "scrolled": true
   },
   "outputs": [
    {
     "name": "stdout",
     "output_type": "stream",
     "text": [
      "MM : \n",
      "\n",
      "  0.951924  -0.969539   0.222138  -0.0517376  \n",
      " -0.969539    1.00123  -0.219693   0.0715974  \n",
      "  0.222138  -0.219693    1.52612    -1.39989  \n",
      "-0.0517376  0.0715974   -1.39989    0.884869  \n",
      "10   0    0    0  \n",
      " 0  10    0    0  \n",
      " 0   0  0.5    0  \n",
      " 0   0    0  0.5  \n",
      "[2.300737149784409, 1.9436007692700659]\n",
      "c : \n",
      "[0.47619048 0.47619048 0.02380952 0.02380952]\n"
     ]
    },
    {
     "data": {
      "image/png": "[encoded data removed]",
      "text/plain": [
       "<Figure size 432x288 with 1 Axes>"
      ]
     },
     "metadata": {
      "needs_background": "light"
     },
     "output_type": "display_data"
    },
    {
     "name": "stdout",
     "output_type": "stream",
     "text": [
      "   4.75962    -4.8477   0.248358  -0.0578444  \n",
      "   -4.8477    5.00614  -0.245624   0.0800484  \n",
      "  0.248358  -0.245624    0.38153   -0.349971  \n",
      "-0.0578444  0.0800484  -0.349971    0.221217  \n",
      "MM True = \n",
      "[[ 1. -1.  0.  0.]\n",
      " [-1.  1.  0.  0.]\n",
      " [ 0.  0.  1. -1.]\n",
      " [ 0.  0. -1.  1.]]\n",
      " 5  -5      0      0  \n",
      "-5   5      0      0  \n",
      " 0   0   0.25  -0.25  \n",
      " 0   0  -0.25   0.25  \n",
      "c0 :  0.047619047619047616\n",
      "y = \n",
      "0.0503393  \n",
      "-0.180788  \n",
      "  26.5069  \n",
      " -20.2928  \n",
      "y true = \n",
      "  0  \n",
      "  0  \n",
      " 21  \n",
      "-21  \n",
      "arg q-func : \n",
      "[[0.5]]\n",
      "[0.2455] [0.23975006109347674]\n",
      "MM : \n",
      "\n",
      " 0.951924  -0.969539   0.330331  -0.15993  \n",
      "-0.969539    1.00123  -0.330501  0.182406  \n",
      " 0.330331  -0.330501    1.57678  -1.43223  \n",
      " -0.15993   0.182406   -1.43223  0.898897  \n",
      "10   0    0    0  \n",
      " 0  10    0    0  \n",
      " 0   0  0.5    0  \n",
      " 0   0    0  0.5  \n",
      "[2.3449584792579437, 1.9555347956773645]\n",
      "c : \n",
      "[0.47619048 0.47619048 0.02380952 0.02380952]\n"
     ]
    },
    {
     "data": {
      "image/png": "[encoded data removed]",
      "text/plain": [
       "<Figure size 432x288 with 1 Axes>"
      ]
     },
     "metadata": {
      "needs_background": "light"
     },
     "output_type": "display_data"
    },
    {
     "name": "stdout",
     "output_type": "stream",
     "text": [
      "  4.75962    -4.8477   0.369321  -0.178808  \n",
      "  -4.8477    5.00614  -0.369511   0.203936  \n",
      " 0.369321  -0.369511   0.394195  -0.358058  \n",
      "-0.178808   0.203936  -0.358058   0.224724  \n",
      "MM True = \n",
      "[[ 1.         -1.          0.11111111 -0.11111111]\n",
      " [-1.          1.         -0.11111111  0.11111111]\n",
      " [ 0.11111111 -0.11111111  1.         -1.        ]\n",
      " [-0.11111111  0.11111111 -1.          1.        ]]\n",
      "        5         -5   0.124226  -0.124226  \n",
      "       -5          5  -0.124226   0.124226  \n",
      " 0.124226  -0.124226       0.25      -0.25  \n",
      "-0.124226   0.124226      -0.25       0.25  \n",
      "c0 :  0.047619047619047616\n",
      "y = \n",
      " 0.150606  \n",
      "-0.281384  \n",
      "  26.4524  \n",
      " -20.1846  \n",
      "y true = \n",
      " 0.111768  \n",
      "-0.111768  \n",
      "  20.8758  \n",
      " -20.8758  \n",
      "arg q-func : \n",
      "[[0.50295683]]\n",
      "[0.2455, 0.238] [0.23975006109347674, 0.23910189492427802]\n",
      "MM : \n",
      "\n",
      " 0.951924  -0.969539   0.438318  -0.267918  \n",
      "-0.969539    1.00123  -0.441732   0.293637  \n",
      " 0.438318  -0.441732    1.62247   -1.46129  \n",
      "-0.267918   0.293637   -1.46129   0.911322  \n",
      "10   0    0    0  \n",
      " 0  10    0    0  \n",
      " 0   0  0.5    0  \n",
      " 0   0    0  0.5  \n",
      "[2.3849383733595833, 1.9661147792507243]\n",
      "c : \n",
      "[0.47619048 0.47619048 0.02380952 0.02380952]\n"
     ]
    },
    {
     "data": {
      "image/png": "[encoded data removed]",
      "text/plain": [
       "<Figure size 432x288 with 1 Axes>"
      ]
     },
     "metadata": {
      "needs_background": "light"
     },
     "output_type": "display_data"
    },
    {
     "name": "stdout",
     "output_type": "stream",
     "text": [
      "  4.75962    -4.8477   0.490055  -0.299541  \n",
      "  -4.8477    5.00614  -0.493872   0.328296  \n",
      " 0.490055  -0.493872   0.405617  -0.365322  \n",
      "-0.299541   0.328296  -0.365322    0.22783  \n",
      "MM True = \n",
      "[[ 1.         -1.          0.22222222 -0.22222222]\n",
      " [-1.          1.         -0.22222222  0.22222222]\n",
      " [ 0.22222222 -0.22222222  1.         -1.        ]\n",
      " [-0.22222222  0.22222222 -1.          1.        ]]\n",
      "        5         -5   0.248452  -0.248452  \n",
      "       -5          5  -0.248452   0.248452  \n",
      " 0.248452  -0.248452       0.25      -0.25  \n",
      "-0.248452   0.248452      -0.25       0.25  \n",
      "c0 :  0.047619047619047616\n",
      "y = \n",
      " 0.249422  \n",
      "-0.393023  \n",
      "  26.1928  \n",
      " -19.8294  \n",
      "y true = \n",
      " 0.227574  \n",
      "-0.227574  \n",
      "  20.4943  \n",
      " -20.4943  \n",
      "arg q-func : \n",
      "[[0.51204094]]\n",
      "[0.2455, 0.238, 0.23299999999999998] [0.23975006109347674, 0.23910189492427802, 0.23712834068265354]\n",
      "MM : \n",
      "\n",
      " 0.951924  -0.969539   0.546088  -0.375688  \n",
      "-0.969539    1.00123  -0.553411   0.405316  \n",
      " 0.546088  -0.553411    1.66289   -1.48686  \n",
      "-0.375688   0.405316   -1.48686   0.922048  \n",
      "10   0    0    0  \n",
      " 0  10    0    0  \n",
      " 0   0  0.5    0  \n",
      " 0   0    0  0.5  \n",
      "[2.4203833073701473, 1.9752554864332104]\n",
      "c : \n",
      "[0.47619048 0.47619048 0.02380952 0.02380952]\n"
     ]
    },
    {
     "data": {
      "image/png": "[encoded data removed]",
      "text/plain": [
       "<Figure size 432x288 with 1 Axes>"
      ]
     },
     "metadata": {
      "needs_background": "light"
     },
     "output_type": "display_data"
    },
    {
     "name": "stdout",
     "output_type": "stream",
     "text": [
      "  4.75962    -4.8477   0.610545  -0.420032  \n",
      "  -4.8477    5.00614  -0.618733   0.453157  \n",
      " 0.610545  -0.618733   0.415722  -0.371715  \n",
      "-0.420032   0.453157  -0.371715   0.230512  \n",
      "MM True = \n",
      "[[ 1.         -1.          0.33333333 -0.33333333]\n",
      " [-1.          1.         -0.33333333  0.33333333]\n",
      " [ 0.33333333 -0.33333333  1.         -1.        ]\n",
      " [-0.33333333  0.33333333 -1.          1.        ]]\n",
      "        5         -5   0.372678  -0.372678  \n",
      "       -5          5  -0.372678   0.372678  \n",
      " 0.372678  -0.372678       0.25      -0.25  \n",
      "-0.372678   0.372678      -0.25       0.25  \n",
      "c0 :  0.047619047619047616\n",
      "y = \n",
      " 0.350091  \n",
      "-0.520815  \n",
      "  25.7049  \n",
      " -19.1996  \n",
      "y true = \n",
      " 0.351955  \n",
      "-0.351955  \n",
      "  19.8268  \n",
      " -19.8268  \n",
      "arg q-func : \n",
      "[[0.52793296]]\n",
      "[0.2455, 0.238, 0.23299999999999998, 0.22650000000000003] [0.23975006109347674, 0.23910189492427802, 0.23712834068265354, 0.23373859215337528]\n",
      "MM : \n",
      "\n",
      " 0.951924  -0.969539   0.653617  -0.483216  \n",
      "-0.969539    1.00123  -0.665587   0.517491  \n",
      " 0.653617  -0.665587    1.69747   -1.50857  \n",
      "-0.483216   0.517491   -1.50857   0.930893  \n",
      "10   0    0    0  \n",
      " 0  10    0    0  \n",
      " 0   0  0.5    0  \n",
      " 0   0    0  0.5  \n",
      "[2.4507651228367453, 1.9827977184980623]\n",
      "c : \n",
      "[0.47619048 0.47619048 0.02380952 0.02380952]\n"
     ]
    },
    {
     "data": {
      "image/png": "[encoded data removed]",
      "text/plain": [
       "<Figure size 432x288 with 1 Axes>"
      ]
     },
     "metadata": {
      "needs_background": "light"
     },
     "output_type": "display_data"
    },
    {
     "name": "stdout",
     "output_type": "stream",
     "text": [
      "  4.75962    -4.8477   0.730766  -0.540252  \n",
      "  -4.8477    5.00614  -0.744148   0.578573  \n",
      " 0.730766  -0.744148   0.424368  -0.377143  \n",
      "-0.540252   0.578573  -0.377143   0.232723  \n",
      "MM True = \n",
      "[[ 1.         -1.          0.44444444 -0.44444444]\n",
      " [-1.          1.         -0.44444444  0.44444444]\n",
      " [ 0.44444444 -0.44444444  1.         -1.        ]\n",
      " [-0.44444444  0.44444444 -1.          1.        ]]\n",
      "        5         -5   0.496904  -0.496904  \n",
      "       -5          5  -0.496904   0.496904  \n",
      " 0.496904  -0.496904       0.25      -0.25  \n",
      "-0.496904   0.496904      -0.25       0.25  \n",
      "c0 :  0.047619047619047616\n",
      "y = \n",
      " 0.456168  \n",
      "-0.672079  \n",
      "  24.9427  \n",
      "  -18.242  \n",
      "y true = \n",
      " 0.490591  \n",
      "-0.490591  \n",
      "  18.8196  \n",
      " -18.8196  \n",
      "arg q-func : \n",
      "[[0.55191434]]\n",
      "[0.2455, 0.238, 0.23299999999999998, 0.22650000000000003, 0.22050000000000003] [0.23975006109347674, 0.23910189492427802, 0.23712834068265354, 0.23373859215337528, 0.2287682743173643]\n",
      "MM : \n",
      "\n",
      " 0.951924  -0.969539   0.760863  -0.590463  \n",
      "-0.969539    1.00123  -0.778342   0.630247  \n",
      " 0.760863  -0.778342    1.72523   -1.52577  \n",
      "-0.590463   0.630247   -1.52577   0.937538  \n",
      "10   0    0    0  \n",
      " 0  10    0    0  \n",
      " 0   0  0.5    0  \n",
      " 0   0    0  0.5  \n",
      "[2.47518702007523, 1.988466748663503]\n",
      "c : \n",
      "[0.47619048 0.47619048 0.02380952 0.02380952]\n"
     ]
    },
    {
     "data": {
      "image/png": "[encoded data removed]",
      "text/plain": [
       "<Figure size 432x288 with 1 Axes>"
      ]
     },
     "metadata": {
      "needs_background": "light"
     },
     "output_type": "display_data"
    },
    {
     "name": "stdout",
     "output_type": "stream",
     "text": [
      "  4.75962    -4.8477   0.850671  -0.660157  \n",
      "  -4.8477    5.00614  -0.870213   0.704637  \n",
      " 0.850671  -0.870213   0.431307  -0.381444  \n",
      "-0.660157   0.704637  -0.381444   0.234384  \n",
      "MM True = \n",
      "[[ 1.         -1.          0.55555556 -0.55555556]\n",
      " [-1.          1.         -0.55555556  0.55555556]\n",
      " [ 0.55555556 -0.55555556  1.         -1.        ]\n",
      " [-0.55555556  0.55555556 -1.          1.        ]]\n",
      "       5        -5   0.62113  -0.62113  \n",
      "      -5         5  -0.62113   0.62113  \n",
      " 0.62113  -0.62113      0.25     -0.25  \n",
      "-0.62113   0.62113     -0.25      0.25  \n",
      "c0 :  0.047619047619047616\n",
      "y = \n",
      " 0.571905  \n",
      "-0.858093  \n",
      "  23.8243  \n",
      "  -16.864  \n",
      "y true = \n",
      " 0.651275  \n",
      "-0.651275  \n",
      "  17.3818  \n",
      " -17.3818  \n",
      "arg q-func : \n",
      "[[0.58614748]]\n",
      "[0.2455, 0.238, 0.23299999999999998, 0.22650000000000003, 0.22050000000000003, 0.21299999999999997] [0.23975006109347674, 0.23910189492427802, 0.23712834068265354, 0.23373859215337528, 0.2287682743173643, 0.22195637062121154]\n",
      "MM : \n",
      "\n",
      " 0.951924  -0.969539   0.867755  -0.697354  \n",
      "-0.969539    1.00123  -0.891828   0.743732  \n",
      " 0.867755  -0.891828     1.7444    -1.5373  \n",
      "-0.697354   0.743732    -1.5373   0.941414  \n",
      "10   0    0    0  \n",
      " 0  10    0    0  \n",
      " 0   0  0.5    0  \n",
      " 0   0    0  0.5  \n",
      "[2.4920721871497973, 1.991775319741499]\n",
      "c : \n",
      "[0.47619048 0.47619048 0.02380952 0.02380952]\n"
     ]
    },
    {
     "data": {
      "image/png": "[encoded data removed]",
      "text/plain": [
       "<Figure size 432x288 with 1 Axes>"
      ]
     },
     "metadata": {
      "needs_background": "light"
     },
     "output_type": "display_data"
    },
    {
     "name": "stdout",
     "output_type": "stream",
     "text": [
      "  4.75962    -4.8477    0.97018  -0.779666  \n",
      "  -4.8477    5.00614  -0.997094   0.831518  \n",
      "  0.97018  -0.997094   0.436099  -0.384324  \n",
      "-0.779666   0.831518  -0.384324   0.235354  \n",
      "MM True = \n",
      "[[ 1.         -1.          0.66666667 -0.66666667]\n",
      " [-1.          1.         -0.66666667  0.66666667]\n",
      " [ 0.66666667 -0.66666667  1.         -1.        ]\n",
      " [-0.66666667  0.66666667 -1.          1.        ]]\n",
      "        5         -5   0.745356  -0.745356  \n",
      "       -5          5  -0.745356   0.745356  \n",
      " 0.745356  -0.745356       0.25      -0.25  \n",
      "-0.745356   0.745356      -0.25       0.25  \n",
      "c0 :  0.047619047619047616\n",
      "y = \n",
      "0.702849  \n",
      "-1.09776  \n",
      " 22.2039  \n",
      "-14.9045  \n",
      "y true = \n",
      " 0.845638  \n",
      "-0.845638  \n",
      "  15.3624  \n",
      " -15.3624  \n",
      "arg q-func : \n",
      "[[0.63422819]]\n",
      "[0.2455, 0.238, 0.23299999999999998, 0.22650000000000003, 0.22050000000000003, 0.21299999999999997, 0.203] [0.23975006109347674, 0.23910189492427802, 0.23712834068265354, 0.23373859215337528, 0.2287682743173643, 0.22195637062121154, 0.2129043075952785]\n",
      "MM : \n",
      "\n",
      " 0.951924  -0.969539  0.974147  -0.803747  \n",
      "-0.969539    1.00123  -1.00634   0.858246  \n",
      " 0.974147   -1.00634   1.75148   -1.54083  \n",
      "-0.803747   0.858246  -1.54083   0.941393  \n",
      "10   0    0    0  \n",
      " 0  10    0    0  \n",
      " 0   0  0.5    0  \n",
      " 0   0    0  0.5  \n",
      "[2.498310142127335, 1.9917571811679848]\n",
      "c : \n",
      "[0.47619048 0.47619048 0.02380952 0.02380952]\n"
     ]
    },
    {
     "data": {
      "image/png": "[encoded data removed]",
      "text/plain": [
       "<Figure size 432x288 with 1 Axes>"
      ]
     },
     "metadata": {
      "needs_background": "light"
     },
     "output_type": "display_data"
    },
    {
     "name": "stdout",
     "output_type": "stream",
     "text": [
      "  4.75962   -4.8477    1.08913  -0.898616  \n",
      "  -4.8477   5.00614   -1.12512   0.959548  \n",
      "  1.08913  -1.12512   0.437869  -0.385207  \n",
      "-0.898616  0.959548  -0.385207   0.235348  \n",
      "MM True = \n",
      "[[ 1.         -1.          0.77777778 -0.77777778]\n",
      " [-1.          1.         -0.77777778  0.77777778]\n",
      " [ 0.77777778 -0.77777778  1.         -1.        ]\n",
      " [-0.77777778  0.77777778 -1.          1.        ]]\n",
      "        5         -5   0.869582  -0.869582  \n",
      "       -5          5  -0.869582   0.869582  \n",
      " 0.869582  -0.869582       0.25      -0.25  \n",
      "-0.869582   0.869582      -0.25       0.25  \n",
      "c0 :  0.047619047619047616\n",
      "y = \n",
      "0.856586  \n",
      "-1.42668  \n",
      " 19.8016  \n",
      "-12.0636  \n",
      "y true = \n",
      " 1.09249  \n",
      "-1.09249  \n",
      " 12.5029  \n",
      "-12.5029  \n",
      "arg q-func : \n",
      "[[0.70231214]]\n",
      "[0.2455, 0.238, 0.23299999999999998, 0.22650000000000003, 0.22050000000000003, 0.21299999999999997, 0.203, 0.1895] [0.23975006109347674, 0.23910189492427802, 0.23712834068265354, 0.23373859215337528, 0.2287682743173643, 0.22195637062121154, 0.2129043075952785, 0.20100393554334806]\n",
      "MM : \n",
      "\n",
      " 0.951924  -0.969539   1.07967  -0.909266  \n",
      "-0.969539    1.00123  -1.12265   0.974555  \n",
      "  1.07967   -1.12265   1.73744   -1.53039  \n",
      "-0.909266   0.974555  -1.53039   0.934565  \n",
      "10   0    0    0  \n",
      " 0  10    0    0  \n",
      " 0   0  0.5    0  \n",
      " 0   0    0  0.5  \n",
      "[2.4859387276269382, 1.985930153083776]\n",
      "c : \n",
      "[0.47619048 0.47619048 0.02380952 0.02380952]\n"
     ]
    },
    {
     "data": {
      "image/png": "[encoded data removed]",
      "text/plain": [
       "<Figure size 432x288 with 1 Axes>"
      ]
     },
     "metadata": {
      "needs_background": "light"
     },
     "output_type": "display_data"
    },
    {
     "name": "stdout",
     "output_type": "stream",
     "text": [
      " 4.75962   -4.8477     1.2071   -1.01659  \n",
      " -4.8477   5.00614   -1.25516    1.08959  \n",
      "  1.2071  -1.25516   0.434359  -0.382598  \n",
      "-1.01659   1.08959  -0.382598   0.233641  \n",
      "MM True = \n",
      "[[ 1.         -1.          0.88888889 -0.88888889]\n",
      " [-1.          1.         -0.88888889  0.88888889]\n",
      " [ 0.88888889 -0.88888889  1.         -1.        ]\n",
      " [-0.88888889  0.88888889 -1.          1.        ]]\n",
      "        5         -5   0.993808  -0.993808  \n",
      "       -5          5  -0.993808   0.993808  \n",
      " 0.993808  -0.993808       0.25      -0.25  \n",
      "-0.993808   0.993808      -0.25       0.25  \n",
      "c0 :  0.047619047619047616\n",
      "y = \n",
      " 1.04216  \n",
      "-1.92724  \n",
      "  15.975  \n",
      "-7.68914  \n",
      "y true = \n",
      " 1.42507  \n",
      "-1.42507  \n",
      "  8.3327  \n",
      " -8.3327  \n",
      "arg q-func : \n",
      "[[0.80160226]]\n",
      "[0.2455, 0.238, 0.23299999999999998, 0.22650000000000003, 0.22050000000000003, 0.21299999999999997, 0.203, 0.1895, 0.1695] [0.23975006109347674, 0.23910189492427802, 0.23712834068265354, 0.23373859215337528, 0.2287682743173643, 0.22195637062121154, 0.2129043075952785, 0.20100393554334806, 0.18530737544421827]\n",
      "MM : \n",
      "\n",
      " 0.951924  -0.969539    1.1805   -1.0101  \n",
      "-0.969539    1.00123   -1.2486    1.1005  \n",
      "   1.1805    -1.2486   1.61005  -1.44502  \n",
      "  -1.0101     1.1005  -1.44502  0.891199  \n",
      "10   0    0    0  \n",
      " 0  10    0    0  \n",
      " 0   0  0.5    0  \n",
      " 0   0    0  0.5  \n",
      "[2.3740613812911056, 1.948984577908195]\n",
      "c : \n",
      "[0.47619048 0.47619048 0.02380952 0.02380952]\n"
     ]
    },
    {
     "data": {
      "image/png": "[encoded data removed]",
      "text/plain": [
       "<Figure size 432x288 with 1 Axes>"
      ]
     },
     "metadata": {
      "needs_background": "light"
     },
     "output_type": "display_data"
    },
    {
     "name": "stdout",
     "output_type": "stream",
     "text": [
      " 4.75962   -4.8477    1.31984   -1.12933  \n",
      " -4.8477   5.00614   -1.39597     1.2304  \n",
      " 1.31984  -1.39597   0.402512  -0.361254  \n",
      "-1.12933    1.2304  -0.361254     0.2228  \n",
      "MM True = \n",
      "[[ 1. -1.  1. -1.]\n",
      " [-1.  1. -1.  1.]\n",
      " [ 1. -1.  1. -1.]\n",
      " [-1.  1. -1.  1.]]\n",
      "       5        -5   1.11803  -1.11803  \n",
      "      -5         5  -1.11803   1.11803  \n",
      " 1.11803  -1.11803      0.25     -0.25  \n",
      "-1.11803   1.11803     -0.25      0.25  \n",
      "c0 :  0.047619047619047616\n",
      "y = \n",
      " 1.17387  \n",
      "-3.14005  \n",
      " 6.76583  \n",
      " 1.55053  \n",
      "y true = \n",
      " 1.90909  \n",
      "-1.90909  \n",
      " 1.90909  \n",
      "-1.90909  \n",
      "arg q-func : \n",
      "[[0.95454545]]\n",
      "[0.2455, 0.238, 0.23299999999999998, 0.22650000000000003, 0.22050000000000003, 0.21299999999999997, 0.203, 0.1895, 0.1695, 0.1425] [0.23975006109347674, 0.23910189492427802, 0.23712834068265354, 0.23373859215337528, 0.2287682743173643, 0.22195637062121154, 0.2129043075952785, 0.20100393554334806, 0.18530737544421827, 0.16428249171959852]\n",
      "Erreur relative moyenne pour n=2100 et p=100, moyennée sur 10 simulations\n",
      "0.04751121358522897\n",
      "Temps moyen pour (resp.) le calcul des produits scalaires entre moyennes empiriques, l'estimation de M cursive, c et les labels optimaux y, et l'inférence : 0.0020087480545043944, 0.2457735776901245, 0.037163186073303225\n",
      "Temps total moyen : 0.285 s\n"
     ]
    },
    {
     "data": {
      "image/png": "[encoded data removed]",
      "text/plain": [
       "<Figure size 432x288 with 1 Axes>"
      ]
     },
     "metadata": {
      "needs_background": "light"
     },
     "output_type": "display_data"
    }
   ],
   "source": [
    "# %%prun -s cumulative\n",
    "# profiling\n",
    "p = 100\n",
    "m = 2\n",
    "t = 2\n",
    "beta = np.linspace(0,1,10)\n",
    "n_t = [[1000, 1000], [50, 50]]\n",
    "n = sum(list(map(sum, (n_t[i] for i in range(t)))))\n",
    "n_t_test = [[1000, 1000]]\n",
    "nt = sum(n_t_test[0])\n",
    "# la liste temps comprendra le temps pour le training, le calcul de M et y et le temps d'inférence\n",
    "emp_rate, th_rate, var, relative_error_rate = [], [], [], []\n",
    "\n",
    "temps_MM = []\n",
    "temps_estim = []\n",
    "temps_inference = []\n",
    "random_state = 100\n",
    "R1, R2 = [], []\n",
    "for b in beta:\n",
    "    # on crée les données synthétiques\n",
    "    M = mean_matrix(p, b, t, random_seed=random_state)\n",
    "    \n",
    "    X, y_bs = gaussian_synthetic_data(n, p, m, t, n_t, M, random_state)\n",
    "    X_test, y_test = gaussian_synthetic_data(nt, p, m, 1, n_t_test, [M[1]], random_state)\n",
    "    M1 = empirical_mean_old(2, 2, X, p, n_t)[0]\n",
    "    MM_test = M1.T@M1\n",
    "#     matprint(MM)\n",
    "    \n",
    "    #     X = normalisation(X, p, True)\n",
    "    X_test = normalisation(X_test, p, False)\n",
    "    # pas besoin de z-normalisataion puisque la moyenne des données est nulle et l'écart type est 1\n",
    "    # on divise seulement par sqrt(p) parce que c'est cool \n",
    "\n",
    "# DEBUG\n",
    "    #MM1, diag1 = empirical_mean_old(1, m, X, p, [n_t[0]])\n",
    "    # On calcule les moyennes empiriques\n",
    "    \n",
    "    t0 = time()\n",
    "    MM = empirical_mean(t, m, X, p, n_t)\n",
    "    print(\"MM : \\n\")\n",
    "    temps_MM.append(time() - t0)\n",
    "    matprint(MM)\n",
    "    # On time le calcul de MTM\n",
    "    \n",
    "    r1, r2 = bayes_optimal(n_t, MM_test, p)\n",
    "    R1.append((r1+r2)/2)\n",
    "    R2.append(r2)\n",
    "\n",
    "    t0 = time()\n",
    "    c = estimate_c(n_t, n, t, m)\n",
    "    print(\"c : \")\n",
    "    print(c)\n",
    "    c0 = p/n\n",
    "    Dc = np.diag(c)\n",
    "    correlation_matrix = compute_M_cal(n, p, Dc, MM, display=True)\n",
    "    matprint(correlation_matrix)\n",
    "    y = label_evaluation(t,m,Dc,MM, c0)\n",
    "    temps_estim.append(time() - t0)\n",
    "    # On time l'estimation de y, M, et c\n",
    "    \n",
    "    M_true = true_mean(M, p, t, m)\n",
    "    MM_true = M_true.T@M_true\n",
    "    print(\"MM True = \")\n",
    "    print(MM_true)\n",
    "    correlation_matrix_true = compute_M_cal(n, p, Dc, MM_true, display=False)\n",
    "    matprint(correlation_matrix_true)\n",
    "    print(\"c0 : \", c0)\n",
    "    y_true = label_evaluation(t,m,Dc,MM_true, c0)\n",
    "    print(\"y = \")\n",
    "    matprint(y)\n",
    "    print(\"y true = \")\n",
    "    matprint(y_true)\n",
    "    \n",
    "    X_train_aggregated = aggregate_array(X, p, n, t, m)\n",
    "    X_test_aggregated = aggregate_array(X_test, p, nt, 1, m)\n",
    "    \n",
    "    \n",
    "    t0 = time()\n",
    "    J = create_J(m, t, n, n_t)\n",
    "    V = compute_V(y, X_train_aggregated, J, n)\n",
    "    \n",
    "#     debug_histogram(V_true, X_test_aggregated, n_t_test)\n",
    "#     print(\"V = \")\n",
    "    # pour l'instant pas vraiment utilisé\n",
    "    m_t = create_mt(t, m, y, Dc, correlation_matrix)\n",
    "    erreur_empirique = compute_error_rate(X_test, V, m_t, 1, m, n_t_test, Dc, c0)\n",
    "    temps_inference.append(time() - t0)\n",
    "    \n",
    "    V_true = compute_V(y_true, X_train_aggregated, J, n)\n",
    "    VTX = V.T@X_test_aggregated\n",
    "    var.append(np.var(VTX))\n",
    "    m_t_true = create_mt(t, m, y_true, Dc, correlation_matrix_true)\n",
    "    erreur_theorique = error_rate(t, m,  Dc, MM_true, c0)[0][0]\n",
    "    emp_rate.append(erreur_empirique)\n",
    "    th_rate.append(erreur_theorique)\n",
    "    relative_error_rate.append(abs(erreur_empirique - erreur_theorique)/erreur_theorique)\n",
    "    \n",
    "    print(emp_rate, th_rate)\n",
    "    \n",
    "erreur_relative_moy = np.mean(relative_error_rate)\n",
    "print(f\"Erreur relative moyenne pour n={n} et p={p}, moyennée sur 10 simulations\")\n",
    "print(erreur_relative_moy)\n",
    "\n",
    "print(f\"Temps moyen pour (resp.) le calcul des produits scalaires entre moyennes empiriques, l'estimation de M cursive, c et les labels optimaux y, et l'inférence : {np.mean(temps_MM)}, {np.mean(temps_estim)}, {np.mean(temps_inference)}\")\n",
    "\n",
    "print(f\"Temps total moyen : {round(np.mean(temps_MM)+np.mean(temps_estim)+np.mean(temps_inference), 3)} s\")\n",
    "\n",
    "lower = np.array(emp_rate) - np.array(var)\n",
    "upper = np.array(emp_rate) + np.array(var)\n",
    "plt.plot(beta, emp_rate, '-o', label='empirical rate')\n",
    "plt.plot(beta, th_rate, '-o', label='theoritical rate')\n",
    "plt.plot(beta, R1, '-o', label='optimal rate')\n",
    "plt.fill_between(beta, lower, upper, alpha=0.2, label=\"variance\")\n",
    "plt.legend()\n",
    "plt.title(\"2-class Gaussian mixture transfer error rate\")\n",
    "plt.xlabel(\"Task relatedness (beta)\")\n",
    "plt.ylabel(\"error rate\")\n",
    "plt.grid()\n",
    "plt.show()"
   ]
  },
  {
   "cell_type": "code",
   "execution_count": 86,
   "metadata": {},
   "outputs": [
    {
     "name": "stdout",
     "output_type": "stream",
     "text": [
      "[0.07314767919728726, 0.06991418670621546, 0.06814409068534544, 0.07151551026559011]\n"
     ]
    }
   ],
   "source": [
    "print(R1)"
   ]
  },
  {
   "cell_type": "code",
   "execution_count": 70,
   "metadata": {},
   "outputs": [
    {
     "name": "stdout",
     "output_type": "stream",
     "text": [
      "1600\n",
      "c0 :  0.0625\n",
      "[0.25  0.25  0.125 0.125 0.125 0.125]\n",
      "y true = \n",
      " 1.88235  \n",
      "-1.88235  \n",
      " 1.88235  \n",
      "-1.88235  \n",
      " 1.88235  \n",
      "-1.88235  \n"
     ]
    }
   ],
   "source": [
    "n = sum(list(map(sum, (n_t[i] for i in range(t)))))\n",
    "print(n)\n",
    "print(\"c0 : \", c0)\n",
    "print(c)\n",
    "print(\"y true = \")\n",
    "matprint(y_true)"
   ]
  },
  {
   "cell_type": "markdown",
   "metadata": {},
   "source": [
    "Results when doubling n and p proportionately: \n",
    "[0.244, 0.2395, 0.23624999999999996, 0.23624999999999996, 0.22999999999999998, 0.2195, 0.21050000000000002, 0.195, 0.17700000000000005, 0.15674999999999994] \n",
    "[0.23975006109347674, 0.23910189492427802, 0.23712834068265354, 0.23373859215337528, 0.2287682743173643, 0.22195637062121154, 0.2129043075952785, 0.20100393554334806, 0.18530737544421827, 0.16428249171959852]"
   ]
  },
  {
   "cell_type": "code",
   "execution_count": 94,
   "metadata": {},
   "outputs": [
    {
     "name": "stdout",
     "output_type": "stream",
     "text": [
      "Erreur relative moyenne pour n=6000 et p=200, moyennée sur 10 simulations et 2000 données de test : 0.037\n",
      "En doublant n et p proportionnellement, l'erreur relative moyenne est divisé par un facteur 0.6879996077345171\n",
      "Temps moyen pour (resp.) le calcul des produits scalaires entre moyennes empiriques, l'estimation de M cursive, c et les labels optimaux y, et l'inférence : 0.00949 s, 0.29961 s, 0.13254 s.\n",
      "Le temps total moyen est ainsi de 0.3091 s\n"
     ]
    },
    {
     "data": {
      "image/png": "[encoded data removed]",
      "text/plain": [
       "<Figure size 432x288 with 1 Axes>"
      ]
     },
     "metadata": {
      "needs_background": "light"
     },
     "output_type": "display_data"
    }
   ],
   "source": [
    "erreur_relative_prec = 0.054\n",
    "erreur_relative_moy = np.mean(relative_error_rate)\n",
    "print(f\"Erreur relative moyenne pour n={n} et p={p}, moyennée sur 10 simulations et {nt} données de test : {round(erreur_relative_moy, 3)}\")\n",
    "\n",
    "print(f\"En doublant n et p proportionnellement, l'erreur relative moyenne est divisé par un facteur {(1/(erreur_relative_prec/erreur_relative_moy))}\")\n",
    "\n",
    "\n",
    "print(f\"Temps moyen pour (resp.) le calcul des produits scalaires entre moyennes empiriques, l'estimation de M cursive, c et les labels optimaux y, et l'inférence : {round(np.mean(temps_MM), 5)} s, {round(np.mean(temps_estim), 5)} s, {round(np.mean(temps_inference), 5)} s.\\nLe temps total moyen est ainsi de {round(np.mean(temps_estim) + np.mean(temps_MM) , 5)} s\")\n",
    "\n",
    "lower = np.array(emp_rate) - np.array(var)\n",
    "upper = np.array(emp_rate) + np.array(var)\n",
    "plt.plot(beta, emp_rate, '-o', label='empirical rate')\n",
    "plt.plot(beta, th_rate, '-o', label='theoritical rate')\n",
    "plt.fill_between(beta, lower, upper, alpha=0.2, label=\"variance\")\n",
    "plt.plot(beta, R1, '-o', label='optimal rate')\n",
    "plt.legend()\n",
    "plt.title(f\"2-class Gaussian mixture transfer error rate for n={n} and p={p}\")\n",
    "plt.xlabel(\"Task relatedness (beta)\")\n",
    "plt.ylabel(\"error rate\")\n",
    "plt.grid()\n",
    "plt.show()"
   ]
  },
  {
   "cell_type": "code",
   "execution_count": 133,
   "metadata": {},
   "outputs": [],
   "source": [
    "%matplotlib qt\n",
    "debug_histogram(V, X_test_aggregated.T, n_t_test)"
   ]
  },
  {
   "cell_type": "markdown",
   "metadata": {},
   "source": [
    "# Adding tasks"
   ]
  },
  {
   "cell_type": "code",
   "execution_count": 80,
   "metadata": {},
   "outputs": [
    {
     "name": "stdout",
     "output_type": "stream",
     "text": [
      "random\n",
      "beta 0.5434049417909654\n",
      "random\n",
      "beta 0.5434049417909654\n"
     ]
    },
    {
     "data": {
      "image/png": "[encoded data removed]",
      "text/plain": [
       "<Figure size 432x288 with 1 Axes>"
      ]
     },
     "metadata": {
      "needs_background": "light"
     },
     "output_type": "display_data"
    },
    {
     "data": {
      "image/png": "[encoded data removed]",
      "text/plain": [
       "<Figure size 432x288 with 1 Axes>"
      ]
     },
     "metadata": {
      "needs_background": "light"
     },
     "output_type": "display_data"
    },
    {
     "name": "stdout",
     "output_type": "stream",
     "text": [
      "arg q-func : \n",
      "[[0.58181058]]\n",
      "random\n",
      "beta 0.5434049417909654\n",
      "random\n",
      "beta 0.27836938509379616\n",
      "random\n",
      "beta 0.4245175907491331\n"
     ]
    },
    {
     "data": {
      "image/png": "[encoded data removed]",
      "text/plain": [
       "<Figure size 432x288 with 1 Axes>"
      ]
     },
     "metadata": {
      "needs_background": "light"
     },
     "output_type": "display_data"
    },
    {
     "data": {
      "image/png": "[encoded data removed]",
      "text/plain": [
       "<Figure size 432x288 with 1 Axes>"
      ]
     },
     "metadata": {
      "needs_background": "light"
     },
     "output_type": "display_data"
    },
    {
     "name": "stdout",
     "output_type": "stream",
     "text": [
      "arg q-func : \n",
      "[[0.96227603]]\n",
      "random\n",
      "beta 0.5434049417909654\n",
      "random\n",
      "beta 0.27836938509379616\n",
      "random\n",
      "beta 0.4245175907491331\n",
      "random\n",
      "beta 0.8447761323199037\n",
      "random\n",
      "beta 0.004718856190972565\n"
     ]
    },
    {
     "data": {
      "image/png": "[encoded data removed]",
      "text/plain": [
       "<Figure size 432x288 with 1 Axes>"
      ]
     },
     "metadata": {
      "needs_background": "light"
     },
     "output_type": "display_data"
    },
    {
     "data": {
      "image/png": "[encoded data removed]",
      "text/plain": [
       "<Figure size 432x288 with 1 Axes>"
      ]
     },
     "metadata": {
      "needs_background": "light"
     },
     "output_type": "display_data"
    },
    {
     "name": "stdout",
     "output_type": "stream",
     "text": [
      "arg q-func : \n",
      "[[0.97432961]]\n",
      "random\n",
      "beta 0.5434049417909654\n",
      "random\n",
      "beta 0.27836938509379616\n",
      "random\n",
      "beta 0.4245175907491331\n",
      "random\n",
      "beta 0.8447761323199037\n",
      "random\n",
      "beta 0.004718856190972565\n",
      "random\n",
      "beta 0.12156912078311422\n",
      "random\n",
      "beta 0.6707490847267786\n"
     ]
    },
    {
     "data": {
      "image/png": "[encoded data removed]",
      "text/plain": [
       "<Figure size 432x288 with 1 Axes>"
      ]
     },
     "metadata": {
      "needs_background": "light"
     },
     "output_type": "display_data"
    },
    {
     "data": {
      "image/png": "[encoded data removed]",
      "text/plain": [
       "<Figure size 432x288 with 1 Axes>"
      ]
     },
     "metadata": {
      "needs_background": "light"
     },
     "output_type": "display_data"
    },
    {
     "name": "stdout",
     "output_type": "stream",
     "text": [
      "arg q-func : \n",
      "[[0.98367006]]\n",
      "random\n",
      "beta 0.5434049417909654\n",
      "random\n",
      "beta 0.27836938509379616\n",
      "random\n",
      "beta 0.4245175907491331\n",
      "random\n",
      "beta 0.8447761323199037\n",
      "random\n",
      "beta 0.004718856190972565\n",
      "random\n",
      "beta 0.12156912078311422\n",
      "random\n",
      "beta 0.6707490847267786\n",
      "random\n",
      "beta 0.8258527551050476\n",
      "random\n",
      "beta 0.13670658968495297\n"
     ]
    },
    {
     "data": {
      "image/png": "[encoded data removed]",
      "text/plain": [
       "<Figure size 432x288 with 1 Axes>"
      ]
     },
     "metadata": {
      "needs_background": "light"
     },
     "output_type": "display_data"
    },
    {
     "data": {
      "image/png": "[encoded data removed]",
      "text/plain": [
       "<Figure size 432x288 with 1 Axes>"
      ]
     },
     "metadata": {
      "needs_background": "light"
     },
     "output_type": "display_data"
    },
    {
     "name": "stdout",
     "output_type": "stream",
     "text": [
      "arg q-func : \n",
      "[[0.98684725]]\n",
      "Temps moyen pour (resp.) le calcul des produits scalaires entre moyennes empiriques, l'estimation de M cursive, c et les labels optimaux y, et l'inférence : 0.039150238037109375, 0.0003743171691894531, 0.07397079467773438\n"
     ]
    },
    {
     "data": {
      "image/png": "[encoded data removed]",
      "text/plain": [
       "<Figure size 432x288 with 1 Axes>"
      ]
     },
     "metadata": {
      "needs_background": "light"
     },
     "output_type": "display_data"
    }
   ],
   "source": [
    "# %%prun -s cumulative\n",
    "# profiling\n",
    "p = 100\n",
    "m = 2\n",
    "# on ajoute des tâches 2 par 2\n",
    "nb_tasks = 6\n",
    "t = range(2,2*nb_tasks, 2)\n",
    "multiple = 1\n",
    "to_add = [1000, 1000], [50, 50]\n",
    "n_t = []\n",
    "n_t_test = [[500, 500]]\n",
    "nt = sum(n_t_test[0])\n",
    "# la liste temps comprendra le temps pour le training, le calcul de M et y et le temps d'inférence\n",
    "emp_rate, th_rate, var, relative_error_rate = [], [], [], []\n",
    "\n",
    "# temps\n",
    "temps_MM = 0\n",
    "temps_estim = 0\n",
    "temps_inference = 0\n",
    "t_total_nd = []\n",
    "random_state = 100\n",
    "\n",
    "# données envoyées\n",
    "data_sent_nd = []\n",
    "task_target = 1\n",
    "M = mean_matrix(p, beta=None, k=2, random_seed=random_state, random=True)\n",
    "X_test, y_test = gaussian_synthetic_data(nt, p, m, 1, n_t_test, [M[task_target]], random_state)\n",
    "X_test = normalisation(X_test, p)\n",
    "\n",
    "for b in t:\n",
    "    n_t.append(to_add[0])\n",
    "    n_t.append(to_add[1])\n",
    "    \n",
    "#     print(b)\n",
    "#     print(n_t)\n",
    "    n = sum(list(map(sum, (n_t[i] for i in range(b)))))\n",
    "#     print(n)\n",
    "    # on crée les données synthétiques\n",
    "    M = mean_matrix(p, beta=None, k=b, random_seed=random_state, random=True)\n",
    "       \n",
    "    X, y_bs = gaussian_synthetic_data(n, p, m, b, n_t, M, random_state)\n",
    "\n",
    "# DEBUG\n",
    "    #MM1, diag1 = empirical_mean_old(1, m, X, p, [n_t[0]])\n",
    "    # On calcule les moyennes empiriques\n",
    "    \n",
    "    t0 = time()\n",
    "    MM = empirical_mean(b, m, X, p, n_t)\n",
    "    temps_MM = time() - t0\n",
    "    # On time le calcul de MTM\n",
    "\n",
    "    t0 = time()\n",
    "    c = estimate_c(n_t, n, b, m)\n",
    "    c0 = p/n\n",
    "    Dc = np.diag(c)\n",
    "    correlation_matrix = compute_M_cal(n, p, Dc, MM, display=False)\n",
    "    y = label_evaluation(b,m,Dc,MM, c0, task_target=task_target)\n",
    "    temps_estim = time() - t0\n",
    "    # On time l'estimation de y, M, et c\n",
    "    \n",
    "    M_true = true_mean(M, p, b, m)\n",
    "    MM_true = M_true.T@M_true\n",
    "    correlation_matrix_true = compute_M_cal(n, p, Dc, MM_true, display=True)\n",
    "    y_true = label_evaluation(b,m,Dc,MM_true, c0, task_target=task_target)\n",
    "    X = normalisation(X, p)\n",
    "    \n",
    "    X_train_aggregated = aggregate_array(X, p, n, b, m)\n",
    "    X_test_aggregated = aggregate_array(X_test, p, nt, 1, m)\n",
    "    \n",
    "    m_t_true = create_mt(b, m, y_true, Dc, correlation_matrix_true)\n",
    "    t0 = time()\n",
    "    J = create_J(m, b, n, n_t)\n",
    "    V = compute_V(y, X_train_aggregated, J, n)\n",
    "    V_true = compute_V(y_true, X_train_aggregated, J, n)\n",
    "    m_t = create_mt(b, m, y, Dc, correlation_matrix)\n",
    "    erreur_empirique = compute_error_rate(X_test, V, m_t, 1, m, n_t_test, Dc, c0)\n",
    "    temps_inference = time() - t0\n",
    "    # On time le temps d'inférence \n",
    "    \n",
    "    \n",
    "#     debug_histogram(V_true, X_test_aggregated, n_t_test)\n",
    "#     print(\"V = \")\n",
    "    VTX = V.T@X_test_aggregated\n",
    "    debug_histogram(V, X_test_aggregated, n_t_test)\n",
    "    var.append(np.var(VTX))\n",
    "    \n",
    "    erreur_theorique = error_rate(b, m,  Dc, MM_true, c0, task_target=task_target)[0][0]\n",
    "    emp_rate.append(erreur_empirique)\n",
    "    th_rate.append(erreur_theorique)\n",
    "    relative_error_rate.append(abs(erreur_empirique - erreur_theorique)/erreur_theorique)\n",
    "    \n",
    "    t_total_nd.append(temps_MM + temps_estim)\n",
    "    data_sent_nd.append(n)\n",
    "    \n",
    "# erreur_relative_moy = np.mean(relative_error_rate)\n",
    "# print(f\"Erreur relative moyenne pour n={n} et p={p}, moyennée sur 10 simulations\")\n",
    "# print(erreur_relative_moy)\n",
    "\n",
    "print(f\"Temps moyen pour (resp.) le calcul des produits scalaires entre moyennes empiriques, l'estimation de M cursive, c et les labels optimaux y, et l'inférence : {np.mean(temps_MM)}, {np.mean(temps_estim)}, {np.mean(temps_inference)}\")\n",
    "\n",
    "lower = np.array(emp_rate) - np.array(var)\n",
    "upper = np.array(emp_rate) + np.array(var)\n",
    "plt.plot(t, emp_rate, '-o', label='empirical rate')\n",
    "plt.plot(t, th_rate, '-o', label='theoritical rate')\n",
    "plt.fill_between(t, lower, upper, alpha=0.2, label=\"variance\")\n",
    "plt.legend()\n",
    "plt.title(\"2-class Gaussian mixture transfer error rate\")\n",
    "plt.xlabel(\"Added Task\")\n",
    "plt.ylabel(\"error rate\")\n",
    "plt.grid()\n",
    "plt.show()"
   ]
  },
  {
   "cell_type": "code",
   "execution_count": 72,
   "metadata": {
    "collapsed": true
   },
   "outputs": [
    {
     "ename": "ValueError",
     "evalue": "x and y must have same first dimension, but have shapes (9,) and (10,)",
     "output_type": "error",
     "traceback": [
      "\u001b[0;31m---------------------------------------------------------------------------\u001b[0m",
      "\u001b[0;31mValueError\u001b[0m                                Traceback (most recent call last)",
      "\u001b[0;32m<ipython-input-72-324dd024ff7e>\u001b[0m in \u001b[0;36m<module>\u001b[0;34m\u001b[0m\n\u001b[1;32m      3\u001b[0m \u001b[0mupper\u001b[0m \u001b[0;34m=\u001b[0m \u001b[0mnp\u001b[0m\u001b[0;34m.\u001b[0m\u001b[0marray\u001b[0m\u001b[0;34m(\u001b[0m\u001b[0memp_rate\u001b[0m\u001b[0;34m)\u001b[0m \u001b[0;34m+\u001b[0m \u001b[0mnp\u001b[0m\u001b[0;34m.\u001b[0m\u001b[0marray\u001b[0m\u001b[0;34m(\u001b[0m\u001b[0mvar\u001b[0m\u001b[0;34m)\u001b[0m\u001b[0;34m\u001b[0m\u001b[0;34m\u001b[0m\u001b[0m\n\u001b[1;32m      4\u001b[0m \u001b[0mplt\u001b[0m\u001b[0;34m.\u001b[0m\u001b[0mplot\u001b[0m\u001b[0;34m(\u001b[0m\u001b[0mrange\u001b[0m\u001b[0;34m(\u001b[0m\u001b[0mlen\u001b[0m\u001b[0;34m(\u001b[0m\u001b[0memp_rate\u001b[0m\u001b[0;34m)\u001b[0m\u001b[0;34m)\u001b[0m\u001b[0;34m,\u001b[0m \u001b[0memp_rate\u001b[0m\u001b[0;34m,\u001b[0m \u001b[0;34m'-o'\u001b[0m\u001b[0;34m,\u001b[0m \u001b[0mlabel\u001b[0m\u001b[0;34m=\u001b[0m\u001b[0;34m'empirical rate'\u001b[0m\u001b[0;34m)\u001b[0m\u001b[0;34m\u001b[0m\u001b[0;34m\u001b[0m\u001b[0m\n\u001b[0;32m----> 5\u001b[0;31m \u001b[0mplt\u001b[0m\u001b[0;34m.\u001b[0m\u001b[0mplot\u001b[0m\u001b[0;34m(\u001b[0m\u001b[0mrange\u001b[0m\u001b[0;34m(\u001b[0m\u001b[0mlen\u001b[0m\u001b[0;34m(\u001b[0m\u001b[0memp_rate\u001b[0m\u001b[0;34m)\u001b[0m\u001b[0;34m)\u001b[0m\u001b[0;34m,\u001b[0m \u001b[0mth_rate\u001b[0m\u001b[0;34m,\u001b[0m \u001b[0;34m'-o'\u001b[0m\u001b[0;34m,\u001b[0m \u001b[0mlabel\u001b[0m\u001b[0;34m=\u001b[0m\u001b[0;34m'theoritical rate'\u001b[0m\u001b[0;34m)\u001b[0m\u001b[0;34m\u001b[0m\u001b[0;34m\u001b[0m\u001b[0m\n\u001b[0m\u001b[1;32m      6\u001b[0m \u001b[0mplt\u001b[0m\u001b[0;34m.\u001b[0m\u001b[0mfill_between\u001b[0m\u001b[0;34m(\u001b[0m\u001b[0mrange\u001b[0m\u001b[0;34m(\u001b[0m\u001b[0mlen\u001b[0m\u001b[0;34m(\u001b[0m\u001b[0memp_rate\u001b[0m\u001b[0;34m)\u001b[0m\u001b[0;34m)\u001b[0m\u001b[0;34m,\u001b[0m \u001b[0mlower\u001b[0m\u001b[0;34m,\u001b[0m \u001b[0mupper\u001b[0m\u001b[0;34m,\u001b[0m \u001b[0malpha\u001b[0m\u001b[0;34m=\u001b[0m\u001b[0;36m0.2\u001b[0m\u001b[0;34m,\u001b[0m \u001b[0mlabel\u001b[0m\u001b[0;34m=\u001b[0m\u001b[0;34m\"variance\"\u001b[0m\u001b[0;34m)\u001b[0m\u001b[0;34m\u001b[0m\u001b[0;34m\u001b[0m\u001b[0m\n\u001b[1;32m      7\u001b[0m \u001b[0mplt\u001b[0m\u001b[0;34m.\u001b[0m\u001b[0mlegend\u001b[0m\u001b[0;34m(\u001b[0m\u001b[0;34m)\u001b[0m\u001b[0;34m\u001b[0m\u001b[0;34m\u001b[0m\u001b[0m\n",
      "\u001b[0;32m~/anaconda3/lib/python3.7/site-packages/matplotlib/pyplot.py\u001b[0m in \u001b[0;36mplot\u001b[0;34m(scalex, scaley, data, *args, **kwargs)\u001b[0m\n\u001b[1;32m   2840\u001b[0m     return gca().plot(\n\u001b[1;32m   2841\u001b[0m         \u001b[0;34m*\u001b[0m\u001b[0margs\u001b[0m\u001b[0;34m,\u001b[0m \u001b[0mscalex\u001b[0m\u001b[0;34m=\u001b[0m\u001b[0mscalex\u001b[0m\u001b[0;34m,\u001b[0m \u001b[0mscaley\u001b[0m\u001b[0;34m=\u001b[0m\u001b[0mscaley\u001b[0m\u001b[0;34m,\u001b[0m\u001b[0;34m\u001b[0m\u001b[0;34m\u001b[0m\u001b[0m\n\u001b[0;32m-> 2842\u001b[0;31m         **({\"data\": data} if data is not None else {}), **kwargs)\n\u001b[0m\u001b[1;32m   2843\u001b[0m \u001b[0;34m\u001b[0m\u001b[0m\n\u001b[1;32m   2844\u001b[0m \u001b[0;34m\u001b[0m\u001b[0m\n",
      "\u001b[0;32m~/anaconda3/lib/python3.7/site-packages/matplotlib/axes/_axes.py\u001b[0m in \u001b[0;36mplot\u001b[0;34m(self, scalex, scaley, data, *args, **kwargs)\u001b[0m\n\u001b[1;32m   1741\u001b[0m         \"\"\"\n\u001b[1;32m   1742\u001b[0m         \u001b[0mkwargs\u001b[0m \u001b[0;34m=\u001b[0m \u001b[0mcbook\u001b[0m\u001b[0;34m.\u001b[0m\u001b[0mnormalize_kwargs\u001b[0m\u001b[0;34m(\u001b[0m\u001b[0mkwargs\u001b[0m\u001b[0;34m,\u001b[0m \u001b[0mmlines\u001b[0m\u001b[0;34m.\u001b[0m\u001b[0mLine2D\u001b[0m\u001b[0;34m)\u001b[0m\u001b[0;34m\u001b[0m\u001b[0;34m\u001b[0m\u001b[0m\n\u001b[0;32m-> 1743\u001b[0;31m         \u001b[0mlines\u001b[0m \u001b[0;34m=\u001b[0m \u001b[0;34m[\u001b[0m\u001b[0;34m*\u001b[0m\u001b[0mself\u001b[0m\u001b[0;34m.\u001b[0m\u001b[0m_get_lines\u001b[0m\u001b[0;34m(\u001b[0m\u001b[0;34m*\u001b[0m\u001b[0margs\u001b[0m\u001b[0;34m,\u001b[0m \u001b[0mdata\u001b[0m\u001b[0;34m=\u001b[0m\u001b[0mdata\u001b[0m\u001b[0;34m,\u001b[0m \u001b[0;34m**\u001b[0m\u001b[0mkwargs\u001b[0m\u001b[0;34m)\u001b[0m\u001b[0;34m]\u001b[0m\u001b[0;34m\u001b[0m\u001b[0;34m\u001b[0m\u001b[0m\n\u001b[0m\u001b[1;32m   1744\u001b[0m         \u001b[0;32mfor\u001b[0m \u001b[0mline\u001b[0m \u001b[0;32min\u001b[0m \u001b[0mlines\u001b[0m\u001b[0;34m:\u001b[0m\u001b[0;34m\u001b[0m\u001b[0;34m\u001b[0m\u001b[0m\n\u001b[1;32m   1745\u001b[0m             \u001b[0mself\u001b[0m\u001b[0;34m.\u001b[0m\u001b[0madd_line\u001b[0m\u001b[0;34m(\u001b[0m\u001b[0mline\u001b[0m\u001b[0;34m)\u001b[0m\u001b[0;34m\u001b[0m\u001b[0;34m\u001b[0m\u001b[0m\n",
      "\u001b[0;32m~/anaconda3/lib/python3.7/site-packages/matplotlib/axes/_base.py\u001b[0m in \u001b[0;36m__call__\u001b[0;34m(self, data, *args, **kwargs)\u001b[0m\n\u001b[1;32m    271\u001b[0m                 \u001b[0mthis\u001b[0m \u001b[0;34m+=\u001b[0m \u001b[0margs\u001b[0m\u001b[0;34m[\u001b[0m\u001b[0;36m0\u001b[0m\u001b[0;34m]\u001b[0m\u001b[0;34m,\u001b[0m\u001b[0;34m\u001b[0m\u001b[0;34m\u001b[0m\u001b[0m\n\u001b[1;32m    272\u001b[0m                 \u001b[0margs\u001b[0m \u001b[0;34m=\u001b[0m \u001b[0margs\u001b[0m\u001b[0;34m[\u001b[0m\u001b[0;36m1\u001b[0m\u001b[0;34m:\u001b[0m\u001b[0;34m]\u001b[0m\u001b[0;34m\u001b[0m\u001b[0;34m\u001b[0m\u001b[0m\n\u001b[0;32m--> 273\u001b[0;31m             \u001b[0;32myield\u001b[0m \u001b[0;32mfrom\u001b[0m \u001b[0mself\u001b[0m\u001b[0;34m.\u001b[0m\u001b[0m_plot_args\u001b[0m\u001b[0;34m(\u001b[0m\u001b[0mthis\u001b[0m\u001b[0;34m,\u001b[0m \u001b[0mkwargs\u001b[0m\u001b[0;34m)\u001b[0m\u001b[0;34m\u001b[0m\u001b[0;34m\u001b[0m\u001b[0m\n\u001b[0m\u001b[1;32m    274\u001b[0m \u001b[0;34m\u001b[0m\u001b[0m\n\u001b[1;32m    275\u001b[0m     \u001b[0;32mdef\u001b[0m \u001b[0mget_next_color\u001b[0m\u001b[0;34m(\u001b[0m\u001b[0mself\u001b[0m\u001b[0;34m)\u001b[0m\u001b[0;34m:\u001b[0m\u001b[0;34m\u001b[0m\u001b[0;34m\u001b[0m\u001b[0m\n",
      "\u001b[0;32m~/anaconda3/lib/python3.7/site-packages/matplotlib/axes/_base.py\u001b[0m in \u001b[0;36m_plot_args\u001b[0;34m(self, tup, kwargs)\u001b[0m\n\u001b[1;32m    397\u001b[0m \u001b[0;34m\u001b[0m\u001b[0m\n\u001b[1;32m    398\u001b[0m         \u001b[0;32mif\u001b[0m \u001b[0mx\u001b[0m\u001b[0;34m.\u001b[0m\u001b[0mshape\u001b[0m\u001b[0;34m[\u001b[0m\u001b[0;36m0\u001b[0m\u001b[0;34m]\u001b[0m \u001b[0;34m!=\u001b[0m \u001b[0my\u001b[0m\u001b[0;34m.\u001b[0m\u001b[0mshape\u001b[0m\u001b[0;34m[\u001b[0m\u001b[0;36m0\u001b[0m\u001b[0;34m]\u001b[0m\u001b[0;34m:\u001b[0m\u001b[0;34m\u001b[0m\u001b[0;34m\u001b[0m\u001b[0m\n\u001b[0;32m--> 399\u001b[0;31m             raise ValueError(f\"x and y must have same first dimension, but \"\n\u001b[0m\u001b[1;32m    400\u001b[0m                              f\"have shapes {x.shape} and {y.shape}\")\n\u001b[1;32m    401\u001b[0m         \u001b[0;32mif\u001b[0m \u001b[0mx\u001b[0m\u001b[0;34m.\u001b[0m\u001b[0mndim\u001b[0m \u001b[0;34m>\u001b[0m \u001b[0;36m2\u001b[0m \u001b[0;32mor\u001b[0m \u001b[0my\u001b[0m\u001b[0;34m.\u001b[0m\u001b[0mndim\u001b[0m \u001b[0;34m>\u001b[0m \u001b[0;36m2\u001b[0m\u001b[0;34m:\u001b[0m\u001b[0;34m\u001b[0m\u001b[0;34m\u001b[0m\u001b[0m\n",
      "\u001b[0;31mValueError\u001b[0m: x and y must have same first dimension, but have shapes (9,) and (10,)"
     ]
    }
   ],
   "source": [
    "lower = np.array(emp_rate) - np.array(var)\n",
    "upper = np.array(emp_rate) + np.array(var)\n",
    "plt.plot(range(len(emp_rate)), emp_rate, '-o', label='empirical rate')\n",
    "plt.plot(range(len(emp_rate)), th_rate, '-o', label='theoritical rate')\n",
    "plt.fill_between(range(len(emp_rate)), lower, upper, alpha=0.2, label=\"variance\")\n",
    "plt.legend()\n",
    "plt.title(\"2-class Gaussian mixture transfer error rate\")\n",
    "plt.xlabel(\"Added Task\")\n",
    "plt.ylabel(\"error rate\")\n",
    "plt.grid()\n",
    "plt.show()"
   ]
  },
  {
   "cell_type": "markdown",
   "metadata": {},
   "source": [
    "# Algorithme distribué k tâches 2 classes\n",
    "Bien que certains résultats du précedent algorithmes sont particulèrement inquiétants, essayons de voir comment distribuer l'algorithme sur plusieurs serveurs.\n",
    "\n",
    "Par exemple un serveur demande les moyennes des autres serveurs pour pouvoir obtenir des meilleurs résultats en calculant la moyenne des ses données et la moyenne de toutes les moyennes avant de le renvoyer au serveur principal qui mettra à jour le modèle.\n",
    "\n",
    "Prendre des données synthétiques pour la 1ère tâche à 2 classes, puis rappatrier une ou plusieurs moyennes pour les autres tasks. \n",
    "Faire des comparaisons, avec et sans federated learning."
   ]
  },
  {
   "cell_type": "markdown",
   "metadata": {},
   "source": [
    "### k serveurs \n",
    "#### Federated Learning 2 classes k taches\n",
    "Imaginons 1 Serveur central et k clients. L'un cherche à classifier un certain type d'images, l'autre un deuxième type d'images. Les deux clients sont confrontés un problème de classification binaire sur des images sensiblement similaire (quantifié par le paramètre $\\beta$), et peuvent donc s'aider du training de l'autre pour affiner leur classification.\n",
    "\n",
    "Le premier client entraîne son modèle de classification sur son jeu de données locales. Il espère obtenir de meilleures performances à l'aide du transfer Learning. Les deux clients envoient alors les moyennes empiriques calculées sur leurs donnée locales, au serveur central. Le serveur peut alors calculé la matrice de corrélation $\\mathcal{M}$ et les labels optimaux $\\tilde{y}$. Les clients recoivent les labels optimaux, et peuvent maintenant recalculer le vecteur propre $V$ de $\\displaystyle\\frac{X_ty_ty_t^TX_t^T}{np}$ et inférer sur de nouvelles données $x$."
   ]
  },
  {
   "cell_type": "markdown",
   "metadata": {},
   "source": [
    "Calcul des moyennes empiriques, et calcul de la matrice $M\\in\\mathbb{R}^{p\\times 2k}$\n",
    "$$\\frac{1}{n_{tj}}X_{tj}\\mathbb{1}_{n_{tj}}=\\frac{1}{n_{tj}}\\sum_{l=1}^{n_{tj}}x_{tl}^{(j)}$$\n",
    "\n",
    "Chaque client calcule en local les moyennes empiriques des données et les envoie au serveur central.\n",
    "\n",
    "De la même façcon que précédemment les données de chaque client (=chaque tâche) devront respecter les conditions de non-trivialité."
   ]
  },
  {
   "cell_type": "code",
   "execution_count": 26,
   "metadata": {},
   "outputs": [],
   "source": [
    "def empirical_mean_old(nb_tasks, nb_classes, X, p, n_t):\n",
    "    \"\"\"\n",
    "    compute empirical mean for data \n",
    "    retourne la matrice M de taille px(2*k) et un vecteur contenant les coefficients diagonaux\n",
    "    nb_classes=2 (toujours)\n",
    "    \n",
    "    Complexité : \n",
    "    -------------\n",
    "    O(k*p*n_tl) = O(n*p)\n",
    "    \"\"\"\n",
    "    M = np.empty((nb_classes*nb_tasks, p))\n",
    "    diag = []\n",
    "    for t in range(nb_tasks):\n",
    "        # O(k)\n",
    "        for l in range(nb_classes):\n",
    "            # O(2)\n",
    "            M[t*nb_classes+l] = X[t][l].dot(np.ones((n_t[t][l])))\n",
    "            # O(p*n_tl)\n",
    "            M[t*nb_classes+l] /= n_t[t][l]\n",
    "            # O(1)\n",
    "            \n",
    "            moitie = int(n_t[t][l]/2)\n",
    "#             print(f\" moitie = {moitie}\")\n",
    "#             print(\"shape X : \", X[t][l].T[:moitie].T.shape)\n",
    "            mu1 = 1/moitie*X[t][l].T[:moitie].T@np.ones((moitie))\n",
    "            mu2 = 1/moitie*X[t][l].T[moitie:2*moitie].T@np.ones((moitie))\n",
    "#             print(\"mu shapes before : \")\n",
    "#             print(mu1.shape)\n",
    "#             print(mu2.shape)\n",
    "            # O(p*n_tl)\n",
    "            mu1, mu2 = np.reshape(mu1, (p, 1)), np.reshape(mu2, (p, 1))\n",
    "#             print(\"mu shapes : \")\n",
    "#             print(mu1.shape)\n",
    "#             print(mu2.shape)\n",
    "            diag.append(mu1.T@mu2)\n",
    "            # O(1)\n",
    "    \n",
    "    return M.T, diag\n",
    "\n",
    "# diag1 = [mu1]\n",
    "#diag_means = [[mu1], [mu2]]\n",
    "\n",
    "def gather_empirical_mean(nb_tasks, nb_classes, emp_means, diag_means, p, n_t):\n",
    "    \"\"\"\n",
    "    emp_means est un vecteur contenant les moyennes empiriques de chaque tache de chaque classe.\n",
    "    Chaque vecteur de moyennes et de taille px1\n",
    "    Renvoie la matrice M des, produits scalaires entre moyennes empiriques de chaque client\n",
    "    \"\"\"\n",
    "    M = np.empty((nb_classes*nb_tasks, nb_classes*nb_tasks)) # ici 4x4\n",
    "    for i in range(nb_tasks):\n",
    "        # O(k)\n",
    "        for j in range(nb_classes):\n",
    "            # O(2)\n",
    "            for k in range(nb_tasks):\n",
    "                # O(k)\n",
    "                for l in range(nb_classes):\n",
    "                    # O(2)\n",
    "                    if i == k and j == l:\n",
    "                        #print(f\"i = {i}, j = {j}\")\n",
    "#                         print(i*nb_tasks+j, i*nb_tasks+j)\n",
    "#                         print(moitie)\n",
    "#                         print(np.ones((moitie, 1)).T.dot(X[i][j].T[:moitie]).shape)\n",
    "#                         print(emp_means[i*nb_tasks+j][:moitie].T.shape)\n",
    "                        M[i*nb_classes+j][i*nb_classes+j] = diag_means[i*nb_classes+j]\n",
    "                    else:\n",
    "#                         print(i*nb_tasks+j, k*nb_tasks+l)\n",
    "#                         print(emp_means[i*nb_tasks+j].T.shape)\n",
    "#                         print(emp_means[k*nb_tasks+l].shape)\n",
    "                        M[i*nb_classes+j][k*nb_classes+l] = emp_means[i*nb_classes+j].T.dot(emp_means[k*nb_classes+l])\n",
    "                    # O(p)\n",
    "#                         print(M[i*nb_tasks+j][k*nb_tasks+l].shape)\n",
    "                \n",
    "    return M"
   ]
  },
  {
   "cell_type": "code",
   "execution_count": 27,
   "metadata": {},
   "outputs": [],
   "source": [
    "def merging_center(MM, diag, t, m, p, n, n_t, task_target=None, display=False):\n",
    "    \"\"\"\n",
    "    Recoit les moyennes empiriques des k clients, calcule la matrice de corrélation, les labels optimaux et renvoie le vecteur V\n",
    "    Renvoie y un vecteur de labels optimaux adapté à chaque client. (à changer?)\n",
    "    \"\"\"\n",
    "    # MM = [[MM11, MM12], [MM21, MM22], [MM31, MM32], ...]\n",
    "    emp_means = []\n",
    "    diagonal = []\n",
    "    \n",
    "    for i in range(len(MM)):\n",
    "        for l in range(m):\n",
    "            emp_means.append(np.reshape(MM[i].T[l], (p, 1)))\n",
    "            diagonal.append(diag[i][l])\n",
    "    #diag = [diag1[0], diag1[1], etc.]\n",
    "    #emp_means = [MM11, MM12, MM21, MM22, MM31, ...]\n",
    "    MM_gathered = gather_empirical_mean(t, m, emp_means, diagonal, p, n_t)\n",
    "    if display:\n",
    "        print(\"MM_gathered : \")\n",
    "        matprint(MM_gathered)\n",
    "    \n",
    "    c = estimate_c(n_t, n, t, m)\n",
    "    c0 = p/n\n",
    "    Dc = np.diag(c)\n",
    "    correlation_matrix = compute_M_cal(n, p, Dc, MM_gathered, display=display)\n",
    "    y = label_evaluation(t,m,Dc,MM_gathered, c0, task_target=task_target)\n",
    "    if display:\n",
    "        matprint(y)\n",
    "    \n",
    "    # le serveur calcule aussi\n",
    "    V = np.zeros((p,1))\n",
    "    for i in range(t):\n",
    "        for j in range(m):\n",
    "            V += n_t[i][j]*emp_means[i*m+j]*y[i*m+j]\n",
    "#     print(f\"V = {V}\")\n",
    "      # pourquoi on a touours le meme V ?\n",
    "#     V = V.astype(\"float128\")\n",
    "    V /= np.linalg.norm(V)\n",
    "    V = np.reshape(V, (p))\n",
    "    \n",
    "    return V, y, correlation_matrix, Dc, c0"
   ]
  },
  {
   "cell_type": "code",
   "execution_count": 92,
   "metadata": {
    "scrolled": true
   },
   "outputs": [
    {
     "name": "stdout",
     "output_type": "stream",
     "text": [
      "   4.75962    -4.8477   0.248358  -0.0578444  \n",
      "   -4.8477    5.00614  -0.245624   0.0800484  \n",
      "  0.248358  -0.245624    0.38153   -0.349971  \n",
      "-0.0578444  0.0800484  -0.349971    0.221217  \n",
      "  4.75962    -4.8477   0.369321  -0.178808  \n",
      "  -4.8477    5.00614  -0.369511   0.203936  \n",
      " 0.369321  -0.369511   0.394195  -0.358058  \n",
      "-0.178808   0.203936  -0.358058   0.224724  \n",
      "  4.75962    -4.8477   0.490055  -0.299541  \n",
      "  -4.8477    5.00614  -0.493872   0.328296  \n",
      " 0.490055  -0.493872   0.405617  -0.365322  \n",
      "-0.299541   0.328296  -0.365322    0.22783  \n",
      "  4.75962    -4.8477   0.610545  -0.420032  \n",
      "  -4.8477    5.00614  -0.618733   0.453157  \n",
      " 0.610545  -0.618733   0.415722  -0.371715  \n",
      "-0.420032   0.453157  -0.371715   0.230512  \n",
      "  4.75962    -4.8477   0.730766  -0.540252  \n",
      "  -4.8477    5.00614  -0.744148   0.578573  \n",
      " 0.730766  -0.744148   0.424368  -0.377143  \n",
      "-0.540252   0.578573  -0.377143   0.232723  \n",
      "  4.75962    -4.8477   0.850671  -0.660157  \n",
      "  -4.8477    5.00614  -0.870213   0.704637  \n",
      " 0.850671  -0.870213   0.431307  -0.381444  \n",
      "-0.660157   0.704637  -0.381444   0.234384  \n",
      "  4.75962    -4.8477    0.97018  -0.779666  \n",
      "  -4.8477    5.00614  -0.997094   0.831518  \n",
      "  0.97018  -0.997094   0.436099  -0.384324  \n",
      "-0.779666   0.831518  -0.384324   0.235354  \n",
      "  4.75962   -4.8477    1.08913  -0.898616  \n",
      "  -4.8477   5.00614   -1.12512   0.959548  \n",
      "  1.08913  -1.12512   0.437869  -0.385207  \n",
      "-0.898616  0.959548  -0.385207   0.235348  \n",
      " 4.75962   -4.8477     1.2071   -1.01659  \n",
      " -4.8477   5.00614   -1.25516    1.08959  \n",
      "  1.2071  -1.25516   0.434359  -0.382598  \n",
      "-1.01659   1.08959  -0.382598   0.233641  \n",
      " 4.75962   -4.8477    1.31984   -1.12933  \n",
      " -4.8477   5.00614   -1.39597     1.2304  \n",
      " 1.31984  -1.39597   0.402512  -0.361254  \n",
      "-1.12933    1.2304  -0.361254     0.2228  \n",
      "temps moyen clients : 0.00089, 0.01945\n",
      "temps moyen Serveur central : 0.00046\n",
      "temps total moyen : 0.020799999999999996\n"
     ]
    },
    {
     "data": {
      "image/png": "[encoded data removed]",
      "text/plain": [
       "<Figure size 432x288 with 1 Axes>"
      ]
     },
     "metadata": {
      "needs_background": "light"
     },
     "output_type": "display_data"
    }
   ],
   "source": [
    "n1 = 2000\n",
    "n2 = 100\n",
    "n = n1+n2\n",
    "p = 100\n",
    "m = 2\n",
    "t = 2\n",
    "ni = [n1, n2]\n",
    "beta = np.linspace(0,1,10)\n",
    "n_t = [[int(n1/2),int(n1/2)], [int(n2/2), int(n2/2)]]\n",
    "n_t_test = [[1000, 1000]]\n",
    "nt = sum(n_t_test[0])\n",
    "emp_rate, th_rate, var = [], [], []\n",
    "\n",
    "t_MM = []\n",
    "t_SC = []\n",
    "t_inf = []\n",
    "t_MM_f = []\n",
    "t_inf_f = []\n",
    "\n",
    "random_state = 100\n",
    "task_target = 1\n",
    "\n",
    "for b in beta:\n",
    "    # on crée les données synthétiques\n",
    "    M = mean_matrix(p, b, t, random_seed=random_state)\n",
    "#       print(M)\n",
    "    # X1 is the local data of the first client\n",
    "    # normalisation?\n",
    "    X, y_bs = gaussian_synthetic_data(n, p, m, t, n_t, M, random_state)\n",
    "    \n",
    "    # data we want to test on our model, here new data of client n°2\n",
    "    X_test, y_test = gaussian_synthetic_data(nt, p, m, 1, n_t_test, [M[task_target]], random_state)\n",
    "    \n",
    "    MM = []\n",
    "    diag = []\n",
    "#     X = normalisation(X, p)\n",
    "    X_test = normalisation(X_test, p)\n",
    "    \n",
    "    # On calcule les moyennes empiriques sur les données locales\n",
    "    # diag1 = [diag1[0], diag1[1]]\n",
    "    for i in range(t):\n",
    "        t0 = time()\n",
    "        MM1, diag1 = empirical_mean_old(1, m, [X[i]], p, [n_t[i]])\n",
    "        t_MM.append(time()-t0)\n",
    "        MM.append(MM1)\n",
    "        diag.append(diag1)\n",
    "\n",
    "# CENTRAL SERVER\n",
    "    t0 = time()\n",
    "    # sending empirical means to central server\n",
    "    # y est un vecteur de vecteurs de labels optimaux\n",
    "    V, y, correlation_matrix, Dc, c0 = merging_center(MM, diag, t, m, p, n, n_t, task_target)\n",
    "    t_SC.append(time()-t0)\n",
    "    matprint(correlation_matrix)\n",
    "    \n",
    "# END CENTRAL SERVER\n",
    "\n",
    "    # Sending back optimal labels to clients\n",
    "    aggregated = []\n",
    "    for i in range(t):\n",
    "        aggregated.append(aggregate_array([X[i]], p, ni[i], 1, m))\n",
    "    X_test_aggregated = aggregate_array(X_test, p, nt, 1, m)\n",
    "    # ou alors créer un J ?\n",
    "#     J = create_J(m, 2, n, n_t)\n",
    "    \n",
    "    VTX = V.T@X_test_aggregated\n",
    "    var.append(np.var(VTX))\n",
    "    \n",
    "#     debug_histogram(V, X_test_aggregated, n_t_test)\n",
    "#     print(\"V = \")\n",
    "#     print(V)\n",
    "    t0 = time()\n",
    "    m_t = create_mt(t, m, y, Dc, correlation_matrix)\n",
    "    \n",
    "    emp_rate.append(compute_error_rate(X_test, V, m_t, 1, m, n_t_test, Dc, c0))\n",
    "    t_inf.append(time()-t0)\n",
    "#     th_rate.append(error_rate(t, m,  Dc, MM_true, c0)[0][0])\n",
    "#     print(emp_rate, th_rate)\n",
    "    t_MM_f.append(max(t_MM))\n",
    "    t_inf_f.append(max(t_inf))\n",
    "    \n",
    "# pour pas le recalculer a chaque fois \n",
    "th_rate = [0.23975006109347674, 0.23910189492427802, 0.23712834068265354, 0.23373859215337528, 0.2287682743173643, 0.22195637062121154, 0.2129043075952785, 0.20100393554334806, 0.18530737544421827, 0.16428249171959852]   \n",
    "\n",
    "print(f\"temps moyen clients : {round(np.mean(t_MM_f), 5)}, {round(np.mean(t_inf_f), 5)}\")\n",
    "print(f\"temps moyen Serveur central : {round(np.mean(t_SC), 5)}\")\n",
    "print(f\"temps total moyen : {round(np.mean(t_MM_f), 5) + round(np.mean(t_inf_f), 5) + round(np.mean(t_SC), 5)}\")\n",
    "\n",
    "lower = np.array(emp_rate) - np.array(var)\n",
    "upper = np.array(emp_rate) + np.array(var)\n",
    "plt.plot(beta, emp_rate, '-o', label='empirical rate')\n",
    "plt.plot(beta, th_rate, '-o', label='theoritical rate')\n",
    "plt.fill_between(beta, lower, upper, alpha=0.2, label=\"variance\")\n",
    "plt.legend()\n",
    "plt.title(f\"2-class Gaussian mixture transfer error rate for n={n} and p={p}\")\n",
    "plt.xlabel(\"Task relatedness (beta)\")\n",
    "plt.ylabel(\"error rate\")\n",
    "plt.grid()\n",
    "plt.show()"
   ]
  },
  {
   "cell_type": "code",
   "execution_count": null,
   "metadata": {},
   "outputs": [],
   "source": [
    "4.75962   -4.8477    1.08341  -0.892901  \n",
    "  -4.8477   5.00614    -1.1252   0.959628  \n",
    "  1.08341   -1.1252   0.327581  -0.326737  \n",
    "-0.892901  0.959628  -0.326737   0.228697 "
   ]
  },
  {
   "cell_type": "code",
   "execution_count": 70,
   "metadata": {
    "collapsed": true
   },
   "outputs": [
    {
     "name": "stdout",
     "output_type": "stream",
     "text": [
      "temps moyen clients (calcul moyennes, inférence): 0.00093 s, 0.01507 s\n",
      "temps moyen Serveur central : 0.18465 s\n",
      "temps total moyen : 0.20065 s\n"
     ]
    },
    {
     "ename": "ValueError",
     "evalue": "x and y must have same first dimension, but have shapes (10,) and (9,)",
     "output_type": "error",
     "traceback": [
      "\u001b[0;31m---------------------------------------------------------------------------\u001b[0m",
      "\u001b[0;31mValueError\u001b[0m                                Traceback (most recent call last)",
      "\u001b[0;32m<ipython-input-70-0f822c136269>\u001b[0m in \u001b[0;36m<module>\u001b[0;34m\u001b[0m\n\u001b[1;32m      7\u001b[0m \u001b[0mlower\u001b[0m \u001b[0;34m=\u001b[0m \u001b[0mnp\u001b[0m\u001b[0;34m.\u001b[0m\u001b[0marray\u001b[0m\u001b[0;34m(\u001b[0m\u001b[0memp_rate\u001b[0m\u001b[0;34m)\u001b[0m \u001b[0;34m-\u001b[0m \u001b[0mnp\u001b[0m\u001b[0;34m.\u001b[0m\u001b[0marray\u001b[0m\u001b[0;34m(\u001b[0m\u001b[0mvar\u001b[0m\u001b[0;34m)\u001b[0m\u001b[0;34m\u001b[0m\u001b[0;34m\u001b[0m\u001b[0m\n\u001b[1;32m      8\u001b[0m \u001b[0mupper\u001b[0m \u001b[0;34m=\u001b[0m \u001b[0mnp\u001b[0m\u001b[0;34m.\u001b[0m\u001b[0marray\u001b[0m\u001b[0;34m(\u001b[0m\u001b[0memp_rate\u001b[0m\u001b[0;34m)\u001b[0m \u001b[0;34m+\u001b[0m \u001b[0mnp\u001b[0m\u001b[0;34m.\u001b[0m\u001b[0marray\u001b[0m\u001b[0;34m(\u001b[0m\u001b[0mvar\u001b[0m\u001b[0;34m)\u001b[0m\u001b[0;34m\u001b[0m\u001b[0;34m\u001b[0m\u001b[0m\n\u001b[0;32m----> 9\u001b[0;31m \u001b[0mplt\u001b[0m\u001b[0;34m.\u001b[0m\u001b[0mplot\u001b[0m\u001b[0;34m(\u001b[0m\u001b[0mbeta\u001b[0m\u001b[0;34m,\u001b[0m \u001b[0memp_rate\u001b[0m\u001b[0;34m,\u001b[0m \u001b[0;34m'-o'\u001b[0m\u001b[0;34m,\u001b[0m \u001b[0mlabel\u001b[0m\u001b[0;34m=\u001b[0m\u001b[0;34m'empirical rate'\u001b[0m\u001b[0;34m)\u001b[0m\u001b[0;34m\u001b[0m\u001b[0;34m\u001b[0m\u001b[0m\n\u001b[0m\u001b[1;32m     10\u001b[0m \u001b[0mplt\u001b[0m\u001b[0;34m.\u001b[0m\u001b[0mplot\u001b[0m\u001b[0;34m(\u001b[0m\u001b[0mbeta\u001b[0m\u001b[0;34m,\u001b[0m \u001b[0mth_rate\u001b[0m\u001b[0;34m,\u001b[0m \u001b[0;34m'-o'\u001b[0m\u001b[0;34m,\u001b[0m \u001b[0mlabel\u001b[0m\u001b[0;34m=\u001b[0m\u001b[0;34m'theoritical rate'\u001b[0m\u001b[0;34m)\u001b[0m\u001b[0;34m\u001b[0m\u001b[0;34m\u001b[0m\u001b[0m\n\u001b[1;32m     11\u001b[0m \u001b[0mplt\u001b[0m\u001b[0;34m.\u001b[0m\u001b[0mfill_between\u001b[0m\u001b[0;34m(\u001b[0m\u001b[0mbeta\u001b[0m\u001b[0;34m,\u001b[0m \u001b[0mlower\u001b[0m\u001b[0;34m,\u001b[0m \u001b[0mupper\u001b[0m\u001b[0;34m,\u001b[0m \u001b[0malpha\u001b[0m\u001b[0;34m=\u001b[0m\u001b[0;36m0.2\u001b[0m\u001b[0;34m,\u001b[0m \u001b[0mlabel\u001b[0m\u001b[0;34m=\u001b[0m\u001b[0;34m\"variance\"\u001b[0m\u001b[0;34m)\u001b[0m\u001b[0;34m\u001b[0m\u001b[0;34m\u001b[0m\u001b[0m\n",
      "\u001b[0;32m~/anaconda3/lib/python3.7/site-packages/matplotlib/pyplot.py\u001b[0m in \u001b[0;36mplot\u001b[0;34m(scalex, scaley, data, *args, **kwargs)\u001b[0m\n\u001b[1;32m   2840\u001b[0m     return gca().plot(\n\u001b[1;32m   2841\u001b[0m         \u001b[0;34m*\u001b[0m\u001b[0margs\u001b[0m\u001b[0;34m,\u001b[0m \u001b[0mscalex\u001b[0m\u001b[0;34m=\u001b[0m\u001b[0mscalex\u001b[0m\u001b[0;34m,\u001b[0m \u001b[0mscaley\u001b[0m\u001b[0;34m=\u001b[0m\u001b[0mscaley\u001b[0m\u001b[0;34m,\u001b[0m\u001b[0;34m\u001b[0m\u001b[0;34m\u001b[0m\u001b[0m\n\u001b[0;32m-> 2842\u001b[0;31m         **({\"data\": data} if data is not None else {}), **kwargs)\n\u001b[0m\u001b[1;32m   2843\u001b[0m \u001b[0;34m\u001b[0m\u001b[0m\n\u001b[1;32m   2844\u001b[0m \u001b[0;34m\u001b[0m\u001b[0m\n",
      "\u001b[0;32m~/anaconda3/lib/python3.7/site-packages/matplotlib/axes/_axes.py\u001b[0m in \u001b[0;36mplot\u001b[0;34m(self, scalex, scaley, data, *args, **kwargs)\u001b[0m\n\u001b[1;32m   1741\u001b[0m         \"\"\"\n\u001b[1;32m   1742\u001b[0m         \u001b[0mkwargs\u001b[0m \u001b[0;34m=\u001b[0m \u001b[0mcbook\u001b[0m\u001b[0;34m.\u001b[0m\u001b[0mnormalize_kwargs\u001b[0m\u001b[0;34m(\u001b[0m\u001b[0mkwargs\u001b[0m\u001b[0;34m,\u001b[0m \u001b[0mmlines\u001b[0m\u001b[0;34m.\u001b[0m\u001b[0mLine2D\u001b[0m\u001b[0;34m)\u001b[0m\u001b[0;34m\u001b[0m\u001b[0;34m\u001b[0m\u001b[0m\n\u001b[0;32m-> 1743\u001b[0;31m         \u001b[0mlines\u001b[0m \u001b[0;34m=\u001b[0m \u001b[0;34m[\u001b[0m\u001b[0;34m*\u001b[0m\u001b[0mself\u001b[0m\u001b[0;34m.\u001b[0m\u001b[0m_get_lines\u001b[0m\u001b[0;34m(\u001b[0m\u001b[0;34m*\u001b[0m\u001b[0margs\u001b[0m\u001b[0;34m,\u001b[0m \u001b[0mdata\u001b[0m\u001b[0;34m=\u001b[0m\u001b[0mdata\u001b[0m\u001b[0;34m,\u001b[0m \u001b[0;34m**\u001b[0m\u001b[0mkwargs\u001b[0m\u001b[0;34m)\u001b[0m\u001b[0;34m]\u001b[0m\u001b[0;34m\u001b[0m\u001b[0;34m\u001b[0m\u001b[0m\n\u001b[0m\u001b[1;32m   1744\u001b[0m         \u001b[0;32mfor\u001b[0m \u001b[0mline\u001b[0m \u001b[0;32min\u001b[0m \u001b[0mlines\u001b[0m\u001b[0;34m:\u001b[0m\u001b[0;34m\u001b[0m\u001b[0;34m\u001b[0m\u001b[0m\n\u001b[1;32m   1745\u001b[0m             \u001b[0mself\u001b[0m\u001b[0;34m.\u001b[0m\u001b[0madd_line\u001b[0m\u001b[0;34m(\u001b[0m\u001b[0mline\u001b[0m\u001b[0;34m)\u001b[0m\u001b[0;34m\u001b[0m\u001b[0;34m\u001b[0m\u001b[0m\n",
      "\u001b[0;32m~/anaconda3/lib/python3.7/site-packages/matplotlib/axes/_base.py\u001b[0m in \u001b[0;36m__call__\u001b[0;34m(self, data, *args, **kwargs)\u001b[0m\n\u001b[1;32m    271\u001b[0m                 \u001b[0mthis\u001b[0m \u001b[0;34m+=\u001b[0m \u001b[0margs\u001b[0m\u001b[0;34m[\u001b[0m\u001b[0;36m0\u001b[0m\u001b[0;34m]\u001b[0m\u001b[0;34m,\u001b[0m\u001b[0;34m\u001b[0m\u001b[0;34m\u001b[0m\u001b[0m\n\u001b[1;32m    272\u001b[0m                 \u001b[0margs\u001b[0m \u001b[0;34m=\u001b[0m \u001b[0margs\u001b[0m\u001b[0;34m[\u001b[0m\u001b[0;36m1\u001b[0m\u001b[0;34m:\u001b[0m\u001b[0;34m]\u001b[0m\u001b[0;34m\u001b[0m\u001b[0;34m\u001b[0m\u001b[0m\n\u001b[0;32m--> 273\u001b[0;31m             \u001b[0;32myield\u001b[0m \u001b[0;32mfrom\u001b[0m \u001b[0mself\u001b[0m\u001b[0;34m.\u001b[0m\u001b[0m_plot_args\u001b[0m\u001b[0;34m(\u001b[0m\u001b[0mthis\u001b[0m\u001b[0;34m,\u001b[0m \u001b[0mkwargs\u001b[0m\u001b[0;34m)\u001b[0m\u001b[0;34m\u001b[0m\u001b[0;34m\u001b[0m\u001b[0m\n\u001b[0m\u001b[1;32m    274\u001b[0m \u001b[0;34m\u001b[0m\u001b[0m\n\u001b[1;32m    275\u001b[0m     \u001b[0;32mdef\u001b[0m \u001b[0mget_next_color\u001b[0m\u001b[0;34m(\u001b[0m\u001b[0mself\u001b[0m\u001b[0;34m)\u001b[0m\u001b[0;34m:\u001b[0m\u001b[0;34m\u001b[0m\u001b[0;34m\u001b[0m\u001b[0m\n",
      "\u001b[0;32m~/anaconda3/lib/python3.7/site-packages/matplotlib/axes/_base.py\u001b[0m in \u001b[0;36m_plot_args\u001b[0;34m(self, tup, kwargs)\u001b[0m\n\u001b[1;32m    397\u001b[0m \u001b[0;34m\u001b[0m\u001b[0m\n\u001b[1;32m    398\u001b[0m         \u001b[0;32mif\u001b[0m \u001b[0mx\u001b[0m\u001b[0;34m.\u001b[0m\u001b[0mshape\u001b[0m\u001b[0;34m[\u001b[0m\u001b[0;36m0\u001b[0m\u001b[0;34m]\u001b[0m \u001b[0;34m!=\u001b[0m \u001b[0my\u001b[0m\u001b[0;34m.\u001b[0m\u001b[0mshape\u001b[0m\u001b[0;34m[\u001b[0m\u001b[0;36m0\u001b[0m\u001b[0;34m]\u001b[0m\u001b[0;34m:\u001b[0m\u001b[0;34m\u001b[0m\u001b[0;34m\u001b[0m\u001b[0m\n\u001b[0;32m--> 399\u001b[0;31m             raise ValueError(f\"x and y must have same first dimension, but \"\n\u001b[0m\u001b[1;32m    400\u001b[0m                              f\"have shapes {x.shape} and {y.shape}\")\n\u001b[1;32m    401\u001b[0m         \u001b[0;32mif\u001b[0m \u001b[0mx\u001b[0m\u001b[0;34m.\u001b[0m\u001b[0mndim\u001b[0m \u001b[0;34m>\u001b[0m \u001b[0;36m2\u001b[0m \u001b[0;32mor\u001b[0m \u001b[0my\u001b[0m\u001b[0;34m.\u001b[0m\u001b[0mndim\u001b[0m \u001b[0;34m>\u001b[0m \u001b[0;36m2\u001b[0m\u001b[0;34m:\u001b[0m\u001b[0;34m\u001b[0m\u001b[0;34m\u001b[0m\u001b[0m\n",
      "\u001b[0;31mValueError\u001b[0m: x and y must have same first dimension, but have shapes (10,) and (9,)"
     ]
    },
    {
     "data": {
      "image/png": "[encoded data removed]",
      "text/plain": [
       "<Figure size 432x288 with 1 Axes>"
      ]
     },
     "metadata": {
      "needs_background": "light"
     },
     "output_type": "display_data"
    }
   ],
   "source": [
    "th_rate = [0.23975006109347674, 0.23910189492427802, 0.23712834068265354, 0.23373859215337528, 0.2287682743173643, 0.22195637062121154, 0.2129043075952785, 0.20100393554334806, 0.18530737544421827, 0.16428249171959852]   \n",
    "\n",
    "print(f\"temps moyen clients (calcul moyennes, inférence): {round(np.mean(t_MM_f), 5)} s, {round(np.mean(t_inf_f), 5)} s\")\n",
    "print(f\"temps moyen Serveur central : {round(np.mean(t_SC), 5)} s\")\n",
    "print(f\"temps total moyen : {round(np.mean(t_MM_f), 5) + round(np.mean(t_inf_f), 5) + round(np.mean(t_SC), 5)} s\")\n",
    "\n",
    "lower = np.array(emp_rate) - np.array(var)\n",
    "upper = np.array(emp_rate) + np.array(var)\n",
    "plt.plot(beta, emp_rate, '-o', label='empirical rate')\n",
    "plt.plot(beta, th_rate, '-o', label='theoritical rate')\n",
    "plt.fill_between(beta, lower, upper, alpha=0.2, label=\"variance\")\n",
    "plt.legend()\n",
    "plt.title(f\"2-class Gaussian mixture transfer error rate for n={n} and p={p}\")\n",
    "plt.xlabel(\"Task relatedness (beta)\")\n",
    "plt.ylabel(\"error rate\")\n",
    "plt.grid()\n",
    "plt.show()"
   ]
  },
  {
   "cell_type": "markdown",
   "metadata": {},
   "source": [
    "# Distributively adding tasks"
   ]
  },
  {
   "cell_type": "code",
   "execution_count": 76,
   "metadata": {
    "scrolled": true
   },
   "outputs": [
    {
     "name": "stdout",
     "output_type": "stream",
     "text": [
      "random\n",
      "beta 0.5434049417909654\n",
      "random\n",
      "beta 0.5434049417909654\n",
      "task 1 empirical mean = -0.010383162821594183\n",
      "task 1 empirical mean = 0.08614388825666613\n",
      "MM_gathered : \n",
      " 0.951924  -0.969539  0.749151  -0.57875  \n",
      "-0.969539    1.00123  -0.76598  0.617884  \n",
      " 0.749151   -0.76598   1.72257  -1.52414  \n",
      " -0.57875   0.617884  -1.52414  0.936933  \n"
     ]
    },
    {
     "data": {
      "image/png": "[encoded data removed]",
      "text/plain": [
       "<Figure size 432x288 with 1 Axes>"
      ]
     },
     "metadata": {
      "needs_background": "light"
     },
     "output_type": "display_data"
    },
    {
     "name": "stdout",
     "output_type": "stream",
     "text": [
      " 0.558623  \n",
      "-0.835573  \n",
      "  23.9676  \n",
      " -17.0393  \n",
      "[[0.47619048 0.         0.         0.        ]\n",
      " [0.         0.47619048 0.         0.        ]\n",
      " [0.         0.         0.02380952 0.        ]\n",
      " [0.         0.         0.         0.02380952]]\n"
     ]
    },
    {
     "data": {
      "image/png": "[encoded data removed]",
      "text/plain": [
       "<Figure size 432x288 with 1 Axes>"
      ]
     },
     "metadata": {
      "needs_background": "light"
     },
     "output_type": "display_data"
    },
    {
     "name": "stdout",
     "output_type": "stream",
     "text": [
      "arg q-func : \n",
      "[[0.58181058]]\n",
      "random\n",
      "beta 0.5434049417909654\n",
      "random\n",
      "beta 0.27836938509379616\n",
      "random\n",
      "beta 0.4245175907491331\n",
      "task 1 empirical mean = -0.010383162821594183\n",
      "task 1 empirical mean = 0.08614388825666613\n",
      "task 1 empirical mean = 0.024111917709081457\n",
      "task 1 empirical mean = -0.03329167694431728\n",
      "MM_gathered : \n",
      " 0.951924  -0.969539   0.749151  -0.57875   0.311353  -0.24342   0.227757  -0.330132  \n",
      "-0.969539    1.00123   -0.76598  0.617884  -0.263475  0.221641  -0.240907   0.317086  \n",
      " 0.749151   -0.76598    1.72257  -1.52414    1.16021  -1.20242    1.24267  -0.899731  \n",
      " -0.57875   0.617884   -1.52414  0.936933   -1.04045  0.989171   -1.21093    1.17366  \n",
      " 0.311353  -0.263475    1.16021  -1.04045   0.991575  -0.97316    1.14243  -0.903924  \n",
      " -0.24342   0.221641   -1.20242  0.989171   -0.97316  0.993946   -1.08782   0.919942  \n",
      " 0.227757  -0.240907    1.24267  -1.21093    1.14243  -1.08782    1.40863   -1.23445  \n",
      "-0.330132   0.317086  -0.899731   1.17366  -0.903924  0.919942   -1.23445   0.725966  \n"
     ]
    },
    {
     "data": {
      "image/png": "[encoded data removed]",
      "text/plain": [
       "<Figure size 432x288 with 1 Axes>"
      ]
     },
     "metadata": {
      "needs_background": "light"
     },
     "output_type": "display_data"
    },
    {
     "name": "stdout",
     "output_type": "stream",
     "text": [
      "-0.251397  \n",
      " -3.44099  \n",
      "  13.3485  \n",
      "  2.60064  \n",
      "  3.38266  \n",
      " -3.82525  \n",
      "  3.71941  \n",
      " -3.27217  \n",
      "[[0.23809524 0.         0.         0.         0.         0.\n",
      "  0.         0.        ]\n",
      " [0.         0.23809524 0.         0.         0.         0.\n",
      "  0.         0.        ]\n",
      " [0.         0.         0.01190476 0.         0.         0.\n",
      "  0.         0.        ]\n",
      " [0.         0.         0.         0.01190476 0.         0.\n",
      "  0.         0.        ]\n",
      " [0.         0.         0.         0.         0.23809524 0.\n",
      "  0.         0.        ]\n",
      " [0.         0.         0.         0.         0.         0.23809524\n",
      "  0.         0.        ]\n",
      " [0.         0.         0.         0.         0.         0.\n",
      "  0.01190476 0.        ]\n",
      " [0.         0.         0.         0.         0.         0.\n",
      "  0.         0.01190476]]\n"
     ]
    },
    {
     "data": {
      "image/png": "[encoded data removed]",
      "text/plain": [
       "<Figure size 432x288 with 1 Axes>"
      ]
     },
     "metadata": {
      "needs_background": "light"
     },
     "output_type": "display_data"
    },
    {
     "name": "stdout",
     "output_type": "stream",
     "text": [
      "arg q-func : \n",
      "[[0.96227603]]\n",
      "random\n",
      "beta 0.5434049417909654\n",
      "random\n",
      "beta 0.27836938509379616\n",
      "random\n",
      "beta 0.4245175907491331\n",
      "random\n",
      "beta 0.8447761323199037\n",
      "random\n",
      "beta 0.004718856190972565\n",
      "task 1 empirical mean = -0.010383162821594183\n",
      "task 1 empirical mean = 0.08614388825666613\n",
      "task 1 empirical mean = 0.024111917709081457\n",
      "task 1 empirical mean = -0.03329167694431728\n",
      "task 1 empirical mean = 0.013589669518937864\n",
      "task 1 empirical mean = 0.0142968732743139\n",
      "MM_gathered : \n",
      "  0.951924    -0.969539   0.749151   -0.57875   0.311353   -0.24342   0.227757  -0.330132   0.831565  -0.809621   0.0729418   -0.0536758  \n",
      " -0.969539      1.00123   -0.76598   0.617884  -0.263475   0.221641  -0.240907   0.317086  -0.824951    0.80408  -0.0150869  -0.00877494  \n",
      "  0.749151     -0.76598    1.72257   -1.52414    1.16021   -1.20242    1.24267  -0.899731    1.13254   -1.11581     1.11969     -0.98553  \n",
      "  -0.57875     0.617884   -1.52414   0.936933   -1.04045   0.989171   -1.21093    1.17366   -1.00117   0.959235   -0.898834     0.843833  \n",
      "  0.311353    -0.263475    1.16021   -1.04045   0.991575   -0.97316    1.14243  -0.903924   0.721526  -0.698738     1.07078    -0.942397  \n",
      "  -0.24342     0.221641   -1.20242   0.989171   -0.97316   0.993946   -1.08782   0.919942    -0.6632   0.660606   -0.958923     0.904885  \n",
      "  0.227757    -0.240907    1.24267   -1.21093    1.14243   -1.08782    1.40863   -1.23445   0.745869  -0.754327    0.872982     -0.88993  \n",
      " -0.330132     0.317086  -0.899731    1.17366  -0.903924   0.919942   -1.23445   0.725966  -0.704625   0.751767    -1.01074      1.05647  \n",
      "  0.831565    -0.824951    1.13254   -1.00117   0.721526    -0.6632   0.745869  -0.704625   0.960268  -0.949547    0.616714    -0.661781  \n",
      " -0.809621      0.80408   -1.11581   0.959235  -0.698738   0.660606  -0.754327   0.751767  -0.949547   0.888018   -0.603595     0.571738  \n",
      " 0.0729418   -0.0150869    1.11969  -0.898834    1.07078  -0.958923   0.872982   -1.01074   0.616714  -0.603595     1.40181    -0.916653  \n",
      "-0.0536758  -0.00877494   -0.98553   0.843833  -0.942397   0.904885   -0.88993    1.05647  -0.661781   0.571738   -0.916653     0.985145  \n"
     ]
    },
    {
     "data": {
      "image/png": "[encoded data removed]",
      "text/plain": [
       "<Figure size 432x288 with 1 Axes>"
      ]
     },
     "metadata": {
      "needs_background": "light"
     },
     "output_type": "display_data"
    },
    {
     "name": "stdout",
     "output_type": "stream",
     "text": [
      "-3.19997  \n",
      "-2.86765  \n",
      " 18.2163  \n",
      " 9.70922  \n",
      " 3.55187  \n",
      "-4.59916  \n",
      " 2.72545  \n",
      "-2.54159  \n",
      " 4.22401  \n",
      "-3.42114  \n",
      "-2.65282  \n",
      " 7.77424  \n",
      "[[0.15873016 0.         0.         0.         0.         0.\n",
      "  0.         0.         0.         0.         0.         0.        ]\n",
      " [0.         0.15873016 0.         0.         0.         0.\n",
      "  0.         0.         0.         0.         0.         0.        ]\n",
      " [0.         0.         0.00793651 0.         0.         0.\n",
      "  0.         0.         0.         0.         0.         0.        ]\n",
      " [0.         0.         0.         0.00793651 0.         0.\n",
      "  0.         0.         0.         0.         0.         0.        ]\n",
      " [0.         0.         0.         0.         0.15873016 0.\n",
      "  0.         0.         0.         0.         0.         0.        ]\n",
      " [0.         0.         0.         0.         0.         0.15873016\n",
      "  0.         0.         0.         0.         0.         0.        ]\n",
      " [0.         0.         0.         0.         0.         0.\n",
      "  0.00793651 0.         0.         0.         0.         0.        ]\n",
      " [0.         0.         0.         0.         0.         0.\n",
      "  0.         0.00793651 0.         0.         0.         0.        ]\n",
      " [0.         0.         0.         0.         0.         0.\n",
      "  0.         0.         0.15873016 0.         0.         0.        ]\n",
      " [0.         0.         0.         0.         0.         0.\n",
      "  0.         0.         0.         0.15873016 0.         0.        ]\n",
      " [0.         0.         0.         0.         0.         0.\n",
      "  0.         0.         0.         0.         0.00793651 0.        ]\n",
      " [0.         0.         0.         0.         0.         0.\n",
      "  0.         0.         0.         0.         0.         0.00793651]]\n"
     ]
    },
    {
     "data": {
      "image/png": "[encoded data removed]",
      "text/plain": [
       "<Figure size 432x288 with 1 Axes>"
      ]
     },
     "metadata": {
      "needs_background": "light"
     },
     "output_type": "display_data"
    },
    {
     "name": "stdout",
     "output_type": "stream",
     "text": [
      "arg q-func : \n",
      "[[0.97432961]]\n",
      "random\n",
      "beta 0.5434049417909654\n",
      "random\n",
      "beta 0.27836938509379616\n",
      "random\n",
      "beta 0.4245175907491331\n",
      "random\n",
      "beta 0.8447761323199037\n",
      "random\n",
      "beta 0.004718856190972565\n",
      "random\n",
      "beta 0.12156912078311422\n",
      "random\n",
      "beta 0.6707490847267786\n",
      "task 1 empirical mean = -0.010383162821594183\n",
      "task 1 empirical mean = 0.08614388825666613\n",
      "task 1 empirical mean = 0.024111917709081457\n",
      "task 1 empirical mean = -0.03329167694431728\n",
      "task 1 empirical mean = 0.013589669518937864\n",
      "task 1 empirical mean = 0.0142968732743139\n",
      "task 1 empirical mean = -0.050266887751540784\n",
      "task 1 empirical mean = 0.012474316099302274\n",
      "MM_gathered : \n",
      "  0.951924    -0.969539   0.749151   -0.57875   0.311353   -0.24342   0.227757  -0.330132   0.831565  -0.809621   0.0729418   -0.0536758    0.102033  -0.174777   0.621764  -0.502902  \n",
      " -0.969539      1.00123   -0.76598   0.617884  -0.263475   0.221641  -0.240907   0.317086  -0.824951    0.80408  -0.0150869  -0.00877494  -0.0489031   0.136805   -0.56795   0.537739  \n",
      "  0.749151     -0.76598    1.72257   -1.52414    1.16021   -1.20242    1.24267  -0.899731    1.13254   -1.11581     1.11969     -0.98553       1.092   -1.17949    1.33645   -1.22631  \n",
      "  -0.57875     0.617884   -1.52414   0.936933   -1.04045   0.989171   -1.21093    1.17366   -1.00117   0.959235   -0.898834     0.843833   -0.967609   0.959359  -0.662768    0.97224  \n",
      "  0.311353    -0.263475    1.16021   -1.04045   0.991575   -0.97316    1.14243  -0.903924   0.721526  -0.698738     1.07078    -0.942397    0.922873  -0.953574   0.989188  -0.715662  \n",
      "  -0.24342     0.221641   -1.20242   0.989171   -0.97316   0.993946   -1.08782   0.919942    -0.6632   0.660606   -0.958923     0.904885   -0.932514   0.969333   -1.00148   0.792733  \n",
      "  0.227757    -0.240907    1.24267   -1.21093    1.14243   -1.08782    1.40863   -1.23445   0.745869  -0.754327    0.872982     -0.88993     1.04171  -0.973391    0.67046  -0.689675  \n",
      " -0.330132     0.317086  -0.899731    1.17366  -0.903924   0.919942   -1.23445   0.725966  -0.704625   0.751767    -1.01074      1.05647   -0.802402   0.844035   -1.00537    0.77325  \n",
      "  0.831565    -0.824951    1.13254   -1.00117   0.721526    -0.6632   0.745869  -0.704625   0.960268  -0.949547    0.616714    -0.661781    0.529374  -0.644756   0.903294  -0.808816  \n",
      " -0.809621      0.80408   -1.11581   0.959235  -0.698738   0.660606  -0.754327   0.751767  -0.949547   0.888018   -0.603595     0.571738   -0.518934   0.606609  -0.886515   0.794616  \n",
      " 0.0729418   -0.0150869    1.11969  -0.898834    1.07078  -0.958923   0.872982   -1.01074   0.616714  -0.603595     1.40181    -0.916653    0.944039   -1.01534    1.24172  -0.926888  \n",
      "-0.0536758  -0.00877494   -0.98553   0.843833  -0.942397   0.904885   -0.88993    1.05647  -0.661781   0.571738   -0.916653     0.985145   -0.849048    1.00942   -0.87293   0.516086  \n",
      "  0.102033   -0.0489031      1.092  -0.967609   0.922873  -0.932514    1.04171  -0.802402   0.529374  -0.518934    0.944039    -0.849048    0.900488  -0.924609   0.832422   -0.65238  \n",
      " -0.174777     0.136805   -1.17949   0.959359  -0.953574   0.969333  -0.973391   0.844035  -0.644756   0.606609    -1.01534      1.00942   -0.924609   0.972829  -0.917238   0.717537  \n",
      "  0.621764     -0.56795    1.33645  -0.662768   0.989188   -1.00148    0.67046   -1.00537   0.903294  -0.886515     1.24172     -0.87293    0.832422  -0.917238    1.10967  -0.671335  \n",
      " -0.502902     0.537739   -1.22631    0.97224  -0.715662   0.792733  -0.689675    0.77325  -0.808816   0.794616   -0.926888     0.516086    -0.65238   0.717537  -0.671335   0.722437  \n"
     ]
    },
    {
     "data": {
      "image/png": "[encoded data removed]",
      "text/plain": [
       "<Figure size 432x288 with 1 Axes>"
      ]
     },
     "metadata": {
      "needs_background": "light"
     },
     "output_type": "display_data"
    },
    {
     "name": "stdout",
     "output_type": "stream",
     "text": [
      " -2.56299  \n",
      " -7.84862  \n",
      "  10.6603  \n",
      "  37.9175  \n",
      "-0.295474  \n",
      "-0.578424  \n",
      " -3.01943  \n",
      " -8.42745  \n",
      "  3.75357  \n",
      " -3.51352  \n",
      "  1.23657  \n",
      "  7.20247  \n",
      "   12.788  \n",
      " -3.28077  \n",
      " -40.9198  \n",
      " -9.07037  \n",
      "[[0.11904762 0.         0.         0.         0.         0.\n",
      "  0.         0.         0.         0.         0.         0.\n",
      "  0.         0.         0.         0.        ]\n",
      " [0.         0.11904762 0.         0.         0.         0.\n",
      "  0.         0.         0.         0.         0.         0.\n",
      "  0.         0.         0.         0.        ]\n",
      " [0.         0.         0.00595238 0.         0.         0.\n",
      "  0.         0.         0.         0.         0.         0.\n",
      "  0.         0.         0.         0.        ]\n",
      " [0.         0.         0.         0.00595238 0.         0.\n",
      "  0.         0.         0.         0.         0.         0.\n",
      "  0.         0.         0.         0.        ]\n",
      " [0.         0.         0.         0.         0.11904762 0.\n",
      "  0.         0.         0.         0.         0.         0.\n",
      "  0.         0.         0.         0.        ]\n",
      " [0.         0.         0.         0.         0.         0.11904762\n",
      "  0.         0.         0.         0.         0.         0.\n",
      "  0.         0.         0.         0.        ]\n",
      " [0.         0.         0.         0.         0.         0.\n",
      "  0.00595238 0.         0.         0.         0.         0.\n",
      "  0.         0.         0.         0.        ]\n",
      " [0.         0.         0.         0.         0.         0.\n",
      "  0.         0.00595238 0.         0.         0.         0.\n",
      "  0.         0.         0.         0.        ]\n",
      " [0.         0.         0.         0.         0.         0.\n",
      "  0.         0.         0.11904762 0.         0.         0.\n",
      "  0.         0.         0.         0.        ]\n",
      " [0.         0.         0.         0.         0.         0.\n",
      "  0.         0.         0.         0.11904762 0.         0.\n",
      "  0.         0.         0.         0.        ]\n",
      " [0.         0.         0.         0.         0.         0.\n",
      "  0.         0.         0.         0.         0.00595238 0.\n",
      "  0.         0.         0.         0.        ]\n",
      " [0.         0.         0.         0.         0.         0.\n",
      "  0.         0.         0.         0.         0.         0.00595238\n",
      "  0.         0.         0.         0.        ]\n",
      " [0.         0.         0.         0.         0.         0.\n",
      "  0.         0.         0.         0.         0.         0.\n",
      "  0.11904762 0.         0.         0.        ]\n",
      " [0.         0.         0.         0.         0.         0.\n",
      "  0.         0.         0.         0.         0.         0.\n",
      "  0.         0.11904762 0.         0.        ]\n",
      " [0.         0.         0.         0.         0.         0.\n",
      "  0.         0.         0.         0.         0.         0.\n",
      "  0.         0.         0.00595238 0.        ]\n",
      " [0.         0.         0.         0.         0.         0.\n",
      "  0.         0.         0.         0.         0.         0.\n",
      "  0.         0.         0.         0.00595238]]\n"
     ]
    },
    {
     "data": {
      "image/png": "[encoded data removed]",
      "text/plain": [
       "<Figure size 432x288 with 1 Axes>"
      ]
     },
     "metadata": {
      "needs_background": "light"
     },
     "output_type": "display_data"
    },
    {
     "name": "stdout",
     "output_type": "stream",
     "text": [
      "arg q-func : \n",
      "[[0.98367006]]\n",
      "random\n",
      "beta 0.5434049417909654\n",
      "random\n",
      "beta 0.27836938509379616\n",
      "random\n",
      "beta 0.4245175907491331\n",
      "random\n",
      "beta 0.8447761323199037\n",
      "random\n",
      "beta 0.004718856190972565\n",
      "random\n",
      "beta 0.12156912078311422\n",
      "random\n",
      "beta 0.6707490847267786\n",
      "random\n",
      "beta 0.8258527551050476\n",
      "random\n",
      "beta 0.13670658968495297\n",
      "task 1 empirical mean = -0.010383162821594183\n",
      "task 1 empirical mean = 0.08614388825666613\n",
      "task 1 empirical mean = 0.024111917709081457\n",
      "task 1 empirical mean = -0.03329167694431728\n",
      "task 1 empirical mean = 0.013589669518937864\n",
      "task 1 empirical mean = 0.0142968732743139\n",
      "task 1 empirical mean = -0.050266887751540784\n",
      "task 1 empirical mean = 0.012474316099302274\n",
      "task 1 empirical mean = -0.013394003591663595\n",
      "task 1 empirical mean = -0.18655620367693823\n",
      "MM_gathered : \n",
      "  0.951924    -0.969539   0.749151   -0.57875   0.311353   -0.24342   0.227757  -0.330132   0.831565  -0.809621   0.0729418   -0.0536758    0.102033  -0.174777   0.621764  -0.502902    0.84566  -0.861757  -0.0986527  -0.315052  \n",
      " -0.969539      1.00123   -0.76598   0.617884  -0.263475   0.221641  -0.240907   0.317086  -0.824951    0.80408  -0.0150869  -0.00877494  -0.0489031   0.136805   -0.56795   0.537739  -0.827778   0.847764    0.122231   0.136177  \n",
      "  0.749151     -0.76598    1.72257   -1.52414    1.16021   -1.20242    1.24267  -0.899731    1.13254   -1.11581     1.11969     -0.98553       1.092   -1.17949    1.33645   -1.22631    1.18857   -1.21568     1.20924   -1.35127  \n",
      "  -0.57875     0.617884   -1.52414   0.936933   -1.04045   0.989171   -1.21093    1.17366   -1.00117   0.959235   -0.898834     0.843833   -0.967609   0.959359  -0.662768    0.97224   -1.06607   0.989556   -0.735122   0.927485  \n",
      "  0.311353    -0.263475    1.16021   -1.04045   0.991575   -0.97316    1.14243  -0.903924   0.721526  -0.698738     1.07078    -0.942397    0.922873  -0.953574   0.989188  -0.715662   0.774515  -0.796467    0.986895   -1.08098  \n",
      "  -0.24342     0.221641   -1.20242   0.989171   -0.97316   0.993946   -1.08782   0.919942    -0.6632   0.660606   -0.958923     0.904885   -0.932514   0.969333   -1.00148   0.792733  -0.722983   0.721988   -0.983679    1.04215  \n",
      "  0.227757    -0.240907    1.24267   -1.21093    1.14243   -1.08782    1.40863   -1.23445   0.745869  -0.754327    0.872982     -0.88993     1.04171  -0.973391    0.67046  -0.689675   0.820893  -0.845799    0.724068   -1.26743  \n",
      " -0.330132     0.317086  -0.899731    1.17366  -0.903924   0.919942   -1.23445   0.725966  -0.704625   0.751767    -1.01074      1.05647   -0.802402   0.844035   -1.00537    0.77325   -0.72464   0.779481   -0.835407   0.819606  \n",
      "  0.831565    -0.824951    1.13254   -1.00117   0.721526    -0.6632   0.745869  -0.704625   0.960268  -0.949547    0.616714    -0.661781    0.529374  -0.644756   0.903294  -0.808816   0.993223   -1.01322    0.343911  -0.681856  \n",
      " -0.809621      0.80408   -1.11581   0.959235  -0.698738   0.660606  -0.754327   0.751767  -0.949547   0.888018   -0.603595     0.571738   -0.518934   0.606609  -0.886515   0.794616  -0.952267   0.971508   -0.397807     0.7729  \n",
      " 0.0729418   -0.0150869    1.11969  -0.898834    1.07078  -0.958923   0.872982   -1.01074   0.616714  -0.603595     1.40181    -0.916653    0.944039   -1.01534    1.24172  -0.926888   0.650532  -0.725908     1.02142   -0.98007  \n",
      "-0.0536758  -0.00877494   -0.98553   0.843833  -0.942397   0.904885   -0.88993    1.05647  -0.661781   0.571738   -0.916653     0.985145   -0.849048    1.00942   -0.87293   0.516086   -0.59164   0.599101   -0.967281   0.935983  \n",
      "  0.102033   -0.0489031      1.092  -0.967609   0.922873  -0.932514    1.04171  -0.802402   0.529374  -0.518934    0.944039    -0.849048    0.900488  -0.924609   0.832422   -0.65238   0.584394  -0.571347    0.964272  -0.935792  \n",
      " -0.174777     0.136805   -1.17949   0.959359  -0.953574   0.969333  -0.973391   0.844035  -0.644756   0.606609    -1.01534      1.00942   -0.924609   0.972829  -0.917238   0.717537  -0.667477   0.669357     -1.0379   0.990364  \n",
      "  0.621764     -0.56795    1.33645  -0.662768   0.989188   -1.00148    0.67046   -1.00537   0.903294  -0.886515     1.24172     -0.87293    0.832422  -0.917238    1.10967  -0.671335   0.912015  -0.959813      1.1958  -0.870433  \n",
      " -0.502902     0.537739   -1.22631    0.97224  -0.715662   0.792733  -0.689675    0.77325  -0.808816   0.794616   -0.926888     0.516086    -0.65238   0.717537  -0.671335   0.722437  -0.857699   0.910723   -0.287438   0.917907  \n",
      "   0.84566    -0.827778    1.18857   -1.06607   0.774515  -0.722983   0.820893   -0.72464   0.993223  -0.952267    0.650532     -0.59164    0.584394  -0.667477   0.912015  -0.857699    1.03946   -1.05905    0.455651  -0.780139  \n",
      " -0.861757     0.847764   -1.21568   0.989556  -0.796467   0.721988  -0.845799   0.779481   -1.01322   0.971508   -0.725908     0.599101   -0.571347   0.669357  -0.959813   0.910723   -1.05905    1.06069   -0.490336   0.854237  \n",
      "-0.0986527     0.122231    1.20924  -0.735122   0.986895  -0.983679   0.724068  -0.835407   0.343911  -0.397807     1.02142    -0.967281    0.964272    -1.0379     1.1958  -0.287438   0.455651  -0.490336     1.15353    -1.2987  \n",
      " -0.315052     0.136177   -1.35127   0.927485   -1.08098    1.04215   -1.26743   0.819606  -0.681856     0.7729    -0.98007     0.935983   -0.935792   0.990364  -0.870433   0.917907  -0.780139   0.854237     -1.2987    1.03189  \n"
     ]
    },
    {
     "data": {
      "image/png": "[encoded data removed]",
      "text/plain": [
       "<Figure size 432x288 with 1 Axes>"
      ]
     },
     "metadata": {
      "needs_background": "light"
     },
     "output_type": "display_data"
    },
    {
     "name": "stdout",
     "output_type": "stream",
     "text": [
      "  -4.03181  \n",
      "  -9.69545  \n",
      "   11.9557  \n",
      "   52.0748  \n",
      "  -1.11776  \n",
      "-0.0441916  \n",
      "   -1.8263  \n",
      "  -13.3226  \n",
      "   5.21554  \n",
      "  -3.54389  \n",
      "   3.56002  \n",
      "   9.35362  \n",
      "   15.6418  \n",
      "  -3.24813  \n",
      "  -52.7487  \n",
      "  -13.6246  \n",
      "   5.84917  \n",
      "   3.54177  \n",
      "   19.6462  \n",
      "   -7.8282  \n",
      "[[0.0952381 0.        0.        0.        0.        0.        0.\n",
      "  0.        0.        0.        0.        0.        0.        0.\n",
      "  0.        0.        0.        0.        0.        0.       ]\n",
      " [0.        0.0952381 0.        0.        0.        0.        0.\n",
      "  0.        0.        0.        0.        0.        0.        0.\n",
      "  0.        0.        0.        0.        0.        0.       ]\n",
      " [0.        0.        0.0047619 0.        0.        0.        0.\n",
      "  0.        0.        0.        0.        0.        0.        0.\n",
      "  0.        0.        0.        0.        0.        0.       ]\n",
      " [0.        0.        0.        0.0047619 0.        0.        0.\n",
      "  0.        0.        0.        0.        0.        0.        0.\n",
      "  0.        0.        0.        0.        0.        0.       ]\n",
      " [0.        0.        0.        0.        0.0952381 0.        0.\n",
      "  0.        0.        0.        0.        0.        0.        0.\n",
      "  0.        0.        0.        0.        0.        0.       ]\n",
      " [0.        0.        0.        0.        0.        0.0952381 0.\n",
      "  0.        0.        0.        0.        0.        0.        0.\n",
      "  0.        0.        0.        0.        0.        0.       ]\n",
      " [0.        0.        0.        0.        0.        0.        0.0047619\n",
      "  0.        0.        0.        0.        0.        0.        0.\n",
      "  0.        0.        0.        0.        0.        0.       ]\n",
      " [0.        0.        0.        0.        0.        0.        0.\n",
      "  0.0047619 0.        0.        0.        0.        0.        0.\n",
      "  0.        0.        0.        0.        0.        0.       ]\n",
      " [0.        0.        0.        0.        0.        0.        0.\n",
      "  0.        0.0952381 0.        0.        0.        0.        0.\n",
      "  0.        0.        0.        0.        0.        0.       ]\n",
      " [0.        0.        0.        0.        0.        0.        0.\n",
      "  0.        0.        0.0952381 0.        0.        0.        0.\n",
      "  0.        0.        0.        0.        0.        0.       ]\n",
      " [0.        0.        0.        0.        0.        0.        0.\n",
      "  0.        0.        0.        0.0047619 0.        0.        0.\n",
      "  0.        0.        0.        0.        0.        0.       ]\n",
      " [0.        0.        0.        0.        0.        0.        0.\n",
      "  0.        0.        0.        0.        0.0047619 0.        0.\n",
      "  0.        0.        0.        0.        0.        0.       ]\n",
      " [0.        0.        0.        0.        0.        0.        0.\n",
      "  0.        0.        0.        0.        0.        0.0952381 0.\n",
      "  0.        0.        0.        0.        0.        0.       ]\n",
      " [0.        0.        0.        0.        0.        0.        0.\n",
      "  0.        0.        0.        0.        0.        0.        0.0952381\n",
      "  0.        0.        0.        0.        0.        0.       ]\n",
      " [0.        0.        0.        0.        0.        0.        0.\n",
      "  0.        0.        0.        0.        0.        0.        0.\n",
      "  0.0047619 0.        0.        0.        0.        0.       ]\n",
      " [0.        0.        0.        0.        0.        0.        0.\n",
      "  0.        0.        0.        0.        0.        0.        0.\n",
      "  0.        0.0047619 0.        0.        0.        0.       ]\n",
      " [0.        0.        0.        0.        0.        0.        0.\n",
      "  0.        0.        0.        0.        0.        0.        0.\n",
      "  0.        0.        0.0952381 0.        0.        0.       ]\n",
      " [0.        0.        0.        0.        0.        0.        0.\n",
      "  0.        0.        0.        0.        0.        0.        0.\n",
      "  0.        0.        0.        0.0952381 0.        0.       ]\n",
      " [0.        0.        0.        0.        0.        0.        0.\n",
      "  0.        0.        0.        0.        0.        0.        0.\n",
      "  0.        0.        0.        0.        0.0047619 0.       ]\n",
      " [0.        0.        0.        0.        0.        0.        0.\n",
      "  0.        0.        0.        0.        0.        0.        0.\n",
      "  0.        0.        0.        0.        0.        0.0047619]]\n"
     ]
    },
    {
     "data": {
      "image/png": "[encoded data removed]",
      "text/plain": [
       "<Figure size 432x288 with 1 Axes>"
      ]
     },
     "metadata": {
      "needs_background": "light"
     },
     "output_type": "display_data"
    },
    {
     "name": "stdout",
     "output_type": "stream",
     "text": [
      "arg q-func : \n",
      "[[0.98684725]]\n"
     ]
    }
   ],
   "source": [
    "# %%prun -s cumulative\n",
    "%matplotlib inline\n",
    "# profiling\n",
    "p = 100\n",
    "m = 2\n",
    "# on ajoute des tâches 2 par 2\n",
    "nb_tasks = 6\n",
    "step = 2\n",
    "t = range(2,step*nb_tasks, step)\n",
    "multiple = 1\n",
    "to_add = [1000, 1000], [50, 50]\n",
    "n_t = []\n",
    "n_t_test = [[500, 500]]\n",
    "nt = sum(n_t_test[0])\n",
    "# la liste temps comprendra le temps pour le training, le calcul de M et y et le temps d'inférence\n",
    "emp_rate, th_rate, var, relative_error_rate = [], [], [], []\n",
    "\n",
    "# temps\n",
    "t_SC = 0\n",
    "t_inf = []\n",
    "t_MM_f = 0\n",
    "t_inf_f = 0\n",
    "t_total_d = []\n",
    "t_SC_d = []\n",
    "random_state = 100\n",
    "\n",
    "# données envoyées de taille p\n",
    "data_sent = []\n",
    "\n",
    "# on définit la tache cible\n",
    "task_target = 1\n",
    "\n",
    "M = mean_matrix(p, beta=None, k=2, random_seed=random_state, random=True)\n",
    "X_test, y_test = gaussian_synthetic_data(nt, p, m, 1, n_t_test, [M[task_target]], random_state)\n",
    "mean_test = M[task_target]\n",
    "# print(\"norme tâche de test : \", np.linalg.norm(X_test_aggregated))\n",
    "X_test = normalisation(X_test, p)\n",
    "\n",
    "for b in t:\n",
    "    t_MM = []\n",
    "    sent = 0\n",
    "    for i in range(step):\n",
    "        n_t.append(to_add[i])\n",
    "    \n",
    "    n = sum(list(map(sum, (n_t[i] for i in range(b)))))\n",
    "#     print(\"n = \", n)\n",
    "    # on crée les données synthétiques\n",
    "    M = mean_matrix(p, beta=None, k=b, random_seed=random_state, random=True)\n",
    "#     print(f\"Test mean: {mean_test[0]==M[1][0]}\") # True\n",
    "       \n",
    "    X, y_bs = gaussian_synthetic_data(n, p, m, b, n_t, M, random_state)\n",
    "    MM = []\n",
    "    diag = []\n",
    "#     X = normalisation(X, p)\n",
    "    \n",
    "    # On calcule les moyennes empiriques sur les données locales de chaque serveur\n",
    "    # diag1 = [diag1[0], diag1[1]]\n",
    "    for i in range(b):\n",
    "        t0 = time()\n",
    "        MM1, diag1 = empirical_mean_old(1, m, [X[i]], p, [n_t[i]])\n",
    "        print(f\"task 1 empirical mean = {np.mean(MM1[0])}\")\n",
    "        # chaque moyenne empirique calculée est un vecteur de taille p\n",
    "        sent+=1\n",
    "        t_MM.append(time()-t0)\n",
    "        \n",
    "        MM.append(MM1)\n",
    "        diag.append(diag1)\n",
    "\n",
    "    # CENTRAL SERVER\n",
    "    t0 = time()\n",
    "    # sending empirical means to central server\n",
    "    V, y, correlation_matrix, Dc, c0 = merging_center(MM, diag, b, m, p, n, n_t, task_target, True)   \n",
    "    #V_true, y_true, correlation_matrix_true, Dc, c0 = merging_center(M_true, diag_true, b, m, p, n_t, task_target)\n",
    "    t_SC = time()-t0\n",
    "    print(Dc)\n",
    "    \n",
    "    # END CENTRAL SERVER\n",
    "    # a prendre en compte dans le timing\n",
    "    \n",
    "    X_train_aggregated = aggregate_array(X, p, n, b, m)\n",
    "    X_test_aggregated = aggregate_array(X_test, p, nt, 1, m)\n",
    "    # On time le temps d'inférence\n",
    "    \n",
    "    # Calcul avec les vraies moyennes\n",
    "    M_true = true_mean(M, p, b, m)\n",
    "    MM_true = M_true.T@M_true\n",
    "    correlation_matrix_true = compute_M_cal(n, p, Dc, MM_true, display=False)\n",
    "    y_true = label_evaluation(b,m,Dc, MM_true, c0, task_target=task_target)\n",
    "    \n",
    "#     V_true = compute_V(y_true, X_train_aggregated, J, n)\n",
    "#     debug_histogram(V_true, X_test_aggregated, n_t_test)\n",
    "#     print(\"V = \")\n",
    "#     test pour vérifier le calcul de V dans le serveur: tout est bon\n",
    "#     J = create_J(m, b, n, n_t)\n",
    "#     V = compute_V(y, X_train_aggregated, J, n)\n",
    "    VTX = V.T@X_test_aggregated\n",
    "    var.append(np.var(VTX))\n",
    "    debug_histogram(V, X_test_aggregated, n_t_test)\n",
    "    \n",
    "    t0 = time()\n",
    "    m_t = create_mt(b, m, y, Dc, correlation_matrix)\n",
    "    \n",
    "    erreur_theorique = error_rate(b, m,  Dc, MM_true, c0)[0][0]\n",
    "    emp_rate.append(compute_error_rate(X_test, V, m_t, 1, m, n_t_test, Dc, c0))\n",
    "    th_rate.append(erreur_theorique)\n",
    "    t_inf.append(time()-t0)\n",
    "    t_MM_f = max(t_MM)\n",
    "    t_inf_f = max(t_inf)\n",
    "    t_total_d.append(t_MM_f + t_SC)\n",
    "    t_SC_d.append(t_SC)\n",
    "    data_sent.append(sent)\n",
    "\n",
    "# print(f\"temps moyen clients : {round(np.mean(t_MM_f), 5)}, {round(np.mean(t_inf_f), 5)}\")\n",
    "# print(f\"temps moyen Serveur central : {round(np.mean(t_SC), 5)}\")\n",
    "# print(f\"temps total moyen : {round(np.mean(t_MM_f), 5) + round(np.mean(t_inf_f), 5) + round(np.mean(t_SC), 5)}\")"
   ]
  },
  {
   "cell_type": "code",
   "execution_count": 90,
   "metadata": {},
   "outputs": [
    {
     "name": "stdout",
     "output_type": "stream",
     "text": [
      "[2, 4, 6, 8, 10, 12, 14, 16, 18]\n",
      "[2100, 4200, 6300, 8400, 10500]\n",
      "[0.0006132125854492188, 0.0007386207580566406, 0.0012683868408203125, 0.0018301010131835938, 0.0036993026733398438, 0.0035157203674316406, 0.006444215774536133, 0.006421804428100586, 0.00941157341003418]\n",
      "[0.0014486312866210938, 0.0015006065368652344, 0.0024559497833251953, 0.0027616024017333984, 0.004588603973388672, 0.004677772521972656, 0.008049964904785156, 0.007590532302856445, 0.012226581573486328]\n",
      "[0.19730359169896483, 0.18409367962615064, 0.16952392663218724, 0.16464100094357442, 0.16390025000312758, 0.16287128429045816, 0.16279455537925752, 0.16181543518909547, 0.16123270573877568]\n"
     ]
    }
   ],
   "source": [
    "print(data_sent)\n",
    "print(data_sent_nd)\n",
    "print(t_SC_d)\n",
    "print(t_total_d)\n",
    "print(th_rate)"
   ]
  },
  {
   "cell_type": "code",
   "execution_count": 77,
   "metadata": {},
   "outputs": [
    {
     "data": {
      "image/png": "[encoded data removed]",
      "text/plain": [
       "<Figure size 432x288 with 1 Axes>"
      ]
     },
     "metadata": {
      "needs_background": "light"
     },
     "output_type": "display_data"
    },
    {
     "data": {
      "image/png": "[encoded data removed]",
      "text/plain": [
       "<Figure size 432x288 with 1 Axes>"
      ]
     },
     "metadata": {
      "needs_background": "light"
     },
     "output_type": "display_data"
    },
    {
     "data": {
      "image/png": "[encoded data removed]",
      "text/plain": [
       "<Figure size 432x288 with 1 Axes>"
      ]
     },
     "metadata": {
      "needs_background": "light"
     },
     "output_type": "display_data"
    }
   ],
   "source": [
    "# plot le temps du distribué vs non distribué\n",
    "plt.plot(data_sent, t_total_d, '-o', label='distribué')\n",
    "plt.plot(data_sent, t_SC_d, '-o', label='serveur central')\n",
    "# plt.plot(t, t_total_nd, '-o', label='non distribué')\n",
    "plt.xlabel(\"Nombre de tâches\")\n",
    "plt.ylabel(\"Temps total\")\n",
    "plt.title(\"Temps totaux de traitement en fonction du nombre de tâches\")\n",
    "plt.legend()\n",
    "plt.grid()\n",
    "plt.show()\n",
    "\n",
    "plt.plot(data_sent, data_sent, \"-o\", label='distribué')\n",
    "# plt.plot(t, data_sent_nd, '-o', label='non distribué')\n",
    "plt.xlabel(\"Nombre de tâches\")\n",
    "plt.ylabel(\"Nombre de données envoyées\")\n",
    "plt.yscale(\"log\")\n",
    "plt.title(r\"Nombre de données de taille $p$ envoyées au serveur central\")\n",
    "plt.legend()\n",
    "plt.grid()\n",
    "plt.show()\n",
    "\n",
    "lower = np.array(emp_rate) - np.array(var)\n",
    "upper = np.array(emp_rate) + np.array(var)\n",
    "plt.fill_between(data_sent, lower, upper, alpha=0.2, label=\"variance\")\n",
    "plt.plot(data_sent, emp_rate, \"-o\", label='empirical rate')\n",
    "plt.plot(data_sent, th_rate, '-o', label='theoritical rate')\n",
    "plt.xlabel(\"Nombre de tâches\")\n",
    "plt.ylabel(\"Taux d'erreur\")\n",
    "plt.title(r\"Taux d'erreur empirique et théorique\")\n",
    "plt.legend()\n",
    "plt.grid()\n",
    "plt.show()"
   ]
  },
  {
   "cell_type": "markdown",
   "metadata": {},
   "source": [
    "# Real Data"
   ]
  },
  {
   "cell_type": "code",
   "execution_count": 42,
   "metadata": {},
   "outputs": [],
   "source": [
    "def normalisation(X, p, z=False):\n",
    "    \"\"\"\n",
    "    si z: z-score normalisation par tâche\n",
    "    sinon: divsion par sqrt(p)\n",
    "    \"\"\"\n",
    "    if not z:\n",
    "        for i in range(len(X)):\n",
    "            for j in range(len(X[i])):\n",
    "                X[i][j] *= 1/np.sqrt(p)\n",
    "    else:\n",
    "        for i in range(len(X)):\n",
    "            task = np.concatenate((X[i][0], X[i][1]), axis=1)\n",
    "            mean = np.mean(task, axis=1)\n",
    "            mean = np.reshape(mean, (p, 1))\n",
    "            X[i][0] = (X[i][0] - mean)/np.std(task)\n",
    "            X[i][1] = (X[i][1] - mean)/np.std(task)\n",
    "    return X"
   ]
  },
  {
   "cell_type": "code",
   "execution_count": 168,
   "metadata": {},
   "outputs": [],
   "source": [
    "from sklearn import preprocessing\n",
    "\n",
    "def divide_array(X,y,k,m=2):\n",
    "    \"\"\"\n",
    "    Divide a data ndarray in an array of k arrays of m ndarrays each.\n",
    "    Return the divided array and the number of elements in each classes of each tasks\n",
    "    \"\"\"\n",
    "    X_data = []\n",
    "    n_t = []\n",
    "    for task in range(k):\n",
    "        n_t.append([])\n",
    "        X_data.append([])\n",
    "        n_t1 = np.count_nonzero(y)\n",
    "        n_t[task].append(n_t1)\n",
    "        n_t[task].append(len(y) - n_t1)\n",
    "        X_data[task].append(X[:n_t1].T)\n",
    "        X_data[task].append(X[n_t1:].T)\n",
    "        \n",
    "    return X_data, n_t\n",
    "\n",
    "def preprocess(X, p):\n",
    "    tiled = np.tile(np.reshape(np.sum(X, axis=0), (p, 1)), (1, X.shape[0])).T\n",
    "    X_t = np.true_divide(X, tiled, where=(tiled!=0))\n",
    "    return preprocessing.scale(X, axis=0)\n",
    "    "
   ]
  },
  {
   "cell_type": "code",
   "execution_count": 191,
   "metadata": {
    "scrolled": true
   },
   "outputs": [
    {
     "name": "stdout",
     "output_type": "stream",
     "text": [
      "(400, 999) (400, 1000)\n",
      "[[999, 1000]]\n",
      "[[400, 400], [50, 50]]\n",
      "n :  900\n",
      "lenMM : 2\n",
      "MM_gathered : \n",
      " 1.44512  -1.53208   1.37068  -1.34134  \n",
      "-1.53208   1.07653  -1.22254   1.15604  \n",
      " 1.37068  -1.22254  0.843986  -2.23581  \n",
      "-1.34134   1.15604  -2.23581   1.06103  \n"
     ]
    },
    {
     "data": {
      "image/png": "[encoded data removed]",
      "text/plain": [
       "<Figure size 432x288 with 1 Axes>"
      ]
     },
     "metadata": {
      "needs_background": "light"
     },
     "output_type": "display_data"
    },
    {
     "name": "stdout",
     "output_type": "stream",
     "text": [
      " 1.38237  \n",
      "-1.15747  \n",
      " 2.48621  \n",
      " -3.1173  \n",
      "0.444444         0          0          0  \n",
      "       0  0.444444          0          0  \n",
      "       0         0  0.0555556          0  \n",
      "       0         0          0  0.0555556  \n"
     ]
    },
    {
     "data": {
      "image/png": "[encoded data removed]",
      "text/plain": [
       "<Figure size 432x288 with 1 Axes>"
      ]
     },
     "metadata": {
      "needs_background": "light"
     },
     "output_type": "display_data"
    },
    {
     "name": "stdout",
     "output_type": "stream",
     "text": [
      "[[400, 400], [50, 50], [400, 400]]\n",
      "n :  1700\n",
      "lenMM : 3\n",
      "MM_gathered : \n",
      " 1.44512  -1.53208   1.37068  -1.34134   1.38347  -1.21953  \n",
      "-1.53208   1.07653  -1.22254   1.15604  -1.23926    1.0772  \n",
      " 1.37068  -1.22254  0.843986  -2.23581   1.31885  -1.23045  \n",
      "-1.34134   1.15604  -2.23581   1.06103  -1.34774   1.07875  \n",
      " 1.38347  -1.23926   1.31885  -1.34774    1.1969  -1.53005  \n",
      "-1.21953    1.0772  -1.23045   1.07875  -1.53005  0.947701  \n"
     ]
    },
    {
     "data": {
      "image/png": "[encoded data removed]",
      "text/plain": [
       "<Figure size 432x288 with 1 Axes>"
      ]
     },
     "metadata": {
      "needs_background": "light"
     },
     "output_type": "display_data"
    },
    {
     "name": "stdout",
     "output_type": "stream",
     "text": [
      " 1.64472  \n",
      "-1.29764  \n",
      " 3.54273  \n",
      "-4.80395  \n",
      " 1.96709  \n",
      "-1.13369  \n",
      "0.235294         0          0          0         0         0  \n",
      "       0  0.235294          0          0         0         0  \n",
      "       0         0  0.0294118          0         0         0  \n",
      "       0         0          0  0.0294118         0         0  \n",
      "       0         0          0          0  0.235294         0  \n",
      "       0         0          0          0         0  0.235294  \n"
     ]
    },
    {
     "data": {
      "image/png": "[encoded data removed]",
      "text/plain": [
       "<Figure size 432x288 with 1 Axes>"
      ]
     },
     "metadata": {
      "needs_background": "light"
     },
     "output_type": "display_data"
    },
    {
     "name": "stdout",
     "output_type": "stream",
     "text": [
      "[[400, 400], [50, 50], [400, 400], [50, 50]]\n",
      "n :  1800\n",
      "lenMM : 4\n",
      "MM_gathered : \n",
      " 1.44512   -1.53208    1.37068  -1.34134   1.38347  -1.21953   0.959606   -1.37149  \n",
      "-1.53208    1.07653   -1.22254   1.15604  -1.23926    1.0772  -0.810116    1.15727  \n",
      " 1.37068   -1.22254   0.843986  -2.23581   1.31885  -1.23045    1.93126  -0.357086  \n",
      "-1.34134    1.15604   -2.23581   1.06103  -1.34774   1.07875   -2.28252     2.0052  \n",
      " 1.38347   -1.23926    1.31885  -1.34774    1.1969  -1.53005   0.782344   -1.14227  \n",
      "-1.21953     1.0772   -1.23045   1.07875  -1.53005  0.947701    -1.1155    1.20644  \n",
      "0.959606  -0.810116    1.93126  -2.28252  0.782344   -1.1155    4.38228   -1.77002  \n",
      "-1.37149    1.15727  -0.357086    2.0052  -1.14227   1.20644   -1.77002  0.0686186  \n"
     ]
    },
    {
     "data": {
      "image/png": "[encoded data removed]",
      "text/plain": [
       "<Figure size 432x288 with 1 Axes>"
      ]
     },
     "metadata": {
      "needs_background": "light"
     },
     "output_type": "display_data"
    },
    {
     "name": "stdout",
     "output_type": "stream",
     "text": [
      "  1.63162  \n",
      " -1.32227  \n",
      "  2.90084  \n",
      " -3.59759  \n",
      "  2.35622  \n",
      "-0.653455  \n",
      "  7.67733  \n",
      "-0.647133  \n",
      "0.222222         0          0          0         0         0          0          0  \n",
      "       0  0.222222          0          0         0         0          0          0  \n",
      "       0         0  0.0277778          0         0         0          0          0  \n",
      "       0         0          0  0.0277778         0         0          0          0  \n",
      "       0         0          0          0  0.222222         0          0          0  \n",
      "       0         0          0          0         0  0.222222          0          0  \n",
      "       0         0          0          0         0         0  0.0277778          0  \n",
      "       0         0          0          0         0         0          0  0.0277778  \n"
     ]
    },
    {
     "data": {
      "image/png": "[encoded data removed]",
      "text/plain": [
       "<Figure size 432x288 with 1 Axes>"
      ]
     },
     "metadata": {
      "needs_background": "light"
     },
     "output_type": "display_data"
    },
    {
     "name": "stderr",
     "output_type": "stream",
     "text": [
      "No handles with labels found to put in legend.\n"
     ]
    },
    {
     "data": {
      "image/png": "[encoded data removed]",
      "text/plain": [
       "<Figure size 432x288 with 1 Axes>"
      ]
     },
     "metadata": {
      "needs_background": "light"
     },
     "output_type": "display_data"
    }
   ],
   "source": [
    "from scipy.stats import zscore\n",
    "from scipy.io import loadmat\n",
    "\n",
    "dataset = \"amazon\"\n",
    "\n",
    "m=2\n",
    "p=400\n",
    "n11, n12, n21, n22 = 400, 400, 50, 50\n",
    "var, emp_rate = [], []\n",
    "if dataset == \"amazon\":\n",
    "    k = 3\n",
    "    mat = loadmat(\"books_400.mat\")\n",
    "    mat_test = loadmat(\"kitchen_400.mat\")\n",
    "\n",
    "    X_test_aggregated, y_test = mat_test['fts'], mat_test['labels']\n",
    "    X_test_aggregated = preprocess(X_test_aggregated,p)\n",
    "    X_test, n_t_test = divide_array(X_test_aggregated, y_test, 1)\n",
    "    \n",
    "#     X_test = normalisation(X_test, p, True)\n",
    "    # X1 contient toute la premiere tâche\n",
    "    X1_aggregated, y = mat[\"fts\"], mat[\"labels\"]\n",
    "    X1_aggregated = preprocess(X1_aggregated, p)\n",
    "#     X1_aggregated = zscore(X1_aggregated, axis=None)\n",
    "    \n",
    "    X, n_t = divide_array(X1_aggregated, y, 1)\n",
    "    X = [[X[0][0].T[:n11].T, X[0][1].T[:n12].T]]\n",
    "    n_t = [[n11, n12]]\n",
    "#     X = normalisation(X, p, True)\n",
    "    X.append([X_test[:][0][0].T[:n21].T, X_test[:][0][1].T[:n22].T])\n",
    "#     X_test = [[X_test[0][0].T[n21:n21+500].T, X_test[0][1].T[n22:n22+50].T]]\n",
    "    print(X_test[0][0].shape, X_test[0][1].shape)\n",
    "    print(n_t_test)\n",
    "#     n_t_test = [[500, 500]]\n",
    "    n_t.append([n21, n22])\n",
    "    task_target = 1\n",
    "    \n",
    "for t in range(2, k+2):\n",
    "#     nt = sum(n_t_test[0])\n",
    "    # add tasks\n",
    "    if t>2:\n",
    "        if t==3:\n",
    "            mat = loadmat(\"dvd_400.mat\")\n",
    "            X2_aggregated, y2 = mat[\"fts\"], mat[\"labels\"] \n",
    "#             X2_aggregated = zscore(X2_aggregated, axis=None)\n",
    "            X2_aggregated = preprocess(X2_aggregated, p)\n",
    "            X_tmp, n_t_tmp = divide_array(X2_aggregated, y2, 1)\n",
    "            X_tmp = [[X_tmp[0][0].T[:n11].T, X_tmp[0][1].T[:n12].T]]\n",
    "#             X_tmp = normalisation(X_tmp, p)\n",
    "#             X_tmp = normalisation(X_tmp, p, True)\n",
    "            X.append(X_tmp[0][:])\n",
    "            n_t.append([n11, n12])\n",
    "        elif t==4:\n",
    "            mat = loadmat(\"elec_400.mat\")\n",
    "            X3_aggregated, y3 = mat[\"fts\"], mat[\"labels\"] \n",
    "#             X3_aggregated = zscore(X3_aggregated, axis=None)\n",
    "            X3_aggregated = preprocess(X3_aggregated, p)\n",
    "            X_tmp, n_t_tmp = divide_array(X3_aggregated, y3, 1)\n",
    "            X_tmp = [[X_tmp[0][0].T[:n21].T, X_tmp[0][1].T[:n22].T]]\n",
    "#             X_tmp = normalisation(X_tmp[:], p, True)\n",
    "#             X_tmp = normalisation(X_tmp, p)\n",
    "            X.append(X_tmp[0][:])\n",
    "            n_t.append([n21, n22])\n",
    "    print(n_t)\n",
    "    n = sum(list(map(sum, (n_t[i] for i in range(t)))))\n",
    "    print(\"n : \", n)\n",
    "    MM = []\n",
    "    diag = []\n",
    "    for i in range(t):\n",
    "        MM1, diag1 = empirical_mean_old(1, m, [X[i]], p, [n_t[i]])\n",
    "        # chaque moyenne empirique calculée est un vecteur de taille p\n",
    "#         sent+=1\n",
    "#         t_MM.append(time()-t0)\n",
    "        MM.append(MM1)\n",
    "        diag.append(diag1)\n",
    "    print(f\"lenMM : {len(MM)}\")\n",
    "    # CENTRAL SERVER\n",
    "#     t0 = time()\n",
    "    # sending empirical means to central server\n",
    "    V, y_opt, correlation_matrix, Dc, c0 = merging_center(MM, diag, t, m, p, n, n_t, task_target, True)\n",
    "    matprint(Dc)\n",
    "    # END CENTRAL SERVER\n",
    "    VTX = V.T@X_test_aggregated.T\n",
    "    debug_histogram(V, X_test_aggregated.T, n_t_test)\n",
    "    var.append(np.var(VTX))\n",
    "    m_t = create_mt(t, m, y_opt, Dc, correlation_matrix)\n",
    "    \n",
    "#     erreur_theorique = error_rate(t, m,  Dc, MM_true, c0)[0][0]\n",
    "    emp_rate.append(compute_error_rate(X_test, V, m_t, 1, m, n_t_test, Dc, c0))\n",
    "    \n",
    "plt.plot(list(range(k)), emp_rate, '-o')\n",
    "lower = np.array(emp_rate) - np.array(var)\n",
    "upper = np.array(emp_rate) + np.array(var)\n",
    "# plt.fill_between(list(range(k)), lower, upper, alpha=0.2, label=\"variance\")\n",
    "ticks = [\"Books\", \"DVDs\", \"Electronics\"]\n",
    "plt.xticks(range(len(ticks)), ticks, size='larger')\n",
    "plt.xlabel(\"Added tasks\")\n",
    "# plt.ylim(0.18,0.24)\n",
    "plt.ylabel(\"Empirical error rate\")\n",
    "plt.legend()\n",
    "plt.grid()\n",
    "plt.title(\"Real data\")\n",
    "plt.show()"
   ]
  },
  {
   "cell_type": "code",
   "execution_count": 155,
   "metadata": {},
   "outputs": [
    {
     "name": "stdout",
     "output_type": "stream",
     "text": [
      "400\n",
      "(400,)\n",
      "[[800, 800], [500, 500]]\n",
      "[[999, 1000]]\n",
      "2\n",
      "400\n",
      "[]\n",
      "[[999, 1000]]\n",
      "[array([1.29397375e-02, 1.96582580e-02, 2.05451226e-02, 3.52897040e-03,\n",
      "       5.37773152e-03, 4.79879127e-03, 1.01631738e-03, 4.90670023e-03,\n",
      "       2.18933968e-03, 7.59250185e-03, 3.37777763e-03, 1.04479657e-02,\n",
      "       7.17769720e-03, 1.27587319e-04, 4.86389210e-03, 8.27362827e-03,\n",
      "       4.08320337e-03, 3.55619136e-03, 2.83366500e-03, 1.58009915e-03,\n",
      "       6.24031576e-02, 3.52785223e-03, 3.85407670e-03, 4.62342237e-03,\n",
      "       1.18450675e-03, 8.37248832e-04, 3.20677811e-02, 2.25617357e-03,\n",
      "       3.84266154e-03, 8.49567082e-03, 1.64825477e-02, 2.28108577e-03,\n",
      "       2.55141851e-03, 6.93349305e-03, 3.28536747e-04, 1.04554735e-03,\n",
      "       1.08746541e-03, 8.84247573e-03, 1.26241052e-03, 2.87648546e-03,\n",
      "       4.80741150e-04, 9.61538462e-05, 3.37397916e-03, 6.15188969e-03,\n",
      "       1.13484904e-02, 2.42983756e-03, 1.21404817e-03, 6.92596428e-04,\n",
      "       1.05332088e-02, 2.92648968e-04, 3.55367908e-03, 1.14324717e-02,\n",
      "       1.33340534e-03, 8.69074392e-04, 3.21894726e-03, 1.27159671e-03,\n",
      "       2.22962498e-03, 2.30733916e-03, 7.29428258e-04, 1.71353266e-03,\n",
      "       1.69248561e-03, 2.42321444e-04, 0.00000000e+00, 2.52986227e-04,\n",
      "       4.65342899e-03, 1.11172253e-02, 1.09304214e-03, 2.00933960e-03,\n",
      "       5.36947505e-04, 2.81563625e-03, 4.18893472e-04, 1.00878834e-03,\n",
      "       1.78003733e-04, 3.67647059e-05, 1.36282345e-03, 0.00000000e+00,\n",
      "       7.27266971e-05, 2.53576616e-04, 5.80065793e-04, 9.30246925e-04,\n",
      "       3.19604169e-03, 6.48457568e-02, 4.97479734e-03, 3.47207183e-04,\n",
      "       1.20707166e-03, 3.46688113e-04, 4.16666667e-05, 4.43147907e-04,\n",
      "       5.98437386e-03, 4.87395069e-04, 6.44341023e-04, 7.54276443e-03,\n",
      "       1.29959184e-03, 1.38041315e-03, 1.42336485e-04, 4.53009828e-05,\n",
      "       2.52790249e-03, 0.00000000e+00, 4.27949448e-03, 1.77127181e-04,\n",
      "       5.70422452e-03, 4.05752750e-04, 1.67718617e-03, 1.39442213e-03,\n",
      "       2.13459333e-03, 2.85519202e-03, 1.56735422e-02, 1.16064958e-02,\n",
      "       1.19620007e-03, 3.85148853e-03, 1.38122056e-03, 7.70836121e-04,\n",
      "       2.12434632e-04, 1.82547215e-03, 1.94997653e-03, 6.17063492e-04,\n",
      "       1.31270388e-02, 1.24472309e-02, 1.45538143e-03, 2.10879275e-04,\n",
      "       6.29599164e-03, 5.78653811e-04, 1.09737077e-04, 2.07724152e-03,\n",
      "       4.07675061e-03, 2.79938325e-03, 2.59922387e-03, 7.69083957e-04,\n",
      "       1.53011201e-03, 1.80686290e-02, 2.25074822e-03, 3.24463100e-03,\n",
      "       1.24347590e-03, 5.80568619e-04, 1.74632656e-04, 9.83244469e-04,\n",
      "       6.14202192e-04, 8.17964437e-03, 6.02528456e-04, 5.59041184e-05,\n",
      "       4.30571624e-03, 8.50646539e-04, 1.68874254e-03, 1.61369774e-03,\n",
      "       2.43971526e-03, 5.62609340e-04, 1.96285419e-03, 6.37764652e-03,\n",
      "       3.50802829e-03, 2.72087287e-04, 3.41637269e-03, 2.08905788e-03,\n",
      "       2.81951290e-02, 8.01282051e-06, 1.59347135e-03, 1.05023117e-03,\n",
      "       1.73611111e-05, 1.28061687e-03, 2.44198538e-04, 4.69538559e-04,\n",
      "       2.20245451e-03, 2.08183635e-04, 1.50526217e-03, 8.27878035e-05,\n",
      "       6.40596236e-04, 1.23583319e-03, 0.00000000e+00, 3.17817200e-03,\n",
      "       1.53737984e-04, 6.06461874e-04, 4.92394532e-04, 1.68403813e-04,\n",
      "       7.43130736e-04, 0.00000000e+00, 8.92857143e-05, 1.69601727e-04,\n",
      "       1.04493109e-03, 8.17655091e-04, 3.83725819e-03, 2.11559298e-02,\n",
      "       4.05281202e-03, 3.28947368e-05, 3.33092180e-03, 5.96885916e-05,\n",
      "       1.17417917e-03, 4.97391676e-04, 0.00000000e+00, 8.00326887e-04,\n",
      "       5.71229781e-04, 5.47965468e-04, 2.08848720e-03, 5.12972425e-04,\n",
      "       7.92146298e-04, 1.13720140e-04, 1.08395130e-04, 5.99764478e-04,\n",
      "       7.02672372e-03, 2.19944403e-03, 0.00000000e+00, 8.75363718e-03,\n",
      "       3.70192308e-05, 1.94579357e-03, 3.35498292e-03, 2.98278212e-04,\n",
      "       2.50984428e-03, 1.33693266e-03, 3.09868497e-04, 7.30506196e-05,\n",
      "       5.25835112e-04, 3.76791142e-04, 7.95569810e-03, 2.31149011e-03,\n",
      "       7.88547156e-04, 6.95968051e-03, 2.54081839e-04, 1.46156540e-03,\n",
      "       5.63026293e-04, 7.40856619e-04, 1.59102679e-03, 1.09809331e-03,\n",
      "       1.90151358e-03, 2.57549176e-03, 5.92985892e-05, 1.30403075e-04,\n",
      "       5.38793103e-06, 1.17068687e-04, 9.80056974e-03, 1.02477828e-03,\n",
      "       5.67354085e-04, 3.77123511e-04, 3.43950490e-04, 1.66666667e-05,\n",
      "       7.00757576e-05, 2.09559785e-03, 4.80769231e-05, 4.43722680e-04,\n",
      "       5.24659657e-04, 2.16430395e-03, 2.91384907e-04, 6.72348485e-05,\n",
      "       4.08962862e-04, 0.00000000e+00, 6.13885700e-04, 1.28120200e-04,\n",
      "       2.22098214e-04, 1.01308090e-03, 1.61692173e-04, 0.00000000e+00,\n",
      "       5.77859950e-04, 8.54866074e-04, 9.80750741e-04, 5.55803053e-04,\n",
      "       3.28251536e-04, 1.83631338e-03, 1.02370223e-03, 2.97478106e-04,\n",
      "       2.02067223e-04, 1.02448625e-03, 2.25399052e-03, 1.48809524e-05,\n",
      "       1.32866581e-04, 7.69324950e-04, 2.49841292e-04, 1.48809524e-05,\n",
      "       1.20186066e-03, 1.45244960e-03, 1.10232790e-03, 1.94539883e-03,\n",
      "       7.20626013e-04, 3.83619056e-04, 0.00000000e+00, 5.21273420e-04,\n",
      "       1.86172657e-04, 4.57472666e-04, 5.07022996e-04, 3.72039059e-04,\n",
      "       1.52327229e-04, 2.25586506e-03, 3.03333088e-04, 1.48250472e-04,\n",
      "       3.81635908e-05, 1.00778947e-03, 2.20075069e-03, 2.59032634e-04,\n",
      "       1.31855096e-03, 4.05250052e-04, 4.35237450e-04, 5.67296733e-05,\n",
      "       3.58623913e-03, 4.12004322e-04, 4.98161147e-04, 7.04115891e-04,\n",
      "       1.23716526e-03, 4.95588928e-03, 2.09787775e-02, 1.73344974e-03,\n",
      "       4.56414989e-04, 9.57998791e-04, 1.43678161e-05, 3.48596194e-05,\n",
      "       7.02140209e-04, 2.10185805e-03, 1.44317894e-04, 0.00000000e+00,\n",
      "       6.09104025e-03, 1.30322374e-03, 1.66475067e-03, 2.30351142e-03,\n",
      "       1.86862243e-04, 5.64401241e-04, 0.00000000e+00, 5.30692865e-03,\n",
      "       7.39664850e-05, 3.09663635e-03, 2.48439558e-03, 8.39078938e-04,\n",
      "       6.65444857e-05, 1.01926522e-03, 1.43678161e-05, 1.06518940e-02,\n",
      "       0.00000000e+00, 1.14832230e-03, 8.20625733e-05, 4.93365078e-04,\n",
      "       5.01728025e-04, 1.31477591e-04, 1.22549020e-05, 2.13939836e-03,\n",
      "       0.00000000e+00, 3.44103434e-03, 1.02973312e-03, 9.78899019e-04,\n",
      "       9.94727926e-04, 2.56601058e-04, 5.43478261e-05, 2.02911836e-03,\n",
      "       0.00000000e+00, 1.92970253e-03, 1.20507158e-03, 1.41325756e-03,\n",
      "       9.26296307e-04, 5.03958827e-03, 3.06063691e-04, 1.57748890e-03,\n",
      "       1.55168084e-03, 4.53064513e-04, 1.52883027e-03, 1.23361881e-03,\n",
      "       5.77151216e-04, 4.10149659e-04, 2.10247372e-03, 9.61189919e-05,\n",
      "       6.73851523e-04, 5.26082823e-04, 6.29000616e-04, 0.00000000e+00,\n",
      "       2.50000000e-05, 2.67755473e-04, 1.64502809e-03, 1.16645649e-04,\n",
      "       7.53012048e-06, 7.76456816e-04, 7.74792359e-03, 1.74112881e-03,\n",
      "       4.08589706e-04, 2.78335252e-04, 0.00000000e+00, 1.66242014e-03,\n",
      "       7.12399872e-04, 3.78644374e-05, 2.21704426e-03, 3.67194742e-04,\n",
      "       6.17205099e-03, 2.58460675e-04, 5.24991827e-04, 2.37176340e-04,\n",
      "       2.51046491e-03, 2.30789340e-03, 9.17117092e-04, 6.89752252e-05,\n",
      "       1.09767025e-04, 2.19298246e-05, 4.35999603e-04, 1.60173646e-03,\n",
      "       1.09982703e-04, 3.78787879e-05, 0.00000000e+00, 4.76788353e-04,\n",
      "       3.14385933e-04, 1.72938441e-03, 1.24918422e-04, 1.51292248e-04,\n",
      "       1.44641076e-03, 7.28357292e-04, 8.72469917e-04, 2.15964603e-04,\n",
      "       2.27272727e-05, 4.69758638e-04, 2.44500291e-04, 1.03409544e-03]), array([4.77791857e-03, 3.03634962e-02, 2.84283176e-02, 8.45872330e-04,\n",
      "       4.48826028e-04, 2.19796666e-03, 5.18943406e-03, 9.83766777e-03,\n",
      "       4.03183118e-04, 4.76766939e-03, 7.11473120e-03, 1.12815272e-02,\n",
      "       3.02147271e-03, 3.04791105e-03, 1.47806566e-03, 9.84789961e-03,\n",
      "       1.07793375e-03, 4.63270359e-03, 2.35548206e-03, 4.14222790e-03,\n",
      "       6.93428698e-02, 5.45553052e-03, 4.64421015e-03, 7.90064294e-03,\n",
      "       4.80566079e-04, 7.09061833e-04, 2.34956464e-02, 2.33362414e-03,\n",
      "       9.45164176e-04, 1.06357543e-02, 1.11935381e-02, 3.09066324e-03,\n",
      "       1.43557309e-03, 3.60450533e-03, 2.11569891e-03, 2.30365573e-04,\n",
      "       3.37425938e-03, 8.93763644e-03, 2.28832194e-03, 1.85437257e-03,\n",
      "       1.79659255e-03, 1.34122754e-03, 5.48026241e-03, 6.62113545e-03,\n",
      "       1.32920378e-02, 3.77461576e-03, 1.57529180e-03, 2.37377408e-03,\n",
      "       1.07376573e-02, 1.33667797e-03, 7.11006855e-03, 1.55069619e-02,\n",
      "       3.10292070e-03, 6.17453605e-04, 3.75572888e-04, 2.96166030e-03,\n",
      "       2.58158403e-03, 8.63421862e-04, 9.04266040e-04, 3.26462978e-03,\n",
      "       2.31911493e-03, 2.91026050e-03, 1.36972988e-03, 3.39041402e-04,\n",
      "       4.71877709e-03, 1.01905725e-02, 9.82762630e-04, 3.04497890e-03,\n",
      "       7.22826578e-04, 1.23121845e-03, 4.51071683e-04, 2.88473180e-03,\n",
      "       6.82372814e-04, 1.74656602e-03, 2.27775550e-03, 1.27989925e-03,\n",
      "       1.83914362e-04, 5.69105691e-05, 2.81145454e-04, 1.09893539e-03,\n",
      "       3.24519486e-03, 5.78907011e-02, 1.65328215e-03, 8.64221145e-04,\n",
      "       6.55194978e-04, 4.86936851e-04, 5.76640755e-04, 1.37902832e-03,\n",
      "       6.42092672e-03, 8.85740466e-04, 7.62235344e-04, 1.13607068e-02,\n",
      "       6.26440092e-05, 2.98487770e-03, 6.22209796e-04, 1.42375995e-05,\n",
      "       3.64726207e-03, 9.54890441e-04, 4.83279793e-03, 1.15703968e-03,\n",
      "       4.38927725e-03, 7.11710667e-04, 8.33912617e-04, 2.52021847e-03,\n",
      "       2.36585116e-03, 1.66929975e-03, 1.33511843e-02, 1.26015169e-02,\n",
      "       1.32131525e-03, 6.13987014e-03, 1.41874959e-03, 1.40984330e-03,\n",
      "       6.94444444e-05, 3.04336727e-03, 9.34408378e-04, 8.86756983e-05,\n",
      "       1.05614757e-02, 1.31590680e-02, 4.92734069e-04, 6.53662534e-04,\n",
      "       6.30376309e-03, 1.45066007e-03, 9.61538462e-06, 4.14292485e-04,\n",
      "       4.40373831e-03, 1.27598970e-03, 1.34642397e-03, 1.22012504e-03,\n",
      "       2.11459137e-03, 1.57472466e-02, 1.06036157e-04, 3.99118617e-03,\n",
      "       6.20381914e-04, 1.59046536e-03, 1.12787541e-03, 5.42377948e-05,\n",
      "       8.13954742e-04, 6.91607188e-03, 6.35744875e-04, 1.54736362e-04,\n",
      "       6.51075246e-03, 1.69166445e-03, 7.98038940e-04, 7.98038940e-04,\n",
      "       8.85581181e-04, 3.28580026e-04, 7.81250000e-05, 6.33037527e-03,\n",
      "       1.87853007e-03, 8.77116800e-04, 5.12853492e-04, 2.73789336e-03,\n",
      "       2.59042722e-02, 2.85218254e-05, 2.40893272e-03, 4.29750607e-04,\n",
      "       5.08267823e-05, 2.31280523e-03, 7.17958693e-04, 1.14943674e-03,\n",
      "       3.05810936e-03, 4.25292544e-04, 1.26621458e-03, 4.72628357e-04,\n",
      "       1.19280072e-03, 1.60826359e-03, 2.86516421e-04, 3.19821471e-04,\n",
      "       1.10169383e-03, 2.08628625e-03, 1.64889704e-04, 5.53355079e-05,\n",
      "       1.02444080e-03, 0.00000000e+00, 1.24039217e-03, 6.48563199e-05,\n",
      "       4.15088804e-04, 1.29594959e-03, 3.49672572e-03, 1.63968868e-02,\n",
      "       3.15859077e-03, 8.42346430e-05, 4.30589283e-03, 8.39446341e-04,\n",
      "       1.03846047e-03, 1.21207899e-03, 8.01703779e-05, 1.17360198e-03,\n",
      "       2.02235872e-04, 8.00299416e-04, 1.01065087e-03, 1.79976574e-04,\n",
      "       3.57142857e-05, 9.15697674e-05, 1.05265479e-03, 7.38208129e-04,\n",
      "       3.66519888e-03, 2.17609012e-03, 7.20341153e-04, 6.95690906e-03,\n",
      "       1.95450834e-04, 8.38438083e-04, 1.78468739e-03, 7.36064388e-04,\n",
      "       4.78311314e-03, 1.91140780e-03, 3.15827299e-04, 0.00000000e+00,\n",
      "       8.65131129e-04, 7.36340256e-04, 6.54477896e-03, 3.55070831e-03,\n",
      "       1.32571108e-03, 6.44750037e-03, 4.77193423e-04, 6.82909243e-04,\n",
      "       1.18584081e-03, 8.06452222e-04, 3.02246963e-03, 2.91110296e-04,\n",
      "       1.52715755e-03, 6.76778277e-04, 2.22435089e-04, 3.79535078e-04,\n",
      "       2.78011296e-04, 4.91863563e-04, 1.09418060e-02, 2.34987958e-04,\n",
      "       1.92307692e-04, 5.85067293e-04, 1.17879942e-03, 5.32861316e-04,\n",
      "       2.24833692e-04, 3.02556735e-03, 3.74793218e-05, 4.81963633e-04,\n",
      "       3.41198136e-04, 6.73889390e-04, 4.22936668e-05, 1.13636364e-05,\n",
      "       4.24474387e-04, 8.02720936e-04, 1.72439834e-03, 7.54947573e-04,\n",
      "       0.00000000e+00, 1.22549020e-05, 5.70689332e-04, 1.14285714e-04,\n",
      "       1.44001822e-03, 0.00000000e+00, 1.28834428e-03, 1.14751231e-03,\n",
      "       9.39058385e-04, 4.06628783e-04, 1.69889710e-04, 6.46893355e-04,\n",
      "       3.38430983e-04, 1.49538919e-03, 1.31014592e-03, 0.00000000e+00,\n",
      "       4.51813999e-04, 1.42272312e-03, 6.08821410e-05, 3.88080764e-05,\n",
      "       0.00000000e+00, 2.43538547e-04, 1.28742406e-03, 6.99751752e-04,\n",
      "       3.18787175e-04, 4.90849171e-04, 2.40384615e-05, 7.01981496e-04,\n",
      "       6.17477951e-04, 7.21337832e-04, 6.67064346e-04, 2.07540718e-04,\n",
      "       7.38002183e-04, 2.61045867e-03, 2.27371714e-04, 9.68390191e-04,\n",
      "       8.84961039e-04, 1.21657720e-03, 2.84568857e-03, 2.36253330e-04,\n",
      "       2.39723245e-03, 1.68448787e-04, 5.14057036e-04, 6.51632900e-04,\n",
      "       1.73955735e-03, 2.35033171e-04, 4.86193801e-04, 1.19362011e-03,\n",
      "       5.09177355e-04, 2.60697970e-03, 1.74771099e-02, 5.84791347e-04,\n",
      "       3.73393488e-04, 2.85508583e-04, 0.00000000e+00, 1.25740570e-04,\n",
      "       5.10420480e-04, 7.02154675e-04, 0.00000000e+00, 0.00000000e+00,\n",
      "       3.22388458e-03, 2.72457990e-04, 1.04717488e-03, 2.17706237e-03,\n",
      "       4.76337647e-04, 1.57718935e-04, 8.01703779e-05, 5.35694277e-03,\n",
      "       0.00000000e+00, 2.67046216e-03, 2.64318069e-03, 5.26386527e-04,\n",
      "       2.55931466e-04, 3.13718734e-04, 7.68125553e-05, 8.53777466e-03,\n",
      "       6.10234633e-04, 1.51974799e-03, 4.17441478e-04, 1.49525775e-04,\n",
      "       4.23371172e-04, 9.82413904e-05, 1.40930682e-04, 1.64004434e-03,\n",
      "       0.00000000e+00, 2.02513665e-03, 5.50732590e-04, 1.25357095e-03,\n",
      "       1.50484757e-03, 1.51466472e-03, 2.19298246e-05, 1.65521420e-03,\n",
      "       2.44242111e-04, 5.84681175e-04, 5.63719468e-04, 1.54744493e-04,\n",
      "       8.57844398e-04, 4.90862952e-03, 1.10959605e-03, 3.17425530e-03,\n",
      "       7.24338885e-04, 2.50000000e-05, 1.70860482e-03, 2.26043785e-03,\n",
      "       2.58754426e-04, 6.36727003e-04, 7.61606680e-04, 7.77439024e-05,\n",
      "       4.84259905e-04, 9.99460384e-04, 1.13877472e-03, 0.00000000e+00,\n",
      "       4.55129356e-04, 3.77697424e-04, 3.33615688e-04, 3.86068630e-04,\n",
      "       2.06831555e-04, 1.38272488e-03, 9.61146549e-03, 2.95851359e-03,\n",
      "       9.53057359e-05, 2.35648662e-04, 0.00000000e+00, 1.87570874e-03,\n",
      "       1.81937309e-04, 7.27189336e-04, 1.28118345e-03, 5.45079606e-04,\n",
      "       3.36690142e-03, 7.86195303e-04, 5.11304085e-04, 8.04000602e-04,\n",
      "       3.25613006e-03, 8.12228479e-04, 2.83036460e-04, 0.00000000e+00,\n",
      "       1.08694444e-04, 4.55461149e-04, 2.42173964e-04, 3.80294777e-03,\n",
      "       3.22611818e-04, 6.49076509e-04, 0.00000000e+00, 4.10380271e-04,\n",
      "       1.96511107e-04, 1.00105687e-03, 2.05991819e-04, 3.95204197e-04,\n",
      "       6.92066210e-05, 1.42559134e-03, 1.00494123e-03, 2.68887526e-04,\n",
      "       4.02558142e-04, 3.68013913e-04, 2.04722458e-04, 1.43403888e-03]), array([ 1.91406753e+00,  1.14050188e+00,  8.79520552e-01,  8.67423246e-01,\n",
      "        1.04735643e-01,  7.07006928e-01, -1.36504812e-01,  4.55738171e-01,\n",
      "        5.42229312e-01,  6.53832574e-01,  2.57940161e-01,  1.85096214e-01,\n",
      "        4.22276767e-01, -1.83756185e-01,  1.78035702e-01,  1.93379707e-01,\n",
      "        1.67265018e-01,  3.00001777e-01,  1.02388031e+00, -4.82915477e-02,\n",
      "        6.80532896e+00,  6.90343029e-02,  1.05537654e-02,  4.03833078e-01,\n",
      "        3.00252824e-01,  3.19312250e-01,  2.19552575e+00, -6.35285919e-03,\n",
      "        1.59425774e-02,  4.89106127e-01,  2.16258458e+00,  2.42871400e-01,\n",
      "        3.64631115e-01,  2.44713707e-01, -1.82266372e-01,  2.47245805e-01,\n",
      "       -1.04540467e-01,  9.79031608e-01,  7.72462339e-02,  1.33198900e-01,\n",
      "       -1.41678033e-01, -1.91730704e-01, -1.60555862e-02,  2.82939841e-01,\n",
      "        1.49635344e+00, -1.32011058e-01, -1.16234431e-01, -1.84275083e-01,\n",
      "        1.36004171e+00, -1.82266372e-01,  1.94004470e-01,  6.08948158e-01,\n",
      "        6.41757431e-02,  2.47057381e-01,  3.34896557e-02, -8.00796703e-02,\n",
      "       -1.64220072e-02,  8.77387425e-02, -1.11009170e-01,  1.65085674e-01,\n",
      "        1.33557152e-02, -1.98121304e-01, -1.98121304e-01, -1.98121304e-01,\n",
      "        4.16095528e-01,  7.11396187e-01, -1.88805744e-01, -7.63018784e-02,\n",
      "        2.03558196e-01, -3.41303076e-02, -1.79776407e-01, -8.28325282e-02,\n",
      "       -1.81790407e-01, -1.98121304e-01, -5.45624166e-02, -1.94219515e-01,\n",
      "       -1.89511092e-01,  3.58144240e-02, -1.13474453e-01, -3.19733169e-03,\n",
      "       -9.89983013e-02, -1.37688567e-01,  8.14407889e-02, -1.79828924e-01,\n",
      "        1.48168849e-01, -1.27812319e-02, -1.95430369e-01, -1.10053934e-01,\n",
      "        5.18320202e-02, -1.94104641e-01, -1.80245010e-01,  9.14707288e-01,\n",
      "       -6.75463948e-02,  3.23325617e-02, -1.98121304e-01,  4.01693537e-01,\n",
      "       -5.19153715e-02, -1.98121304e-01, -1.29735446e-02, -1.98121304e-01,\n",
      "        1.68378778e-02, -1.31022232e-01,  2.94552674e-02, -8.31422290e-02,\n",
      "        1.85235832e-01, -3.66568278e-02,  7.83447957e-01,  1.21176647e+00,\n",
      "       -1.21140091e-01,  1.23393049e-01,  1.15223809e-01, -5.65024998e-02,\n",
      "       -3.47783332e-02, -4.26344869e-02, -8.65944228e-02,  2.91470014e-01,\n",
      "       -2.10217477e-02, -1.74462646e-01, -1.02965075e-01, -1.67844129e-01,\n",
      "       -7.31652783e-02, -1.54211066e-01, -1.70499557e-01, -8.40826747e-02,\n",
      "       -2.06100925e-02, -4.96800754e-02,  1.71035069e-02, -1.50482377e-01,\n",
      "       -1.25776653e-01,  1.10833496e+00, -1.55238622e-01, -8.25547024e-02,\n",
      "       -3.38450670e-02, -1.22246169e-01, -1.78010276e-01,  2.09767118e-02,\n",
      "        2.27203489e-04,  3.68464639e-01, -1.58389856e-01, -1.90359799e-01,\n",
      "        1.09747826e-01, -3.28795561e-02, -1.00740057e-01, -1.00740057e-01,\n",
      "       -1.01131572e-01, -2.57194365e-02, -1.49204707e-01,  4.86261861e-01,\n",
      "        1.87475279e-01, -1.64531290e-01, -1.69161552e-01, -3.39917934e-02,\n",
      "       -1.98121304e-01, -1.94219515e-01, -1.77598167e-01, -1.86954226e-01,\n",
      "       -1.84519016e-01, -1.07543921e-01, -1.75871568e-01, -1.20548758e-01,\n",
      "       -9.63445439e-02,  1.69603410e-01, -6.47308489e-02, -1.67844129e-01,\n",
      "       -1.73962794e-01, -1.87567155e-01, -1.98121304e-01, -9.87466896e-02,\n",
      "       -1.88554043e-01, -1.13383372e-01,  1.35220500e-01, -6.39385316e-02,\n",
      "       -1.74968898e-01, -6.40371525e-02, -1.98121304e-01, -1.98121304e-01,\n",
      "       -6.11217402e-02,  1.08835498e-02,  2.98193566e-02, -3.81295770e-02,\n",
      "        1.55467159e-01, -1.98121304e-01,  6.96627209e-02, -1.98121304e-01,\n",
      "       -1.29402737e-01, -1.58877475e-01, -1.98121304e-01, -1.70607609e-01,\n",
      "       -1.76734714e-01, -1.55231644e-01,  1.57774411e-02,  3.13020177e-02,\n",
      "       -1.26006565e-01, -1.23003759e-01, -1.98121304e-01, -1.25255531e-01,\n",
      "       -1.40245238e-01, -9.92365875e-02, -1.85055845e-01, -1.61595123e-01,\n",
      "       -1.79622106e-01,  1.91506013e-01, -8.64077221e-02, -5.97102730e-02,\n",
      "       -1.90097153e-01, -1.75178028e-01, -8.28193935e-02, -8.99237414e-02,\n",
      "       -1.52813088e-01, -1.88017755e-01,  3.82664198e-02, -1.56386504e-02,\n",
      "       -1.66461458e-01,  5.15789533e-01, -1.73698251e-01, -7.87143856e-02,\n",
      "       -1.14464862e-01,  2.07957828e-01, -1.27528754e-01, -1.07227690e-01,\n",
      "       -5.16547936e-02, -1.85768452e-01, -1.93902061e-01, -1.94201995e-01,\n",
      "       -1.98121304e-01, -1.88492623e-01,  7.71264785e-01, -1.23729418e-01,\n",
      "        5.49509208e-02, -1.56807004e-01, -1.44491100e-01, -1.81944456e-01,\n",
      "       -1.06748337e-01, -1.56349948e-01, -8.93384930e-02, -1.61785873e-01,\n",
      "       -1.55149833e-01, -1.09388155e-01, -7.33114143e-02, -1.41550971e-01,\n",
      "       -1.80672444e-01, -1.98121304e-01, -1.39803974e-01, -1.98121304e-01,\n",
      "       -1.66471067e-01, -5.77438206e-02, -1.90182199e-01, -1.94693348e-01,\n",
      "       -1.32869076e-01, -7.23346974e-02, -1.18729744e-01, -1.77987805e-01,\n",
      "       -1.74761406e-01,  1.82823378e-02, -4.90737849e-02, -1.48188531e-01,\n",
      "       -1.73323497e-01, -1.21519523e-01, -1.56365262e-01, -1.94644489e-01,\n",
      "       -1.94557502e-01, -5.35326816e-02, -1.68497789e-01, -1.98121304e-01,\n",
      "       -1.44355234e-01, -1.98121304e-01, -8.55398856e-02, -1.66206664e-01,\n",
      "       -4.09821001e-02, -1.39778108e-01, -1.34259322e-01, -3.26634241e-02,\n",
      "       -1.29663306e-01, -1.64086125e-01, -1.66976175e-01, -7.31592561e-02,\n",
      "       -1.52253225e-01, -1.60866051e-01, -1.72060378e-01, -1.98121304e-01,\n",
      "       -1.90318190e-01, -9.98181647e-02, -1.08215324e-02, -1.77102206e-01,\n",
      "       -1.67893257e-01, -1.17890442e-01, -1.35408811e-01, -1.98121304e-01,\n",
      "       -8.90006661e-02, -5.38243854e-02,  1.41229246e-01, -1.03540081e-01,\n",
      "       -1.83776018e-01,  7.93631187e-02, -1.04017063e-01, -1.96297461e-01,\n",
      "       -7.19753295e-02, -1.44144084e-01, -1.50411760e-01, -1.06892294e-01,\n",
      "       -1.51188279e-01, -4.55655162e-02, -1.22096627e-01,  2.21921577e-02,\n",
      "       -7.90082387e-02, -1.83776018e-01, -8.89359934e-02, -1.92551629e-01,\n",
      "       -1.98121304e-01, -1.14088854e-01, -1.98121304e-01,  5.21058597e-01,\n",
      "       -8.20262687e-02,  8.98232242e-02, -1.06736237e-01, -6.53330072e-02,\n",
      "       -1.45266829e-01, -1.49675766e-01, -1.98121304e-01, -1.88597494e-01,\n",
      "       -1.55421191e-01, -1.17321312e-01, -1.80667303e-01, -1.64806612e-01,\n",
      "       -1.72198503e-02, -1.46654781e-01, -1.94013010e-01, -9.96484611e-03,\n",
      "       -1.74873756e-01, -1.43197511e-01, -1.24640940e-01, -1.27459619e-01,\n",
      "       -1.69491834e-01, -1.26340913e-01, -6.28640269e-02, -2.06061096e-02,\n",
      "       -1.98121304e-01, -9.99324993e-02, -1.45889586e-01, -1.59824644e-01,\n",
      "       -1.35246977e-01, -1.98121304e-01, -1.86227493e-01, -8.19714531e-02,\n",
      "       -1.94496158e-01, -1.58156046e-01,  1.81596131e-01, -1.89456513e-01,\n",
      "       -2.90228249e-02, -1.72768112e-01, -1.61350441e-01, -1.47137055e-01,\n",
      "       -1.26653826e-01, -1.93338254e-01, -1.55676727e-01,  1.59724468e-01,\n",
      "       -1.95127358e-01, -1.90049961e-01, -1.56323669e-01, -1.89283581e-01,\n",
      "       -1.88126658e-01, -1.26980971e-01, -1.73802192e-01, -1.98121304e-01,\n",
      "       -1.12282392e-01, -1.68103797e-01, -1.94201995e-01, -7.94331980e-02,\n",
      "       -1.18165870e-01, -1.75510303e-01, -1.68676092e-01, -1.87840424e-01,\n",
      "       -1.86686108e-01, -1.87908797e-01, -1.72934665e-01, -1.72049098e-01,\n",
      "       -1.46946779e-01, -1.39186164e-01, -2.04734344e-03, -3.95950988e-02,\n",
      "       -1.59728814e-01, -1.98121304e-01, -3.86809315e-02, -1.98121304e-01,\n",
      "       -9.95843567e-02, -1.98121304e-01, -1.98121304e-01, -1.21819769e-01,\n",
      "       -1.05073973e-01, -1.18613390e-01, -1.15897204e-01, -1.58416704e-01,\n",
      "       -1.66130569e-01, -1.44715665e-01, -1.54717657e-01,  7.94172605e-02,\n",
      "       -1.98121304e-01, -1.74740582e-01, -3.32375361e-02, -1.74624089e-01]), array([ 3.91377972e-01,  2.86507843e+00,  1.71638068e+00, -9.59305695e-02,\n",
      "       -1.80394569e-01, -1.02566396e-01,  1.26648448e-01,  4.51842902e-01,\n",
      "       -1.34115138e-01,  3.26566945e-01,  4.19395879e-01,  4.24494712e-01,\n",
      "       -8.38062741e-02,  7.50600307e-02, -7.03004851e-02,  2.79733369e-01,\n",
      "       -1.37746822e-01,  7.36543970e-01,  6.97132964e-01,  2.63991940e-01,\n",
      "        7.27714298e+00,  1.16790691e-01,  1.63807211e-01,  4.99878565e-01,\n",
      "       -1.79224513e-01,  1.38677148e-02,  1.87072142e+00,  1.84267190e-01,\n",
      "       -1.61115939e-01,  6.46743464e-01,  1.53051277e+00,  5.27108419e-01,\n",
      "        6.87752030e-03,  2.07917390e-01, -5.82584027e-02, -1.71319203e-01,\n",
      "       -6.78550139e-02,  1.09860539e+00,  1.99154355e-01, -5.04740488e-02,\n",
      "        9.54237580e-02,  2.70019052e-02,  2.60950078e-01,  4.78874213e-01,\n",
      "        2.08664791e+00, -6.10402640e-02,  8.84190903e-02,  4.61080525e-02,\n",
      "        9.58964292e-01, -1.02643018e-01,  3.95719857e-01,  6.97946207e-01,\n",
      "        1.46284117e-01,  7.09822389e-03, -1.56486628e-01,  4.76935239e-02,\n",
      "        1.13891949e-02, -4.39234825e-02,  1.05159785e-01,  1.69761220e-01,\n",
      "        1.17980479e-01, -2.04041653e-01, -9.83909478e-02, -7.58754113e-02,\n",
      "        3.55882918e-02,  4.17076192e-01, -2.04041653e-01,  1.55051535e-02,\n",
      "        1.78087632e-02, -1.85853396e-01,  4.89900708e-02, -5.16131145e-02,\n",
      "        2.73458222e-03, -9.09577696e-02,  1.31257185e-01, -4.66516195e-02,\n",
      "       -2.80218019e-02, -1.96723820e-01,  4.55499469e-02,  1.71258416e-01,\n",
      "        6.25148665e-02, -1.85928320e-01,  2.49168992e-02, -1.35829738e-01,\n",
      "        5.49748661e-02, -1.07503161e-01, -8.94757181e-02, -4.99653766e-02,\n",
      "        2.92418012e-01, -1.40941374e-01,  1.01383535e-02,  7.91611258e-01,\n",
      "       -1.94523566e-01,  7.83441281e-02, -7.20244412e-02,  3.89843950e-02,\n",
      "        8.53112415e-02, -1.12197262e-01,  1.53677947e-02, -9.13552083e-02,\n",
      "        2.18763070e-01,  5.60321943e-02, -1.02543975e-01,  7.91007059e-04,\n",
      "        3.78807873e-01, -1.08331095e-01,  5.71547010e-01,  8.05274105e-01,\n",
      "       -6.98632033e-02,  1.98159584e-01, -9.72171887e-02,  2.51491231e-02,\n",
      "       -1.57624788e-01, -6.25460980e-03, -1.40448275e-01, -4.48932347e-02,\n",
      "       -8.72692409e-02, -2.04041653e-01, -2.01322766e-01, -1.61038004e-01,\n",
      "       -1.45624832e-01, -9.90319912e-02,  1.91564718e-01, -2.04041653e-01,\n",
      "       -7.60226658e-02, -1.20893699e-01, -7.13055033e-02, -4.46168162e-02,\n",
      "       -6.46342823e-02,  1.05375364e+00, -1.96181499e-01,  1.34931922e-01,\n",
      "       -1.24456359e-01, -1.08667355e-01, -1.44957018e-01, -1.98786564e-01,\n",
      "       -1.70298939e-01,  5.69185154e-01, -3.19931006e-02, -8.23764638e-02,\n",
      "        2.78602029e-01, -7.11704065e-02, -9.38801330e-02, -9.38801330e-02,\n",
      "       -1.52977759e-01,  9.01610333e-02, -2.04041653e-01,  5.07204528e-01,\n",
      "       -2.06838691e-02, -1.46848646e-01, -1.50584250e-01, -3.61393412e-02,\n",
      "       -2.04041653e-01, -1.33115498e-01, -1.55535425e-01, -1.13927965e-01,\n",
      "       -1.13561459e-01, -6.08548646e-02, -1.32675304e-01, -7.48820716e-02,\n",
      "        4.54524973e-02, -7.48911938e-02, -3.25739179e-02, -1.61038004e-01,\n",
      "       -6.72179097e-02, -1.93270169e-01, -8.76352836e-02, -1.47012944e-01,\n",
      "       -1.70709481e-01, -8.48399114e-02, -8.82683812e-02, -1.97012988e-01,\n",
      "       -1.20859421e-01, -2.00306922e-01, -1.52252185e-01, -2.04041653e-01,\n",
      "       -1.64366173e-01, -1.16097119e-01,  1.14953353e-01,  7.56420384e-04,\n",
      "        1.74579313e-01, -1.03303581e-01,  1.45475641e-01, -1.87071693e-01,\n",
      "       -6.78766543e-02, -1.27115133e-01, -9.31901218e-02, -1.28978982e-01,\n",
      "       -1.63124482e-01, -1.36476268e-01, -1.08276440e-01, -8.17233388e-02,\n",
      "       -1.98753174e-01, -3.84589740e-02, -1.59968245e-01, -1.03947063e-01,\n",
      "       -1.50401332e-01, -1.21632050e-02, -9.80712171e-02, -1.36478335e-01,\n",
      "       -1.06210661e-01,  6.24034779e-03,  3.40844603e-02, -6.50400906e-02,\n",
      "       -1.99419212e-01, -1.11646571e-01, -6.99810337e-02, -2.04041653e-01,\n",
      "       -9.79827620e-02, -1.67595873e-01, -3.97907269e-02,  1.75653522e-03,\n",
      "       -1.48058415e-01,  5.96972991e-01, -8.95994274e-02, -1.20082563e-01,\n",
      "       -1.12410199e-01,  2.19900695e-01, -1.50156601e-01, -1.77975493e-01,\n",
      "       -8.09539051e-02, -1.89528753e-01, -6.56547755e-02, -1.13152051e-01,\n",
      "       -1.77896132e-01, -1.01136615e-01,  5.03970552e-01, -2.04041653e-01,\n",
      "       -1.86587272e-01, -1.50672939e-01, -1.31059647e-01, -1.32943888e-01,\n",
      "       -4.02011499e-02, -1.01006554e-01,  9.21521627e-02, -1.50364249e-01,\n",
      "       -7.88232097e-02, -1.64957016e-01, -1.27989977e-01, -5.14820052e-02,\n",
      "       -1.02914671e-01, -1.59408476e-01, -1.10661732e-01, -1.83016208e-01,\n",
      "       -1.07832486e-01, -2.04041653e-01, -1.00568659e-01, -1.37289372e-01,\n",
      "       -1.43096683e-01, -1.83945938e-01, -3.74414762e-02, -1.53200361e-01,\n",
      "       -9.61818503e-02, -1.19120309e-01, -1.81004154e-01, -7.77674757e-02,\n",
      "       -1.38639673e-01, -1.54835492e-01, -1.32048315e-01, -1.21070257e-01,\n",
      "       -1.47994412e-01,  1.23010874e-03, -1.01711576e-01, -8.75672838e-02,\n",
      "       -1.91654784e-01, -2.04041653e-01, -1.24218743e-01, -1.99546825e-01,\n",
      "       -1.58737204e-01, -6.98827399e-02, -1.93585108e-01,  2.85734015e-02,\n",
      "       -6.83583724e-02, -8.72890437e-02, -1.39994728e-01, -1.36272447e-01,\n",
      "       -9.96867892e-02, -1.39084409e-01, -6.05195619e-02, -1.60721847e-01,\n",
      "       -1.58987861e-01, -1.14707804e-01, -8.04189076e-02, -1.03768370e-01,\n",
      "       -1.30510407e-01, -4.11841081e-02, -3.40759804e-02, -1.90945091e-01,\n",
      "       -6.56196210e-02, -1.70319892e-01, -1.42271195e-01, -1.20388528e-01,\n",
      "       -2.00332500e-01, -1.07966758e-01, -1.91214190e-01, -2.04041653e-01,\n",
      "       -3.39888906e-02, -1.56075332e-01, -8.33592384e-02, -1.80824451e-02,\n",
      "       -1.03181465e-01, -1.28002283e-01, -2.04041653e-01, -7.66077793e-02,\n",
      "       -7.71330313e-02, -1.98303752e-01, -1.78962208e-01, -1.98595190e-01,\n",
      "       -1.59352888e-01, -1.56864626e-01, -1.44446756e-01,  5.24499630e-01,\n",
      "       -1.78733094e-01,  1.91696270e-01, -1.98026138e-02, -8.35932314e-02,\n",
      "       -9.54948575e-02, -1.72910547e-01, -1.51624299e-01, -1.97603217e-01,\n",
      "       -1.56362016e-01, -1.69738725e-01, -1.55977426e-01, -1.98711162e-01,\n",
      "       -1.48188560e-01, -1.85066303e-01, -1.35294258e-01, -1.93403268e-03,\n",
      "       -8.90549150e-02, -1.14904610e-01, -1.68278654e-01, -9.82977040e-02,\n",
      "       -1.11429906e-01, -9.92611852e-02, -1.36630960e-01, -9.17289476e-02,\n",
      "       -1.11031270e-01, -1.37322376e-01, -1.98732334e-01, -1.99597209e-01,\n",
      "       -1.02713316e-01, -2.04041653e-01, -1.41954257e-01, -4.28630089e-02,\n",
      "       -1.85876802e-01, -2.04041653e-01,  3.73997639e-01, -1.69912394e-01,\n",
      "       -1.85554787e-01, -1.68853984e-01, -1.97994221e-01, -1.88001889e-01,\n",
      "       -1.60664399e-01, -1.95798487e-01, -1.79404940e-01, -3.36162032e-02,\n",
      "       -1.23721357e-01, -1.70004813e-01, -2.02398759e-01, -1.65986412e-01,\n",
      "       -1.42621138e-01, -1.67943704e-01, -2.00924917e-01, -2.04041653e-01,\n",
      "       -1.80014261e-01, -6.37758394e-02, -1.54664090e-01, -1.23459206e-01,\n",
      "       -1.63823161e-01, -1.92321930e-01, -1.56256068e-01, -1.74283472e-01,\n",
      "       -1.82754122e-01, -1.49167027e-01, -1.98139964e-01, -1.36140379e-01,\n",
      "       -3.53449953e-02, -1.99052458e-01, -4.99265380e-02, -1.65262449e-01,\n",
      "       -1.35775480e-01, -1.56207634e-01, -7.65402619e-02, -1.98751754e-01,\n",
      "       -1.57105983e-01, -1.63723475e-01, -2.04041653e-01, -9.82264159e-02,\n",
      "       -1.69538453e-01, -6.51106055e-02,  2.15248028e-02, -1.41866337e-01,\n",
      "       -1.94736196e-01, -1.62317649e-01, -1.54813113e-01, -1.84459250e-02,\n",
      "       -2.02461104e-01, -1.23383238e-01, -1.99812045e-01, -1.66105545e-01]), array([2.25378998e-02, 2.10433009e-02, 2.71867695e-02, 1.07913266e-03,\n",
      "       5.56924143e-03, 1.03382776e-02, 1.77104138e-03, 4.71255012e-03,\n",
      "       4.82030474e-04, 9.50458777e-03, 5.38862822e-03, 1.03396974e-02,\n",
      "       1.04981904e-02, 3.13938595e-04, 6.92658551e-03, 7.45855972e-03,\n",
      "       5.73238810e-03, 4.15365818e-03, 1.16550317e-03, 1.90889639e-03,\n",
      "       6.68409054e-02, 4.43880589e-03, 4.23215750e-03, 6.90054810e-03,\n",
      "       2.45867049e-03, 1.09091631e-03, 3.08123024e-02, 3.55268153e-03,\n",
      "       2.42886308e-03, 1.14795714e-02, 1.49836939e-02, 3.40278412e-03,\n",
      "       1.54733634e-03, 6.10760379e-03, 4.67546420e-04, 2.74635359e-03,\n",
      "       7.99801884e-04, 1.29229586e-02, 2.83614164e-03, 1.83180130e-03,\n",
      "       7.05457161e-04, 6.57894737e-05, 3.48765943e-03, 6.10005593e-03,\n",
      "       1.89248801e-02, 3.28290408e-03, 1.12292115e-03, 4.91135491e-04,\n",
      "       1.37753923e-02, 4.52840538e-04, 5.15661674e-03, 1.18561808e-02,\n",
      "       2.22990498e-03, 1.47003691e-03, 4.95653365e-03, 2.00155407e-03,\n",
      "       2.51806277e-03, 2.00422444e-03, 6.77500755e-04, 3.07526088e-03,\n",
      "       2.28805187e-03, 3.44953241e-04, 4.46428571e-05, 3.79844555e-04,\n",
      "       4.17382285e-03, 1.39661139e-02, 3.45056491e-02, 2.30016492e-03,\n",
      "       3.15851553e-04, 4.02427156e-03, 2.95680705e-04, 1.44541167e-03,\n",
      "       7.69082185e-05, 1.47259964e-04, 1.41409220e-03, 1.04166667e-04,\n",
      "       6.13038278e-05, 1.17480528e-03, 4.28552854e-04, 7.37133083e-04,\n",
      "       4.34602720e-03, 1.38021433e-03, 2.34834308e-03, 1.61664895e-04,\n",
      "       7.68609499e-04, 5.11333772e-04, 3.78787879e-05, 1.28697791e-03,\n",
      "       8.26069183e-03, 1.79970886e-04, 5.26564195e-04, 1.06202844e-02,\n",
      "       5.58567927e-04, 1.85880771e-03, 9.02000913e-05, 4.61762095e-04,\n",
      "       2.65094646e-03, 1.04166667e-04, 4.18056325e-03, 4.65926205e-05,\n",
      "       3.16482426e-03, 3.58434631e-04, 2.02737768e-03, 1.11667770e-03,\n",
      "       3.29483662e-03, 2.98286794e-03, 2.02478369e-02, 1.30026607e-02,\n",
      "       7.78033146e-04, 4.72100565e-03, 1.70040287e-03, 6.83454837e-04,\n",
      "       1.46030036e-04, 1.76082668e-03, 1.84024261e-03, 5.29517192e-05,\n",
      "       1.50489862e-02, 9.60423837e-04, 2.49114102e-03, 4.00505317e-04,\n",
      "       5.31399131e-03, 1.32322771e-03, 2.50498343e-04, 2.57401565e-03,\n",
      "       3.70559849e-03, 2.95472455e-03, 3.23331323e-03, 6.69081284e-04,\n",
      "       1.81274805e-03, 2.16958908e-02, 9.31888832e-04, 3.32954352e-03,\n",
      "       1.56511892e-03, 1.15342681e-03, 4.04341630e-04, 1.52299753e-03,\n",
      "       2.60877287e-04, 7.70379864e-03, 4.87365596e-04, 5.82655827e-05,\n",
      "       4.83945507e-03, 1.47781091e-03, 1.32543470e-03, 1.25599026e-03,\n",
      "       2.24126409e-03, 2.31281746e-04, 2.75896373e-03, 6.85097201e-03,\n",
      "       3.03816529e-03, 5.36743402e-04, 3.53482891e-03, 2.99897196e-03,\n",
      "       0.00000000e+00, 0.00000000e+00, 1.07657748e-03, 8.32602644e-04,\n",
      "       1.56299135e-04, 1.49370890e-03, 1.74551976e-04, 6.09591848e-04,\n",
      "       2.42492165e-03, 1.46073733e-04, 1.07241111e-03, 3.49617133e-04,\n",
      "       1.34301527e-03, 3.49243766e-04, 0.00000000e+00, 8.55690714e-04,\n",
      "       2.51304945e-04, 9.32903505e-04, 5.55887826e-05, 5.61868687e-05,\n",
      "       6.26448001e-04, 0.00000000e+00, 1.05421929e-04, 2.59302195e-03,\n",
      "       1.41569388e-04, 1.59932709e-03, 2.77876524e-03, 8.49847337e-04,\n",
      "       4.90312502e-03, 5.60619213e-05, 5.91124543e-03, 2.23231358e-04,\n",
      "       8.03449015e-04, 1.10161092e-03, 0.00000000e+00, 7.80877906e-04,\n",
      "       1.67512505e-03, 4.49958486e-04, 1.50835358e-03, 1.36249902e-03,\n",
      "       5.04604237e-04, 9.92063492e-05, 1.76056338e-05, 5.02680833e-04,\n",
      "       5.21712648e-03, 2.27632022e-03, 0.00000000e+00, 2.72528707e-04,\n",
      "       6.57894737e-05, 3.39959147e-04, 3.36182434e-03, 3.52149024e-04,\n",
      "       5.14373997e-04, 8.99378807e-04, 9.51906827e-04, 3.22261890e-04,\n",
      "       4.06004665e-04, 5.12616933e-04, 5.18272129e-03, 2.13047913e-03,\n",
      "       3.34942860e-04, 1.07329763e-02, 1.77429314e-04, 1.04290911e-03,\n",
      "       7.30899151e-04, 1.70025830e-03, 1.31598967e-03, 1.71239869e-03,\n",
      "       1.97352471e-03, 7.30439446e-04, 2.74175428e-04, 9.32314214e-05,\n",
      "       1.23514697e-04, 2.36659171e-04, 1.23270203e-02, 1.48738528e-03,\n",
      "       5.33487044e-04, 8.57138277e-04, 3.77769030e-04, 3.13608156e-05,\n",
      "       1.95819789e-04, 2.57289715e-03, 1.38009150e-04, 7.75994420e-04,\n",
      "       4.91025868e-04, 1.12177144e-03, 2.04336011e-04, 1.14678899e-05,\n",
      "       3.01515909e-04, 4.46428571e-05, 5.87952950e-04, 5.88547908e-05,\n",
      "       4.33989385e-05, 2.21256637e-03, 2.77642451e-04, 0.00000000e+00,\n",
      "       5.62982659e-04, 1.25000000e-04, 1.66323999e-03, 5.28947709e-04,\n",
      "       4.46049427e-04, 2.71973331e-03, 1.83606076e-03, 2.45693746e-04,\n",
      "       1.89734868e-04, 2.45163851e-03, 4.38450479e-04, 0.00000000e+00,\n",
      "       2.02686113e-04, 1.16506520e-03, 1.70207751e-04, 2.17362493e-04,\n",
      "       5.66480278e-04, 1.32050914e-03, 2.67935105e-03, 1.53470587e-03,\n",
      "       1.20352428e-03, 6.60663420e-04, 2.04918033e-05, 6.15161755e-04,\n",
      "       5.06115926e-04, 7.19410853e-04, 3.95857198e-04, 6.04596357e-04,\n",
      "       6.18243231e-04, 1.17509806e-03, 2.58272186e-04, 2.03960240e-04,\n",
      "       1.72389099e-04, 1.42633652e-03, 1.93710657e-03, 2.76671031e-04,\n",
      "       1.03760539e-03, 2.60411344e-04, 3.92486377e-04, 3.59915192e-05,\n",
      "       3.39157161e-03, 8.98750168e-04, 4.25329312e-04, 5.99406307e-04,\n",
      "       1.02399617e-03, 4.15258521e-03, 1.97819660e-02, 9.29419495e-04,\n",
      "       2.11583835e-04, 9.52136696e-04, 6.94444444e-05, 9.44623030e-05,\n",
      "       7.26192484e-04, 2.27166305e-03, 4.75117336e-04, 0.00000000e+00,\n",
      "       7.41806972e-03, 8.15118342e-04, 4.82292288e-04, 9.84362778e-05,\n",
      "       1.35353240e-04, 8.56364345e-04, 0.00000000e+00, 5.71184274e-03,\n",
      "       7.89111799e-04, 5.22413742e-03, 1.90480278e-03, 9.70455133e-04,\n",
      "       5.56431226e-04, 7.92112033e-04, 9.98759305e-05, 8.94946084e-03,\n",
      "       1.46471069e-04, 8.51048571e-04, 3.21333469e-04, 6.17954240e-04,\n",
      "       1.06026347e-03, 1.32942370e-04, 2.66923500e-05, 3.91260994e-03,\n",
      "       0.00000000e+00, 2.45514263e-03, 2.42718738e-03, 1.35235900e-03,\n",
      "       5.97592284e-04, 5.53509209e-04, 2.13931466e-04, 2.90014920e-03,\n",
      "       1.01990050e-04, 1.42053289e-03, 1.18975553e-03, 9.02884306e-04,\n",
      "       5.44410149e-04, 4.01658929e-03, 5.88757580e-04, 1.77633522e-03,\n",
      "       2.07957642e-03, 1.32407657e-03, 2.13072136e-03, 1.84052010e-03,\n",
      "       7.59359903e-05, 3.14123562e-04, 3.74029175e-03, 1.21811890e-04,\n",
      "       1.02460677e-03, 3.37837838e-05, 1.62543692e-03, 0.00000000e+00,\n",
      "       0.00000000e+00, 3.55445253e-04, 1.02459204e-03, 6.38757862e-05,\n",
      "       5.73664112e-05, 2.13094113e-03, 5.90255455e-04, 2.89315838e-03,\n",
      "       6.31256300e-04, 3.01400841e-04, 0.00000000e+00, 1.48992264e-03,\n",
      "       3.59522910e-04, 8.80386704e-05, 1.21115381e-03, 5.22735510e-04,\n",
      "       3.21293500e-03, 1.51534815e-04, 3.02134468e-04, 7.80845390e-04,\n",
      "       3.33864504e-03, 2.32435052e-03, 2.60777806e-04, 0.00000000e+00,\n",
      "       3.47222222e-05, 1.68133881e-05, 3.86329411e-04, 0.00000000e+00,\n",
      "       9.14237821e-04, 7.53012048e-06, 1.12353161e-02, 6.81007490e-04,\n",
      "       2.52948762e-04, 1.87395019e-03, 3.20833489e-04, 1.21159224e-04,\n",
      "       1.55489418e-03, 1.16020450e-03, 7.60546728e-04, 7.51547303e-05,\n",
      "       1.60778986e-05, 2.61672892e-04, 5.81995338e-04, 1.65324103e-03]), array([6.54956794e-03, 3.24274450e-02, 3.44315347e-02, 8.98170382e-04,\n",
      "       7.28415151e-04, 3.59869632e-03, 7.40369064e-03, 9.77958020e-03,\n",
      "       2.88808499e-04, 4.61539377e-03, 8.49539953e-03, 1.22912188e-02,\n",
      "       2.81760993e-03, 3.74947009e-03, 1.56800703e-03, 7.71031050e-03,\n",
      "       1.47559101e-03, 5.13704639e-03, 1.37516920e-03, 4.13425916e-03,\n",
      "       6.82616094e-02, 5.12645692e-03, 5.64819880e-03, 7.24419467e-03,\n",
      "       7.05218924e-04, 6.46073214e-04, 2.56337047e-02, 2.40002480e-03,\n",
      "       4.04489150e-04, 1.15445810e-02, 1.19203788e-02, 3.90594782e-03,\n",
      "       5.71815968e-04, 3.25344024e-03, 3.83636313e-03, 9.20078880e-04,\n",
      "       3.63104859e-03, 1.53605113e-02, 2.85143697e-03, 1.63969450e-03,\n",
      "       1.91547058e-03, 1.32065211e-03, 4.48687615e-03, 7.45178652e-03,\n",
      "       1.70553799e-02, 4.19597666e-03, 1.50671676e-03, 2.20361259e-03,\n",
      "       1.02997421e-02, 2.98423081e-03, 7.21345539e-03, 1.46458215e-02,\n",
      "       3.03480016e-03, 1.28700519e-03, 9.90256207e-04, 3.60866258e-03,\n",
      "       3.68974635e-03, 1.38081382e-03, 1.61118911e-03, 3.34471642e-03,\n",
      "       3.06823535e-03, 3.65654174e-03, 1.91097212e-03, 2.47041523e-03,\n",
      "       3.73334442e-03, 1.28016742e-02, 3.76703200e-02, 2.61380817e-03,\n",
      "       2.04694857e-04, 8.58949604e-04, 6.99404593e-04, 3.72267889e-03,\n",
      "       3.60146337e-04, 1.17639067e-03, 1.28893664e-03, 1.36312031e-03,\n",
      "       3.47295839e-04, 1.06837607e-05, 1.78802098e-04, 1.23249363e-03,\n",
      "       3.23445117e-03, 3.21372696e-03, 1.57198089e-03, 1.50626876e-03,\n",
      "       6.89744298e-04, 2.93368521e-04, 6.25605541e-04, 1.52981495e-03,\n",
      "       4.89795125e-03, 3.75835145e-04, 7.07038841e-04, 1.39176988e-02,\n",
      "       5.49779048e-05, 1.86307036e-03, 2.53889939e-03, 1.86516221e-04,\n",
      "       2.84313603e-03, 1.05765259e-03, 3.70046138e-03, 9.99439696e-04,\n",
      "       2.99667266e-03, 9.74501921e-04, 1.61043652e-03, 1.73821176e-03,\n",
      "       5.01763902e-03, 1.06845327e-03, 1.49758678e-02, 1.46793967e-02,\n",
      "       1.45972345e-03, 5.02040941e-03, 1.11486682e-03, 1.93383119e-03,\n",
      "       2.99261270e-04, 2.76684316e-03, 1.41261468e-03, 3.67647059e-05,\n",
      "       9.46831339e-03, 1.69478646e-03, 3.55463621e-04, 1.32241632e-03,\n",
      "       6.42231862e-03, 1.76711168e-03, 2.66603698e-04, 1.06350042e-03,\n",
      "       4.53020475e-03, 1.02282281e-03, 1.19060406e-03, 1.42025278e-03,\n",
      "       2.64468320e-03, 1.82508708e-02, 8.43160260e-05, 4.69005727e-03,\n",
      "       1.21939327e-03, 2.06797293e-03, 1.01009409e-03, 1.84708111e-04,\n",
      "       4.78266902e-04, 8.40809367e-03, 1.24974989e-03, 2.25555773e-04,\n",
      "       5.53525309e-03, 2.10246245e-03, 5.74419300e-04, 4.96294300e-04,\n",
      "       1.34300362e-03, 5.28829268e-04, 1.91458027e-04, 9.19543792e-03,\n",
      "       2.09610401e-03, 8.19697024e-04, 7.38424648e-04, 3.56755043e-03,\n",
      "       6.71419098e-05, 8.33333333e-05, 1.90451130e-03, 6.99609440e-04,\n",
      "       1.21961078e-04, 1.71336262e-03, 8.48779630e-04, 1.38694942e-03,\n",
      "       2.28705465e-03, 4.76973684e-05, 2.21157006e-03, 1.25978399e-03,\n",
      "       1.43432249e-03, 1.09081493e-03, 4.02939969e-04, 1.50691901e-04,\n",
      "       1.31646172e-03, 1.11057991e-03, 1.08560794e-04, 4.62962963e-05,\n",
      "       7.84333161e-04, 0.00000000e+00, 1.16451350e-03, 4.51924988e-03,\n",
      "       3.01533233e-04, 8.18178702e-04, 3.13189781e-03, 2.58399069e-03,\n",
      "       4.18490730e-03, 6.11802723e-04, 3.81301763e-03, 3.43991121e-03,\n",
      "       1.24398984e-03, 1.62769576e-03, 3.17929555e-04, 1.33873958e-03,\n",
      "       2.02052501e-03, 1.19036464e-03, 1.41402178e-03, 4.59608724e-04,\n",
      "       2.11433184e-05, 1.34291521e-04, 2.07138173e-03, 9.86906914e-04,\n",
      "       3.40560064e-03, 3.59267103e-03, 9.68849654e-04, 7.04219572e-04,\n",
      "       2.64216480e-04, 4.28660479e-04, 1.50921108e-03, 1.03803787e-03,\n",
      "       9.31206608e-04, 1.09439189e-03, 2.55709069e-03, 0.00000000e+00,\n",
      "       5.90489355e-04, 1.10903707e-03, 4.76536578e-03, 2.42389709e-03,\n",
      "       1.27816018e-03, 7.56334303e-03, 6.91278752e-04, 7.71120513e-04,\n",
      "       9.20946886e-04, 3.30263594e-03, 1.74298712e-03, 7.65364810e-04,\n",
      "       1.48991650e-03, 5.06507191e-04, 2.22424185e-04, 5.63780118e-04,\n",
      "       1.20709747e-03, 5.51897098e-04, 1.53108020e-02, 5.49658684e-04,\n",
      "       9.34829060e-05, 8.06236365e-04, 6.10252927e-04, 5.68181818e-05,\n",
      "       2.18456948e-04, 3.58541952e-03, 0.00000000e+00, 1.14456427e-03,\n",
      "       6.40161825e-04, 5.41324382e-04, 1.81333699e-04, 2.24791827e-04,\n",
      "       1.11179159e-03, 1.06551679e-03, 1.15963997e-03, 1.19898533e-03,\n",
      "       5.35417748e-05, 6.23407837e-04, 1.04120538e-03, 2.22980024e-04,\n",
      "       1.08933556e-03, 0.00000000e+00, 1.40099236e-03, 1.11911995e-03,\n",
      "       1.46140201e-03, 9.48616470e-04, 2.90586148e-04, 1.04222638e-03,\n",
      "       4.15108142e-04, 2.15040987e-03, 7.71281043e-04, 1.45256917e-04,\n",
      "       7.45728617e-04, 1.35941676e-03, 2.49616980e-04, 6.07142857e-05,\n",
      "       0.00000000e+00, 3.94248054e-04, 2.65826918e-03, 3.35950963e-04,\n",
      "       5.35964610e-04, 6.59892770e-04, 2.84090909e-05, 1.25218760e-03,\n",
      "       9.85702941e-04, 1.17822852e-03, 1.30041243e-03, 6.26723244e-05,\n",
      "       1.52887578e-03, 2.04511966e-03, 2.30795501e-04, 7.63684098e-04,\n",
      "       3.13655610e-04, 2.82985335e-03, 2.22306870e-03, 4.42928259e-04,\n",
      "       1.22738626e-03, 2.67321908e-04, 6.95481672e-04, 1.40135913e-03,\n",
      "       1.40316914e-03, 1.92868590e-04, 2.25339336e-04, 8.87721134e-04,\n",
      "       1.14229657e-04, 1.52229291e-03, 1.01940137e-02, 3.19815484e-04,\n",
      "       7.42800566e-04, 5.09465684e-04, 1.04529617e-04, 1.17958125e-04,\n",
      "       4.68660147e-04, 8.28102408e-04, 5.00000000e-05, 0.00000000e+00,\n",
      "       4.78894998e-03, 1.16722556e-04, 4.20523821e-04, 1.52282720e-04,\n",
      "       3.35816725e-04, 1.56089824e-04, 3.17929555e-04, 4.64945603e-03,\n",
      "       1.72188715e-04, 2.35075588e-03, 2.72158313e-03, 4.67537429e-04,\n",
      "       1.65738490e-03, 2.02323153e-04, 1.87500000e-04, 6.54878809e-03,\n",
      "       2.16692108e-03, 1.08724182e-03, 5.57501528e-04, 2.52786463e-04,\n",
      "       5.74121818e-04, 0.00000000e+00, 1.91875893e-04, 2.51696466e-03,\n",
      "       0.00000000e+00, 1.16457405e-03, 1.60398431e-03, 2.37506458e-03,\n",
      "       1.65868047e-03, 2.17579205e-04, 1.16822430e-05, 1.87250740e-03,\n",
      "       3.08263475e-04, 1.16639703e-03, 5.33628289e-04, 1.21773380e-04,\n",
      "       8.33076355e-04, 4.69538662e-03, 7.13630131e-04, 2.69902142e-03,\n",
      "       2.15868787e-03, 1.00649351e-04, 1.40887082e-03, 2.44218412e-03,\n",
      "       2.57811472e-04, 8.18642802e-04, 1.70959208e-03, 9.44130169e-05,\n",
      "       3.51546305e-04, 4.25450869e-04, 1.38237434e-03, 0.00000000e+00,\n",
      "       6.30390739e-04, 2.86243311e-04, 2.48276275e-04, 7.78897619e-04,\n",
      "       7.62888051e-04, 2.44626852e-03, 1.25277897e-03, 4.37561737e-03,\n",
      "       8.57632610e-05, 2.04100993e-04, 0.00000000e+00, 1.90697081e-03,\n",
      "       1.04233648e-04, 7.19365971e-04, 6.50533015e-04, 8.00104248e-04,\n",
      "       2.63046405e-03, 2.31459292e-04, 9.21429468e-04, 8.48326993e-04,\n",
      "       3.36323587e-03, 8.52765717e-04, 1.05971327e-04, 0.00000000e+00,\n",
      "       2.82706318e-04, 5.00000000e-05, 1.69189883e-04, 2.97619048e-05,\n",
      "       1.88665809e-04, 3.32539323e-04, 1.39485886e-02, 9.89085303e-04,\n",
      "       1.85207139e-04, 1.25650848e-03, 9.46354296e-04, 5.01597004e-04,\n",
      "       3.47232069e-04, 1.69397015e-03, 4.79297695e-04, 6.62878788e-05,\n",
      "       1.21214099e-03, 2.73380161e-04, 3.92357887e-04, 8.48246009e-04]), array([3.17608976e-02, 1.90712025e-02, 1.59989690e-02, 6.33875959e-03,\n",
      "       7.93831043e-03, 3.71288834e-03, 2.74028888e-03, 1.25798871e-02,\n",
      "       4.50473955e-03, 9.01749360e-03, 4.78509079e-03, 4.55963452e-03,\n",
      "       6.08568592e-03, 2.80062671e-05, 4.08964108e-03, 6.64426358e-03,\n",
      "       4.27592974e-03, 4.71892461e-03, 1.39684598e-02, 3.60644984e-03,\n",
      "       9.34673389e-02, 3.50440635e-03, 2.05548449e-03, 7.66502010e-03,\n",
      "       4.21856116e-03, 1.53793325e-02, 2.87182096e-02, 2.67933684e-03,\n",
      "       3.23125990e-03, 6.80328236e-03, 3.71758564e-02, 5.56586848e-03,\n",
      "       1.15894316e-02, 5.84663690e-03, 3.17460317e-05, 2.08027906e-03,\n",
      "       7.20923203e-04, 1.15115227e-02, 2.90994841e-03, 4.53904876e-03,\n",
      "       2.09535485e-04, 5.09852217e-04, 3.82476656e-03, 4.11416213e-03,\n",
      "       3.36603123e-02, 1.37231963e-03, 1.25567340e-03, 1.98123115e-04,\n",
      "       1.72176190e-02, 3.17460317e-05, 4.06184373e-03, 9.09176163e-03,\n",
      "       2.00594614e-03, 6.55593047e-03, 1.04312297e-03, 1.24898069e-03,\n",
      "       1.05898216e-03, 2.26904555e-03, 1.19254029e-03, 4.34166580e-03,\n",
      "       1.76100174e-03, 0.00000000e+00, 2.80062671e-05, 3.12500000e-05,\n",
      "       4.93407425e-03, 1.99474967e-02, 3.58649789e-04, 1.66751675e-03,\n",
      "       4.99758139e-03, 2.65977444e-04, 5.82633053e-05, 1.02804565e-03,\n",
      "       2.52507111e-04, 9.58333333e-05, 3.68925166e-03, 0.00000000e+00,\n",
      "       3.56385830e-04, 9.93028982e-04, 3.43015720e-03, 4.58627582e-03,\n",
      "       1.02849726e-03, 2.40081101e-04, 4.72908494e-03, 2.47031704e-04,\n",
      "       4.21810928e-03, 6.03438103e-03, 4.00000000e-05, 8.26840789e-04,\n",
      "       3.24931620e-03, 1.00597533e-03, 3.88695489e-04, 9.74844216e-03,\n",
      "       2.00219328e-03, 2.11337227e-03, 7.64790765e-05, 6.67727412e-04,\n",
      "       2.16239392e-03, 0.00000000e+00, 3.99646650e-03, 0.00000000e+00,\n",
      "       4.66394815e-03, 1.84236495e-03, 1.99471423e-03, 8.08360477e-04,\n",
      "       2.50804618e-03, 1.17314515e-03, 1.33149087e-02, 1.36468278e-02,\n",
      "       8.11040123e-04, 4.00448567e-03, 3.54082636e-03, 1.89571908e-03,\n",
      "       2.92850217e-03, 1.69461560e-03, 3.84397567e-03, 1.39588101e-04,\n",
      "       2.42078018e-03, 3.38983051e-05, 1.70272971e-03, 2.30385348e-04,\n",
      "       1.57228966e-03, 5.43615633e-04, 3.35924457e-04, 2.85000134e-04,\n",
      "       1.90423713e-03, 1.91074632e-03, 3.23173055e-03, 8.59664370e-04,\n",
      "       1.51750043e-03, 1.64923569e-02, 7.13682868e-04, 2.07902705e-03,\n",
      "       1.73030642e-03, 8.62371644e-04, 2.15018315e-04, 9.88319513e-05,\n",
      "       2.92672113e-03, 6.65596746e-03, 3.46905279e-04, 7.88934426e-05,\n",
      "       6.08524090e-03, 2.01580516e-03, 2.22486243e-03, 2.22486243e-03,\n",
      "       1.12024238e-03, 1.98086606e-03, 7.14881223e-04, 5.85561963e-03,\n",
      "       1.99164928e-03, 4.66330485e-04, 2.97710204e-04, 1.18444718e-03,\n",
      "       0.00000000e+00, 2.57121911e-04, 5.76314812e-04, 3.15383364e-04,\n",
      "       6.78281069e-05, 8.47611871e-04, 5.64118294e-04, 9.99338990e-04,\n",
      "       2.12676970e-03, 2.62277468e-03, 1.64608598e-03, 2.30385348e-04,\n",
      "       1.95555556e-04, 3.20463927e-04, 1.90476190e-05, 1.60457354e-03,\n",
      "       1.01346955e-04, 4.43101364e-04, 0.00000000e+00, 9.73395667e-04,\n",
      "       4.26847511e-04, 3.56932877e-03, 1.58730159e-05, 0.00000000e+00,\n",
      "       2.47095003e-03, 2.55176267e-03, 2.92146756e-03, 1.34660845e-03,\n",
      "       3.12224578e-03, 0.00000000e+00, 3.32087336e-03, 0.00000000e+00,\n",
      "       1.66135720e-03, 4.85338606e-04, 0.00000000e+00, 4.43082663e-04,\n",
      "       1.14573555e-02, 3.24287740e-04, 1.75098735e-03, 3.42507026e-03,\n",
      "       7.75077984e-04, 7.33220106e-04, 2.70270270e-05, 1.55362889e-03,\n",
      "       1.29210268e-03, 1.03276409e-03, 0.00000000e+00, 5.86232444e-04,\n",
      "       4.76027168e-04, 4.83137552e-05, 1.13809351e-03, 1.47488056e-03,\n",
      "       7.53400767e-05, 1.19291053e-03, 1.29286872e-03, 1.10277225e-03,\n",
      "       3.36705345e-04, 1.44230769e-04, 3.04567344e-03, 2.15197241e-03,\n",
      "       6.26492795e-04, 8.91724202e-03, 2.32496571e-04, 1.63909671e-03,\n",
      "       5.43782256e-04, 1.19688068e-02, 5.82084309e-04, 3.25584155e-03,\n",
      "       2.69003070e-03, 5.97481967e-04, 1.26736111e-04, 5.34515035e-05,\n",
      "       3.80150642e-05, 3.71071981e-04, 8.90282865e-03, 2.34977901e-04,\n",
      "       9.00794072e-04, 2.04579506e-04, 3.76278321e-04, 2.24150705e-04,\n",
      "       6.92562828e-04, 7.00635979e-04, 3.42932809e-03, 3.97519118e-04,\n",
      "       5.90892881e-04, 1.41103730e-03, 9.40000681e-04, 8.63751804e-04,\n",
      "       4.28350433e-04, 1.35135135e-05, 7.55328340e-04, 0.00000000e+00,\n",
      "       4.29995579e-04, 1.63671536e-03, 1.08108108e-05, 2.65816269e-04,\n",
      "       1.47753396e-04, 1.08942560e-03, 7.93323541e-04, 1.72970830e-04,\n",
      "       8.71820710e-04, 1.01471334e-04, 1.35213341e-03, 6.42569260e-04,\n",
      "       2.35055516e-04, 3.45989020e-04, 2.77819982e-04, 1.54417836e-04,\n",
      "       6.92982456e-04, 2.11811652e-03, 3.41269841e-04, 1.20695564e-04,\n",
      "       6.03782561e-04, 6.06060606e-05, 7.69585514e-04, 5.38715927e-04,\n",
      "       3.05014560e-03, 8.69634014e-04, 3.32523602e-03, 8.38647691e-04,\n",
      "       1.41440437e-03, 1.18545255e-04, 2.12129091e-04, 2.72987559e-03,\n",
      "       8.39798609e-04, 1.73934000e-03, 5.07614994e-04, 3.17690866e-04,\n",
      "       9.09090909e-05, 8.63143606e-04, 2.01409629e-03, 6.93061840e-04,\n",
      "       7.52519655e-04, 1.25065083e-03, 7.93296984e-04, 0.00000000e+00,\n",
      "       2.16317081e-03, 5.64275714e-04, 1.10666678e-03, 6.21693868e-04,\n",
      "       4.88452699e-04, 2.01625804e-03, 4.25172866e-04, 2.08431878e-04,\n",
      "       1.64152124e-03, 4.58433446e-04, 7.44215134e-05, 2.06982323e-03,\n",
      "       4.12102381e-04, 7.52346725e-04, 8.29692594e-04, 0.00000000e+00,\n",
      "       2.31301096e-03, 2.47271465e-04, 2.11179077e-03, 2.74111627e-04,\n",
      "       2.41596706e-04, 1.02435635e-03, 0.00000000e+00, 8.32140064e-03,\n",
      "       1.46897972e-03, 2.58964970e-03, 1.73799450e-03, 3.06622527e-03,\n",
      "       6.63665648e-04, 5.78477773e-04, 3.70370370e-05, 0.00000000e+00,\n",
      "       2.43902439e-05, 1.29525033e-03, 4.19574404e-04, 1.89785687e-03,\n",
      "       1.56632494e-03, 2.02373367e-03, 0.00000000e+00, 3.59774393e-03,\n",
      "       4.53826006e-04, 1.30228611e-03, 7.45328093e-04, 5.58448133e-04,\n",
      "       4.91525319e-04, 1.90510462e-04, 1.36037134e-03, 1.81358309e-03,\n",
      "       0.00000000e+00, 3.23575017e-03, 3.27990531e-04, 5.11234126e-05,\n",
      "       3.29992547e-04, 6.10307414e-05, 7.98839089e-04, 1.71052432e-03,\n",
      "       3.80148197e-04, 8.80518094e-04, 6.74240029e-03, 9.33429445e-05,\n",
      "       2.91722261e-03, 8.73054070e-04, 5.87429719e-04, 7.68337990e-04,\n",
      "       1.44754796e-03, 8.15993472e-05, 1.62406015e-04, 1.66666667e-05,\n",
      "       3.12500000e-05, 3.29054054e-04, 8.10757663e-04, 1.97258065e-04,\n",
      "       2.43359195e-04, 1.03787659e-03, 2.81690141e-05, 0.00000000e+00,\n",
      "       8.48664137e-04, 7.08117304e-04, 9.01722391e-05, 9.11717719e-04,\n",
      "       1.56753798e-04, 1.33333333e-05, 3.44044517e-04, 3.50780172e-04,\n",
      "       4.69141773e-04, 0.00000000e+00, 1.84523810e-04, 1.38959402e-04,\n",
      "       2.52087393e-03, 3.84615385e-05, 0.00000000e+00, 2.98225640e-03,\n",
      "       3.06763285e-04, 0.00000000e+00, 2.23768105e-03, 1.10148068e-04,\n",
      "       4.85674250e-04, 0.00000000e+00, 0.00000000e+00, 6.35270489e-04,\n",
      "       7.08811777e-04, 1.30912309e-03, 1.46873945e-03, 1.29152218e-04,\n",
      "       1.02678571e-04, 8.29957294e-04, 8.31638514e-04, 2.11308684e-03,\n",
      "       0.00000000e+00, 5.14811619e-05, 1.25165568e-03, 3.28157188e-04]), array([5.29366600e-03, 4.02728329e-02, 2.15992634e-02, 2.03874979e-03,\n",
      "       3.13790894e-04, 5.90230137e-04, 4.44147569e-03, 9.24817519e-03,\n",
      "       1.51357955e-03, 4.48870482e-03, 7.67122026e-03, 5.51902633e-03,\n",
      "       1.81908074e-03, 3.37792086e-03, 3.65513718e-04, 9.18864229e-03,\n",
      "       6.34357670e-04, 1.04158426e-02, 8.80748172e-03, 5.59708031e-03,\n",
      "       9.27814581e-02, 6.23170961e-03, 3.56163287e-03, 1.08673826e-02,\n",
      "       3.17994215e-04, 3.12178257e-03, 2.21033259e-02, 7.48462029e-03,\n",
      "       4.02173761e-04, 1.08020486e-02, 2.88383099e-02, 8.50172721e-03,\n",
      "       3.97736241e-03, 5.21777646e-03, 1.74296501e-03, 1.73530322e-04,\n",
      "       1.45403943e-03, 1.32419396e-02, 4.61433194e-03, 3.13014220e-03,\n",
      "       2.45979688e-03, 2.59397899e-03, 3.84258530e-03, 7.44913318e-03,\n",
      "       3.16644931e-02, 2.17731684e-03, 4.33643892e-03, 4.42132705e-03,\n",
      "       9.74679309e-03, 1.10224576e-03, 4.92742228e-03, 1.26005552e-02,\n",
      "       4.30433349e-03, 2.47627474e-03, 1.21266880e-04, 3.47714204e-03,\n",
      "       2.08476835e-03, 1.50667676e-03, 3.08016333e-03, 6.72473753e-03,\n",
      "       3.93386377e-03, 0.00000000e+00, 1.30581005e-03, 1.23005080e-03,\n",
      "       3.05592887e-03, 9.92161736e-03, 1.62464986e-04, 1.61691208e-03,\n",
      "       3.27493490e-03, 4.51578947e-05, 2.66594573e-03, 1.53067590e-03,\n",
      "       2.32500234e-03, 7.55015704e-04, 4.15185720e-03, 1.85693857e-03,\n",
      "       2.72467531e-03, 7.69230769e-05, 4.90782114e-03, 4.76381902e-03,\n",
      "       1.70672899e-03, 5.12479475e-04, 2.58493020e-03, 1.24653665e-03,\n",
      "       1.06143065e-03, 1.47283838e-03, 9.13100330e-04, 1.15758639e-03,\n",
      "       4.72684842e-03, 4.62879379e-03, 1.44081792e-03, 1.13690587e-02,\n",
      "       1.10986021e-04, 3.45058124e-03, 1.01542061e-03, 4.54280758e-04,\n",
      "       3.53511472e-03, 1.36221074e-03, 2.18683399e-03, 2.31350161e-04,\n",
      "       1.30573375e-02, 3.75239819e-03, 9.18657737e-04, 1.77268944e-03,\n",
      "       4.02972605e-03, 3.93576326e-04, 1.30154122e-02, 1.13682553e-02,\n",
      "       1.75736313e-03, 5.87467803e-03, 1.66173850e-03, 2.18469910e-03,\n",
      "       4.52664675e-04, 2.21174570e-03, 4.71470525e-04, 0.00000000e+00,\n",
      "       1.97522429e-03, 0.00000000e+00, 1.59000442e-04, 6.59177533e-04,\n",
      "       1.71072037e-03, 9.93012247e-04, 1.22019080e-03, 3.12500000e-05,\n",
      "       2.73030057e-03, 5.72841861e-04, 1.98584109e-03, 4.03327424e-03,\n",
      "       1.34349277e-03, 1.30273767e-02, 0.00000000e+00, 4.43233127e-03,\n",
      "       6.35822937e-04, 1.39813948e-03, 1.49434261e-03, 1.51993600e-04,\n",
      "       1.98397347e-04, 7.34526981e-03, 1.28445184e-03, 2.55838174e-03,\n",
      "       4.26023766e-03, 1.63835479e-03, 1.67484823e-03, 1.67484823e-03,\n",
      "       4.10141971e-04, 3.72660383e-03, 0.00000000e+00, 8.84538281e-03,\n",
      "       1.62848421e-03, 9.69649605e-04, 4.49730688e-04, 1.08296697e-03,\n",
      "       0.00000000e+00, 4.44428771e-03, 1.45718785e-03, 7.72431877e-04,\n",
      "       2.19410246e-03, 2.06154120e-03, 8.95145900e-04, 2.86695900e-03,\n",
      "       2.88775354e-03, 6.12344785e-04, 1.92842464e-03, 6.59177533e-04,\n",
      "       4.05200567e-04, 1.20103740e-04, 9.72931668e-04, 2.59709658e-04,\n",
      "       5.52910259e-04, 1.30749913e-03, 0.00000000e+00, 8.61111111e-05,\n",
      "       1.04328995e-03, 1.23606466e-04, 6.39665921e-04, 3.22580645e-05,\n",
      "       3.10423686e-04, 1.04505997e-03, 3.34285793e-03, 2.27489372e-03,\n",
      "       5.81669478e-03, 9.33277803e-04, 3.56889303e-03, 8.00000000e-05,\n",
      "       2.03477120e-03, 6.15660741e-04, 1.93626288e-03, 1.11678857e-03,\n",
      "       6.34619460e-03, 8.78741635e-04, 1.13986550e-03, 8.76092862e-04,\n",
      "       8.46702317e-05, 2.49757263e-03, 7.17381667e-04, 1.74684830e-03,\n",
      "       1.53063292e-03, 1.51874536e-03, 9.50443458e-04, 3.69991577e-04,\n",
      "       1.68484047e-03, 0.00000000e+00, 3.01471557e-03, 1.84858371e-03,\n",
      "       2.56412754e-04, 6.51789792e-04, 1.97001423e-03, 2.77777778e-05,\n",
      "       4.36726282e-04, 1.29162594e-04, 3.03122432e-03, 2.00296464e-03,\n",
      "       5.00017797e-04, 1.09086383e-02, 1.21697046e-03, 8.86634317e-04,\n",
      "       1.35920728e-03, 7.21919341e-03, 8.30627661e-04, 3.46440607e-04,\n",
      "       1.34341963e-03, 3.35024304e-04, 1.97397761e-03, 1.00905215e-03,\n",
      "       6.47071971e-04, 9.78893683e-04, 6.36894091e-03, 3.12500000e-05,\n",
      "       3.44931324e-04, 4.60768063e-04, 1.24483398e-03, 2.02348308e-03,\n",
      "       1.92451079e-03, 1.09515079e-03, 6.48047913e-03, 4.41166206e-04,\n",
      "       8.30471187e-04, 2.20539730e-04, 3.08600292e-04, 1.41915274e-03,\n",
      "       1.04151921e-03, 5.36248474e-04, 1.15273929e-03, 5.49233649e-04,\n",
      "       1.52377455e-03, 7.48112560e-05, 3.18108947e-04, 1.18198709e-03,\n",
      "       9.77442744e-04, 3.11501561e-04, 2.34216170e-03, 8.18453529e-04,\n",
      "       1.21576382e-03, 3.17460317e-05, 2.63157895e-05, 1.46055531e-03,\n",
      "       1.39952367e-03, 6.98876198e-04, 1.02514671e-03, 1.63797262e-03,\n",
      "       5.06841073e-04, 1.90943204e-03, 1.42197761e-03, 1.24836119e-03,\n",
      "       0.00000000e+00, 0.00000000e+00, 1.08614640e-04, 5.24226291e-04,\n",
      "       4.03837958e-04, 2.32563207e-03, 2.22335433e-04, 1.86251610e-03,\n",
      "       1.95606039e-03, 6.80844723e-04, 5.31827694e-04, 1.72565255e-03,\n",
      "       1.33247453e-03, 1.21018215e-03, 2.17377897e-03, 2.33854686e-04,\n",
      "       8.53582555e-05, 5.45138461e-04, 2.05288063e-03, 1.21431528e-03,\n",
      "       1.04051744e-03, 2.13808320e-03, 8.70551493e-04, 4.14623067e-04,\n",
      "       1.98073392e-03, 8.03698435e-05, 9.25007421e-04, 9.82526472e-04,\n",
      "       1.33481646e-04, 1.13755324e-03, 2.30876433e-04, 3.81548927e-04,\n",
      "       2.13832647e-03, 4.83312870e-04, 1.50157841e-03, 2.28927964e-03,\n",
      "       1.53119986e-03, 7.57769869e-04, 1.25000000e-04, 0.00000000e+00,\n",
      "       1.59831824e-03, 0.00000000e+00, 3.15965262e-04, 4.74512881e-04,\n",
      "       1.25728009e-03, 2.18177656e-04, 1.28157545e-03, 7.22560430e-03,\n",
      "       9.60629054e-04, 4.02340001e-03, 2.36054402e-03, 1.41778154e-03,\n",
      "       1.56057159e-03, 5.51439475e-04, 1.05183207e-03, 1.04367814e-04,\n",
      "       3.07692308e-05, 1.28893785e-03, 3.20738905e-04, 1.79445571e-04,\n",
      "       7.01705239e-04, 4.27926262e-04, 8.52527459e-04, 1.55921465e-03,\n",
      "       2.04569542e-03, 1.10880491e-03, 1.01412067e-04, 1.30293461e-03,\n",
      "       4.45789072e-04, 1.28644940e-04, 1.43055556e-04, 2.37177397e-03,\n",
      "       1.04550094e-03, 1.38854484e-03, 2.24809673e-04, 6.66666667e-05,\n",
      "       9.43041008e-04, 0.00000000e+00, 9.14085055e-04, 1.04123545e-03,\n",
      "       7.61793867e-04, 0.00000000e+00, 8.02381126e-03, 3.32483340e-04,\n",
      "       6.62789177e-04, 1.04203391e-03, 1.56545209e-04, 6.95807281e-04,\n",
      "       7.31283848e-04, 1.86915888e-05, 5.26358505e-04, 1.10119048e-04,\n",
      "       7.69151996e-04, 4.00725476e-04, 3.62396321e-04, 5.01726709e-04,\n",
      "       6.49267833e-04, 1.03012172e-03, 5.54054054e-04, 0.00000000e+00,\n",
      "       1.43691589e-04, 1.50289526e-03, 4.29798741e-04, 1.26326822e-03,\n",
      "       3.19647945e-04, 1.02373774e-03, 1.28728259e-03, 7.30295740e-04,\n",
      "       8.42474770e-05, 4.77331997e-04, 3.21614959e-04, 2.61752105e-04,\n",
      "       1.09991604e-03, 3.03030303e-05, 0.00000000e+00, 5.41506620e-04,\n",
      "       1.68101166e-03, 3.50380461e-04, 1.62596006e-03, 4.41557390e-04,\n",
      "       3.02842112e-04, 4.65116279e-05, 0.00000000e+00, 1.31158227e-03,\n",
      "       1.31578947e-05, 1.20748867e-03, 2.86711086e-03, 3.20724966e-04,\n",
      "       0.00000000e+00, 1.01380917e-03, 8.68406778e-04, 9.31310209e-04,\n",
      "       0.00000000e+00, 4.86750794e-04, 7.03220947e-04, 7.86856103e-04])]\n"
     ]
    }
   ],
   "source": [
    "# print(X[3][1].shape)\n",
    "\n",
    "# print(np.tile(np.reshape(np.sum(X1_aggregated, axis=0), (p, 1)), (X1_aggregated.shape[0])).T)\n",
    "print(np.count_nonzero(np.sum(X1_aggregated, axis=0)))\n",
    "# print(np.reshape(np.sum(X1_aggregated, axis=0), (p, 1)))\n",
    "print(np.sum(X1_aggregated, axis=0).shape)\n",
    "print(n_t)\n",
    "print(n_t_test)\n",
    "print(t)\n",
    "print(p)\n",
    "moitie = int(n_t[1][0]/2)\n",
    "print(emp_rate)\n",
    "print(n_t_test)\n",
    "len(X_test)\n",
    "print(M)"
   ]
  },
  {
   "cell_type": "markdown",
   "metadata": {},
   "source": [
    "# MNIST\n"
   ]
  },
  {
   "cell_type": "code",
   "execution_count": 100,
   "metadata": {},
   "outputs": [
    {
     "data": {
      "text/plain": [
       "176"
      ]
     },
     "execution_count": 100,
     "metadata": {},
     "output_type": "execute_result"
    }
   ],
   "source": [
    "pca = PCA(0.99).fit(X1)\n",
    "pca.n_components_"
   ]
  },
  {
   "cell_type": "code",
   "execution_count": 72,
   "metadata": {},
   "outputs": [
    {
     "name": "stdout",
     "output_type": "stream",
     "text": [
      "100 composantes sont suffisantes\n"
     ]
    },
    {
     "data": {
      "image/png": "[encoded data removed]",
      "text/plain": [
       "<Figure size 432x288 with 1 Axes>"
      ]
     },
     "metadata": {
      "needs_background": "light"
     },
     "output_type": "display_data"
    }
   ],
   "source": [
    "from sklearn.decomposition import PCA\n",
    "\n",
    "pca = PCA().fit(X1)\n",
    "plt.grid()\n",
    "plt.plot(np.cumsum(pca.explained_variance_ratio_))\n",
    "plt.xlabel('number of components')\n",
    "plt.ylabel('cumulative explained variance');\n",
    "\n",
    "print(\"100 composantes sont suffisantes\")"
   ]
  },
  {
   "cell_type": "code",
   "execution_count": 96,
   "metadata": {
    "scrolled": true
   },
   "outputs": [
    {
     "name": "stderr",
     "output_type": "stream",
     "text": [
      "Using TensorFlow backend.\n",
      "/home/sami/anaconda3/lib/python3.7/site-packages/tensorflow/python/framework/dtypes.py:516: FutureWarning: Passing (type, 1) or '1type' as a synonym of type is deprecated; in a future version of numpy, it will be understood as (type, (1,)) / '(1,)type'.\n",
      "  _np_qint8 = np.dtype([(\"qint8\", np.int8, 1)])\n",
      "/home/sami/anaconda3/lib/python3.7/site-packages/tensorflow/python/framework/dtypes.py:517: FutureWarning: Passing (type, 1) or '1type' as a synonym of type is deprecated; in a future version of numpy, it will be understood as (type, (1,)) / '(1,)type'.\n",
      "  _np_quint8 = np.dtype([(\"quint8\", np.uint8, 1)])\n",
      "/home/sami/anaconda3/lib/python3.7/site-packages/tensorflow/python/framework/dtypes.py:518: FutureWarning: Passing (type, 1) or '1type' as a synonym of type is deprecated; in a future version of numpy, it will be understood as (type, (1,)) / '(1,)type'.\n",
      "  _np_qint16 = np.dtype([(\"qint16\", np.int16, 1)])\n",
      "/home/sami/anaconda3/lib/python3.7/site-packages/tensorflow/python/framework/dtypes.py:519: FutureWarning: Passing (type, 1) or '1type' as a synonym of type is deprecated; in a future version of numpy, it will be understood as (type, (1,)) / '(1,)type'.\n",
      "  _np_quint16 = np.dtype([(\"quint16\", np.uint16, 1)])\n",
      "/home/sami/anaconda3/lib/python3.7/site-packages/tensorflow/python/framework/dtypes.py:520: FutureWarning: Passing (type, 1) or '1type' as a synonym of type is deprecated; in a future version of numpy, it will be understood as (type, (1,)) / '(1,)type'.\n",
      "  _np_qint32 = np.dtype([(\"qint32\", np.int32, 1)])\n",
      "/home/sami/anaconda3/lib/python3.7/site-packages/tensorflow/python/framework/dtypes.py:525: FutureWarning: Passing (type, 1) or '1type' as a synonym of type is deprecated; in a future version of numpy, it will be understood as (type, (1,)) / '(1,)type'.\n",
      "  np_resource = np.dtype([(\"resource\", np.ubyte, 1)])\n",
      "/home/sami/anaconda3/lib/python3.7/site-packages/tensorboard/compat/tensorflow_stub/dtypes.py:541: FutureWarning: Passing (type, 1) or '1type' as a synonym of type is deprecated; in a future version of numpy, it will be understood as (type, (1,)) / '(1,)type'.\n",
      "  _np_qint8 = np.dtype([(\"qint8\", np.int8, 1)])\n",
      "/home/sami/anaconda3/lib/python3.7/site-packages/tensorboard/compat/tensorflow_stub/dtypes.py:542: FutureWarning: Passing (type, 1) or '1type' as a synonym of type is deprecated; in a future version of numpy, it will be understood as (type, (1,)) / '(1,)type'.\n",
      "  _np_quint8 = np.dtype([(\"quint8\", np.uint8, 1)])\n",
      "/home/sami/anaconda3/lib/python3.7/site-packages/tensorboard/compat/tensorflow_stub/dtypes.py:543: FutureWarning: Passing (type, 1) or '1type' as a synonym of type is deprecated; in a future version of numpy, it will be understood as (type, (1,)) / '(1,)type'.\n",
      "  _np_qint16 = np.dtype([(\"qint16\", np.int16, 1)])\n",
      "/home/sami/anaconda3/lib/python3.7/site-packages/tensorboard/compat/tensorflow_stub/dtypes.py:544: FutureWarning: Passing (type, 1) or '1type' as a synonym of type is deprecated; in a future version of numpy, it will be understood as (type, (1,)) / '(1,)type'.\n",
      "  _np_quint16 = np.dtype([(\"quint16\", np.uint16, 1)])\n",
      "/home/sami/anaconda3/lib/python3.7/site-packages/tensorboard/compat/tensorflow_stub/dtypes.py:545: FutureWarning: Passing (type, 1) or '1type' as a synonym of type is deprecated; in a future version of numpy, it will be understood as (type, (1,)) / '(1,)type'.\n",
      "  _np_qint32 = np.dtype([(\"qint32\", np.int32, 1)])\n",
      "/home/sami/anaconda3/lib/python3.7/site-packages/tensorboard/compat/tensorflow_stub/dtypes.py:550: FutureWarning: Passing (type, 1) or '1type' as a synonym of type is deprecated; in a future version of numpy, it will be understood as (type, (1,)) / '(1,)type'.\n",
      "  np_resource = np.dtype([(\"resource\", np.ubyte, 1)])\n"
     ]
    }
   ],
   "source": [
    "from keras.datasets import mnist\n",
    "from sklearn.decomposition import PCA\n",
    "(X_train,y_train), (X_t,y_test)=mnist.load_data()"
   ]
  },
  {
   "cell_type": "code",
   "execution_count": 97,
   "metadata": {},
   "outputs": [],
   "source": [
    "X_train, X_t = np.reshape(X_train, (len(X_train), 784)), np.reshape(X_t, (len(X_t), 784))\n",
    "X_train = X_train.astype(\"float128\")\n",
    "X_t = X_t.astype(\"float128\")\n",
    "X_train, X_t = PCA(n_components=100).fit(X_train).transform(X_train), PCA(n_components=100).fit(X_t).transform(X_t)\n"
   ]
  },
  {
   "cell_type": "code",
   "execution_count": 98,
   "metadata": {},
   "outputs": [
    {
     "data": {
      "text/plain": [
       "(10000, 100)"
      ]
     },
     "execution_count": 98,
     "metadata": {},
     "output_type": "execute_result"
    }
   ],
   "source": [
    "X_t.shape"
   ]
  },
  {
   "cell_type": "code",
   "execution_count": 99,
   "metadata": {},
   "outputs": [],
   "source": [
    "# data=data+sigma*randn(size(data));\n",
    "sigma=1\n",
    "X_train = X_train+sigma*np.random.randn(X_train.shape[0], X_train.shape[1])\n",
    "X_t = X_t+sigma*np.random.randn(X_t.shape[0], X_t.shape[1])"
   ]
  },
  {
   "cell_type": "code",
   "execution_count": 127,
   "metadata": {},
   "outputs": [],
   "source": [
    "p=100\n",
    "X_train /= np.max(X_train)\n",
    "X_t /= np.max(X_t)\n",
    "# mean_data=mean(data,2);mean_test=mean(test,2);\n",
    "# norm2_data=0;norm2_test=0;\n",
    "# for i=1:init_n\n",
    "#     norm2_data=norm2_data+1/init_n*norm(data(:,i)-mean_data)^2;\n",
    "# end\n",
    "# for i=1:test_n\n",
    "#     norm2_test=norm2_test+1/test_n*norm(test(:,i)-mean_test)^2;\n",
    "# end\n",
    "#  data=(data-mean_data*ones(1,size(data,2)))/sqrt(norm2_data)*sqrt(p);\n",
    "#  test=(test-mean_test*ones(1,size(test,2)))/sqrt(norm2_test)*sqrt(p);\n",
    "mean_data = np.mean(X_train,axis=0); mean_test=np.mean(X_t, axis=0)\n",
    "norm2_data=0;norm2_test=0;\n",
    "for i in range(len(X_train)):\n",
    "    norm2_data += 1/len(X_train)*np.linalg.norm(X_train[i]-mean_data)**2\n",
    "for i in range(len(X_t)):\n",
    "    norm2_test += 1/len(X_t)*np.linalg.norm(X_t[i]-mean_test)**2\n",
    "X_train = (X_train-mean_data@np.ones((X_train.shape[1], 1)))/np.sqrt(norm2_data)*np.sqrt(p)\n",
    "X_t = (X_t-mean_test@np.ones((X_t.shape[1], 1)))/np.sqrt(norm2_test)*np.sqrt(p)"
   ]
  },
  {
   "cell_type": "code",
   "execution_count": 136,
   "metadata": {},
   "outputs": [
    {
     "name": "stdout",
     "output_type": "stream",
     "text": [
      "177625.69135741572\n"
     ]
    }
   ],
   "source": [
    "print(np.linalg.norm(X_t))"
   ]
  },
  {
   "cell_type": "code",
   "execution_count": 100,
   "metadata": {},
   "outputs": [],
   "source": [
    "from matplotlib import cm\n",
    "\n",
    "X0 = (X_train[y_train==0].T)\n",
    "X1 = (X_train[y_train==1].T)\n",
    "X2 = (X_train[y_train==2].T)\n",
    "X3 = (X_train[y_train==3].T)\n",
    "X4 = (X_train[y_train==4].T)\n",
    "X5 = (X_train[y_train==5].T)\n",
    "X6 = (X_train[y_train==6].T)\n",
    "X7 = (X_train[y_train==7].T)\n",
    "X8 = (X_train[y_train==8].T)\n",
    "X9 = (X_train[y_train==9].T)\n",
    "\n",
    "X0_test = (X_t[y_test==0].T)\n",
    "X1_test = (X_t[y_test==1].T)\n",
    "X2_test = (X_t[y_test==2].T)\n",
    "X3_test = (X_t[y_test==3].T)\n",
    "X4_test = (X_t[y_test==4].T)\n",
    "X5_test = (X_t[y_test==5].T)\n",
    "X6_test = (X_t[y_test==6].T)\n",
    "X7_test = (X_t[y_test==7].T)\n",
    "X8_test = (X_t[y_test==8].T)\n",
    "X9_test = (X_t[y_test==9].T)\n",
    "\n",
    "# for i in range(10):\n",
    "#     some_digit = X1[i]\n",
    "#     some_digit_image = some_digit.reshape(28, 28)\n",
    "#     plt.imshow(some_digit_image, cmap = cm.binary, interpolation=\"nearest\")\n",
    "#     plt.axis(\"off\")\n",
    "#     plt.show()"
   ]
  },
  {
   "cell_type": "code",
   "execution_count": 101,
   "metadata": {},
   "outputs": [
    {
     "ename": "ValueError",
     "evalue": "Found array with dim 4. the scale function expected <= 2.",
     "output_type": "error",
     "traceback": [
      "\u001b[0;31m---------------------------------------------------------------------------\u001b[0m",
      "\u001b[0;31mValueError\u001b[0m                                Traceback (most recent call last)",
      "\u001b[0;32m<ipython-input-101-7cca602a9fce>\u001b[0m in \u001b[0;36m<module>\u001b[0;34m\u001b[0m\n\u001b[1;32m     12\u001b[0m \u001b[0;34m\u001b[0m\u001b[0m\n\u001b[1;32m     13\u001b[0m \u001b[0;31m# X_test = normalisation(X_test, p, True)\u001b[0m\u001b[0;34m\u001b[0m\u001b[0;34m\u001b[0m\u001b[0;34m\u001b[0m\u001b[0m\n\u001b[0;32m---> 14\u001b[0;31m \u001b[0mX_test\u001b[0m \u001b[0;34m=\u001b[0m \u001b[0mpreprocessing\u001b[0m\u001b[0;34m.\u001b[0m\u001b[0mscale\u001b[0m\u001b[0;34m(\u001b[0m\u001b[0mX_test\u001b[0m\u001b[0;34m,\u001b[0m \u001b[0maxis\u001b[0m\u001b[0;34m=\u001b[0m\u001b[0;36m0\u001b[0m\u001b[0;34m)\u001b[0m\u001b[0;34m\u001b[0m\u001b[0;34m\u001b[0m\u001b[0m\n\u001b[0m\u001b[1;32m     15\u001b[0m \u001b[0mn\u001b[0m \u001b[0;34m=\u001b[0m \u001b[0msum\u001b[0m\u001b[0;34m(\u001b[0m\u001b[0mlist\u001b[0m\u001b[0;34m(\u001b[0m\u001b[0mmap\u001b[0m\u001b[0;34m(\u001b[0m\u001b[0msum\u001b[0m\u001b[0;34m,\u001b[0m \u001b[0;34m(\u001b[0m\u001b[0mn_t\u001b[0m\u001b[0;34m[\u001b[0m\u001b[0mi\u001b[0m\u001b[0;34m]\u001b[0m \u001b[0;32mfor\u001b[0m \u001b[0mi\u001b[0m \u001b[0;32min\u001b[0m \u001b[0mrange\u001b[0m\u001b[0;34m(\u001b[0m\u001b[0mlen\u001b[0m\u001b[0;34m(\u001b[0m\u001b[0mn_t\u001b[0m\u001b[0;34m)\u001b[0m\u001b[0;34m)\u001b[0m\u001b[0;34m)\u001b[0m\u001b[0;34m)\u001b[0m\u001b[0;34m)\u001b[0m\u001b[0;34m)\u001b[0m\u001b[0;34m\u001b[0m\u001b[0;34m\u001b[0m\u001b[0m\n\u001b[1;32m     16\u001b[0m \u001b[0mX_test_aggregated\u001b[0m \u001b[0;34m=\u001b[0m \u001b[0maggregate_array\u001b[0m\u001b[0;34m(\u001b[0m\u001b[0mX_test\u001b[0m\u001b[0;34m,\u001b[0m \u001b[0mp\u001b[0m\u001b[0;34m,\u001b[0m \u001b[0mn\u001b[0m\u001b[0;34m,\u001b[0m \u001b[0;36m1\u001b[0m\u001b[0;34m,\u001b[0m \u001b[0;36m2\u001b[0m\u001b[0;34m)\u001b[0m\u001b[0;34m\u001b[0m\u001b[0;34m\u001b[0m\u001b[0m\n",
      "\u001b[0;32m~/anaconda3/lib/python3.7/site-packages/sklearn/utils/validation.py\u001b[0m in \u001b[0;36minner_f\u001b[0;34m(*args, **kwargs)\u001b[0m\n\u001b[1;32m     61\u001b[0m             \u001b[0mextra_args\u001b[0m \u001b[0;34m=\u001b[0m \u001b[0mlen\u001b[0m\u001b[0;34m(\u001b[0m\u001b[0margs\u001b[0m\u001b[0;34m)\u001b[0m \u001b[0;34m-\u001b[0m \u001b[0mlen\u001b[0m\u001b[0;34m(\u001b[0m\u001b[0mall_args\u001b[0m\u001b[0;34m)\u001b[0m\u001b[0;34m\u001b[0m\u001b[0;34m\u001b[0m\u001b[0m\n\u001b[1;32m     62\u001b[0m             \u001b[0;32mif\u001b[0m \u001b[0mextra_args\u001b[0m \u001b[0;34m<=\u001b[0m \u001b[0;36m0\u001b[0m\u001b[0;34m:\u001b[0m\u001b[0;34m\u001b[0m\u001b[0;34m\u001b[0m\u001b[0m\n\u001b[0;32m---> 63\u001b[0;31m                 \u001b[0;32mreturn\u001b[0m \u001b[0mf\u001b[0m\u001b[0;34m(\u001b[0m\u001b[0;34m*\u001b[0m\u001b[0margs\u001b[0m\u001b[0;34m,\u001b[0m \u001b[0;34m**\u001b[0m\u001b[0mkwargs\u001b[0m\u001b[0;34m)\u001b[0m\u001b[0;34m\u001b[0m\u001b[0;34m\u001b[0m\u001b[0m\n\u001b[0m\u001b[1;32m     64\u001b[0m \u001b[0;34m\u001b[0m\u001b[0m\n\u001b[1;32m     65\u001b[0m             \u001b[0;31m# extra_args > 0\u001b[0m\u001b[0;34m\u001b[0m\u001b[0;34m\u001b[0m\u001b[0;34m\u001b[0m\u001b[0m\n",
      "\u001b[0;32m~/anaconda3/lib/python3.7/site-packages/sklearn/preprocessing/_data.py\u001b[0m in \u001b[0;36mscale\u001b[0;34m(X, axis, with_mean, with_std, copy)\u001b[0m\n\u001b[1;32m    161\u001b[0m     X = check_array(X, accept_sparse='csc', copy=copy, ensure_2d=False,\n\u001b[1;32m    162\u001b[0m                     \u001b[0mestimator\u001b[0m\u001b[0;34m=\u001b[0m\u001b[0;34m'the scale function'\u001b[0m\u001b[0;34m,\u001b[0m \u001b[0mdtype\u001b[0m\u001b[0;34m=\u001b[0m\u001b[0mFLOAT_DTYPES\u001b[0m\u001b[0;34m,\u001b[0m\u001b[0;34m\u001b[0m\u001b[0;34m\u001b[0m\u001b[0m\n\u001b[0;32m--> 163\u001b[0;31m                     force_all_finite='allow-nan')\n\u001b[0m\u001b[1;32m    164\u001b[0m     \u001b[0;32mif\u001b[0m \u001b[0msparse\u001b[0m\u001b[0;34m.\u001b[0m\u001b[0missparse\u001b[0m\u001b[0;34m(\u001b[0m\u001b[0mX\u001b[0m\u001b[0;34m)\u001b[0m\u001b[0;34m:\u001b[0m\u001b[0;34m\u001b[0m\u001b[0;34m\u001b[0m\u001b[0m\n\u001b[1;32m    165\u001b[0m         \u001b[0;32mif\u001b[0m \u001b[0mwith_mean\u001b[0m\u001b[0;34m:\u001b[0m\u001b[0;34m\u001b[0m\u001b[0;34m\u001b[0m\u001b[0m\n",
      "\u001b[0;32m~/anaconda3/lib/python3.7/site-packages/sklearn/utils/validation.py\u001b[0m in \u001b[0;36minner_f\u001b[0;34m(*args, **kwargs)\u001b[0m\n\u001b[1;32m     61\u001b[0m             \u001b[0mextra_args\u001b[0m \u001b[0;34m=\u001b[0m \u001b[0mlen\u001b[0m\u001b[0;34m(\u001b[0m\u001b[0margs\u001b[0m\u001b[0;34m)\u001b[0m \u001b[0;34m-\u001b[0m \u001b[0mlen\u001b[0m\u001b[0;34m(\u001b[0m\u001b[0mall_args\u001b[0m\u001b[0;34m)\u001b[0m\u001b[0;34m\u001b[0m\u001b[0;34m\u001b[0m\u001b[0m\n\u001b[1;32m     62\u001b[0m             \u001b[0;32mif\u001b[0m \u001b[0mextra_args\u001b[0m \u001b[0;34m<=\u001b[0m \u001b[0;36m0\u001b[0m\u001b[0;34m:\u001b[0m\u001b[0;34m\u001b[0m\u001b[0;34m\u001b[0m\u001b[0m\n\u001b[0;32m---> 63\u001b[0;31m                 \u001b[0;32mreturn\u001b[0m \u001b[0mf\u001b[0m\u001b[0;34m(\u001b[0m\u001b[0;34m*\u001b[0m\u001b[0margs\u001b[0m\u001b[0;34m,\u001b[0m \u001b[0;34m**\u001b[0m\u001b[0mkwargs\u001b[0m\u001b[0;34m)\u001b[0m\u001b[0;34m\u001b[0m\u001b[0;34m\u001b[0m\u001b[0m\n\u001b[0m\u001b[1;32m     64\u001b[0m \u001b[0;34m\u001b[0m\u001b[0m\n\u001b[1;32m     65\u001b[0m             \u001b[0;31m# extra_args > 0\u001b[0m\u001b[0;34m\u001b[0m\u001b[0;34m\u001b[0m\u001b[0;34m\u001b[0m\u001b[0m\n",
      "\u001b[0;32m~/anaconda3/lib/python3.7/site-packages/sklearn/utils/validation.py\u001b[0m in \u001b[0;36mcheck_array\u001b[0;34m(array, accept_sparse, accept_large_sparse, dtype, order, copy, force_all_finite, ensure_2d, allow_nd, ensure_min_samples, ensure_min_features, estimator)\u001b[0m\n\u001b[1;32m    715\u001b[0m         \u001b[0;32mif\u001b[0m \u001b[0;32mnot\u001b[0m \u001b[0mallow_nd\u001b[0m \u001b[0;32mand\u001b[0m \u001b[0marray\u001b[0m\u001b[0;34m.\u001b[0m\u001b[0mndim\u001b[0m \u001b[0;34m>=\u001b[0m \u001b[0;36m3\u001b[0m\u001b[0;34m:\u001b[0m\u001b[0;34m\u001b[0m\u001b[0;34m\u001b[0m\u001b[0m\n\u001b[1;32m    716\u001b[0m             raise ValueError(\"Found array with dim %d. %s expected <= 2.\"\n\u001b[0;32m--> 717\u001b[0;31m                              % (array.ndim, estimator_name))\n\u001b[0m\u001b[1;32m    718\u001b[0m \u001b[0;34m\u001b[0m\u001b[0m\n\u001b[1;32m    719\u001b[0m         \u001b[0;32mif\u001b[0m \u001b[0mforce_all_finite\u001b[0m\u001b[0;34m:\u001b[0m\u001b[0;34m\u001b[0m\u001b[0;34m\u001b[0m\u001b[0m\n",
      "\u001b[0;31mValueError\u001b[0m: Found array with dim 4. the scale function expected <= 2."
     ]
    }
   ],
   "source": [
    "%matplotlib inline\n",
    "from sklearn import prepro\n",
    "n1, n2 = 100, 50\n",
    "X_test = [[X1_test.T[:n1].T, X4_test.T[:n1].T]]\n",
    "n_t_test = [[n1, n1]]\n",
    "X = [[X7.T[:n2].T, X9.T[:n2].T]]\n",
    "n_t = [[n2,n2]]\n",
    "m, k = 2, 5\n",
    "var, emp_rate = [], []\n",
    "p = 100\n",
    "task_target = 1\n",
    "\n",
    "X_test = normalisation(X_test, p, True)\n",
    "n = sum(list(map(sum, (n_t[i] for i in range(len(n_t))))))\n",
    "X_test_aggregated = aggregate_array(X_test, p, n, 1, 2)\n",
    "\n",
    "X = normalisation(X, p, True)\n",
    "\n",
    "for t in range(2, k+2):\n",
    "#     nt = sum(n_t_test[0])\n",
    "    \n",
    "    # add tasks\n",
    "    if t==2:\n",
    "        X_tmp = [[X1.T[:n2].T, X4.T[:n2].T]]\n",
    "        X_tmp = normalisation(X_tmp,p,True)\n",
    "        X.append(X_tmp[0])\n",
    "        n_t.append([n2, n2])\n",
    "    elif t==3:\n",
    "        X_tmp = [[X3.T[:n1].T, X8.T[:n1].T]]\n",
    "        X_tmp = normalisation(X_tmp,p,True)\n",
    "        X.append(X_tmp[0])\n",
    "        n_t.append([n1, n1])\n",
    "    elif t==4:\n",
    "        X_tmp = [[X5.T[:n2].T, X6.T[:n2].T]]\n",
    "        X_tmp = normalisation(X_tmp,p,True)\n",
    "        X.append(X_tmp[0])\n",
    "        n_t.append([n2, n2])\n",
    "    elif t==5:\n",
    "        X_tmp = [[X2.T[:n1].T, X9.T[:n1].T]]\n",
    "        X_tmp = normalisation(X_tmp,p,True)\n",
    "        X.append(X_tmp[0])\n",
    "        n_t.append([n1, n1])\n",
    "    elif t==6:\n",
    "        X_tmp = [[X3.T[:n2].T, X5.T[:n2].T]]\n",
    "        X_tmp = normalisation(X_tmp,p,True)\n",
    "        X.append(X_tmp[0])\n",
    "        X.append([X3.T[:n2].T, X5.T[:n2].T])\n",
    "        n_t.append([n2, n2])\n",
    "    \n",
    "#     print(n_t)\n",
    "    n = sum(list(map(sum, (n_t[i] for i in range(len(n_t))))))\n",
    "    print(\"n : \", n)\n",
    "            \n",
    "    MM = []\n",
    "    diag = []\n",
    "    for i in range(t):\n",
    "        MM1, diag1 = empirical_mean_old(1, m, [X[i]], p, [n_t[i]])\n",
    "        # chaque moyenne empirique calculée est un vecteur de taille p\n",
    "#         sent+=1\n",
    "#         t_MM.append(time()-t0)\n",
    "        MM.append(MM1)\n",
    "        diag.append(diag1)\n",
    "\n",
    "    # CENTRAL SERVER\n",
    "#     t0 = time()\n",
    "    # sending empirical means to central server\n",
    "    V, y_opt, correlation_matrix, Dc, c0 = merging_center(MM, diag, t, m, p, n, n_t, task_target, True)\n",
    "    # END CENTRAL SERVER\n",
    "#     X_test = normalisation(X_test, p)\n",
    "    \n",
    "    VTX = V.T@X_test_aggregated\n",
    "    debug_histogram(V, X_test_aggregated, n_t_test)\n",
    "    var.append(np.var(VTX))\n",
    "    m_t = create_mt(t, m, y_opt, Dc, correlation_matrix)\n",
    "    emp_rate.append(compute_error_rate(X_test, V, m_t, 1, m, n_t_test, Dc, c0))\n",
    "\n",
    "plt.plot(list(range(k)), emp_rate, '-o')\n",
    "# lower = np.array(emp_rate) - np.array(var)\n",
    "# upper = np.array(emp_rate) + np.array(var)\n",
    "# plt.fill_between(list(range(k)), lower, upper, alpha=0.2, label=\"variance\")\n",
    "plt.legend()\n",
    "ticks = [\"(7-9)\", \"(3-8)\", \"(5-6)\", \"(2-9)\", \"(3-5)\"]\n",
    "plt.xticks(range(len(ticks)), ticks, size='larger')\n",
    "plt.xlabel(\"Added tasks\")\n",
    "plt.ylabel(\"Empirical error rate\")\n",
    "plt.grid()\n",
    "plt.title(\"MNIST data\")\n",
    "plt.show()"
   ]
  },
  {
   "cell_type": "code",
   "execution_count": 114,
   "metadata": {},
   "outputs": [
    {
     "name": "stdout",
     "output_type": "stream",
     "text": [
      "[0.01, 0.01, 0.01, 0.01, 0.01]\n",
      "[127.190390496513497515, 127.19822783340137899, 127.09037614831500136, 126.39197663341276552, 126.40118514429374637]\n",
      "6\n",
      "[[50, 50], [50, 50], [100, 100], [50, 50], [100, 100], [50, 50]]\n",
      "[[100, 100]]\n",
      "(784,)\n",
      "(784, 50)\n",
      "(784, 200)\n"
     ]
    }
   ],
   "source": [
    "print(emp_rate)\n",
    "print(var)\n",
    "print(t)\n",
    "print(n_t)\n",
    "print(n_t_test)\n",
    "print(V.T.shape)\n",
    "print(X[1][1].shape)\n",
    "print(X_test_aggregated.shape)"
   ]
  },
  {
   "cell_type": "code",
   "execution_count": null,
   "metadata": {},
   "outputs": [],
   "source": []
  },
  {
   "cell_type": "markdown",
   "metadata": {},
   "source": [
    "# Optimalité"
   ]
  },
  {
   "cell_type": "code",
   "execution_count": 67,
   "metadata": {},
   "outputs": [],
   "source": [
    "# print((MM-MM*(np.identity(2*t)+1/sigma**2*np.identity(2*t)*MM)).shape)\n",
    "from scipy.stats import norm\n",
    "def bayes_risk(rho, gamma):\n",
    "    \"\"\"\n",
    "    Compute minimal Bayes error rate of label estimation for task t\n",
    "    \"\"\"\n",
    "    if rho == 1/2:\n",
    "        return 1-norm.cdf(np.sqrt(gamma))\n",
    "\n",
    "    return 1-rho*norm.cdf(np.sqrt(gamma)-1/(2*np.sqrt(gamma))*np.log((1-rho)/rho))-(1-rho)*norm.cdf(np.sqrt(gamma)+1/(2*np.sqrt(gamma))*np.log((1-rho)/rho))"
   ]
  },
  {
   "cell_type": "code",
   "execution_count": 82,
   "metadata": {
    "scrolled": true
   },
   "outputs": [
    {
     "name": "stdout",
     "output_type": "stream",
     "text": [
      "task 1 empirical mean = 0.01\n",
      "   1.05412   -0.969539    0.118643  -0.0498272  \n",
      " -0.969539     1.09495  -0.0732167   0.0143571  \n",
      "  0.118643  -0.0732167     1.10769   -0.898358  \n",
      "-0.0498272   0.0143571   -0.898358     1.04712  \n",
      "10   0  0  0  \n",
      " 0  10  0  0  \n",
      " 0   0  5  0  \n",
      " 0   0  0  5  \n",
      "[0.9382795570891507, 0.8791901119121424]\n",
      "task 1 empirical mean = 0.012761423749153965\n",
      "  1.05412  -0.969539   0.442593  -0.373777  \n",
      "-0.969539    1.09495  -0.406935   0.348076  \n",
      " 0.442593  -0.406935    1.17447  -0.950863  \n",
      "-0.373777   0.348076  -0.950863    1.08535  \n",
      "10   0  0  0  \n",
      " 0  10  0  0  \n",
      " 0   0  5  0  \n",
      " 0   0  0  5  \n",
      "[1.0035690335885885, 0.9164697992833846]\n",
      "task 1 empirical mean = 0.014120226591665966\n",
      "  1.05412  -0.969539    0.76426  -0.695444  \n",
      "-0.969539    1.09495  -0.745352   0.686492  \n",
      "  0.76426  -0.745352    1.25329   -1.01911  \n",
      "-0.695444   0.686492   -1.01911    1.14301  \n",
      "10   0  0  0  \n",
      " 0  10  0  0  \n",
      " 0   0  5  0  \n",
      " 0   0  0  5  \n",
      "[1.080817316912103, 0.9727939749359849]\n",
      "task 1 empirical mean = 0.01\n",
      "  1.05412  -0.969539   1.07701  -1.00819  \n",
      "-0.969539    1.09495  -1.10212   1.04326  \n",
      "  1.07701   -1.10212    1.3792  -1.14883  \n",
      " -1.00819    1.04326  -1.14883   1.27656  \n",
      "10   0  0  0  \n",
      " 0  10  0  0  \n",
      " 0   0  5  0  \n",
      " 0   0  0  5  \n",
      "[1.204525305283364, 1.1036458605164945]\n"
     ]
    },
    {
     "data": {
      "image/png": "[encoded data removed]",
      "text/plain": [
       "<Figure size 432x288 with 1 Axes>"
      ]
     },
     "metadata": {
      "needs_background": "light"
     },
     "output_type": "display_data"
    }
   ],
   "source": [
    "# T = 2, p_t = 1, lambda = 1, a1, a2 = 1 ?\n",
    "# calcul de q_t\n",
    "p = 100\n",
    "m = 2\n",
    "t = 2\n",
    "beta = np.linspace(0,1,4)\n",
    "n_t = [[1000, 1000], [500, 500]]\n",
    "n = sum(list(map(sum, (n_t[i] for i in range(t)))))\n",
    "n_t_test = [[1000, 1000]]\n",
    "nt = sum(n_t_test[0])\n",
    "random_state=100\n",
    "sigma = 1\n",
    "R1, R2 = [], []\n",
    "for b in beta:\n",
    "    qt = []\n",
    "    M = mean_matrix(p, b, t, random_seed=random_state)\n",
    "#     M = [[]]\n",
    "    print(f\"task 1 empirical mean = {np.mean(M[1][0])}\")\n",
    "#     M1 = np.mean(np.concatenate((M[0][0], M[0][1]), axis=1), axis=1)\n",
    "#     M2 = np.mean(np.concatenate((M[1][0], M[1][1]), axis=1), axis=1)\n",
    "    X, y_bs = gaussian_synthetic_data(n, p, m, t, n_t, M, random_state)\n",
    "#     if b==0:\n",
    "#         M_prec=M[:]\n",
    "#         X_prec=X[:]\n",
    "#     else:\n",
    "#         print(f\"Test : {X_prec[1][0]==X[1][0]}\")\n",
    "#         print(f\"Test : {M_prec[1][0]==M[1][0]}\")\n",
    "#     X = normalisation(X, p)\n",
    "#     print(X[1][0].T[10].T)\n",
    "#     X_test, y_test = gaussian_synthetic_data(nt, p, m, 1, n_t_test, [M[1]], random_state)\n",
    "    # M1 et M2 sont les moyennes empiriques pour les taches 1 et 2\n",
    "#     M1_true = true_mean(M,p,2,2)\n",
    "#     M1 = empirical_mean_old(1, 1, [[np.concatenate((X[0][0],X[0][1]), axis=1)]], p, [[sum(n_t[0])]])[0]\n",
    "#     M2 = empirical_mean_old(1, 1, [[np.concatenate((X[1][0],X[1][1]), axis=1)]], p, [[sum(n_t[1])]])[0]\n",
    "#     if b==0:\n",
    "#         M2_prec=M2[:]\n",
    "#     else:\n",
    "#         print(f\"Test : {M2_prec==M2}\")\n",
    "#         print(M1.T@M2)\n",
    "#         print(M1.T@M2_prec)\n",
    "#         print(f\"Encore un test : {M1.T@M2==M1.T@M2_prec}\")\n",
    "#     print(f\"task 1 empirical mean = {np.mean(M1)}\")\n",
    "#     print(f\"task 2 empirical mean = {np.mean(M2)}\")\n",
    "#     print(M1, M2)\n",
    "#     MM = np.array([[(M1.T@M1)[0][0], (M1.T@M2)[0][0]],[(M2.T@M1)[0][0], (M2.T@M2)[0][0]]])\n",
    "    M1 = empirical_mean_old(2,2,X,p,n_t)[0]\n",
    "    MM = M1.T@M1\n",
    "    matprint(MM)\n",
    "    r1, r2 = bayes_optimal(n_t, MM, p)\n",
    "    R1.append(r1)\n",
    "    R2.append(r2)\n",
    "    \n",
    "plt.plot(beta, R2)\n",
    "plt.grid()\n",
    "plt.show()\n",
    "    "
   ]
  },
  {
   "cell_type": "code",
   "execution_count": 81,
   "metadata": {},
   "outputs": [],
   "source": [
    "def bayes_optimal(n_t, MM, p, sigma=1):\n",
    "    \"\"\"\n",
    "    Renvoie R1, R2\n",
    "    \"\"\"\n",
    "    qt = []\n",
    "    a1, a2, a3, a4 = n_t[0][0]/p, n_t[0][1]/p, n_t[1][0]/p, n_t[1][1]/p\n",
    "    D = np.diag([a1/sigma**2, a2/sigma**2, a3/sigma**2, a3/sigma**2])\n",
    "    matprint(D)\n",
    "    Q = np.diag((MM-MM*np.linalg.inv(np.identity(4)+D*MM)))\n",
    "    qt.append(Q[2])\n",
    "    qt.append(Q[3])\n",
    "    \n",
    "    print(qt)\n",
    "    if bayes_risk(n_t[0][0]/sum(n_t[0]), qt[0])>0.5:\n",
    "        R1 = (1-bayes_risk(n_t[0][0]/sum(n_t[0]), qt[0]))\n",
    "    else:\n",
    "        R1 = (bayes_risk(n_t[0][0]/sum(n_t[0]), qt[0]))\n",
    "    if bayes_risk(n_t[1][0]/sum(n_t[1]), qt[1])>0.5:\n",
    "        R2 = (1-bayes_risk(n_t[1][0]/sum(n_t[1]), qt[1]))\n",
    "    else:\n",
    "        R2 = (bayes_risk(n_t[1][0]/sum(n_t[1]), qt[1]))  \n",
    "    return R1, R2"
   ]
  },
  {
   "cell_type": "code",
   "execution_count": 74,
   "metadata": {},
   "outputs": [
    {
     "name": "stdout",
     "output_type": "stream",
     "text": [
      "[0.15276456225207657, 0.1511485375470728, 0.14988333635059903, 0.14991350175729568]\n"
     ]
    },
    {
     "data": {
      "image/png": "[encoded data removed]",
      "text/plain": [
       "<Figure size 432x288 with 1 Axes>"
      ]
     },
     "metadata": {
      "needs_background": "light"
     },
     "output_type": "display_data"
    }
   ],
   "source": [
    "print(R1)\n",
    "plt.plot(beta, R1, '-o', label=\"R1\")\n",
    "plt.plot(beta, R2, '-o', label=\"R2\")\n",
    "plt.legend()\n",
    "plt.grid()\n",
    "plt.show()"
   ]
  },
  {
   "cell_type": "markdown",
   "metadata": {},
   "source": [
    "# Algorithme distribué k-tâches m classes\n",
    "On se ramène à un cas 2-tâches 2-classes en fait"
   ]
  },
  {
   "cell_type": "code",
   "execution_count": 81,
   "metadata": {},
   "outputs": [],
   "source": [
    "from scipy.stats import zscore\n",
    "\n",
    "def z_normalize(X, k):\n",
    "    \"\"\"\n",
    "    Normalise les données.\n",
    "    k tâches, m classes\n",
    "    X le tableau de données.\n",
    "    \"\"\"\n",
    "    return zscore(X)"
   ]
  },
  {
   "cell_type": "code",
   "execution_count": 174,
   "metadata": {
    "scrolled": true
   },
   "outputs": [
    {
     "name": "stdout",
     "output_type": "stream",
     "text": [
      "current nt = [[50, 450], [0, 1000]]\n",
      "0 0\n"
     ]
    },
    {
     "ename": "ValueError",
     "evalue": "matmul: Input operand 1 has a mismatch in its core dimension 0, with gufunc signature (n?,k),(k,m?)->(n?,m?) (size 0 is different from 1000)",
     "output_type": "error",
     "traceback": [
      "\u001b[0;31m---------------------------------------------------------------------------\u001b[0m",
      "\u001b[0;31mValueError\u001b[0m                                Traceback (most recent call last)",
      "\u001b[0;32m<ipython-input-174-8a293c51c9d5>\u001b[0m in \u001b[0;36m<module>\u001b[0;34m\u001b[0m\n\u001b[1;32m     76\u001b[0m             \u001b[0mcurrent_n_t\u001b[0m\u001b[0;34m.\u001b[0m\u001b[0mappend\u001b[0m\u001b[0;34m(\u001b[0m\u001b[0msc\u001b[0m\u001b[0;34m)\u001b[0m\u001b[0;34m\u001b[0m\u001b[0;34m\u001b[0m\u001b[0m\n\u001b[1;32m     77\u001b[0m             \u001b[0mprint\u001b[0m\u001b[0;34m(\u001b[0m\u001b[0;34mf\"current nt = {current_n_t}\"\u001b[0m\u001b[0;34m)\u001b[0m\u001b[0;34m\u001b[0m\u001b[0;34m\u001b[0m\u001b[0m\n\u001b[0;32m---> 78\u001b[0;31m             \u001b[0mMM\u001b[0m \u001b[0;34m=\u001b[0m \u001b[0mempirical_mean\u001b[0m\u001b[0;34m(\u001b[0m\u001b[0;36m2\u001b[0m\u001b[0;34m,\u001b[0m \u001b[0;36m2\u001b[0m\u001b[0;34m,\u001b[0m \u001b[0mX_data\u001b[0m\u001b[0;34m,\u001b[0m \u001b[0mp\u001b[0m\u001b[0;34m,\u001b[0m \u001b[0mcurrent_n_t\u001b[0m\u001b[0;34m)\u001b[0m\u001b[0;34m\u001b[0m\u001b[0;34m\u001b[0m\u001b[0m\n\u001b[0m\u001b[1;32m     79\u001b[0m             \u001b[0mmatprint\u001b[0m\u001b[0;34m(\u001b[0m\u001b[0mMM\u001b[0m\u001b[0;34m)\u001b[0m\u001b[0;34m\u001b[0m\u001b[0;34m\u001b[0m\u001b[0m\n\u001b[1;32m     80\u001b[0m             \u001b[0mc\u001b[0m \u001b[0;34m=\u001b[0m \u001b[0mestimate_c\u001b[0m\u001b[0;34m(\u001b[0m\u001b[0mcurrent_n_t\u001b[0m\u001b[0;34m,\u001b[0m \u001b[0mn\u001b[0m\u001b[0;34m,\u001b[0m \u001b[0;36m2\u001b[0m\u001b[0;34m,\u001b[0m \u001b[0;36m2\u001b[0m\u001b[0;34m)\u001b[0m\u001b[0;34m\u001b[0m\u001b[0;34m\u001b[0m\u001b[0m\n",
      "\u001b[0;32m<ipython-input-7-8e5f7f657a89>\u001b[0m in \u001b[0;36mempirical_mean\u001b[0;34m(nb_tasks, nb_classes, X, p, n_t, display)\u001b[0m\n\u001b[1;32m     21\u001b[0m                         \u001b[0;31m#print(i*nb_tasks+j, k*nb_tasks+l)\u001b[0m\u001b[0;34m\u001b[0m\u001b[0;34m\u001b[0m\u001b[0;34m\u001b[0m\u001b[0m\n\u001b[1;32m     22\u001b[0m                         \u001b[0;31m#print(i, j, k, l)\u001b[0m\u001b[0;34m\u001b[0m\u001b[0;34m\u001b[0m\u001b[0;34m\u001b[0m\u001b[0m\n\u001b[0;32m---> 23\u001b[0;31m                         \u001b[0mM\u001b[0m\u001b[0;34m[\u001b[0m\u001b[0mi\u001b[0m\u001b[0;34m*\u001b[0m\u001b[0mnb_classes\u001b[0m\u001b[0;34m+\u001b[0m\u001b[0mj\u001b[0m\u001b[0;34m]\u001b[0m\u001b[0;34m[\u001b[0m\u001b[0mk\u001b[0m\u001b[0;34m*\u001b[0m\u001b[0mnb_classes\u001b[0m\u001b[0;34m+\u001b[0m\u001b[0ml\u001b[0m\u001b[0;34m]\u001b[0m \u001b[0;34m=\u001b[0m \u001b[0mnp\u001b[0m\u001b[0;34m.\u001b[0m\u001b[0mones\u001b[0m\u001b[0;34m(\u001b[0m\u001b[0;34m(\u001b[0m\u001b[0mn_t\u001b[0m\u001b[0;34m[\u001b[0m\u001b[0mi\u001b[0m\u001b[0;34m]\u001b[0m\u001b[0;34m[\u001b[0m\u001b[0mj\u001b[0m\u001b[0;34m]\u001b[0m\u001b[0;34m,\u001b[0m \u001b[0;36m1\u001b[0m\u001b[0;34m)\u001b[0m\u001b[0;34m)\u001b[0m\u001b[0;34m.\u001b[0m\u001b[0mT\u001b[0m\u001b[0;34m@\u001b[0m\u001b[0mX\u001b[0m\u001b[0;34m[\u001b[0m\u001b[0mi\u001b[0m\u001b[0;34m]\u001b[0m\u001b[0;34m[\u001b[0m\u001b[0mj\u001b[0m\u001b[0;34m]\u001b[0m\u001b[0;34m.\u001b[0m\u001b[0mT\u001b[0m\u001b[0;34m@\u001b[0m\u001b[0mX\u001b[0m\u001b[0;34m[\u001b[0m\u001b[0mk\u001b[0m\u001b[0;34m]\u001b[0m\u001b[0;34m[\u001b[0m\u001b[0ml\u001b[0m\u001b[0;34m]\u001b[0m\u001b[0;34m@\u001b[0m\u001b[0mnp\u001b[0m\u001b[0;34m.\u001b[0m\u001b[0mones\u001b[0m\u001b[0;34m(\u001b[0m\u001b[0;34m(\u001b[0m\u001b[0mn_t\u001b[0m\u001b[0;34m[\u001b[0m\u001b[0mk\u001b[0m\u001b[0;34m]\u001b[0m\u001b[0;34m[\u001b[0m\u001b[0ml\u001b[0m\u001b[0;34m]\u001b[0m\u001b[0;34m)\u001b[0m\u001b[0;34m)\u001b[0m\u001b[0;34m\u001b[0m\u001b[0;34m\u001b[0m\u001b[0m\n\u001b[0m\u001b[1;32m     24\u001b[0m                         \u001b[0mM\u001b[0m\u001b[0;34m[\u001b[0m\u001b[0mi\u001b[0m\u001b[0;34m*\u001b[0m\u001b[0mnb_classes\u001b[0m\u001b[0;34m+\u001b[0m\u001b[0mj\u001b[0m\u001b[0;34m]\u001b[0m\u001b[0;34m[\u001b[0m\u001b[0mk\u001b[0m\u001b[0;34m*\u001b[0m\u001b[0mnb_classes\u001b[0m\u001b[0;34m+\u001b[0m\u001b[0ml\u001b[0m\u001b[0;34m]\u001b[0m \u001b[0;34m/=\u001b[0m \u001b[0mn_t\u001b[0m\u001b[0;34m[\u001b[0m\u001b[0mi\u001b[0m\u001b[0;34m]\u001b[0m\u001b[0;34m[\u001b[0m\u001b[0mj\u001b[0m\u001b[0;34m]\u001b[0m\u001b[0;34m*\u001b[0m\u001b[0mn_t\u001b[0m\u001b[0;34m[\u001b[0m\u001b[0mk\u001b[0m\u001b[0;34m]\u001b[0m\u001b[0;34m[\u001b[0m\u001b[0ml\u001b[0m\u001b[0;34m]\u001b[0m\u001b[0;34m\u001b[0m\u001b[0;34m\u001b[0m\u001b[0m\n\u001b[1;32m     25\u001b[0m \u001b[0;34m\u001b[0m\u001b[0m\n",
      "\u001b[0;31mValueError\u001b[0m: matmul: Input operand 1 has a mismatch in its core dimension 0, with gufunc signature (n?,k),(k,m?)->(n?,m?) (size 0 is different from 1000)"
     ]
    }
   ],
   "source": [
    "# Algorithme 1 du papier\n",
    "k = 2\n",
    "m = 10\n",
    "n1 = [100 for i in range(m)]\n",
    "n2 = [50 for i in range(m)]\n",
    "p = 100\n",
    "n_t = [n1, n2]\n",
    "n_t_test = [[1000 for i in range(m)]]\n",
    "nt = sum(n_t_test[0])\n",
    "# faire quelque chose de généralisable\n",
    "n = sum(list(map(sum, (n_t[i] for i in range(k)))))\n",
    "c0 = p/n\n",
    "var = []\n",
    "emp_rate = []\n",
    "scores = []\n",
    "random_state=100\n",
    "# si je peux essayer de faire plus dégeu pour le n \n",
    "M = mean_matrix(p, k=k, m=m, random_seed=random_state, random=True)\n",
    "X, y_bs = gaussian_synthetic_data(n, p, m, k, n_t, M, random_state)\n",
    "\n",
    "# choisir la tache que l'on veut tester\n",
    "test_task = 1\n",
    "X_test, y_test = gaussian_synthetic_data(n, p, m, 1, n_t_test, [M[test_task]], random_state)\n",
    "X, X_test = z_normalize(X, k, m), z_normalize(X_test, 1, m)\n",
    "# beta = []\n",
    "# [[[],[]], [[], []]]\n",
    "\n",
    "# inverser les boucles ?\n",
    "for l in range(m):\n",
    "    for t in range(k):\n",
    "        if t==test_task:\n",
    "            # how does it benefit from the other tasks?\n",
    "            # pourquoi faire une boucle sur les tâches ?\n",
    "    #         beta.append(l*k+t)\n",
    "            X_data = []\n",
    "            # on ajoute la premiere classe de la premiere tache\n",
    "            X_data.append([X[t][l]])\n",
    "            current_n_t = [[n_t[t][l]]]\n",
    "            s = 0           \n",
    "\n",
    "            tmp = np.empty((p, 0), float)\n",
    "    #         print(\"tmp : \", tmp)\n",
    "            for cl in range(m):\n",
    "                if cl==l:\n",
    "                    continue\n",
    "    #             print(\"on ajoute : \", X[t][cl])\n",
    "    #             print(X[t][cl].shape)\n",
    "                tmp = np.concatenate((tmp, X[t][cl]), axis=1)\n",
    "                s += n_t[t][cl]\n",
    "    #         print(\"tmp : \", tmp)\n",
    "            X_data[0].append(tmp)\n",
    "    #         qui est la deuxieme tâche ? \n",
    "    #         X_data.append(X_test[0])\n",
    "#             regrouper toutes les autres tâches\n",
    "#             a reprendre\n",
    "            temp = []\n",
    "            tmp1 = np.empty((p, 0), float)\n",
    "            s1 = 0\n",
    "            sc = []\n",
    "            for tp in range(k):\n",
    "                if tp == test_task:\n",
    "                    continue\n",
    "                for l in range(m):\n",
    "                    tmp1 = np.concatenate((tmp1, X[tp][l]), axis=1)\n",
    "                    s1 += n_t[tp][l]\n",
    "                temp.append(tmp1)\n",
    "                sc.append(s2)\n",
    "                sc.append(s1)\n",
    "            X_data.append(temp)\n",
    "    #         print(\"len(X) : \", len(X_data))\n",
    "    #         print(\"len(X[0]) : \", len(X_data[1][0]))\n",
    "            current_n_t[0].append(s)\n",
    "            current_n_t.append(sc)\n",
    "            print(f\"current nt = {current_n_t}\")\n",
    "            MM = empirical_mean(2, 2, X_data, p, current_n_t)\n",
    "            matprint(MM)\n",
    "            c = estimate_c(current_n_t, n, 2, 2)\n",
    "            Dc = np.diag(c)\n",
    "            matprint(Dc)\n",
    "            correlation_matrix = compute_M_cal(n, p, Dc, MM, 2, True)\n",
    "\n",
    "            y = label_evaluation(2, 2, Dc, MM, c0)\n",
    "            matprint(y)\n",
    "            X_aggregated = aggregate_array(X_data, p, n, 2, 2)\n",
    "            X_test_aggregated = aggregate_array(X_test, p, nt, 1, 2)\n",
    "\n",
    "            # no need to compute V anymore\n",
    "            J = create_J(2, 2, n, current_n_t)\n",
    "            V = compute_V(y, X_aggregated, J, n)\n",
    "            # On time le temps d'inférence\n",
    "\n",
    "        #     debug_histogram(V_true, X_test_aggregated, n_t_test)\n",
    "        #     print(\"V = \")\n",
    "            VTX = V.T@X_test_aggregated\n",
    "            var.append(np.var(VTX))\n",
    "            debug_histogram(V, X_test_aggregated, n_t_test)\n",
    "\n",
    "            # pour l'instant pas vraiment utilisé\n",
    "            m_t = create_mt(2, 2, y, Dc, correlation_matrix)\n",
    "            # gxt in R^1xn\n",
    "\n",
    "            gxt = y.T@J.T@X_aggregated.T@X_test_aggregated/np.linalg.norm(y.T@J.T@X_aggregated.T)\n",
    "            gxt = np.reshape(gxt, (nt))\n",
    "            scores.append(gxt-m_t[0][0])\n",
    "\n",
    "            erreur_empirique = compute_error_rate(X_test, V, m_t, 1, 2, n_t_test, Dc, c0)\n",
    "    #         erreur_theorique = error_rate(t, m,  Dc, MM_true, c0)[0][0]\n",
    "            emp_rate.append(erreur_empirique)\n",
    "    #         th_rate.append(erreur_theorique)\n",
    "    #         relative_error_rate.append(abs(erreur_empirique - erreur_theorique)/erreur_theorique)\n",
    "\n",
    "estimated_class=[]\n",
    "for j in range(len(scores[0])):\n",
    "#     print(np.argmax(scores[l][j] for l in range(m)))\n",
    "    classes=[]\n",
    "    for l in range(m):\n",
    "#         print(scores[l][j])\n",
    "        classes.append(scores[l][j])\n",
    "#     print(classes)\n",
    "    estimated_class.append(np.argmax(classes))\n",
    "\n",
    "        \n",
    "        \n",
    "# lower = np.array(emp_rate) - np.array(var)\n",
    "# upper = np.array(emp_rate) + np.array(var)\n",
    "# plt.plot(beta, emp_rate, '-o', label='empirical rate')\n",
    "# plt.fill_between(beta, lower, upper, alpha=0.2, label=\"variance\")\n",
    "# plt.legend()\n",
    "# plt.title(f\"2-class Gaussian mixture transfer error rate for n={n} and p={p}\")\n",
    "# plt.xlabel(\"Task relatedness (beta)\")\n",
    "# plt.ylabel(\"error rate\")\n",
    "# plt.grid()\n",
    "# plt.show()\n",
    "        "
   ]
  },
  {
   "cell_type": "code",
   "execution_count": 162,
   "metadata": {},
   "outputs": [
    {
     "name": "stdout",
     "output_type": "stream",
     "text": [
      "(100, 1000)\n"
     ]
    }
   ],
   "source": [
    "print(X_data[1][1].shape)"
   ]
  },
  {
   "cell_type": "code",
   "execution_count": 168,
   "metadata": {},
   "outputs": [
    {
     "name": "stdout",
     "output_type": "stream",
     "text": [
      "0.5\n",
      "800\n"
     ]
    }
   ],
   "source": [
    "estimated_class = []\n",
    "erreur= []\n",
    "\n",
    "for j in range(len(scores[0])):\n",
    "#     print(np.argmax(scores[l][j] for l in range(m)))\n",
    "    classes=[]\n",
    "    for l in range(m):\n",
    "#         print(scores[l][j])\n",
    "        classes.append(scores[l][j])\n",
    "#     print(classes)\n",
    "    estimated_class.append(np.argmax(classes))\n",
    "    erreur.append(int(np.argmax(classes)==y_test[j]))\n",
    "    \n",
    "err = erreur.count(1)/len(scores[0])\n",
    "if err>0.5:\n",
    "    err = 1-err\n",
    "\n",
    "print(err)\n",
    "# estimated_class\n",
    "# print(np.argmax(scores[l][0] for l in range(m)))\n",
    "# print(np.argmax((scores[0][0], scores[1][0])))"
   ]
  },
  {
   "cell_type": "code",
   "execution_count": 165,
   "metadata": {
    "scrolled": true
   },
   "outputs": [
    {
     "name": "stdout",
     "output_type": "stream",
     "text": [
      "Empirical proportions : \n",
      "C1 proportion : 0.0 %, C2 proportion : 100.0 %\n",
      "Theoritical proportions : \n",
      "C1 proportion : 66.667 %, C2 proportion : 33.333 %\n"
     ]
    }
   ],
   "source": [
    "ones=0\n",
    "twos=0\n",
    "for i in range(len(scores[0])):\n",
    "    maxi = scores[0][i]\n",
    "    indice = 0\n",
    "    for idx, score in enumerate(scores):\n",
    "        if score[i] > maxi:\n",
    "            maxi = score[i]\n",
    "            indice = idx\n",
    "    l = indice%2+1\n",
    "    if l == 1:\n",
    "        ones+=1\n",
    "    else:\n",
    "        twos+=1\n",
    "    \n",
    "#     print(l)\n",
    "print(f\"Empirical proportions : \\nC1 proportion : {ones/len(scores[0])*100} %, C2 proportion : {twos/len(scores[0])*100} %\")\n",
    "print(f\"Theoritical proportions : \\nC1 proportion : {round(sum(n1)/(sum(n1)+sum(n2))*100, 3)} %, C2 proportion : {round(sum(n2)/(sum(n1)+sum(n2))*100, 3)} %\")"
   ]
  },
  {
   "cell_type": "code",
   "execution_count": null,
   "metadata": {},
   "outputs": [],
   "source": []
  },
  {
   "cell_type": "code",
   "execution_count": 98,
   "metadata": {},
   "outputs": [
    {
     "name": "stdout",
     "output_type": "stream",
     "text": [
      "[[200, 600]]\n",
      "(1, 800)\n",
      "(2, 800)\n",
      "(800, 100)\n",
      "(100, 800)\n"
     ]
    }
   ],
   "source": [
    "print(current_n_t)\n",
    "print(gxt.shape)\n",
    "print(J.T.shape)\n",
    "print(X_aggregated.T.shape)\n",
    "print(X_test_aggregated.shape)"
   ]
  },
  {
   "cell_type": "code",
   "execution_count": 102,
   "metadata": {},
   "outputs": [
    {
     "name": "stdout",
     "output_type": "stream",
     "text": [
      "(2, 2)\n",
      "2\n",
      "2\n",
      "(1, 4)\n",
      "(2, 2)\n",
      "(2, 2)\n",
      "(4,)\n",
      "[[array([[-0.88007943, -0.47482649],\n",
      "       [-0.96586158,  0.2590587 ]]), array([[0.92226127, 0.38656715],\n",
      "       [0.91331841, 0.40724621]])], [array([[0.36683514, 0.43040179, 0.0591088 , 0.82261317],\n",
      "       [0.24975802, 0.77567657, 0.21940746, 0.53647661]]), array([[-0.34926064, -0.34675433, -0.05486188, -0.8687742 ],\n",
      "       [-0.1093427 , -0.39596414, -0.807452  , -0.42341213]])]]\n",
      "[[-0.88007943 -0.47482649]\n",
      " [-0.96586158  0.2590587 ]]\n",
      "[[0.92226127 0.38656715]\n",
      " [0.91331841 0.40724621]]\n"
     ]
    }
   ],
   "source": [
    "print(tmp.shape)\n",
    "print(s)\n",
    "print(len(X_data))\n",
    "print(np.ones((n_t[0][0], 1)).T.shape)\n",
    "print((X_data[0][0].T.shape))\n",
    "print((X_data[0][1].shape))\n",
    "print(np.ones(n_t[0][1]).shape)\n",
    "#1x240x50\n",
    "print(X_data)\n",
    "print(X[3][1])\n",
    "print(X[3][0])"
   ]
  },
  {
   "cell_type": "code",
   "execution_count": 65,
   "metadata": {},
   "outputs": [
    {
     "name": "stdout",
     "output_type": "stream",
     "text": [
      "50\n",
      "(200, 10)\n",
      "(200, 50)\n",
      "[[50, 50], [500, 500]]\n"
     ]
    }
   ],
   "source": [
    "print(n_t[0][0])\n",
    "print(X[1][0].shape)\n",
    "print(X_data[0][0].shape)\n",
    "print(current_n_t)"
   ]
  },
  {
   "cell_type": "code",
   "execution_count": 104,
   "metadata": {},
   "outputs": [
    {
     "name": "stdout",
     "output_type": "stream",
     "text": [
      "[[4, 4], [5, 5]]\n"
     ]
    },
    {
     "data": {
      "text/plain": [
       "[[10, 10], [[4, 4]]]"
      ]
     },
     "execution_count": 104,
     "metadata": {},
     "output_type": "execute_result"
    }
   ],
   "source": [
    "n_t = [[10,10], [4,4], [5,5]]\n",
    "n = sum(list(map(sum, (n_t[i] for i in range(2)))))\n",
    "print(list(n_t[i] for i in range(3) if i!=0))\n",
    "current = [n_t[0], list(n_t[i] for i in range(2) if i!=0)[0]]\n",
    "current"
   ]
  },
  {
   "cell_type": "code",
   "execution_count": 1,
   "metadata": {},
   "outputs": [],
   "source": [
    "import pandas"
   ]
  },
  {
   "cell_type": "code",
   "execution_count": 6,
   "metadata": {},
   "outputs": [
    {
     "name": "stdout",
     "output_type": "stream",
     "text": [
      "Help on function sum in module pandas.core.generic:\n",
      "\n",
      "sum(self, axis=None, skipna=None, level=None, numeric_only=None, min_count=0, **kwargs)\n",
      "    Return the sum of the values over the requested axis.\n",
      "    \n",
      "    This is equivalent to the method ``numpy.sum``.\n",
      "    \n",
      "    Parameters\n",
      "    ----------\n",
      "    axis : {index (0), columns (1)}\n",
      "        Axis for the function to be applied on.\n",
      "    skipna : bool, default True\n",
      "        Exclude NA/null values when computing the result.\n",
      "    level : int or level name, default None\n",
      "        If the axis is a MultiIndex (hierarchical), count along a\n",
      "        particular level, collapsing into a Series.\n",
      "    numeric_only : bool, default None\n",
      "        Include only float, int, boolean columns. If None, will attempt to use\n",
      "        everything, then use only numeric data. Not implemented for Series.\n",
      "    min_count : int, default 0\n",
      "        The required number of valid values to perform the operation. If fewer than\n",
      "        ``min_count`` non-NA values are present the result will be NA.\n",
      "    **kwargs\n",
      "        Additional keyword arguments to be passed to the function.\n",
      "    \n",
      "    Returns\n",
      "    -------\n",
      "    Series or DataFrame (if level specified)\n",
      "    \n",
      "    See Also\n",
      "    --------\n",
      "    Series.sum : Return the sum.\n",
      "    Series.min : Return the minimum.\n",
      "    Series.max : Return the maximum.\n",
      "    Series.idxmin : Return the index of the minimum.\n",
      "    Series.idxmax : Return the index of the maximum.\n",
      "    DataFrame.sum : Return the sum over the requested axis.\n",
      "    DataFrame.min : Return the minimum over the requested axis.\n",
      "    DataFrame.max : Return the maximum over the requested axis.\n",
      "    DataFrame.idxmin : Return the index of the minimum over the requested axis.\n",
      "    DataFrame.idxmax : Return the index of the maximum over the requested axis.\n",
      "    \n",
      "    Examples\n",
      "    --------\n",
      "    >>> idx = pd.MultiIndex.from_arrays([\n",
      "    ...     ['warm', 'warm', 'cold', 'cold'],\n",
      "    ...     ['dog', 'falcon', 'fish', 'spider']],\n",
      "    ...     names=['blooded', 'animal'])\n",
      "    >>> s = pd.Series([4, 2, 0, 8], name='legs', index=idx)\n",
      "    >>> s\n",
      "    blooded  animal\n",
      "    warm     dog       4\n",
      "             falcon    2\n",
      "    cold     fish      0\n",
      "             spider    8\n",
      "    Name: legs, dtype: int64\n",
      "    \n",
      "    >>> s.sum()\n",
      "    14\n",
      "    \n",
      "    Sum using level names, as well as indices.\n",
      "    \n",
      "    >>> s.sum(level='blooded')\n",
      "    blooded\n",
      "    warm    6\n",
      "    cold    8\n",
      "    Name: legs, dtype: int64\n",
      "    \n",
      "    >>> s.sum(level=0)\n",
      "    blooded\n",
      "    warm    6\n",
      "    cold    8\n",
      "    Name: legs, dtype: int64\n",
      "    \n",
      "    By default, the sum of an empty or all-NA Series is ``0``.\n",
      "    \n",
      "    >>> pd.Series([]).sum()  # min_count=0 is the default\n",
      "    0.0\n",
      "    \n",
      "    This can be controlled with the ``min_count`` parameter. For example, if\n",
      "    you'd like the sum of an empty series to be NaN, pass ``min_count=1``.\n",
      "    \n",
      "    >>> pd.Series([]).sum(min_count=1)\n",
      "    nan\n",
      "    \n",
      "    Thanks to the ``skipna`` parameter, ``min_count`` handles all-NA and\n",
      "    empty series identically.\n",
      "    \n",
      "    >>> pd.Series([np.nan]).sum()\n",
      "    0.0\n",
      "    \n",
      "    >>> pd.Series([np.nan]).sum(min_count=1)\n",
      "    nan\n",
      "\n"
     ]
    }
   ],
   "source": [
    "help(pandas.DataFrame.sum)"
   ]
  },
  {
   "cell_type": "code",
   "execution_count": null,
   "metadata": {},
   "outputs": [],
   "source": []
  }
 ],
 "metadata": {
  "kernelspec": {
   "display_name": "Python 3",
   "language": "python",
   "name": "python3"
  },
  "language_info": {
   "codemirror_mode": {
    "name": "ipython",
    "version": 3
   },
   "file_extension": ".py",
   "mimetype": "text/x-python",
   "name": "python",
   "nbconvert_exporter": "python",
   "pygments_lexer": "ipython3",
   "version": "3.7.10"
  }
 },
 "nbformat": 4,
 "nbformat_minor": 2
}
