{
 "cells": [
  {
   "cell_type": "code",
   "execution_count": 1,
   "metadata": {},
   "outputs": [],
   "source": [
    "%matplotlib inline\n",
    "import numpy as np\n",
    "import matplotlib.pyplot as plt\n",
    "from sklearn.model_selection import train_test_split"
   ]
  },
  {
   "cell_type": "code",
   "execution_count": 2,
   "metadata": {},
   "outputs": [],
   "source": [
    "def matprint(mat, fmt=\"g\"):\n",
    "    \"\"\"\n",
    "    Pour une un print plus clair de la matrice\n",
    "    https://gist.github.com/braingineer/d801735dac07ff3ac4d746e1f218ab75\n",
    "    \"\"\"\n",
    "    col_maxes = [max([len((\"{:\"+fmt+\"}\").format(x)) for x in col]) for col in mat.T]\n",
    "    for x in mat:\n",
    "        for i, y in enumerate(x):\n",
    "            print((\"{:\"+str(col_maxes[i])+fmt+\"}\").format(y), end=\"  \")\n",
    "        print(\"\")"
   ]
  },
  {
   "cell_type": "markdown",
   "metadata": {},
   "source": [
    "# Table of contents\n",
    "* [Algorithme non distribué 2 taches 2 classes](#Algorithme-non-distribué-2-taches-2-classes)\n",
    "     * [1ère étape: Calcul des moyennes empiriques](#1ère-etape)\n",
    "     * [2ème étape: Estimation de $c$ et de $\\mathcal{M}$](#2ème-étape)\n",
    "     * [3ème étape: Calcul des labels optimaux](#3ème-étape)\n",
    "     * [4ème étape: Estimation des $m_{tj}$](#4ème-étape)\n",
    "     * [5ème étape: Calcul de $V$](#5ème-étape)\n",
    "     * [6ème étape: Evaluation et calcul d'erreur](#6ème-étape)\n",
    "* [2-class Gaussian mixture transfer](#2-class-Gaussian-mixture-transfer-(c.f.-Figure-2))\n",
    "     "
   ]
  },
  {
   "cell_type": "markdown",
   "metadata": {},
   "source": [
    "Créons des données synthétiques gaussiennes. Ici nous nous intéresserons dans un premier temps au cas où $m=2$. (Binary MTL Supervised Principal Component Analysis) "
   ]
  },
  {
   "cell_type": "markdown",
   "metadata": {},
   "source": [
    "# Algorithme non distribué 2 taches 2 classes\n",
    "Fonctions pour générer des données synthétiques gaussiennes"
   ]
  },
  {
   "cell_type": "code",
   "execution_count": 3,
   "metadata": {},
   "outputs": [],
   "source": [
    "def mean_random_matrix(m, k, p, l, h, random_seed=42):\n",
    "    \"\"\"\n",
    "    Retourne une matrice M de taille pxm*k contenant\n",
    "    les moyennes de chaque composante de chaque vecteur aléatoire\n",
    "    pour l'instant les moyennes sont tirées aléatoirement \n",
    "    suivant la loi uniforme sur l, h (pas convaincu par ce choix)\n",
    "    m est le nombre de classes\n",
    "    k est le nombre de taches\n",
    "    p est le nombre de features\n",
    "    \"\"\"\n",
    "    np.random.seed(random_seed)\n",
    "    M = []\n",
    "    tmp = []\n",
    "    for task in range(k):\n",
    "        tmp = []\n",
    "        for classe in range(m):\n",
    "            # on crée un vecteur de moyennes égales pour chaque classes\n",
    "            # de sorte à créer des classes gravitant autour d'une meme moyenne\n",
    "            tmp.append(np.ones((p,1))*np.random.uniform(low = 0.0, high = h))\n",
    "        M.append(tmp)\n",
    "    return M"
   ]
  },
  {
   "cell_type": "markdown",
   "metadata": {},
   "source": [
    "Si on prend des moyennes de la même façon que dans le papier"
   ]
  },
  {
   "cell_type": "code",
   "execution_count": 4,
   "metadata": {},
   "outputs": [],
   "source": [
    "# Test\n",
    "# ici on reprend les mêmes paramètres que dans la figure 2\n",
    "n_t = [[1000,1000], [50,50]]\n",
    "n = 2200\n",
    "p = 100\n",
    "m = 2\n",
    "t = 2\n",
    "# 2 taches, 2 classes, p = 20\n",
    "#M = mean_random_matrix(m, t, p, 0., 20.)\n",
    "#print(M)\n",
    "\n",
    "# pour plusieurs taches\n",
    "# M = mean_matrix(2, 3, 10, 0., 2.)\n",
    "# print(M)"
   ]
  },
  {
   "cell_type": "code",
   "execution_count": 90,
   "metadata": {},
   "outputs": [],
   "source": [
    "beta = 0.1\n",
    "def mean_matrix(beta, p, random_seed=42):\n",
    "    \"\"\"\n",
    "    Crée des vecteurs de moyennes de la meme facon que dans la figure 2 du papier\n",
    "    \"\"\"\n",
    "    np.random.seed(random_seed)\n",
    "    #mu_1 = np.ones((p,1))*np.random.uniform(low = 0.0, high = 10.)\n",
    "    mu_1 = np.zeros((p,1))\n",
    "    mu_1[0]= 1\n",
    "    perpendicular_vector = np.zeros((p,1))\n",
    "    perpendicular_vector[-1] = 1\n",
    "    mu_2 = beta*mu_1+np.sqrt(1-beta**2)*perpendicular_vector\n",
    "    M = [[mu_1, -mu_1], [mu_2, -mu_2]]\n",
    "    return M\n",
    "M = mean_matrix(beta, p)"
   ]
  },
  {
   "cell_type": "code",
   "execution_count": 89,
   "metadata": {},
   "outputs": [],
   "source": [
    "def gaussian_synthetic_data(n, p, m, t, n_t, M, random_seed=42):\n",
    "    \"\"\"\n",
    "    Renvoie un tableau de données synthétiques gaussiennes. X[0] accède aux données de la premiere tache.\n",
    "    X[0][1] accede aux données de la deuxieme classe de la premiere tache.\n",
    "    (vecteurs gaussiens de taille n_j * p tq sum(n_j for j) = n)\n",
    "    à partir du nombre d'échantillons n de taille p et du nombre de classe m.\n",
    "    t est le nombre de tâches\n",
    "    n_t est un vecteur comprenant les différentes valeurs n_j pour chaque task\n",
    "    M est la matrice des moyennes de chaque composante \n",
    "    de chaque vecteur aléatoire\n",
    "    \"\"\"\n",
    "    # assert(sum(n_j)/n==1\n",
    "    np.random.seed(random_seed)\n",
    "    X = []\n",
    "    tmp = []\n",
    "    for task in range(t):\n",
    "        # pour une tache on a m classes\n",
    "        tmp = []\n",
    "        for k in range(m):\n",
    "            X_k = np.empty((n_t[task][k], p))\n",
    "            # on prendra la transposée a la fin\n",
    "            #print( n_t[task][k])\n",
    "            for j in range(n_t[task][k]):\n",
    "                # on crée n_j[task][k] vecteurs aléatoires de taille 1xp\n",
    "                # std = 1?\n",
    "                X_k[j] = np.random.normal(M[task][k][0], 1, size=(1, p))\n",
    "                # indice 0 parce que c'est toujours la meme moyenne dans M (pour l'instant ?)\n",
    "            X_k = np.transpose(X_k)\n",
    "            #print(k)\n",
    "            tmp.append(X_k)\n",
    "            # print(\"tmp = \", tmp)\n",
    "        X.append(tmp)\n",
    "            \n",
    "    return X"
   ]
  },
  {
   "cell_type": "code",
   "execution_count": 7,
   "metadata": {},
   "outputs": [],
   "source": [
    "X = gaussian_synthetic_data(n, p, m, t, n_t, M)"
   ]
  },
  {
   "cell_type": "code",
   "execution_count": 8,
   "metadata": {},
   "outputs": [],
   "source": [
    "from sklearn.preprocessing import normalize\n",
    "\n",
    "def normalisation(X, t, m):\n",
    "    \"\"\"\n",
    "    Normalise les vecteurs de données\n",
    "    \"\"\"\n",
    "    for k in range(t):\n",
    "        for l in range(m):\n",
    "            # on normalise les colonnes\n",
    "            X[k][l] = normalize(X[k][l], axis=1)      \n",
    "    return X"
   ]
  },
  {
   "cell_type": "code",
   "execution_count": 9,
   "metadata": {},
   "outputs": [],
   "source": [
    "def train_test_split_data(X, split_rate, nb_tasks, nb_classes):\n",
    "    \"\"\"\n",
    "    Retourne une matrice de données de tests, et une matrice d'entrainement\n",
    "    \"\"\"\n",
    "    X_train = []\n",
    "    X_test = []\n",
    "    tmp_test = []\n",
    "    tmp_train = []\n",
    "    n_t_train = []\n",
    "    n_t_test = []\n",
    "    for t in range(nb_tasks):\n",
    "        tmp_test = []\n",
    "        tmp_train = []\n",
    "        tmp_nt_train = []\n",
    "        tmp_nt_test = []\n",
    "        for l in range(nb_classes):\n",
    "            decoupe = int(split_rate*X[t][l].shape[1])\n",
    "            tmp_train.append(X[t][l][:, :decoupe])\n",
    "            tmp_test.append(X[t][l][:, decoupe:])\n",
    "            tmp_nt_train.append(decoupe)\n",
    "            tmp_nt_test.append(X[t][l].shape[1]-decoupe)\n",
    "        n_t_train.append(tmp_nt_train)\n",
    "        n_t_test.append(tmp_nt_test)\n",
    "        X_train.append(tmp_train)\n",
    "        X_test.append(tmp_test)\n",
    "    return X_train, X_test, n_t_train, n_t_test"
   ]
  },
  {
   "cell_type": "code",
   "execution_count": 10,
   "metadata": {},
   "outputs": [
    {
     "data": {
      "text/plain": [
       "(100, 200)"
      ]
     },
     "execution_count": 10,
     "metadata": {},
     "output_type": "execute_result"
    }
   ],
   "source": [
    "X_train, X_test, n_t_train, n_t_test = train_test_split_data(X, 0.8, 2, 2)\n",
    "n_t_train\n",
    "X_test[0][0].shape"
   ]
  },
  {
   "cell_type": "markdown",
   "metadata": {},
   "source": [
    "Il faut aussi créer le vecteur $\\tilde{y}\\in\\mathbb{R}^{2k}$, qui contiendra les labels associées aux données."
   ]
  },
  {
   "cell_type": "code",
   "execution_count": 11,
   "metadata": {},
   "outputs": [],
   "source": [
    "def create_labels(nb_tasks, nb_classes):\n",
    "    \"\"\"\n",
    "    Crée le vecteurs y_tilde contenant les labels associés aux données.\n",
    "    Ici on le fait pour deux 2 tâches et pour deux classes.\n",
    "    \"\"\"\n",
    "    y = np.empty((nb_classes*nb_tasks))\n",
    "    for t in range(0, nb_classes*nb_tasks-1, 2):\n",
    "        y[t] = -1\n",
    "        y[t+1] = 1\n",
    "        \n",
    "    return y"
   ]
  },
  {
   "cell_type": "code",
   "execution_count": 12,
   "metadata": {},
   "outputs": [
    {
     "name": "stdout",
     "output_type": "stream",
     "text": [
      "[-1.  1. -1.  1.]\n"
     ]
    }
   ],
   "source": [
    "y = create_labels(t,m)\n",
    "print(y)"
   ]
  },
  {
   "cell_type": "markdown",
   "metadata": {},
   "source": [
    "## 1ère etape\n",
    "Calcul des moyennes empiriques, et calcul de la matrice $M\\in\\mathbb{R}^{p\\times 2k}$\n",
    "$$\\frac{1}{n_{tj}}X_{tj}\\mathbb{1}_{n_{tj}}=\\frac{1}{n_{tj}}\\sum_{l=1}^{n_{tj}}x_{tl}^{(j)}$$"
   ]
  },
  {
   "cell_type": "code",
   "execution_count": 13,
   "metadata": {},
   "outputs": [],
   "source": [
    "# pas fait le cas du j=j' mais j'ai pas l'impression que c'est nécessaire en tout cas pas ici ?\n",
    "\n",
    "def empirical_mean(nb_tasks, nb_classes, X, p, n_t):\n",
    "    \"\"\"\n",
    "    compute empirical mean for data X\n",
    "    return an 1xp vector being the empirical mean for the random vector X_{tj}\n",
    "    retourne la matrice M\n",
    "    \"\"\"\n",
    "    M = np.empty((nb_classes*nb_tasks, p))\n",
    "    for t in range(nb_tasks):\n",
    "        for l in range(nb_classes):\n",
    "            #print(X[t][l].dot(np.ones((n_t[t][l]))).shape)\n",
    "            # print(t*nb_classes+l)\n",
    "            M[t*nb_tasks+l] = X[t][l].dot(np.ones((n_t[t][l])))\n",
    "            M[t*nb_tasks+l] /= n_t[t][l]\n",
    "            #print(f\"class {t*nb_tasks+l} empirical mean = {np.mean(M[t*nb_tasks+l])}\")\n",
    "    return np.transpose(M)"
   ]
  },
  {
   "cell_type": "code",
   "execution_count": 14,
   "metadata": {
    "scrolled": true
   },
   "outputs": [],
   "source": [
    "M_mean = empirical_mean(t, m, X_train, p, n_t_train)\n",
    "#matprint(M_mean)\n",
    "#print(M)"
   ]
  },
  {
   "cell_type": "code",
   "execution_count": 15,
   "metadata": {},
   "outputs": [],
   "source": [
    "# utile pour les puissances négatives\n",
    "def power_diagonal_matrix(D, exponent):\n",
    "    diag = np.zeros(len(D))\n",
    "    for i in range(len(D)):\n",
    "        diag[i] = D[i][i]**exponent\n",
    "    \n",
    "    return np.diag(diag)"
   ]
  },
  {
   "cell_type": "markdown",
   "metadata": {},
   "source": [
    "## 2ème étape\n",
    "Estimer $c$ et $\\mathcal{M}\\in\\mathbb{R}^{2k\\times 2k}$. \n",
    "$c=\\left[ c_{11},\\ldots,c_{km} \\right]^T\\in\\mathbb{R}^{km}$"
   ]
  },
  {
   "cell_type": "code",
   "execution_count": 16,
   "metadata": {},
   "outputs": [],
   "source": [
    "def estimate_c(n_t, n, nb_tasks, nb_classes):\n",
    "    c = np.empty(nb_tasks*nb_classes)\n",
    "    for task in range(nb_tasks):\n",
    "        for m in range(nb_classes):\n",
    "            c[task*nb_tasks+m]=n_t[task][m]/n\n",
    "            \n",
    "    return c"
   ]
  },
  {
   "cell_type": "code",
   "execution_count": 17,
   "metadata": {},
   "outputs": [
    {
     "name": "stdout",
     "output_type": "stream",
     "text": [
      "c = [0.45454545 0.45454545 0.02272727 0.02272727]T\n"
     ]
    },
    {
     "data": {
      "text/plain": [
       "array([[0.45454545, 0.        , 0.        , 0.        ],\n",
       "       [0.        , 0.45454545, 0.        , 0.        ],\n",
       "       [0.        , 0.        , 0.02272727, 0.        ],\n",
       "       [0.        , 0.        , 0.        , 0.02272727]])"
      ]
     },
     "execution_count": 17,
     "metadata": {},
     "output_type": "execute_result"
    }
   ],
   "source": [
    "c = estimate_c(n_t, n, t, m)\n",
    "print(f\"c = {c}T\")\n",
    "Dc = np.diag(c)\n",
    "Dc"
   ]
  },
  {
   "cell_type": "code",
   "execution_count": 137,
   "metadata": {},
   "outputs": [],
   "source": [
    "def compute_M_cal(n,p,Dc,M, display=False):\n",
    "    \"\"\"\n",
    "    renvoie la matrice M cursive estimée\n",
    "    \"\"\"\n",
    "    c0 = 2*p/n\n",
    "    correlation_matrix = 1/c0*np.power(Dc, 1/2).dot(np.transpose(M)).dot(M).dot(np.power(Dc, 1/2))\n",
    "    if display==True:\n",
    "        plt.imshow(correlation_matrix)\n",
    "        plt.show()\n",
    "    return correlation_matrix"
   ]
  },
  {
   "cell_type": "code",
   "execution_count": 138,
   "metadata": {},
   "outputs": [
    {
     "data": {
      "image/png": "[encoded data removed]",
      "text/plain": [
       "<Figure size 432x288 with 1 Axes>"
      ]
     },
     "metadata": {
      "needs_background": "light"
     },
     "output_type": "display_data"
    },
    {
     "name": "stdout",
     "output_type": "stream",
     "text": [
      " 0.249719  -0.249094   0.247647  -0.249218  \n",
      "-0.249094   0.249093  -0.247252   0.248919  \n",
      " 0.247647  -0.247252   0.253163  -0.247844  \n",
      "-0.249218   0.248919  -0.247844   0.258385  \n"
     ]
    }
   ],
   "source": [
    "correlation_matrix = compute_M_cal(n,p,Dc,M_mean, True)\n",
    "matprint(correlation_matrix)"
   ]
  },
  {
   "cell_type": "markdown",
   "metadata": {},
   "source": [
    "## 3ème étape\n",
    "Let's compute optimal labels"
   ]
  },
  {
   "cell_type": "code",
   "execution_count": 20,
   "metadata": {},
   "outputs": [],
   "source": [
    "# a revoir ?\n",
    "\n",
    "def label_evaluation(nb_tasks, nb_classes, Dc, M_estimated):\n",
    "    \"\"\"\n",
    "    Evalue le label y pour une tache t pour 2 classes\n",
    "    \"\"\"\n",
    "    inverse = np.linalg.inv(M_estimated+np.identity(nb_classes*nb_tasks))\n",
    "    power_dc = power_diagonal_matrix(Dc, -1/2)\n",
    "    et1_et2 = np.zeros((nb_tasks*nb_classes,1))\n",
    "    y = np.empty((nb_tasks*nb_classes, 1))\n",
    "    for t in range(nb_tasks):\n",
    "        et1_et2 = np.zeros((nb_tasks*nb_classes,1))\n",
    "        for l in range(nb_classes):\n",
    "            #print(t*nb_tasks+l)\n",
    "            et1_et2[t*nb_tasks+l] = 1 if l == 0 else -1\n",
    "        #print(et1_et2)\n",
    "        y[t*nb_tasks] = (power_dc.dot(inverse).dot(M_estimated).dot(power_dc).dot(et1_et2))[t*nb_tasks]\n",
    "        y[t*nb_tasks+1] = (power_dc.dot(inverse).dot(M_estimated).dot(power_dc).dot(et1_et2))[t*nb_tasks+1]\n",
    "    return y"
   ]
  },
  {
   "cell_type": "code",
   "execution_count": 21,
   "metadata": {},
   "outputs": [
    {
     "name": "stdout",
     "output_type": "stream",
     "text": [
      "optimal labels for a 2-task 2-class example with synthetic gaussian data : \n",
      " 2.19702  \n",
      "-2.19953  \n",
      " 23.4055  \n",
      "-23.5409  \n"
     ]
    },
    {
     "data": {
      "text/plain": [
       "(4, 1)"
      ]
     },
     "execution_count": 21,
     "metadata": {},
     "output_type": "execute_result"
    }
   ],
   "source": [
    "y = label_evaluation(t,m,Dc,correlation_matrix)\n",
    "print(\"optimal labels for a 2-task 2-class example with synthetic gaussian data : \")\n",
    "matprint(y)\n",
    "y.shape"
   ]
  },
  {
   "cell_type": "markdown",
   "metadata": {},
   "source": [
    "## 4ème étape\n",
    "Estimation des $m_{tj}$, étant les $k\\times m$ moyennes estimées pour modéliser nos données."
   ]
  },
  {
   "cell_type": "code",
   "execution_count": 22,
   "metadata": {},
   "outputs": [],
   "source": [
    "def asymptotic_mean(nb_tasks, nb_classes, y_tilde, Dc, correlation_matrix, t, j):\n",
    "    \"\"\"\n",
    "    compute asymptotic mean m_tj\n",
    "    t current task\n",
    "    j current class\n",
    "    \"\"\"\n",
    "    y_transpose = np.transpose(y_tilde)\n",
    "    etj = np.zeros((nb_tasks*nb_classes, 1))\n",
    "    etj[t*nb_tasks+j] = 1\n",
    "    power_dc = power_diagonal_matrix(Dc, -1/2)\n",
    "    # Dc^1/2 ou Dc^{-1/2} ?\n",
    "    m_tj = y_transpose.dot(np.power(Dc, 1/2)).dot(correlation_matrix).dot(power_dc).dot(etj)\n",
    "    m_tj /= np.sqrt(y_transpose.dot(np.power(Dc, 1/2).dot(correlation_matrix).dot(np.power(Dc, 1/2)) + Dc).dot(y_tilde))\n",
    "    return m_tj[0][0]"
   ]
  },
  {
   "cell_type": "code",
   "execution_count": 82,
   "metadata": {},
   "outputs": [
    {
     "name": "stdout",
     "output_type": "stream",
     "text": [
      "m_kl = 0.8032841853160987\n",
      "m_kl = -0.802222699571126\n",
      "m_kl = 3.5781032299608153\n",
      "m_kl = -3.609253795653842\n"
     ]
    }
   ],
   "source": [
    "for k in range(t):\n",
    "    for l in range(m):\n",
    "        print(f\"m_kl = {asymptotic_mean(t, m, y, Dc, correlation_matrix, k, l)}\")"
   ]
  },
  {
   "cell_type": "markdown",
   "metadata": {},
   "source": [
    "Les valeurs ont l'air particulièrement grandes par rapport aux moyennes empiriques trouvées."
   ]
  },
  {
   "cell_type": "markdown",
   "metadata": {},
   "source": [
    "## 5ème étape\n",
    "Calcul de $V$ le sous-espace engendrés par les $\\tau$ plus grands vecteurs propres. Dans le cas du binary MTL-SPCA, $V=\\frac{Xy}{\\lVert Xy \\rVert}=\\frac{XJ\\tilde{y}}{\\lVert XJ\\tilde{y} \\rVert}\\in\\mathbb{R}^{p\\times1}$, avec $J\\in\\mathbb{R}^{n\\times km}$"
   ]
  },
  {
   "cell_type": "code",
   "execution_count": 24,
   "metadata": {},
   "outputs": [],
   "source": [
    "def aggregate_array(X, p, n, nb_tasks, nb_classes):\n",
    "    X_aggregated = np.empty((p, n))\n",
    "    class_1 = X[0][0]\n",
    "    for t in range(nb_tasks):\n",
    "        for l in range(nb_classes):\n",
    "            if t==0 and l==0:\n",
    "                continue\n",
    "            class_1 = np.append(class_1, X[t][l], 1)\n",
    "    X_aggregated = class_1\n",
    "    return X_aggregated"
   ]
  },
  {
   "cell_type": "code",
   "execution_count": 25,
   "metadata": {},
   "outputs": [
    {
     "name": "stdout",
     "output_type": "stream",
     "text": [
      "(100, 1680)\n"
     ]
    }
   ],
   "source": [
    "X_train_aggregated = aggregate_array(X_train, p, n, t, m)\n",
    "X_test_aggregated = aggregate_array(X_train, p, n, t, m)\n",
    "print(X_train_aggregated.shape)"
   ]
  },
  {
   "cell_type": "markdown",
   "metadata": {},
   "source": [
    "$V=\\frac{Xy}{\\lVert Xy \\rVert}=\\frac{XJ\\tilde{y}}{\\lVert XJ\\tilde{y} \\rVert}$"
   ]
  },
  {
   "cell_type": "code",
   "execution_count": 26,
   "metadata": {},
   "outputs": [],
   "source": [
    "def compute_V(y_tilde, X, J):\n",
    "    xy_product = X.dot(J).dot(y_tilde)\n",
    "    return xy_product/np.linalg.norm(xy_product)"
   ]
  },
  {
   "cell_type": "code",
   "execution_count": 67,
   "metadata": {},
   "outputs": [],
   "source": [
    "def create_J(nb_classes, nb_tasks, n, n_t):\n",
    "    left = 0\n",
    "    beg = 0\n",
    "    for i in range(nb_tasks):\n",
    "        left += int(sum(n_t[i]))\n",
    "    J = np.zeros((left, nb_tasks*nb_classes))\n",
    "    #matprint(J)\n",
    "    for t in range(nb_tasks):\n",
    "        \n",
    "        for j in range(nb_classes):\n",
    "            for i in range(beg, beg+n_t[t][j]):\n",
    "                J[i][t*nb_tasks+j] = 1\n",
    "            beg += n_t[t][j]\n",
    "    return J"
   ]
  },
  {
   "cell_type": "code",
   "execution_count": 69,
   "metadata": {},
   "outputs": [],
   "source": [
    "J = create_J(m, t, n, n_t_train)\n",
    "#matprint(J)\n",
    "# revoir J\n",
    "#x = np.random.normal(0, 1, size=(p,1))\n",
    "#compute_score(y, J, X, x)"
   ]
  },
  {
   "cell_type": "code",
   "execution_count": 80,
   "metadata": {
    "scrolled": true
   },
   "outputs": [
    {
     "name": "stdout",
     "output_type": "stream",
     "text": [
      " 0.106899  \n",
      "0.0945601  \n",
      " 0.099458  \n",
      "0.0836396  \n",
      "0.0939581  \n",
      "  0.10697  \n",
      " 0.106089  \n",
      "  0.10349  \n",
      "0.0985781  \n",
      " 0.106257  \n",
      "0.0913003  \n",
      "0.0904972  \n",
      "0.0946328  \n",
      " 0.101528  \n",
      " 0.098115  \n",
      " 0.107737  \n",
      " 0.116562  \n",
      "0.0989933  \n",
      " 0.107928  \n",
      "   0.1148  \n",
      "0.0872875  \n",
      "  0.10445  \n",
      " 0.102776  \n",
      " 0.104613  \n",
      " 0.110736  \n",
      "0.0840258  \n",
      "0.0801588  \n",
      " 0.108257  \n",
      "0.0859669  \n",
      "0.0856918  \n",
      "0.0991639  \n",
      "  0.10885  \n",
      "0.0889243  \n",
      "0.0945234  \n",
      "0.0922359  \n",
      " 0.100316  \n",
      "0.0943249  \n",
      "0.0928146  \n",
      " 0.110665  \n",
      "0.0951946  \n",
      " 0.106859  \n",
      "0.0947973  \n",
      "0.0998747  \n",
      "0.0871725  \n",
      " 0.109017  \n",
      "0.0964359  \n",
      " 0.103254  \n",
      "0.0886638  \n",
      " 0.109198  \n",
      " 0.105659  \n",
      " 0.106883  \n",
      "0.0931343  \n",
      " 0.104811  \n",
      " 0.108611  \n",
      "0.0870655  \n",
      "0.0969162  \n",
      "0.0892016  \n",
      "0.0992715  \n",
      "0.0994366  \n",
      " 0.104219  \n",
      "0.0946664  \n",
      "0.0999968  \n",
      " 0.093271  \n",
      "0.0959016  \n",
      "0.0811772  \n",
      " 0.105625  \n",
      " 0.111385  \n",
      "0.0961116  \n",
      " 0.102317  \n",
      " 0.104831  \n",
      " 0.101581  \n",
      " 0.106324  \n",
      " 0.107684  \n",
      " 0.111399  \n",
      "0.0931163  \n",
      "0.0993629  \n",
      " 0.115716  \n",
      "0.0955213  \n",
      " 0.104059  \n",
      " 0.099282  \n",
      "  0.10168  \n",
      " 0.102357  \n",
      " 0.099177  \n",
      " 0.103854  \n",
      " 0.101658  \n",
      "0.0929817  \n",
      "0.0885563  \n",
      "0.0936101  \n",
      "0.0943236  \n",
      " 0.110325  \n",
      " 0.104575  \n",
      " 0.107565  \n",
      "  0.10032  \n",
      "0.0924895  \n",
      "  0.10375  \n",
      " 0.109055  \n",
      "0.0974927  \n",
      " 0.112098  \n",
      "0.0862284  \n",
      "   0.1023  \n"
     ]
    }
   ],
   "source": [
    "V = compute_V(y, X_train_aggregated, J)\n",
    "V.shape\n",
    "matprint(V)"
   ]
  },
  {
   "cell_type": "markdown",
   "metadata": {},
   "source": [
    "## 6ème étape\n",
    "Evaluation de nouvelles données $\\mathbf{x}$ : \n",
    "$V^T\\mathbf{x}$\n",
    "\n",
    "On utilise les données du test set $X\\_test$. On obtient de très mauvais résultats"
   ]
  },
  {
   "cell_type": "code",
   "execution_count": 30,
   "metadata": {},
   "outputs": [],
   "source": [
    "def create_mt(t, m, y, Dc, correlation_matrix, k, l):\n",
    "    m_t = []\n",
    "    for k in range(t):\n",
    "        m_tj = []\n",
    "        for l in range(m):\n",
    "            m_tj.append(asymptotic_mean(t, m, y, Dc, correlation_matrix, k, l))\n",
    "        m_t.append(m_tj)\n",
    "\n",
    "    return m_t"
   ]
  },
  {
   "cell_type": "code",
   "execution_count": 81,
   "metadata": {},
   "outputs": [
    {
     "name": "stdout",
     "output_type": "stream",
     "text": [
      "[[0.8032841853160987, -0.802222699571126], [3.5781032299608153, -3.609253795653842]]\n"
     ]
    }
   ],
   "source": [
    "m_t = create_mt(t, m, y, Dc, correlation_matrix, k, l)\n",
    "print(m_t)"
   ]
  },
  {
   "cell_type": "code",
   "execution_count": 32,
   "metadata": {},
   "outputs": [],
   "source": [
    "def compute_score(V, x, m_t):\n",
    "    \"\"\"\n",
    "    x vecteur aléatoire que l'on veut classifier\n",
    "    On compare V^Tx à la moyenne des moyennes estimées pour les deux classes de la tache t\n",
    "    \"\"\"\n",
    "    x_projection = np.transpose(V).dot(x)\n",
    "    average_mean = 1/2*(m_t[0] + m_t[1])\n",
    "    return (1 if x_projection > average_mean else -1) "
   ]
  },
  {
   "cell_type": "code",
   "execution_count": 47,
   "metadata": {},
   "outputs": [],
   "source": [
    "from scipy import special as sp\n",
    "def qfunc(x):\n",
    "    return 0.5-0.5*sp.erf(x/np.sqrt(2))"
   ]
  },
  {
   "cell_type": "code",
   "execution_count": 132,
   "metadata": {},
   "outputs": [],
   "source": [
    "def error_rate(m_t, t, nb_tasks, nb_classes, Dc, M_cur):\n",
    "    #return qfunc(1/2*(m_t[0] - m_t[1]))\n",
    "    et1_et2 = np.zeros((nb_tasks*nb_classes, 1))\n",
    "    et1_et2[t*nb_tasks] = 1\n",
    "    et1_et2[t*nb_tasks+1] = -1\n",
    "    power_dc = power_diagonal_matrix(Dc, -1/2)\n",
    "    inv = np.linalg.inv(M_cur+np.identity(2*nb_tasks))\n",
    "    et_trans = np.transpose(et1_et2)\n",
    "    return qfunc(np.sqrt(et_trans.dot(power_dc).dot(M_cur).dot(inv).dot(M_cur).dot(power_dc).dot(et1_et2)))\n",
    "#erfc(sqrt(e3'*MM*diag(c)*inv((diag(c)*MM*diag(c)+diag(co*c/k)))*diag(c)*MM*e3)/(sqrt(2)))/2;"
   ]
  },
  {
   "cell_type": "code",
   "execution_count": 121,
   "metadata": {},
   "outputs": [],
   "source": [
    "def plot_error_rate(nb_tasks, nb_classes, emp_rate, error_rate, m_t, Dc, M_cur):\n",
    "    plt.scatter(range(nb_tasks), emp_rate, label=\"empirical error\")\n",
    "    plt.scatter(range(nb_tasks), [error_rate(m_t[i], i, nb_tasks, nb_classes, Dc, M_cur) for i in range(nb_tasks)], label=\"theoritical error\")\n",
    "    plt.grid()\n",
    "    plt.ylim((0,1))\n",
    "    plt.xlim((-0.5, 0.5))\n",
    "    plt.legend()\n",
    "    plt.title(f\"Classification error rate per task\")\n",
    "    plt.show()"
   ]
  },
  {
   "cell_type": "code",
   "execution_count": 135,
   "metadata": {},
   "outputs": [],
   "source": [
    "def compute_error_rate(X_test, m_t, nb_tasks, nb_classes, n_t, Dc, M_cur, display = False):\n",
    "    \"\"\"\n",
    "    Compute and plot classification error rate on test set\n",
    "    \"\"\"\n",
    "    emp_rate = []\n",
    "    error = 0\n",
    "    n = 0\n",
    "    for t in range(nb_tasks):\n",
    "        n = sum(n_t[t])\n",
    "        for l in range(nb_classes):\n",
    "            for i in range(n_t[t][l]):\n",
    "                # on prend la transposée pour pouvoir travailler avec les colonnes\n",
    "                score = compute_score(V, np.transpose(X_test[t][l])[i], m_t[t])\n",
    "                #print(score)\n",
    "                if (score == 1 and l == 1):\n",
    "                    error +=1\n",
    "                elif (score == -1 and l == 0):\n",
    "                    error +=1\n",
    "        emp_rate.append(error/n)\n",
    "       \n",
    "    if display:\n",
    "        plot_error_rate(nb_tasks, emp_rate, error_rate, m_t)\n",
    "    \n",
    "    return np.mean(emp_rate), np.mean([error_rate(m_t[i], i, nb_tasks, nb_classes,  Dc, M_cur) for i in range(nb_tasks)])"
   ]
  },
  {
   "cell_type": "code",
   "execution_count": 123,
   "metadata": {},
   "outputs": [
    {
     "data": {
      "text/plain": [
       "(0.0, 0.0077722829996405)"
      ]
     },
     "execution_count": 123,
     "metadata": {},
     "output_type": "execute_result"
    }
   ],
   "source": [
    "compute_error_rate(X_test, m_t, t, m, n_t_test, Dc, correlation_matrix)"
   ]
  },
  {
   "cell_type": "code",
   "execution_count": 126,
   "metadata": {},
   "outputs": [
    {
     "data": {
      "text/plain": [
       "array([[1.30481782e-27]])"
      ]
     },
     "execution_count": 126,
     "metadata": {},
     "output_type": "execute_result"
    }
   ],
   "source": [
    "error_rate(m_t[1], 1, t, m, Dc, correlation_matrix)"
   ]
  },
  {
   "cell_type": "markdown",
   "metadata": {},
   "source": [
    "# 2-class Gaussian mixture transfer (c.f. Figure 2)"
   ]
  },
  {
   "cell_type": "code",
   "execution_count": 139,
   "metadata": {},
   "outputs": [
    {
     "name": "stdout",
     "output_type": "stream",
     "text": [
      "[0.29, 0.1, 0.02, 0.0, 0.0, 0.0, 0.0, 0.0, 0.0, 0.0, 0.0] [0.304272157347744, 0.23779231414301244, 0.1614749344999379, 0.1167109948425733, 0.09630413306437313, 0.08768286635909664, 0.08327209628610868, 0.08024362272584784, 0.07781763589148102, 0.07579384458683244, 0.0740955955476596]\n"
     ]
    },
    {
     "data": {
      "image/png": "[encoded data removed]",
      "text/plain": [
       "<Figure size 432x288 with 1 Axes>"
      ]
     },
     "metadata": {
      "needs_background": "light"
     },
     "output_type": "display_data"
    }
   ],
   "source": [
    "n = 2200\n",
    "p = 100\n",
    "m = 2\n",
    "t = 2\n",
    "beta = np.arange(0,1.1,0.1)\n",
    "n_t = [[1000,1000], [50, 50]]\n",
    "emp_rate, th_rate = [], []\n",
    "for b in beta:\n",
    "    M = mean_matrix(b, p)\n",
    "    X = gaussian_synthetic_data(n, p, m, t, n_t, M)\n",
    "    X = normalisation(X, t, m)\n",
    "    # ca change de tout de normaliser\n",
    "    X_train, X_test, n_t_train, n_t_test = train_test_split_data(X, 0.5, t, m)\n",
    "    #y = create_labels(t,m)\n",
    "    M_mean = empirical_mean(t, m, X_train, p, n_t_train)\n",
    "    c = estimate_c(n_t, n, t, m)\n",
    "    Dc = np.diag(c)\n",
    "    #print(c)\n",
    "    correlation_matrix = compute_M_cal(n,p,Dc,M_mean, display=False)\n",
    "    y = label_evaluation(t,m,Dc,correlation_matrix)\n",
    "    #print(\"y = \")\n",
    "    #matprint(y)\n",
    "    X_train_aggregated = aggregate_array(X_train, p, n, t, m)\n",
    "    X_test_aggregated = aggregate_array(X_train, p, n, t, m)\n",
    "    J = create_J(m, t, n, n_t_train)\n",
    "    V = compute_V(y, X_train_aggregated, J)\n",
    "    m_t = create_mt(t, m, y, Dc, correlation_matrix, k, l)\n",
    "    emp_rate.append(compute_error_rate(X_test, m_t, t, m, n_t_test, Dc, correlation_matrix)[0])\n",
    "    th_rate.append(compute_error_rate(X_test, m_t, t, m, n_t_test, Dc, correlation_matrix)[1])\n",
    "\n",
    "print(emp_rate, th_rate)\n",
    "    \n",
    "plt.plot(beta, emp_rate, '-o', label='empirical rate')\n",
    "plt.plot(beta, th_rate, '-o', label='theoritical rate')\n",
    "plt.legend()\n",
    "plt.title(\"2-class Gaussian mixture transfer error rate\")\n",
    "plt.xlabel(\"Task relatedness (beta)\")\n",
    "plt.ylabel(\"error rate\")\n",
    "plt.grid()\n",
    "plt.show()"
   ]
  },
  {
   "cell_type": "markdown",
   "metadata": {},
   "source": [
    "# Algorithme distribué 2 tâches 2 classes\n",
    "Bien que certains résultats du précedent algorithmes sont particulèrement inquiétants, essayons de voir comment distribuer l'algorithme sur plusieurs serveurs.\n",
    "\n",
    "Par exemple un serveur demande les moyennes des autres serveurs pour pouvoir obtenir des meilleurs résultats en calculant la moyenne des ses données et la moyenne de toutes les moyennes avant de le renvoyer au serveur principal qui mettra à jour le modèle.\n",
    "\n",
    "Prendre des données synthétiques pour la 1ère tâche à 2 classes, puis rappatrier une ou plusieurs moyennes pour les autres tasks. \n",
    "Faire des comparaisons, avec et sans federated learning."
   ]
  },
  {
   "cell_type": "markdown",
   "metadata": {},
   "source": [
    "### Serveur isolé"
   ]
  },
  {
   "cell_type": "code",
   "execution_count": 42,
   "metadata": {},
   "outputs": [
    {
     "data": {
      "image/png": "[encoded data removed]",
      "text/plain": [
       "<Figure size 432x288 with 1 Axes>"
      ]
     },
     "metadata": {
      "needs_background": "light"
     },
     "output_type": "display_data"
    },
    {
     "data": {
      "text/plain": [
       "(0.2, 0.017296897701682745)"
      ]
     },
     "execution_count": 42,
     "metadata": {},
     "output_type": "execute_result"
    }
   ],
   "source": [
    "n = 200\n",
    "p = 100\n",
    "m = 2\n",
    "t = 1\n",
    "n_t = [[100,100]]\n",
    "M = mean_random_matrix(m, t, p, 0., 0.5)\n",
    "X = gaussian_synthetic_data(n, p, m, t, n_t, M)\n",
    "X_train, X_test, n_t_train, n_t_test = train_test_split_data(X, 0.8, t, m)\n",
    "y = create_labels(t,m)\n",
    "M_mean = empirical_mean(t, m, X_train, p, n_t_train)\n",
    "c = estimate_c(n_t, n, t, m)\n",
    "Dc = np.diag(c)\n",
    "correlation_matrix = compute_M_cal(n,p,Dc,M_mean, display=False)\n",
    "y = label_evaluation(t,m,Dc,correlation_matrix)\n",
    "X_train_aggregated = aggregate_array(X_train, p, n, t, m)\n",
    "X_test_aggregated = aggregate_array(X_train, p, n, t, m)\n",
    "J = create_J(m, t, n, n_t_train)\n",
    "V = compute_V(y, X_train_aggregated, J)\n",
    "m_t = create_mt(t, m, y, Dc, correlation_matrix, k, l)\n",
    "compute_error_rate(X_test, m_t, t, m, n_t_test, True)"
   ]
  },
  {
   "cell_type": "markdown",
   "metadata": {},
   "source": [
    "### 2 serveurs \n",
    "L'un des serveurs va demander les moyennes de l'autre pour entraîner le modèle sur ses données et sortir un résultat. \n",
    "\n",
    "L'autre serveur pourrait envoyer sa matrice de corrélation $\\mathcal{M}\\in\\mathbb{R}^{km\\times km}$ et le serveur demandant utiliserait une matrice de corrélation moyennée et pondérée par les poids de chaque dataset (si un dataset est plus grand que l'autr, il faut évidemment le prendre en compte) entre les deux matrices de corrélation.\n",
    "\n",
    "Enfait, non il faut envoyer les moyennes empiriques de chaque classe dans chaque tache (=chaque client) pour pouvoir ensuite calculer $\\mathcal{M}$, car il nous faut aussi les produits scalaires entre les moyennes des différentes tâches."
   ]
  },
  {
   "cell_type": "code",
   "execution_count": null,
   "metadata": {},
   "outputs": [],
   "source": [
    "def average_correlation_matrix(nb_tasks, nb_classes, matrices, weights):\n",
    "    \"\"\"\n",
    "    Renvoie une matrice de corrélation moyennée et pondérée à partir des différentes matrices de corrélation en input.\n",
    "    matrices est un tableau de matrice 2x2\n",
    "    weights est un tableau avec les différents poids des datasets (i.e. n le nombre de samples dans le dataset)\n",
    "    \"\"\"\n",
    "    nb_matrices = len(matrices)\n",
    "    size = nb_classes*nb_tasks\n",
    "    averaged_M = np.zeros((size, size))\n",
    "    for i in range(size):\n",
    "        for j in range(size):\n",
    "            for idx, mat in enumerate(matrices):\n",
    "                averaged_M[i][j] += mat[i][j]\n",
    "            averaged_M[i][j] /= nb_matrices\n",
    "\n",
    "    return averaged_M"
   ]
  },
  {
   "cell_type": "code",
   "execution_count": null,
   "metadata": {},
   "outputs": [],
   "source": [
    "avg_correlation_matrix = average_correlation_matrix(1, 2, [correlation_matrix, correlation_matrix/12, correlation_matrix*1.2, correlation_matrix/1.1])\n",
    "\n",
    "y = label_evaluation(t,m,Dc,avg_correlation_matrix)\n",
    "X_train_aggregated = aggregate_array(X_train, p, n, t, m)\n",
    "X_test_aggregated = aggregate_array(X_train, p, n, t, m)\n",
    "J = create_J(m, t, n, n_t_train)\n",
    "V = compute_V(y, X_train_aggregated, J)\n",
    "m_t = create_mt(t, m, y, Dc, avg_correlation_matrix, k, l)\n",
    "plot_error_rate(X_test, m_t, t, m, n_t_test)"
   ]
  },
  {
   "cell_type": "markdown",
   "metadata": {},
   "source": [
    "$(1/n_{tj})\\sum_{m=1}^{n_{tj}} x^{(t)}_{jm}$"
   ]
  },
  {
   "cell_type": "code",
   "execution_count": null,
   "metadata": {},
   "outputs": [],
   "source": []
  }
 ],
 "metadata": {
  "kernelspec": {
   "display_name": "Python 3",
   "language": "python",
   "name": "python3"
  },
  "language_info": {
   "codemirror_mode": {
    "name": "ipython",
    "version": 3
   },
   "file_extension": ".py",
   "mimetype": "text/x-python",
   "name": "python",
   "nbconvert_exporter": "python",
   "pygments_lexer": "ipython3",
   "version": "3.7.10"
  }
 },
 "nbformat": 4,
 "nbformat_minor": 2
}
