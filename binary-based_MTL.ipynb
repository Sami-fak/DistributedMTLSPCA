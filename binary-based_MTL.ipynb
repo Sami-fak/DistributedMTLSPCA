{
 "cells": [
  {
   "cell_type": "code",
   "execution_count": 30,
   "metadata": {},
   "outputs": [],
   "source": [
    "%matplotlib inline\n",
    "import numpy as np\n",
    "import matplotlib.pyplot as plt\n",
    "from sklearn.model_selection import train_test_split"
   ]
  },
  {
   "cell_type": "code",
   "execution_count": 1,
   "metadata": {},
   "outputs": [],
   "source": [
    "def matprint(mat, fmt=\"g\"):\n",
    "    \"\"\"\n",
    "    Pour une un print plus clair de la matrice\n",
    "    https://gist.github.com/braingineer/d801735dac07ff3ac4d746e1f218ab75\n",
    "    \"\"\"\n",
    "    col_maxes = [max([len((\"{:\"+fmt+\"}\").format(x)) for x in col]) for col in mat.T]\n",
    "    for x in mat:\n",
    "        for i, y in enumerate(x):\n",
    "            print((\"{:\"+str(col_maxes[i])+fmt+\"}\").format(y), end=\"  \")\n",
    "        print(\"\")"
   ]
  },
  {
   "cell_type": "markdown",
   "metadata": {},
   "source": [
    "# Table of contents\n",
    "* [Algorithme non distribué 2 taches 2 classes](#Algorithme-non-distribué-2-taches-2-classes)\n",
    "     * [1ère étape: Calcul des moyennes empiriques](#1ère-étape)\n",
    "     * [2ème étape: Estimation de $c$ et de $\\mathcal{M}$](#2ème-étape)\n",
    "     * [3ème étape: Calcul des labels optimaux](#3ème-étape)\n",
    "     * [4ème étape: Estimation des $m_{tj}$](#4ème-étape)\n",
    "     * [5ème étape: Calcul de $V$](#5ème-étape)\n",
    "     * [6ème étape: Evaluation et calcul d'erreur](#6ème-étape)\n",
    "* [2-class Gaussian mixture transfer](#2-class-Gaussian-mixture-transfer-(c.f.-Figure-2))\n",
    "* [Adding Tasks](#Adding-tasks)\n",
    "* [Algorithme distribué 2-tâches 2-classes](#Algorithme-distribué-2-tâches-2-classes)\n",
    "     * [Serveur isolé](#Serveur-isolé)\n",
    "* [Distributively adding tasks](#Distributively-adding-tasks)\n",
    "     * [Working with real data](#Real-Data)\n",
    "* [Optimalité](#Optimalité)\n",
    "* [Algorithme distribué k-tâches 2-classes](#Algorithme-distribué-k-tâches-m-classes)\n",
    "     "
   ]
  },
  {
   "cell_type": "markdown",
   "metadata": {},
   "source": [
    "Créons des données synthétiques gaussiennes. Ici nous nous intéresserons dans un premier temps au cas où $m=2$. (Binary MTL Supervised Principal Component Analysis) "
   ]
  },
  {
   "cell_type": "markdown",
   "metadata": {},
   "source": [
    "# Algorithme non distribué 2 taches 2 classes\n",
    "Fonctions pour générer des données synthétiques gaussiennes"
   ]
  },
  {
   "cell_type": "code",
   "execution_count": 2,
   "metadata": {},
   "outputs": [],
   "source": [
    "def mean_random_matrix(m, k, p, l, h, random_seed=42):\n",
    "    \"\"\"\n",
    "    Retourne une matrice M de taille pxm*k contenant\n",
    "    les moyennes de chaque composante de chaque vecteur aléatoire\n",
    "    pour l'instant les moyennes sont tirées aléatoirement \n",
    "    suivant la loi uniforme sur l, h (pas convaincu par ce choix)\n",
    "    m est le nombre de classes\n",
    "    k est le nombre de taches\n",
    "    p est le nombre de features\n",
    "    \"\"\"\n",
    "    np.random.seed(random_seed)\n",
    "    M = []\n",
    "    tmp = []\n",
    "    for task in range(k):\n",
    "        tmp = []\n",
    "        for classe in range(m):\n",
    "            # on crée un vecteur de moyennes égales pour chaque classes\n",
    "            # de sorte à créer des classes gravitant autour d'une meme moyenne\n",
    "            tmp.append(np.ones((p,1))*np.random.uniform(low = 0.0, high = h))\n",
    "        M.append(tmp)\n",
    "    return M"
   ]
  },
  {
   "cell_type": "code",
   "execution_count": 44,
   "metadata": {},
   "outputs": [],
   "source": [
    "def mean_matrix(p, beta=None, k=2, m=2, random_seed=42, random=False):\n",
    "    \"\"\"\n",
    "    Crée des vecteurs de moyennes en respectant les conditions de non trivialité \n",
    "    retourne un tableau contenant k tableaux de m moyennes.\n",
    "    beta est le paramètre de task relatedness. Si beta n'est pas précisé, il est tiré au hasard uniformément sur [0,1] pour chaque t.\n",
    "    k=2, m=2 par défaut\n",
    "    \"\"\"\n",
    "    np.random.seed(random_seed)\n",
    "    mu = np.zeros((p,1))\n",
    "    mu[0]= 1\n",
    "    mu_ortho = np.zeros((p,1))\n",
    "    mu_ortho[1] = 1\n",
    "    \n",
    "    M = []\n",
    "    classes = []\n",
    "    for l in range(m):\n",
    "        classes.append((-1)**l*mu)\n",
    "    M.append(classes)\n",
    "    \n",
    "    for t in range(1, k):\n",
    "        if random:\n",
    "            print(\"random\")\n",
    "            beta = np.random.uniform(0, 1)\n",
    "            print(\"beta\", beta)\n",
    "        mu_t = beta*mu+np.sqrt(1-beta**2)*mu_ortho\n",
    "        classes = []\n",
    "        for l in range(m):\n",
    "            classes.append((-1)**l*mu_t)\n",
    "        M.append(classes)\n",
    "    return M"
   ]
  },
  {
   "cell_type": "code",
   "execution_count": 4,
   "metadata": {},
   "outputs": [],
   "source": [
    "def gaussian_synthetic_data(n, p, m, t, n_t, M, random_seed=42):\n",
    "    \"\"\"\n",
    "    Renvoie un tableau de données synthétiques gaussiennes. X[0] accède aux données de la premiere tache.\n",
    "    X[0][1] accede aux données de la deuxieme classe de la premiere tache.\n",
    "    (vecteurs gaussiens de taille n_j * p tq sum(n_j for j) = n)\n",
    "    à partir du nombre d'échantillons n de taille p et du nombre de classe m.\n",
    "    t est le nombre de tâches\n",
    "    n_t est un vecteur comprenant les différentes valeurs n_j pour chaque task\n",
    "    M est la matrice des moyennes de chaque composante \n",
    "    de chaque vecteur aléatoire\n",
    "    \"\"\"\n",
    "    # assert(sum(n_j)/n==1\n",
    "    \n",
    "    np.random.seed(random_seed)\n",
    "    X = []\n",
    "    tmp = []\n",
    "    y_test = []\n",
    "    for task in range(t):\n",
    "        # pour une tache on a m classes\n",
    "        tmp = []\n",
    "        for k in range(m):\n",
    "            X_k = np.empty((n_t[task][k], p))\n",
    "            # on prendra la transposée a la fin\n",
    "#             print( n_t[task][k])\n",
    "            for j in range(n_t[task][k]):\n",
    "                # on crée n_j[task][k] vecteurs aléatoires de taille 1xp\n",
    "                # std = 1?\n",
    "                # comment utiliser des vecteurs de moyennes pour générer les données ?\n",
    "                mean = np.reshape(M[task][k], p)\n",
    "                X_k[j] = np.random.multivariate_normal(mean, np.identity(p))\n",
    "                y_test.append(k)\n",
    "            X_k = np.transpose(X_k)\n",
    "            #print(k)\n",
    "            tmp.append(X_k)\n",
    "            # print(\"tmp = \", tmp)\n",
    "        X.append(tmp)\n",
    "            \n",
    "    return X, y_test"
   ]
  },
  {
   "cell_type": "markdown",
   "metadata": {},
   "source": [
    "## 1ère étape\n",
    "Calcul des moyennes empiriques, et calcul de la matrice $M\\in\\mathbb{R}^{p\\times 2k}$\n",
    "$$\\frac{1}{n_{tj}}X_{tj}\\mathbb{1}_{n_{tj}}=\\frac{1}{n_{tj}}\\sum_{l=1}^{n_{tj}}x_{tl}^{(j)}$$"
   ]
  },
  {
   "cell_type": "code",
   "execution_count": 5,
   "metadata": {},
   "outputs": [],
   "source": [
    "def empirical_mean(nb_tasks, nb_classes, X, p, n_t, display=False):\n",
    "    \"\"\"\n",
    "    Retourne la matrice M avec les produits scalaires croisés\n",
    "    cf. Remark 1\n",
    "    \"\"\"\n",
    "    \n",
    "    M = np.empty((nb_tasks*nb_classes, nb_tasks*nb_classes)) # ici 4x4\n",
    "    for i in range(nb_tasks):\n",
    "        for j in range(nb_classes):\n",
    "            for k in range(nb_tasks):\n",
    "                for l in range(nb_classes):\n",
    "                    if i == k and j == l:\n",
    "                        moitie = int(n_t[i][j]/2)\n",
    "#                         print(\"DEBUG diagonal\")\n",
    "#                         print(f\"i = {i}, j = {j}\")\n",
    "#                         print(i*nb_classes+j, i*nb_classes+j)\n",
    "#                         print(\"moitie : \", moitie)\n",
    "                        \n",
    "                        M[i*nb_classes+j][i*nb_classes+j] = np.ones((moitie, 1)).T@X[i][j].T[:moitie]@X[i][j].T[moitie:].T@np.ones((moitie))\n",
    "                        M[i*nb_classes+j][i*nb_classes+j] /= moitie**2\n",
    "                    else:\n",
    "#                         print(i*nb_classes+j, k*nb_classes+l)\n",
    "#                         print(i, j, k, l)\n",
    "                        M[i*nb_classes+j][k*nb_classes+l] = np.ones((n_t[i][j], 1)).T@X[i][j].T@X[k][l]@np.ones((n_t[k][l]))\n",
    "                        M[i*nb_classes+j][k*nb_classes+l] /= n_t[i][j]*n_t[k][l]\n",
    "    \n",
    "    if display:\n",
    "        for t in range(nb_tasks):\n",
    "            for l in range(nb_classes):\n",
    "                print(f\"class {t*nb_classes+l} empirical mean = {np.mean(M[t*nb_classes+l])}\")\n",
    "                \n",
    "    return M"
   ]
  },
  {
   "cell_type": "code",
   "execution_count": 6,
   "metadata": {},
   "outputs": [],
   "source": [
    "def true_mean(M, p, nb_tasks, nb_classes):\n",
    "    \"\"\"\n",
    "    Retourne un ndarray contenant les vraies moyennes avec lequel on peut travailler\n",
    "    \"\"\"\n",
    "    true_M = np.empty((nb_tasks*nb_classes, p))\n",
    "    for t in range(nb_tasks):\n",
    "        for l in range(nb_classes):\n",
    "            mean = np.reshape(M[t][l], (p,))\n",
    "            true_M[t*nb_classes+l] = mean\n",
    "\n",
    "    return np.transpose(true_M)"
   ]
  },
  {
   "cell_type": "code",
   "execution_count": 7,
   "metadata": {},
   "outputs": [],
   "source": [
    "# utile pour les puissances négatives\n",
    "def power_diagonal_matrix(D, exponent):\n",
    "    diag = np.zeros(len(D))\n",
    "    for i in range(len(D)):\n",
    "        diag[i] = D[i][i]**exponent\n",
    "    \n",
    "    return np.diag(diag)"
   ]
  },
  {
   "cell_type": "markdown",
   "metadata": {},
   "source": [
    "## 2ème étape\n",
    "Estimer $c$ et $\\mathcal{M}\\in\\mathbb{R}^{2k\\times 2k}$. \n",
    "$c=\\left[ c_{11},\\ldots,c_{km} \\right]^T\\in\\mathbb{R}^{km}$"
   ]
  },
  {
   "cell_type": "code",
   "execution_count": 8,
   "metadata": {},
   "outputs": [],
   "source": [
    "def estimate_c(n_t, n, nb_tasks, nb_classes):\n",
    "    \"\"\"\n",
    "    Estime le vecteur c en divisant n_t[nb_tasks][nb_classes]/n\n",
    "    \"\"\"\n",
    "    c = np.empty(nb_tasks*nb_classes)\n",
    "    for task in range(nb_tasks):\n",
    "        for m in range(nb_classes):\n",
    "            c[task*nb_classes+m]=n_t[task][m]/n\n",
    "            \n",
    "    return c"
   ]
  },
  {
   "cell_type": "code",
   "execution_count": 9,
   "metadata": {},
   "outputs": [],
   "source": [
    "def compute_M_cal(n,p,Dc,MM, k=2, display=False):\n",
    "    \"\"\"\n",
    "    renvoie la matrice M cursive estimée.\n",
    "    O(2*k)\n",
    "    \"\"\"\n",
    "    c0 = k*p/n\n",
    "    correlation_matrix = 1/c0*np.power(Dc, 1/2)@MM@np.power(Dc, 1/2)\n",
    "    if display==True:\n",
    "        plt.imshow(correlation_matrix)\n",
    "        plt.show()\n",
    "    return correlation_matrix"
   ]
  },
  {
   "cell_type": "markdown",
   "metadata": {},
   "source": [
    "## 3ème étape\n",
    "Let's compute optimal labels"
   ]
  },
  {
   "cell_type": "code",
   "execution_count": 10,
   "metadata": {},
   "outputs": [],
   "source": [
    "# a revoir ?\n",
    "\n",
    "def label_evaluation(nb_tasks, nb_classes, Dc, M_estimated, c0, task_target=None):\n",
    "    \"\"\"\n",
    "    Evalue le label y pour une tache t pour 2 classes\n",
    "    task_target=None par défaut, permet de choisir la tâche target en cas d'algo distribué.\n",
    "    \"\"\"\n",
    "    inverse = np.linalg.inv(M_estimated+np.identity(nb_classes*nb_tasks))\n",
    "    # 0(16*k^3)\n",
    "    power_dc = power_diagonal_matrix(Dc, -1/2)\n",
    "    # O(2*k)\n",
    "    y = np.zeros((nb_tasks*nb_classes, 1))\n",
    "    e3_e4 = np.zeros((nb_tasks*nb_classes,1))\n",
    "    if task_target is not None:\n",
    "        e3_e4[2*task_target] = 1\n",
    "        e3_e4[2*task_target+1] = -1\n",
    "    else:\n",
    "        e3_e4[-2] = 1\n",
    "        e3_e4[-1] = -1\n",
    "    tilde_y=np.linalg.solve((Dc+Dc@M_estimated@Dc*1/c0),(Dc*1/c0@M_estimated@(e3_e4)))\n",
    "    # O(8*k^3)\n",
    "    return tilde_y\n",
    "#malik's formula:\n",
    "#tilde_y=(diag(c)*MM*diag(c)/co+diag(c))\\((e3-e4)'*MM*diag(c))';"
   ]
  },
  {
   "cell_type": "markdown",
   "metadata": {},
   "source": [
    "## 4ème étape\n",
    "Estimation des $m_{tj}$, étant les $k\\times m$ moyennes estimées pour modéliser nos données."
   ]
  },
  {
   "cell_type": "code",
   "execution_count": 11,
   "metadata": {},
   "outputs": [],
   "source": [
    "def asymptotic_mean(nb_tasks, nb_classes, y_tilde, Dc, correlation_matrix, t, j):\n",
    "    \"\"\"\n",
    "    compute asymptotic mean m_tj\n",
    "    t current task\n",
    "    j current class\n",
    "    \"\"\"\n",
    "    y_transpose = np.transpose(y_tilde)\n",
    "    etj = np.zeros((nb_tasks*nb_classes, 1))\n",
    "    etj[t*nb_classes+j] = 1\n",
    "    power_dc = power_diagonal_matrix(Dc, -1/2)\n",
    "    # Dc^1/2 ou Dc^{-1/2} ?\n",
    "    m_tj = y_transpose.dot(np.power(Dc, 1/2)).dot(correlation_matrix).dot(power_dc).dot(etj)\n",
    "    m_tj /= np.sqrt(y_transpose.dot(np.power(Dc, 1/2).dot(correlation_matrix).dot(np.power(Dc, 1/2)) + Dc).dot(y_tilde))\n",
    "    return m_tj[0][0]"
   ]
  },
  {
   "cell_type": "markdown",
   "metadata": {},
   "source": [
    "## 5ème étape\n",
    "Calcul de $V$ le sous-espace engendrés par les $\\tau$ plus grands vecteurs propres. Dans le cas du binary MTL-SPCA, $V=\\frac{Xy}{\\lVert Xy \\rVert}=\\frac{XJ\\tilde{y}}{\\lVert XJ\\tilde{y} \\rVert}\\in\\mathbb{R}^{p\\times1}$, avec $J\\in\\mathbb{R}^{n\\times km}$"
   ]
  },
  {
   "cell_type": "code",
   "execution_count": 12,
   "metadata": {},
   "outputs": [],
   "source": [
    "def aggregate_array(X, p, n, nb_tasks, nb_classes):\n",
    "    X_aggregated = np.empty((p, n))\n",
    "    class_1 = X[0][0]\n",
    "    for t in range(nb_tasks):\n",
    "        for l in range(nb_classes):\n",
    "            if t==0 and l==0:\n",
    "                continue\n",
    "            class_1 = np.append(class_1, X[t][l], 1)\n",
    "    X_aggregated = class_1\n",
    "    return X_aggregated"
   ]
  },
  {
   "cell_type": "markdown",
   "metadata": {},
   "source": [
    "$V=\\frac{Xy}{\\lVert Xy \\rVert}=\\frac{XJ\\tilde{y}}{\\lVert XJ\\tilde{y} \\rVert}$"
   ]
  },
  {
   "cell_type": "code",
   "execution_count": 13,
   "metadata": {},
   "outputs": [],
   "source": [
    "def create_J(nb_classes, nb_tasks, n, n_t):\n",
    "    # enlever paramètre n\n",
    "    left = 0\n",
    "    beg = 0\n",
    "    for i in range(nb_tasks):\n",
    "        left += int(sum(n_t[i]))\n",
    "    J = np.zeros((left, nb_tasks*nb_classes))\n",
    "    #matprint(J)\n",
    "    for t in range(nb_tasks):\n",
    "        for j in range(nb_classes):\n",
    "            for i in range(beg, beg+n_t[t][j]):\n",
    "                J[i][t*nb_classes+j] = 1\n",
    "            beg += n_t[t][j]\n",
    "    return J"
   ]
  },
  {
   "cell_type": "code",
   "execution_count": 14,
   "metadata": {},
   "outputs": [],
   "source": [
    "def compute_V_old(y_tilde, X, J):\n",
    "    \"\"\"\n",
    "    Utilise la formule explicite de V pour la classification binaire\n",
    "    \"\"\"\n",
    "    xy_product = X.dot(J).dot(y_tilde)\n",
    "    return xy_product/np.linalg.norm(xy_product)\n",
    "\n",
    "def compute_V(y, X, J, n):\n",
    "    \"\"\"\n",
    "    Recalcule V (calcul vecteur propre)\n",
    "    Vstar dans le fichier matlab\n",
    "    Division par p, si les X pas normalisé ?\n",
    "    wtf is wrong with V? \n",
    "    \"\"\"\n",
    "    #X*J*(tilde_y*tilde_y')*J'*X'/n\n",
    "    #print(X.shape)\n",
    "    eigenvalue, V = np.linalg.eig(X.dot(J).dot((y).dot(y.T)).dot(J.T).dot(X.T)/(n))\n",
    "    maximum = eigenvalue[0]\n",
    "    idx_larg = 0\n",
    "    # retrieve the index of the largest eigenvalue\n",
    "    for idx, value in enumerate(eigenvalue):\n",
    "        if value > maximum:\n",
    "            maximum = value\n",
    "            idx_larg = idx\n",
    "    \n",
    "    largest_eigenvalue = np.sort(eigenvalue.real)[-1]\n",
    "    return V.T[idx_larg].real"
   ]
  },
  {
   "cell_type": "markdown",
   "metadata": {},
   "source": [
    "## 6ème étape\n",
    "Evaluation de nouvelles données $\\mathbf{x}$ : \n",
    "$V^T\\mathbf{x}$\n",
    "\n",
    "On utilise les données du test set $X\\_test$. On obtient de très mauvais résultats"
   ]
  },
  {
   "cell_type": "code",
   "execution_count": 15,
   "metadata": {},
   "outputs": [],
   "source": [
    "def create_mt(t, m, y, Dc, correlation_matrix):\n",
    "    m_t = []\n",
    "    for k in range(t):\n",
    "        m_tj = []\n",
    "        for l in range(m):\n",
    "            m_tj.append(asymptotic_mean(t, m, y, Dc, correlation_matrix, k, l))\n",
    "        m_t.append(m_tj)\n",
    "\n",
    "    return m_t"
   ]
  },
  {
   "cell_type": "code",
   "execution_count": 16,
   "metadata": {},
   "outputs": [],
   "source": [
    "def compute_score(V, x, m_t):\n",
    "    \"\"\"\n",
    "    x vecteur aléatoire que l'on veut classifier\n",
    "    On compare V^Tx à la moyenne des moyennes estimées pour les deux classes de la tache t\n",
    "    \"\"\"\n",
    "    x_projection = np.transpose(V).dot(x)\n",
    "    average_mean = 1/2*(m_t[0] + m_t[1])\n",
    "    return (1 if x_projection > 0 else -1) "
   ]
  },
  {
   "cell_type": "code",
   "execution_count": 17,
   "metadata": {},
   "outputs": [],
   "source": [
    "from scipy import special as sp\n",
    "def qfunc(x):\n",
    "    return 0.5-0.5*sp.erf(x/np.sqrt(2))"
   ]
  },
  {
   "cell_type": "code",
   "execution_count": 18,
   "metadata": {},
   "outputs": [],
   "source": [
    "def error_rate(nb_tasks, nb_classes, Dc, M_cur, c0, task_target=1):\n",
    "    e3 = np.zeros((nb_tasks*nb_classes, 1))\n",
    "    e3[2*task_target] = 1\n",
    "    power_dc = power_diagonal_matrix(Dc, -1/2)\n",
    "    inv = np.linalg.inv(M_cur+np.identity(nb_tasks*nb_classes))\n",
    "    print(\"arg q-func : \")\n",
    "    print(e3.T.dot(M_cur).dot(Dc).dot(np.linalg.inv(Dc.dot(M_cur).dot(Dc)+c0*Dc)).dot(Dc).dot(M_cur).dot(e3))\n",
    "    return qfunc(np.sqrt(e3.T.dot(M_cur).dot(Dc).dot(np.linalg.inv(Dc.dot(M_cur).dot(Dc)+c0*Dc)).dot(Dc).dot(M_cur).dot(e3)))\n",
    "    #return qfunc(1/2*np.sqrt(et_trans.dot(power_dc).dot(M_cur).dot(inv).dot(M_cur).dot(power_dc).dot(et1_et2)))\n",
    "#erfc(sqrt(e3'*MM*diag(c)*inv((diag(c)*MM*diag(c)+diag(co*c/k)))*diag(c)*MM*e3)/(sqrt(2)))/2;"
   ]
  },
  {
   "cell_type": "code",
   "execution_count": 19,
   "metadata": {},
   "outputs": [],
   "source": [
    "def plot_error_rate(nb_tasks, nb_classes, emp_rate, error_rate, m_t, Dc, M_cur):\n",
    "    plt.scatter(1, emp_rate, label=\"empirical error\")\n",
    "    plt.scatter(1, [error_rate(m_t[1], nb_tasks, nb_classes, Dc, M_cur)], label=\"theoritical error\")\n",
    "    plt.grid()\n",
    "    plt.ylim((0,1))\n",
    "    plt.xlim((-0.5, 0.5))\n",
    "    plt.legend()\n",
    "    plt.title(f\"Classification error rate per task\")\n",
    "    plt.show()"
   ]
  },
  {
   "cell_type": "code",
   "execution_count": 20,
   "metadata": {},
   "outputs": [],
   "source": [
    "def compute_error_rate(X_test, V, m_t, nb_tasks, nb_classes, n_t, Dc, c0, task_target=1):\n",
    "    \"\"\"\n",
    "    Compute and plot classification error rate on test set\n",
    "    \"\"\"\n",
    "#     print(\"mt1= \\n\", m_t[1])\n",
    "    emp_rate = []\n",
    "    error = 0\n",
    "    ni = 0\n",
    "    error = 0\n",
    "    for t in range(nb_tasks):\n",
    "        \n",
    "        ni += sum(n_t[t])\n",
    "        for l in range(nb_classes):\n",
    "            for i in range(n_t[t][l]):\n",
    "                # on prend la transposée pour pouvoir travailler avec les colonnes\n",
    "                score = compute_score(V, X_test[t][l].T[i], m_t[task_target])\n",
    "                if (score == 1 and l == 1):\n",
    "                    error +=1\n",
    "                elif (score == -1 and l == 0):\n",
    "                    error +=1\n",
    "        \n",
    "    erreur_emp = error/ni\n",
    "\n",
    "    if erreur_emp > 0.5:\n",
    "        erreur_emp=1-erreur_emp\n",
    "    emp_rate.append(erreur_emp)\n",
    "    return np.mean(emp_rate)"
   ]
  },
  {
   "cell_type": "code",
   "execution_count": 21,
   "metadata": {},
   "outputs": [],
   "source": [
    "def debug_histogram(V, X_test, n_t):\n",
    "    \"\"\"\n",
    "    Trace l'histogramme de V^T*x_1 et V^T*x_2.\n",
    "    \"\"\"\n",
    "#     print(X1[0][0])\n",
    "#     print(n_t[0][0])\n",
    "    alpha = 0.5\n",
    "    bins = 20\n",
    "    plt.hist(V.T.dot(X_test.T[:n_t[0][0]].T), bins = bins, alpha=alpha, label=r\"$C_1$\")\n",
    "    plt.hist(V.T.dot(X_test.T[n_t[0][0]:].T), bins = bins, alpha=alpha, label=r\"$C_2$\")\n",
    "    plt.title(r\"Histogramme des données de tests projetées sur $V$ : $V^Tx_j$\")\n",
    "    plt.legend()\n",
    "    plt.show()"
   ]
  },
  {
   "cell_type": "markdown",
   "metadata": {},
   "source": [
    "# 2-class Gaussian mixture transfer (c.f. Figure 2)"
   ]
  },
  {
   "cell_type": "code",
   "execution_count": 106,
   "metadata": {},
   "outputs": [],
   "source": [
    "from time import time\n",
    "plt.style.use('seaborn-dark-palette')"
   ]
  },
  {
   "cell_type": "code",
   "execution_count": 177,
   "metadata": {
    "scrolled": true
   },
   "outputs": [
    {
     "name": "stdout",
     "output_type": "stream",
     "text": [
      "MM : \n",
      "\n",
      "  0.951924  -0.969539   0.222138  -0.0517376  \n",
      " -0.969539    1.00123  -0.219693   0.0715974  \n",
      "  0.222138  -0.219693    1.52612    -1.39989  \n",
      "-0.0517376  0.0715974   -1.39989    0.884869  \n",
      "10   0    0    0  \n",
      " 0  10    0    0  \n",
      " 0   0  0.5    0  \n",
      " 0   0    0  0.5  \n",
      "[0.660510419092243, 0.27141372700378297]\n",
      "c : \n",
      "[0.47619048 0.47619048 0.02380952 0.02380952]\n"
     ]
    },
    {
     "data": {
      "image/png": "[encoded data removed]",
      "text/plain": [
       "<Figure size 432x288 with 1 Axes>"
      ]
     },
     "metadata": {
      "needs_background": "light"
     },
     "output_type": "display_data"
    },
    {
     "name": "stdout",
     "output_type": "stream",
     "text": [
      "   4.75962    -4.8477   0.248358  -0.0578444  \n",
      "   -4.8477    5.00614  -0.245624   0.0800484  \n",
      "  0.248358  -0.245624    0.38153   -0.349971  \n",
      "-0.0578444  0.0800484  -0.349971    0.221217  \n",
      "MM True = \n",
      "[[ 1. -1.  0.  0.]\n",
      " [-1.  1.  0.  0.]\n",
      " [ 0.  0.  1. -1.]\n",
      " [ 0.  0. -1.  1.]]\n",
      " 5  -5      0      0  \n",
      "-5   5      0      0  \n",
      " 0   0   0.25  -0.25  \n",
      " 0   0  -0.25   0.25  \n",
      "c0 :  0.047619047619047616\n",
      "y = \n",
      "0.0503393  \n",
      "-0.180788  \n",
      "  26.5069  \n",
      " -20.2928  \n",
      "y true = \n",
      "  0  \n",
      "  0  \n",
      " 21  \n",
      "-21  \n",
      "arg q-func : \n",
      "[[0.5]]\n",
      "[0.2455] [0.23975006109347674]\n",
      "MM : \n",
      "\n",
      " 0.951924  -0.969539   0.465282  -0.294881  \n",
      "-0.969539    1.00123  -0.469608   0.321513  \n",
      " 0.465282  -0.469608    1.63308   -1.46802  \n",
      "-0.294881   0.321513   -1.46802   0.914168  \n",
      "10   0    0    0  \n",
      " 0  10    0    0  \n",
      " 0   0  0.5    0  \n",
      " 0   0    0  0.5  \n",
      "[0.7340769075647311, 0.2867724010061248]\n",
      "c : \n",
      "[0.47619048 0.47619048 0.02380952 0.02380952]\n"
     ]
    },
    {
     "data": {
      "image/png": "[encoded data removed]",
      "text/plain": [
       "<Figure size 432x288 with 1 Axes>"
      ]
     },
     "metadata": {
      "needs_background": "light"
     },
     "output_type": "display_data"
    },
    {
     "name": "stdout",
     "output_type": "stream",
     "text": [
      "  4.75962    -4.8477   0.520201  -0.329687  \n",
      "  -4.8477    5.00614  -0.525038   0.359463  \n",
      " 0.520201  -0.525038   0.408271  -0.367005  \n",
      "-0.329687   0.359463  -0.367005   0.228542  \n",
      "MM True = \n",
      "[[ 1.   -1.    0.25 -0.25]\n",
      " [-1.    1.   -0.25  0.25]\n",
      " [ 0.25 -0.25  1.   -1.  ]\n",
      " [-0.25  0.25 -1.    1.  ]]\n",
      "        5         -5   0.279508  -0.279508  \n",
      "       -5          5  -0.279508   0.279508  \n",
      " 0.279508  -0.279508       0.25      -0.25  \n",
      "-0.279508   0.279508      -0.25       0.25  \n",
      "c0 :  0.047619047619047616\n",
      "y = \n",
      " 0.274284  \n",
      "-0.423218  \n",
      "  26.0936  \n",
      " -19.6993  \n",
      "y true = \n",
      " 0.257669  \n",
      "-0.257669  \n",
      "  20.3558  \n",
      " -20.3558  \n",
      "arg q-func : \n",
      "[[0.51533742]]\n",
      "[0.2455, 0.23350000000000004] [0.23975006109347674, 0.23641870497629108]\n",
      "MM : \n",
      "\n",
      " 0.951924  -0.969539   0.707279  -0.536878  \n",
      "-0.969539    1.00123  -0.721884   0.573789  \n",
      " 0.707279  -0.721884    1.71229   -1.51779  \n",
      "-0.536878   0.573789   -1.51779   0.934518  \n",
      "10   0    0    0  \n",
      " 0  10    0    0  \n",
      " 0   0  0.5    0  \n",
      " 0   0    0  0.5  \n",
      "[0.7897901713515278, 0.2976037912499898]\n",
      "c : \n",
      "[0.47619048 0.47619048 0.02380952 0.02380952]\n"
     ]
    },
    {
     "data": {
      "image/png": "[encoded data removed]",
      "text/plain": [
       "<Figure size 432x288 with 1 Axes>"
      ]
     },
     "metadata": {
      "needs_background": "light"
     },
     "output_type": "display_data"
    },
    {
     "name": "stdout",
     "output_type": "stream",
     "text": [
      "  4.75962    -4.8477   0.790762  -0.600248  \n",
      "  -4.8477    5.00614  -0.807091   0.641516  \n",
      " 0.790762  -0.807091   0.428072  -0.379449  \n",
      "-0.600248   0.641516  -0.379449   0.233629  \n",
      "MM True = \n",
      "[[ 1.  -1.   0.5 -0.5]\n",
      " [-1.   1.  -0.5  0.5]\n",
      " [ 0.5 -0.5  1.  -1. ]\n",
      " [-0.5  0.5 -1.   1. ]]\n",
      "        5         -5   0.559017  -0.559017  \n",
      "       -5          5  -0.559017   0.559017  \n",
      " 0.559017  -0.559017       0.25      -0.25  \n",
      "-0.559017   0.559017      -0.25       0.25  \n",
      "c0 :  0.047619047619047616\n",
      "y = \n",
      " 0.512521  \n",
      "-0.759805  \n",
      "  24.4351  \n",
      " -17.6135  \n",
      "y true = \n",
      " 0.567568  \n",
      "-0.567568  \n",
      "  18.1622  \n",
      " -18.1622  \n",
      "arg q-func : \n",
      "[[0.56756757]]\n",
      "[0.2455, 0.23350000000000004, 0.21699999999999997] [0.23975006109347674, 0.23641870497629108, 0.2256135612113705]\n",
      "MM : \n",
      "\n",
      " 0.951924  -0.969539   0.947609  -0.777209  \n",
      "-0.969539    1.00123  -0.977589   0.829494  \n",
      " 0.947609  -0.977589    1.75116   -1.54091  \n",
      "-0.777209   0.829494   -1.54091   0.941868  \n",
      "10   0    0    0  \n",
      " 0  10    0    0  \n",
      " 0   0  0.5    0  \n",
      " 0   0    0  0.5  \n",
      "[0.8174975811863133, 0.3015480856876771]\n",
      "c : \n",
      "[0.47619048 0.47619048 0.02380952 0.02380952]\n"
     ]
    },
    {
     "data": {
      "image/png": "[encoded data removed]",
      "text/plain": [
       "<Figure size 432x288 with 1 Axes>"
      ]
     },
     "metadata": {
      "needs_background": "light"
     },
     "output_type": "display_data"
    },
    {
     "name": "stdout",
     "output_type": "stream",
     "text": [
      "  4.75962   -4.8477    1.05946  -0.868946  \n",
      "  -4.8477   5.00614   -1.09298   0.927402  \n",
      "  1.05946  -1.09298    0.43779  -0.385227  \n",
      "-0.868946  0.927402  -0.385227   0.235467  \n",
      "MM True = \n",
      "[[ 1.   -1.    0.75 -0.75]\n",
      " [-1.    1.   -0.75  0.75]\n",
      " [ 0.75 -0.75  1.   -1.  ]\n",
      " [-0.75  0.75 -1.    1.  ]]\n",
      "        5         -5   0.838525  -0.838525  \n",
      "       -5          5  -0.838525   0.838525  \n",
      " 0.838525  -0.838525       0.25      -0.25  \n",
      "-0.838525   0.838525      -0.25       0.25  \n",
      "c0 :  0.047619047619047616\n",
      "y = \n",
      "0.815509  \n",
      "-1.33295  \n",
      " 20.5001  \n",
      "-12.8822  \n",
      "y true = \n",
      " 1.02439  \n",
      "-1.02439  \n",
      " 13.3171  \n",
      "-13.3171  \n",
      "arg q-func : \n",
      "[[0.68292683]]\n",
      "[0.2455, 0.23350000000000004, 0.21699999999999997, 0.19599999999999995] [0.23975006109347674, 0.23641870497629108, 0.2256135612113705, 0.20429034966232495]\n",
      "MM : \n",
      "\n",
      " 0.951924  -0.969539    1.1805   -1.0101  \n",
      "-0.969539    1.00123   -1.2486    1.1005  \n",
      "   1.1805    -1.2486   1.61005  -1.44502  \n",
      "  -1.0101     1.1005  -1.44502  0.891199  \n",
      "10   0    0    0  \n",
      " 0  10    0    0  \n",
      " 0   0  0.5    0  \n",
      " 0   0    0  0.5  \n",
      "[0.7180668253753656, 0.27470800908257]\n",
      "c : \n",
      "[0.47619048 0.47619048 0.02380952 0.02380952]\n"
     ]
    },
    {
     "data": {
      "image/png": "[encoded data removed]",
      "text/plain": [
       "<Figure size 432x288 with 1 Axes>"
      ]
     },
     "metadata": {
      "needs_background": "light"
     },
     "output_type": "display_data"
    },
    {
     "name": "stdout",
     "output_type": "stream",
     "text": [
      " 4.75962   -4.8477    1.31984   -1.12933  \n",
      " -4.8477   5.00614   -1.39597     1.2304  \n",
      " 1.31984  -1.39597   0.402512  -0.361254  \n",
      "-1.12933    1.2304  -0.361254     0.2228  \n",
      "MM True = \n",
      "[[ 1. -1.  1. -1.]\n",
      " [-1.  1. -1.  1.]\n",
      " [ 1. -1.  1. -1.]\n",
      " [-1.  1. -1.  1.]]\n",
      "       5        -5   1.11803  -1.11803  \n",
      "      -5         5  -1.11803   1.11803  \n",
      " 1.11803  -1.11803      0.25     -0.25  \n",
      "-1.11803   1.11803     -0.25      0.25  \n",
      "c0 :  0.047619047619047616\n",
      "y = \n",
      " 1.17387  \n",
      "-3.14005  \n",
      " 6.76583  \n",
      " 1.55053  \n",
      "y true = \n",
      " 1.90909  \n",
      "-1.90909  \n",
      " 1.90909  \n",
      "-1.90909  \n",
      "arg q-func : \n",
      "[[0.95454545]]\n",
      "[0.2455, 0.23350000000000004, 0.21699999999999997, 0.19599999999999995, 0.1425] [0.23975006109347674, 0.23641870497629108, 0.2256135612113705, 0.20429034966232495, 0.16428249171959852]\n",
      "Erreur relative moyenne pour n=2100 et p=100, moyennée sur 10 simulations\n",
      "0.04953596428063216\n",
      "Temps moyen pour (resp.) le calcul des produits scalaires entre moyennes empiriques, l'estimation de M cursive, c et les labels optimaux y, et l'inférence : 0.0017121315002441406, 0.22765069007873534, 0.03482937812805176\n",
      "Temps total moyen : 0.264 s\n"
     ]
    },
    {
     "data": {
      "image/png": "[encoded data removed]",
      "text/plain": [
       "<Figure size 432x288 with 1 Axes>"
      ]
     },
     "metadata": {
      "needs_background": "light"
     },
     "output_type": "display_data"
    }
   ],
   "source": [
    "# %%prun -s cumulative\n",
    "# profiling\n",
    "p = 100\n",
    "m = 2\n",
    "t = 2\n",
    "beta = np.linspace(0,1,5)\n",
    "n_t = [[1000, 1000], [50, 50]]\n",
    "n = sum(list(map(sum, (n_t[i] for i in range(t)))))\n",
    "n_t_test = [[1000, 1000]]\n",
    "nt = sum(n_t_test[0])\n",
    "# la liste temps comprendra le temps pour le training, le calcul de M et y et le temps d'inférence\n",
    "emp_rate, th_rate, var, relative_error_rate = [], [], [], []\n",
    "\n",
    "temps_MM = []\n",
    "temps_estim = []\n",
    "temps_inference = []\n",
    "random_state = 100\n",
    "R1, R2 = [], []\n",
    "for b in beta:\n",
    "    # on crée les données synthétiques\n",
    "    M = mean_matrix(p, b, t, random_seed=random_state)\n",
    "    \n",
    "    X, y_bs = gaussian_synthetic_data(n, p, m, t, n_t, M, random_state)\n",
    "    X_test, y_test = gaussian_synthetic_data(nt, p, m, 1, n_t_test, [M[1]], random_state)\n",
    "#     M1 = empirical_mean_old(1, 1, [[np.concatenate((X[0][0],X[0][1]), axis=1)]], p, [[sum(n_t[0])]])[0]\n",
    "#     M2 = empirical_mean_old(1, 1, [[np.concatenate((X[1][0],X[1][1]), axis=1)]], p, [[sum(n_t[1])]])[0]\n",
    "#     MM = np.array([[(M1.T@M1)[0][0], (M1.T@M2)[0][0]],[(M2.T@M1)[0][0], (M2.T@M2)[0][0]]])\n",
    "#     matprint(MM)\n",
    "    \n",
    "    #     X = normalisation(X, p, True)\n",
    "    X_test = normalisation(X_test, p, False)\n",
    "    # pas besoin de z-normalisataion puisque la moyenne des données est nulle et l'écart type est 1\n",
    "    # on divise seulement par sqrt(p) parce que c'est cool \n",
    "\n",
    "# DEBUG\n",
    "    #MM1, diag1 = empirical_mean_old(1, m, X, p, [n_t[0]])\n",
    "    # On calcule les moyennes empiriques\n",
    "    \n",
    "    t0 = time()\n",
    "    MM = empirical_mean(t, m, X, p, n_t)\n",
    "    print(\"MM : \\n\")\n",
    "    temps_MM.append(time() - t0)\n",
    "    matprint(MM)\n",
    "    # On time le calcul de MTM\n",
    "    \n",
    "    r1, r2 = bayes_optimal(n_t, MM)\n",
    "    R1.append(r1)\n",
    "    R2.append(r2)\n",
    "\n",
    "    t0 = time()\n",
    "    c = estimate_c(n_t, n, t, m)\n",
    "    print(\"c : \")\n",
    "    print(c)\n",
    "    c0 = p/n\n",
    "    Dc = np.diag(c)\n",
    "    correlation_matrix = compute_M_cal(n, p, Dc, MM, display=True)\n",
    "    matprint(correlation_matrix)\n",
    "    y = label_evaluation(t,m,Dc,MM, c0)\n",
    "    temps_estim.append(time() - t0)\n",
    "    # On time l'estimation de y, M, et c\n",
    "    \n",
    "    M_true = true_mean(M, p, t, m)\n",
    "    MM_true = M_true.T@M_true\n",
    "    print(\"MM True = \")\n",
    "    print(MM_true)\n",
    "    correlation_matrix_true = compute_M_cal(n, p, Dc, MM_true, display=False)\n",
    "    matprint(correlation_matrix_true)\n",
    "    print(\"c0 : \", c0)\n",
    "    y_true = label_evaluation(t,m,Dc,MM_true, c0)\n",
    "    print(\"y = \")\n",
    "    matprint(y)\n",
    "    print(\"y true = \")\n",
    "    matprint(y_true)\n",
    "    \n",
    "    X_train_aggregated = aggregate_array(X, p, n, t, m)\n",
    "    X_test_aggregated = aggregate_array(X_test, p, nt, 1, m)\n",
    "    \n",
    "    \n",
    "    t0 = time()\n",
    "    J = create_J(m, t, n, n_t)\n",
    "    V = compute_V(y, X_train_aggregated, J, n)\n",
    "    \n",
    "#     debug_histogram(V_true, X_test_aggregated, n_t_test)\n",
    "#     print(\"V = \")\n",
    "    # pour l'instant pas vraiment utilisé\n",
    "    m_t = create_mt(t, m, y, Dc, correlation_matrix)\n",
    "    erreur_empirique = compute_error_rate(X_test, V, m_t, 1, m, n_t_test, Dc, c0)\n",
    "    temps_inference.append(time() - t0)\n",
    "    \n",
    "    V_true = compute_V(y_true, X_train_aggregated, J, n)\n",
    "    VTX = V.T@X_test_aggregated\n",
    "    var.append(np.var(VTX))\n",
    "    m_t_true = create_mt(t, m, y_true, Dc, correlation_matrix_true)\n",
    "    erreur_theorique = error_rate(t, m,  Dc, MM_true, c0)[0][0]\n",
    "    emp_rate.append(erreur_empirique)\n",
    "    th_rate.append(erreur_theorique)\n",
    "    relative_error_rate.append(abs(erreur_empirique - erreur_theorique)/erreur_theorique)\n",
    "    \n",
    "    print(emp_rate, th_rate)\n",
    "    \n",
    "erreur_relative_moy = np.mean(relative_error_rate)\n",
    "print(f\"Erreur relative moyenne pour n={n} et p={p}, moyennée sur 10 simulations\")\n",
    "print(erreur_relative_moy)\n",
    "\n",
    "print(f\"Temps moyen pour (resp.) le calcul des produits scalaires entre moyennes empiriques, l'estimation de M cursive, c et les labels optimaux y, et l'inférence : {np.mean(temps_MM)}, {np.mean(temps_estim)}, {np.mean(temps_inference)}\")\n",
    "\n",
    "print(f\"Temps total moyen : {round(np.mean(temps_MM)+np.mean(temps_estim)+np.mean(temps_inference), 3)} s\")\n",
    "\n",
    "lower = np.array(emp_rate) - np.array(var)\n",
    "upper = np.array(emp_rate) + np.array(var)\n",
    "plt.plot(beta, emp_rate, '-o', label='empirical rate')\n",
    "plt.plot(beta, th_rate, '-o', label='theoritical rate')\n",
    "plt.plot(beta, R1, '-o', label='optimal rate')\n",
    "plt.fill_between(beta, lower, upper, alpha=0.2, label=\"variance\")\n",
    "plt.legend()\n",
    "plt.title(\"2-class Gaussian mixture transfer error rate\")\n",
    "plt.xlabel(\"Task relatedness (beta)\")\n",
    "plt.ylabel(\"error rate\")\n",
    "plt.grid()\n",
    "plt.show()"
   ]
  },
  {
   "cell_type": "code",
   "execution_count": 179,
   "metadata": {},
   "outputs": [
    {
     "data": {
      "image/png": "[encoded data removed]",
      "text/plain": [
       "<Figure size 432x288 with 1 Axes>"
      ]
     },
     "metadata": {
      "needs_background": "light"
     },
     "output_type": "display_data"
    }
   ],
   "source": [
    "print(R1)"
   ]
  },
  {
   "cell_type": "code",
   "execution_count": 70,
   "metadata": {},
   "outputs": [
    {
     "name": "stdout",
     "output_type": "stream",
     "text": [
      "1600\n",
      "c0 :  0.0625\n",
      "[0.25  0.25  0.125 0.125 0.125 0.125]\n",
      "y true = \n",
      " 1.88235  \n",
      "-1.88235  \n",
      " 1.88235  \n",
      "-1.88235  \n",
      " 1.88235  \n",
      "-1.88235  \n"
     ]
    }
   ],
   "source": [
    "n = sum(list(map(sum, (n_t[i] for i in range(t)))))\n",
    "print(n)\n",
    "print(\"c0 : \", c0)\n",
    "print(c)\n",
    "print(\"y true = \")\n",
    "matprint(y_true)"
   ]
  },
  {
   "cell_type": "markdown",
   "metadata": {},
   "source": [
    "Results when doubling n and p proportionately: \n",
    "[0.244, 0.2395, 0.23624999999999996, 0.23624999999999996, 0.22999999999999998, 0.2195, 0.21050000000000002, 0.195, 0.17700000000000005, 0.15674999999999994] \n",
    "[0.23975006109347674, 0.23910189492427802, 0.23712834068265354, 0.23373859215337528, 0.2287682743173643, 0.22195637062121154, 0.2129043075952785, 0.20100393554334806, 0.18530737544421827, 0.16428249171959852]"
   ]
  },
  {
   "cell_type": "code",
   "execution_count": 45,
   "metadata": {},
   "outputs": [
    {
     "name": "stdout",
     "output_type": "stream",
     "text": [
      "Erreur relative moyenne pour n=2100 et p=100, moyennée sur 10 simulations et 2000 données de test : 0.061\n",
      "En doublant n et p proportionnellement, l'erreur relative moyenne est divisé par un facteur 1.1340689783487148\n",
      "Temps moyen pour (resp.) le calcul des produits scalaires entre moyennes empiriques, l'estimation de M cursive, c et les labels optimaux y, et l'inférence : 0.00179 s, 0.20033 s, 0.04168 s.\n",
      "Le temps total moyen est ainsi de 0.20212 s\n"
     ]
    },
    {
     "data": {
      "image/png": "[encoded data removed]",
      "text/plain": [
       "<Figure size 432x288 with 1 Axes>"
      ]
     },
     "metadata": {
      "needs_background": "light"
     },
     "output_type": "display_data"
    }
   ],
   "source": [
    "erreur_relative_prec = 0.054\n",
    "erreur_relative_moy = np.mean(relative_error_rate)\n",
    "print(f\"Erreur relative moyenne pour n={n} et p={p}, moyennée sur 10 simulations et {nt} données de test : {round(erreur_relative_moy, 3)}\")\n",
    "\n",
    "print(f\"En doublant n et p proportionnellement, l'erreur relative moyenne est divisé par un facteur {(1/(erreur_relative_prec/erreur_relative_moy))}\")\n",
    "\n",
    "\n",
    "print(f\"Temps moyen pour (resp.) le calcul des produits scalaires entre moyennes empiriques, l'estimation de M cursive, c et les labels optimaux y, et l'inférence : {round(np.mean(temps_MM), 5)} s, {round(np.mean(temps_estim), 5)} s, {round(np.mean(temps_inference), 5)} s.\\nLe temps total moyen est ainsi de {round(np.mean(temps_estim) + np.mean(temps_MM) , 5)} s\")\n",
    "\n",
    "lower = np.array(emp_rate) - np.array(var)\n",
    "upper = np.array(emp_rate) + np.array(var)\n",
    "plt.plot(beta, emp_rate, '-o', label='empirical rate')\n",
    "plt.plot(beta, th_rate, '-o', label='theoritical rate')\n",
    "# plt.fill_between(beta, lower, upper, alpha=0.2, label=\"variance\")\n",
    "plt.legend()\n",
    "plt.title(f\"2-class Gaussian mixture transfer error rate for n={n} and p={p}\")\n",
    "plt.xlabel(\"Task relatedness (beta)\")\n",
    "plt.ylabel(\"error rate\")\n",
    "plt.grid()\n",
    "plt.show()"
   ]
  },
  {
   "cell_type": "code",
   "execution_count": 133,
   "metadata": {},
   "outputs": [],
   "source": [
    "%matplotlib qt\n",
    "debug_histogram(V, X_test_aggregated.T, n_t_test)"
   ]
  },
  {
   "cell_type": "markdown",
   "metadata": {},
   "source": [
    "# Adding tasks"
   ]
  },
  {
   "cell_type": "code",
   "execution_count": 80,
   "metadata": {},
   "outputs": [
    {
     "name": "stdout",
     "output_type": "stream",
     "text": [
      "random\n",
      "beta 0.5434049417909654\n",
      "random\n",
      "beta 0.5434049417909654\n"
     ]
    },
    {
     "data": {
      "image/png": "[encoded data removed]",
      "text/plain": [
       "<Figure size 432x288 with 1 Axes>"
      ]
     },
     "metadata": {
      "needs_background": "light"
     },
     "output_type": "display_data"
    },
    {
     "data": {
      "image/png": "[encoded data removed]",
      "text/plain": [
       "<Figure size 432x288 with 1 Axes>"
      ]
     },
     "metadata": {
      "needs_background": "light"
     },
     "output_type": "display_data"
    },
    {
     "name": "stdout",
     "output_type": "stream",
     "text": [
      "arg q-func : \n",
      "[[0.58181058]]\n",
      "random\n",
      "beta 0.5434049417909654\n",
      "random\n",
      "beta 0.27836938509379616\n",
      "random\n",
      "beta 0.4245175907491331\n"
     ]
    },
    {
     "data": {
      "image/png": "[encoded data removed]",
      "text/plain": [
       "<Figure size 432x288 with 1 Axes>"
      ]
     },
     "metadata": {
      "needs_background": "light"
     },
     "output_type": "display_data"
    },
    {
     "data": {
      "image/png": "[encoded data removed]",
      "text/plain": [
       "<Figure size 432x288 with 1 Axes>"
      ]
     },
     "metadata": {
      "needs_background": "light"
     },
     "output_type": "display_data"
    },
    {
     "name": "stdout",
     "output_type": "stream",
     "text": [
      "arg q-func : \n",
      "[[0.96227603]]\n",
      "random\n",
      "beta 0.5434049417909654\n",
      "random\n",
      "beta 0.27836938509379616\n",
      "random\n",
      "beta 0.4245175907491331\n",
      "random\n",
      "beta 0.8447761323199037\n",
      "random\n",
      "beta 0.004718856190972565\n"
     ]
    },
    {
     "data": {
      "image/png": "[encoded data removed]",
      "text/plain": [
       "<Figure size 432x288 with 1 Axes>"
      ]
     },
     "metadata": {
      "needs_background": "light"
     },
     "output_type": "display_data"
    },
    {
     "data": {
      "image/png": "[encoded data removed]",
      "text/plain": [
       "<Figure size 432x288 with 1 Axes>"
      ]
     },
     "metadata": {
      "needs_background": "light"
     },
     "output_type": "display_data"
    },
    {
     "name": "stdout",
     "output_type": "stream",
     "text": [
      "arg q-func : \n",
      "[[0.97432961]]\n",
      "random\n",
      "beta 0.5434049417909654\n",
      "random\n",
      "beta 0.27836938509379616\n",
      "random\n",
      "beta 0.4245175907491331\n",
      "random\n",
      "beta 0.8447761323199037\n",
      "random\n",
      "beta 0.004718856190972565\n",
      "random\n",
      "beta 0.12156912078311422\n",
      "random\n",
      "beta 0.6707490847267786\n"
     ]
    },
    {
     "data": {
      "image/png": "[encoded data removed]",
      "text/plain": [
       "<Figure size 432x288 with 1 Axes>"
      ]
     },
     "metadata": {
      "needs_background": "light"
     },
     "output_type": "display_data"
    },
    {
     "data": {
      "image/png": "[encoded data removed]",
      "text/plain": [
       "<Figure size 432x288 with 1 Axes>"
      ]
     },
     "metadata": {
      "needs_background": "light"
     },
     "output_type": "display_data"
    },
    {
     "name": "stdout",
     "output_type": "stream",
     "text": [
      "arg q-func : \n",
      "[[0.98367006]]\n",
      "random\n",
      "beta 0.5434049417909654\n",
      "random\n",
      "beta 0.27836938509379616\n",
      "random\n",
      "beta 0.4245175907491331\n",
      "random\n",
      "beta 0.8447761323199037\n",
      "random\n",
      "beta 0.004718856190972565\n",
      "random\n",
      "beta 0.12156912078311422\n",
      "random\n",
      "beta 0.6707490847267786\n",
      "random\n",
      "beta 0.8258527551050476\n",
      "random\n",
      "beta 0.13670658968495297\n"
     ]
    },
    {
     "data": {
      "image/png": "[encoded data removed]",
      "text/plain": [
       "<Figure size 432x288 with 1 Axes>"
      ]
     },
     "metadata": {
      "needs_background": "light"
     },
     "output_type": "display_data"
    },
    {
     "data": {
      "image/png": "[encoded data removed]",
      "text/plain": [
       "<Figure size 432x288 with 1 Axes>"
      ]
     },
     "metadata": {
      "needs_background": "light"
     },
     "output_type": "display_data"
    },
    {
     "name": "stdout",
     "output_type": "stream",
     "text": [
      "arg q-func : \n",
      "[[0.98684725]]\n",
      "Temps moyen pour (resp.) le calcul des produits scalaires entre moyennes empiriques, l'estimation de M cursive, c et les labels optimaux y, et l'inférence : 0.039150238037109375, 0.0003743171691894531, 0.07397079467773438\n"
     ]
    },
    {
     "data": {
      "image/png": "[encoded data removed]",
      "text/plain": [
       "<Figure size 432x288 with 1 Axes>"
      ]
     },
     "metadata": {
      "needs_background": "light"
     },
     "output_type": "display_data"
    }
   ],
   "source": [
    "# %%prun -s cumulative\n",
    "# profiling\n",
    "p = 100\n",
    "m = 2\n",
    "# on ajoute des tâches 2 par 2\n",
    "nb_tasks = 6\n",
    "t = range(2,2*nb_tasks, 2)\n",
    "multiple = 1\n",
    "to_add = [1000, 1000], [50, 50]\n",
    "n_t = []\n",
    "n_t_test = [[500, 500]]\n",
    "nt = sum(n_t_test[0])\n",
    "# la liste temps comprendra le temps pour le training, le calcul de M et y et le temps d'inférence\n",
    "emp_rate, th_rate, var, relative_error_rate = [], [], [], []\n",
    "\n",
    "# temps\n",
    "temps_MM = 0\n",
    "temps_estim = 0\n",
    "temps_inference = 0\n",
    "t_total_nd = []\n",
    "random_state = 100\n",
    "\n",
    "# données envoyées\n",
    "data_sent_nd = []\n",
    "task_target = 1\n",
    "M = mean_matrix(p, beta=None, k=2, random_seed=random_state, random=True)\n",
    "X_test, y_test = gaussian_synthetic_data(nt, p, m, 1, n_t_test, [M[task_target]], random_state)\n",
    "X_test = normalisation(X_test, p)\n",
    "\n",
    "for b in t:\n",
    "    n_t.append(to_add[0])\n",
    "    n_t.append(to_add[1])\n",
    "    \n",
    "#     print(b)\n",
    "#     print(n_t)\n",
    "    n = sum(list(map(sum, (n_t[i] for i in range(b)))))\n",
    "#     print(n)\n",
    "    # on crée les données synthétiques\n",
    "    M = mean_matrix(p, beta=None, k=b, random_seed=random_state, random=True)\n",
    "       \n",
    "    X, y_bs = gaussian_synthetic_data(n, p, m, b, n_t, M, random_state)\n",
    "\n",
    "# DEBUG\n",
    "    #MM1, diag1 = empirical_mean_old(1, m, X, p, [n_t[0]])\n",
    "    # On calcule les moyennes empiriques\n",
    "    \n",
    "    t0 = time()\n",
    "    MM = empirical_mean(b, m, X, p, n_t)\n",
    "    temps_MM = time() - t0\n",
    "    # On time le calcul de MTM\n",
    "\n",
    "    t0 = time()\n",
    "    c = estimate_c(n_t, n, b, m)\n",
    "    c0 = p/n\n",
    "    Dc = np.diag(c)\n",
    "    correlation_matrix = compute_M_cal(n, p, Dc, MM, display=False)\n",
    "    y = label_evaluation(b,m,Dc,MM, c0, task_target=task_target)\n",
    "    temps_estim = time() - t0\n",
    "    # On time l'estimation de y, M, et c\n",
    "    \n",
    "    M_true = true_mean(M, p, b, m)\n",
    "    MM_true = M_true.T@M_true\n",
    "    correlation_matrix_true = compute_M_cal(n, p, Dc, MM_true, display=True)\n",
    "    y_true = label_evaluation(b,m,Dc,MM_true, c0, task_target=task_target)\n",
    "    X = normalisation(X, p)\n",
    "    \n",
    "    X_train_aggregated = aggregate_array(X, p, n, b, m)\n",
    "    X_test_aggregated = aggregate_array(X_test, p, nt, 1, m)\n",
    "    \n",
    "    m_t_true = create_mt(b, m, y_true, Dc, correlation_matrix_true)\n",
    "    t0 = time()\n",
    "    J = create_J(m, b, n, n_t)\n",
    "    V = compute_V(y, X_train_aggregated, J, n)\n",
    "    V_true = compute_V(y_true, X_train_aggregated, J, n)\n",
    "    m_t = create_mt(b, m, y, Dc, correlation_matrix)\n",
    "    erreur_empirique = compute_error_rate(X_test, V, m_t, 1, m, n_t_test, Dc, c0)\n",
    "    temps_inference = time() - t0\n",
    "    # On time le temps d'inférence \n",
    "    \n",
    "    \n",
    "#     debug_histogram(V_true, X_test_aggregated, n_t_test)\n",
    "#     print(\"V = \")\n",
    "    VTX = V.T@X_test_aggregated\n",
    "    debug_histogram(V, X_test_aggregated, n_t_test)\n",
    "    var.append(np.var(VTX))\n",
    "    \n",
    "    erreur_theorique = error_rate(b, m,  Dc, MM_true, c0, task_target=task_target)[0][0]\n",
    "    emp_rate.append(erreur_empirique)\n",
    "    th_rate.append(erreur_theorique)\n",
    "    relative_error_rate.append(abs(erreur_empirique - erreur_theorique)/erreur_theorique)\n",
    "    \n",
    "    t_total_nd.append(temps_MM + temps_estim)\n",
    "    data_sent_nd.append(n)\n",
    "    \n",
    "# erreur_relative_moy = np.mean(relative_error_rate)\n",
    "# print(f\"Erreur relative moyenne pour n={n} et p={p}, moyennée sur 10 simulations\")\n",
    "# print(erreur_relative_moy)\n",
    "\n",
    "print(f\"Temps moyen pour (resp.) le calcul des produits scalaires entre moyennes empiriques, l'estimation de M cursive, c et les labels optimaux y, et l'inférence : {np.mean(temps_MM)}, {np.mean(temps_estim)}, {np.mean(temps_inference)}\")\n",
    "\n",
    "lower = np.array(emp_rate) - np.array(var)\n",
    "upper = np.array(emp_rate) + np.array(var)\n",
    "plt.plot(t, emp_rate, '-o', label='empirical rate')\n",
    "plt.plot(t, th_rate, '-o', label='theoritical rate')\n",
    "plt.fill_between(t, lower, upper, alpha=0.2, label=\"variance\")\n",
    "plt.legend()\n",
    "plt.title(\"2-class Gaussian mixture transfer error rate\")\n",
    "plt.xlabel(\"Added Task\")\n",
    "plt.ylabel(\"error rate\")\n",
    "plt.grid()\n",
    "plt.show()"
   ]
  },
  {
   "cell_type": "code",
   "execution_count": 72,
   "metadata": {
    "collapsed": true
   },
   "outputs": [
    {
     "ename": "ValueError",
     "evalue": "x and y must have same first dimension, but have shapes (9,) and (10,)",
     "output_type": "error",
     "traceback": [
      "\u001b[0;31m---------------------------------------------------------------------------\u001b[0m",
      "\u001b[0;31mValueError\u001b[0m                                Traceback (most recent call last)",
      "\u001b[0;32m<ipython-input-72-324dd024ff7e>\u001b[0m in \u001b[0;36m<module>\u001b[0;34m\u001b[0m\n\u001b[1;32m      3\u001b[0m \u001b[0mupper\u001b[0m \u001b[0;34m=\u001b[0m \u001b[0mnp\u001b[0m\u001b[0;34m.\u001b[0m\u001b[0marray\u001b[0m\u001b[0;34m(\u001b[0m\u001b[0memp_rate\u001b[0m\u001b[0;34m)\u001b[0m \u001b[0;34m+\u001b[0m \u001b[0mnp\u001b[0m\u001b[0;34m.\u001b[0m\u001b[0marray\u001b[0m\u001b[0;34m(\u001b[0m\u001b[0mvar\u001b[0m\u001b[0;34m)\u001b[0m\u001b[0;34m\u001b[0m\u001b[0;34m\u001b[0m\u001b[0m\n\u001b[1;32m      4\u001b[0m \u001b[0mplt\u001b[0m\u001b[0;34m.\u001b[0m\u001b[0mplot\u001b[0m\u001b[0;34m(\u001b[0m\u001b[0mrange\u001b[0m\u001b[0;34m(\u001b[0m\u001b[0mlen\u001b[0m\u001b[0;34m(\u001b[0m\u001b[0memp_rate\u001b[0m\u001b[0;34m)\u001b[0m\u001b[0;34m)\u001b[0m\u001b[0;34m,\u001b[0m \u001b[0memp_rate\u001b[0m\u001b[0;34m,\u001b[0m \u001b[0;34m'-o'\u001b[0m\u001b[0;34m,\u001b[0m \u001b[0mlabel\u001b[0m\u001b[0;34m=\u001b[0m\u001b[0;34m'empirical rate'\u001b[0m\u001b[0;34m)\u001b[0m\u001b[0;34m\u001b[0m\u001b[0;34m\u001b[0m\u001b[0m\n\u001b[0;32m----> 5\u001b[0;31m \u001b[0mplt\u001b[0m\u001b[0;34m.\u001b[0m\u001b[0mplot\u001b[0m\u001b[0;34m(\u001b[0m\u001b[0mrange\u001b[0m\u001b[0;34m(\u001b[0m\u001b[0mlen\u001b[0m\u001b[0;34m(\u001b[0m\u001b[0memp_rate\u001b[0m\u001b[0;34m)\u001b[0m\u001b[0;34m)\u001b[0m\u001b[0;34m,\u001b[0m \u001b[0mth_rate\u001b[0m\u001b[0;34m,\u001b[0m \u001b[0;34m'-o'\u001b[0m\u001b[0;34m,\u001b[0m \u001b[0mlabel\u001b[0m\u001b[0;34m=\u001b[0m\u001b[0;34m'theoritical rate'\u001b[0m\u001b[0;34m)\u001b[0m\u001b[0;34m\u001b[0m\u001b[0;34m\u001b[0m\u001b[0m\n\u001b[0m\u001b[1;32m      6\u001b[0m \u001b[0mplt\u001b[0m\u001b[0;34m.\u001b[0m\u001b[0mfill_between\u001b[0m\u001b[0;34m(\u001b[0m\u001b[0mrange\u001b[0m\u001b[0;34m(\u001b[0m\u001b[0mlen\u001b[0m\u001b[0;34m(\u001b[0m\u001b[0memp_rate\u001b[0m\u001b[0;34m)\u001b[0m\u001b[0;34m)\u001b[0m\u001b[0;34m,\u001b[0m \u001b[0mlower\u001b[0m\u001b[0;34m,\u001b[0m \u001b[0mupper\u001b[0m\u001b[0;34m,\u001b[0m \u001b[0malpha\u001b[0m\u001b[0;34m=\u001b[0m\u001b[0;36m0.2\u001b[0m\u001b[0;34m,\u001b[0m \u001b[0mlabel\u001b[0m\u001b[0;34m=\u001b[0m\u001b[0;34m\"variance\"\u001b[0m\u001b[0;34m)\u001b[0m\u001b[0;34m\u001b[0m\u001b[0;34m\u001b[0m\u001b[0m\n\u001b[1;32m      7\u001b[0m \u001b[0mplt\u001b[0m\u001b[0;34m.\u001b[0m\u001b[0mlegend\u001b[0m\u001b[0;34m(\u001b[0m\u001b[0;34m)\u001b[0m\u001b[0;34m\u001b[0m\u001b[0;34m\u001b[0m\u001b[0m\n",
      "\u001b[0;32m~/anaconda3/lib/python3.7/site-packages/matplotlib/pyplot.py\u001b[0m in \u001b[0;36mplot\u001b[0;34m(scalex, scaley, data, *args, **kwargs)\u001b[0m\n\u001b[1;32m   2840\u001b[0m     return gca().plot(\n\u001b[1;32m   2841\u001b[0m         \u001b[0;34m*\u001b[0m\u001b[0margs\u001b[0m\u001b[0;34m,\u001b[0m \u001b[0mscalex\u001b[0m\u001b[0;34m=\u001b[0m\u001b[0mscalex\u001b[0m\u001b[0;34m,\u001b[0m \u001b[0mscaley\u001b[0m\u001b[0;34m=\u001b[0m\u001b[0mscaley\u001b[0m\u001b[0;34m,\u001b[0m\u001b[0;34m\u001b[0m\u001b[0;34m\u001b[0m\u001b[0m\n\u001b[0;32m-> 2842\u001b[0;31m         **({\"data\": data} if data is not None else {}), **kwargs)\n\u001b[0m\u001b[1;32m   2843\u001b[0m \u001b[0;34m\u001b[0m\u001b[0m\n\u001b[1;32m   2844\u001b[0m \u001b[0;34m\u001b[0m\u001b[0m\n",
      "\u001b[0;32m~/anaconda3/lib/python3.7/site-packages/matplotlib/axes/_axes.py\u001b[0m in \u001b[0;36mplot\u001b[0;34m(self, scalex, scaley, data, *args, **kwargs)\u001b[0m\n\u001b[1;32m   1741\u001b[0m         \"\"\"\n\u001b[1;32m   1742\u001b[0m         \u001b[0mkwargs\u001b[0m \u001b[0;34m=\u001b[0m \u001b[0mcbook\u001b[0m\u001b[0;34m.\u001b[0m\u001b[0mnormalize_kwargs\u001b[0m\u001b[0;34m(\u001b[0m\u001b[0mkwargs\u001b[0m\u001b[0;34m,\u001b[0m \u001b[0mmlines\u001b[0m\u001b[0;34m.\u001b[0m\u001b[0mLine2D\u001b[0m\u001b[0;34m)\u001b[0m\u001b[0;34m\u001b[0m\u001b[0;34m\u001b[0m\u001b[0m\n\u001b[0;32m-> 1743\u001b[0;31m         \u001b[0mlines\u001b[0m \u001b[0;34m=\u001b[0m \u001b[0;34m[\u001b[0m\u001b[0;34m*\u001b[0m\u001b[0mself\u001b[0m\u001b[0;34m.\u001b[0m\u001b[0m_get_lines\u001b[0m\u001b[0;34m(\u001b[0m\u001b[0;34m*\u001b[0m\u001b[0margs\u001b[0m\u001b[0;34m,\u001b[0m \u001b[0mdata\u001b[0m\u001b[0;34m=\u001b[0m\u001b[0mdata\u001b[0m\u001b[0;34m,\u001b[0m \u001b[0;34m**\u001b[0m\u001b[0mkwargs\u001b[0m\u001b[0;34m)\u001b[0m\u001b[0;34m]\u001b[0m\u001b[0;34m\u001b[0m\u001b[0;34m\u001b[0m\u001b[0m\n\u001b[0m\u001b[1;32m   1744\u001b[0m         \u001b[0;32mfor\u001b[0m \u001b[0mline\u001b[0m \u001b[0;32min\u001b[0m \u001b[0mlines\u001b[0m\u001b[0;34m:\u001b[0m\u001b[0;34m\u001b[0m\u001b[0;34m\u001b[0m\u001b[0m\n\u001b[1;32m   1745\u001b[0m             \u001b[0mself\u001b[0m\u001b[0;34m.\u001b[0m\u001b[0madd_line\u001b[0m\u001b[0;34m(\u001b[0m\u001b[0mline\u001b[0m\u001b[0;34m)\u001b[0m\u001b[0;34m\u001b[0m\u001b[0;34m\u001b[0m\u001b[0m\n",
      "\u001b[0;32m~/anaconda3/lib/python3.7/site-packages/matplotlib/axes/_base.py\u001b[0m in \u001b[0;36m__call__\u001b[0;34m(self, data, *args, **kwargs)\u001b[0m\n\u001b[1;32m    271\u001b[0m                 \u001b[0mthis\u001b[0m \u001b[0;34m+=\u001b[0m \u001b[0margs\u001b[0m\u001b[0;34m[\u001b[0m\u001b[0;36m0\u001b[0m\u001b[0;34m]\u001b[0m\u001b[0;34m,\u001b[0m\u001b[0;34m\u001b[0m\u001b[0;34m\u001b[0m\u001b[0m\n\u001b[1;32m    272\u001b[0m                 \u001b[0margs\u001b[0m \u001b[0;34m=\u001b[0m \u001b[0margs\u001b[0m\u001b[0;34m[\u001b[0m\u001b[0;36m1\u001b[0m\u001b[0;34m:\u001b[0m\u001b[0;34m]\u001b[0m\u001b[0;34m\u001b[0m\u001b[0;34m\u001b[0m\u001b[0m\n\u001b[0;32m--> 273\u001b[0;31m             \u001b[0;32myield\u001b[0m \u001b[0;32mfrom\u001b[0m \u001b[0mself\u001b[0m\u001b[0;34m.\u001b[0m\u001b[0m_plot_args\u001b[0m\u001b[0;34m(\u001b[0m\u001b[0mthis\u001b[0m\u001b[0;34m,\u001b[0m \u001b[0mkwargs\u001b[0m\u001b[0;34m)\u001b[0m\u001b[0;34m\u001b[0m\u001b[0;34m\u001b[0m\u001b[0m\n\u001b[0m\u001b[1;32m    274\u001b[0m \u001b[0;34m\u001b[0m\u001b[0m\n\u001b[1;32m    275\u001b[0m     \u001b[0;32mdef\u001b[0m \u001b[0mget_next_color\u001b[0m\u001b[0;34m(\u001b[0m\u001b[0mself\u001b[0m\u001b[0;34m)\u001b[0m\u001b[0;34m:\u001b[0m\u001b[0;34m\u001b[0m\u001b[0;34m\u001b[0m\u001b[0m\n",
      "\u001b[0;32m~/anaconda3/lib/python3.7/site-packages/matplotlib/axes/_base.py\u001b[0m in \u001b[0;36m_plot_args\u001b[0;34m(self, tup, kwargs)\u001b[0m\n\u001b[1;32m    397\u001b[0m \u001b[0;34m\u001b[0m\u001b[0m\n\u001b[1;32m    398\u001b[0m         \u001b[0;32mif\u001b[0m \u001b[0mx\u001b[0m\u001b[0;34m.\u001b[0m\u001b[0mshape\u001b[0m\u001b[0;34m[\u001b[0m\u001b[0;36m0\u001b[0m\u001b[0;34m]\u001b[0m \u001b[0;34m!=\u001b[0m \u001b[0my\u001b[0m\u001b[0;34m.\u001b[0m\u001b[0mshape\u001b[0m\u001b[0;34m[\u001b[0m\u001b[0;36m0\u001b[0m\u001b[0;34m]\u001b[0m\u001b[0;34m:\u001b[0m\u001b[0;34m\u001b[0m\u001b[0;34m\u001b[0m\u001b[0m\n\u001b[0;32m--> 399\u001b[0;31m             raise ValueError(f\"x and y must have same first dimension, but \"\n\u001b[0m\u001b[1;32m    400\u001b[0m                              f\"have shapes {x.shape} and {y.shape}\")\n\u001b[1;32m    401\u001b[0m         \u001b[0;32mif\u001b[0m \u001b[0mx\u001b[0m\u001b[0;34m.\u001b[0m\u001b[0mndim\u001b[0m \u001b[0;34m>\u001b[0m \u001b[0;36m2\u001b[0m \u001b[0;32mor\u001b[0m \u001b[0my\u001b[0m\u001b[0;34m.\u001b[0m\u001b[0mndim\u001b[0m \u001b[0;34m>\u001b[0m \u001b[0;36m2\u001b[0m\u001b[0;34m:\u001b[0m\u001b[0;34m\u001b[0m\u001b[0;34m\u001b[0m\u001b[0m\n",
      "\u001b[0;31mValueError\u001b[0m: x and y must have same first dimension, but have shapes (9,) and (10,)"
     ]
    }
   ],
   "source": [
    "lower = np.array(emp_rate) - np.array(var)\n",
    "upper = np.array(emp_rate) + np.array(var)\n",
    "plt.plot(range(len(emp_rate)), emp_rate, '-o', label='empirical rate')\n",
    "plt.plot(range(len(emp_rate)), th_rate, '-o', label='theoritical rate')\n",
    "plt.fill_between(range(len(emp_rate)), lower, upper, alpha=0.2, label=\"variance\")\n",
    "plt.legend()\n",
    "plt.title(\"2-class Gaussian mixture transfer error rate\")\n",
    "plt.xlabel(\"Added Task\")\n",
    "plt.ylabel(\"error rate\")\n",
    "plt.grid()\n",
    "plt.show()"
   ]
  },
  {
   "cell_type": "markdown",
   "metadata": {},
   "source": [
    "# Algorithme distribué k tâches 2 classes\n",
    "Bien que certains résultats du précedent algorithmes sont particulèrement inquiétants, essayons de voir comment distribuer l'algorithme sur plusieurs serveurs.\n",
    "\n",
    "Par exemple un serveur demande les moyennes des autres serveurs pour pouvoir obtenir des meilleurs résultats en calculant la moyenne des ses données et la moyenne de toutes les moyennes avant de le renvoyer au serveur principal qui mettra à jour le modèle.\n",
    "\n",
    "Prendre des données synthétiques pour la 1ère tâche à 2 classes, puis rappatrier une ou plusieurs moyennes pour les autres tasks. \n",
    "Faire des comparaisons, avec et sans federated learning."
   ]
  },
  {
   "cell_type": "markdown",
   "metadata": {},
   "source": [
    "### k serveurs \n",
    "#### Federated Learning 2 classes k taches\n",
    "Imaginons 1 Serveur central et k clients. L'un cherche à classifier un certain type d'images, l'autre un deuxième type d'images. Les deux clients sont confrontés un problème de classification binaire sur des images sensiblement similaire (quantifié par le paramètre $\\beta$), et peuvent donc s'aider du training de l'autre pour affiner leur classification.\n",
    "\n",
    "Le premier client entraîne son modèle de classification sur son jeu de données locales. Il espère obtenir de meilleures performances à l'aide du transfer Learning. Les deux clients envoient alors les moyennes empiriques calculées sur leurs donnée locales, au serveur central. Le serveur peut alors calculé la matrice de corrélation $\\mathcal{M}$ et les labels optimaux $\\tilde{y}$. Les clients recoivent les labels optimaux, et peuvent maintenant recalculer le vecteur propre $V$ de $\\displaystyle\\frac{X_ty_ty_t^TX_t^T}{np}$ et inférer sur de nouvelles données $x$."
   ]
  },
  {
   "cell_type": "markdown",
   "metadata": {},
   "source": [
    "Calcul des moyennes empiriques, et calcul de la matrice $M\\in\\mathbb{R}^{p\\times 2k}$\n",
    "$$\\frac{1}{n_{tj}}X_{tj}\\mathbb{1}_{n_{tj}}=\\frac{1}{n_{tj}}\\sum_{l=1}^{n_{tj}}x_{tl}^{(j)}$$\n",
    "\n",
    "Chaque client calcule en local les moyennes empiriques des données et les envoie au serveur central.\n",
    "\n",
    "De la même façcon que précédemment les données de chaque client (=chaque tâche) devront respecter les conditions de non-trivialité."
   ]
  },
  {
   "cell_type": "code",
   "execution_count": 90,
   "metadata": {},
   "outputs": [],
   "source": [
    "def empirical_mean_old(nb_tasks, nb_classes, X, p, n_t):\n",
    "    \"\"\"\n",
    "    compute empirical mean for data \n",
    "    retourne la matrice M de taille px(2*k) et un vecteur contenant les coefficients diagonaux\n",
    "    nb_classes=2 (toujours)\n",
    "    \n",
    "    Complexité : \n",
    "    -------------\n",
    "    O(k*p*n_tl) = O(n*p)\n",
    "    \"\"\"\n",
    "    M = np.empty((nb_classes*nb_tasks, p))\n",
    "    diag = []\n",
    "    for t in range(nb_tasks):\n",
    "        # O(k)\n",
    "        for l in range(nb_classes):\n",
    "            # O(2)\n",
    "            M[t*nb_classes+l] = X[t][l].dot(np.ones((n_t[t][l])))\n",
    "            # O(p*n_tl)\n",
    "            M[t*nb_classes+l] /= n_t[t][l]\n",
    "            # O(1)\n",
    "            \n",
    "            moitie = int(n_t[t][l]/2)\n",
    "#             print(f\" moitie = {moitie}\")\n",
    "#             print(\"shape X : \", X[t][l].T[:moitie].T.shape)\n",
    "            mu1 = 1/moitie*X[t][l].T[:moitie].T@np.ones((moitie))\n",
    "            mu2 = 1/moitie*X[t][l].T[moitie:2*moitie].T@np.ones((moitie))\n",
    "#             print(\"mu shapes before : \")\n",
    "#             print(mu1.shape)\n",
    "#             print(mu2.shape)\n",
    "            # O(p*n_tl)\n",
    "            mu1, mu2 = np.reshape(mu1, (p, 1)), np.reshape(mu2, (p, 1))\n",
    "#             print(\"mu shapes : \")\n",
    "#             print(mu1.shape)\n",
    "#             print(mu2.shape)\n",
    "            diag.append(mu1.T@mu2)\n",
    "            # O(1)\n",
    "    \n",
    "    return M.T, diag\n",
    "\n",
    "# diag1 = [mu1]\n",
    "#diag_means = [[mu1], [mu2]]\n",
    "\n",
    "def gather_empirical_mean(nb_tasks, nb_classes, emp_means, diag_means, p, n_t):\n",
    "    \"\"\"\n",
    "    emp_means est un vecteur contenant les moyennes empiriques de chaque tache de chaque classe.\n",
    "    Chaque vecteur de moyennes et de taille px1\n",
    "    Renvoie la matrice M des, produits scalaires entre moyennes empiriques de chaque client\n",
    "    \"\"\"\n",
    "    M = np.empty((nb_classes*nb_tasks, nb_classes*nb_tasks)) # ici 4x4\n",
    "    for i in range(nb_tasks):\n",
    "        # O(k)\n",
    "        for j in range(nb_classes):\n",
    "            # O(2)\n",
    "            for k in range(nb_tasks):\n",
    "                # O(k)\n",
    "                for l in range(nb_classes):\n",
    "                    # O(2)\n",
    "                    if i == k and j == l:\n",
    "                        #print(f\"i = {i}, j = {j}\")\n",
    "#                         print(i*nb_tasks+j, i*nb_tasks+j)\n",
    "#                         print(moitie)\n",
    "#                         print(np.ones((moitie, 1)).T.dot(X[i][j].T[:moitie]).shape)\n",
    "#                         print(emp_means[i*nb_tasks+j][:moitie].T.shape)\n",
    "                        M[i*nb_classes+j][i*nb_classes+j] = diag_means[i*nb_classes+j]\n",
    "                    else:\n",
    "#                         print(i*nb_tasks+j, k*nb_tasks+l)\n",
    "#                         print(emp_means[i*nb_tasks+j].T.shape)\n",
    "#                         print(emp_means[k*nb_tasks+l].shape)\n",
    "                        M[i*nb_classes+j][k*nb_classes+l] = emp_means[i*nb_classes+j].T.dot(emp_means[k*nb_classes+l])\n",
    "                    # O(p)\n",
    "#                         print(M[i*nb_tasks+j][k*nb_tasks+l].shape)\n",
    "                \n",
    "    return M"
   ]
  },
  {
   "cell_type": "code",
   "execution_count": 91,
   "metadata": {},
   "outputs": [],
   "source": [
    "def merging_center(MM, diag, t, m, p, n, n_t, task_target=None, display=False):\n",
    "    \"\"\"\n",
    "    Recoit les moyennes empiriques des k clients, calcule la matrice de corrélation, les labels optimaux et renvoie le vecteur V\n",
    "    Renvoie y un vecteur de labels optimaux adapté à chaque client. (à changer?)\n",
    "    \"\"\"\n",
    "    # MM = [[MM11, MM12], [MM21, MM22], [MM31, MM32], ...]\n",
    "    emp_means = []\n",
    "    diagonal = []\n",
    "    \n",
    "    for i in range(len(MM)):\n",
    "        for l in range(m):\n",
    "            emp_means.append(np.reshape(MM[i].T[l], (p, 1)))\n",
    "            diagonal.append(diag[i][l])\n",
    "    #diag = [diag1[0], diag1[1], etc.]\n",
    "    #emp_means = [MM11, MM12, MM21, MM22, MM31, ...]\n",
    "    MM_gathered = gather_empirical_mean(t, m, emp_means, diagonal, p, n_t)\n",
    "    if display:\n",
    "        print(\"MM_gathered : \")\n",
    "        matprint(MM_gathered)\n",
    "    \n",
    "    c = estimate_c(n_t, n, t, m)\n",
    "    c0 = p/n\n",
    "    Dc = np.diag(c)\n",
    "    correlation_matrix = compute_M_cal(n, p, Dc, MM_gathered, display=display)\n",
    "    y = label_evaluation(t,m,Dc,MM_gathered, c0, task_target=task_target)\n",
    "    if display:\n",
    "        matprint(y)\n",
    "    \n",
    "    # le serveur calcule aussi\n",
    "    V = np.zeros((p,1))\n",
    "    for i in range(t):\n",
    "        for j in range(m):\n",
    "            V += n_t[i][j]*emp_means[i*m+j]*y[i*m+j]\n",
    "#     print(f\"V = {V}\")\n",
    "      # pourquoi on a touours le meme V ?\n",
    "#     V = V.astype(\"float128\")\n",
    "    V /= np.linalg.norm(V)\n",
    "    V = np.reshape(V, (p))\n",
    "    \n",
    "    return V, y, correlation_matrix, Dc, c0"
   ]
  },
  {
   "cell_type": "code",
   "execution_count": 92,
   "metadata": {
    "scrolled": true
   },
   "outputs": [
    {
     "name": "stdout",
     "output_type": "stream",
     "text": [
      "   4.75962    -4.8477   0.248358  -0.0578444  \n",
      "   -4.8477    5.00614  -0.245624   0.0800484  \n",
      "  0.248358  -0.245624    0.38153   -0.349971  \n",
      "-0.0578444  0.0800484  -0.349971    0.221217  \n",
      "  4.75962    -4.8477   0.369321  -0.178808  \n",
      "  -4.8477    5.00614  -0.369511   0.203936  \n",
      " 0.369321  -0.369511   0.394195  -0.358058  \n",
      "-0.178808   0.203936  -0.358058   0.224724  \n",
      "  4.75962    -4.8477   0.490055  -0.299541  \n",
      "  -4.8477    5.00614  -0.493872   0.328296  \n",
      " 0.490055  -0.493872   0.405617  -0.365322  \n",
      "-0.299541   0.328296  -0.365322    0.22783  \n",
      "  4.75962    -4.8477   0.610545  -0.420032  \n",
      "  -4.8477    5.00614  -0.618733   0.453157  \n",
      " 0.610545  -0.618733   0.415722  -0.371715  \n",
      "-0.420032   0.453157  -0.371715   0.230512  \n",
      "  4.75962    -4.8477   0.730766  -0.540252  \n",
      "  -4.8477    5.00614  -0.744148   0.578573  \n",
      " 0.730766  -0.744148   0.424368  -0.377143  \n",
      "-0.540252   0.578573  -0.377143   0.232723  \n",
      "  4.75962    -4.8477   0.850671  -0.660157  \n",
      "  -4.8477    5.00614  -0.870213   0.704637  \n",
      " 0.850671  -0.870213   0.431307  -0.381444  \n",
      "-0.660157   0.704637  -0.381444   0.234384  \n",
      "  4.75962    -4.8477    0.97018  -0.779666  \n",
      "  -4.8477    5.00614  -0.997094   0.831518  \n",
      "  0.97018  -0.997094   0.436099  -0.384324  \n",
      "-0.779666   0.831518  -0.384324   0.235354  \n",
      "  4.75962   -4.8477    1.08913  -0.898616  \n",
      "  -4.8477   5.00614   -1.12512   0.959548  \n",
      "  1.08913  -1.12512   0.437869  -0.385207  \n",
      "-0.898616  0.959548  -0.385207   0.235348  \n",
      " 4.75962   -4.8477     1.2071   -1.01659  \n",
      " -4.8477   5.00614   -1.25516    1.08959  \n",
      "  1.2071  -1.25516   0.434359  -0.382598  \n",
      "-1.01659   1.08959  -0.382598   0.233641  \n",
      " 4.75962   -4.8477    1.31984   -1.12933  \n",
      " -4.8477   5.00614   -1.39597     1.2304  \n",
      " 1.31984  -1.39597   0.402512  -0.361254  \n",
      "-1.12933    1.2304  -0.361254     0.2228  \n",
      "temps moyen clients : 0.00089, 0.01945\n",
      "temps moyen Serveur central : 0.00046\n",
      "temps total moyen : 0.020799999999999996\n"
     ]
    },
    {
     "data": {
      "image/png": "[encoded data removed]",
      "text/plain": [
       "<Figure size 432x288 with 1 Axes>"
      ]
     },
     "metadata": {
      "needs_background": "light"
     },
     "output_type": "display_data"
    }
   ],
   "source": [
    "n1 = 2000\n",
    "n2 = 100\n",
    "n = n1+n2\n",
    "p = 100\n",
    "m = 2\n",
    "t = 2\n",
    "ni = [n1, n2]\n",
    "beta = np.linspace(0,1,10)\n",
    "n_t = [[int(n1/2),int(n1/2)], [int(n2/2), int(n2/2)]]\n",
    "n_t_test = [[1000, 1000]]\n",
    "nt = sum(n_t_test[0])\n",
    "emp_rate, th_rate, var = [], [], []\n",
    "\n",
    "t_MM = []\n",
    "t_SC = []\n",
    "t_inf = []\n",
    "t_MM_f = []\n",
    "t_inf_f = []\n",
    "\n",
    "random_state = 100\n",
    "task_target = 1\n",
    "\n",
    "for b in beta:\n",
    "    # on crée les données synthétiques\n",
    "    M = mean_matrix(p, b, t, random_seed=random_state)\n",
    "#       print(M)\n",
    "    # X1 is the local data of the first client\n",
    "    # normalisation?\n",
    "    X, y_bs = gaussian_synthetic_data(n, p, m, t, n_t, M, random_state)\n",
    "    \n",
    "    # data we want to test on our model, here new data of client n°2\n",
    "    X_test, y_test = gaussian_synthetic_data(nt, p, m, 1, n_t_test, [M[task_target]], random_state)\n",
    "    \n",
    "    MM = []\n",
    "    diag = []\n",
    "#     X = normalisation(X, p)\n",
    "    X_test = normalisation(X_test, p)\n",
    "    \n",
    "    # On calcule les moyennes empiriques sur les données locales\n",
    "    # diag1 = [diag1[0], diag1[1]]\n",
    "    for i in range(t):\n",
    "        t0 = time()\n",
    "        MM1, diag1 = empirical_mean_old(1, m, [X[i]], p, [n_t[i]])\n",
    "        t_MM.append(time()-t0)\n",
    "        MM.append(MM1)\n",
    "        diag.append(diag1)\n",
    "\n",
    "# CENTRAL SERVER\n",
    "    t0 = time()\n",
    "    # sending empirical means to central server\n",
    "    # y est un vecteur de vecteurs de labels optimaux\n",
    "    V, y, correlation_matrix, Dc, c0 = merging_center(MM, diag, t, m, p, n, n_t, task_target)\n",
    "    t_SC.append(time()-t0)\n",
    "    matprint(correlation_matrix)\n",
    "    \n",
    "# END CENTRAL SERVER\n",
    "\n",
    "    # Sending back optimal labels to clients\n",
    "    aggregated = []\n",
    "    for i in range(t):\n",
    "        aggregated.append(aggregate_array([X[i]], p, ni[i], 1, m))\n",
    "    X_test_aggregated = aggregate_array(X_test, p, nt, 1, m)\n",
    "    # ou alors créer un J ?\n",
    "#     J = create_J(m, 2, n, n_t)\n",
    "    \n",
    "    VTX = V.T@X_test_aggregated\n",
    "    var.append(np.var(VTX))\n",
    "    \n",
    "#     debug_histogram(V, X_test_aggregated, n_t_test)\n",
    "#     print(\"V = \")\n",
    "#     print(V)\n",
    "    t0 = time()\n",
    "    m_t = create_mt(t, m, y, Dc, correlation_matrix)\n",
    "    \n",
    "    emp_rate.append(compute_error_rate(X_test, V, m_t, 1, m, n_t_test, Dc, c0))\n",
    "    t_inf.append(time()-t0)\n",
    "#     th_rate.append(error_rate(t, m,  Dc, MM_true, c0)[0][0])\n",
    "#     print(emp_rate, th_rate)\n",
    "    t_MM_f.append(max(t_MM))\n",
    "    t_inf_f.append(max(t_inf))\n",
    "    \n",
    "# pour pas le recalculer a chaque fois \n",
    "th_rate = [0.23975006109347674, 0.23910189492427802, 0.23712834068265354, 0.23373859215337528, 0.2287682743173643, 0.22195637062121154, 0.2129043075952785, 0.20100393554334806, 0.18530737544421827, 0.16428249171959852]   \n",
    "\n",
    "print(f\"temps moyen clients : {round(np.mean(t_MM_f), 5)}, {round(np.mean(t_inf_f), 5)}\")\n",
    "print(f\"temps moyen Serveur central : {round(np.mean(t_SC), 5)}\")\n",
    "print(f\"temps total moyen : {round(np.mean(t_MM_f), 5) + round(np.mean(t_inf_f), 5) + round(np.mean(t_SC), 5)}\")\n",
    "\n",
    "lower = np.array(emp_rate) - np.array(var)\n",
    "upper = np.array(emp_rate) + np.array(var)\n",
    "plt.plot(beta, emp_rate, '-o', label='empirical rate')\n",
    "plt.plot(beta, th_rate, '-o', label='theoritical rate')\n",
    "plt.fill_between(beta, lower, upper, alpha=0.2, label=\"variance\")\n",
    "plt.legend()\n",
    "plt.title(f\"2-class Gaussian mixture transfer error rate for n={n} and p={p}\")\n",
    "plt.xlabel(\"Task relatedness (beta)\")\n",
    "plt.ylabel(\"error rate\")\n",
    "plt.grid()\n",
    "plt.show()"
   ]
  },
  {
   "cell_type": "code",
   "execution_count": null,
   "metadata": {},
   "outputs": [],
   "source": [
    "4.75962   -4.8477    1.08341  -0.892901  \n",
    "  -4.8477   5.00614    -1.1252   0.959628  \n",
    "  1.08341   -1.1252   0.327581  -0.326737  \n",
    "-0.892901  0.959628  -0.326737   0.228697 "
   ]
  },
  {
   "cell_type": "code",
   "execution_count": 70,
   "metadata": {
    "collapsed": true
   },
   "outputs": [
    {
     "name": "stdout",
     "output_type": "stream",
     "text": [
      "temps moyen clients (calcul moyennes, inférence): 0.00093 s, 0.01507 s\n",
      "temps moyen Serveur central : 0.18465 s\n",
      "temps total moyen : 0.20065 s\n"
     ]
    },
    {
     "ename": "ValueError",
     "evalue": "x and y must have same first dimension, but have shapes (10,) and (9,)",
     "output_type": "error",
     "traceback": [
      "\u001b[0;31m---------------------------------------------------------------------------\u001b[0m",
      "\u001b[0;31mValueError\u001b[0m                                Traceback (most recent call last)",
      "\u001b[0;32m<ipython-input-70-0f822c136269>\u001b[0m in \u001b[0;36m<module>\u001b[0;34m\u001b[0m\n\u001b[1;32m      7\u001b[0m \u001b[0mlower\u001b[0m \u001b[0;34m=\u001b[0m \u001b[0mnp\u001b[0m\u001b[0;34m.\u001b[0m\u001b[0marray\u001b[0m\u001b[0;34m(\u001b[0m\u001b[0memp_rate\u001b[0m\u001b[0;34m)\u001b[0m \u001b[0;34m-\u001b[0m \u001b[0mnp\u001b[0m\u001b[0;34m.\u001b[0m\u001b[0marray\u001b[0m\u001b[0;34m(\u001b[0m\u001b[0mvar\u001b[0m\u001b[0;34m)\u001b[0m\u001b[0;34m\u001b[0m\u001b[0;34m\u001b[0m\u001b[0m\n\u001b[1;32m      8\u001b[0m \u001b[0mupper\u001b[0m \u001b[0;34m=\u001b[0m \u001b[0mnp\u001b[0m\u001b[0;34m.\u001b[0m\u001b[0marray\u001b[0m\u001b[0;34m(\u001b[0m\u001b[0memp_rate\u001b[0m\u001b[0;34m)\u001b[0m \u001b[0;34m+\u001b[0m \u001b[0mnp\u001b[0m\u001b[0;34m.\u001b[0m\u001b[0marray\u001b[0m\u001b[0;34m(\u001b[0m\u001b[0mvar\u001b[0m\u001b[0;34m)\u001b[0m\u001b[0;34m\u001b[0m\u001b[0;34m\u001b[0m\u001b[0m\n\u001b[0;32m----> 9\u001b[0;31m \u001b[0mplt\u001b[0m\u001b[0;34m.\u001b[0m\u001b[0mplot\u001b[0m\u001b[0;34m(\u001b[0m\u001b[0mbeta\u001b[0m\u001b[0;34m,\u001b[0m \u001b[0memp_rate\u001b[0m\u001b[0;34m,\u001b[0m \u001b[0;34m'-o'\u001b[0m\u001b[0;34m,\u001b[0m \u001b[0mlabel\u001b[0m\u001b[0;34m=\u001b[0m\u001b[0;34m'empirical rate'\u001b[0m\u001b[0;34m)\u001b[0m\u001b[0;34m\u001b[0m\u001b[0;34m\u001b[0m\u001b[0m\n\u001b[0m\u001b[1;32m     10\u001b[0m \u001b[0mplt\u001b[0m\u001b[0;34m.\u001b[0m\u001b[0mplot\u001b[0m\u001b[0;34m(\u001b[0m\u001b[0mbeta\u001b[0m\u001b[0;34m,\u001b[0m \u001b[0mth_rate\u001b[0m\u001b[0;34m,\u001b[0m \u001b[0;34m'-o'\u001b[0m\u001b[0;34m,\u001b[0m \u001b[0mlabel\u001b[0m\u001b[0;34m=\u001b[0m\u001b[0;34m'theoritical rate'\u001b[0m\u001b[0;34m)\u001b[0m\u001b[0;34m\u001b[0m\u001b[0;34m\u001b[0m\u001b[0m\n\u001b[1;32m     11\u001b[0m \u001b[0mplt\u001b[0m\u001b[0;34m.\u001b[0m\u001b[0mfill_between\u001b[0m\u001b[0;34m(\u001b[0m\u001b[0mbeta\u001b[0m\u001b[0;34m,\u001b[0m \u001b[0mlower\u001b[0m\u001b[0;34m,\u001b[0m \u001b[0mupper\u001b[0m\u001b[0;34m,\u001b[0m \u001b[0malpha\u001b[0m\u001b[0;34m=\u001b[0m\u001b[0;36m0.2\u001b[0m\u001b[0;34m,\u001b[0m \u001b[0mlabel\u001b[0m\u001b[0;34m=\u001b[0m\u001b[0;34m\"variance\"\u001b[0m\u001b[0;34m)\u001b[0m\u001b[0;34m\u001b[0m\u001b[0;34m\u001b[0m\u001b[0m\n",
      "\u001b[0;32m~/anaconda3/lib/python3.7/site-packages/matplotlib/pyplot.py\u001b[0m in \u001b[0;36mplot\u001b[0;34m(scalex, scaley, data, *args, **kwargs)\u001b[0m\n\u001b[1;32m   2840\u001b[0m     return gca().plot(\n\u001b[1;32m   2841\u001b[0m         \u001b[0;34m*\u001b[0m\u001b[0margs\u001b[0m\u001b[0;34m,\u001b[0m \u001b[0mscalex\u001b[0m\u001b[0;34m=\u001b[0m\u001b[0mscalex\u001b[0m\u001b[0;34m,\u001b[0m \u001b[0mscaley\u001b[0m\u001b[0;34m=\u001b[0m\u001b[0mscaley\u001b[0m\u001b[0;34m,\u001b[0m\u001b[0;34m\u001b[0m\u001b[0;34m\u001b[0m\u001b[0m\n\u001b[0;32m-> 2842\u001b[0;31m         **({\"data\": data} if data is not None else {}), **kwargs)\n\u001b[0m\u001b[1;32m   2843\u001b[0m \u001b[0;34m\u001b[0m\u001b[0m\n\u001b[1;32m   2844\u001b[0m \u001b[0;34m\u001b[0m\u001b[0m\n",
      "\u001b[0;32m~/anaconda3/lib/python3.7/site-packages/matplotlib/axes/_axes.py\u001b[0m in \u001b[0;36mplot\u001b[0;34m(self, scalex, scaley, data, *args, **kwargs)\u001b[0m\n\u001b[1;32m   1741\u001b[0m         \"\"\"\n\u001b[1;32m   1742\u001b[0m         \u001b[0mkwargs\u001b[0m \u001b[0;34m=\u001b[0m \u001b[0mcbook\u001b[0m\u001b[0;34m.\u001b[0m\u001b[0mnormalize_kwargs\u001b[0m\u001b[0;34m(\u001b[0m\u001b[0mkwargs\u001b[0m\u001b[0;34m,\u001b[0m \u001b[0mmlines\u001b[0m\u001b[0;34m.\u001b[0m\u001b[0mLine2D\u001b[0m\u001b[0;34m)\u001b[0m\u001b[0;34m\u001b[0m\u001b[0;34m\u001b[0m\u001b[0m\n\u001b[0;32m-> 1743\u001b[0;31m         \u001b[0mlines\u001b[0m \u001b[0;34m=\u001b[0m \u001b[0;34m[\u001b[0m\u001b[0;34m*\u001b[0m\u001b[0mself\u001b[0m\u001b[0;34m.\u001b[0m\u001b[0m_get_lines\u001b[0m\u001b[0;34m(\u001b[0m\u001b[0;34m*\u001b[0m\u001b[0margs\u001b[0m\u001b[0;34m,\u001b[0m \u001b[0mdata\u001b[0m\u001b[0;34m=\u001b[0m\u001b[0mdata\u001b[0m\u001b[0;34m,\u001b[0m \u001b[0;34m**\u001b[0m\u001b[0mkwargs\u001b[0m\u001b[0;34m)\u001b[0m\u001b[0;34m]\u001b[0m\u001b[0;34m\u001b[0m\u001b[0;34m\u001b[0m\u001b[0m\n\u001b[0m\u001b[1;32m   1744\u001b[0m         \u001b[0;32mfor\u001b[0m \u001b[0mline\u001b[0m \u001b[0;32min\u001b[0m \u001b[0mlines\u001b[0m\u001b[0;34m:\u001b[0m\u001b[0;34m\u001b[0m\u001b[0;34m\u001b[0m\u001b[0m\n\u001b[1;32m   1745\u001b[0m             \u001b[0mself\u001b[0m\u001b[0;34m.\u001b[0m\u001b[0madd_line\u001b[0m\u001b[0;34m(\u001b[0m\u001b[0mline\u001b[0m\u001b[0;34m)\u001b[0m\u001b[0;34m\u001b[0m\u001b[0;34m\u001b[0m\u001b[0m\n",
      "\u001b[0;32m~/anaconda3/lib/python3.7/site-packages/matplotlib/axes/_base.py\u001b[0m in \u001b[0;36m__call__\u001b[0;34m(self, data, *args, **kwargs)\u001b[0m\n\u001b[1;32m    271\u001b[0m                 \u001b[0mthis\u001b[0m \u001b[0;34m+=\u001b[0m \u001b[0margs\u001b[0m\u001b[0;34m[\u001b[0m\u001b[0;36m0\u001b[0m\u001b[0;34m]\u001b[0m\u001b[0;34m,\u001b[0m\u001b[0;34m\u001b[0m\u001b[0;34m\u001b[0m\u001b[0m\n\u001b[1;32m    272\u001b[0m                 \u001b[0margs\u001b[0m \u001b[0;34m=\u001b[0m \u001b[0margs\u001b[0m\u001b[0;34m[\u001b[0m\u001b[0;36m1\u001b[0m\u001b[0;34m:\u001b[0m\u001b[0;34m]\u001b[0m\u001b[0;34m\u001b[0m\u001b[0;34m\u001b[0m\u001b[0m\n\u001b[0;32m--> 273\u001b[0;31m             \u001b[0;32myield\u001b[0m \u001b[0;32mfrom\u001b[0m \u001b[0mself\u001b[0m\u001b[0;34m.\u001b[0m\u001b[0m_plot_args\u001b[0m\u001b[0;34m(\u001b[0m\u001b[0mthis\u001b[0m\u001b[0;34m,\u001b[0m \u001b[0mkwargs\u001b[0m\u001b[0;34m)\u001b[0m\u001b[0;34m\u001b[0m\u001b[0;34m\u001b[0m\u001b[0m\n\u001b[0m\u001b[1;32m    274\u001b[0m \u001b[0;34m\u001b[0m\u001b[0m\n\u001b[1;32m    275\u001b[0m     \u001b[0;32mdef\u001b[0m \u001b[0mget_next_color\u001b[0m\u001b[0;34m(\u001b[0m\u001b[0mself\u001b[0m\u001b[0;34m)\u001b[0m\u001b[0;34m:\u001b[0m\u001b[0;34m\u001b[0m\u001b[0;34m\u001b[0m\u001b[0m\n",
      "\u001b[0;32m~/anaconda3/lib/python3.7/site-packages/matplotlib/axes/_base.py\u001b[0m in \u001b[0;36m_plot_args\u001b[0;34m(self, tup, kwargs)\u001b[0m\n\u001b[1;32m    397\u001b[0m \u001b[0;34m\u001b[0m\u001b[0m\n\u001b[1;32m    398\u001b[0m         \u001b[0;32mif\u001b[0m \u001b[0mx\u001b[0m\u001b[0;34m.\u001b[0m\u001b[0mshape\u001b[0m\u001b[0;34m[\u001b[0m\u001b[0;36m0\u001b[0m\u001b[0;34m]\u001b[0m \u001b[0;34m!=\u001b[0m \u001b[0my\u001b[0m\u001b[0;34m.\u001b[0m\u001b[0mshape\u001b[0m\u001b[0;34m[\u001b[0m\u001b[0;36m0\u001b[0m\u001b[0;34m]\u001b[0m\u001b[0;34m:\u001b[0m\u001b[0;34m\u001b[0m\u001b[0;34m\u001b[0m\u001b[0m\n\u001b[0;32m--> 399\u001b[0;31m             raise ValueError(f\"x and y must have same first dimension, but \"\n\u001b[0m\u001b[1;32m    400\u001b[0m                              f\"have shapes {x.shape} and {y.shape}\")\n\u001b[1;32m    401\u001b[0m         \u001b[0;32mif\u001b[0m \u001b[0mx\u001b[0m\u001b[0;34m.\u001b[0m\u001b[0mndim\u001b[0m \u001b[0;34m>\u001b[0m \u001b[0;36m2\u001b[0m \u001b[0;32mor\u001b[0m \u001b[0my\u001b[0m\u001b[0;34m.\u001b[0m\u001b[0mndim\u001b[0m \u001b[0;34m>\u001b[0m \u001b[0;36m2\u001b[0m\u001b[0;34m:\u001b[0m\u001b[0;34m\u001b[0m\u001b[0;34m\u001b[0m\u001b[0m\n",
      "\u001b[0;31mValueError\u001b[0m: x and y must have same first dimension, but have shapes (10,) and (9,)"
     ]
    },
    {
     "data": {
      "image/png": "[encoded data removed]",
      "text/plain": [
       "<Figure size 432x288 with 1 Axes>"
      ]
     },
     "metadata": {
      "needs_background": "light"
     },
     "output_type": "display_data"
    }
   ],
   "source": [
    "th_rate = [0.23975006109347674, 0.23910189492427802, 0.23712834068265354, 0.23373859215337528, 0.2287682743173643, 0.22195637062121154, 0.2129043075952785, 0.20100393554334806, 0.18530737544421827, 0.16428249171959852]   \n",
    "\n",
    "print(f\"temps moyen clients (calcul moyennes, inférence): {round(np.mean(t_MM_f), 5)} s, {round(np.mean(t_inf_f), 5)} s\")\n",
    "print(f\"temps moyen Serveur central : {round(np.mean(t_SC), 5)} s\")\n",
    "print(f\"temps total moyen : {round(np.mean(t_MM_f), 5) + round(np.mean(t_inf_f), 5) + round(np.mean(t_SC), 5)} s\")\n",
    "\n",
    "lower = np.array(emp_rate) - np.array(var)\n",
    "upper = np.array(emp_rate) + np.array(var)\n",
    "plt.plot(beta, emp_rate, '-o', label='empirical rate')\n",
    "plt.plot(beta, th_rate, '-o', label='theoritical rate')\n",
    "plt.fill_between(beta, lower, upper, alpha=0.2, label=\"variance\")\n",
    "plt.legend()\n",
    "plt.title(f\"2-class Gaussian mixture transfer error rate for n={n} and p={p}\")\n",
    "plt.xlabel(\"Task relatedness (beta)\")\n",
    "plt.ylabel(\"error rate\")\n",
    "plt.grid()\n",
    "plt.show()"
   ]
  },
  {
   "cell_type": "markdown",
   "metadata": {},
   "source": [
    "# Distributively adding tasks"
   ]
  },
  {
   "cell_type": "code",
   "execution_count": 76,
   "metadata": {
    "scrolled": true
   },
   "outputs": [
    {
     "name": "stdout",
     "output_type": "stream",
     "text": [
      "random\n",
      "beta 0.5434049417909654\n",
      "random\n",
      "beta 0.5434049417909654\n",
      "task 1 empirical mean = -0.010383162821594183\n",
      "task 1 empirical mean = 0.08614388825666613\n",
      "MM_gathered : \n",
      " 0.951924  -0.969539  0.749151  -0.57875  \n",
      "-0.969539    1.00123  -0.76598  0.617884  \n",
      " 0.749151   -0.76598   1.72257  -1.52414  \n",
      " -0.57875   0.617884  -1.52414  0.936933  \n"
     ]
    },
    {
     "data": {
      "image/png": "[encoded data removed]",
      "text/plain": [
       "<Figure size 432x288 with 1 Axes>"
      ]
     },
     "metadata": {
      "needs_background": "light"
     },
     "output_type": "display_data"
    },
    {
     "name": "stdout",
     "output_type": "stream",
     "text": [
      " 0.558623  \n",
      "-0.835573  \n",
      "  23.9676  \n",
      " -17.0393  \n",
      "[[0.47619048 0.         0.         0.        ]\n",
      " [0.         0.47619048 0.         0.        ]\n",
      " [0.         0.         0.02380952 0.        ]\n",
      " [0.         0.         0.         0.02380952]]\n"
     ]
    },
    {
     "data": {
      "image/png": "[encoded data removed]",
      "text/plain": [
       "<Figure size 432x288 with 1 Axes>"
      ]
     },
     "metadata": {
      "needs_background": "light"
     },
     "output_type": "display_data"
    },
    {
     "name": "stdout",
     "output_type": "stream",
     "text": [
      "arg q-func : \n",
      "[[0.58181058]]\n",
      "random\n",
      "beta 0.5434049417909654\n",
      "random\n",
      "beta 0.27836938509379616\n",
      "random\n",
      "beta 0.4245175907491331\n",
      "task 1 empirical mean = -0.010383162821594183\n",
      "task 1 empirical mean = 0.08614388825666613\n",
      "task 1 empirical mean = 0.024111917709081457\n",
      "task 1 empirical mean = -0.03329167694431728\n",
      "MM_gathered : \n",
      " 0.951924  -0.969539   0.749151  -0.57875   0.311353  -0.24342   0.227757  -0.330132  \n",
      "-0.969539    1.00123   -0.76598  0.617884  -0.263475  0.221641  -0.240907   0.317086  \n",
      " 0.749151   -0.76598    1.72257  -1.52414    1.16021  -1.20242    1.24267  -0.899731  \n",
      " -0.57875   0.617884   -1.52414  0.936933   -1.04045  0.989171   -1.21093    1.17366  \n",
      " 0.311353  -0.263475    1.16021  -1.04045   0.991575  -0.97316    1.14243  -0.903924  \n",
      " -0.24342   0.221641   -1.20242  0.989171   -0.97316  0.993946   -1.08782   0.919942  \n",
      " 0.227757  -0.240907    1.24267  -1.21093    1.14243  -1.08782    1.40863   -1.23445  \n",
      "-0.330132   0.317086  -0.899731   1.17366  -0.903924  0.919942   -1.23445   0.725966  \n"
     ]
    },
    {
     "data": {
      "image/png": "[encoded data removed]",
      "text/plain": [
       "<Figure size 432x288 with 1 Axes>"
      ]
     },
     "metadata": {
      "needs_background": "light"
     },
     "output_type": "display_data"
    },
    {
     "name": "stdout",
     "output_type": "stream",
     "text": [
      "-0.251397  \n",
      " -3.44099  \n",
      "  13.3485  \n",
      "  2.60064  \n",
      "  3.38266  \n",
      " -3.82525  \n",
      "  3.71941  \n",
      " -3.27217  \n",
      "[[0.23809524 0.         0.         0.         0.         0.\n",
      "  0.         0.        ]\n",
      " [0.         0.23809524 0.         0.         0.         0.\n",
      "  0.         0.        ]\n",
      " [0.         0.         0.01190476 0.         0.         0.\n",
      "  0.         0.        ]\n",
      " [0.         0.         0.         0.01190476 0.         0.\n",
      "  0.         0.        ]\n",
      " [0.         0.         0.         0.         0.23809524 0.\n",
      "  0.         0.        ]\n",
      " [0.         0.         0.         0.         0.         0.23809524\n",
      "  0.         0.        ]\n",
      " [0.         0.         0.         0.         0.         0.\n",
      "  0.01190476 0.        ]\n",
      " [0.         0.         0.         0.         0.         0.\n",
      "  0.         0.01190476]]\n"
     ]
    },
    {
     "data": {
      "image/png": "[encoded data removed]",
      "text/plain": [
       "<Figure size 432x288 with 1 Axes>"
      ]
     },
     "metadata": {
      "needs_background": "light"
     },
     "output_type": "display_data"
    },
    {
     "name": "stdout",
     "output_type": "stream",
     "text": [
      "arg q-func : \n",
      "[[0.96227603]]\n",
      "random\n",
      "beta 0.5434049417909654\n",
      "random\n",
      "beta 0.27836938509379616\n",
      "random\n",
      "beta 0.4245175907491331\n",
      "random\n",
      "beta 0.8447761323199037\n",
      "random\n",
      "beta 0.004718856190972565\n",
      "task 1 empirical mean = -0.010383162821594183\n",
      "task 1 empirical mean = 0.08614388825666613\n",
      "task 1 empirical mean = 0.024111917709081457\n",
      "task 1 empirical mean = -0.03329167694431728\n",
      "task 1 empirical mean = 0.013589669518937864\n",
      "task 1 empirical mean = 0.0142968732743139\n",
      "MM_gathered : \n",
      "  0.951924    -0.969539   0.749151   -0.57875   0.311353   -0.24342   0.227757  -0.330132   0.831565  -0.809621   0.0729418   -0.0536758  \n",
      " -0.969539      1.00123   -0.76598   0.617884  -0.263475   0.221641  -0.240907   0.317086  -0.824951    0.80408  -0.0150869  -0.00877494  \n",
      "  0.749151     -0.76598    1.72257   -1.52414    1.16021   -1.20242    1.24267  -0.899731    1.13254   -1.11581     1.11969     -0.98553  \n",
      "  -0.57875     0.617884   -1.52414   0.936933   -1.04045   0.989171   -1.21093    1.17366   -1.00117   0.959235   -0.898834     0.843833  \n",
      "  0.311353    -0.263475    1.16021   -1.04045   0.991575   -0.97316    1.14243  -0.903924   0.721526  -0.698738     1.07078    -0.942397  \n",
      "  -0.24342     0.221641   -1.20242   0.989171   -0.97316   0.993946   -1.08782   0.919942    -0.6632   0.660606   -0.958923     0.904885  \n",
      "  0.227757    -0.240907    1.24267   -1.21093    1.14243   -1.08782    1.40863   -1.23445   0.745869  -0.754327    0.872982     -0.88993  \n",
      " -0.330132     0.317086  -0.899731    1.17366  -0.903924   0.919942   -1.23445   0.725966  -0.704625   0.751767    -1.01074      1.05647  \n",
      "  0.831565    -0.824951    1.13254   -1.00117   0.721526    -0.6632   0.745869  -0.704625   0.960268  -0.949547    0.616714    -0.661781  \n",
      " -0.809621      0.80408   -1.11581   0.959235  -0.698738   0.660606  -0.754327   0.751767  -0.949547   0.888018   -0.603595     0.571738  \n",
      " 0.0729418   -0.0150869    1.11969  -0.898834    1.07078  -0.958923   0.872982   -1.01074   0.616714  -0.603595     1.40181    -0.916653  \n",
      "-0.0536758  -0.00877494   -0.98553   0.843833  -0.942397   0.904885   -0.88993    1.05647  -0.661781   0.571738   -0.916653     0.985145  \n"
     ]
    },
    {
     "data": {
      "image/png": "[encoded data removed]",
      "text/plain": [
       "<Figure size 432x288 with 1 Axes>"
      ]
     },
     "metadata": {
      "needs_background": "light"
     },
     "output_type": "display_data"
    },
    {
     "name": "stdout",
     "output_type": "stream",
     "text": [
      "-3.19997  \n",
      "-2.86765  \n",
      " 18.2163  \n",
      " 9.70922  \n",
      " 3.55187  \n",
      "-4.59916  \n",
      " 2.72545  \n",
      "-2.54159  \n",
      " 4.22401  \n",
      "-3.42114  \n",
      "-2.65282  \n",
      " 7.77424  \n",
      "[[0.15873016 0.         0.         0.         0.         0.\n",
      "  0.         0.         0.         0.         0.         0.        ]\n",
      " [0.         0.15873016 0.         0.         0.         0.\n",
      "  0.         0.         0.         0.         0.         0.        ]\n",
      " [0.         0.         0.00793651 0.         0.         0.\n",
      "  0.         0.         0.         0.         0.         0.        ]\n",
      " [0.         0.         0.         0.00793651 0.         0.\n",
      "  0.         0.         0.         0.         0.         0.        ]\n",
      " [0.         0.         0.         0.         0.15873016 0.\n",
      "  0.         0.         0.         0.         0.         0.        ]\n",
      " [0.         0.         0.         0.         0.         0.15873016\n",
      "  0.         0.         0.         0.         0.         0.        ]\n",
      " [0.         0.         0.         0.         0.         0.\n",
      "  0.00793651 0.         0.         0.         0.         0.        ]\n",
      " [0.         0.         0.         0.         0.         0.\n",
      "  0.         0.00793651 0.         0.         0.         0.        ]\n",
      " [0.         0.         0.         0.         0.         0.\n",
      "  0.         0.         0.15873016 0.         0.         0.        ]\n",
      " [0.         0.         0.         0.         0.         0.\n",
      "  0.         0.         0.         0.15873016 0.         0.        ]\n",
      " [0.         0.         0.         0.         0.         0.\n",
      "  0.         0.         0.         0.         0.00793651 0.        ]\n",
      " [0.         0.         0.         0.         0.         0.\n",
      "  0.         0.         0.         0.         0.         0.00793651]]\n"
     ]
    },
    {
     "data": {
      "image/png": "[encoded data removed]",
      "text/plain": [
       "<Figure size 432x288 with 1 Axes>"
      ]
     },
     "metadata": {
      "needs_background": "light"
     },
     "output_type": "display_data"
    },
    {
     "name": "stdout",
     "output_type": "stream",
     "text": [
      "arg q-func : \n",
      "[[0.97432961]]\n",
      "random\n",
      "beta 0.5434049417909654\n",
      "random\n",
      "beta 0.27836938509379616\n",
      "random\n",
      "beta 0.4245175907491331\n",
      "random\n",
      "beta 0.8447761323199037\n",
      "random\n",
      "beta 0.004718856190972565\n",
      "random\n",
      "beta 0.12156912078311422\n",
      "random\n",
      "beta 0.6707490847267786\n",
      "task 1 empirical mean = -0.010383162821594183\n",
      "task 1 empirical mean = 0.08614388825666613\n",
      "task 1 empirical mean = 0.024111917709081457\n",
      "task 1 empirical mean = -0.03329167694431728\n",
      "task 1 empirical mean = 0.013589669518937864\n",
      "task 1 empirical mean = 0.0142968732743139\n",
      "task 1 empirical mean = -0.050266887751540784\n",
      "task 1 empirical mean = 0.012474316099302274\n",
      "MM_gathered : \n",
      "  0.951924    -0.969539   0.749151   -0.57875   0.311353   -0.24342   0.227757  -0.330132   0.831565  -0.809621   0.0729418   -0.0536758    0.102033  -0.174777   0.621764  -0.502902  \n",
      " -0.969539      1.00123   -0.76598   0.617884  -0.263475   0.221641  -0.240907   0.317086  -0.824951    0.80408  -0.0150869  -0.00877494  -0.0489031   0.136805   -0.56795   0.537739  \n",
      "  0.749151     -0.76598    1.72257   -1.52414    1.16021   -1.20242    1.24267  -0.899731    1.13254   -1.11581     1.11969     -0.98553       1.092   -1.17949    1.33645   -1.22631  \n",
      "  -0.57875     0.617884   -1.52414   0.936933   -1.04045   0.989171   -1.21093    1.17366   -1.00117   0.959235   -0.898834     0.843833   -0.967609   0.959359  -0.662768    0.97224  \n",
      "  0.311353    -0.263475    1.16021   -1.04045   0.991575   -0.97316    1.14243  -0.903924   0.721526  -0.698738     1.07078    -0.942397    0.922873  -0.953574   0.989188  -0.715662  \n",
      "  -0.24342     0.221641   -1.20242   0.989171   -0.97316   0.993946   -1.08782   0.919942    -0.6632   0.660606   -0.958923     0.904885   -0.932514   0.969333   -1.00148   0.792733  \n",
      "  0.227757    -0.240907    1.24267   -1.21093    1.14243   -1.08782    1.40863   -1.23445   0.745869  -0.754327    0.872982     -0.88993     1.04171  -0.973391    0.67046  -0.689675  \n",
      " -0.330132     0.317086  -0.899731    1.17366  -0.903924   0.919942   -1.23445   0.725966  -0.704625   0.751767    -1.01074      1.05647   -0.802402   0.844035   -1.00537    0.77325  \n",
      "  0.831565    -0.824951    1.13254   -1.00117   0.721526    -0.6632   0.745869  -0.704625   0.960268  -0.949547    0.616714    -0.661781    0.529374  -0.644756   0.903294  -0.808816  \n",
      " -0.809621      0.80408   -1.11581   0.959235  -0.698738   0.660606  -0.754327   0.751767  -0.949547   0.888018   -0.603595     0.571738   -0.518934   0.606609  -0.886515   0.794616  \n",
      " 0.0729418   -0.0150869    1.11969  -0.898834    1.07078  -0.958923   0.872982   -1.01074   0.616714  -0.603595     1.40181    -0.916653    0.944039   -1.01534    1.24172  -0.926888  \n",
      "-0.0536758  -0.00877494   -0.98553   0.843833  -0.942397   0.904885   -0.88993    1.05647  -0.661781   0.571738   -0.916653     0.985145   -0.849048    1.00942   -0.87293   0.516086  \n",
      "  0.102033   -0.0489031      1.092  -0.967609   0.922873  -0.932514    1.04171  -0.802402   0.529374  -0.518934    0.944039    -0.849048    0.900488  -0.924609   0.832422   -0.65238  \n",
      " -0.174777     0.136805   -1.17949   0.959359  -0.953574   0.969333  -0.973391   0.844035  -0.644756   0.606609    -1.01534      1.00942   -0.924609   0.972829  -0.917238   0.717537  \n",
      "  0.621764     -0.56795    1.33645  -0.662768   0.989188   -1.00148    0.67046   -1.00537   0.903294  -0.886515     1.24172     -0.87293    0.832422  -0.917238    1.10967  -0.671335  \n",
      " -0.502902     0.537739   -1.22631    0.97224  -0.715662   0.792733  -0.689675    0.77325  -0.808816   0.794616   -0.926888     0.516086    -0.65238   0.717537  -0.671335   0.722437  \n"
     ]
    },
    {
     "data": {
      "image/png": "[encoded data removed]",
      "text/plain": [
       "<Figure size 432x288 with 1 Axes>"
      ]
     },
     "metadata": {
      "needs_background": "light"
     },
     "output_type": "display_data"
    },
    {
     "name": "stdout",
     "output_type": "stream",
     "text": [
      " -2.56299  \n",
      " -7.84862  \n",
      "  10.6603  \n",
      "  37.9175  \n",
      "-0.295474  \n",
      "-0.578424  \n",
      " -3.01943  \n",
      " -8.42745  \n",
      "  3.75357  \n",
      " -3.51352  \n",
      "  1.23657  \n",
      "  7.20247  \n",
      "   12.788  \n",
      " -3.28077  \n",
      " -40.9198  \n",
      " -9.07037  \n",
      "[[0.11904762 0.         0.         0.         0.         0.\n",
      "  0.         0.         0.         0.         0.         0.\n",
      "  0.         0.         0.         0.        ]\n",
      " [0.         0.11904762 0.         0.         0.         0.\n",
      "  0.         0.         0.         0.         0.         0.\n",
      "  0.         0.         0.         0.        ]\n",
      " [0.         0.         0.00595238 0.         0.         0.\n",
      "  0.         0.         0.         0.         0.         0.\n",
      "  0.         0.         0.         0.        ]\n",
      " [0.         0.         0.         0.00595238 0.         0.\n",
      "  0.         0.         0.         0.         0.         0.\n",
      "  0.         0.         0.         0.        ]\n",
      " [0.         0.         0.         0.         0.11904762 0.\n",
      "  0.         0.         0.         0.         0.         0.\n",
      "  0.         0.         0.         0.        ]\n",
      " [0.         0.         0.         0.         0.         0.11904762\n",
      "  0.         0.         0.         0.         0.         0.\n",
      "  0.         0.         0.         0.        ]\n",
      " [0.         0.         0.         0.         0.         0.\n",
      "  0.00595238 0.         0.         0.         0.         0.\n",
      "  0.         0.         0.         0.        ]\n",
      " [0.         0.         0.         0.         0.         0.\n",
      "  0.         0.00595238 0.         0.         0.         0.\n",
      "  0.         0.         0.         0.        ]\n",
      " [0.         0.         0.         0.         0.         0.\n",
      "  0.         0.         0.11904762 0.         0.         0.\n",
      "  0.         0.         0.         0.        ]\n",
      " [0.         0.         0.         0.         0.         0.\n",
      "  0.         0.         0.         0.11904762 0.         0.\n",
      "  0.         0.         0.         0.        ]\n",
      " [0.         0.         0.         0.         0.         0.\n",
      "  0.         0.         0.         0.         0.00595238 0.\n",
      "  0.         0.         0.         0.        ]\n",
      " [0.         0.         0.         0.         0.         0.\n",
      "  0.         0.         0.         0.         0.         0.00595238\n",
      "  0.         0.         0.         0.        ]\n",
      " [0.         0.         0.         0.         0.         0.\n",
      "  0.         0.         0.         0.         0.         0.\n",
      "  0.11904762 0.         0.         0.        ]\n",
      " [0.         0.         0.         0.         0.         0.\n",
      "  0.         0.         0.         0.         0.         0.\n",
      "  0.         0.11904762 0.         0.        ]\n",
      " [0.         0.         0.         0.         0.         0.\n",
      "  0.         0.         0.         0.         0.         0.\n",
      "  0.         0.         0.00595238 0.        ]\n",
      " [0.         0.         0.         0.         0.         0.\n",
      "  0.         0.         0.         0.         0.         0.\n",
      "  0.         0.         0.         0.00595238]]\n"
     ]
    },
    {
     "data": {
      "image/png": "[encoded data removed]",
      "text/plain": [
       "<Figure size 432x288 with 1 Axes>"
      ]
     },
     "metadata": {
      "needs_background": "light"
     },
     "output_type": "display_data"
    },
    {
     "name": "stdout",
     "output_type": "stream",
     "text": [
      "arg q-func : \n",
      "[[0.98367006]]\n",
      "random\n",
      "beta 0.5434049417909654\n",
      "random\n",
      "beta 0.27836938509379616\n",
      "random\n",
      "beta 0.4245175907491331\n",
      "random\n",
      "beta 0.8447761323199037\n",
      "random\n",
      "beta 0.004718856190972565\n",
      "random\n",
      "beta 0.12156912078311422\n",
      "random\n",
      "beta 0.6707490847267786\n",
      "random\n",
      "beta 0.8258527551050476\n",
      "random\n",
      "beta 0.13670658968495297\n",
      "task 1 empirical mean = -0.010383162821594183\n",
      "task 1 empirical mean = 0.08614388825666613\n",
      "task 1 empirical mean = 0.024111917709081457\n",
      "task 1 empirical mean = -0.03329167694431728\n",
      "task 1 empirical mean = 0.013589669518937864\n",
      "task 1 empirical mean = 0.0142968732743139\n",
      "task 1 empirical mean = -0.050266887751540784\n",
      "task 1 empirical mean = 0.012474316099302274\n",
      "task 1 empirical mean = -0.013394003591663595\n",
      "task 1 empirical mean = -0.18655620367693823\n",
      "MM_gathered : \n",
      "  0.951924    -0.969539   0.749151   -0.57875   0.311353   -0.24342   0.227757  -0.330132   0.831565  -0.809621   0.0729418   -0.0536758    0.102033  -0.174777   0.621764  -0.502902    0.84566  -0.861757  -0.0986527  -0.315052  \n",
      " -0.969539      1.00123   -0.76598   0.617884  -0.263475   0.221641  -0.240907   0.317086  -0.824951    0.80408  -0.0150869  -0.00877494  -0.0489031   0.136805   -0.56795   0.537739  -0.827778   0.847764    0.122231   0.136177  \n",
      "  0.749151     -0.76598    1.72257   -1.52414    1.16021   -1.20242    1.24267  -0.899731    1.13254   -1.11581     1.11969     -0.98553       1.092   -1.17949    1.33645   -1.22631    1.18857   -1.21568     1.20924   -1.35127  \n",
      "  -0.57875     0.617884   -1.52414   0.936933   -1.04045   0.989171   -1.21093    1.17366   -1.00117   0.959235   -0.898834     0.843833   -0.967609   0.959359  -0.662768    0.97224   -1.06607   0.989556   -0.735122   0.927485  \n",
      "  0.311353    -0.263475    1.16021   -1.04045   0.991575   -0.97316    1.14243  -0.903924   0.721526  -0.698738     1.07078    -0.942397    0.922873  -0.953574   0.989188  -0.715662   0.774515  -0.796467    0.986895   -1.08098  \n",
      "  -0.24342     0.221641   -1.20242   0.989171   -0.97316   0.993946   -1.08782   0.919942    -0.6632   0.660606   -0.958923     0.904885   -0.932514   0.969333   -1.00148   0.792733  -0.722983   0.721988   -0.983679    1.04215  \n",
      "  0.227757    -0.240907    1.24267   -1.21093    1.14243   -1.08782    1.40863   -1.23445   0.745869  -0.754327    0.872982     -0.88993     1.04171  -0.973391    0.67046  -0.689675   0.820893  -0.845799    0.724068   -1.26743  \n",
      " -0.330132     0.317086  -0.899731    1.17366  -0.903924   0.919942   -1.23445   0.725966  -0.704625   0.751767    -1.01074      1.05647   -0.802402   0.844035   -1.00537    0.77325   -0.72464   0.779481   -0.835407   0.819606  \n",
      "  0.831565    -0.824951    1.13254   -1.00117   0.721526    -0.6632   0.745869  -0.704625   0.960268  -0.949547    0.616714    -0.661781    0.529374  -0.644756   0.903294  -0.808816   0.993223   -1.01322    0.343911  -0.681856  \n",
      " -0.809621      0.80408   -1.11581   0.959235  -0.698738   0.660606  -0.754327   0.751767  -0.949547   0.888018   -0.603595     0.571738   -0.518934   0.606609  -0.886515   0.794616  -0.952267   0.971508   -0.397807     0.7729  \n",
      " 0.0729418   -0.0150869    1.11969  -0.898834    1.07078  -0.958923   0.872982   -1.01074   0.616714  -0.603595     1.40181    -0.916653    0.944039   -1.01534    1.24172  -0.926888   0.650532  -0.725908     1.02142   -0.98007  \n",
      "-0.0536758  -0.00877494   -0.98553   0.843833  -0.942397   0.904885   -0.88993    1.05647  -0.661781   0.571738   -0.916653     0.985145   -0.849048    1.00942   -0.87293   0.516086   -0.59164   0.599101   -0.967281   0.935983  \n",
      "  0.102033   -0.0489031      1.092  -0.967609   0.922873  -0.932514    1.04171  -0.802402   0.529374  -0.518934    0.944039    -0.849048    0.900488  -0.924609   0.832422   -0.65238   0.584394  -0.571347    0.964272  -0.935792  \n",
      " -0.174777     0.136805   -1.17949   0.959359  -0.953574   0.969333  -0.973391   0.844035  -0.644756   0.606609    -1.01534      1.00942   -0.924609   0.972829  -0.917238   0.717537  -0.667477   0.669357     -1.0379   0.990364  \n",
      "  0.621764     -0.56795    1.33645  -0.662768   0.989188   -1.00148    0.67046   -1.00537   0.903294  -0.886515     1.24172     -0.87293    0.832422  -0.917238    1.10967  -0.671335   0.912015  -0.959813      1.1958  -0.870433  \n",
      " -0.502902     0.537739   -1.22631    0.97224  -0.715662   0.792733  -0.689675    0.77325  -0.808816   0.794616   -0.926888     0.516086    -0.65238   0.717537  -0.671335   0.722437  -0.857699   0.910723   -0.287438   0.917907  \n",
      "   0.84566    -0.827778    1.18857   -1.06607   0.774515  -0.722983   0.820893   -0.72464   0.993223  -0.952267    0.650532     -0.59164    0.584394  -0.667477   0.912015  -0.857699    1.03946   -1.05905    0.455651  -0.780139  \n",
      " -0.861757     0.847764   -1.21568   0.989556  -0.796467   0.721988  -0.845799   0.779481   -1.01322   0.971508   -0.725908     0.599101   -0.571347   0.669357  -0.959813   0.910723   -1.05905    1.06069   -0.490336   0.854237  \n",
      "-0.0986527     0.122231    1.20924  -0.735122   0.986895  -0.983679   0.724068  -0.835407   0.343911  -0.397807     1.02142    -0.967281    0.964272    -1.0379     1.1958  -0.287438   0.455651  -0.490336     1.15353    -1.2987  \n",
      " -0.315052     0.136177   -1.35127   0.927485   -1.08098    1.04215   -1.26743   0.819606  -0.681856     0.7729    -0.98007     0.935983   -0.935792   0.990364  -0.870433   0.917907  -0.780139   0.854237     -1.2987    1.03189  \n"
     ]
    },
    {
     "data": {
      "image/png": "[encoded data removed]",
      "text/plain": [
       "<Figure size 432x288 with 1 Axes>"
      ]
     },
     "metadata": {
      "needs_background": "light"
     },
     "output_type": "display_data"
    },
    {
     "name": "stdout",
     "output_type": "stream",
     "text": [
      "  -4.03181  \n",
      "  -9.69545  \n",
      "   11.9557  \n",
      "   52.0748  \n",
      "  -1.11776  \n",
      "-0.0441916  \n",
      "   -1.8263  \n",
      "  -13.3226  \n",
      "   5.21554  \n",
      "  -3.54389  \n",
      "   3.56002  \n",
      "   9.35362  \n",
      "   15.6418  \n",
      "  -3.24813  \n",
      "  -52.7487  \n",
      "  -13.6246  \n",
      "   5.84917  \n",
      "   3.54177  \n",
      "   19.6462  \n",
      "   -7.8282  \n",
      "[[0.0952381 0.        0.        0.        0.        0.        0.\n",
      "  0.        0.        0.        0.        0.        0.        0.\n",
      "  0.        0.        0.        0.        0.        0.       ]\n",
      " [0.        0.0952381 0.        0.        0.        0.        0.\n",
      "  0.        0.        0.        0.        0.        0.        0.\n",
      "  0.        0.        0.        0.        0.        0.       ]\n",
      " [0.        0.        0.0047619 0.        0.        0.        0.\n",
      "  0.        0.        0.        0.        0.        0.        0.\n",
      "  0.        0.        0.        0.        0.        0.       ]\n",
      " [0.        0.        0.        0.0047619 0.        0.        0.\n",
      "  0.        0.        0.        0.        0.        0.        0.\n",
      "  0.        0.        0.        0.        0.        0.       ]\n",
      " [0.        0.        0.        0.        0.0952381 0.        0.\n",
      "  0.        0.        0.        0.        0.        0.        0.\n",
      "  0.        0.        0.        0.        0.        0.       ]\n",
      " [0.        0.        0.        0.        0.        0.0952381 0.\n",
      "  0.        0.        0.        0.        0.        0.        0.\n",
      "  0.        0.        0.        0.        0.        0.       ]\n",
      " [0.        0.        0.        0.        0.        0.        0.0047619\n",
      "  0.        0.        0.        0.        0.        0.        0.\n",
      "  0.        0.        0.        0.        0.        0.       ]\n",
      " [0.        0.        0.        0.        0.        0.        0.\n",
      "  0.0047619 0.        0.        0.        0.        0.        0.\n",
      "  0.        0.        0.        0.        0.        0.       ]\n",
      " [0.        0.        0.        0.        0.        0.        0.\n",
      "  0.        0.0952381 0.        0.        0.        0.        0.\n",
      "  0.        0.        0.        0.        0.        0.       ]\n",
      " [0.        0.        0.        0.        0.        0.        0.\n",
      "  0.        0.        0.0952381 0.        0.        0.        0.\n",
      "  0.        0.        0.        0.        0.        0.       ]\n",
      " [0.        0.        0.        0.        0.        0.        0.\n",
      "  0.        0.        0.        0.0047619 0.        0.        0.\n",
      "  0.        0.        0.        0.        0.        0.       ]\n",
      " [0.        0.        0.        0.        0.        0.        0.\n",
      "  0.        0.        0.        0.        0.0047619 0.        0.\n",
      "  0.        0.        0.        0.        0.        0.       ]\n",
      " [0.        0.        0.        0.        0.        0.        0.\n",
      "  0.        0.        0.        0.        0.        0.0952381 0.\n",
      "  0.        0.        0.        0.        0.        0.       ]\n",
      " [0.        0.        0.        0.        0.        0.        0.\n",
      "  0.        0.        0.        0.        0.        0.        0.0952381\n",
      "  0.        0.        0.        0.        0.        0.       ]\n",
      " [0.        0.        0.        0.        0.        0.        0.\n",
      "  0.        0.        0.        0.        0.        0.        0.\n",
      "  0.0047619 0.        0.        0.        0.        0.       ]\n",
      " [0.        0.        0.        0.        0.        0.        0.\n",
      "  0.        0.        0.        0.        0.        0.        0.\n",
      "  0.        0.0047619 0.        0.        0.        0.       ]\n",
      " [0.        0.        0.        0.        0.        0.        0.\n",
      "  0.        0.        0.        0.        0.        0.        0.\n",
      "  0.        0.        0.0952381 0.        0.        0.       ]\n",
      " [0.        0.        0.        0.        0.        0.        0.\n",
      "  0.        0.        0.        0.        0.        0.        0.\n",
      "  0.        0.        0.        0.0952381 0.        0.       ]\n",
      " [0.        0.        0.        0.        0.        0.        0.\n",
      "  0.        0.        0.        0.        0.        0.        0.\n",
      "  0.        0.        0.        0.        0.0047619 0.       ]\n",
      " [0.        0.        0.        0.        0.        0.        0.\n",
      "  0.        0.        0.        0.        0.        0.        0.\n",
      "  0.        0.        0.        0.        0.        0.0047619]]\n"
     ]
    },
    {
     "data": {
      "image/png": "[encoded data removed]",
      "text/plain": [
       "<Figure size 432x288 with 1 Axes>"
      ]
     },
     "metadata": {
      "needs_background": "light"
     },
     "output_type": "display_data"
    },
    {
     "name": "stdout",
     "output_type": "stream",
     "text": [
      "arg q-func : \n",
      "[[0.98684725]]\n"
     ]
    }
   ],
   "source": [
    "# %%prun -s cumulative\n",
    "%matplotlib inline\n",
    "# profiling\n",
    "p = 100\n",
    "m = 2\n",
    "# on ajoute des tâches 2 par 2\n",
    "nb_tasks = 6\n",
    "step = 2\n",
    "t = range(2,step*nb_tasks, step)\n",
    "multiple = 1\n",
    "to_add = [1000, 1000], [50, 50]\n",
    "n_t = []\n",
    "n_t_test = [[500, 500]]\n",
    "nt = sum(n_t_test[0])\n",
    "# la liste temps comprendra le temps pour le training, le calcul de M et y et le temps d'inférence\n",
    "emp_rate, th_rate, var, relative_error_rate = [], [], [], []\n",
    "\n",
    "# temps\n",
    "t_SC = 0\n",
    "t_inf = []\n",
    "t_MM_f = 0\n",
    "t_inf_f = 0\n",
    "t_total_d = []\n",
    "t_SC_d = []\n",
    "random_state = 100\n",
    "\n",
    "# données envoyées de taille p\n",
    "data_sent = []\n",
    "\n",
    "# on définit la tache cible\n",
    "task_target = 1\n",
    "\n",
    "M = mean_matrix(p, beta=None, k=2, random_seed=random_state, random=True)\n",
    "X_test, y_test = gaussian_synthetic_data(nt, p, m, 1, n_t_test, [M[task_target]], random_state)\n",
    "mean_test = M[task_target]\n",
    "# print(\"norme tâche de test : \", np.linalg.norm(X_test_aggregated))\n",
    "X_test = normalisation(X_test, p)\n",
    "\n",
    "for b in t:\n",
    "    t_MM = []\n",
    "    sent = 0\n",
    "    for i in range(step):\n",
    "        n_t.append(to_add[i])\n",
    "    \n",
    "    n = sum(list(map(sum, (n_t[i] for i in range(b)))))\n",
    "#     print(\"n = \", n)\n",
    "    # on crée les données synthétiques\n",
    "    M = mean_matrix(p, beta=None, k=b, random_seed=random_state, random=True)\n",
    "#     print(f\"Test mean: {mean_test[0]==M[1][0]}\") # True\n",
    "       \n",
    "    X, y_bs = gaussian_synthetic_data(n, p, m, b, n_t, M, random_state)\n",
    "    MM = []\n",
    "    diag = []\n",
    "#     X = normalisation(X, p)\n",
    "    \n",
    "    # On calcule les moyennes empiriques sur les données locales de chaque serveur\n",
    "    # diag1 = [diag1[0], diag1[1]]\n",
    "    for i in range(b):\n",
    "        t0 = time()\n",
    "        MM1, diag1 = empirical_mean_old(1, m, [X[i]], p, [n_t[i]])\n",
    "        print(f\"task 1 empirical mean = {np.mean(MM1[0])}\")\n",
    "        # chaque moyenne empirique calculée est un vecteur de taille p\n",
    "        sent+=1\n",
    "        t_MM.append(time()-t0)\n",
    "        \n",
    "        MM.append(MM1)\n",
    "        diag.append(diag1)\n",
    "\n",
    "    # CENTRAL SERVER\n",
    "    t0 = time()\n",
    "    # sending empirical means to central server\n",
    "    V, y, correlation_matrix, Dc, c0 = merging_center(MM, diag, b, m, p, n, n_t, task_target, True)   \n",
    "    #V_true, y_true, correlation_matrix_true, Dc, c0 = merging_center(M_true, diag_true, b, m, p, n_t, task_target)\n",
    "    t_SC = time()-t0\n",
    "    print(Dc)\n",
    "    \n",
    "    # END CENTRAL SERVER\n",
    "    # a prendre en compte dans le timing\n",
    "    \n",
    "    X_train_aggregated = aggregate_array(X, p, n, b, m)\n",
    "    X_test_aggregated = aggregate_array(X_test, p, nt, 1, m)\n",
    "    # On time le temps d'inférence\n",
    "    \n",
    "    # Calcul avec les vraies moyennes\n",
    "    M_true = true_mean(M, p, b, m)\n",
    "    MM_true = M_true.T@M_true\n",
    "    correlation_matrix_true = compute_M_cal(n, p, Dc, MM_true, display=False)\n",
    "    y_true = label_evaluation(b,m,Dc, MM_true, c0, task_target=task_target)\n",
    "    \n",
    "#     V_true = compute_V(y_true, X_train_aggregated, J, n)\n",
    "#     debug_histogram(V_true, X_test_aggregated, n_t_test)\n",
    "#     print(\"V = \")\n",
    "#     test pour vérifier le calcul de V dans le serveur: tout est bon\n",
    "#     J = create_J(m, b, n, n_t)\n",
    "#     V = compute_V(y, X_train_aggregated, J, n)\n",
    "    VTX = V.T@X_test_aggregated\n",
    "    var.append(np.var(VTX))\n",
    "    debug_histogram(V, X_test_aggregated, n_t_test)\n",
    "    \n",
    "    t0 = time()\n",
    "    m_t = create_mt(b, m, y, Dc, correlation_matrix)\n",
    "    \n",
    "    erreur_theorique = error_rate(b, m,  Dc, MM_true, c0)[0][0]\n",
    "    emp_rate.append(compute_error_rate(X_test, V, m_t, 1, m, n_t_test, Dc, c0))\n",
    "    th_rate.append(erreur_theorique)\n",
    "    t_inf.append(time()-t0)\n",
    "    t_MM_f = max(t_MM)\n",
    "    t_inf_f = max(t_inf)\n",
    "    t_total_d.append(t_MM_f + t_SC)\n",
    "    t_SC_d.append(t_SC)\n",
    "    data_sent.append(sent)\n",
    "\n",
    "# print(f\"temps moyen clients : {round(np.mean(t_MM_f), 5)}, {round(np.mean(t_inf_f), 5)}\")\n",
    "# print(f\"temps moyen Serveur central : {round(np.mean(t_SC), 5)}\")\n",
    "# print(f\"temps total moyen : {round(np.mean(t_MM_f), 5) + round(np.mean(t_inf_f), 5) + round(np.mean(t_SC), 5)}\")"
   ]
  },
  {
   "cell_type": "code",
   "execution_count": 90,
   "metadata": {},
   "outputs": [
    {
     "name": "stdout",
     "output_type": "stream",
     "text": [
      "[2, 4, 6, 8, 10, 12, 14, 16, 18]\n",
      "[2100, 4200, 6300, 8400, 10500]\n",
      "[0.0006132125854492188, 0.0007386207580566406, 0.0012683868408203125, 0.0018301010131835938, 0.0036993026733398438, 0.0035157203674316406, 0.006444215774536133, 0.006421804428100586, 0.00941157341003418]\n",
      "[0.0014486312866210938, 0.0015006065368652344, 0.0024559497833251953, 0.0027616024017333984, 0.004588603973388672, 0.004677772521972656, 0.008049964904785156, 0.007590532302856445, 0.012226581573486328]\n",
      "[0.19730359169896483, 0.18409367962615064, 0.16952392663218724, 0.16464100094357442, 0.16390025000312758, 0.16287128429045816, 0.16279455537925752, 0.16181543518909547, 0.16123270573877568]\n"
     ]
    }
   ],
   "source": [
    "print(data_sent)\n",
    "print(data_sent_nd)\n",
    "print(t_SC_d)\n",
    "print(t_total_d)\n",
    "print(th_rate)"
   ]
  },
  {
   "cell_type": "code",
   "execution_count": 77,
   "metadata": {},
   "outputs": [
    {
     "data": {
      "image/png": "[encoded data removed]",
      "text/plain": [
       "<Figure size 432x288 with 1 Axes>"
      ]
     },
     "metadata": {
      "needs_background": "light"
     },
     "output_type": "display_data"
    },
    {
     "data": {
      "image/png": "[encoded data removed]",
      "text/plain": [
       "<Figure size 432x288 with 1 Axes>"
      ]
     },
     "metadata": {
      "needs_background": "light"
     },
     "output_type": "display_data"
    },
    {
     "data": {
      "image/png": "[encoded data removed]",
      "text/plain": [
       "<Figure size 432x288 with 1 Axes>"
      ]
     },
     "metadata": {
      "needs_background": "light"
     },
     "output_type": "display_data"
    }
   ],
   "source": [
    "# plot le temps du distribué vs non distribué\n",
    "plt.plot(data_sent, t_total_d, '-o', label='distribué')\n",
    "plt.plot(data_sent, t_SC_d, '-o', label='serveur central')\n",
    "# plt.plot(t, t_total_nd, '-o', label='non distribué')\n",
    "plt.xlabel(\"Nombre de tâches\")\n",
    "plt.ylabel(\"Temps total\")\n",
    "plt.title(\"Temps totaux de traitement en fonction du nombre de tâches\")\n",
    "plt.legend()\n",
    "plt.grid()\n",
    "plt.show()\n",
    "\n",
    "plt.plot(data_sent, data_sent, \"-o\", label='distribué')\n",
    "# plt.plot(t, data_sent_nd, '-o', label='non distribué')\n",
    "plt.xlabel(\"Nombre de tâches\")\n",
    "plt.ylabel(\"Nombre de données envoyées\")\n",
    "plt.yscale(\"log\")\n",
    "plt.title(r\"Nombre de données de taille $p$ envoyées au serveur central\")\n",
    "plt.legend()\n",
    "plt.grid()\n",
    "plt.show()\n",
    "\n",
    "lower = np.array(emp_rate) - np.array(var)\n",
    "upper = np.array(emp_rate) + np.array(var)\n",
    "plt.fill_between(data_sent, lower, upper, alpha=0.2, label=\"variance\")\n",
    "plt.plot(data_sent, emp_rate, \"-o\", label='empirical rate')\n",
    "plt.plot(data_sent, th_rate, '-o', label='theoritical rate')\n",
    "plt.xlabel(\"Nombre de tâches\")\n",
    "plt.ylabel(\"Taux d'erreur\")\n",
    "plt.title(r\"Taux d'erreur empirique et théorique\")\n",
    "plt.legend()\n",
    "plt.grid()\n",
    "plt.show()"
   ]
  },
  {
   "cell_type": "markdown",
   "metadata": {},
   "source": [
    "# Real Data"
   ]
  },
  {
   "cell_type": "code",
   "execution_count": 25,
   "metadata": {},
   "outputs": [],
   "source": [
    "def normalisation(X, p, z=False):\n",
    "    \"\"\"\n",
    "    si z: z-score normalisation par tâche\n",
    "    sinon: divsion par sqrt(p)\n",
    "    \"\"\"\n",
    "    if not z:\n",
    "        for i in range(len(X)):\n",
    "            for j in range(len(X[i])):\n",
    "                X[i][j] *= 1/np.sqrt(p)\n",
    "    else:\n",
    "        for i in range(len(X)):\n",
    "            task = np.concatenate((X[i][0], X[i][1]), axis=1)\n",
    "            mean = np.mean(task, axis=1)\n",
    "            mean = np.reshape(mean, (p, 1))\n",
    "            X[i][0] = (X[i][0] - mean)/np.std(task)\n",
    "            X[i][1] = (X[i][1] - mean)/np.std(task)\n",
    "    return X"
   ]
  },
  {
   "cell_type": "code",
   "execution_count": 26,
   "metadata": {},
   "outputs": [],
   "source": [
    "def divide_array(X,y,k,m=2):\n",
    "    \"\"\"\n",
    "    Divide a data ndarray in an array of k arrays of m ndarrays each.\n",
    "    Return the divided array and the number of elements in each classes of each tasks\n",
    "    \"\"\"\n",
    "    X_data = []\n",
    "    n_t = []\n",
    "    for task in range(k):\n",
    "        n_t.append([])\n",
    "        X_data.append([])\n",
    "        n_t1 = np.count_nonzero(y)\n",
    "        n_t[task].append(n_t1)\n",
    "        n_t[task].append(len(y) - n_t1)\n",
    "        X_data[task].append(X[:n_t1].T)\n",
    "        X_data[task].append(X[n_t1:].T)\n",
    "        \n",
    "    return X_data, n_t"
   ]
  },
  {
   "cell_type": "code",
   "execution_count": 86,
   "metadata": {},
   "outputs": [
    {
     "data": {
      "text/plain": [
       "(400, 2)"
      ]
     },
     "execution_count": 86,
     "metadata": {},
     "output_type": "execute_result"
    }
   ],
   "source": [
    "np.where(y_test==1, X_test_aggregated, y_test)[0]\n",
    "np.where(y==1, np.concatenate((X[0][0],X[0][1]), axis=1).T, y)[999]\n",
    "MM[1].shape"
   ]
  },
  {
   "cell_type": "code",
   "execution_count": 78,
   "metadata": {
    "scrolled": true
   },
   "outputs": [
    {
     "name": "stdout",
     "output_type": "stream",
     "text": [
      "[[800, 800], [500, 500]]\n",
      "n :  2600\n",
      "lenMM : 2\n",
      "MM_gathered : \n",
      "0.884357  -1.55344    1.6135  -1.37021  \n",
      "-1.55344   1.21469   -1.6135   1.37021  \n",
      "  1.6135   -1.6135   3.64864  -3.56966  \n",
      "-1.37021   1.37021  -3.56966   3.14885  \n"
     ]
    },
    {
     "data": {
      "image/png": "[encoded data removed]",
      "text/plain": [
       "<Figure size 432x288 with 1 Axes>"
      ]
     },
     "metadata": {
      "needs_background": "light"
     },
     "output_type": "display_data"
    },
    {
     "name": "stdout",
     "output_type": "stream",
     "text": [
      "-4.53478  \n",
      "-4.75496  \n",
      " 4.76495  \n",
      "-4.41756  \n",
      "0.307692         0         0         0  \n",
      "       0  0.307692         0         0  \n",
      "       0         0  0.192308         0  \n",
      "       0         0         0  0.192308  \n"
     ]
    },
    {
     "data": {
      "image/png": "[encoded data removed]",
      "text/plain": [
       "<Figure size 432x288 with 1 Axes>"
      ]
     },
     "metadata": {
      "needs_background": "light"
     },
     "output_type": "display_data"
    },
    {
     "name": "stdout",
     "output_type": "stream",
     "text": [
      "[[800, 800], [500, 500], [800, 800]]\n",
      "n :  4200\n",
      "lenMM : 3\n",
      "MM_gathered : \n",
      "0.884357  -1.55344    1.6135  -1.37021   1.30051  -1.30051  \n",
      "-1.55344   1.21469   -1.6135   1.37021  -1.30051   1.30051  \n",
      "  1.6135   -1.6135   3.64864  -3.56966   1.80112  -1.80112  \n",
      "-1.37021   1.37021  -3.56966   3.14885  -1.70923   1.70923  \n",
      " 1.30051  -1.30051   1.80112  -1.70923   1.52735  -1.96611  \n",
      "-1.30051   1.30051  -1.80112   1.70923  -1.96611   1.63885  \n"
     ]
    },
    {
     "data": {
      "image/png": "[encoded data removed]",
      "text/plain": [
       "<Figure size 432x288 with 1 Axes>"
      ]
     },
     "metadata": {
      "needs_background": "light"
     },
     "output_type": "display_data"
    },
    {
     "name": "stdout",
     "output_type": "stream",
     "text": [
      "-2.99247  \n",
      "-3.13776  \n",
      " 7.30191  \n",
      "-6.58032  \n",
      " 1.09789  \n",
      "-0.38922  \n",
      "0.190476         0         0         0         0         0  \n",
      "       0  0.190476         0         0         0         0  \n",
      "       0         0  0.119048         0         0         0  \n",
      "       0         0         0  0.119048         0         0  \n",
      "       0         0         0         0  0.190476         0  \n",
      "       0         0         0         0         0  0.190476  \n"
     ]
    },
    {
     "data": {
      "image/png": "[encoded data removed]",
      "text/plain": [
       "<Figure size 432x288 with 1 Axes>"
      ]
     },
     "metadata": {
      "needs_background": "light"
     },
     "output_type": "display_data"
    },
    {
     "name": "stdout",
     "output_type": "stream",
     "text": [
      "[[800, 800], [500, 500], [800, 800], [500, 500]]\n",
      "n :  5200\n",
      "lenMM : 4\n",
      "MM_gathered : \n",
      "0.884357  -1.55344    1.6135  -1.37021   1.30051  -1.30051   1.26514  -1.26514  \n",
      "-1.55344   1.21469   -1.6135   1.37021  -1.30051   1.30051  -1.26514   1.26514  \n",
      "  1.6135   -1.6135   3.64864  -3.56966   1.80112  -1.80112   2.95153  -2.95153  \n",
      "-1.37021   1.37021  -3.56966   3.14885  -1.70923   1.70923  -2.80289   2.80289  \n",
      " 1.30051  -1.30051   1.80112  -1.70923   1.52735  -1.96611    1.5593   -1.5593  \n",
      "-1.30051   1.30051  -1.80112   1.70923  -1.96611   1.63885   -1.5593    1.5593  \n",
      " 1.26514  -1.26514   2.95153  -2.80289    1.5593   -1.5593   2.50016   -3.3776  \n",
      "-1.26514   1.26514  -2.95153   2.80289   -1.5593    1.5593   -3.3776   2.88636  \n"
     ]
    },
    {
     "data": {
      "image/png": "[encoded data removed]",
      "text/plain": [
       "<Figure size 432x288 with 1 Axes>"
      ]
     },
     "metadata": {
      "needs_background": "light"
     },
     "output_type": "display_data"
    },
    {
     "name": "stdout",
     "output_type": "stream",
     "text": [
      " -3.22855  \n",
      " -3.38531  \n",
      "  7.57801  \n",
      " -6.42051  \n",
      " 0.884086  \n",
      "-0.313422  \n",
      "  6.59526  \n",
      "  1.65416  \n",
      "0.153846         0          0          0         0         0          0          0  \n",
      "       0  0.153846          0          0         0         0          0          0  \n",
      "       0         0  0.0961538          0         0         0          0          0  \n",
      "       0         0          0  0.0961538         0         0          0          0  \n",
      "       0         0          0          0  0.153846         0          0          0  \n",
      "       0         0          0          0         0  0.153846          0          0  \n",
      "       0         0          0          0         0         0  0.0961538          0  \n",
      "       0         0          0          0         0         0          0  0.0961538  \n"
     ]
    },
    {
     "data": {
      "image/png": "[encoded data removed]",
      "text/plain": [
       "<Figure size 432x288 with 1 Axes>"
      ]
     },
     "metadata": {
      "needs_background": "light"
     },
     "output_type": "display_data"
    },
    {
     "data": {
      "image/png": "[encoded data removed]",
      "text/plain": [
       "<Figure size 432x288 with 1 Axes>"
      ]
     },
     "metadata": {
      "needs_background": "light"
     },
     "output_type": "display_data"
    }
   ],
   "source": [
    "from scipy.stats import zscore\n",
    "dataset = \"amazon\"\n",
    "# dataset = \"mnist\"\n",
    "# dataset = \"caltech\"\n",
    "\n",
    "from scipy.io import loadmat\n",
    "m=2\n",
    "p=400\n",
    "n11, n12, n21, n22 = 800, 800, 500, 500\n",
    "var, emp_rate = [], []\n",
    "if dataset == \"amazon\":\n",
    "    k = 3\n",
    "    mat = loadmat(\"books_400.mat\")\n",
    "    mat_test = loadmat(\"kitchen_400.mat\")\n",
    "\n",
    "    X_test_aggregated, y_test = mat_test['fts'], mat_test['labels']\n",
    "    X_test, n_t_test = divide_array(X_test_aggregated, y_test, 1)\n",
    "    X_test = normalisation(X_test, p, True)\n",
    "    # X1 contient toute la premiere tâche\n",
    "    X1_aggregated, y = mat[\"fts\"], mat[\"labels\"]\n",
    "#     X1_aggregated = zscore(X1_aggregated, axis=None)\n",
    "    X, n_t = divide_array(X1_aggregated, y, 1)\n",
    "    X = [[X[0][0].T[:n11].T, X[0][1].T[:n12].T]]\n",
    "    n_t = [[n11, n12]]\n",
    "    X = normalisation(X, p, True)\n",
    "    X.append([X_test[0][0].T[:n21].T, X_test[0][1].T[:n22].T])\n",
    "    n_t.append([n21, n22])\n",
    "    task_target = 1\n",
    "    \n",
    "for t in range(2, k+2):\n",
    "#     nt = sum(n_t_test[0])\n",
    "    # add tasks\n",
    "    if t>2:\n",
    "        if t==3:\n",
    "            mat = loadmat(\"dvd_400.mat\")\n",
    "            X2_aggregated, y2 = mat[\"fts\"], mat[\"labels\"] \n",
    "#             X2_aggregated = zscore(X2_aggregated, axis=None)\n",
    "            X_tmp, n_t_tmp = divide_array(X2_aggregated, y2, 1)\n",
    "            X_tmp = [[X_tmp[0][0].T[:n11].T, X_tmp[0][1].T[:n12].T]]\n",
    "#             X_tmp = normalisation(X_tmp, p)\n",
    "            X_tmp = normalisation(X_tmp, p, True)\n",
    "            X.append(X_tmp[0])\n",
    "            n_t.append([n11, n12])\n",
    "        elif t==4:\n",
    "            mat = loadmat(\"elec_400.mat\")\n",
    "            X3_aggregated, y3 = mat[\"fts\"], mat[\"labels\"] \n",
    "#             X3_aggregated = zscore(X3_aggregated, axis=None)\n",
    "            X_tmp, n_t_tmp = divide_array(X3_aggregated, y3, 1)\n",
    "            X_tmp = [[X_tmp[0][0].T[:n21].T, X_tmp[0][1].T[:n22].T]]\n",
    "            X_tmp = normalisation(X_tmp[:], p, True)\n",
    "#             X_tmp = normalisation(X_tmp, p)\n",
    "            X.append(X_tmp[0])\n",
    "            n_t.append([n21, n22])\n",
    "    print(n_t)\n",
    "    n = sum(list(map(sum, (n_t[i] for i in range(t)))))\n",
    "    print(\"n : \", n)\n",
    "    MM = []\n",
    "    diag = []\n",
    "    for i in range(t):\n",
    "        MM1, diag1 = empirical_mean_old(1, m, [X[i]], p, [n_t[i]])\n",
    "        # chaque moyenne empirique calculée est un vecteur de taille p\n",
    "#         sent+=1\n",
    "#         t_MM.append(time()-t0)\n",
    "        MM.append(MM1)\n",
    "        diag.append(diag1)\n",
    "    print(f\"lenMM : {len(MM)}\")\n",
    "    # CENTRAL SERVER\n",
    "#     t0 = time()\n",
    "    # sending empirical means to central server\n",
    "    V, y_opt, correlation_matrix, Dc, c0 = merging_center(MM, diag, t, m, p, n, n_t, task_target, True)\n",
    "    matprint(Dc)\n",
    "    # END CENTRAL SERVER\n",
    "    VTX = V.T@X_test_aggregated.T\n",
    "    debug_histogram(V, X_test_aggregated.T, n_t_test)\n",
    "    var.append(np.var(VTX))\n",
    "    m_t = create_mt(t, m, y_opt, Dc, correlation_matrix)\n",
    "    \n",
    "#     erreur_theorique = error_rate(t, m,  Dc, MM_true, c0)[0][0]\n",
    "    emp_rate.append(compute_error_rate(X_test, V, m_t, 1, m, n_t_test, Dc, c0))\n",
    "    \n",
    "plt.plot(list(range(k)), emp_rate, '-o')\n",
    "lower = np.array(emp_rate) - np.array(var)\n",
    "upper = np.array(emp_rate) + np.array(var)\n",
    "plt.fill_between(list(range(k)), lower, upper, alpha=0.2, label=\"variance\")\n",
    "ticks = [\"Books\", \"DVDs\", \"Electronics\"]\n",
    "plt.xticks(range(len(ticks)), ticks, size='larger')\n",
    "plt.xlabel(\"Added tasks\")\n",
    "# plt.ylim(0.18,0.24)\n",
    "plt.ylabel(\"Empirical error rate\")\n",
    "plt.legend()\n",
    "plt.grid()\n",
    "plt.title(\"Real data\")\n",
    "plt.show()"
   ]
  },
  {
   "cell_type": "code",
   "execution_count": 101,
   "metadata": {},
   "outputs": [
    {
     "name": "stdout",
     "output_type": "stream",
     "text": [
      "[[1000, 1000], [50, 50], [100, 100], [50, 50]]\n",
      "[[999, 1000]]\n",
      "4\n",
      "400\n",
      "[0.24562281140570286, 0.3051525762881441, 0.29464732366183094]\n",
      "[[999, 1000]]\n"
     ]
    },
    {
     "data": {
      "text/plain": [
       "1"
      ]
     },
     "execution_count": 101,
     "metadata": {},
     "output_type": "execute_result"
    }
   ],
   "source": [
    "# print(X[3][1].shape)\n",
    "print(n_t)\n",
    "print(n_t_test)\n",
    "print(t)\n",
    "print(p)\n",
    "moitie = int(n_t[1][0]/2)\n",
    "print(emp_rate)\n",
    "print(n_t_test)\n",
    "len(X_test)"
   ]
  },
  {
   "cell_type": "markdown",
   "metadata": {},
   "source": [
    "# MNIST\n"
   ]
  },
  {
   "cell_type": "code",
   "execution_count": 100,
   "metadata": {},
   "outputs": [
    {
     "data": {
      "text/plain": [
       "176"
      ]
     },
     "execution_count": 100,
     "metadata": {},
     "output_type": "execute_result"
    }
   ],
   "source": [
    "pca = PCA(0.99).fit(X1)\n",
    "pca.n_components_"
   ]
  },
  {
   "cell_type": "code",
   "execution_count": 72,
   "metadata": {},
   "outputs": [
    {
     "name": "stdout",
     "output_type": "stream",
     "text": [
      "100 composantes sont suffisantes\n"
     ]
    },
    {
     "data": {
      "image/png": "[encoded data removed]",
      "text/plain": [
       "<Figure size 432x288 with 1 Axes>"
      ]
     },
     "metadata": {
      "needs_background": "light"
     },
     "output_type": "display_data"
    }
   ],
   "source": [
    "from sklearn.decomposition import PCA\n",
    "\n",
    "pca = PCA().fit(X1)\n",
    "plt.grid()\n",
    "plt.plot(np.cumsum(pca.explained_variance_ratio_))\n",
    "plt.xlabel('number of components')\n",
    "plt.ylabel('cumulative explained variance');\n",
    "\n",
    "print(\"100 composantes sont suffisantes\")"
   ]
  },
  {
   "cell_type": "code",
   "execution_count": 131,
   "metadata": {
    "scrolled": true
   },
   "outputs": [],
   "source": [
    "from keras.datasets import mnist\n",
    "from sklearn.decomposition import PCA\n",
    "(X_train,y_train), (X_t,y_test)=mnist.load_data()"
   ]
  },
  {
   "cell_type": "code",
   "execution_count": 132,
   "metadata": {},
   "outputs": [],
   "source": [
    "X_train, X_t = np.reshape(X_train, (len(X_train), 784)), np.reshape(X_t, (len(X_t), 784))\n",
    "X_train = X_train.astype(\"float128\")\n",
    "X_t = X_t.astype(\"float128\")\n",
    "X_train, X_t = PCA(n_components=100).fit(X_train).transform(X_train), PCA(n_components=100).fit(X_t).transform(X_t)\n"
   ]
  },
  {
   "cell_type": "code",
   "execution_count": 133,
   "metadata": {},
   "outputs": [
    {
     "data": {
      "text/plain": [
       "(10000, 100)"
      ]
     },
     "execution_count": 133,
     "metadata": {},
     "output_type": "execute_result"
    }
   ],
   "source": [
    "X_t.shape"
   ]
  },
  {
   "cell_type": "code",
   "execution_count": 134,
   "metadata": {},
   "outputs": [],
   "source": [
    "# data=data+sigma*randn(size(data));\n",
    "sigma=1\n",
    "X_train = X_train+sigma*np.random.randn(X_train.shape[0], X_train.shape[1])\n",
    "X_t = X_t+sigma*np.random.randn(X_t.shape[0], X_t.shape[1])"
   ]
  },
  {
   "cell_type": "code",
   "execution_count": 127,
   "metadata": {},
   "outputs": [],
   "source": [
    "p=100\n",
    "X_train /= np.max(X_train)\n",
    "X_t /= np.max(X_t)\n",
    "# mean_data=mean(data,2);mean_test=mean(test,2);\n",
    "# norm2_data=0;norm2_test=0;\n",
    "# for i=1:init_n\n",
    "#     norm2_data=norm2_data+1/init_n*norm(data(:,i)-mean_data)^2;\n",
    "# end\n",
    "# for i=1:test_n\n",
    "#     norm2_test=norm2_test+1/test_n*norm(test(:,i)-mean_test)^2;\n",
    "# end\n",
    "#  data=(data-mean_data*ones(1,size(data,2)))/sqrt(norm2_data)*sqrt(p);\n",
    "#  test=(test-mean_test*ones(1,size(test,2)))/sqrt(norm2_test)*sqrt(p);\n",
    "mean_data = np.mean(X_train,axis=0); mean_test=np.mean(X_t, axis=0)\n",
    "norm2_data=0;norm2_test=0;\n",
    "for i in range(len(X_train)):\n",
    "    norm2_data += 1/len(X_train)*np.linalg.norm(X_train[i]-mean_data)**2\n",
    "for i in range(len(X_t)):\n",
    "    norm2_test += 1/len(X_t)*np.linalg.norm(X_t[i]-mean_test)**2\n",
    "X_train = (X_train-mean_data@np.ones((X_train.shape[1], 1)))/np.sqrt(norm2_data)*np.sqrt(p)\n",
    "X_t = (X_t-mean_test@np.ones((X_t.shape[1], 1)))/np.sqrt(norm2_test)*np.sqrt(p)"
   ]
  },
  {
   "cell_type": "code",
   "execution_count": 136,
   "metadata": {},
   "outputs": [
    {
     "name": "stdout",
     "output_type": "stream",
     "text": [
      "177625.69135741572\n"
     ]
    }
   ],
   "source": [
    "print(np.linalg.norm(X_t))"
   ]
  },
  {
   "cell_type": "code",
   "execution_count": 137,
   "metadata": {},
   "outputs": [],
   "source": [
    "from matplotlib import cm\n",
    "\n",
    "X0 = (X_train[y_train==0].T)\n",
    "X1 = (X_train[y_train==1].T)\n",
    "X2 = (X_train[y_train==2].T)\n",
    "X3 = (X_train[y_train==3].T)\n",
    "X4 = (X_train[y_train==4].T)\n",
    "X5 = (X_train[y_train==5].T)\n",
    "X6 = (X_train[y_train==6].T)\n",
    "X7 = (X_train[y_train==7].T)\n",
    "X8 = (X_train[y_train==8].T)\n",
    "X9 = (X_train[y_train==9].T)\n",
    "\n",
    "X0_test = (X_t[y_test==0].T)\n",
    "X1_test = (X_t[y_test==1].T)\n",
    "X2_test = (X_t[y_test==2].T)\n",
    "X3_test = (X_t[y_test==3].T)\n",
    "X4_test = (X_t[y_test==4].T)\n",
    "X5_test = (X_t[y_test==5].T)\n",
    "X6_test = (X_t[y_test==6].T)\n",
    "X7_test = (X_t[y_test==7].T)\n",
    "X8_test = (X_t[y_test==8].T)\n",
    "X9_test = (X_t[y_test==9].T)\n",
    "\n",
    "# for i in range(10):\n",
    "#     some_digit = X1[i]\n",
    "#     some_digit_image = some_digit.reshape(28, 28)\n",
    "#     plt.imshow(some_digit_image, cmap = cm.binary, interpolation=\"nearest\")\n",
    "#     plt.axis(\"off\")\n",
    "#     plt.show()"
   ]
  },
  {
   "cell_type": "code",
   "execution_count": 138,
   "metadata": {},
   "outputs": [
    {
     "name": "stdout",
     "output_type": "stream",
     "text": [
      "n :  200\n",
      "MM_gathered : \n",
      " 3.90482  -6.13597   1.31041  -1.31041  \n",
      "-6.13597   3.64809  -1.31041   1.31041  \n",
      " 1.31041  -1.31041   20.0277  -20.5285  \n",
      "-1.31041   1.31041  -20.5285   17.9163  \n"
     ]
    },
    {
     "data": {
      "image/png": "[encoded data removed]",
      "text/plain": [
       "<Figure size 432x288 with 1 Axes>"
      ]
     },
     "metadata": {
      "needs_background": "light"
     },
     "output_type": "display_data"
    },
    {
     "name": "stdout",
     "output_type": "stream",
     "text": [
      " 0.0619401  \n",
      "-0.0293466  \n",
      "   4.28744  \n",
      "  -3.29603  \n"
     ]
    },
    {
     "data": {
      "image/png": "[encoded data removed]",
      "text/plain": [
       "<Figure size 432x288 with 1 Axes>"
      ]
     },
     "metadata": {
      "needs_background": "light"
     },
     "output_type": "display_data"
    },
    {
     "name": "stdout",
     "output_type": "stream",
     "text": [
      "n :  400\n",
      "MM_gathered : \n",
      "  3.90482   -6.13597    1.31041   -1.31041   0.463474  -0.463474  \n",
      " -6.13597    3.64809   -1.31041    1.31041  -0.463474   0.463474  \n",
      "  1.31041   -1.31041    20.0277   -20.5285  -0.835887   0.835887  \n",
      " -1.31041    1.31041   -20.5285    17.9163   0.835887  -0.835887  \n",
      " 0.463474  -0.463474  -0.835887   0.835887    6.09804   -8.40818  \n",
      "-0.463474   0.463474   0.835887  -0.835887   -8.40818    7.64145  \n"
     ]
    },
    {
     "data": {
      "image/png": "[encoded data removed]",
      "text/plain": [
       "<Figure size 432x288 with 1 Axes>"
      ]
     },
     "metadata": {
      "needs_background": "light"
     },
     "output_type": "display_data"
    },
    {
     "name": "stdout",
     "output_type": "stream",
     "text": [
      "  0.129309  \n",
      "-0.0612653  \n",
      "   8.57794  \n",
      "  -6.58458  \n",
      "0.00982399  \n",
      " 0.0551737  \n"
     ]
    },
    {
     "data": {
      "image/png": "[encoded data removed]",
      "text/plain": [
       "<Figure size 432x288 with 1 Axes>"
      ]
     },
     "metadata": {
      "needs_background": "light"
     },
     "output_type": "display_data"
    },
    {
     "name": "stdout",
     "output_type": "stream",
     "text": [
      "n :  500\n",
      "MM_gathered : \n",
      "  3.90482   -6.13597    1.31041   -1.31041   0.463474  -0.463474   0.945452  -0.945452  \n",
      " -6.13597    3.64809   -1.31041    1.31041  -0.463474   0.463474  -0.945452   0.945452  \n",
      "  1.31041   -1.31041    20.0277   -20.5285  -0.835887   0.835887    4.02569   -4.02569  \n",
      " -1.31041    1.31041   -20.5285    17.9163   0.835887  -0.835887   -4.02569    4.02569  \n",
      " 0.463474  -0.463474  -0.835887   0.835887    6.09804   -8.40818    2.50568   -2.50568  \n",
      "-0.463474   0.463474   0.835887  -0.835887   -8.40818    7.64145   -2.50568    2.50568  \n",
      " 0.945452  -0.945452    4.02569   -4.02569    2.50568   -2.50568    11.1108   -13.0598  \n",
      "-0.945452   0.945452   -4.02569    4.02569   -2.50568    2.50568   -13.0598    11.0336  \n"
     ]
    },
    {
     "data": {
      "image/png": "[encoded data removed]",
      "text/plain": [
       "<Figure size 432x288 with 1 Axes>"
      ]
     },
     "metadata": {
      "needs_background": "light"
     },
     "output_type": "display_data"
    },
    {
     "name": "stdout",
     "output_type": "stream",
     "text": [
      "   0.13913  \n",
      "-0.0659183  \n",
      "   10.7782  \n",
      "  -8.09419  \n",
      " 0.0247363  \n",
      "  0.138924  \n",
      " -0.397718  \n",
      " -0.775835  \n"
     ]
    },
    {
     "data": {
      "image/png": "[encoded data removed]",
      "text/plain": [
       "<Figure size 432x288 with 1 Axes>"
      ]
     },
     "metadata": {
      "needs_background": "light"
     },
     "output_type": "display_data"
    },
    {
     "name": "stdout",
     "output_type": "stream",
     "text": [
      "n :  700\n",
      "MM_gathered : \n",
      "  3.90482   -6.13597    1.31041   -1.31041   0.463474  -0.463474   0.945452  -0.945452    1.67935   -1.67935  \n",
      " -6.13597    3.64809   -1.31041    1.31041  -0.463474   0.463474  -0.945452   0.945452   -1.67935    1.67935  \n",
      "  1.31041   -1.31041    20.0277   -20.5285  -0.835887   0.835887    4.02569   -4.02569    3.49365   -3.49365  \n",
      " -1.31041    1.31041   -20.5285    17.9163   0.835887  -0.835887   -4.02569    4.02569   -3.49365    3.49365  \n",
      " 0.463474  -0.463474  -0.835887   0.835887    6.09804   -8.40818    2.50568   -2.50568   0.642168  -0.642168  \n",
      "-0.463474   0.463474   0.835887  -0.835887   -8.40818    7.64145   -2.50568    2.50568  -0.642168   0.642168  \n",
      " 0.945452  -0.945452    4.02569   -4.02569    2.50568   -2.50568    11.1108   -13.0598   -1.74187    1.74187  \n",
      "-0.945452   0.945452   -4.02569    4.02569   -2.50568    2.50568   -13.0598    11.0336    1.74187   -1.74187  \n",
      "  1.67935   -1.67935    3.49365   -3.49365   0.642168  -0.642168   -1.74187    1.74187     11.336   -13.0089  \n",
      " -1.67935    1.67935   -3.49365    3.49365  -0.642168   0.642168    1.74187   -1.74187   -13.0089    11.3895  \n"
     ]
    },
    {
     "data": {
      "image/png": "[encoded data removed]",
      "text/plain": [
       "<Figure size 432x288 with 1 Axes>"
      ]
     },
     "metadata": {
      "needs_background": "light"
     },
     "output_type": "display_data"
    },
    {
     "name": "stdout",
     "output_type": "stream",
     "text": [
      " 0.0953455  \n",
      "-0.0451738  \n",
      "   15.1749  \n",
      "  -11.1226  \n",
      " 0.0439808  \n",
      "  0.247006  \n",
      " -0.705108  \n",
      "  -1.37547  \n",
      "  0.134883  \n",
      " -0.146539  \n"
     ]
    },
    {
     "data": {
      "image/png": "[encoded data removed]",
      "text/plain": [
       "<Figure size 432x288 with 1 Axes>"
      ]
     },
     "metadata": {
      "needs_background": "light"
     },
     "output_type": "display_data"
    },
    {
     "name": "stdout",
     "output_type": "stream",
     "text": [
      "n :  800\n",
      "MM_gathered : \n",
      "  3.90482   -6.13597    1.31041   -1.31041   0.463474  -0.463474   0.945452  -0.945452    1.67935   -1.67935  -0.741565   0.741565  \n",
      " -6.13597    3.64809   -1.31041    1.31041  -0.463474   0.463474  -0.945452   0.945452   -1.67935    1.67935   0.741565  -0.741565  \n",
      "  1.31041   -1.31041    20.0277   -20.5285  -0.835887   0.835887    4.02569   -4.02569    3.49365   -3.49365   0.542092  -0.542092  \n",
      " -1.31041    1.31041   -20.5285    17.9163   0.835887  -0.835887   -4.02569    4.02569   -3.49365    3.49365  -0.542092   0.542092  \n",
      " 0.463474  -0.463474  -0.835887   0.835887    6.09804   -8.40818    2.50568   -2.50568   0.642168  -0.642168    4.22005   -4.22005  \n",
      "-0.463474   0.463474   0.835887  -0.835887   -8.40818    7.64145   -2.50568    2.50568  -0.642168   0.642168   -4.22005    4.22005  \n",
      " 0.945452  -0.945452    4.02569   -4.02569    2.50568   -2.50568    11.1108   -13.0598   -1.74187    1.74187   0.734445  -0.734445  \n",
      "-0.945452   0.945452   -4.02569    4.02569   -2.50568    2.50568   -13.0598    11.0336    1.74187   -1.74187  -0.734445   0.734445  \n",
      "  1.67935   -1.67935    3.49365   -3.49365   0.642168  -0.642168   -1.74187    1.74187     11.336   -13.0089    1.75574   -1.75574  \n",
      " -1.67935    1.67935   -3.49365    3.49365  -0.642168   0.642168    1.74187   -1.74187   -13.0089    11.3895   -1.75574    1.75574  \n",
      "-0.741565   0.741565   0.542092  -0.542092    4.22005   -4.22005   0.734445  -0.734445    1.75574   -1.75574    5.34937   -8.18239  \n",
      " 0.741565  -0.741565  -0.542092   0.542092   -4.22005    4.22005  -0.734445   0.734445   -1.75574    1.75574   -8.18239    6.32847  \n"
     ]
    },
    {
     "data": {
      "image/png": "[encoded data removed]",
      "text/plain": [
       "<Figure size 432x288 with 1 Axes>"
      ]
     },
     "metadata": {
      "needs_background": "light"
     },
     "output_type": "display_data"
    },
    {
     "name": "stdout",
     "output_type": "stream",
     "text": [
      "  0.142883  \n",
      "-0.0676964  \n",
      "   17.3504  \n",
      "  -12.6929  \n",
      " 0.0634693  \n",
      "  0.356458  \n",
      " -0.811455  \n",
      "  -1.58292  \n",
      "  0.146825  \n",
      " -0.159513  \n",
      "-0.0520837  \n",
      " -0.297008  \n"
     ]
    },
    {
     "data": {
      "image/png": "[encoded data removed]",
      "text/plain": [
       "<Figure size 432x288 with 1 Axes>"
      ]
     },
     "metadata": {
      "needs_background": "light"
     },
     "output_type": "display_data"
    },
    {
     "name": "stderr",
     "output_type": "stream",
     "text": [
      "No handles with labels found to put in legend.\n"
     ]
    },
    {
     "data": {
      "image/png": "[encoded data removed]",
      "text/plain": [
       "<Figure size 432x288 with 1 Axes>"
      ]
     },
     "metadata": {
      "needs_background": "light"
     },
     "output_type": "display_data"
    }
   ],
   "source": [
    "%matplotlib inline\n",
    "n1, n2 = 100, 50\n",
    "X_test = [[X1_test.T[:n1].T, X4_test.T[:n1].T]]\n",
    "n_t_test = [[n1, n1]]\n",
    "X = [[X7.T[:n2].T, X9.T[:n2].T]]\n",
    "n_t = [[n2,n2]]\n",
    "m, k = 2, 5\n",
    "var, emp_rate = [], []\n",
    "p = 100\n",
    "task_target = 1\n",
    "\n",
    "X_test = normalisation(X_test, p, True)\n",
    "n = sum(list(map(sum, (n_t[i] for i in range(len(n_t))))))\n",
    "X_test_aggregated = aggregate_array(X_test, p, n, 1, 2)\n",
    "\n",
    "X = normalisation(X, p, True)\n",
    "\n",
    "for t in range(2, k+2):\n",
    "#     nt = sum(n_t_test[0])\n",
    "    \n",
    "    # add tasks\n",
    "    if t==2:\n",
    "        X_tmp = [[X1.T[:n2].T, X4.T[:n2].T]]\n",
    "        X_tmp = normalisation(X_tmp,p,True)\n",
    "        X.append(X_tmp[0])\n",
    "        n_t.append([n2, n2])\n",
    "    elif t==3:\n",
    "        X_tmp = [[X3.T[:n1].T, X8.T[:n1].T]]\n",
    "        X_tmp = normalisation(X_tmp,p,True)\n",
    "        X.append(X_tmp[0])\n",
    "        n_t.append([n1, n1])\n",
    "    elif t==4:\n",
    "        X_tmp = [[X5.T[:n2].T, X6.T[:n2].T]]\n",
    "        X_tmp = normalisation(X_tmp,p,True)\n",
    "        X.append(X_tmp[0])\n",
    "        n_t.append([n2, n2])\n",
    "    elif t==5:\n",
    "        X_tmp = [[X2.T[:n1].T, X9.T[:n1].T]]\n",
    "        X_tmp = normalisation(X_tmp,p,True)\n",
    "        X.append(X_tmp[0])\n",
    "        n_t.append([n1, n1])\n",
    "    elif t==6:\n",
    "        X_tmp = [[X3.T[:n2].T, X5.T[:n2].T]]\n",
    "        X_tmp = normalisation(X_tmp,p,True)\n",
    "        X.append(X_tmp[0])\n",
    "        X.append([X3.T[:n2].T, X5.T[:n2].T])\n",
    "        n_t.append([n2, n2])\n",
    "    \n",
    "#     print(n_t)\n",
    "    n = sum(list(map(sum, (n_t[i] for i in range(len(n_t))))))\n",
    "    print(\"n : \", n)\n",
    "            \n",
    "    MM = []\n",
    "    diag = []\n",
    "    for i in range(t):\n",
    "        MM1, diag1 = empirical_mean_old(1, m, [X[i]], p, [n_t[i]])\n",
    "        # chaque moyenne empirique calculée est un vecteur de taille p\n",
    "#         sent+=1\n",
    "#         t_MM.append(time()-t0)\n",
    "        MM.append(MM1)\n",
    "        diag.append(diag1)\n",
    "\n",
    "    # CENTRAL SERVER\n",
    "#     t0 = time()\n",
    "    # sending empirical means to central server\n",
    "    V, y_opt, correlation_matrix, Dc, c0 = merging_center(MM, diag, t, m, p, n, n_t, task_target, True)\n",
    "    # END CENTRAL SERVER\n",
    "#     X_test = normalisation(X_test, p)\n",
    "    \n",
    "    VTX = V.T@X_test_aggregated\n",
    "    debug_histogram(V, X_test_aggregated, n_t_test)\n",
    "    var.append(np.var(VTX))\n",
    "    m_t = create_mt(t, m, y_opt, Dc, correlation_matrix)\n",
    "    emp_rate.append(compute_error_rate(X_test, V, m_t, 1, m, n_t_test, Dc, c0))\n",
    "\n",
    "plt.plot(list(range(k)), emp_rate, '-o')\n",
    "# lower = np.array(emp_rate) - np.array(var)\n",
    "# upper = np.array(emp_rate) + np.array(var)\n",
    "# plt.fill_between(list(range(k)), lower, upper, alpha=0.2, label=\"variance\")\n",
    "plt.legend()\n",
    "ticks = [\"(7-9)\", \"(3-8)\", \"(5-6)\", \"(2-9)\", \"(3-5)\"]\n",
    "plt.xticks(range(len(ticks)), ticks, size='larger')\n",
    "plt.xlabel(\"Added tasks\")\n",
    "plt.ylabel(\"Empirical error rate\")\n",
    "plt.grid()\n",
    "plt.title(\"MNIST data\")\n",
    "plt.show()"
   ]
  },
  {
   "cell_type": "code",
   "execution_count": 114,
   "metadata": {},
   "outputs": [
    {
     "name": "stdout",
     "output_type": "stream",
     "text": [
      "[0.01, 0.01, 0.01, 0.01, 0.01]\n",
      "[127.190390496513497515, 127.19822783340137899, 127.09037614831500136, 126.39197663341276552, 126.40118514429374637]\n",
      "6\n",
      "[[50, 50], [50, 50], [100, 100], [50, 50], [100, 100], [50, 50]]\n",
      "[[100, 100]]\n",
      "(784,)\n",
      "(784, 50)\n",
      "(784, 200)\n"
     ]
    }
   ],
   "source": [
    "print(emp_rate)\n",
    "print(var)\n",
    "print(t)\n",
    "print(n_t)\n",
    "print(n_t_test)\n",
    "print(V.T.shape)\n",
    "print(X[1][1].shape)\n",
    "print(X_test_aggregated.shape)"
   ]
  },
  {
   "cell_type": "code",
   "execution_count": null,
   "metadata": {},
   "outputs": [],
   "source": []
  },
  {
   "cell_type": "markdown",
   "metadata": {},
   "source": [
    "# Optimalité"
   ]
  },
  {
   "cell_type": "code",
   "execution_count": 168,
   "metadata": {},
   "outputs": [],
   "source": [
    "# print((MM-MM*(np.identity(2*t)+1/sigma**2*np.identity(2*t)*MM)).shape)\n",
    "from scipy.stats import norm\n",
    "def bayes_risk(rho, gamma):\n",
    "    \"\"\"\n",
    "    Compute minimal Bayes error rate of label estimation for task t\n",
    "    \"\"\"\n",
    "    if rho == 1/2:\n",
    "        return 1-norm.pdf(np.sqrt(gamma))\n",
    "\n",
    "    return 1-rho*norm.pdf(np.sqrt(gamma)-1/(2*np.sqrt(gamma))*np.log((1-rho)/rho))-(1-rho)*norm.pdf(np.sqrt(gamma)+1/(2*np.sqrt(gamma)))"
   ]
  },
  {
   "cell_type": "code",
   "execution_count": 170,
   "metadata": {
    "scrolled": true
   },
   "outputs": [
    {
     "name": "stdout",
     "output_type": "stream",
     "text": [
      "task 1 empirical mean = 0.01\n",
      "  0.951924  -0.969539   0.222138  -0.0517376  \n",
      " -0.969539    1.00123  -0.219693   0.0715974  \n",
      "  0.222138  -0.219693    1.52612    -1.39989  \n",
      "-0.0517376  0.0715974   -1.39989    0.884869  \n",
      "10   0    0    0  \n",
      " 0  10    0    0  \n",
      " 0   0  0.5    0  \n",
      " 0   0    0  0.5  \n",
      "[0.660510419092243, 0.27141372700378297]\n",
      "task 1 empirical mean = 0.012761423749153965\n",
      " 0.951924  -0.969539   0.546088  -0.375688  \n",
      "-0.969539    1.00123  -0.553411   0.405316  \n",
      " 0.546088  -0.553411    1.66289   -1.48686  \n",
      "-0.375688   0.405316   -1.48686   0.922048  \n",
      "10   0    0    0  \n",
      " 0  10    0    0  \n",
      " 0   0  0.5    0  \n",
      " 0   0    0  0.5  \n",
      "[0.7549222482117217, 0.29095092787105026]\n",
      "task 1 empirical mean = 0.014120226591665966\n",
      " 0.951924  -0.969539   0.867755  -0.697354  \n",
      "-0.969539    1.00123  -0.891828   0.743732  \n",
      " 0.867755  -0.891828     1.7444    -1.5373  \n",
      "-0.697354   0.743732    -1.5373   0.941414  \n",
      "10   0    0    0  \n",
      " 0  10    0    0  \n",
      " 0   0  0.5    0  \n",
      " 0   0    0  0.5  \n",
      "[0.8126600287514728, 0.30130436495595936]\n",
      "task 1 empirical mean = 0.01\n",
      " 0.951924  -0.969539    1.1805   -1.0101  \n",
      "-0.969539    1.00123   -1.2486    1.1005  \n",
      "   1.1805    -1.2486   1.61005  -1.44502  \n",
      "  -1.0101     1.1005  -1.44502  0.891199  \n",
      "10   0    0    0  \n",
      " 0  10    0    0  \n",
      " 0   0  0.5    0  \n",
      " 0   0    0  0.5  \n",
      "[0.7180668253753656, 0.27470800908257]\n"
     ]
    },
    {
     "data": {
      "image/png": "[encoded data removed]",
      "text/plain": [
       "<Figure size 432x288 with 1 Axes>"
      ]
     },
     "metadata": {
      "needs_background": "light"
     },
     "output_type": "display_data"
    }
   ],
   "source": [
    "# T = 2, p_t = 1, lambda = 1, a1, a2 = 1 ?\n",
    "# calcul de q_t\n",
    "p = 100\n",
    "m = 2\n",
    "t = 2\n",
    "beta = np.linspace(0,1,4)\n",
    "n_t = [[1000, 1000], [50, 50]]\n",
    "n = sum(list(map(sum, (n_t[i] for i in range(t)))))\n",
    "n_t_test = [[1000, 1000]]\n",
    "nt = sum(n_t_test[0])\n",
    "random_state=100\n",
    "sigma = 1\n",
    "R1, R2 = [], []\n",
    "for b in beta:\n",
    "    qt = []\n",
    "    M = mean_matrix(p, b, t, random_seed=random_state)\n",
    "#     M = [[]]\n",
    "    print(f\"task 1 empirical mean = {np.mean(M[1][0])}\")\n",
    "#     M1 = np.mean(np.concatenate((M[0][0], M[0][1]), axis=1), axis=1)\n",
    "#     M2 = np.mean(np.concatenate((M[1][0], M[1][1]), axis=1), axis=1)\n",
    "    X, y_bs = gaussian_synthetic_data(n, p, m, t, n_t, M, random_state)\n",
    "#     if b==0:\n",
    "#         M_prec=M[:]\n",
    "#         X_prec=X[:]\n",
    "#     else:\n",
    "#         print(f\"Test : {X_prec[1][0]==X[1][0]}\")\n",
    "#         print(f\"Test : {M_prec[1][0]==M[1][0]}\")\n",
    "#     X = normalisation(X, p)\n",
    "#     print(X[1][0].T[10].T)\n",
    "#     X_test, y_test = gaussian_synthetic_data(nt, p, m, 1, n_t_test, [M[1]], random_state)\n",
    "    # M1 et M2 sont les moyennes empiriques pour les taches 1 et 2\n",
    "#     M1_true = true_mean(M,p,2,2)\n",
    "#     M1 = empirical_mean_old(1, 1, [[np.concatenate((X[0][0],X[0][1]), axis=1)]], p, [[sum(n_t[0])]])[0]\n",
    "#     M2 = empirical_mean_old(1, 1, [[np.concatenate((X[1][0],X[1][1]), axis=1)]], p, [[sum(n_t[1])]])[0]\n",
    "#     if b==0:\n",
    "#         M2_prec=M2[:]\n",
    "#     else:\n",
    "#         print(f\"Test : {M2_prec==M2}\")\n",
    "#         print(M1.T@M2)\n",
    "#         print(M1.T@M2_prec)\n",
    "#         print(f\"Encore un test : {M1.T@M2==M1.T@M2_prec}\")\n",
    "#     print(f\"task 1 empirical mean = {np.mean(M1)}\")\n",
    "#     print(f\"task 2 empirical mean = {np.mean(M2)}\")\n",
    "#     print(M1, M2)\n",
    "#     MM = np.array([[(M1.T@M1)[0][0], (M1.T@M2)[0][0]],[(M2.T@M1)[0][0], (M2.T@M2)[0][0]]])\n",
    "    MM = empirical_mean(t, m, X, p, n_t)\n",
    "    matprint(MM)\n",
    "    r1, r2 = bayes_optimal(n_t, MM)\n",
    "    R1.append(r1)\n",
    "    R2.append(r2)\n",
    "    \n",
    "plt.plot(beta, R2)\n",
    "plt.grid()\n",
    "plt.show()\n",
    "    "
   ]
  },
  {
   "cell_type": "code",
   "execution_count": 175,
   "metadata": {},
   "outputs": [],
   "source": [
    "def bayes_optimal(n_t, MM, sigma=1):\n",
    "    \"\"\"\n",
    "    Renvoie R1, R2\n",
    "    \"\"\"\n",
    "    qt = []\n",
    "    a1, a2, a3, a4 = n_t[0][0]/p, n_t[0][1]/p, n_t[1][0]/p, n_t[1][1]/p\n",
    "    D = np.diag([a1/sigma**2, a2/sigma**2, a3/sigma**2, a3/sigma**2])\n",
    "    matprint(D)\n",
    "    qt.append(np.diag((MM-MM*np.linalg.inv(np.identity(4)+D*MM)))[2])\n",
    "    qt.append(np.diag((MM-MM*np.linalg.inv(np.identity(4)+D*MM)))[3])\n",
    "    \n",
    "    print(qt)\n",
    "    if bayes_risk(0.5, qt[1])>0.5:\n",
    "        R1 = (1-bayes_risk(0.5, qt[0]))\n",
    "    else:\n",
    "        R1 = (bayes_risk(0.5, qt[0]))\n",
    "    if bayes_risk(0.5, qt[1])>0.5:\n",
    "        R2 = (1-bayes_risk(0.5, qt[1]))\n",
    "    else:\n",
    "        R2 = (bayes_risk(0.5, qt[1]))  \n",
    "    return R1, R2"
   ]
  },
  {
   "cell_type": "code",
   "execution_count": 156,
   "metadata": {},
   "outputs": [
    {
     "name": "stdout",
     "output_type": "stream",
     "text": [
      "[0.348315919381724, 0.3449299254771916, 0.3431489341588274, 0.3477426661802798]\n"
     ]
    },
    {
     "data": {
      "image/png": "[encoded data removed]",
      "text/plain": [
       "<Figure size 432x288 with 1 Axes>"
      ]
     },
     "metadata": {
      "needs_background": "light"
     },
     "output_type": "display_data"
    }
   ],
   "source": [
    "print(R2)\n",
    "plt.plot(beta, R1, '-o', label=\"R1\")\n",
    "plt.plot(beta, R2, '-o', label=\"R2\")\n",
    "plt.legend()\n",
    "plt.grid()\n",
    "plt.show()"
   ]
  },
  {
   "cell_type": "markdown",
   "metadata": {},
   "source": [
    "# Algorithme distribué k-tâches m classes\n",
    "On se ramène à un cas 2-tâches 2-classes en fait"
   ]
  },
  {
   "cell_type": "code",
   "execution_count": 81,
   "metadata": {},
   "outputs": [],
   "source": [
    "from scipy.stats import zscore\n",
    "\n",
    "def z_normalize(X, k):\n",
    "    \"\"\"\n",
    "    Normalise les données.\n",
    "    k tâches, m classes\n",
    "    X le tableau de données.\n",
    "    \"\"\"\n",
    "    return zscore(X)"
   ]
  },
  {
   "cell_type": "code",
   "execution_count": 174,
   "metadata": {
    "scrolled": true
   },
   "outputs": [
    {
     "name": "stdout",
     "output_type": "stream",
     "text": [
      "current nt = [[50, 450], [0, 1000]]\n",
      "0 0\n"
     ]
    },
    {
     "ename": "ValueError",
     "evalue": "matmul: Input operand 1 has a mismatch in its core dimension 0, with gufunc signature (n?,k),(k,m?)->(n?,m?) (size 0 is different from 1000)",
     "output_type": "error",
     "traceback": [
      "\u001b[0;31m---------------------------------------------------------------------------\u001b[0m",
      "\u001b[0;31mValueError\u001b[0m                                Traceback (most recent call last)",
      "\u001b[0;32m<ipython-input-174-8a293c51c9d5>\u001b[0m in \u001b[0;36m<module>\u001b[0;34m\u001b[0m\n\u001b[1;32m     76\u001b[0m             \u001b[0mcurrent_n_t\u001b[0m\u001b[0;34m.\u001b[0m\u001b[0mappend\u001b[0m\u001b[0;34m(\u001b[0m\u001b[0msc\u001b[0m\u001b[0;34m)\u001b[0m\u001b[0;34m\u001b[0m\u001b[0;34m\u001b[0m\u001b[0m\n\u001b[1;32m     77\u001b[0m             \u001b[0mprint\u001b[0m\u001b[0;34m(\u001b[0m\u001b[0;34mf\"current nt = {current_n_t}\"\u001b[0m\u001b[0;34m)\u001b[0m\u001b[0;34m\u001b[0m\u001b[0;34m\u001b[0m\u001b[0m\n\u001b[0;32m---> 78\u001b[0;31m             \u001b[0mMM\u001b[0m \u001b[0;34m=\u001b[0m \u001b[0mempirical_mean\u001b[0m\u001b[0;34m(\u001b[0m\u001b[0;36m2\u001b[0m\u001b[0;34m,\u001b[0m \u001b[0;36m2\u001b[0m\u001b[0;34m,\u001b[0m \u001b[0mX_data\u001b[0m\u001b[0;34m,\u001b[0m \u001b[0mp\u001b[0m\u001b[0;34m,\u001b[0m \u001b[0mcurrent_n_t\u001b[0m\u001b[0;34m)\u001b[0m\u001b[0;34m\u001b[0m\u001b[0;34m\u001b[0m\u001b[0m\n\u001b[0m\u001b[1;32m     79\u001b[0m             \u001b[0mmatprint\u001b[0m\u001b[0;34m(\u001b[0m\u001b[0mMM\u001b[0m\u001b[0;34m)\u001b[0m\u001b[0;34m\u001b[0m\u001b[0;34m\u001b[0m\u001b[0m\n\u001b[1;32m     80\u001b[0m             \u001b[0mc\u001b[0m \u001b[0;34m=\u001b[0m \u001b[0mestimate_c\u001b[0m\u001b[0;34m(\u001b[0m\u001b[0mcurrent_n_t\u001b[0m\u001b[0;34m,\u001b[0m \u001b[0mn\u001b[0m\u001b[0;34m,\u001b[0m \u001b[0;36m2\u001b[0m\u001b[0;34m,\u001b[0m \u001b[0;36m2\u001b[0m\u001b[0;34m)\u001b[0m\u001b[0;34m\u001b[0m\u001b[0;34m\u001b[0m\u001b[0m\n",
      "\u001b[0;32m<ipython-input-7-8e5f7f657a89>\u001b[0m in \u001b[0;36mempirical_mean\u001b[0;34m(nb_tasks, nb_classes, X, p, n_t, display)\u001b[0m\n\u001b[1;32m     21\u001b[0m                         \u001b[0;31m#print(i*nb_tasks+j, k*nb_tasks+l)\u001b[0m\u001b[0;34m\u001b[0m\u001b[0;34m\u001b[0m\u001b[0;34m\u001b[0m\u001b[0m\n\u001b[1;32m     22\u001b[0m                         \u001b[0;31m#print(i, j, k, l)\u001b[0m\u001b[0;34m\u001b[0m\u001b[0;34m\u001b[0m\u001b[0;34m\u001b[0m\u001b[0m\n\u001b[0;32m---> 23\u001b[0;31m                         \u001b[0mM\u001b[0m\u001b[0;34m[\u001b[0m\u001b[0mi\u001b[0m\u001b[0;34m*\u001b[0m\u001b[0mnb_classes\u001b[0m\u001b[0;34m+\u001b[0m\u001b[0mj\u001b[0m\u001b[0;34m]\u001b[0m\u001b[0;34m[\u001b[0m\u001b[0mk\u001b[0m\u001b[0;34m*\u001b[0m\u001b[0mnb_classes\u001b[0m\u001b[0;34m+\u001b[0m\u001b[0ml\u001b[0m\u001b[0;34m]\u001b[0m \u001b[0;34m=\u001b[0m \u001b[0mnp\u001b[0m\u001b[0;34m.\u001b[0m\u001b[0mones\u001b[0m\u001b[0;34m(\u001b[0m\u001b[0;34m(\u001b[0m\u001b[0mn_t\u001b[0m\u001b[0;34m[\u001b[0m\u001b[0mi\u001b[0m\u001b[0;34m]\u001b[0m\u001b[0;34m[\u001b[0m\u001b[0mj\u001b[0m\u001b[0;34m]\u001b[0m\u001b[0;34m,\u001b[0m \u001b[0;36m1\u001b[0m\u001b[0;34m)\u001b[0m\u001b[0;34m)\u001b[0m\u001b[0;34m.\u001b[0m\u001b[0mT\u001b[0m\u001b[0;34m@\u001b[0m\u001b[0mX\u001b[0m\u001b[0;34m[\u001b[0m\u001b[0mi\u001b[0m\u001b[0;34m]\u001b[0m\u001b[0;34m[\u001b[0m\u001b[0mj\u001b[0m\u001b[0;34m]\u001b[0m\u001b[0;34m.\u001b[0m\u001b[0mT\u001b[0m\u001b[0;34m@\u001b[0m\u001b[0mX\u001b[0m\u001b[0;34m[\u001b[0m\u001b[0mk\u001b[0m\u001b[0;34m]\u001b[0m\u001b[0;34m[\u001b[0m\u001b[0ml\u001b[0m\u001b[0;34m]\u001b[0m\u001b[0;34m@\u001b[0m\u001b[0mnp\u001b[0m\u001b[0;34m.\u001b[0m\u001b[0mones\u001b[0m\u001b[0;34m(\u001b[0m\u001b[0;34m(\u001b[0m\u001b[0mn_t\u001b[0m\u001b[0;34m[\u001b[0m\u001b[0mk\u001b[0m\u001b[0;34m]\u001b[0m\u001b[0;34m[\u001b[0m\u001b[0ml\u001b[0m\u001b[0;34m]\u001b[0m\u001b[0;34m)\u001b[0m\u001b[0;34m)\u001b[0m\u001b[0;34m\u001b[0m\u001b[0;34m\u001b[0m\u001b[0m\n\u001b[0m\u001b[1;32m     24\u001b[0m                         \u001b[0mM\u001b[0m\u001b[0;34m[\u001b[0m\u001b[0mi\u001b[0m\u001b[0;34m*\u001b[0m\u001b[0mnb_classes\u001b[0m\u001b[0;34m+\u001b[0m\u001b[0mj\u001b[0m\u001b[0;34m]\u001b[0m\u001b[0;34m[\u001b[0m\u001b[0mk\u001b[0m\u001b[0;34m*\u001b[0m\u001b[0mnb_classes\u001b[0m\u001b[0;34m+\u001b[0m\u001b[0ml\u001b[0m\u001b[0;34m]\u001b[0m \u001b[0;34m/=\u001b[0m \u001b[0mn_t\u001b[0m\u001b[0;34m[\u001b[0m\u001b[0mi\u001b[0m\u001b[0;34m]\u001b[0m\u001b[0;34m[\u001b[0m\u001b[0mj\u001b[0m\u001b[0;34m]\u001b[0m\u001b[0;34m*\u001b[0m\u001b[0mn_t\u001b[0m\u001b[0;34m[\u001b[0m\u001b[0mk\u001b[0m\u001b[0;34m]\u001b[0m\u001b[0;34m[\u001b[0m\u001b[0ml\u001b[0m\u001b[0;34m]\u001b[0m\u001b[0;34m\u001b[0m\u001b[0;34m\u001b[0m\u001b[0m\n\u001b[1;32m     25\u001b[0m \u001b[0;34m\u001b[0m\u001b[0m\n",
      "\u001b[0;31mValueError\u001b[0m: matmul: Input operand 1 has a mismatch in its core dimension 0, with gufunc signature (n?,k),(k,m?)->(n?,m?) (size 0 is different from 1000)"
     ]
    }
   ],
   "source": [
    "# Algorithme 1 du papier\n",
    "k = 2\n",
    "m = 10\n",
    "n1 = [100 for i in range(m)]\n",
    "n2 = [50 for i in range(m)]\n",
    "p = 100\n",
    "n_t = [n1, n2]\n",
    "n_t_test = [[1000 for i in range(m)]]\n",
    "nt = sum(n_t_test[0])\n",
    "# faire quelque chose de généralisable\n",
    "n = sum(list(map(sum, (n_t[i] for i in range(k)))))\n",
    "c0 = p/n\n",
    "var = []\n",
    "emp_rate = []\n",
    "scores = []\n",
    "random_state=100\n",
    "# si je peux essayer de faire plus dégeu pour le n \n",
    "M = mean_matrix(p, k=k, m=m, random_seed=random_state, random=True)\n",
    "X, y_bs = gaussian_synthetic_data(n, p, m, k, n_t, M, random_state)\n",
    "\n",
    "# choisir la tache que l'on veut tester\n",
    "test_task = 1\n",
    "X_test, y_test = gaussian_synthetic_data(n, p, m, 1, n_t_test, [M[test_task]], random_state)\n",
    "X, X_test = z_normalize(X, k, m), z_normalize(X_test, 1, m)\n",
    "# beta = []\n",
    "# [[[],[]], [[], []]]\n",
    "\n",
    "# inverser les boucles ?\n",
    "for l in range(m):\n",
    "    for t in range(k):\n",
    "        if t==test_task:\n",
    "            # how does it benefit from the other tasks?\n",
    "            # pourquoi faire une boucle sur les tâches ?\n",
    "    #         beta.append(l*k+t)\n",
    "            X_data = []\n",
    "            # on ajoute la premiere classe de la premiere tache\n",
    "            X_data.append([X[t][l]])\n",
    "            current_n_t = [[n_t[t][l]]]\n",
    "            s = 0           \n",
    "\n",
    "            tmp = np.empty((p, 0), float)\n",
    "    #         print(\"tmp : \", tmp)\n",
    "            for cl in range(m):\n",
    "                if cl==l:\n",
    "                    continue\n",
    "    #             print(\"on ajoute : \", X[t][cl])\n",
    "    #             print(X[t][cl].shape)\n",
    "                tmp = np.concatenate((tmp, X[t][cl]), axis=1)\n",
    "                s += n_t[t][cl]\n",
    "    #         print(\"tmp : \", tmp)\n",
    "            X_data[0].append(tmp)\n",
    "    #         qui est la deuxieme tâche ? \n",
    "    #         X_data.append(X_test[0])\n",
    "#             regrouper toutes les autres tâches\n",
    "#             a reprendre\n",
    "            temp = []\n",
    "            tmp1 = np.empty((p, 0), float)\n",
    "            s1 = 0\n",
    "            sc = []\n",
    "            for tp in range(k):\n",
    "                if tp == test_task:\n",
    "                    continue\n",
    "                for l in range(m):\n",
    "                    tmp1 = np.concatenate((tmp1, X[tp][l]), axis=1)\n",
    "                    s1 += n_t[tp][l]\n",
    "                temp.append(tmp1)\n",
    "                sc.append(s2)\n",
    "                sc.append(s1)\n",
    "            X_data.append(temp)\n",
    "    #         print(\"len(X) : \", len(X_data))\n",
    "    #         print(\"len(X[0]) : \", len(X_data[1][0]))\n",
    "            current_n_t[0].append(s)\n",
    "            current_n_t.append(sc)\n",
    "            print(f\"current nt = {current_n_t}\")\n",
    "            MM = empirical_mean(2, 2, X_data, p, current_n_t)\n",
    "            matprint(MM)\n",
    "            c = estimate_c(current_n_t, n, 2, 2)\n",
    "            Dc = np.diag(c)\n",
    "            matprint(Dc)\n",
    "            correlation_matrix = compute_M_cal(n, p, Dc, MM, 2, True)\n",
    "\n",
    "            y = label_evaluation(2, 2, Dc, MM, c0)\n",
    "            matprint(y)\n",
    "            X_aggregated = aggregate_array(X_data, p, n, 2, 2)\n",
    "            X_test_aggregated = aggregate_array(X_test, p, nt, 1, 2)\n",
    "\n",
    "            # no need to compute V anymore\n",
    "            J = create_J(2, 2, n, current_n_t)\n",
    "            V = compute_V(y, X_aggregated, J, n)\n",
    "            # On time le temps d'inférence\n",
    "\n",
    "        #     debug_histogram(V_true, X_test_aggregated, n_t_test)\n",
    "        #     print(\"V = \")\n",
    "            VTX = V.T@X_test_aggregated\n",
    "            var.append(np.var(VTX))\n",
    "            debug_histogram(V, X_test_aggregated, n_t_test)\n",
    "\n",
    "            # pour l'instant pas vraiment utilisé\n",
    "            m_t = create_mt(2, 2, y, Dc, correlation_matrix)\n",
    "            # gxt in R^1xn\n",
    "\n",
    "            gxt = y.T@J.T@X_aggregated.T@X_test_aggregated/np.linalg.norm(y.T@J.T@X_aggregated.T)\n",
    "            gxt = np.reshape(gxt, (nt))\n",
    "            scores.append(gxt-m_t[0][0])\n",
    "\n",
    "            erreur_empirique = compute_error_rate(X_test, V, m_t, 1, 2, n_t_test, Dc, c0)\n",
    "    #         erreur_theorique = error_rate(t, m,  Dc, MM_true, c0)[0][0]\n",
    "            emp_rate.append(erreur_empirique)\n",
    "    #         th_rate.append(erreur_theorique)\n",
    "    #         relative_error_rate.append(abs(erreur_empirique - erreur_theorique)/erreur_theorique)\n",
    "\n",
    "estimated_class=[]\n",
    "for j in range(len(scores[0])):\n",
    "#     print(np.argmax(scores[l][j] for l in range(m)))\n",
    "    classes=[]\n",
    "    for l in range(m):\n",
    "#         print(scores[l][j])\n",
    "        classes.append(scores[l][j])\n",
    "#     print(classes)\n",
    "    estimated_class.append(np.argmax(classes))\n",
    "\n",
    "        \n",
    "        \n",
    "# lower = np.array(emp_rate) - np.array(var)\n",
    "# upper = np.array(emp_rate) + np.array(var)\n",
    "# plt.plot(beta, emp_rate, '-o', label='empirical rate')\n",
    "# plt.fill_between(beta, lower, upper, alpha=0.2, label=\"variance\")\n",
    "# plt.legend()\n",
    "# plt.title(f\"2-class Gaussian mixture transfer error rate for n={n} and p={p}\")\n",
    "# plt.xlabel(\"Task relatedness (beta)\")\n",
    "# plt.ylabel(\"error rate\")\n",
    "# plt.grid()\n",
    "# plt.show()\n",
    "        "
   ]
  },
  {
   "cell_type": "code",
   "execution_count": 162,
   "metadata": {},
   "outputs": [
    {
     "name": "stdout",
     "output_type": "stream",
     "text": [
      "(100, 1000)\n"
     ]
    }
   ],
   "source": [
    "print(X_data[1][1].shape)"
   ]
  },
  {
   "cell_type": "code",
   "execution_count": 168,
   "metadata": {},
   "outputs": [
    {
     "name": "stdout",
     "output_type": "stream",
     "text": [
      "0.5\n",
      "800\n"
     ]
    }
   ],
   "source": [
    "estimated_class = []\n",
    "erreur= []\n",
    "\n",
    "for j in range(len(scores[0])):\n",
    "#     print(np.argmax(scores[l][j] for l in range(m)))\n",
    "    classes=[]\n",
    "    for l in range(m):\n",
    "#         print(scores[l][j])\n",
    "        classes.append(scores[l][j])\n",
    "#     print(classes)\n",
    "    estimated_class.append(np.argmax(classes))\n",
    "    erreur.append(int(np.argmax(classes)==y_test[j]))\n",
    "    \n",
    "err = erreur.count(1)/len(scores[0])\n",
    "if err>0.5:\n",
    "    err = 1-err\n",
    "\n",
    "print(err)\n",
    "# estimated_class\n",
    "# print(np.argmax(scores[l][0] for l in range(m)))\n",
    "# print(np.argmax((scores[0][0], scores[1][0])))"
   ]
  },
  {
   "cell_type": "code",
   "execution_count": 165,
   "metadata": {
    "scrolled": true
   },
   "outputs": [
    {
     "name": "stdout",
     "output_type": "stream",
     "text": [
      "Empirical proportions : \n",
      "C1 proportion : 0.0 %, C2 proportion : 100.0 %\n",
      "Theoritical proportions : \n",
      "C1 proportion : 66.667 %, C2 proportion : 33.333 %\n"
     ]
    }
   ],
   "source": [
    "ones=0\n",
    "twos=0\n",
    "for i in range(len(scores[0])):\n",
    "    maxi = scores[0][i]\n",
    "    indice = 0\n",
    "    for idx, score in enumerate(scores):\n",
    "        if score[i] > maxi:\n",
    "            maxi = score[i]\n",
    "            indice = idx\n",
    "    l = indice%2+1\n",
    "    if l == 1:\n",
    "        ones+=1\n",
    "    else:\n",
    "        twos+=1\n",
    "    \n",
    "#     print(l)\n",
    "print(f\"Empirical proportions : \\nC1 proportion : {ones/len(scores[0])*100} %, C2 proportion : {twos/len(scores[0])*100} %\")\n",
    "print(f\"Theoritical proportions : \\nC1 proportion : {round(sum(n1)/(sum(n1)+sum(n2))*100, 3)} %, C2 proportion : {round(sum(n2)/(sum(n1)+sum(n2))*100, 3)} %\")"
   ]
  },
  {
   "cell_type": "code",
   "execution_count": null,
   "metadata": {},
   "outputs": [],
   "source": []
  },
  {
   "cell_type": "code",
   "execution_count": 98,
   "metadata": {},
   "outputs": [
    {
     "name": "stdout",
     "output_type": "stream",
     "text": [
      "[[200, 600]]\n",
      "(1, 800)\n",
      "(2, 800)\n",
      "(800, 100)\n",
      "(100, 800)\n"
     ]
    }
   ],
   "source": [
    "print(current_n_t)\n",
    "print(gxt.shape)\n",
    "print(J.T.shape)\n",
    "print(X_aggregated.T.shape)\n",
    "print(X_test_aggregated.shape)"
   ]
  },
  {
   "cell_type": "code",
   "execution_count": 102,
   "metadata": {},
   "outputs": [
    {
     "name": "stdout",
     "output_type": "stream",
     "text": [
      "(2, 2)\n",
      "2\n",
      "2\n",
      "(1, 4)\n",
      "(2, 2)\n",
      "(2, 2)\n",
      "(4,)\n",
      "[[array([[-0.88007943, -0.47482649],\n",
      "       [-0.96586158,  0.2590587 ]]), array([[0.92226127, 0.38656715],\n",
      "       [0.91331841, 0.40724621]])], [array([[0.36683514, 0.43040179, 0.0591088 , 0.82261317],\n",
      "       [0.24975802, 0.77567657, 0.21940746, 0.53647661]]), array([[-0.34926064, -0.34675433, -0.05486188, -0.8687742 ],\n",
      "       [-0.1093427 , -0.39596414, -0.807452  , -0.42341213]])]]\n",
      "[[-0.88007943 -0.47482649]\n",
      " [-0.96586158  0.2590587 ]]\n",
      "[[0.92226127 0.38656715]\n",
      " [0.91331841 0.40724621]]\n"
     ]
    }
   ],
   "source": [
    "print(tmp.shape)\n",
    "print(s)\n",
    "print(len(X_data))\n",
    "print(np.ones((n_t[0][0], 1)).T.shape)\n",
    "print((X_data[0][0].T.shape))\n",
    "print((X_data[0][1].shape))\n",
    "print(np.ones(n_t[0][1]).shape)\n",
    "#1x240x50\n",
    "print(X_data)\n",
    "print(X[3][1])\n",
    "print(X[3][0])"
   ]
  },
  {
   "cell_type": "code",
   "execution_count": 65,
   "metadata": {},
   "outputs": [
    {
     "name": "stdout",
     "output_type": "stream",
     "text": [
      "50\n",
      "(200, 10)\n",
      "(200, 50)\n",
      "[[50, 50], [500, 500]]\n"
     ]
    }
   ],
   "source": [
    "print(n_t[0][0])\n",
    "print(X[1][0].shape)\n",
    "print(X_data[0][0].shape)\n",
    "print(current_n_t)"
   ]
  },
  {
   "cell_type": "code",
   "execution_count": 104,
   "metadata": {},
   "outputs": [
    {
     "name": "stdout",
     "output_type": "stream",
     "text": [
      "[[4, 4], [5, 5]]\n"
     ]
    },
    {
     "data": {
      "text/plain": [
       "[[10, 10], [[4, 4]]]"
      ]
     },
     "execution_count": 104,
     "metadata": {},
     "output_type": "execute_result"
    }
   ],
   "source": [
    "n_t = [[10,10], [4,4], [5,5]]\n",
    "n = sum(list(map(sum, (n_t[i] for i in range(2)))))\n",
    "print(list(n_t[i] for i in range(3) if i!=0))\n",
    "current = [n_t[0], list(n_t[i] for i in range(2) if i!=0)[0]]\n",
    "current"
   ]
  },
  {
   "cell_type": "code",
   "execution_count": 1,
   "metadata": {},
   "outputs": [],
   "source": [
    "import pandas"
   ]
  },
  {
   "cell_type": "code",
   "execution_count": 6,
   "metadata": {},
   "outputs": [
    {
     "name": "stdout",
     "output_type": "stream",
     "text": [
      "Help on function sum in module pandas.core.generic:\n",
      "\n",
      "sum(self, axis=None, skipna=None, level=None, numeric_only=None, min_count=0, **kwargs)\n",
      "    Return the sum of the values over the requested axis.\n",
      "    \n",
      "    This is equivalent to the method ``numpy.sum``.\n",
      "    \n",
      "    Parameters\n",
      "    ----------\n",
      "    axis : {index (0), columns (1)}\n",
      "        Axis for the function to be applied on.\n",
      "    skipna : bool, default True\n",
      "        Exclude NA/null values when computing the result.\n",
      "    level : int or level name, default None\n",
      "        If the axis is a MultiIndex (hierarchical), count along a\n",
      "        particular level, collapsing into a Series.\n",
      "    numeric_only : bool, default None\n",
      "        Include only float, int, boolean columns. If None, will attempt to use\n",
      "        everything, then use only numeric data. Not implemented for Series.\n",
      "    min_count : int, default 0\n",
      "        The required number of valid values to perform the operation. If fewer than\n",
      "        ``min_count`` non-NA values are present the result will be NA.\n",
      "    **kwargs\n",
      "        Additional keyword arguments to be passed to the function.\n",
      "    \n",
      "    Returns\n",
      "    -------\n",
      "    Series or DataFrame (if level specified)\n",
      "    \n",
      "    See Also\n",
      "    --------\n",
      "    Series.sum : Return the sum.\n",
      "    Series.min : Return the minimum.\n",
      "    Series.max : Return the maximum.\n",
      "    Series.idxmin : Return the index of the minimum.\n",
      "    Series.idxmax : Return the index of the maximum.\n",
      "    DataFrame.sum : Return the sum over the requested axis.\n",
      "    DataFrame.min : Return the minimum over the requested axis.\n",
      "    DataFrame.max : Return the maximum over the requested axis.\n",
      "    DataFrame.idxmin : Return the index of the minimum over the requested axis.\n",
      "    DataFrame.idxmax : Return the index of the maximum over the requested axis.\n",
      "    \n",
      "    Examples\n",
      "    --------\n",
      "    >>> idx = pd.MultiIndex.from_arrays([\n",
      "    ...     ['warm', 'warm', 'cold', 'cold'],\n",
      "    ...     ['dog', 'falcon', 'fish', 'spider']],\n",
      "    ...     names=['blooded', 'animal'])\n",
      "    >>> s = pd.Series([4, 2, 0, 8], name='legs', index=idx)\n",
      "    >>> s\n",
      "    blooded  animal\n",
      "    warm     dog       4\n",
      "             falcon    2\n",
      "    cold     fish      0\n",
      "             spider    8\n",
      "    Name: legs, dtype: int64\n",
      "    \n",
      "    >>> s.sum()\n",
      "    14\n",
      "    \n",
      "    Sum using level names, as well as indices.\n",
      "    \n",
      "    >>> s.sum(level='blooded')\n",
      "    blooded\n",
      "    warm    6\n",
      "    cold    8\n",
      "    Name: legs, dtype: int64\n",
      "    \n",
      "    >>> s.sum(level=0)\n",
      "    blooded\n",
      "    warm    6\n",
      "    cold    8\n",
      "    Name: legs, dtype: int64\n",
      "    \n",
      "    By default, the sum of an empty or all-NA Series is ``0``.\n",
      "    \n",
      "    >>> pd.Series([]).sum()  # min_count=0 is the default\n",
      "    0.0\n",
      "    \n",
      "    This can be controlled with the ``min_count`` parameter. For example, if\n",
      "    you'd like the sum of an empty series to be NaN, pass ``min_count=1``.\n",
      "    \n",
      "    >>> pd.Series([]).sum(min_count=1)\n",
      "    nan\n",
      "    \n",
      "    Thanks to the ``skipna`` parameter, ``min_count`` handles all-NA and\n",
      "    empty series identically.\n",
      "    \n",
      "    >>> pd.Series([np.nan]).sum()\n",
      "    0.0\n",
      "    \n",
      "    >>> pd.Series([np.nan]).sum(min_count=1)\n",
      "    nan\n",
      "\n"
     ]
    }
   ],
   "source": [
    "help(pandas.DataFrame.sum)"
   ]
  },
  {
   "cell_type": "code",
   "execution_count": null,
   "metadata": {},
   "outputs": [],
   "source": []
  }
 ],
 "metadata": {
  "kernelspec": {
   "display_name": "Python 3",
   "language": "python",
   "name": "python3"
  },
  "language_info": {
   "codemirror_mode": {
    "name": "ipython",
    "version": 3
   },
   "file_extension": ".py",
   "mimetype": "text/x-python",
   "name": "python",
   "nbconvert_exporter": "python",
   "pygments_lexer": "ipython3",
   "version": "3.7.10"
  }
 },
 "nbformat": 4,
 "nbformat_minor": 2
}
