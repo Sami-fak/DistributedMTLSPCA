{
 "cells": [
  {
   "cell_type": "code",
   "execution_count": 123,
   "metadata": {},
   "outputs": [],
   "source": [
    "%matplotlib inline\n",
    "import numpy as np\n",
    "import matplotlib.pyplot as plt\n",
    "from sklearn.model_selection import train_test_split"
   ]
  },
  {
   "cell_type": "code",
   "execution_count": 124,
   "metadata": {},
   "outputs": [],
   "source": [
    "def matprint(mat, fmt=\"g\"):\n",
    "    \"\"\"\n",
    "    Pour une un print plus clair de la matrice\n",
    "    https://gist.github.com/braingineer/d801735dac07ff3ac4d746e1f218ab75\n",
    "    \"\"\"\n",
    "    col_maxes = [max([len((\"{:\"+fmt+\"}\").format(x)) for x in col]) for col in mat.T]\n",
    "    for x in mat:\n",
    "        for i, y in enumerate(x):\n",
    "            print((\"{:\"+str(col_maxes[i])+fmt+\"}\").format(y), end=\"  \")\n",
    "        print(\"\")"
   ]
  },
  {
   "cell_type": "markdown",
   "metadata": {},
   "source": [
    "# Table of contents\n",
    "* [Algorithme non distribué 2 taches 2 classes](#Algorithme-non-distribué-2-taches-2-classes)\n",
    "     * [1ère étape: Calcul des moyennes empiriques](#1ère-étape)\n",
    "     * [2ème étape: Estimation de $c$ et de $\\mathcal{M}$](#2ème-étape)\n",
    "     * [3ème étape: Calcul des labels optimaux](#3ème-étape)\n",
    "     * [4ème étape: Estimation des $m_{tj}$](#4ème-étape)\n",
    "     * [5ème étape: Calcul de $V$](#5ème-étape)\n",
    "     * [6ème étape: Evaluation et calcul d'erreur](#6ème-étape)\n",
    "* [2-class Gaussian mixture transfer](#2-class-Gaussian-mixture-transfer-(c.f.-Figure-2))\n",
    "* [Algorithme distribué 2-tâches 2-classes](#Algorithme-distribué-2-tâches-2-classes)\n",
    "     * [Serveur isolé](#Serveur-isolé)\n",
    "     "
   ]
  },
  {
   "cell_type": "markdown",
   "metadata": {},
   "source": [
    "Créons des données synthétiques gaussiennes. Ici nous nous intéresserons dans un premier temps au cas où $m=2$. (Binary MTL Supervised Principal Component Analysis) "
   ]
  },
  {
   "cell_type": "markdown",
   "metadata": {},
   "source": [
    "# Algorithme non distribué 2 taches 2 classes\n",
    "Fonctions pour générer des données synthétiques gaussiennes"
   ]
  },
  {
   "cell_type": "code",
   "execution_count": 125,
   "metadata": {},
   "outputs": [],
   "source": [
    "def mean_random_matrix(m, k, p, l, h, random_seed=42):\n",
    "    \"\"\"\n",
    "    Retourne une matrice M de taille pxm*k contenant\n",
    "    les moyennes de chaque composante de chaque vecteur aléatoire\n",
    "    pour l'instant les moyennes sont tirées aléatoirement \n",
    "    suivant la loi uniforme sur l, h (pas convaincu par ce choix)\n",
    "    m est le nombre de classes\n",
    "    k est le nombre de taches\n",
    "    p est le nombre de features\n",
    "    \"\"\"\n",
    "    np.random.seed(random_seed)\n",
    "    M = []\n",
    "    tmp = []\n",
    "    for task in range(k):\n",
    "        tmp = []\n",
    "        for classe in range(m):\n",
    "            # on crée un vecteur de moyennes égales pour chaque classes\n",
    "            # de sorte à créer des classes gravitant autour d'une meme moyenne\n",
    "            tmp.append(np.ones((p,1))*np.random.uniform(low = 0.0, high = h))\n",
    "        M.append(tmp)\n",
    "    return M"
   ]
  },
  {
   "cell_type": "markdown",
   "metadata": {},
   "source": [
    "Si on prend des moyennes de la même façon que dans le papier"
   ]
  },
  {
   "cell_type": "code",
   "execution_count": 219,
   "metadata": {},
   "outputs": [],
   "source": [
    "def mean_matrix(beta, p, random_seed=42):\n",
    "    \"\"\"\n",
    "    Crée des vecteurs de moyennes de la meme facon que dans la figure 2 du papier\n",
    "    \"\"\"\n",
    "    np.random.seed(random_seed)\n",
    "    #mu_1 = np.ones((p,1))*np.random.uniform(low = 0.0, high = 10.)\n",
    "    mu_1 = np.zeros((p,1))\n",
    "    mu_1[0]= 1\n",
    "    perpendicular_vector = np.zeros((p,1))\n",
    "    perpendicular_vector[-1] = 1\n",
    "    mu_2 = beta*mu_1+np.sqrt(1-beta**2)*perpendicular_vector\n",
    "    M = [[mu_1, -mu_1], [mu_2, -mu_2]]\n",
    "    return M"
   ]
  },
  {
   "cell_type": "code",
   "execution_count": 220,
   "metadata": {},
   "outputs": [],
   "source": [
    "def gaussian_synthetic_data(n, p, m, t, n_t, M, random_seed=42):\n",
    "    \"\"\"\n",
    "    Renvoie un tableau de données synthétiques gaussiennes. X[0] accède aux données de la premiere tache.\n",
    "    X[0][1] accede aux données de la deuxieme classe de la premiere tache.\n",
    "    (vecteurs gaussiens de taille n_j * p tq sum(n_j for j) = n)\n",
    "    à partir du nombre d'échantillons n de taille p et du nombre de classe m.\n",
    "    t est le nombre de tâches\n",
    "    n_t est un vecteur comprenant les différentes valeurs n_j pour chaque task\n",
    "    M est la matrice des moyennes de chaque composante \n",
    "    de chaque vecteur aléatoire\n",
    "    \"\"\"\n",
    "    # assert(sum(n_j)/n==1\n",
    "    np.random.seed(random_seed)\n",
    "    X = []\n",
    "    tmp = []\n",
    "    for task in range(t):\n",
    "        # pour une tache on a m classes\n",
    "        tmp = []\n",
    "        for k in range(m):\n",
    "            X_k = np.empty((n_t[task][k], p))\n",
    "            # on prendra la transposée a la fin\n",
    "            #print( n_t[task][k])\n",
    "            for j in range(n_t[task][k]):\n",
    "                # on crée n_j[task][k] vecteurs aléatoires de taille 1xp\n",
    "                # std = 1?\n",
    "                # comment utiliser des vecteurs de moyennes pour générer les données ?\n",
    "                mean = np.reshape(M[task][k], p)\n",
    "                X_k[j] = np.random.multivariate_normal(mean, np.identity(p))\n",
    "                # indice 0 parce que c'est toujours la meme moyenne dans M (pour l'instant ?)\n",
    "            X_k = np.transpose(X_k)\n",
    "            #print(k)\n",
    "            tmp.append(X_k)\n",
    "            # print(\"tmp = \", tmp)\n",
    "        X.append(tmp)\n",
    "            \n",
    "    return X"
   ]
  },
  {
   "cell_type": "code",
   "execution_count": 221,
   "metadata": {},
   "outputs": [],
   "source": [
    "def normalisation(X, p):\n",
    "    for i in range(len(X)):\n",
    "        for j in range(len(X[i])):\n",
    "            X[i][j] *= 1/np.sqrt(p)\n",
    "    \n",
    "    return X"
   ]
  },
  {
   "cell_type": "markdown",
   "metadata": {},
   "source": [
    "## 1ère étape\n",
    "Calcul des moyennes empiriques, et calcul de la matrice $M\\in\\mathbb{R}^{p\\times 2k}$\n",
    "$$\\frac{1}{n_{tj}}X_{tj}\\mathbb{1}_{n_{tj}}=\\frac{1}{n_{tj}}\\sum_{l=1}^{n_{tj}}x_{tl}^{(j)}$$"
   ]
  },
  {
   "cell_type": "code",
   "execution_count": 266,
   "metadata": {},
   "outputs": [],
   "source": [
    "def empirical_mean(nb_tasks, nb_classes, X, p, n_t, display=False):\n",
    "    \"\"\"\n",
    "    Retourne la matrice M avec les produits scalaires croisés\n",
    "    cf. Remark 1\n",
    "    \"\"\"\n",
    "    \n",
    "    M = np.empty((4, 4)) # ici 4x4\n",
    "    for i in range(nb_tasks):\n",
    "        for j in range(nb_classes):\n",
    "            for k in range(nb_tasks):\n",
    "                for l in range(nb_classes):\n",
    "                    if i == k and j == l:\n",
    "                        moitie = int(n_t[i][j]/2)\n",
    "                        #print(f\"i = {i}, j = {j}\")\n",
    "                        print(i*nb_tasks+j, i*nb_tasks+j)\n",
    "#                         print(moitie)\n",
    "#                         print(np.ones((moitie, 1)).T.dot(X[i][j].T[:moitie]).shape)\n",
    "                        M[i*nb_tasks+j][i*nb_tasks+j] = np.ones((moitie, 1)).T@X[i][j].T[:moitie]@X[i][j].T[moitie:].T@np.ones((moitie))\n",
    "                        M[i*nb_tasks+j][i*nb_tasks+j] /= moitie**2\n",
    "                    else:\n",
    "#                         print(i*nb_tasks+j, k*nb_tasks+l)\n",
    "                        M[i*nb_tasks+j][k*nb_tasks+l] = np.ones((n_t[i][j], 1)).T@X[i][j].T@X[k][l]@np.ones((n_t[k][l]))\n",
    "                        M[i*nb_tasks+j][k*nb_tasks+l] /= n_t[i][j]*n_t[k][l]\n",
    "    \n",
    "    if display:\n",
    "        for t in range(nb_tasks):\n",
    "            for l in range(nb_classes):\n",
    "                print(f\"class {t*nb_tasks+l} empirical mean = {np.mean(M[t*nb_tasks+l])}\")\n",
    "                \n",
    "    return M"
   ]
  },
  {
   "cell_type": "code",
   "execution_count": 223,
   "metadata": {},
   "outputs": [],
   "source": [
    "def true_mean(M, p, nb_tasks, nb_classes):\n",
    "    \"\"\"\n",
    "    Retourne un ndarray contenant les vraies moyennes avec lequel on peut travailler\n",
    "    \"\"\"\n",
    "    true_M = np.empty((nb_tasks*nb_classes, p))\n",
    "    for t in range(nb_tasks):\n",
    "        for l in range(nb_classes):\n",
    "            mean = np.reshape(M[t][l], (100,))\n",
    "            true_M[t*nb_tasks+l] = mean\n",
    "\n",
    "    return np.transpose(true_M)"
   ]
  },
  {
   "cell_type": "code",
   "execution_count": 224,
   "metadata": {},
   "outputs": [],
   "source": [
    "# utile pour les puissances négatives\n",
    "def power_diagonal_matrix(D, exponent):\n",
    "    diag = np.zeros(len(D))\n",
    "    for i in range(len(D)):\n",
    "        diag[i] = D[i][i]**exponent\n",
    "    \n",
    "    return np.diag(diag)"
   ]
  },
  {
   "cell_type": "markdown",
   "metadata": {},
   "source": [
    "## 2ème étape\n",
    "Estimer $c$ et $\\mathcal{M}\\in\\mathbb{R}^{2k\\times 2k}$. \n",
    "$c=\\left[ c_{11},\\ldots,c_{km} \\right]^T\\in\\mathbb{R}^{km}$"
   ]
  },
  {
   "cell_type": "code",
   "execution_count": 225,
   "metadata": {},
   "outputs": [],
   "source": [
    "def estimate_c(n_t, n, nb_tasks, nb_classes):\n",
    "    c = np.empty(nb_tasks*nb_classes)\n",
    "    for task in range(nb_tasks):\n",
    "        for m in range(nb_classes):\n",
    "            c[task*nb_tasks+m]=n_t[task][m]/n\n",
    "            \n",
    "    return c"
   ]
  },
  {
   "cell_type": "code",
   "execution_count": 226,
   "metadata": {},
   "outputs": [],
   "source": [
    "def compute_M_cal(n,p,Dc,MM, display=False):\n",
    "    \"\"\"\n",
    "    renvoie la matrice M cursive estimée\n",
    "    \"\"\"\n",
    "    c0 = 2*p/n\n",
    "    correlation_matrix = 1/c0*np.power(Dc, 1/2)@MM@np.power(Dc, 1/2)\n",
    "    if display==True:\n",
    "        plt.imshow(correlation_matrix)\n",
    "        plt.show()\n",
    "    return correlation_matrix"
   ]
  },
  {
   "cell_type": "markdown",
   "metadata": {},
   "source": [
    "## 3ème étape\n",
    "Let's compute optimal labels"
   ]
  },
  {
   "cell_type": "code",
   "execution_count": 227,
   "metadata": {},
   "outputs": [],
   "source": [
    "# a revoir ?\n",
    "\n",
    "def label_evaluation(nb_tasks, nb_classes, Dc, M_estimated):\n",
    "    \"\"\"\n",
    "    Evalue le label y pour une tache t pour 2 classes\n",
    "    \"\"\"\n",
    "    inverse = np.linalg.inv(M_estimated+np.identity(nb_classes*nb_tasks))\n",
    "    power_dc = power_diagonal_matrix(Dc, -1/2)\n",
    "    et1_et2 = np.zeros((nb_tasks*nb_classes,1))\n",
    "    y = np.zeros((nb_tasks*nb_classes, 1))\n",
    "    e3_e4 = np.zeros((nb_tasks*nb_classes,1))\n",
    "    e3_e4[-2] = 1\n",
    "    e3_e4[-1] = -1\n",
    "    y[-2] += (power_dc.dot(inverse).dot(M_estimated).dot(power_dc).dot(e3_e4))[-2]\n",
    "    y[-1] += (power_dc.dot(inverse).dot(M_estimated).dot(power_dc).dot(e3_e4))[-1]\n",
    "    return y\n",
    "#malik's formula:\n",
    "#tilde_y=(diag(c)*MM*diag(c)/co+diag(c))\\((e3-e4)'*MM*diag(c))';"
   ]
  },
  {
   "cell_type": "markdown",
   "metadata": {},
   "source": [
    "## 4ème étape\n",
    "Estimation des $m_{tj}$, étant les $k\\times m$ moyennes estimées pour modéliser nos données."
   ]
  },
  {
   "cell_type": "code",
   "execution_count": 228,
   "metadata": {},
   "outputs": [],
   "source": [
    "def asymptotic_mean(nb_tasks, nb_classes, y_tilde, Dc, correlation_matrix, t, j):\n",
    "    \"\"\"\n",
    "    compute asymptotic mean m_tj\n",
    "    t current task\n",
    "    j current class\n",
    "    \"\"\"\n",
    "    y_transpose = np.transpose(y_tilde)\n",
    "    etj = np.zeros((nb_tasks*nb_classes, 1))\n",
    "    etj[t*nb_tasks+j] = 1\n",
    "    power_dc = power_diagonal_matrix(Dc, -1/2)\n",
    "    # Dc^1/2 ou Dc^{-1/2} ?\n",
    "    m_tj = y_transpose.dot(np.power(Dc, 1/2)).dot(correlation_matrix).dot(power_dc).dot(etj)\n",
    "    m_tj /= np.sqrt(y_transpose.dot(np.power(Dc, 1/2).dot(correlation_matrix).dot(np.power(Dc, 1/2)) + Dc).dot(y_tilde))\n",
    "    return m_tj[0][0]"
   ]
  },
  {
   "cell_type": "markdown",
   "metadata": {},
   "source": [
    "## 5ème étape\n",
    "Calcul de $V$ le sous-espace engendrés par les $\\tau$ plus grands vecteurs propres. Dans le cas du binary MTL-SPCA, $V=\\frac{Xy}{\\lVert Xy \\rVert}=\\frac{XJ\\tilde{y}}{\\lVert XJ\\tilde{y} \\rVert}\\in\\mathbb{R}^{p\\times1}$, avec $J\\in\\mathbb{R}^{n\\times km}$"
   ]
  },
  {
   "cell_type": "code",
   "execution_count": 229,
   "metadata": {},
   "outputs": [],
   "source": [
    "def aggregate_array(X, p, n, nb_tasks, nb_classes):\n",
    "    X_aggregated = np.empty((p, n))\n",
    "    class_1 = X[0][0]\n",
    "    for t in range(nb_tasks):\n",
    "        for l in range(nb_classes):\n",
    "            if t==0 and l==0:\n",
    "                continue\n",
    "            class_1 = np.append(class_1, X[t][l], 1)\n",
    "    X_aggregated = class_1\n",
    "    return X_aggregated"
   ]
  },
  {
   "cell_type": "markdown",
   "metadata": {},
   "source": [
    "$V=\\frac{Xy}{\\lVert Xy \\rVert}=\\frac{XJ\\tilde{y}}{\\lVert XJ\\tilde{y} \\rVert}$"
   ]
  },
  {
   "cell_type": "code",
   "execution_count": 230,
   "metadata": {},
   "outputs": [],
   "source": [
    "def create_J(nb_classes, nb_tasks, n, n_t):\n",
    "    # enlever paramètre n\n",
    "    left = 0\n",
    "    beg = 0\n",
    "    for i in range(nb_tasks):\n",
    "        left += int(sum(n_t[i]))\n",
    "    J = np.zeros((left, nb_tasks*nb_classes))\n",
    "    #matprint(J)\n",
    "    for t in range(nb_tasks):\n",
    "        for j in range(nb_classes):\n",
    "            for i in range(beg, beg+n_t[t][j]):\n",
    "                J[i][t*nb_tasks+j] = 1\n",
    "            beg += n_t[t][j]\n",
    "    return J"
   ]
  },
  {
   "cell_type": "code",
   "execution_count": 231,
   "metadata": {},
   "outputs": [],
   "source": [
    "def compute_V_old(y_tilde, X, J):\n",
    "    \"\"\"\n",
    "    Utilise la formule explicite de V pour la classification binaire\n",
    "    \"\"\"\n",
    "    xy_product = X.dot(J).dot(y_tilde)\n",
    "    return xy_product/np.linalg.norm(xy_product)\n",
    "\n",
    "def compute_V(y, X, J, n):\n",
    "    \"\"\"\n",
    "    Recalcule V (calcul vecteur propre)\n",
    "    Vstar dans le fichier matlab\n",
    "    Division par p, si les X pas normalisé ?\n",
    "    wtf is wrong with V? \n",
    "    \"\"\"\n",
    "    #X*J*(tilde_y*tilde_y')*J'*X'/n\n",
    "    #print(X.shape)\n",
    "    eigenvalue, V = np.linalg.eig(X.dot(J).dot((y).dot(y.T)).dot(J.T).dot(X.T)/(n))\n",
    "    maximum = eigenvalue[0]\n",
    "    idx_larg = 0\n",
    "    # retrieve the index of the largest eigenvalue\n",
    "    for idx, value in enumerate(eigenvalue):\n",
    "        if value > maximum:\n",
    "            maximum = value\n",
    "            idx_larg = idx\n",
    "    \n",
    "    largest_eigenvalue = np.sort(eigenvalue.real)[-1]\n",
    "    return V.T[idx_larg].real"
   ]
  },
  {
   "cell_type": "markdown",
   "metadata": {},
   "source": [
    "## 6ème étape\n",
    "Evaluation de nouvelles données $\\mathbf{x}$ : \n",
    "$V^T\\mathbf{x}$\n",
    "\n",
    "On utilise les données du test set $X\\_test$. On obtient de très mauvais résultats"
   ]
  },
  {
   "cell_type": "code",
   "execution_count": 232,
   "metadata": {},
   "outputs": [],
   "source": [
    "def create_mt(t, m, y, Dc, correlation_matrix):\n",
    "    m_t = []\n",
    "    for k in range(t):\n",
    "        m_tj = []\n",
    "        for l in range(m):\n",
    "            m_tj.append(asymptotic_mean(t, m, y, Dc, correlation_matrix, k, l))\n",
    "        m_t.append(m_tj)\n",
    "\n",
    "    return m_t"
   ]
  },
  {
   "cell_type": "code",
   "execution_count": 260,
   "metadata": {},
   "outputs": [],
   "source": [
    "def compute_score(V, x, m_t):\n",
    "    \"\"\"\n",
    "    x vecteur aléatoire que l'on veut classifier\n",
    "    On compare V^Tx à la moyenne des moyennes estimées pour les deux classes de la tache t\n",
    "    \"\"\"\n",
    "    x_projection = np.transpose(V).dot(x)\n",
    "    average_mean = 1/2*(m_t[0] + m_t[1])\n",
    "    return (1 if x_projection > 0 else -1) "
   ]
  },
  {
   "cell_type": "code",
   "execution_count": 261,
   "metadata": {},
   "outputs": [],
   "source": [
    "from scipy import special as sp\n",
    "def qfunc(x):\n",
    "    return 0.5-0.5*sp.erf(x/np.sqrt(2))"
   ]
  },
  {
   "cell_type": "code",
   "execution_count": 262,
   "metadata": {},
   "outputs": [],
   "source": [
    "def error_rate(nb_tasks, nb_classes, Dc, M_cur, c0):\n",
    "    e3 = np.zeros((2*nb_classes, 1))\n",
    "    e3[2] = 1\n",
    "    power_dc = power_diagonal_matrix(Dc, -1/2)\n",
    "    inv = np.linalg.inv(M_cur+np.identity(2*2))\n",
    "    print(\"arg q-func : \")\n",
    "    print(e3.T.dot(M_cur).dot(Dc).dot(np.linalg.inv(Dc.dot(M_cur).dot(Dc)+c0*Dc)).dot(Dc).dot(M_cur).dot(e3))\n",
    "    return qfunc(np.sqrt(e3.T.dot(M_cur).dot(Dc).dot(np.linalg.inv(Dc.dot(M_cur).dot(Dc)+c0*Dc)).dot(Dc).dot(M_cur).dot(e3)))\n",
    "    #return qfunc(1/2*np.sqrt(et_trans.dot(power_dc).dot(M_cur).dot(inv).dot(M_cur).dot(power_dc).dot(et1_et2)))\n",
    "#erfc(sqrt(e3'*MM*diag(c)*inv((diag(c)*MM*diag(c)+diag(co*c/k)))*diag(c)*MM*e3)/(sqrt(2)))/2;"
   ]
  },
  {
   "cell_type": "code",
   "execution_count": 263,
   "metadata": {},
   "outputs": [],
   "source": [
    "def plot_error_rate(nb_tasks, nb_classes, emp_rate, error_rate, m_t, Dc, M_cur):\n",
    "    plt.scatter(1, emp_rate, label=\"empirical error\")\n",
    "    plt.scatter(1, [error_rate(m_t[1], nb_tasks, nb_classes, Dc, M_cur)], label=\"theoritical error\")\n",
    "    plt.grid()\n",
    "    plt.ylim((0,1))\n",
    "    plt.xlim((-0.5, 0.5))\n",
    "    plt.legend()\n",
    "    plt.title(f\"Classification error rate per task\")\n",
    "    plt.show()"
   ]
  },
  {
   "cell_type": "code",
   "execution_count": 264,
   "metadata": {},
   "outputs": [],
   "source": [
    "def compute_error_rate(X_test, V, m_t, nb_tasks, nb_classes, n_t, Dc, M_cur, c0, display = False):\n",
    "    \"\"\"\n",
    "    Compute and plot classification error rate on test set\n",
    "    \"\"\"\n",
    "    print(\"mt1= \\n\", m_t[1])\n",
    "    emp_rate = []\n",
    "    error = 0\n",
    "    ni = 0\n",
    "    for t in range(nb_tasks):\n",
    "        error = 0\n",
    "        ni = sum(n_t[t])\n",
    "        for l in range(nb_classes):\n",
    "            for i in range(n_t[t][l]):\n",
    "                # on prend la transposée pour pouvoir travailler avec les colonnes\n",
    "                \n",
    "                score = compute_score(V, X_test[t][l].T[i], m_t[1])\n",
    "                if (score == 1 and l == 1):\n",
    "                    error +=1\n",
    "                elif (score == -1 and l == 0):\n",
    "                    error +=1\n",
    "        \n",
    "        erreur_emp = error/ni\n",
    "        \n",
    "        if erreur_emp > 0.5:\n",
    "            erreur_emp=1-erreur_emp\n",
    "        emp_rate.append(erreur_emp)\n",
    "       \n",
    "    if display:\n",
    "        plot_error_rate(nb_tasks, nb_classes, emp_rate, error_rate, m_t, Dc, M_cur)\n",
    "    \n",
    "    return np.mean(emp_rate)"
   ]
  },
  {
   "cell_type": "code",
   "execution_count": 258,
   "metadata": {},
   "outputs": [],
   "source": [
    "def debug_histogram(V, X_test, n_t):\n",
    "    \"\"\"\n",
    "    Trace l'histogramme de V^T*x_1 et V^T*x_2.\n",
    "    \"\"\"\n",
    "#     print(X1[0][0])\n",
    "#     print(n_t[0][0])\n",
    "    alpha = 0.5\n",
    "    bins = 20\n",
    "    plt.hist(V.T.dot(X_test.T[:n_t[0][0]].T), bins = bins, alpha=alpha, label=r\"$C_1$\")\n",
    "    plt.hist(V.T.dot(X_test.T[n_t[0][0]:].T), bins = bins, alpha=alpha, label=r\"$C_2$\")\n",
    "    plt.title(r\"Histogramme des données de tests projetées sur $V$ : $V^Tx_j$\")\n",
    "    plt.legend()\n",
    "    plt.show()"
   ]
  },
  {
   "cell_type": "markdown",
   "metadata": {},
   "source": [
    "# 2-class Gaussian mixture transfer (c.f. Figure 2)"
   ]
  },
  {
   "cell_type": "code",
   "execution_count": 267,
   "metadata": {
    "scrolled": true
   },
   "outputs": [
    {
     "name": "stdout",
     "output_type": "stream",
     "text": [
      "0 0\n",
      "1 1\n",
      "2 2\n",
      "3 3\n",
      "MTM : \n",
      "[[ 0.95192386 -0.96953935  0.21400559 -0.04360498]\n",
      " [-0.96953935  1.0012283  -0.21980622  0.07171104]\n",
      " [ 0.21400559 -0.21980622  0.82424997 -1.02778683]\n",
      " [-0.04360498  0.07171104 -1.02778683  0.84253941]]\n"
     ]
    },
    {
     "data": {
      "image/png": "[encoded data removed]",
      "text/plain": [
       "<Figure size 432x288 with 1 Axes>"
      ]
     },
     "metadata": {
      "needs_background": "light"
     },
     "output_type": "display_data"
    },
    {
     "name": "stdout",
     "output_type": "stream",
     "text": [
      "y = \n",
      "       0  \n",
      "       0  \n",
      " 12.9405  \n",
      "-13.3763  \n"
     ]
    },
    {
     "data": {
      "image/png": "[encoded data removed]",
      "text/plain": [
       "<Figure size 432x288 with 1 Axes>"
      ]
     },
     "metadata": {
      "needs_background": "light"
     },
     "output_type": "display_data"
    },
    {
     "name": "stdout",
     "output_type": "stream",
     "text": [
      "mt1= \n",
      " [1.7558052512749194, -1.7670212669787277]\n",
      "arg q-func : \n",
      "[[0.5]]\n",
      "[0.261] [0.23975006109347674]\n",
      "0 0\n",
      "1 1\n",
      "2 2\n",
      "3 3\n",
      "MTM : \n",
      "[[ 0.95192386 -0.96953935  0.32224881 -0.1518482 ]\n",
      " [-0.96953935  1.0012283  -0.33061393  0.18251876]\n",
      " [ 0.32224881 -0.33061393  0.87925669 -1.06243508]\n",
      " [-0.1518482   0.18251876 -1.06243508  0.85682921]]\n"
     ]
    },
    {
     "data": {
      "image/png": "[encoded data removed]",
      "text/plain": [
       "<Figure size 432x288 with 1 Axes>"
      ]
     },
     "metadata": {
      "needs_background": "light"
     },
     "output_type": "display_data"
    },
    {
     "name": "stdout",
     "output_type": "stream",
     "text": [
      "y = \n",
      "       0  \n",
      "       0  \n",
      " 12.9265  \n",
      "-13.3004  \n"
     ]
    },
    {
     "data": {
      "image/png": "[encoded data removed]",
      "text/plain": [
       "<Figure size 432x288 with 1 Axes>"
      ]
     },
     "metadata": {
      "needs_background": "light"
     },
     "output_type": "display_data"
    },
    {
     "name": "stdout",
     "output_type": "stream",
     "text": [
      "mt1= \n",
      " [1.8292881195070356, -1.80297325360665]\n",
      "arg q-func : \n",
      "[[0.50295683]]\n",
      "[0.261, 0.258] [0.23975006109347674, 0.23910189492427802]\n",
      "0 0\n",
      "1 1\n",
      "2 2\n",
      "3 3\n",
      "MTM : \n",
      "[[ 0.95192386 -0.96953935  0.43038924 -0.25998863]\n",
      " [-0.96953935  1.0012283  -0.4418429   0.29374772]\n",
      " [ 0.43038924 -0.4418429   0.93814905 -1.09849191]\n",
      " [-0.25998863  0.29374772 -1.09849191  0.87005051]]\n"
     ]
    },
    {
     "data": {
      "image/png": "[encoded data removed]",
      "text/plain": [
       "<Figure size 432x288 with 1 Axes>"
      ]
     },
     "metadata": {
      "needs_background": "light"
     },
     "output_type": "display_data"
    },
    {
     "name": "stdout",
     "output_type": "stream",
     "text": [
      "y = \n",
      "       0  \n",
      "       0  \n",
      " 12.7188  \n",
      "-12.9947  \n"
     ]
    },
    {
     "data": {
      "image/png": "[encoded data removed]",
      "text/plain": [
       "<Figure size 432x288 with 1 Axes>"
      ]
     },
     "metadata": {
      "needs_background": "light"
     },
     "output_type": "display_data"
    },
    {
     "name": "stdout",
     "output_type": "stream",
     "text": [
      "mt1= \n",
      " [1.9063470106343983, -1.8387581516501916]\n",
      "arg q-func : \n",
      "[[0.51204094]]\n",
      "[0.261, 0.258, 0.25749999999999995] [0.23975006109347674, 0.23910189492427802, 0.23712834068265354]\n",
      "0 0\n",
      "1 1\n",
      "2 2\n",
      "3 3\n",
      "MTM : \n",
      "[[ 0.95192386 -0.96953935  0.53842072 -0.36802011]\n",
      " [-0.96953935  1.0012283  -0.55351832  0.40542315]\n",
      " [ 0.53842072 -0.55351832  1.00115954 -1.1360416 ]\n",
      " [-0.36802011  0.40542315 -1.1360416   0.88213938]]\n"
     ]
    },
    {
     "data": {
      "image/png": "[encoded data removed]",
      "text/plain": [
       "<Figure size 432x288 with 1 Axes>"
      ]
     },
     "metadata": {
      "needs_background": "light"
     },
     "output_type": "display_data"
    },
    {
     "name": "stdout",
     "output_type": "stream",
     "text": [
      "y = \n",
      "       0  \n",
      "       0  \n",
      " 12.3083  \n",
      "-12.4446  \n"
     ]
    },
    {
     "data": {
      "image/png": "[encoded data removed]",
      "text/plain": [
       "<Figure size 432x288 with 1 Axes>"
      ]
     },
     "metadata": {
      "needs_background": "light"
     },
     "output_type": "display_data"
    },
    {
     "name": "stdout",
     "output_type": "stream",
     "text": [
      "mt1= \n",
      " [1.9871281307711708, -1.8745148515520742]\n",
      "arg q-func : \n",
      "[[0.52793296]]\n",
      "[0.261, 0.258, 0.25749999999999995, 0.255] [0.23975006109347674, 0.23910189492427802, 0.23712834068265354, 0.23373859215337528]\n",
      "0 0\n",
      "1 1\n",
      "2 2\n",
      "3 3\n",
      "MTM : \n",
      "[[ 0.95192386 -0.96953935  0.64633152 -0.47593091]\n",
      " [-0.96953935  1.0012283  -0.66568829  0.51759311]\n",
      " [ 0.64633152 -0.66568829  1.06873171 -1.17524492]\n",
      " [-0.47593091  0.51759311 -1.17524492  0.89297387]]\n"
     ]
    },
    {
     "data": {
      "image/png": "[encoded data removed]",
      "text/plain": [
       "<Figure size 432x288 with 1 Axes>"
      ]
     },
     "metadata": {
      "needs_background": "light"
     },
     "output_type": "display_data"
    },
    {
     "name": "stdout",
     "output_type": "stream",
     "text": [
      "y = \n",
      "       0  \n",
      "       0  \n",
      " 11.6776  \n",
      "-11.6228  \n"
     ]
    },
    {
     "data": {
      "image/png": "[encoded data removed]",
      "text/plain": [
       "<Figure size 432x288 with 1 Axes>"
      ]
     },
     "metadata": {
      "needs_background": "light"
     },
     "output_type": "display_data"
    },
    {
     "name": "stdout",
     "output_type": "stream",
     "text": [
      "mt1= \n",
      " [2.071960266624817, -1.9105017164187208]\n",
      "arg q-func : \n",
      "[[0.55191434]]\n",
      "[0.261, 0.258, 0.25749999999999995, 0.255, 0.254] [0.23975006109347674, 0.23910189492427802, 0.23712834068265354, 0.23373859215337528, 0.2287682743173643]\n",
      "0 0\n",
      "1 1\n",
      "2 2\n",
      "3 3\n",
      "MTM : \n",
      "[[ 0.95192386 -0.96953935  0.75410121 -0.5837006 ]\n",
      " [-0.96953935  1.0012283  -0.77843654  0.63034137]\n",
      " [ 0.75410121 -0.77843654  1.14163799 -1.2163819 ]\n",
      " [-0.5837006   0.63034137 -1.2163819   0.90234155]]\n"
     ]
    },
    {
     "data": {
      "image/png": "[encoded data removed]",
      "text/plain": [
       "<Figure size 432x288 with 1 Axes>"
      ]
     },
     "metadata": {
      "needs_background": "light"
     },
     "output_type": "display_data"
    },
    {
     "name": "stdout",
     "output_type": "stream",
     "text": [
      "y = \n",
      "       0  \n",
      "       0  \n",
      " 10.7998  \n",
      "-10.4859  \n"
     ]
    },
    {
     "data": {
      "image/png": "[encoded data removed]",
      "text/plain": [
       "<Figure size 432x288 with 1 Axes>"
      ]
     },
     "metadata": {
      "needs_background": "light"
     },
     "output_type": "display_data"
    },
    {
     "name": "stdout",
     "output_type": "stream",
     "text": [
      "mt1= \n",
      " [2.161408537221308, -1.9472195981364733]\n",
      "arg q-func : \n",
      "[[0.58614748]]\n",
      "[0.261, 0.258, 0.25749999999999995, 0.255, 0.254, 0.24950000000000006] [0.23975006109347674, 0.23910189492427802, 0.23712834068265354, 0.23373859215337528, 0.2287682743173643, 0.22195637062121154]\n",
      "0 0\n",
      "1 1\n",
      "2 2\n",
      "3 3\n",
      "MTM : \n",
      "[[ 0.95192386 -0.96953935  0.86169336 -0.69129276]\n",
      " [-0.96953935  1.0012283  -0.89191235  0.74381718]\n",
      " [ 0.86169336 -0.89191235  1.22125531 -1.25995169]\n",
      " [-0.69129276  0.74381718 -1.25995169  0.90986379]]\n"
     ]
    },
    {
     "data": {
      "image/png": "[encoded data removed]",
      "text/plain": [
       "<Figure size 432x288 with 1 Axes>"
      ]
     },
     "metadata": {
      "needs_background": "light"
     },
     "output_type": "display_data"
    },
    {
     "name": "stdout",
     "output_type": "stream",
     "text": [
      "y = \n",
      "       0  \n",
      "       0  \n",
      "  9.6378  \n",
      "-8.96821  \n"
     ]
    },
    {
     "data": {
      "image/png": "[encoded data removed]",
      "text/plain": [
       "<Figure size 432x288 with 1 Axes>"
      ]
     },
     "metadata": {
      "needs_background": "light"
     },
     "output_type": "display_data"
    },
    {
     "name": "stdout",
     "output_type": "stream",
     "text": [
      "mt1= \n",
      " [2.2563050658019357, -1.9857101910319128]\n",
      "arg q-func : \n",
      "[[0.63422819]]\n",
      "[0.261, 0.258, 0.25749999999999995, 0.255, 0.254, 0.24950000000000006, 0.24450000000000005] [0.23975006109347674, 0.23910189492427802, 0.23712834068265354, 0.23373859215337528, 0.2287682743173643, 0.22195637062121154, 0.2129043075952785]\n",
      "0 0\n",
      "1 1\n",
      "2 2\n",
      "3 3\n",
      "MTM : \n",
      "[[ 0.95192386 -0.96953935  0.96903551 -0.7986349 ]\n",
      " [-0.96953935  1.0012283  -1.0064127   0.85831753]\n",
      " [ 0.96903551 -1.0064127   1.31032296 -1.30694728]\n",
      " [-0.7986349   0.85831753 -1.30694728  0.91478733]]\n"
     ]
    },
    {
     "data": {
      "image/png": "[encoded data removed]",
      "text/plain": [
       "<Figure size 432x288 with 1 Axes>"
      ]
     },
     "metadata": {
      "needs_background": "light"
     },
     "output_type": "display_data"
    },
    {
     "name": "stdout",
     "output_type": "stream",
     "text": [
      "y = \n",
      "       0  \n",
      "       0  \n",
      " 8.14535  \n",
      "-6.96963  \n"
     ]
    },
    {
     "data": {
      "image/png": "[encoded data removed]",
      "text/plain": [
       "<Figure size 432x288 with 1 Axes>"
      ]
     },
     "metadata": {
      "needs_background": "light"
     },
     "output_type": "display_data"
    },
    {
     "name": "stdout",
     "output_type": "stream",
     "text": [
      "mt1= \n",
      " [2.3572687132051717, -2.0282961993449873]\n",
      "arg q-func : \n",
      "[[0.70231214]]\n",
      "[0.261, 0.258, 0.25749999999999995, 0.255, 0.254, 0.24950000000000006, 0.24450000000000005, 0.244] [0.23975006109347674, 0.23910189492427802, 0.23712834068265354, 0.23373859215337528, 0.2287682743173643, 0.22195637062121154, 0.2129043075952785, 0.20100393554334806]\n",
      "0 0\n",
      "1 1\n",
      "2 2\n",
      "3 3\n",
      "MTM : \n",
      "[[ 0.95192386 -0.96953935  1.07594106 -0.90554046]\n",
      " [-0.96953935  1.0012283  -1.12270221  0.97460704]\n",
      " [ 1.07594106 -1.12270221  1.41589383 -1.35992542]\n",
      " [-0.90554046  0.97460704 -1.35992542  0.91517273]]\n"
     ]
    },
    {
     "data": {
      "image/png": "[encoded data removed]",
      "text/plain": [
       "<Figure size 432x288 with 1 Axes>"
      ]
     },
     "metadata": {
      "needs_background": "light"
     },
     "output_type": "display_data"
    },
    {
     "name": "stdout",
     "output_type": "stream",
     "text": [
      "y = \n",
      "       0  \n",
      "       0  \n",
      " 6.28983  \n",
      "-4.33209  \n"
     ]
    },
    {
     "data": {
      "image/png": "[encoded data removed]",
      "text/plain": [
       "<Figure size 432x288 with 1 Axes>"
      ]
     },
     "metadata": {
      "needs_background": "light"
     },
     "output_type": "display_data"
    },
    {
     "name": "stdout",
     "output_type": "stream",
     "text": [
      "mt1= \n",
      " [2.4576815006600254, -2.0791993382522143]\n",
      "arg q-func : \n",
      "[[0.80160226]]\n",
      "[0.261, 0.258, 0.25749999999999995, 0.255, 0.254, 0.24950000000000006, 0.24450000000000005, 0.244, 0.2425] [0.23975006109347674, 0.23910189492427802, 0.23712834068265354, 0.23373859215337528, 0.2287682743173643, 0.22195637062121154, 0.2129043075952785, 0.20100393554334806, 0.18530737544421827]\n",
      "0 0\n",
      "1 1\n",
      "2 2\n",
      "3 3\n",
      "MTM : \n",
      "[[ 0.95192386 -0.96953935  1.18050316 -1.01010255]\n",
      " [-0.96953935  1.0012283  -1.24859532  1.10050015]\n",
      " [ 1.18050316 -1.24859532  1.61004846 -1.44501582]\n",
      " [-1.01010255  1.10050015 -1.44501582  0.89119891]]\n"
     ]
    },
    {
     "data": {
      "image/png": "[encoded data removed]",
      "text/plain": [
       "<Figure size 432x288 with 1 Axes>"
      ]
     },
     "metadata": {
      "needs_background": "light"
     },
     "output_type": "display_data"
    },
    {
     "name": "stdout",
     "output_type": "stream",
     "text": [
      "y = \n",
      "        0  \n",
      "        0  \n",
      "  4.68281  \n",
      "-0.652405  \n"
     ]
    },
    {
     "data": {
      "image/png": "[encoded data removed]",
      "text/plain": [
       "<Figure size 432x288 with 1 Axes>"
      ]
     },
     "metadata": {
      "needs_background": "light"
     },
     "output_type": "display_data"
    },
    {
     "name": "stdout",
     "output_type": "stream",
     "text": [
      "mt1= \n",
      " [2.375007336231806, -2.05745551729344]\n",
      "arg q-func : \n",
      "[[0.95454545]]\n",
      "[0.261, 0.258, 0.25749999999999995, 0.255, 0.254, 0.24950000000000006, 0.24450000000000005, 0.244, 0.2425, 0.26] [0.23975006109347674, 0.23910189492427802, 0.23712834068265354, 0.23373859215337528, 0.2287682743173643, 0.22195637062121154, 0.2129043075952785, 0.20100393554334806, 0.18530737544421827, 0.16428249171959852]\n"
     ]
    },
    {
     "data": {
      "image/png": "[encoded data removed]",
      "text/plain": [
       "<Figure size 432x288 with 1 Axes>"
      ]
     },
     "metadata": {
      "needs_background": "light"
     },
     "output_type": "display_data"
    }
   ],
   "source": [
    "n = 2100\n",
    "p = 100\n",
    "m = 2\n",
    "t = 2\n",
    "beta = np.linspace(0,1,10)\n",
    "n_t = [[1000,1000], [50,50]]\n",
    "n_t_test = [[1000, 1000]]\n",
    "nt = sum(n_t_test[0])\n",
    "emp_rate, th_rate = [], []\n",
    "for b in beta:\n",
    "    # on crée les données synthétiques\n",
    "    M = mean_matrix(b, p, 100)\n",
    "#       print(M)\n",
    "    X = gaussian_synthetic_data(n, p, m, t, n_t, M, 100)\n",
    "    X_test = gaussian_synthetic_data(nt, p, m, 1, n_t_test, [M[1]], 100)\n",
    "    \n",
    "#     X = normalisation_old(X, t, m)\n",
    "#     Malik's normalization (dividing by sqrt(p))\n",
    "#     X_train, X_test, n_t_train, n_t_test = train_test_split_data(X, 0.8, t, m)\n",
    "#     y = create_labels(t,m)\n",
    "    \n",
    "    # On calcule les moyennes empiriques\n",
    "    MM = empirical_mean(t, m, X, p, n_t)\n",
    "    M_true = true_mean(M, p, t, m)\n",
    "    print(\"MTM : \")\n",
    "    print(MM)\n",
    "    MM_true = M_true.T@M_true\n",
    "#     print(MM)\n",
    "    c = estimate_c(n_t, n, t, m)\n",
    "    c0 = p/n\n",
    "    Dc = np.diag(c)\n",
    "#     print(\"c = \", c)\n",
    "#     print(\"Correlation Matrix : \")\n",
    "    correlation_matrix = compute_M_cal(n, p, Dc, MM, display=False)\n",
    "    correlation_matrix_true = compute_M_cal(n, p, Dc, MM_true, display=True)\n",
    "#     matprint(correlation_matrix)\n",
    "    y = label_evaluation(t,m,Dc,correlation_matrix)\n",
    "    y_true = label_evaluation(t,m,Dc,correlation_matrix_true)\n",
    "    print(\"y = \")\n",
    "    matprint(y)\n",
    "    X = normalisation(X, p)\n",
    "    X_test = normalisation(X_test, p)\n",
    "    X_train_aggregated = aggregate_array(X, p, n, t, m)\n",
    "    X_test_aggregated = aggregate_array(X_test, p, nt, 1, m)\n",
    "    J = create_J(m, t, n, n_t)\n",
    "    \n",
    "    V = compute_V(y, X_train_aggregated, J, n)\n",
    "    V_true = compute_V(y_true, X_train_aggregated, J, n)\n",
    "    debug_histogram(V, X_test_aggregated, n_t_test)\n",
    "#     print(\"V = \")\n",
    "#     print(V)\n",
    "    m_t = create_mt(t, m, y, Dc, correlation_matrix)\n",
    "    m_t_true = create_mt(t, m, y_true, Dc, correlation_matrix_true)\n",
    "    \n",
    "    emp_rate.append(compute_error_rate(X_test, V, m_t, 1, m, n_t_test, Dc, MM, c0))\n",
    "    th_rate.append(error_rate(t, m,  Dc, MM_true, c0)[0][0])\n",
    "\n",
    "    print(emp_rate, th_rate)\n",
    "    \n",
    "plt.plot(beta, emp_rate, '-o', label='empirical rate')\n",
    "plt.plot(beta, th_rate, '-o', label='theoritical rate')\n",
    "plt.legend()\n",
    "plt.title(\"2-class Gaussian mixture transfer error rate\")\n",
    "plt.xlabel(\"Task relatedness (beta)\")\n",
    "plt.ylabel(\"error rate\")\n",
    "plt.grid()\n",
    "plt.show()"
   ]
  },
  {
   "cell_type": "code",
   "execution_count": 45,
   "metadata": {},
   "outputs": [
    {
     "data": {
      "image/png": "[encoded data removed]",
      "text/plain": [
       "<Figure size 432x288 with 1 Axes>"
      ]
     },
     "metadata": {
      "needs_background": "light"
     },
     "output_type": "display_data"
    }
   ],
   "source": [
    "plt.plot(beta, th_rate, '-o', label='theoritical rate')\n",
    "plt.legend()\n",
    "plt.title(\"2-class Gaussian mixture transfer error rate\")\n",
    "plt.xlabel(\"Task relatedness (beta)\")\n",
    "plt.ylabel(\"error rate\")\n",
    "plt.grid()\n",
    "plt.show()"
   ]
  },
  {
   "cell_type": "code",
   "execution_count": 46,
   "metadata": {},
   "outputs": [
    {
     "data": {
      "text/plain": [
       "array([[ 0.00041855, -0.00038906,  0.00044713, -0.00016489],\n",
       "       [-0.00038906,  0.000363  , -0.00041855,  0.00015538],\n",
       "       [ 0.00044713, -0.00041855,  0.00048621, -0.00017971],\n",
       "       [-0.00016489,  0.00015538, -0.00017971,  0.0001297 ]])"
      ]
     },
     "execution_count": 46,
     "metadata": {},
     "output_type": "execute_result"
    }
   ],
   "source": [
    "np.transpose(M_mean).dot(M_mean)"
   ]
  },
  {
   "cell_type": "markdown",
   "metadata": {},
   "source": [
    "# Algorithme distribué 2 tâches 2 classes\n",
    "Bien que certains résultats du précedent algorithmes sont particulèrement inquiétants, essayons de voir comment distribuer l'algorithme sur plusieurs serveurs.\n",
    "\n",
    "Par exemple un serveur demande les moyennes des autres serveurs pour pouvoir obtenir des meilleurs résultats en calculant la moyenne des ses données et la moyenne de toutes les moyennes avant de le renvoyer au serveur principal qui mettra à jour le modèle.\n",
    "\n",
    "Prendre des données synthétiques pour la 1ère tâche à 2 classes, puis rappatrier une ou plusieurs moyennes pour les autres tasks. \n",
    "Faire des comparaisons, avec et sans federated learning."
   ]
  },
  {
   "cell_type": "markdown",
   "metadata": {},
   "source": [
    "### 2 serveurs \n",
    "#### Federated Learning 2 classes 2 taches\n",
    "Imaginons 1 Serveur central er dex clients. L'un cherche à classifier un certain type d'images, l'autre un deuxième type d'images. Les deux clients sont confrontés un problème de classification binaire sur des images sensiblement similaire (quantifié par le paramètre $\\beta$), et peuvent donc s'aider du training de l'autre pour affiner leur classification.\n",
    "\n",
    "Le premier client entraîne son modèle de classification sur son jeu de données locales. Il espère obtenir de meilleures performances à l'aide du transfer Learning. Les deux clients envoient alors les moyennes empiriques calculées sur leurs donnée locales, au serveur central. Le serveur peut alors calculé la matrice de corrélation $\\mathcal{M}$ et les labels optimaux $\\tilde{y}$. Les clients recoivent les labels optimaux, et peuvent maintenant recalculer le vecteur propre $V$ de $\\displaystyle\\frac{X_ty_ty_t^TX_t^T}{np}$ et inférer sur de nouvelles données $x$."
   ]
  },
  {
   "cell_type": "markdown",
   "metadata": {},
   "source": [
    "Calcul des moyennes empiriques, et calcul de la matrice $M\\in\\mathbb{R}^{p\\times 2k}$\n",
    "$$\\frac{1}{n_{tj}}X_{tj}\\mathbb{1}_{n_{tj}}=\\frac{1}{n_{tj}}\\sum_{l=1}^{n_{tj}}x_{tl}^{(j)}$$\n",
    "\n",
    "Chaque client calcule en local les moyennes empiriques des données et les envoie au serveur central.\n",
    "\n",
    "De la même façcon que précédemment les données de chaque client (=chaque tâche) devront respecter les conditions de non-trivialité."
   ]
  },
  {
   "cell_type": "code",
   "execution_count": null,
   "metadata": {},
   "outputs": [],
   "source": [
    "def average_correlation_matrix(nb_tasks, nb_classes, matrices, weights):\n",
    "    \"\"\"\n",
    "    Renvoie une matrice de corrélation moyennée et pondérée à partir des différentes matrices de corrélation en input.\n",
    "    matrices est un tableau de matrice 2x2\n",
    "    weights est un tableau avec les différents poids des datasets (i.e. n le nombre de samples dans le dataset)\n",
    "    \"\"\"\n",
    "    nb_matrices = len(matrices)\n",
    "    size = nb_classes*nb_tasks\n",
    "    averaged_M = np.zeros((size, size))\n",
    "    for i in range(size):\n",
    "        for j in range(size):\n",
    "            for idx, mat in enumerate(matrices):\n",
    "                averaged_M[i][j] += mat[i][j]\n",
    "            averaged_M[i][j] /= nb_matrices\n",
    "\n",
    "    return averaged_M"
   ]
  },
  {
   "cell_type": "code",
   "execution_count": null,
   "metadata": {},
   "outputs": [],
   "source": [
    "def create_clients(k, m):\n",
    "    \"\"\"\n",
    "    Retourne k datasets à m classes gaussiens représentant les k taches  \n",
    "    \"\"\"\n",
    "    pass"
   ]
  },
  {
   "cell_type": "code",
   "execution_count": null,
   "metadata": {},
   "outputs": [],
   "source": [
    "def central_server(emp_means, k):\n",
    "    \"\"\"\n",
    "    Retourne les taux d'erreur après utilisation des données de tous les clients\n",
    "    \"\"\"\n",
    "    pass"
   ]
  },
  {
   "cell_type": "code",
   "execution_count": 265,
   "metadata": {},
   "outputs": [],
   "source": [
    "# pas fait le cas du j=j' mais j'ai pas l'impression que c'est nécessaire en tout cas pas ici ?\n",
    "# cf remark 1\n",
    "\n",
    "def empirical_mean_old(nb_tasks, nb_classes, X, p, n_t):\n",
    "    \"\"\"\n",
    "    compute empirical mean for data X\n",
    "    return an 1xp vector being the empirical mean for the random vector X_{tj}\n",
    "    retourne la matrice M\n",
    "    \"\"\"\n",
    "    M = np.empty((nb_classes*nb_tasks, p))\n",
    "    for t in range(nb_tasks):\n",
    "        for l in range(nb_classes):\n",
    "            print(X[t][l].dot(np.ones((n_t[t][l]))).shape)\n",
    "            # print(t*nb_classes+l)\n",
    "            M[t*nb_tasks+l] = X[t][l].dot(np.ones((n_t[t][l])))\n",
    "            M[t*nb_tasks+l] /= n_t[t][l]\n",
    "            #print(f\"class {t*nb_tasks+l} empirical mean = {np.mean(M[t*nb_tasks+l])}\")\n",
    "    return np.transpose(M)\n",
    "\n",
    "def gather_empirical_mean(nb_tasks, nb_classes, emp_means, diag_means, p, n_t):\n",
    "    \"\"\"\n",
    "    emp_means est un vecteur contenant les moyennes empiriques de chaque tache de chaque classe.\n",
    "    Chaque vecteur de moyennes et de taille px1\n",
    "    \"\"\"\n",
    "    M = np.empty((4, 4)) # ici 4x4\n",
    "    for i in range(nb_tasks):\n",
    "        for j in range(nb_classes):\n",
    "            for k in range(nb_tasks):\n",
    "                for l in range(nb_classes):\n",
    "                    if i == k and j == l:\n",
    "                        moitie = int(n_t[i][j]/2)\n",
    "                        #print(f\"i = {i}, j = {j}\")\n",
    "                        print(i*nb_tasks+j, i*nb_tasks+j)\n",
    "#                         print(moitie)\n",
    "#                         print(np.ones((moitie, 1)).T.dot(X[i][j].T[:moitie]).shape)\n",
    "                        M[i*nb_tasks+j][i*nb_tasks+j] = emp_means[i*nb_tasks+j][:moitie].T@emp_means[k*nb_tasks+l][moitie:]\n",
    "                    else:\n",
    "#                         print(i*nb_tasks+j, k*nb_tasks+l)\n",
    "                        M[i*nb_tasks+j][k*nb_tasks+l] = emp_means[i*nb_tasks+j].T@emp_means[k*nb_tasks+l]\n",
    "    \n",
    "    if display:\n",
    "        for t in range(nb_tasks):\n",
    "            for l in range(nb_classes):\n",
    "                print(f\"class {t*nb_tasks+l} empirical mean = {np.mean(M[t*nb_tasks+l])}\")\n",
    "                \n",
    "    return M"
   ]
  },
  {
   "cell_type": "code",
   "execution_count": null,
   "metadata": {},
   "outputs": [],
   "source": [
    "n1 = 2000\n",
    "n2 = 2000\n",
    "p = 100\n",
    "m = 2\n",
    "t = 2\n",
    "beta = np.linspace(0,1,10)\n",
    "n_t = [[1000,1000], [1000,1000]]\n",
    "n_t_test = [[1000, 1000]]\n",
    "nt = sum(n_t_test[0])\n",
    "emp_rate, th_rate = [], []\n",
    "for b in beta:\n",
    "    # on crée les données synthétiques\n",
    "    M = mean_matrix(b, p, 100)\n",
    "#       print(M)\n",
    "    # X1 is the local data of the first client\n",
    "    X1 = gaussian_synthetic_data(n1, p, m, 1, n_t[0], [M[0]], 100)\n",
    "    # X2 is the local data of the second client\n",
    "    X2 = gaussian_synthetic_data(n2, p, m, 1, n_t[1], [M[1]], 100)\n",
    "    # data we want to test on our model, here new data of client n°2\n",
    "    X_test = gaussian_synthetic_data(nt, p, m, 1, n_t_test, [M[1]], 100)\n",
    "    \n",
    "    # On calcule les moyennes empiriques\n",
    "    MM1 = empirical_mean(t, m, X1, p, n_t[0])\n",
    "    MM2 = empirical_mean(t, m, X2, p, n_t[1])\n",
    "    M_true = true_mean(M, p, t, m)\n",
    "    print(\"MTM : \")\n",
    "    print(MM1)\n",
    "    print(MM2)\n",
    "    MM_true = M_true.T@M_true\n",
    "#     print(MM)\n",
    "    c = estimate_c(n_t, n, t, m)\n",
    "    c0 = p/n\n",
    "    Dc = np.diag(c)\n",
    "#     print(\"c = \", c)\n",
    "#     print(\"Correlation Matrix : \")\n",
    "    correlation_matrix = compute_M_cal(n, p, Dc, MM, display=False)\n",
    "    correlation_matrix_true = compute_M_cal(n, p, Dc, MM_true, display=True)\n",
    "#     matprint(correlation_matrix)\n",
    "    y = label_evaluation(t,m,Dc,correlation_matrix)\n",
    "    y_true = label_evaluation(t,m,Dc,correlation_matrix_true)\n",
    "    print(\"y = \")\n",
    "    matprint(y)\n",
    "    X = normalisation(X, p)\n",
    "    X_test = normalisation(X_test, p)\n",
    "    X_train_aggregated = aggregate_array(X, p, n, t, m)\n",
    "    X_test_aggregated = aggregate_array(X_test, p, nt, 1, m)\n",
    "    J = create_J(m, t, n, n_t)\n",
    "    \n",
    "    V = compute_V(y, X_train_aggregated, J, n)\n",
    "    V_true = compute_V(y_true, X_train_aggregated, J, n)\n",
    "    debug_histogram(V, X_test_aggregated, n_t_test)\n",
    "#     print(\"V = \")\n",
    "#     print(V)\n",
    "    m_t = create_mt(t, m, y, Dc, correlation_matrix)\n",
    "    m_t_true = create_mt(t, m, y_true, Dc, correlation_matrix_true)\n",
    "    \n",
    "    emp_rate.append(compute_error_rate(X_test, V, m_t, 1, m, n_t_test, Dc, MM, c0))\n",
    "    th_rate.append(error_rate(t, m,  Dc, MM_true, c0)[0][0])\n",
    "\n",
    "    print(emp_rate, th_rate)\n",
    "    \n",
    "plt.plot(beta, emp_rate, '-o', label='empirical rate')\n",
    "plt.plot(beta, th_rate, '-o', label='theoritical rate')\n",
    "plt.legend()\n",
    "plt.title(\"2-class Gaussian mixture transfer error rate\")\n",
    "plt.xlabel(\"Task relatedness (beta)\")\n",
    "plt.ylabel(\"error rate\")\n",
    "plt.grid()\n",
    "plt.show()\n",
    "X = gaussian_synthetic_data(n, p, m, t, n_t, M)\n",
    "X_train, X_test, n_t_train, n_t_test = train_test_split_data(X, 0.8, t, m)\n",
    "y = create_labels(t,m)\n",
    "M_mean = empirical_mean(t, m, X_train, p, n_t_train)\n",
    "c = estimate_c(n_t, n, t, m)\n",
    "Dc = np.diag(c)\n",
    "correlation_matrix = compute_M_cal(n,p,Dc,M_mean, display=True)\n",
    "y = label_evaluation(t,m,Dc,correlation_matrix)\n",
    "X_train_aggregated = aggregate_array(X_train, p, n, t, m)\n",
    "X_test_aggregated = aggregate_array(X_train, p, n, t, m)\n",
    "J = create_J(m, t, n, n_t_train)\n",
    "V = compute_V(y, X_train_aggregated, J)\n",
    "m_t = create_mt(t, m, y, Dc, correlation_matrix)\n",
    "compute_error_rate(X_test, V, m_t, t, m, n_t_test, Dc, correlation_matrix, True)"
   ]
  },
  {
   "cell_type": "markdown",
   "metadata": {},
   "source": [
    "$(1/n_{tj})\\sum_{m=1}^{n_{tj}} x^{(t)}_{jm}$"
   ]
  },
  {
   "cell_type": "code",
   "execution_count": null,
   "metadata": {},
   "outputs": [],
   "source": [
    "print(n_t_train)"
   ]
  },
  {
   "cell_type": "code",
   "execution_count": null,
   "metadata": {},
   "outputs": [],
   "source": []
  }
 ],
 "metadata": {
  "kernelspec": {
   "display_name": "Python 3",
   "language": "python",
   "name": "python3"
  },
  "language_info": {
   "codemirror_mode": {
    "name": "ipython",
    "version": 3
   },
   "file_extension": ".py",
   "mimetype": "text/x-python",
   "name": "python",
   "nbconvert_exporter": "python",
   "pygments_lexer": "ipython3",
   "version": "3.7.10"
  }
 },
 "nbformat": 4,
 "nbformat_minor": 2
}
