{
 "cells": [
  {
   "cell_type": "code",
   "execution_count": 2,
   "metadata": {},
   "outputs": [],
   "source": [
    "%matplotlib inline\n",
    "import numpy as np\n",
    "import matplotlib.pyplot as plt\n",
    "from sklearn.model_selection import train_test_split"
   ]
  },
  {
   "cell_type": "code",
   "execution_count": 3,
   "metadata": {},
   "outputs": [],
   "source": [
    "def matprint(mat, fmt=\"g\"):\n",
    "    \"\"\"\n",
    "    Pour une un print plus clair de la matrice\n",
    "    https://gist.github.com/braingineer/d801735dac07ff3ac4d746e1f218ab75\n",
    "    \"\"\"\n",
    "    col_maxes = [max([len((\"{:\"+fmt+\"}\").format(x)) for x in col]) for col in mat.T]\n",
    "    for x in mat:\n",
    "        for i, y in enumerate(x):\n",
    "            print((\"{:\"+str(col_maxes[i])+fmt+\"}\").format(y), end=\"  \")\n",
    "        print(\"\")"
   ]
  },
  {
   "cell_type": "markdown",
   "metadata": {},
   "source": [
    "# Table of contents\n",
    "* [Algorithme non distribué 2 taches 2 classes](#Algorithme-non-distribué-2-taches-2-classes)\n",
    "     * [1ère étape: Calcul des moyennes empiriques](#1ère-étape)\n",
    "     * [2ème étape: Estimation de $c$ et de $\\mathcal{M}$](#2ème-étape)\n",
    "     * [3ème étape: Calcul des labels optimaux](#3ème-étape)\n",
    "     * [4ème étape: Estimation des $m_{tj}$](#4ème-étape)\n",
    "     * [5ème étape: Calcul de $V$](#5ème-étape)\n",
    "     * [6ème étape: Evaluation et calcul d'erreur](#6ème-étape)\n",
    "* [2-class Gaussian mixture transfer](#2-class-Gaussian-mixture-transfer-(c.f.-Figure-2))\n",
    "* [Adding Tasks](#Adding-tasks)\n",
    "* [Algorithme distribué 2-tâches 2-classes](#Algorithme-distribué-2-tâches-2-classes)\n",
    "     * [Serveur isolé](#Serveur-isolé)\n",
    "* [Distributively adding tasks](#Distributively-adding-tasks)\n",
    "     * [Working with real data](#Real-Data)\n",
    "* [Optimalité](#Optimalité)\n",
    "* [Algorithme distribué k-tâches 2-classes](#Algorithme-distribué-k-tâches-m-classes)\n",
    "     "
   ]
  },
  {
   "cell_type": "markdown",
   "metadata": {},
   "source": [
    "Créons des données synthétiques gaussiennes. Ici nous nous intéresserons dans un premier temps au cas où $m=2$. (Binary MTL Supervised Principal Component Analysis) "
   ]
  },
  {
   "cell_type": "markdown",
   "metadata": {},
   "source": [
    "# Algorithme non distribué 2 taches 2 classes\n",
    "Fonctions pour générer des données synthétiques gaussiennes"
   ]
  },
  {
   "cell_type": "code",
   "execution_count": 4,
   "metadata": {},
   "outputs": [],
   "source": [
    "def mean_random_matrix(m, k, p, l, h, random_seed=42):\n",
    "    \"\"\"\n",
    "    Retourne une matrice M de taille pxm*k contenant\n",
    "    les moyennes de chaque composante de chaque vecteur aléatoire\n",
    "    pour l'instant les moyennes sont tirées aléatoirement \n",
    "    suivant la loi uniforme sur l, h (pas convaincu par ce choix)\n",
    "    m est le nombre de classes\n",
    "    k est le nombre de taches\n",
    "    p est le nombre de features\n",
    "    \"\"\"\n",
    "    np.random.seed(random_seed)\n",
    "    M = []\n",
    "    tmp = []\n",
    "    for task in range(k):\n",
    "        tmp = []\n",
    "        for classe in range(m):\n",
    "            # on crée un vecteur de moyennes égales pour chaque classes\n",
    "            # de sorte à créer des classes gravitant autour d'une meme moyenne\n",
    "            tmp.append(np.ones((p,1))*np.random.uniform(low = 0.0, high = h))\n",
    "        M.append(tmp)\n",
    "    return M"
   ]
  },
  {
   "cell_type": "code",
   "execution_count": 5,
   "metadata": {},
   "outputs": [],
   "source": [
    "def mean_matrix(p, beta=None, k=2, m=2, random_seed=42, random=False):\n",
    "    \"\"\"\n",
    "    Crée des vecteurs de moyennes en respectant les conditions de non trivialité \n",
    "    retourne un tableau contenant k tableaux de m moyennes.\n",
    "    beta est le paramètre de task relatedness. Si beta n'est pas précisé, il est tiré au hasard uniformément sur [0,1] pour chaque t.\n",
    "    k=2, m=2 par défaut\n",
    "    \"\"\"\n",
    "    np.random.seed(random_seed)\n",
    "    mu = np.zeros((p,1))\n",
    "    mu[0]= 1\n",
    "    mu_ortho = np.zeros((p,1))\n",
    "    mu_ortho[-1] = 1\n",
    "    \n",
    "    M = []\n",
    "    classes = []\n",
    "    if not random:\n",
    "        for l in range(m):\n",
    "            classes.append((-1)**l*mu)\n",
    "        M.append(classes)\n",
    "    \n",
    "    for t in range(k):          \n",
    "        mu_t = beta*mu+np.sqrt(1-beta**2)*mu_ortho\n",
    "        classes = []\n",
    "        for l in range(m):\n",
    "            classes.append((-1)**l*mu_t)\n",
    "        M.append(classes)\n",
    "    return M"
   ]
  },
  {
   "cell_type": "code",
   "execution_count": 6,
   "metadata": {},
   "outputs": [],
   "source": [
    "def gaussian_synthetic_data(n, p, m, t, n_t, M, random_seed=42):\n",
    "    \"\"\"\n",
    "    Renvoie un tableau de données synthétiques gaussiennes. X[0] accède aux données de la premiere tache.\n",
    "    X[0][1] accede aux données de la deuxieme classe de la premiere tache.\n",
    "    (vecteurs gaussiens de taille n_j * p tq sum(n_j for j) = n)\n",
    "    à partir du nombre d'échantillons n de taille p et du nombre de classe m.\n",
    "    t est le nombre de tâches\n",
    "    n_t est un vecteur comprenant les différentes valeurs n_j pour chaque task\n",
    "    M est la matrice des moyennes de chaque composante \n",
    "    de chaque vecteur aléatoire\n",
    "    \"\"\"\n",
    "    # assert(sum(n_j)/n==1\n",
    "    \n",
    "    np.random.seed(random_seed)\n",
    "    X = []\n",
    "    tmp = []\n",
    "    y_test = []\n",
    "    for task in range(t):\n",
    "        # pour une tache on a m classes\n",
    "        tmp = []\n",
    "        for k in range(m):\n",
    "            X_k = np.empty((n_t[task][k], p))\n",
    "            # on prendra la transposée a la fin\n",
    "#             print( n_t[task][k])\n",
    "            for j in range(n_t[task][k]):\n",
    "                # on crée n_j[task][k] vecteurs aléatoires de taille 1xp\n",
    "                # std = 1?\n",
    "                # comment utiliser des vecteurs de moyennes pour générer les données ?\n",
    "                mean = np.reshape(M[task][k], p)\n",
    "                X_k[j] = np.random.multivariate_normal(mean, np.identity(p))\n",
    "                y_test.append(k)\n",
    "            X_k = np.transpose(X_k)\n",
    "            #print(k)\n",
    "            tmp.append(X_k)\n",
    "            # print(\"tmp = \", tmp)\n",
    "        X.append(tmp)\n",
    "            \n",
    "    return X, y_test"
   ]
  },
  {
   "cell_type": "markdown",
   "metadata": {},
   "source": [
    "## 1ère étape\n",
    "Calcul des moyennes empiriques, et calcul de la matrice $M\\in\\mathbb{R}^{p\\times 2k}$\n",
    "$$\\frac{1}{n_{tj}}X_{tj}\\mathbb{1}_{n_{tj}}=\\frac{1}{n_{tj}}\\sum_{l=1}^{n_{tj}}x_{tl}^{(j)}$$"
   ]
  },
  {
   "cell_type": "code",
   "execution_count": 80,
   "metadata": {},
   "outputs": [],
   "source": [
    "def empirical_mean(nb_tasks, nb_classes, X, p, n_t, display=False):\n",
    "    \"\"\"\n",
    "    Retourne la matrice M avec les produits scalaires croisés\n",
    "    cf. Remark 1\n",
    "    \"\"\"\n",
    "    \n",
    "    M = np.empty((nb_tasks*nb_classes, nb_tasks*nb_classes)) # ici 4x4\n",
    "    for i in range(nb_tasks):\n",
    "        for j in range(nb_classes):\n",
    "            for k in range(nb_tasks):\n",
    "                for l in range(nb_classes):\n",
    "                    if i == k and j == l:\n",
    "                        moitie = int(n_t[i][j]/2)\n",
    "#                         print(\"DEBUG diagonal\")\n",
    "#                         print(f\"i = {i}, j = {j}\")\n",
    "#                         print(i*nb_classes+j, i*nb_classes+j)\n",
    "#                         print(\"moitie : \", moitie)\n",
    "                        \n",
    "                        M[i*nb_classes+j][i*nb_classes+j] = np.ones((moitie, 1)).T@X[i][j].T[:moitie]@X[i][j].T[moitie:].T@np.ones((moitie))\n",
    "                        M[i*nb_classes+j][i*nb_classes+j] /= moitie**2\n",
    "                    else:\n",
    "#                         print(i*nb_classes+j, k*nb_classes+l)\n",
    "#                         print(i, j, k, l)\n",
    "                        M[i*nb_classes+j][k*nb_classes+l] = np.ones((n_t[i][j], 1)).T@X[i][j].T@X[k][l]@np.ones((n_t[k][l]))\n",
    "                        M[i*nb_classes+j][k*nb_classes+l] /= n_t[i][j]*n_t[k][l]\n",
    "    \n",
    "    if display:\n",
    "        for t in range(nb_tasks):\n",
    "            for l in range(nb_classes):\n",
    "                print(f\"class {t*nb_classes+l} empirical mean = {np.mean(M[t*nb_classes+l])}\")\n",
    "                \n",
    "    return M"
   ]
  },
  {
   "cell_type": "code",
   "execution_count": 31,
   "metadata": {},
   "outputs": [],
   "source": [
    "def true_mean(M, p, nb_tasks, nb_classes):\n",
    "    \"\"\"\n",
    "    Retourne un ndarray contenant les vraies moyennes avec lequel on peut travailler\n",
    "    \"\"\"\n",
    "    true_M = np.empty((nb_tasks*nb_classes, p))\n",
    "    for t in range(nb_tasks):\n",
    "        for l in range(nb_classes):\n",
    "            mean = np.reshape(M[t][l], (p,))\n",
    "            true_M[t*nb_classes+l] = mean\n",
    "\n",
    "    return np.transpose(true_M)"
   ]
  },
  {
   "cell_type": "code",
   "execution_count": 9,
   "metadata": {},
   "outputs": [],
   "source": [
    "# utile pour les puissances négatives\n",
    "def power_diagonal_matrix(D, exponent):\n",
    "    diag = np.zeros(len(D))\n",
    "    for i in range(len(D)):\n",
    "        diag[i] = D[i][i]**exponent\n",
    "    \n",
    "    return np.diag(diag)"
   ]
  },
  {
   "cell_type": "markdown",
   "metadata": {},
   "source": [
    "## 2ème étape\n",
    "Estimer $c$ et $\\mathcal{M}\\in\\mathbb{R}^{2k\\times 2k}$. \n",
    "$c=\\left[ c_{11},\\ldots,c_{km} \\right]^T\\in\\mathbb{R}^{km}$"
   ]
  },
  {
   "cell_type": "code",
   "execution_count": 10,
   "metadata": {},
   "outputs": [],
   "source": [
    "def estimate_c(n_t, n, nb_tasks, nb_classes):\n",
    "    \"\"\"\n",
    "    Estime le vecteur c en divisant n_t[nb_tasks][nb_classes]/n\n",
    "    \"\"\"\n",
    "    c = np.empty(nb_tasks*nb_classes)\n",
    "    for task in range(nb_tasks):\n",
    "        for m in range(nb_classes):\n",
    "            c[task*nb_classes+m]=n_t[task][m]/n\n",
    "            \n",
    "    return c"
   ]
  },
  {
   "cell_type": "code",
   "execution_count": 11,
   "metadata": {},
   "outputs": [],
   "source": [
    "def compute_M_cal(n,p,Dc,MM, k=2, display=False):\n",
    "    \"\"\"\n",
    "    renvoie la matrice M cursive estimée.\n",
    "    O(2*k)\n",
    "    \"\"\"\n",
    "    c0 = k*p/n\n",
    "    correlation_matrix = 1/c0*np.power(Dc, 1/2)@MM@np.power(Dc, 1/2)\n",
    "    if display==True:\n",
    "        plt.imshow(correlation_matrix)\n",
    "        plt.show()\n",
    "    return correlation_matrix"
   ]
  },
  {
   "cell_type": "markdown",
   "metadata": {},
   "source": [
    "## 3ème étape\n",
    "Let's compute optimal labels"
   ]
  },
  {
   "cell_type": "code",
   "execution_count": 12,
   "metadata": {},
   "outputs": [],
   "source": [
    "# a revoir ?\n",
    "\n",
    "def label_evaluation(nb_tasks, nb_classes, Dc, M_estimated, c0, task_target=None):\n",
    "    \"\"\"\n",
    "    Evalue le label y pour une tache t pour 2 classes\n",
    "    task_target=None par défaut, permet de choisir la tâche target en cas d'algo distribué.\n",
    "    \"\"\"\n",
    "    inverse = np.linalg.inv(M_estimated+np.identity(nb_classes*nb_tasks))\n",
    "    # 0(16*k^3)\n",
    "    power_dc = power_diagonal_matrix(Dc, -1/2)\n",
    "    # O(2*k)\n",
    "    y = np.zeros((nb_tasks*nb_classes, 1))\n",
    "    e3_e4 = np.zeros((nb_tasks*nb_classes,1))\n",
    "    if task_target is not None:\n",
    "        e3_e4[2*task_target] = 1\n",
    "        e3_e4[2*task_target+1] = -1\n",
    "    else:\n",
    "        e3_e4[-2] = 1\n",
    "        e3_e4[-1] = -1\n",
    "    tilde_y=np.linalg.solve((Dc+Dc@M_estimated@Dc*1/c0),(Dc*1/c0@M_estimated@(e3_e4)))\n",
    "    # O(8*k^3)\n",
    "    return tilde_y\n",
    "#malik's formula:\n",
    "#tilde_y=(diag(c)*MM*diag(c)/co+diag(c))\\((e3-e4)'*MM*diag(c))';"
   ]
  },
  {
   "cell_type": "markdown",
   "metadata": {},
   "source": [
    "## 4ème étape\n",
    "Estimation des $m_{tj}$, étant les $k\\times m$ moyennes estimées pour modéliser nos données."
   ]
  },
  {
   "cell_type": "code",
   "execution_count": 13,
   "metadata": {},
   "outputs": [],
   "source": [
    "def asymptotic_mean(nb_tasks, nb_classes, y_tilde, Dc, correlation_matrix, t, j):\n",
    "    \"\"\"\n",
    "    compute asymptotic mean m_tj\n",
    "    t current task\n",
    "    j current class\n",
    "    \"\"\"\n",
    "    y_transpose = np.transpose(y_tilde)\n",
    "    etj = np.zeros((nb_tasks*nb_classes, 1))\n",
    "    etj[t*nb_classes+j] = 1\n",
    "    power_dc = power_diagonal_matrix(Dc, -1/2)\n",
    "    # Dc^1/2 ou Dc^{-1/2} ?\n",
    "    m_tj = y_transpose.dot(np.power(Dc, 1/2)).dot(correlation_matrix).dot(power_dc).dot(etj)\n",
    "    m_tj /= np.sqrt(y_transpose.dot(np.power(Dc, 1/2).dot(correlation_matrix).dot(np.power(Dc, 1/2)) + Dc).dot(y_tilde))\n",
    "    return m_tj[0][0]"
   ]
  },
  {
   "cell_type": "markdown",
   "metadata": {},
   "source": [
    "## 5ème étape\n",
    "Calcul de $V$ le sous-espace engendrés par les $\\tau$ plus grands vecteurs propres. Dans le cas du binary MTL-SPCA, $V=\\frac{Xy}{\\lVert Xy \\rVert}=\\frac{XJ\\tilde{y}}{\\lVert XJ\\tilde{y} \\rVert}\\in\\mathbb{R}^{p\\times1}$, avec $J\\in\\mathbb{R}^{n\\times km}$"
   ]
  },
  {
   "cell_type": "code",
   "execution_count": 14,
   "metadata": {},
   "outputs": [],
   "source": [
    "def aggregate_array(X, p, n, nb_tasks, nb_classes):\n",
    "    X_aggregated = np.empty((p, n))\n",
    "    class_1 = X[0][0]\n",
    "    for t in range(nb_tasks):\n",
    "        for l in range(nb_classes):\n",
    "            if t==0 and l==0:\n",
    "                continue\n",
    "            class_1 = np.append(class_1, X[t][l], 1)\n",
    "    X_aggregated = class_1\n",
    "    return X_aggregated"
   ]
  },
  {
   "cell_type": "markdown",
   "metadata": {},
   "source": [
    "$V=\\frac{Xy}{\\lVert Xy \\rVert}=\\frac{XJ\\tilde{y}}{\\lVert XJ\\tilde{y} \\rVert}$"
   ]
  },
  {
   "cell_type": "code",
   "execution_count": 15,
   "metadata": {},
   "outputs": [],
   "source": [
    "def create_J(nb_classes, nb_tasks, n, n_t):\n",
    "    # enlever paramètre n\n",
    "    left = 0\n",
    "    beg = 0\n",
    "    for i in range(nb_tasks):\n",
    "        left += int(sum(n_t[i]))\n",
    "    J = np.zeros((left, nb_tasks*nb_classes))\n",
    "    #matprint(J)\n",
    "    for t in range(nb_tasks):\n",
    "        for j in range(nb_classes):\n",
    "            for i in range(beg, beg+n_t[t][j]):\n",
    "                J[i][t*nb_classes+j] = 1\n",
    "            beg += n_t[t][j]\n",
    "    return J"
   ]
  },
  {
   "cell_type": "code",
   "execution_count": 16,
   "metadata": {},
   "outputs": [],
   "source": [
    "def compute_V_old(y_tilde, X, J):\n",
    "    \"\"\"\n",
    "    Utilise la formule explicite de V pour la classification binaire\n",
    "    \"\"\"\n",
    "    xy_product = X.dot(J).dot(y_tilde)\n",
    "    return xy_product/np.linalg.norm(xy_product)\n",
    "\n",
    "def compute_V(y, X, J, n):\n",
    "    \"\"\"\n",
    "    Recalcule V (calcul vecteur propre)\n",
    "    Vstar dans le fichier matlab\n",
    "    Division par p, si les X pas normalisé ?\n",
    "    wtf is wrong with V? \n",
    "    \"\"\"\n",
    "    #X*J*(tilde_y*tilde_y')*J'*X'/n\n",
    "    #print(X.shape)\n",
    "    eigenvalue, V = np.linalg.eig(X.dot(J).dot((y).dot(y.T)).dot(J.T).dot(X.T)/(n))\n",
    "    maximum = eigenvalue[0]\n",
    "    idx_larg = 0\n",
    "    # retrieve the index of the largest eigenvalue\n",
    "    for idx, value in enumerate(eigenvalue):\n",
    "        if value > maximum:\n",
    "            maximum = value\n",
    "            idx_larg = idx\n",
    "    \n",
    "    largest_eigenvalue = np.sort(eigenvalue.real)[-1]\n",
    "    return V.T[idx_larg].real"
   ]
  },
  {
   "cell_type": "markdown",
   "metadata": {},
   "source": [
    "## 6ème étape\n",
    "Evaluation de nouvelles données $\\mathbf{x}$ : \n",
    "$V^T\\mathbf{x}$\n",
    "\n",
    "On utilise les données du test set $X\\_test$. On obtient de très mauvais résultats"
   ]
  },
  {
   "cell_type": "code",
   "execution_count": 17,
   "metadata": {},
   "outputs": [],
   "source": [
    "def create_mt(t, m, y, Dc, correlation_matrix):\n",
    "    m_t = []\n",
    "    for k in range(t):\n",
    "        m_tj = []\n",
    "        for l in range(m):\n",
    "            m_tj.append(asymptotic_mean(t, m, y, Dc, correlation_matrix, k, l))\n",
    "        m_t.append(m_tj)\n",
    "\n",
    "    return m_t"
   ]
  },
  {
   "cell_type": "code",
   "execution_count": 18,
   "metadata": {},
   "outputs": [],
   "source": [
    "def compute_score(V, x, m_t):\n",
    "    \"\"\"\n",
    "    x vecteur aléatoire que l'on veut classifier\n",
    "    On compare V^Tx à la moyenne des moyennes estimées pour les deux classes de la tache t\n",
    "    \"\"\"\n",
    "    x_projection = np.transpose(V).dot(x)\n",
    "    average_mean = 1/2*(m_t[0] + m_t[1])\n",
    "    return (1 if x_projection > 0 else -1) "
   ]
  },
  {
   "cell_type": "code",
   "execution_count": 19,
   "metadata": {},
   "outputs": [],
   "source": [
    "from scipy import special as sp\n",
    "def qfunc(x):\n",
    "    return 0.5-0.5*sp.erf(x/np.sqrt(2))"
   ]
  },
  {
   "cell_type": "code",
   "execution_count": 20,
   "metadata": {},
   "outputs": [],
   "source": [
    "def error_rate(nb_tasks, nb_classes, Dc, M_cur, c0, task_target=1):\n",
    "    e3 = np.zeros((nb_tasks*nb_classes, 1))\n",
    "    e3[2*task_target] = 1\n",
    "    power_dc = power_diagonal_matrix(Dc, -1/2)\n",
    "    inv = np.linalg.inv(M_cur+np.identity(nb_tasks*nb_classes))\n",
    "    print(\"arg q-func : \")\n",
    "    print(e3.T.dot(M_cur).dot(Dc).dot(np.linalg.inv(Dc.dot(M_cur).dot(Dc)+c0*Dc)).dot(Dc).dot(M_cur).dot(e3))\n",
    "    return qfunc(np.sqrt(e3.T.dot(M_cur).dot(Dc).dot(np.linalg.inv(Dc.dot(M_cur).dot(Dc)+c0*Dc)).dot(Dc).dot(M_cur).dot(e3)))\n",
    "    #return qfunc(1/2*np.sqrt(et_trans.dot(power_dc).dot(M_cur).dot(inv).dot(M_cur).dot(power_dc).dot(et1_et2)))\n",
    "#erfc(sqrt(e3'*MM*diag(c)*inv((diag(c)*MM*diag(c)+diag(co*c/k)))*diag(c)*MM*e3)/(sqrt(2)))/2;"
   ]
  },
  {
   "cell_type": "code",
   "execution_count": 21,
   "metadata": {},
   "outputs": [],
   "source": [
    "def plot_error_rate(nb_tasks, nb_classes, emp_rate, error_rate, m_t, Dc, M_cur):\n",
    "    plt.scatter(1, emp_rate, label=\"empirical error\")\n",
    "    plt.scatter(1, [error_rate(m_t[1], nb_tasks, nb_classes, Dc, M_cur)], label=\"theoritical error\")\n",
    "    plt.grid()\n",
    "    plt.ylim((0,1))\n",
    "    plt.xlim((-0.5, 0.5))\n",
    "    plt.legend()\n",
    "    plt.title(f\"Classification error rate per task\")\n",
    "    plt.show()"
   ]
  },
  {
   "cell_type": "code",
   "execution_count": 22,
   "metadata": {},
   "outputs": [],
   "source": [
    "def compute_error_rate(X_test, V, m_t, nb_tasks, nb_classes, n_t, Dc, c0, task_target=1):\n",
    "    \"\"\"\n",
    "    Compute and plot classification error rate on test set\n",
    "    \"\"\"\n",
    "#     print(\"mt1= \\n\", m_t[1])\n",
    "    emp_rate = []\n",
    "    error = 0\n",
    "    ni = 0\n",
    "    error = 0\n",
    "    for t in range(nb_tasks):\n",
    "        \n",
    "        ni += sum(n_t[t])\n",
    "        for l in range(nb_classes):\n",
    "            for i in range(n_t[t][l]):\n",
    "                # on prend la transposée pour pouvoir travailler avec les colonnes\n",
    "                score = compute_score(V, X_test[t][l].T[i], m_t[task_target])\n",
    "                if (score == 1 and l == 1):\n",
    "                    error +=1\n",
    "                elif (score == -1 and l == 0):\n",
    "                    error +=1\n",
    "        \n",
    "    erreur_emp = error/ni\n",
    "\n",
    "    if erreur_emp > 0.5:\n",
    "        erreur_emp=1-erreur_emp\n",
    "    emp_rate.append(erreur_emp)\n",
    "    return np.mean(emp_rate)"
   ]
  },
  {
   "cell_type": "code",
   "execution_count": 23,
   "metadata": {},
   "outputs": [],
   "source": [
    "def debug_histogram(V, X_test, n_t):\n",
    "    \"\"\"\n",
    "    Trace l'histogramme de V^T*x_1 et V^T*x_2.\n",
    "    \"\"\"\n",
    "#     print(X1[0][0])\n",
    "#     print(n_t[0][0])\n",
    "    alpha = 0.5\n",
    "    bins = 20\n",
    "    plt.hist(V.T.dot(X_test.T[:n_t[0][0]].T), bins = bins, alpha=alpha, label=r\"$C_1$\")\n",
    "    plt.hist(V.T.dot(X_test.T[n_t[0][0]:].T), bins = bins, alpha=alpha, label=r\"$C_2$\")\n",
    "    plt.title(r\"Histogramme des données de tests projetées sur $V$ : $V^Tx_j$\")\n",
    "    plt.legend()\n",
    "    plt.show()"
   ]
  },
  {
   "cell_type": "markdown",
   "metadata": {},
   "source": [
    "# 2-class Gaussian mixture transfer (c.f. Figure 2)"
   ]
  },
  {
   "cell_type": "code",
   "execution_count": 24,
   "metadata": {},
   "outputs": [],
   "source": [
    "from time import time\n",
    "plt.style.use('seaborn-dark-palette')"
   ]
  },
  {
   "cell_type": "code",
   "execution_count": 43,
   "metadata": {
    "scrolled": true
   },
   "outputs": [
    {
     "name": "stdout",
     "output_type": "stream",
     "text": [
      "MM : \n",
      "\n",
      " 0.951924  -0.969539   0.214006  -0.043605  \n",
      "-0.969539    1.00123  -0.219806   0.071711  \n",
      " 0.214006  -0.219806    0.82425   -1.02779  \n",
      "-0.043605   0.071711   -1.02779   0.842539  \n",
      "c : \n",
      "[0.47619048 0.47619048 0.02380952 0.02380952]\n"
     ]
    },
    {
     "data": {
      "image/png": "[encoded data removed]",
      "text/plain": [
       "<Figure size 432x288 with 1 Axes>"
      ]
     },
     "metadata": {
      "needs_background": "light"
     },
     "output_type": "display_data"
    },
    {
     "name": "stdout",
     "output_type": "stream",
     "text": [
      "   4.75962    -4.8477   0.239266  -0.0487519  \n",
      "   -4.8477    5.00614  -0.245751   0.0801754  \n",
      "  0.239266  -0.245751   0.206062   -0.256947  \n",
      "-0.0487519  0.0801754  -0.256947    0.210635  \n",
      "MM True = \n",
      "[[ 1. -1.  0.  0.]\n",
      " [-1.  1.  0.  0.]\n",
      " [ 0.  0.  1. -1.]\n",
      " [ 0.  0. -1.  1.]]\n",
      " 5  -5      0      0  \n",
      "-5   5      0      0  \n",
      " 0   0   0.25  -0.25  \n",
      " 0   0  -0.25   0.25  \n",
      "c0 :  0.047619047619047616\n",
      "y = \n",
      "0.00885528  \n",
      " -0.285474  \n",
      "   19.6689  \n",
      "  -20.3765  \n",
      "y true = \n",
      "  0  \n",
      "  0  \n",
      " 21  \n",
      "-21  \n",
      "arg q-func : \n",
      "[[0.5]]\n",
      "[0.265] [0.23975006109347674]\n",
      "MM : \n",
      "\n",
      " 0.951924  -0.969539   0.700236  -0.529835  \n",
      "-0.969539    1.00123  -0.721983   0.573888  \n",
      " 0.700236  -0.721983    1.10445   -1.19555  \n",
      "-0.529835   0.573888   -1.19555   0.897859  \n",
      "c : \n",
      "[0.47619048 0.47619048 0.02380952 0.02380952]\n"
     ]
    },
    {
     "data": {
      "image/png": "[encoded data removed]",
      "text/plain": [
       "<Figure size 432x288 with 1 Axes>"
      ]
     },
     "metadata": {
      "needs_background": "light"
     },
     "output_type": "display_data"
    },
    {
     "name": "stdout",
     "output_type": "stream",
     "text": [
      "  4.75962    -4.8477   0.782887  -0.592374  \n",
      "  -4.8477    5.00614  -0.807201   0.641626  \n",
      " 0.782887  -0.807201   0.276113  -0.298887  \n",
      "-0.592374   0.641626  -0.298887   0.224465  \n",
      "MM True = \n",
      "[[ 1.  -1.   0.5 -0.5]\n",
      " [-1.   1.  -0.5  0.5]\n",
      " [ 0.5 -0.5  1.  -1. ]\n",
      " [-0.5  0.5 -1.   1. ]]\n",
      "        5         -5   0.559017  -0.559017  \n",
      "       -5          5  -0.559017   0.559017  \n",
      " 0.559017  -0.559017       0.25      -0.25  \n",
      "-0.559017   0.559017      -0.25       0.25  \n",
      "c0 :  0.047619047619047616\n",
      "y = \n",
      " 0.552079  \n",
      "-0.960878  \n",
      "  17.4951  \n",
      " -17.2983  \n",
      "y true = \n",
      " 0.567568  \n",
      "-0.567568  \n",
      "  18.1622  \n",
      " -18.1622  \n",
      "arg q-func : \n",
      "[[0.56756757]]\n",
      "[0.265, 0.257] [0.23975006109347674, 0.2256135612113705]\n",
      "MM : \n",
      "\n",
      " 0.951924  -0.969539    1.1805   -1.0101  \n",
      "-0.969539    1.00123   -1.2486    1.1005  \n",
      "   1.1805    -1.2486   1.61005  -1.44502  \n",
      "  -1.0101     1.1005  -1.44502  0.891199  \n",
      "c : \n",
      "[0.47619048 0.47619048 0.02380952 0.02380952]\n"
     ]
    },
    {
     "data": {
      "image/png": "[encoded data removed]",
      "text/plain": [
       "<Figure size 432x288 with 1 Axes>"
      ]
     },
     "metadata": {
      "needs_background": "light"
     },
     "output_type": "display_data"
    },
    {
     "name": "stdout",
     "output_type": "stream",
     "text": [
      " 4.75962   -4.8477    1.31984   -1.12933  \n",
      " -4.8477   5.00614   -1.39597     1.2304  \n",
      " 1.31984  -1.39597   0.402512  -0.361254  \n",
      "-1.12933    1.2304  -0.361254     0.2228  \n",
      "MM True = \n",
      "[[ 1. -1.  1. -1.]\n",
      " [-1.  1. -1.  1.]\n",
      " [ 1. -1.  1. -1.]\n",
      " [-1.  1. -1.  1.]]\n",
      "       5        -5   1.11803  -1.11803  \n",
      "      -5         5  -1.11803   1.11803  \n",
      " 1.11803  -1.11803      0.25     -0.25  \n",
      "-1.11803   1.11803     -0.25      0.25  \n",
      "c0 :  0.047619047619047616\n",
      "y = \n",
      " 1.17387  \n",
      "-3.14005  \n",
      " 6.76583  \n",
      " 1.55053  \n",
      "y true = \n",
      " 1.90909  \n",
      "-1.90909  \n",
      " 1.90909  \n",
      "-1.90909  \n",
      "arg q-func : \n",
      "[[0.95454545]]\n",
      "[0.265, 0.257, 0.172] [0.23975006109347674, 0.2256135612113705, 0.16428249171959852]\n",
      "Erreur relative moyenne pour n=2100 et p=100, moyennée sur 10 simulations\n",
      "0.09713691323917724\n",
      "Temps moyen pour (resp.) le calcul des produits scalaires entre moyennes empiriques, l'estimation de M cursive, c et les labels optimaux y, et l'inférence : 0.0024449825286865234, 0.29494738578796387, 0.028435627619425457\n",
      "Temps total moyen : 0.326 s\n"
     ]
    }
   ],
   "source": [
    "# %%prun -s cumulative\n",
    "# profiling\n",
    "%matplotlib inline\n",
    "p = 100\n",
    "m = 2\n",
    "t = 2\n",
    "beta = np.linspace(0,1,3)\n",
    "n_t = [[1000, 1000], [50, 50]]\n",
    "n = sum(list(map(sum, (n_t[i] for i in range(t)))))\n",
    "n_t_test = [[500, 500]]\n",
    "nt = sum(n_t_test[0])\n",
    "# la liste temps comprendra le temps pour le training, le calcul de M et y et le temps d'inférence\n",
    "emp_rate, th_rate, var, relative_error_rate = [], [], [], []\n",
    "\n",
    "temps_MM = []\n",
    "temps_estim = []\n",
    "temps_inference = []\n",
    "random_state = 100\n",
    "R1, R2 = [], []\n",
    "for b in beta:\n",
    "    # on crée les données synthétiques\n",
    "    M = mean_matrix(p, b, t, random_seed=random_state)\n",
    "    \n",
    "    X, y_bs = gaussian_synthetic_data(n, p, m, t, n_t, M, random_state)\n",
    "    X_test, y_test = gaussian_synthetic_data(nt, p, m, 1, n_t_test, [M[1]], random_state)\n",
    "#     M1 = empirical_mean_old(2, 2, X, p, n_t)[0]\n",
    "#     MM_test = M1.T@M1\n",
    "#     matprint(MM)\n",
    "    \n",
    "    #     X = normalisation(X, p, True)\n",
    "    X_test = normalisation(X_test, p, False)\n",
    "    # pas besoin de z-normalisataion puisque la moyenne des données est nulle et l'écart type est 1\n",
    "    # on divise seulement par sqrt(p) parce que c'est cool \n",
    "\n",
    "# DEBUG\n",
    "    #MM1, diag1 = empirical_mean_old(1, m, X, p, [n_t[0]])\n",
    "    # On calcule les moyennes empiriques\n",
    "    \n",
    "    t0 = time()\n",
    "    MM = empirical_mean(t, m, X, p, n_t)\n",
    "    print(\"MM : \\n\")\n",
    "    temps_MM.append(time() - t0)\n",
    "    matprint(MM)\n",
    "    # On time le calcul de MTM\n",
    "    \n",
    "#     r1, r2 = bayes_optimal(n_t, MM_test, p)\n",
    "#     R1.append((r1+r2)/2)\n",
    "#     R2.append(r2)\n",
    "\n",
    "    t0 = time()\n",
    "    c = estimate_c(n_t, n, t, m)\n",
    "    print(\"c : \")\n",
    "    print(c)\n",
    "    c0 = p/n\n",
    "    Dc = np.diag(c)\n",
    "    correlation_matrix = compute_M_cal(n, p, Dc, MM, display=True)\n",
    "    matprint(correlation_matrix)\n",
    "    y = label_evaluation(t,m,Dc,MM, c0)\n",
    "    temps_estim.append(time() - t0)\n",
    "    # On time l'estimation de y, M, et c\n",
    "    \n",
    "    M_true = true_mean(M, p, t, m)\n",
    "    MM_true = M_true.T@M_true\n",
    "    print(\"MM True = \")\n",
    "    print(MM_true)\n",
    "    correlation_matrix_true = compute_M_cal(n, p, Dc, MM_true, display=False)\n",
    "    matprint(correlation_matrix_true)\n",
    "    print(\"c0 : \", c0)\n",
    "    y_true = label_evaluation(t,m,Dc,MM_true, c0)\n",
    "    print(\"y = \")\n",
    "    matprint(y)\n",
    "    print(\"y true = \")\n",
    "    matprint(y_true)\n",
    "    \n",
    "    X_train_aggregated = aggregate_array(X, p, n, t, m)\n",
    "    X_test_aggregated = aggregate_array(X_test, p, nt, 1, m)\n",
    "    \n",
    "    \n",
    "    t0 = time()\n",
    "    J = create_J(m, t, n, n_t)\n",
    "    V = compute_V(y, X_train_aggregated, J, n)\n",
    "    \n",
    "#     debug_histogram(V_true, X_test_aggregated, n_t_test)\n",
    "#     print(\"V = \")\n",
    "    # pour l'instant pas vraiment utilisé\n",
    "    m_t = create_mt(t, m, y, Dc, correlation_matrix)\n",
    "    erreur_empirique = compute_error_rate(X_test, V, m_t, 1, m, n_t_test, Dc, c0)\n",
    "    temps_inference.append(time() - t0)\n",
    "    \n",
    "    V_true = compute_V(y_true, X_train_aggregated, J, n)\n",
    "    VTX = V.T@X_test_aggregated\n",
    "    var.append(np.var(VTX))\n",
    "    m_t_true = create_mt(t, m, y_true, Dc, correlation_matrix_true)\n",
    "    erreur_theorique = error_rate(t, m,  Dc, MM_true, c0)[0][0]\n",
    "    emp_rate.append(erreur_empirique)\n",
    "    th_rate.append(erreur_theorique)\n",
    "    relative_error_rate.append(abs(erreur_empirique - erreur_theorique)/erreur_theorique)\n",
    "    \n",
    "    print(emp_rate, th_rate)\n",
    "    \n",
    "erreur_relative_moy = np.mean(relative_error_rate)\n",
    "print(f\"Erreur relative moyenne pour n={n} et p={p}, moyennée sur 10 simulations\")\n",
    "print(erreur_relative_moy)\n",
    "\n",
    "print(f\"Temps moyen pour (resp.) le calcul des produits scalaires entre moyennes empiriques, l'estimation de M cursive, c et les labels optimaux y, et l'inférence : {np.mean(temps_MM)}, {np.mean(temps_estim)}, {np.mean(temps_inference)}\")\n",
    "\n",
    "print(f\"Temps total moyen : {round(np.mean(temps_MM)+np.mean(temps_estim)+np.mean(temps_inference), 3)} s\")\n",
    "%matplotlib qt\n",
    "lower = np.array(emp_rate) - np.array(var)\n",
    "upper = np.array(emp_rate) + np.array(var)\n",
    "plt.plot(beta, emp_rate, '-o', label='empirical rate')\n",
    "plt.plot(beta, th_rate, '-v', label='theoritical rate')\n",
    "# plt.plot(beta, R1, '-^', label='optimal rate')\n",
    "plt.fill_between(beta, lower, upper, alpha=0.2, label=\"variance\")\n",
    "plt.legend()\n",
    "plt.title(\"2-class Gaussian mixture transfer error rate for n={n} and p={p}\")\n",
    "plt.xlabel(\"Task relatedness (beta)\")\n",
    "plt.ylabel(\"error rate\")\n",
    "plt.grid()\n",
    "plt.show()"
   ]
  },
  {
   "cell_type": "code",
   "execution_count": 35,
   "metadata": {},
   "outputs": [
    {
     "name": "stdout",
     "output_type": "stream",
     "text": [
      "(0.0, 0.2455)(0.1111111111111111, 0.238)(0.2222222222222222, 0.23299999999999998)(0.3333333333333333, 0.22650000000000003)(0.4444444444444444, 0.22050000000000003)(0.5555555555555556, 0.21299999999999997)(0.6666666666666666, 0.203)(0.7777777777777777, 0.1895)(0.8888888888888888, 0.1695)(1.0, 0.1425)"
     ]
    }
   ],
   "source": [
    "# for latex plot\n",
    "for i,j in enumerate(beta):\n",
    "    print(f\"({j}, {emp_rate[i]})\", end=\"\")"
   ]
  },
  {
   "cell_type": "code",
   "execution_count": 47,
   "metadata": {},
   "outputs": [],
   "source": [
    "from datetime import datetime\n",
    "now = datetime.now()\n",
    "date = now.strftime(\"%Y-%m-%d %H:%M:%S\")\n",
    "with open(\"log.txt\", \"a\") as log:\n",
    "    log.write(f\"Courbe pour added tasks (D) tracé le {date}\\n\\nEmpirique:\\n\\n\")\n",
    "    for i,j in enumerate(t):\n",
    "        log.write(f\"({j}, {emp_rate[i]})\")\n",
    "    log.write(\"\\n\\nThéorique:\\n\\n\")\n",
    "    for i,j in enumerate(t): \n",
    "        log.write(f\"({j}, {th_rate[i]})\")\n",
    "        \n",
    "#     for i,j in enumerate(t): \n",
    "#         log.write(f\"({j}, {data_sent[i]})\")\n",
    "#     for i,j in enumerate(t): \n",
    "#         log.write(f\"({j}, {data_sent_nd[i]})\")\n",
    "    log.write(\"\\n-----------------\\n\")"
   ]
  },
  {
   "cell_type": "code",
   "execution_count": 70,
   "metadata": {},
   "outputs": [
    {
     "name": "stdout",
     "output_type": "stream",
     "text": [
      "1600\n",
      "c0 :  0.0625\n",
      "[0.25  0.25  0.125 0.125 0.125 0.125]\n",
      "y true = \n",
      " 1.88235  \n",
      "-1.88235  \n",
      " 1.88235  \n",
      "-1.88235  \n",
      " 1.88235  \n",
      "-1.88235  \n"
     ]
    }
   ],
   "source": [
    "n = sum(list(map(sum, (n_t[i] for i in range(t)))))\n",
    "print(n)\n",
    "print(\"c0 : \", c0)\n",
    "print(c)\n",
    "print(\"y true = \")\n",
    "matprint(y_true)"
   ]
  },
  {
   "cell_type": "markdown",
   "metadata": {},
   "source": [
    "Results when doubling n and p proportionately: \n",
    "[0.244, 0.2395, 0.23624999999999996, 0.23624999999999996, 0.22999999999999998, 0.2195, 0.21050000000000002, 0.195, 0.17700000000000005, 0.15674999999999994] \n",
    "[0.23975006109347674, 0.23910189492427802, 0.23712834068265354, 0.23373859215337528, 0.2287682743173643, 0.22195637062121154, 0.2129043075952785, 0.20100393554334806, 0.18530737544421827, 0.16428249171959852]"
   ]
  },
  {
   "cell_type": "code",
   "execution_count": 39,
   "metadata": {},
   "outputs": [
    {
     "name": "stdout",
     "output_type": "stream",
     "text": [
      "Erreur relative moyenne pour n=4200 et p=200, moyennée sur 10 simulations et 2000 données de test : 0.083\n",
      "En doublant n et p proportionnellement, l'erreur relative moyenne est divisé par un facteur 1.5452753606960041\n",
      "Temps moyen pour (resp.) le calcul des produits scalaires entre moyennes empiriques, l'estimation de M cursive, c et les labels optimaux y, et l'inférence : 0.00621 s, 0.25451 s, 0.0839 s.\n",
      "Le temps total moyen est ainsi de 0.26072 s\n"
     ]
    }
   ],
   "source": [
    "erreur_relative_prec = 0.054\n",
    "erreur_relative_moy = np.mean(relative_error_rate)\n",
    "print(f\"Erreur relative moyenne pour n={n} et p={p}, moyennée sur 10 simulations et {nt} données de test : {round(erreur_relative_moy, 3)}\")\n",
    "\n",
    "print(f\"En doublant n et p proportionnellement, l'erreur relative moyenne est divisé par un facteur {(1/(erreur_relative_prec/erreur_relative_moy))}\")\n",
    "\n",
    "\n",
    "print(f\"Temps moyen pour (resp.) le calcul des produits scalaires entre moyennes empiriques, l'estimation de M cursive, c et les labels optimaux y, et l'inférence : {round(np.mean(temps_MM), 5)} s, {round(np.mean(temps_estim), 5)} s, {round(np.mean(temps_inference), 5)} s.\\nLe temps total moyen est ainsi de {round(np.mean(temps_estim) + np.mean(temps_MM) , 5)} s\")\n",
    "\n",
    "lower = np.array(emp_rate) - np.array(var)\n",
    "upper = np.array(emp_rate) + np.array(var)\n",
    "plt.plot(beta, emp_rate, '-o', label='empirical rate')\n",
    "plt.plot(beta, th_rate, '-v', label='theoritical rate')\n",
    "plt.fill_between(beta, lower, upper, alpha=0.2, label=\"variance\")\n",
    "# plt.plot(beta, R1, '-^', label='optimal rate')\n",
    "plt.legend()\n",
    "plt.title(f\"2-class Gaussian mixture transfer error rate for n={n} and p={p}\")\n",
    "plt.xlabel(\"Task relatedness (beta)\")\n",
    "plt.ylabel(\"error rate\")\n",
    "plt.grid()\n",
    "plt.show()"
   ]
  },
  {
   "cell_type": "code",
   "execution_count": 133,
   "metadata": {},
   "outputs": [],
   "source": [
    "%matplotlib qt\n",
    "debug_histogram(V, X_test_aggregated.T, n_t_test)"
   ]
  },
  {
   "cell_type": "markdown",
   "metadata": {},
   "source": [
    "# Adding tasks"
   ]
  },
  {
   "cell_type": "code",
   "execution_count": 82,
   "metadata": {},
   "outputs": [
    {
     "name": "stdout",
     "output_type": "stream",
     "text": [
      "beta = 0.0207519493594015\n",
      "Verif beta = [0.02075195], [-0.02075195]\n",
      "beta = 0.771320643266746\n",
      "Generating synth data with M[0]\n",
      "beta = 0.0207519493594015\n",
      "Generating synth data with M[1]\n",
      "class 0 empirical mean = 0.18668115769371862\n",
      "class 1 empirical mean = 0.016693745436614504\n",
      "class 2 empirical mean = 0.12264839400873334\n",
      "class 3 empirical mean = 0.09889789303518748\n",
      " 0.943643  -0.996341    1.08274  -0.283321  \n",
      "-0.996341    1.01277  -0.650684   0.701029  \n",
      "  1.08274  -0.650684    1.26552   -1.20698  \n",
      "-0.283321   0.701029   -1.20698    1.18487  \n"
     ]
    },
    {
     "data": {
      "image/png": "[encoded data removed]",
      "text/plain": [
       "<Figure size 432x288 with 1 Axes>"
      ]
     },
     "metadata": {
      "needs_background": "light"
     },
     "output_type": "display_data"
    },
    {
     "name": "stdout",
     "output_type": "stream",
     "text": [
      "y = \n",
      " 1.68793  \n",
      "0.219731  \n",
      " 2.35306  \n",
      "-5.47272  \n",
      "y true = \n",
      " 0.623985  \n",
      "-0.623985  \n",
      "  3.70423  \n",
      " -3.70423  \n"
     ]
    },
    {
     "data": {
      "image/png": "[encoded data removed]",
      "text/plain": [
       "<Figure size 432x288 with 1 Axes>"
      ]
     },
     "metadata": {
      "needs_background": "light"
     },
     "output_type": "display_data"
    },
    {
     "name": "stdout",
     "output_type": "stream",
     "text": [
      "arg q-func : \n",
      "[[0.75305101]]\n",
      "beta = 0.6336482349262754\n",
      "Generating synth data with M[2]\n",
      "beta = 0.7488038825386119\n",
      "Generating synth data with M[3]\n",
      "class 0 empirical mean = 0.24536835335278756\n",
      "class 1 empirical mean = 0.07378509755237297\n",
      "class 2 empirical mean = 0.21504202943688466\n",
      "class 3 empirical mean = 0.1950934171893693\n",
      "class 4 empirical mean = 0.24578899659195208\n",
      "class 5 empirical mean = 0.0733644543132084\n",
      "class 6 empirical mean = 0.21476659887712243\n",
      "class 7 empirical mean = 0.19536884774913144\n",
      " 0.943643  -0.996341    1.08274  -0.283321    1.39254  -0.975743    1.43994  -0.640521  \n",
      "-0.996341    1.01277  -0.650684   0.701029  -0.970635     1.4438   -1.02922    1.07956  \n",
      "  1.08274  -0.650684    1.26552   -1.20698    1.22775  -0.795687    1.65152  -0.853837  \n",
      "-0.283321   0.701029   -1.20698    1.18487  -0.431748   0.849456  -0.833604    1.58105  \n",
      "  1.39254  -0.970635    1.22775  -0.431748   0.940217  -0.987808    1.43849  -0.642489  \n",
      "-0.975743     1.4438  -0.795687   0.849456  -0.987808   0.999131   -1.02776    1.08153  \n",
      "  1.43994   -1.02922    1.65152  -0.833604    1.43849   -1.02776    1.20285   -1.12408  \n",
      "-0.640521    1.07956  -0.853837    1.58105  -0.642489    1.08153   -1.12408    1.08173  \n"
     ]
    },
    {
     "data": {
      "image/png": "[encoded data removed]",
      "text/plain": [
       "<Figure size 432x288 with 1 Axes>"
      ]
     },
     "metadata": {
      "needs_background": "light"
     },
     "output_type": "display_data"
    },
    {
     "name": "stdout",
     "output_type": "stream",
     "text": [
      "y = \n",
      " 8.52493  \n",
      "-10.3465  \n",
      " 9.84425  \n",
      "-7.59735  \n",
      "-8.80828  \n",
      " 10.8874  \n",
      " 2.16607  \n",
      "-4.23805  \n",
      "y true = \n",
      "-0.00783338  \n",
      " 0.00783338  \n",
      "    6.56235  \n",
      "   -6.56235  \n",
      "    1.66832  \n",
      "   -1.66832  \n",
      "   0.292416  \n",
      "  -0.292416  \n"
     ]
    },
    {
     "data": {
      "image/png": "[encoded data removed]",
      "text/plain": [
       "<Figure size 432x288 with 1 Axes>"
      ]
     },
     "metadata": {
      "needs_background": "light"
     },
     "output_type": "display_data"
    },
    {
     "name": "stdout",
     "output_type": "stream",
     "text": [
      "arg q-func : \n",
      "[[0.78125492]]\n",
      "beta = 0.4985070123025904\n",
      "Generating synth data with M[4]\n",
      "beta = 0.22479664553084766\n",
      "Generating synth data with M[5]\n",
      "class 0 empirical mean = 0.26493075190581056\n",
      "class 1 empirical mean = 0.09281554825762584\n",
      "class 2 empirical mean = 0.24583990791293522\n",
      "class 3 empirical mean = 0.22715859190742985\n",
      "class 4 empirical mean = 0.2653513951449751\n",
      "class 5 empirical mean = 0.09239490501846126\n",
      "class 6 empirical mean = 0.2455644773531729\n",
      "class 7 empirical mean = 0.227434022467192\n",
      "class 8 empirical mean = 0.26555662615687076\n",
      "class 9 empirical mean = 0.09218967400656568\n",
      "class 10 empirical mean = 0.24610928203191254\n",
      "class 11 empirical mean = 0.2268892177884524\n"
     ]
    },
    {
     "data": {
      "image/png": "[encoded data removed]",
      "text/plain": [
       "<Figure size 432x288 with 1 Axes>"
      ]
     },
     "metadata": {
      "needs_background": "light"
     },
     "output_type": "display_data"
    },
    {
     "name": "stdout",
     "output_type": "stream",
     "text": [
      "y = \n",
      " 16.2117  \n",
      "-23.7149  \n",
      "-60.4566  \n",
      " 148.487  \n",
      "-4.33335  \n",
      " 1.45364  \n",
      " -28.201  \n",
      " 66.0099  \n",
      "-21.6185  \n",
      " 22.6287  \n",
      " 116.936  \n",
      "-224.166  \n",
      "y true = \n",
      "-0.894913  \n",
      " 0.894913  \n",
      "  6.45027  \n",
      " -6.45027  \n",
      " 0.917062  \n",
      "-0.917062  \n",
      "  -0.5728  \n",
      "   0.5728  \n",
      "  2.42303  \n",
      " -2.42303  \n",
      "  4.93703  \n",
      " -4.93703  \n"
     ]
    },
    {
     "data": {
      "image/png": "[encoded data removed]",
      "text/plain": [
       "<Figure size 432x288 with 1 Axes>"
      ]
     },
     "metadata": {
      "needs_background": "light"
     },
     "output_type": "display_data"
    },
    {
     "name": "stdout",
     "output_type": "stream",
     "text": [
      "arg q-func : \n",
      "[[0.85666057]]\n",
      "beta = 0.19806286475962398\n",
      "Generating synth data with M[6]\n",
      "beta = 0.7605307121989587\n",
      "Generating synth data with M[7]\n",
      "class 0 empirical mean = 0.274711951182322\n",
      "class 1 empirical mean = 0.10233077361025228\n",
      "class 2 empirical mean = 0.26123884715096046\n",
      "class 3 empirical mean = 0.24319117926646017\n",
      "class 4 empirical mean = 0.27513259442148663\n",
      "class 5 empirical mean = 0.10191013037108768\n",
      "class 6 empirical mean = 0.2609634165911982\n",
      "class 7 empirical mean = 0.2434666098262223\n",
      "class 8 empirical mean = 0.27533782543338226\n",
      "class 9 empirical mean = 0.10170489935919202\n",
      "class 10 empirical mean = 0.26150822126993784\n",
      "class 11 empirical mean = 0.24292180514748268\n",
      "class 12 empirical mean = 0.2753222138875146\n",
      "class 13 empirical mean = 0.10172051090505975\n",
      "class 14 empirical mean = 0.2609185281085201\n",
      "class 15 empirical mean = 0.24351149830890048\n"
     ]
    },
    {
     "data": {
      "image/png": "[encoded data removed]",
      "text/plain": [
       "<Figure size 432x288 with 1 Axes>"
      ]
     },
     "metadata": {
      "needs_background": "light"
     },
     "output_type": "display_data"
    },
    {
     "name": "stdout",
     "output_type": "stream",
     "text": [
      "y = \n",
      " 46.5874  \n",
      " -59.447  \n",
      "-47.1406  \n",
      " 123.737  \n",
      " 16.0139  \n",
      "-21.9933  \n",
      "-46.5574  \n",
      " 98.5872  \n",
      "-10.3416  \n",
      " 10.2933  \n",
      "  176.78  \n",
      "-347.935  \n",
      "-60.6284  \n",
      " 71.8967  \n",
      "-52.8701  \n",
      " 111.208  \n",
      "y true = \n",
      " -1.04109  \n",
      "  1.04109  \n",
      "  5.89753  \n",
      " -5.89753  \n",
      " 0.656921  \n",
      "-0.656921  \n",
      "  -0.7398  \n",
      "   0.7398  \n",
      "  2.07414  \n",
      " -2.07414  \n",
      "  4.45383  \n",
      " -4.45383  \n",
      "  4.65781  \n",
      " -4.65781  \n",
      "-0.895321  \n",
      " 0.895321  \n"
     ]
    },
    {
     "data": {
      "image/png": "[encoded data removed]",
      "text/plain": [
       "<Figure size 432x288 with 1 Axes>"
      ]
     },
     "metadata": {
      "needs_background": "light"
     },
     "output_type": "display_data"
    },
    {
     "name": "stdout",
     "output_type": "stream",
     "text": [
      "arg q-func : \n",
      "[[0.90170779]]\n",
      "beta = 0.16911083656253545\n",
      "Generating synth data with M[8]\n",
      "beta = 0.08833981417401027\n",
      "Generating synth data with M[9]\n",
      "class 0 empirical mean = 0.2805806707482289\n",
      "class 1 empirical mean = 0.10803990882182812\n",
      "class 2 empirical mean = 0.2704782106937756\n",
      "class 3 empirical mean = 0.25281073168187834\n",
      "class 4 empirical mean = 0.2810013139873936\n",
      "class 5 empirical mean = 0.10761926558266355\n",
      "class 6 empirical mean = 0.27020278013401333\n",
      "class 7 empirical mean = 0.25308616224164054\n",
      "class 8 empirical mean = 0.28120654499928915\n",
      "class 9 empirical mean = 0.10741403457076788\n",
      "class 10 empirical mean = 0.270747584812753\n",
      "class 11 empirical mean = 0.25254135756290086\n",
      "class 12 empirical mean = 0.28119093345342155\n",
      "class 13 empirical mean = 0.10742964611663557\n",
      "class 14 empirical mean = 0.2701578916513353\n",
      "class 15 empirical mean = 0.25313105072431863\n",
      "class 16 empirical mean = 0.2811617774204993\n",
      "class 17 empirical mean = 0.10745880214955775\n",
      "class 18 empirical mean = 0.27059108369387025\n",
      "class 19 empirical mean = 0.2526978586817837\n"
     ]
    },
    {
     "data": {
      "image/png": "[encoded data removed]",
      "text/plain": [
       "<Figure size 432x288 with 1 Axes>"
      ]
     },
     "metadata": {
      "needs_background": "light"
     },
     "output_type": "display_data"
    },
    {
     "name": "stdout",
     "output_type": "stream",
     "text": [
      "y = \n",
      " 54.5716  \n",
      "-69.5144  \n",
      "-155.986  \n",
      " 348.026  \n",
      " 26.6455  \n",
      "-35.3037  \n",
      "-64.9985  \n",
      " 136.133  \n",
      " 2.21422  \n",
      "-5.37444  \n",
      " 143.157  \n",
      "-280.036  \n",
      "-45.3266  \n",
      "  52.865  \n",
      " -70.729  \n",
      "  147.59  \n",
      "-49.5109  \n",
      " 57.9909  \n",
      " 187.578  \n",
      "-368.848  \n",
      "y true = \n",
      " -1.12318  \n",
      "  1.12318  \n",
      "  4.78853  \n",
      " -4.78853  \n",
      "  0.30703  \n",
      " -0.30703  \n",
      "-0.870095  \n",
      " 0.870095  \n",
      "  1.50799  \n",
      " -1.50799  \n",
      "  3.54133  \n",
      " -3.54133  \n",
      "  3.71679  \n",
      " -3.71679  \n",
      " -1.00077  \n",
      "  1.00077  \n",
      "  3.90262  \n",
      " -3.90262  \n",
      "  4.39852  \n",
      " -4.39852  \n"
     ]
    },
    {
     "data": {
      "image/png": "[encoded data removed]",
      "text/plain": [
       "<Figure size 432x288 with 1 Axes>"
      ]
     },
     "metadata": {
      "needs_background": "light"
     },
     "output_type": "display_data"
    },
    {
     "name": "stdout",
     "output_type": "stream",
     "text": [
      "arg q-func : \n",
      "[[0.93615288]]\n",
      "Temps moyen pour (resp.) le calcul des produits scalaires entre moyennes empiriques, l'estimation de M cursive, c et les labels optimaux y, et l'inférence : 0.5656788349151611, 0.002288818359375, 1.10422682762146\n"
     ]
    }
   ],
   "source": [
    "###### %%prun -s cumulative\n",
    "# profiling\n",
    "%matplotlib inline\n",
    "p = 200\n",
    "m = 2\n",
    "# on ajoute des tâches 2 par 2\n",
    "nb_tasks = 6\n",
    "t = list(range(2,2*nb_tasks, 2))\n",
    "to_add = [500, 500], [250, 250]\n",
    "n_t = []\n",
    "n_t_test = [[1000, 1000]]\n",
    "nt = sum(n_t_test[0])\n",
    "# la liste temps comprendra le temps pour le training, le calcul de M et y et le temps d'inférence\n",
    "emp_rate, th_rate, var, relative_error_rate = [], [], [], []\n",
    "\n",
    "# temps\n",
    "temps_MM = 0\n",
    "temps_estim = 0\n",
    "temps_inference = 0\n",
    "t_total_nd = []\n",
    "random_state = 10\n",
    "\n",
    "# données envoyées\n",
    "data_sent_nd = []\n",
    "task_target = 1\n",
    "\n",
    "np.random.seed(random_state)\n",
    "betat = np.random.uniform(size=(len(2*t)))\n",
    "beta = 0\n",
    "X = []\n",
    "X_test = []\n",
    "M = []\n",
    "# on choisit des données de test\n",
    "print(f\"beta = {betat[task_target]}\")\n",
    "mean = mean_matrix(p, beta=betat[task_target], k=1, random_seed=random_state, random=True)\n",
    "M.append(mean[0])\n",
    "print(f\"Verif beta = {M[-1][0][0]}, {M[-1][1][0]}\")\n",
    "synth = gaussian_synthetic_data(nt, p, m, 1, n_t_test, [M[-1]], random_state)[0]\n",
    "X_test.append(synth[0][:])\n",
    "# X_test, y_test = gaussian_synthetic_data(nt, p, m, 1, n_t_test, [M[task_target]], random_state)\n",
    "X_test = normalisation(X_test, p)\n",
    "M = []\n",
    "n=0\n",
    "for b in (t):\n",
    "    n_t.append(to_add[0])\n",
    "    n_t.append(to_add[1])\n",
    "    \n",
    "#     print(b)\n",
    "#     print(n_t)\n",
    "    n += sum(to_add[0])+sum(to_add[1])\n",
    "#     print(n)\n",
    "    # on crée les données synthétiques \n",
    "    for i in range(2):\n",
    "        print(f\"beta = {betat[beta]}\")\n",
    "        mean = mean_matrix(p, beta=betat[beta], k=1, random_seed=random_state, random=True)\n",
    "        M.append(mean[0])\n",
    "#         print(f\"Verif beta = {M[b][0][0]}, {M[b][0][1]}\")\n",
    "        print(f\"Generating synth data with M[{beta}]\")\n",
    "        # random state +1 pour pas avoir exactrement le meme jeu de données que le jeu de test lorque beta=1\n",
    "        synth = gaussian_synthetic_data(sum(to_add[i]), p, m, 1, [n_t[i]], [M[beta]], random_state+1)[0]\n",
    "        X.append(synth[0][:])\n",
    "        beta+=1\n",
    "\n",
    "# DEBUG\n",
    "    #MM1, diag1 = empirical_mean_old(1, m, X, p, [n_t[0]])\n",
    "    # On calcule les moyennes empiriques\n",
    "    \n",
    "    t0 = time()\n",
    "    MM = empirical_mean(b, m, X, p, n_t, True)\n",
    "    if b<6:\n",
    "        matprint(MM)\n",
    "    temps_MM = time() - t0\n",
    "    # On time le calcul de MTM\n",
    "\n",
    "    t0 = time()\n",
    "    c = estimate_c(n_t, n, b, m)\n",
    "    c0 = p/n\n",
    "    Dc = np.diag(c)\n",
    "    correlation_matrix = compute_M_cal(n, p, Dc, MM, display=False)\n",
    "    y = label_evaluation(b,m,Dc,MM, c0, task_target=task_target)\n",
    "    temps_estim = time() - t0\n",
    "    # On time l'estimation de y, M, et c\n",
    "    \n",
    "    M_true = true_mean(M, p, b, m)\n",
    "    MM_true = M_true.T@M_true\n",
    "    correlation_matrix_true = compute_M_cal(n, p, Dc, MM_true, display=True)\n",
    "    y_true = label_evaluation(b,m,Dc,MM_true, c0, task_target=task_target)\n",
    "    \n",
    "    print(\"y = \")\n",
    "    matprint(y)\n",
    "    print(\"y true = \")\n",
    "    matprint(y_true)\n",
    "    \n",
    "    X_train_aggregated = aggregate_array(X, p, n, b, m)\n",
    "    X_test_aggregated = aggregate_array(X_test, p, nt, 1, m)\n",
    "    \n",
    "    m_t_true = create_mt(b, m, y_true, Dc, correlation_matrix_true)\n",
    "    t0 = time()\n",
    "    J = create_J(m, b, n, n_t)\n",
    "    V = compute_V(y, X_train_aggregated, J, n)\n",
    "    V_true = compute_V(y_true, X_train_aggregated, J, n)\n",
    "    m_t = create_mt(b, m, y, Dc, correlation_matrix)\n",
    "    erreur_empirique = compute_error_rate(X_test, V, m_t, 1, m, n_t_test, Dc, c0)\n",
    "    temps_inference = time() - t0\n",
    "    # On time le temps d'inférence \n",
    "    \n",
    "    \n",
    "#     debug_histogram(V_true, X_test_aggregated, n_t_test)\n",
    "#     print(\"V = \")\n",
    "    VTX = V.T@X_test_aggregated\n",
    "    debug_histogram(V, X_test_aggregated, n_t_test)\n",
    "    var.append(np.var(VTX))\n",
    "    \n",
    "    erreur_theorique = error_rate(b, m,  Dc, MM_true, c0, task_target=task_target)[0][0]\n",
    "    emp_rate.append(erreur_empirique)\n",
    "    th_rate.append(erreur_theorique)\n",
    "    relative_error_rate.append(abs(erreur_empirique - erreur_theorique)/erreur_theorique)\n",
    "    \n",
    "    t_total_nd.append(temps_MM + temps_estim)\n",
    "    data_sent_nd.append(n)\n",
    "    \n",
    "# erreur_relative_moy = np.mean(relative_error_rate)\n",
    "# print(f\"Erreur relative moyenne pour n={n} et p={p}, moyennée sur 10 simulations\")\n",
    "# print(erreur_relative_moy)\n",
    "\n",
    "print(f\"Temps moyen pour (resp.) le calcul des produits scalaires entre moyennes empiriques, l'estimation de M cursive, c et les labels optimaux y, et l'inférence : {np.mean(temps_MM)}, {np.mean(temps_estim)}, {np.mean(temps_inference)}\")\n",
    "\n",
    "%matplotlib qt\n",
    "lower = np.array(emp_rate) - np.array(var)\n",
    "upper = np.array(emp_rate) + np.array(var)\n",
    "plt.plot(t, emp_rate, '-o', label='empirical rate')\n",
    "plt.plot(t, th_rate, '-o', label='theoritical rate')\n",
    "plt.fill_between(t, lower, upper, alpha=0.2, label=\"variance\")\n",
    "plt.legend()\n",
    "plt.title(\"2-class Gaussian mixture transfer error rate\")\n",
    "plt.xlabel(\"Added Task\")\n",
    "plt.ylabel(\"error rate\")\n",
    "plt.grid()\n",
    "plt.show()"
   ]
  },
  {
   "cell_type": "code",
   "execution_count": 71,
   "metadata": {
    "scrolled": true
   },
   "outputs": [
    {
     "name": "stdout",
     "output_type": "stream",
     "text": [
      "new task\n",
      "[0.77132064]\n",
      "[-0.77132064]\n",
      "new task\n",
      "[0.02075195]\n",
      "[-0.02075195]\n",
      "new task\n",
      "[0.63364823]\n",
      "[-0.63364823]\n",
      "new task\n",
      "[0.74880388]\n",
      "[-0.74880388]\n",
      "new task\n",
      "[0.49850701]\n",
      "[-0.49850701]\n",
      "new task\n",
      "[0.22479665]\n",
      "[-0.22479665]\n",
      "new task\n",
      "[0.19806286]\n",
      "[-0.19806286]\n",
      "new task\n",
      "[0.76053071]\n",
      "[-0.76053071]\n",
      "new task\n",
      "[0.16911084]\n",
      "[-0.16911084]\n",
      "new task\n",
      "[0.08833981]\n",
      "[-0.08833981]\n",
      "        1         -1   0.652316  -0.652316   0.981115  -0.981115   0.999399  -0.999399   0.936235  -0.936235   0.793548  -0.793548   0.776608  -0.776608   0.999859  -0.999859   0.757719  -0.757719   0.702097  -0.702097  \n",
      "       -1          1  -0.652316   0.652316  -0.981115   0.981115  -0.999399   0.999399  -0.936235   0.936235  -0.793548   0.793548  -0.776608   0.776608  -0.999859   0.999859  -0.757719   0.757719  -0.702097   0.702097  \n",
      " 0.652316  -0.652316          1         -1   0.786604  -0.786604   0.678188  -0.678188   0.877044  -0.877044   0.978861  -0.978861   0.984088  -0.984088   0.664945  -0.664945   0.988894  -0.988894   0.997709  -0.997709  \n",
      "-0.652316   0.652316         -1          1  -0.786604   0.786604  -0.678188   0.678188  -0.877044   0.877044  -0.978861   0.978861  -0.984088   0.984088  -0.664945   0.664945  -0.988894   0.988894  -0.997709   0.997709  \n",
      " 0.981115  -0.981115   0.786604  -0.786604          1         -1   0.987228  -0.987228   0.986519  -0.986519   0.896263  -0.896263   0.883798  -0.883798   0.984223  -0.984223   0.869636  -0.869636   0.826573  -0.826573  \n",
      "-0.981115   0.981115  -0.786604   0.786604         -1          1  -0.987228   0.987228  -0.986519   0.986519  -0.896263   0.896263  -0.883798   0.883798  -0.984223   0.984223  -0.869636   0.869636  -0.826573   0.826573  \n",
      " 0.999399  -0.999399   0.678188  -0.678188   0.987228  -0.987228          1         -1   0.947849  -0.947849   0.814157  -0.814157   0.797972  -0.797972    0.99984   -0.99984   0.779876  -0.779876    0.72635   -0.72635  \n",
      "-0.999399   0.999399  -0.678188   0.678188  -0.987228   0.987228         -1          1  -0.947849   0.947849  -0.814157   0.814157  -0.797972   0.797972   -0.99984    0.99984  -0.779876   0.779876   -0.72635    0.72635  \n",
      " 0.936235  -0.936235   0.877044  -0.877044   0.986519  -0.986519   0.947849  -0.947849          1         -1   0.956761  -0.956761   0.948448  -0.948448      0.942     -0.942   0.938703  -0.938703   0.907535  -0.907535  \n",
      "-0.936235   0.936235  -0.877044   0.877044  -0.986519   0.986519  -0.947849   0.947849         -1          1  -0.956761   0.956761  -0.948448   0.948448     -0.942      0.942  -0.938703   0.938703  -0.907535   0.907535  \n",
      " 0.793548  -0.793548   0.978861  -0.978861   0.896263  -0.896263   0.814157  -0.814157   0.956761  -0.956761          1         -1   0.999626  -0.999626   0.803648  -0.803648   0.998387  -0.998387   0.990455  -0.990455  \n",
      "-0.793548   0.793548  -0.978861   0.978861  -0.896263   0.896263  -0.814157   0.814157  -0.956761   0.956761         -1          1  -0.999626   0.999626  -0.803648   0.803648  -0.998387   0.998387  -0.990455   0.990455  \n",
      " 0.776608  -0.776608   0.984088  -0.984088   0.883798  -0.883798   0.797972  -0.797972   0.948448  -0.948448   0.999626  -0.999626          1         -1   0.787072  -0.787072   0.999566  -0.999566   0.993854  -0.993854  \n",
      "-0.776608   0.776608  -0.984088   0.984088  -0.883798   0.883798  -0.797972   0.797972  -0.948448   0.948448  -0.999626   0.999626         -1          1  -0.787072   0.787072  -0.999566   0.999566  -0.993854   0.993854  \n",
      " 0.999859  -0.999859   0.664945  -0.664945   0.984223  -0.984223    0.99984   -0.99984      0.942     -0.942   0.803648  -0.803648   0.787072  -0.787072          1         -1   0.768564  -0.768564   0.713949  -0.713949  \n",
      "-0.999859   0.999859  -0.664945   0.664945  -0.984223   0.984223   -0.99984    0.99984     -0.942      0.942  -0.803648   0.803648  -0.787072   0.787072         -1          1  -0.768564   0.768564  -0.713949   0.713949  \n",
      " 0.757719  -0.757719   0.988894  -0.988894   0.869636  -0.869636   0.779876  -0.779876   0.938703  -0.938703   0.998387  -0.998387   0.999566  -0.999566   0.768564  -0.768564          1         -1   0.996683  -0.996683  \n",
      "-0.757719   0.757719  -0.988894   0.988894  -0.869636   0.869636  -0.779876   0.779876  -0.938703   0.938703  -0.998387   0.998387  -0.999566   0.999566  -0.768564   0.768564         -1          1  -0.996683   0.996683  \n",
      " 0.702097  -0.702097   0.997709  -0.997709   0.826573  -0.826573    0.72635   -0.72635   0.907535  -0.907535   0.990455  -0.990455   0.993854  -0.993854   0.713949  -0.713949   0.996683  -0.996683          1         -1  \n",
      "-0.702097   0.702097  -0.997709   0.997709  -0.826573   0.826573   -0.72635    0.72635  -0.907535   0.907535  -0.990455   0.990455  -0.993854   0.993854  -0.713949   0.713949  -0.996683   0.996683         -1          1  \n"
     ]
    }
   ],
   "source": [
    "for i in range(0, len(M)):\n",
    "    print(\"new task\")\n",
    "    for j in range(2):\n",
    "        print(M[i][j][0])\n",
    "matprint(MM_true)"
   ]
  },
  {
   "cell_type": "code",
   "execution_count": 72,
   "metadata": {
    "collapsed": true
   },
   "outputs": [
    {
     "ename": "ValueError",
     "evalue": "x and y must have same first dimension, but have shapes (9,) and (10,)",
     "output_type": "error",
     "traceback": [
      "\u001b[0;31m---------------------------------------------------------------------------\u001b[0m",
      "\u001b[0;31mValueError\u001b[0m                                Traceback (most recent call last)",
      "\u001b[0;32m<ipython-input-72-324dd024ff7e>\u001b[0m in \u001b[0;36m<module>\u001b[0;34m\u001b[0m\n\u001b[1;32m      3\u001b[0m \u001b[0mupper\u001b[0m \u001b[0;34m=\u001b[0m \u001b[0mnp\u001b[0m\u001b[0;34m.\u001b[0m\u001b[0marray\u001b[0m\u001b[0;34m(\u001b[0m\u001b[0memp_rate\u001b[0m\u001b[0;34m)\u001b[0m \u001b[0;34m+\u001b[0m \u001b[0mnp\u001b[0m\u001b[0;34m.\u001b[0m\u001b[0marray\u001b[0m\u001b[0;34m(\u001b[0m\u001b[0mvar\u001b[0m\u001b[0;34m)\u001b[0m\u001b[0;34m\u001b[0m\u001b[0;34m\u001b[0m\u001b[0m\n\u001b[1;32m      4\u001b[0m \u001b[0mplt\u001b[0m\u001b[0;34m.\u001b[0m\u001b[0mplot\u001b[0m\u001b[0;34m(\u001b[0m\u001b[0mrange\u001b[0m\u001b[0;34m(\u001b[0m\u001b[0mlen\u001b[0m\u001b[0;34m(\u001b[0m\u001b[0memp_rate\u001b[0m\u001b[0;34m)\u001b[0m\u001b[0;34m)\u001b[0m\u001b[0;34m,\u001b[0m \u001b[0memp_rate\u001b[0m\u001b[0;34m,\u001b[0m \u001b[0;34m'-o'\u001b[0m\u001b[0;34m,\u001b[0m \u001b[0mlabel\u001b[0m\u001b[0;34m=\u001b[0m\u001b[0;34m'empirical rate'\u001b[0m\u001b[0;34m)\u001b[0m\u001b[0;34m\u001b[0m\u001b[0;34m\u001b[0m\u001b[0m\n\u001b[0;32m----> 5\u001b[0;31m \u001b[0mplt\u001b[0m\u001b[0;34m.\u001b[0m\u001b[0mplot\u001b[0m\u001b[0;34m(\u001b[0m\u001b[0mrange\u001b[0m\u001b[0;34m(\u001b[0m\u001b[0mlen\u001b[0m\u001b[0;34m(\u001b[0m\u001b[0memp_rate\u001b[0m\u001b[0;34m)\u001b[0m\u001b[0;34m)\u001b[0m\u001b[0;34m,\u001b[0m \u001b[0mth_rate\u001b[0m\u001b[0;34m,\u001b[0m \u001b[0;34m'-o'\u001b[0m\u001b[0;34m,\u001b[0m \u001b[0mlabel\u001b[0m\u001b[0;34m=\u001b[0m\u001b[0;34m'theoritical rate'\u001b[0m\u001b[0;34m)\u001b[0m\u001b[0;34m\u001b[0m\u001b[0;34m\u001b[0m\u001b[0m\n\u001b[0m\u001b[1;32m      6\u001b[0m \u001b[0mplt\u001b[0m\u001b[0;34m.\u001b[0m\u001b[0mfill_between\u001b[0m\u001b[0;34m(\u001b[0m\u001b[0mrange\u001b[0m\u001b[0;34m(\u001b[0m\u001b[0mlen\u001b[0m\u001b[0;34m(\u001b[0m\u001b[0memp_rate\u001b[0m\u001b[0;34m)\u001b[0m\u001b[0;34m)\u001b[0m\u001b[0;34m,\u001b[0m \u001b[0mlower\u001b[0m\u001b[0;34m,\u001b[0m \u001b[0mupper\u001b[0m\u001b[0;34m,\u001b[0m \u001b[0malpha\u001b[0m\u001b[0;34m=\u001b[0m\u001b[0;36m0.2\u001b[0m\u001b[0;34m,\u001b[0m \u001b[0mlabel\u001b[0m\u001b[0;34m=\u001b[0m\u001b[0;34m\"variance\"\u001b[0m\u001b[0;34m)\u001b[0m\u001b[0;34m\u001b[0m\u001b[0;34m\u001b[0m\u001b[0m\n\u001b[1;32m      7\u001b[0m \u001b[0mplt\u001b[0m\u001b[0;34m.\u001b[0m\u001b[0mlegend\u001b[0m\u001b[0;34m(\u001b[0m\u001b[0;34m)\u001b[0m\u001b[0;34m\u001b[0m\u001b[0;34m\u001b[0m\u001b[0m\n",
      "\u001b[0;32m~/anaconda3/lib/python3.7/site-packages/matplotlib/pyplot.py\u001b[0m in \u001b[0;36mplot\u001b[0;34m(scalex, scaley, data, *args, **kwargs)\u001b[0m\n\u001b[1;32m   2840\u001b[0m     return gca().plot(\n\u001b[1;32m   2841\u001b[0m         \u001b[0;34m*\u001b[0m\u001b[0margs\u001b[0m\u001b[0;34m,\u001b[0m \u001b[0mscalex\u001b[0m\u001b[0;34m=\u001b[0m\u001b[0mscalex\u001b[0m\u001b[0;34m,\u001b[0m \u001b[0mscaley\u001b[0m\u001b[0;34m=\u001b[0m\u001b[0mscaley\u001b[0m\u001b[0;34m,\u001b[0m\u001b[0;34m\u001b[0m\u001b[0;34m\u001b[0m\u001b[0m\n\u001b[0;32m-> 2842\u001b[0;31m         **({\"data\": data} if data is not None else {}), **kwargs)\n\u001b[0m\u001b[1;32m   2843\u001b[0m \u001b[0;34m\u001b[0m\u001b[0m\n\u001b[1;32m   2844\u001b[0m \u001b[0;34m\u001b[0m\u001b[0m\n",
      "\u001b[0;32m~/anaconda3/lib/python3.7/site-packages/matplotlib/axes/_axes.py\u001b[0m in \u001b[0;36mplot\u001b[0;34m(self, scalex, scaley, data, *args, **kwargs)\u001b[0m\n\u001b[1;32m   1741\u001b[0m         \"\"\"\n\u001b[1;32m   1742\u001b[0m         \u001b[0mkwargs\u001b[0m \u001b[0;34m=\u001b[0m \u001b[0mcbook\u001b[0m\u001b[0;34m.\u001b[0m\u001b[0mnormalize_kwargs\u001b[0m\u001b[0;34m(\u001b[0m\u001b[0mkwargs\u001b[0m\u001b[0;34m,\u001b[0m \u001b[0mmlines\u001b[0m\u001b[0;34m.\u001b[0m\u001b[0mLine2D\u001b[0m\u001b[0;34m)\u001b[0m\u001b[0;34m\u001b[0m\u001b[0;34m\u001b[0m\u001b[0m\n\u001b[0;32m-> 1743\u001b[0;31m         \u001b[0mlines\u001b[0m \u001b[0;34m=\u001b[0m \u001b[0;34m[\u001b[0m\u001b[0;34m*\u001b[0m\u001b[0mself\u001b[0m\u001b[0;34m.\u001b[0m\u001b[0m_get_lines\u001b[0m\u001b[0;34m(\u001b[0m\u001b[0;34m*\u001b[0m\u001b[0margs\u001b[0m\u001b[0;34m,\u001b[0m \u001b[0mdata\u001b[0m\u001b[0;34m=\u001b[0m\u001b[0mdata\u001b[0m\u001b[0;34m,\u001b[0m \u001b[0;34m**\u001b[0m\u001b[0mkwargs\u001b[0m\u001b[0;34m)\u001b[0m\u001b[0;34m]\u001b[0m\u001b[0;34m\u001b[0m\u001b[0;34m\u001b[0m\u001b[0m\n\u001b[0m\u001b[1;32m   1744\u001b[0m         \u001b[0;32mfor\u001b[0m \u001b[0mline\u001b[0m \u001b[0;32min\u001b[0m \u001b[0mlines\u001b[0m\u001b[0;34m:\u001b[0m\u001b[0;34m\u001b[0m\u001b[0;34m\u001b[0m\u001b[0m\n\u001b[1;32m   1745\u001b[0m             \u001b[0mself\u001b[0m\u001b[0;34m.\u001b[0m\u001b[0madd_line\u001b[0m\u001b[0;34m(\u001b[0m\u001b[0mline\u001b[0m\u001b[0;34m)\u001b[0m\u001b[0;34m\u001b[0m\u001b[0;34m\u001b[0m\u001b[0m\n",
      "\u001b[0;32m~/anaconda3/lib/python3.7/site-packages/matplotlib/axes/_base.py\u001b[0m in \u001b[0;36m__call__\u001b[0;34m(self, data, *args, **kwargs)\u001b[0m\n\u001b[1;32m    271\u001b[0m                 \u001b[0mthis\u001b[0m \u001b[0;34m+=\u001b[0m \u001b[0margs\u001b[0m\u001b[0;34m[\u001b[0m\u001b[0;36m0\u001b[0m\u001b[0;34m]\u001b[0m\u001b[0;34m,\u001b[0m\u001b[0;34m\u001b[0m\u001b[0;34m\u001b[0m\u001b[0m\n\u001b[1;32m    272\u001b[0m                 \u001b[0margs\u001b[0m \u001b[0;34m=\u001b[0m \u001b[0margs\u001b[0m\u001b[0;34m[\u001b[0m\u001b[0;36m1\u001b[0m\u001b[0;34m:\u001b[0m\u001b[0;34m]\u001b[0m\u001b[0;34m\u001b[0m\u001b[0;34m\u001b[0m\u001b[0m\n\u001b[0;32m--> 273\u001b[0;31m             \u001b[0;32myield\u001b[0m \u001b[0;32mfrom\u001b[0m \u001b[0mself\u001b[0m\u001b[0;34m.\u001b[0m\u001b[0m_plot_args\u001b[0m\u001b[0;34m(\u001b[0m\u001b[0mthis\u001b[0m\u001b[0;34m,\u001b[0m \u001b[0mkwargs\u001b[0m\u001b[0;34m)\u001b[0m\u001b[0;34m\u001b[0m\u001b[0;34m\u001b[0m\u001b[0m\n\u001b[0m\u001b[1;32m    274\u001b[0m \u001b[0;34m\u001b[0m\u001b[0m\n\u001b[1;32m    275\u001b[0m     \u001b[0;32mdef\u001b[0m \u001b[0mget_next_color\u001b[0m\u001b[0;34m(\u001b[0m\u001b[0mself\u001b[0m\u001b[0;34m)\u001b[0m\u001b[0;34m:\u001b[0m\u001b[0;34m\u001b[0m\u001b[0;34m\u001b[0m\u001b[0m\n",
      "\u001b[0;32m~/anaconda3/lib/python3.7/site-packages/matplotlib/axes/_base.py\u001b[0m in \u001b[0;36m_plot_args\u001b[0;34m(self, tup, kwargs)\u001b[0m\n\u001b[1;32m    397\u001b[0m \u001b[0;34m\u001b[0m\u001b[0m\n\u001b[1;32m    398\u001b[0m         \u001b[0;32mif\u001b[0m \u001b[0mx\u001b[0m\u001b[0;34m.\u001b[0m\u001b[0mshape\u001b[0m\u001b[0;34m[\u001b[0m\u001b[0;36m0\u001b[0m\u001b[0;34m]\u001b[0m \u001b[0;34m!=\u001b[0m \u001b[0my\u001b[0m\u001b[0;34m.\u001b[0m\u001b[0mshape\u001b[0m\u001b[0;34m[\u001b[0m\u001b[0;36m0\u001b[0m\u001b[0;34m]\u001b[0m\u001b[0;34m:\u001b[0m\u001b[0;34m\u001b[0m\u001b[0;34m\u001b[0m\u001b[0m\n\u001b[0;32m--> 399\u001b[0;31m             raise ValueError(f\"x and y must have same first dimension, but \"\n\u001b[0m\u001b[1;32m    400\u001b[0m                              f\"have shapes {x.shape} and {y.shape}\")\n\u001b[1;32m    401\u001b[0m         \u001b[0;32mif\u001b[0m \u001b[0mx\u001b[0m\u001b[0;34m.\u001b[0m\u001b[0mndim\u001b[0m \u001b[0;34m>\u001b[0m \u001b[0;36m2\u001b[0m \u001b[0;32mor\u001b[0m \u001b[0my\u001b[0m\u001b[0;34m.\u001b[0m\u001b[0mndim\u001b[0m \u001b[0;34m>\u001b[0m \u001b[0;36m2\u001b[0m\u001b[0;34m:\u001b[0m\u001b[0;34m\u001b[0m\u001b[0;34m\u001b[0m\u001b[0m\n",
      "\u001b[0;31mValueError\u001b[0m: x and y must have same first dimension, but have shapes (9,) and (10,)"
     ]
    }
   ],
   "source": [
    "lower = np.array(emp_rate) - np.array(var)\n",
    "upper = np.array(emp_rate) + np.array(var)\n",
    "plt.plot(range(len(emp_rate)), emp_rate, '-o', label='empirical rate')\n",
    "plt.plot(range(len(emp_rate)), th_rate, '-o', label='theoritical rate')\n",
    "plt.fill_between(range(len(emp_rate)), lower, upper, alpha=0.2, label=\"variance\")\n",
    "plt.legend()\n",
    "plt.title(\"2-class Gaussian mixture transfer error rate\")\n",
    "plt.xlabel(\"Added Task\")\n",
    "plt.ylabel(\"error rate\")\n",
    "plt.grid()\n",
    "plt.show()"
   ]
  },
  {
   "cell_type": "markdown",
   "metadata": {},
   "source": [
    "# Algorithme distribué k tâches 2 classes\n",
    "Bien que certains résultats du précedent algorithmes sont particulèrement inquiétants, essayons de voir comment distribuer l'algorithme sur plusieurs serveurs.\n",
    "\n",
    "Par exemple un serveur demande les moyennes des autres serveurs pour pouvoir obtenir des meilleurs résultats en calculant la moyenne des ses données et la moyenne de toutes les moyennes avant de le renvoyer au serveur principal qui mettra à jour le modèle.\n",
    "\n",
    "Prendre des données synthétiques pour la 1ère tâche à 2 classes, puis rappatrier une ou plusieurs moyennes pour les autres tasks. \n",
    "Faire des comparaisons, avec et sans federated learning."
   ]
  },
  {
   "cell_type": "markdown",
   "metadata": {},
   "source": [
    "### k serveurs \n",
    "#### Federated Learning 2 classes k taches\n",
    "Imaginons 1 Serveur central et k clients. L'un cherche à classifier un certain type d'images, l'autre un deuxième type d'images. Les deux clients sont confrontés un problème de classification binaire sur des images sensiblement similaire (quantifié par le paramètre $\\beta$), et peuvent donc s'aider du training de l'autre pour affiner leur classification.\n",
    "\n",
    "Le premier client entraîne son modèle de classification sur son jeu de données locales. Il espère obtenir de meilleures performances à l'aide du transfer Learning. Les deux clients envoient alors les moyennes empiriques calculées sur leurs donnée locales, au serveur central. Le serveur peut alors calculé la matrice de corrélation $\\mathcal{M}$ et les labels optimaux $\\tilde{y}$. Les clients recoivent les labels optimaux, et peuvent maintenant recalculer le vecteur propre $V$ de $\\displaystyle\\frac{X_ty_ty_t^TX_t^T}{np}$ et inférer sur de nouvelles données $x$."
   ]
  },
  {
   "cell_type": "markdown",
   "metadata": {},
   "source": [
    "Calcul des moyennes empiriques, et calcul de la matrice $M\\in\\mathbb{R}^{p\\times 2k}$\n",
    "$$\\frac{1}{n_{tj}}X_{tj}\\mathbb{1}_{n_{tj}}=\\frac{1}{n_{tj}}\\sum_{l=1}^{n_{tj}}x_{tl}^{(j)}$$\n",
    "\n",
    "Chaque client calcule en local les moyennes empiriques des données et les envoie au serveur central.\n",
    "\n",
    "De la même façcon que précédemment les données de chaque client (=chaque tâche) devront respecter les conditions de non-trivialité."
   ]
  },
  {
   "cell_type": "code",
   "execution_count": 32,
   "metadata": {},
   "outputs": [],
   "source": [
    "def empirical_mean_old(nb_tasks, nb_classes, X, p, n_t):\n",
    "    \"\"\"\n",
    "    compute empirical mean for data \n",
    "    retourne la matrice M de taille px(2*k) et un vecteur contenant les coefficients diagonaux\n",
    "    nb_classes=2 (toujours)\n",
    "    \n",
    "    Complexité : \n",
    "    -------------\n",
    "    O(k*p*n_tl) = O(n*p)\n",
    "    \"\"\"\n",
    "    M = np.empty((nb_classes*nb_tasks, p))\n",
    "    diag = []\n",
    "    for t in range(nb_tasks):\n",
    "        # O(k)\n",
    "        for l in range(nb_classes):\n",
    "            # O(2)\n",
    "            M[t*nb_classes+l] = X[t][l].dot(np.ones((n_t[t][l])))\n",
    "            # O(p*n_tl)\n",
    "            M[t*nb_classes+l] /= n_t[t][l]\n",
    "            # O(1)\n",
    "            \n",
    "            moitie = int(n_t[t][l]/2)\n",
    "#             print(f\" moitie = {moitie}\")\n",
    "#             print(\"shape X : \", X[t][l].T[:moitie].T.shape)\n",
    "            mu1 = 1/moitie*X[t][l].T[:moitie].T@np.ones((moitie))\n",
    "            mu2 = 1/moitie*X[t][l].T[moitie:2*moitie].T@np.ones((moitie))\n",
    "#             print(\"mu shapes before : \")\n",
    "#             print(mu1.shape)\n",
    "#             print(mu2.shape)\n",
    "            # O(p*n_tl)\n",
    "            mu1, mu2 = np.reshape(mu1, (p, 1)), np.reshape(mu2, (p, 1))\n",
    "#             print(\"mu shapes : \")\n",
    "#             print(mu1.shape)\n",
    "#             print(mu2.shape)\n",
    "            diag.append(mu1.T@mu2)\n",
    "            # O(1)\n",
    "    \n",
    "    return M.T, diag\n",
    "\n",
    "# diag1 = [mu1]\n",
    "#diag_means = [[mu1], [mu2]]\n",
    "\n",
    "def gather_empirical_mean(nb_tasks, nb_classes, emp_means, diag_means, p, n_t):\n",
    "    \"\"\"\n",
    "    emp_means est un vecteur contenant les moyennes empiriques de chaque tache de chaque classe.\n",
    "    Chaque vecteur de moyennes et de taille px1\n",
    "    Renvoie la matrice M des, produits scalaires entre moyennes empiriques de chaque client\n",
    "    \"\"\"\n",
    "    M = np.empty((nb_classes*nb_tasks, nb_classes*nb_tasks)) # ici 4x4\n",
    "    for i in range(nb_tasks):\n",
    "        # O(k)\n",
    "        for j in range(nb_classes):\n",
    "            # O(2)\n",
    "            for k in range(nb_tasks):\n",
    "                # O(k)\n",
    "                for l in range(nb_classes):\n",
    "                    # O(2)\n",
    "                    if i == k and j == l:\n",
    "                        #print(f\"i = {i}, j = {j}\")\n",
    "#                         print(i*nb_tasks+j, i*nb_tasks+j)\n",
    "#                         print(moitie)\n",
    "#                         print(np.ones((moitie, 1)).T.dot(X[i][j].T[:moitie]).shape)\n",
    "#                         print(emp_means[i*nb_tasks+j][:moitie].T.shape)\n",
    "                        M[i*nb_classes+j][i*nb_classes+j] = diag_means[i*nb_classes+j]\n",
    "                    else:\n",
    "#                         print(i*nb_tasks+j, k*nb_tasks+l)\n",
    "#                         print(emp_means[i*nb_tasks+j].T.shape)\n",
    "#                         print(emp_means[k*nb_tasks+l].shape)\n",
    "                        M[i*nb_classes+j][k*nb_classes+l] = emp_means[i*nb_classes+j].T.dot(emp_means[k*nb_classes+l])\n",
    "                    # O(p)\n",
    "#                         print(M[i*nb_tasks+j][k*nb_tasks+l].shape)\n",
    "                \n",
    "    return M"
   ]
  },
  {
   "cell_type": "code",
   "execution_count": 33,
   "metadata": {},
   "outputs": [],
   "source": [
    "def merging_center(MM, diag, t, m, p, n, n_t, task_target=None, display=False):\n",
    "    \"\"\"\n",
    "    Recoit les moyennes empiriques des k clients, calcule la matrice de corrélation, les labels optimaux et renvoie le vecteur V\n",
    "    Renvoie y un vecteur de labels optimaux adapté à chaque client. (à changer?)\n",
    "    \"\"\"\n",
    "    # MM = [[MM11, MM12], [MM21, MM22], [MM31, MM32], ...]\n",
    "    emp_means = []\n",
    "    diagonal = []\n",
    "    \n",
    "    for i in range(len(MM)):\n",
    "        for l in range(m):\n",
    "            emp_means.append(np.reshape(MM[i].T[l], (p, 1)))\n",
    "            diagonal.append(diag[i][l])\n",
    "    #diag = [diag1[0], diag1[1], etc.]\n",
    "    #emp_means = [MM11, MM12, MM21, MM22, MM31, ...]\n",
    "    MM_gathered = gather_empirical_mean(t, m, emp_means, diagonal, p, n_t)\n",
    "    if display:\n",
    "        print(\"MM_gathered : \")\n",
    "        matprint(MM_gathered)\n",
    "    \n",
    "    c = estimate_c(n_t, n, t, m)\n",
    "    c0 = p/n\n",
    "    Dc = np.diag(c)\n",
    "    correlation_matrix = compute_M_cal(n, p, Dc, MM_gathered, display=display)\n",
    "    y = label_evaluation(t,m,Dc,MM_gathered, c0, task_target=task_target)\n",
    "    if display:\n",
    "        matprint(y)\n",
    "    \n",
    "    # le serveur calcule aussi\n",
    "    V = np.zeros((p,1))\n",
    "    for i in range(t):\n",
    "        for j in range(m):\n",
    "            V += n_t[i][j]*emp_means[i*m+j]*y[i*m+j]\n",
    "#     print(f\"V = {V}\")\n",
    "      # pourquoi on a touours le meme V ?\n",
    "#     V = V.astype(\"float128\")\n",
    "    V /= np.linalg.norm(V)\n",
    "    V = np.reshape(V, (p))\n",
    "    \n",
    "    return V, y, correlation_matrix, Dc, c0"
   ]
  },
  {
   "cell_type": "code",
   "execution_count": 34,
   "metadata": {
    "scrolled": true
   },
   "outputs": [
    {
     "name": "stdout",
     "output_type": "stream",
     "text": [
      "   5.12642  -4.95681   -0.10579  -0.0402121  \n",
      "  -4.95681   4.92311   0.209975    0.105015  \n",
      "  -0.10579  0.209975   0.275235   -0.210616  \n",
      "-0.0402121  0.105015  -0.210616    0.201076  \n",
      "  5.12642   -4.95681  0.0183977  -0.164399  \n",
      " -4.95681    4.92311  0.0857741   0.229216  \n",
      "0.0183977  0.0857741   0.266325  -0.208622  \n",
      "-0.164399   0.229216  -0.208622   0.205998  \n",
      "  5.12642    -4.95681    0.142218  -0.288219  \n",
      " -4.95681     4.92311  -0.0386454   0.353635  \n",
      " 0.142218  -0.0386454    0.257466  -0.206466  \n",
      "-0.288219    0.353635   -0.206466   0.210544  \n",
      " 5.12642   -4.95681   0.265648   -0.41165  \n",
      "-4.95681    4.92311  -0.163296   0.478286  \n",
      "0.265648  -0.163296   0.248661  -0.204136  \n",
      "-0.41165   0.478286  -0.204136    0.21469  \n",
      "  5.12642   -4.95681   0.388647  -0.534649  \n",
      " -4.95681    4.92311  -0.288204   0.603194  \n",
      " 0.388647  -0.288204   0.239915  -0.201615  \n",
      "-0.534649   0.603194  -0.201615   0.218394  \n",
      "  5.12642   -4.95681   0.511141  -0.657143  \n",
      " -4.95681    4.92311  -0.413411   0.728401  \n",
      " 0.511141  -0.413411   0.231239  -0.198871  \n",
      "-0.657143   0.728401  -0.198871    0.22158  \n",
      "  5.12642   -4.95681   0.633001  -0.779003  \n",
      " -4.95681    4.92311  -0.538995   0.853985  \n",
      " 0.633001  -0.538995   0.222651  -0.195845  \n",
      "-0.779003   0.853985  -0.195845   0.224117  \n",
      "  5.12642   -4.95681   0.753967  -0.899969  \n",
      " -4.95681    4.92311  -0.665111   0.980101  \n",
      " 0.753967  -0.665111   0.214187  -0.192423  \n",
      "-0.899969   0.980101  -0.192423   0.225737  \n",
      " 5.12642   -4.95681   0.873373   -1.01937  \n",
      "-4.95681    4.92311  -0.792154    1.10714  \n",
      "0.873373  -0.792154   0.205939  -0.188309  \n",
      "-1.01937    1.10714  -0.188309   0.225757  \n",
      " 5.12642   -4.95681   0.984401   -1.1304  \n",
      "-4.95681    4.92311  -0.924176   1.23917  \n",
      "0.984401  -0.924176   0.198851  -0.18048  \n",
      " -1.1304    1.23917   -0.18048  0.217189  \n",
      "temps moyen clients : 0.0038, 0.0468\n",
      "temps moyen Serveur central : 0.00059\n",
      "temps total moyen : 0.05119\n"
     ]
    }
   ],
   "source": [
    "%matplotlib inline\n",
    "n1 = 4000\n",
    "n2 = 200\n",
    "n = n1+n2\n",
    "p = 200\n",
    "m = 2\n",
    "t = 2\n",
    "ni = [n1, n2]\n",
    "beta = np.linspace(0,1,10)\n",
    "n_t = [[int(n1/2),int(n1/2)], [int(n2/2), int(n2/2)]]\n",
    "n_t_test = [[1000, 1000]]\n",
    "nt = sum(n_t_test[0])\n",
    "emp_rate, th_rate, var = [], [], []\n",
    "\n",
    "t_MM = []\n",
    "t_SC = []\n",
    "t_inf = []\n",
    "t_MM_f = []\n",
    "t_inf_f = []\n",
    "\n",
    "random_state = 100\n",
    "task_target = 1\n",
    "\n",
    "for b in beta:\n",
    "    # on crée les données synthétiques\n",
    "    M = mean_matrix(p, b, t, random_seed=random_state)\n",
    "#       print(M)\n",
    "    # X1 is the local data of the first client\n",
    "    # normalisation?\n",
    "    X, y_bs = gaussian_synthetic_data(n, p, m, t, n_t, M, random_state)\n",
    "    \n",
    "    # data we want to test on our model, here new data of client n°2\n",
    "    X_test, y_test = gaussian_synthetic_data(nt, p, m, 1, n_t_test, [M[task_target]], random_state)\n",
    "    \n",
    "    MM = []\n",
    "    diag = []\n",
    "#     X = normalisation(X, p)\n",
    "    X_test = normalisation(X_test, p)\n",
    "    \n",
    "    # On calcule les moyennes empiriques sur les données locales\n",
    "    # diag1 = [diag1[0], diag1[1]]\n",
    "    for i in range(t):\n",
    "        t0 = time()\n",
    "        MM1, diag1 = empirical_mean_old(1, m, [X[i]], p, [n_t[i]])\n",
    "        t_MM.append(time()-t0)\n",
    "        MM.append(MM1)\n",
    "        diag.append(diag1)\n",
    "\n",
    "# CENTRAL SERVER\n",
    "    t0 = time()\n",
    "    # sending empirical means to central server\n",
    "    # y est un vecteur de vecteurs de labels optimaux\n",
    "    V, y, correlation_matrix, Dc, c0 = merging_center(MM, diag, t, m, p, n, n_t, task_target)\n",
    "    t_SC.append(time()-t0)\n",
    "    matprint(correlation_matrix)\n",
    "    \n",
    "# END CENTRAL SERVER\n",
    "\n",
    "    # Sending back optimal labels to clients\n",
    "    aggregated = []\n",
    "    for i in range(t):\n",
    "        aggregated.append(aggregate_array([X[i]], p, ni[i], 1, m))\n",
    "    X_test_aggregated = aggregate_array(X_test, p, nt, 1, m)\n",
    "    # ou alors créer un J ?\n",
    "#     J = create_J(m, 2, n, n_t)\n",
    "    \n",
    "    VTX = V.T@X_test_aggregated\n",
    "    var.append(np.var(VTX))\n",
    "    \n",
    "#     debug_histogram(V, X_test_aggregated, n_t_test)\n",
    "#     print(\"V = \")\n",
    "#     print(V)\n",
    "    t0 = time()\n",
    "    m_t = create_mt(t, m, y, Dc, correlation_matrix)\n",
    "    \n",
    "    emp_rate.append(compute_error_rate(X_test, V, m_t, 1, m, n_t_test, Dc, c0))\n",
    "    t_inf.append(time()-t0)\n",
    "#     th_rate.append(error_rate(t, m,  Dc, MM_true, c0)[0][0])\n",
    "#     print(emp_rate, th_rate)\n",
    "    t_MM_f.append(max(t_MM))\n",
    "    t_inf_f.append(max(t_inf))\n",
    "    \n",
    "# pour pas le recalculer a chaque fois \n",
    "th_rate = [0.23975006109347674, 0.23910189492427802, 0.23712834068265354, 0.23373859215337528, 0.2287682743173643, 0.22195637062121154, 0.2129043075952785, 0.20100393554334806, 0.18530737544421827, 0.16428249171959852]   \n",
    "\n",
    "print(f\"temps moyen clients : {round(np.mean(t_MM_f), 5)}, {round(np.mean(t_inf_f), 5)}\")\n",
    "print(f\"temps moyen Serveur central : {round(np.mean(t_SC), 5)}\")\n",
    "print(f\"temps total moyen : {round(np.mean(t_MM_f), 5) + round(np.mean(t_inf_f), 5) + round(np.mean(t_SC), 5)}\")\n",
    "\n",
    "%matplotlib qt\n",
    "\n",
    "lower = np.array(emp_rate) - np.array(var)\n",
    "upper = np.array(emp_rate) + np.array(var)\n",
    "plt.plot(beta, emp_rate, '-o', label='empirical rate')\n",
    "plt.plot(beta, th_rate, '-v', label='theoritical rate')\n",
    "plt.fill_between(beta, lower, upper, alpha=0.2, label=\"variance\")\n",
    "plt.legend()\n",
    "plt.title(f\"2-class Gaussian mixture transfer error rate for n={n} and p={p}\")\n",
    "plt.xlabel(\"Task relatedness (beta)\")\n",
    "plt.ylabel(\"error rate\")\n",
    "plt.grid()\n",
    "plt.show()"
   ]
  },
  {
   "cell_type": "code",
   "execution_count": null,
   "metadata": {},
   "outputs": [],
   "source": [
    "4.75962   -4.8477    1.08341  -0.892901  \n",
    "  -4.8477   5.00614    -1.1252   0.959628  \n",
    "  1.08341   -1.1252   0.327581  -0.326737  \n",
    "-0.892901  0.959628  -0.326737   0.228697 "
   ]
  },
  {
   "cell_type": "code",
   "execution_count": 33,
   "metadata": {},
   "outputs": [
    {
     "name": "stdout",
     "output_type": "stream",
     "text": [
      "temps moyen clients (calcul moyennes, inférence): 0.00101 s, 0.01589 s\n",
      "temps moyen Serveur central : 0.00044 s\n",
      "temps total moyen : 0.01734 s\n"
     ]
    }
   ],
   "source": [
    "th_rate = [0.23975006109347674, 0.23910189492427802, 0.23712834068265354, 0.23373859215337528, 0.2287682743173643, 0.22195637062121154, 0.2129043075952785, 0.20100393554334806, 0.18530737544421827, 0.16428249171959852]   \n",
    "\n",
    "print(f\"temps moyen clients (calcul moyennes, inférence): {round(np.mean(t_MM_f), 5)} s, {round(np.mean(t_inf_f), 5)} s\")\n",
    "print(f\"temps moyen Serveur central : {round(np.mean(t_SC), 5)} s\")\n",
    "print(f\"temps total moyen : {round(np.mean(t_MM_f), 5) + round(np.mean(t_inf_f), 5) + round(np.mean(t_SC), 5)} s\")\n",
    "\n",
    "lower = np.array(emp_rate) - np.array(var)\n",
    "upper = np.array(emp_rate) + np.array(var)\n",
    "plt.plot(beta, emp_rate, '-o', label='empirical rate')\n",
    "plt.plot(beta, th_rate, '-o', label='theoritical rate')\n",
    "plt.fill_between(beta, lower, upper, alpha=0.2, label=\"variance\")\n",
    "plt.legend()\n",
    "plt.title(f\"2-class Gaussian mixture transfer error rate for n={n} and p={p}\")\n",
    "plt.xlabel(\"Task relatedness (beta)\")\n",
    "plt.ylabel(\"error rate\")\n",
    "plt.grid()\n",
    "plt.show()"
   ]
  },
  {
   "cell_type": "markdown",
   "metadata": {},
   "source": [
    "# Distributively adding tasks"
   ]
  },
  {
   "cell_type": "code",
   "execution_count": 36,
   "metadata": {
    "scrolled": true
   },
   "outputs": [
    {
     "name": "stdout",
     "output_type": "stream",
     "text": [
      "random\n",
      "beta 0.771320643266746\n",
      "random\n",
      "beta 0.771320643266746\n",
      "task 1 empirical mean = -0.05101151671608839\n",
      "task 1 empirical mean = -0.1685920178688018\n",
      "MM_gathered : \n",
      "0.966294   -1.02803   0.760029  -1.02895  \n",
      "-1.02803    1.15724  -0.709761   1.04108  \n",
      "0.760029  -0.709761    1.28922  -1.21604  \n",
      "-1.02895    1.04108   -1.21604   1.17272  \n"
     ]
    },
    {
     "data": {
      "image/png": "[encoded data removed]",
      "text/plain": [
       "<Figure size 432x288 with 1 Axes>"
      ]
     },
     "metadata": {
      "needs_background": "light"
     },
     "output_type": "display_data"
    },
    {
     "name": "stdout",
     "output_type": "stream",
     "text": [
      "  2.28873  \n",
      "-0.198828  \n",
      "  17.2836  \n",
      " -8.84764  \n",
      "[[0.47619048 0.         0.         0.        ]\n",
      " [0.         0.47619048 0.         0.        ]\n",
      " [0.         0.         0.02380952 0.        ]\n",
      " [0.         0.         0.         0.02380952]]\n"
     ]
    },
    {
     "data": {
      "image/png": "[encoded data removed]",
      "text/plain": [
       "<Figure size 432x288 with 1 Axes>"
      ]
     },
     "metadata": {
      "needs_background": "light"
     },
     "output_type": "display_data"
    },
    {
     "name": "stdout",
     "output_type": "stream",
     "text": [
      "arg q-func : \n",
      "[[0.69764454]]\n",
      "random\n",
      "beta 0.771320643266746\n",
      "random\n",
      "beta 0.0207519493594015\n",
      "random\n",
      "beta 0.6336482349262754\n",
      "task 1 empirical mean = -0.05101151671608839\n",
      "task 1 empirical mean = -0.1685920178688018\n",
      "task 1 empirical mean = 0.03963968183321687\n",
      "task 1 empirical mean = 0.025913976930101168\n",
      "MM_gathered : \n",
      "  0.966294    -1.02803   0.760029   -1.02895    0.107645  -0.0591596   0.773973  -0.739651  \n",
      "  -1.02803     1.15724  -0.709761    1.04108  -0.0498879  -0.0481287  -0.838802   0.791798  \n",
      "  0.760029   -0.709761    1.28922   -1.21604    0.847901   -0.991683    1.17581  -0.501109  \n",
      "  -1.02895     1.04108   -1.21604    1.17272   -0.500232    0.568762   -1.01578   0.994008  \n",
      "  0.107645  -0.0498879   0.847901  -0.500232    0.896748    -0.97198   0.713891  -0.651659  \n",
      "-0.0591596  -0.0481287  -0.991683   0.568762    -0.97198     1.05391  -0.761442   0.602214  \n",
      "  0.773973   -0.838802    1.17581   -1.01578    0.713891   -0.761442    0.96289  -0.841908  \n",
      " -0.739651    0.791798  -0.501109   0.994008   -0.651659    0.602214  -0.841908    1.06104  \n"
     ]
    },
    {
     "data": {
      "image/png": "[encoded data removed]",
      "text/plain": [
       "<Figure size 432x288 with 1 Axes>"
      ]
     },
     "metadata": {
      "needs_background": "light"
     },
     "output_type": "display_data"
    },
    {
     "name": "stdout",
     "output_type": "stream",
     "text": [
      "  4.5616  \n",
      "-3.71555  \n",
      "-6.88254  \n",
      " 3.24973  \n",
      "-1.52588  \n",
      "-8.04365  \n",
      "-6.81939  \n",
      " 21.3332  \n",
      "[[0.23809524 0.         0.         0.         0.         0.\n",
      "  0.         0.        ]\n",
      " [0.         0.23809524 0.         0.         0.         0.\n",
      "  0.         0.        ]\n",
      " [0.         0.         0.01190476 0.         0.         0.\n",
      "  0.         0.        ]\n",
      " [0.         0.         0.         0.01190476 0.         0.\n",
      "  0.         0.        ]\n",
      " [0.         0.         0.         0.         0.23809524 0.\n",
      "  0.         0.        ]\n",
      " [0.         0.         0.         0.         0.         0.23809524\n",
      "  0.         0.        ]\n",
      " [0.         0.         0.         0.         0.         0.\n",
      "  0.01190476 0.        ]\n",
      " [0.         0.         0.         0.         0.         0.\n",
      "  0.         0.01190476]]\n"
     ]
    },
    {
     "data": {
      "image/png": "[encoded data removed]",
      "text/plain": [
       "<Figure size 432x288 with 1 Axes>"
      ]
     },
     "metadata": {
      "needs_background": "light"
     },
     "output_type": "display_data"
    },
    {
     "name": "stdout",
     "output_type": "stream",
     "text": [
      "arg q-func : \n",
      "[[0.95720706]]\n",
      "random\n",
      "beta 0.771320643266746\n",
      "random\n",
      "beta 0.0207519493594015\n",
      "random\n",
      "beta 0.6336482349262754\n",
      "random\n",
      "beta 0.7488038825386119\n",
      "random\n",
      "beta 0.4985070123025904\n",
      "task 1 empirical mean = -0.05101151671608839\n",
      "task 1 empirical mean = -0.1685920178688018\n",
      "task 1 empirical mean = 0.03963968183321687\n",
      "task 1 empirical mean = 0.025913976930101168\n",
      "task 1 empirical mean = -0.04280576502257588\n",
      "task 1 empirical mean = -0.017713268389584813\n",
      "MM_gathered : \n",
      "  0.966294    -1.02803   0.760029   -1.02895    0.107645  -0.0591596   0.773973  -0.739651   0.740781  -0.802561   0.432282  -0.441904  \n",
      "  -1.02803     1.15724  -0.709761    1.04108  -0.0498879  -0.0481287  -0.838802   0.791798  -0.724076   0.817653   -0.35953   0.483057  \n",
      "  0.760029   -0.709761    1.28922   -1.21604    0.847901   -0.991683    1.17581  -0.501109    1.16579   -1.12139    1.13622   -1.15153  \n",
      "  -1.02895     1.04108   -1.21604    1.17272   -0.500232    0.568762   -1.01578   0.994008   -1.05599     1.0656   -1.05352   0.964445  \n",
      "  0.107645  -0.0498879   0.847901  -0.500232    0.896748    -0.97198   0.713891  -0.651659   0.730984  -0.738688   0.840778  -0.677116  \n",
      "-0.0591596  -0.0481287  -0.991683   0.568762    -0.97198     1.05391  -0.761442   0.602214  -0.728849   0.712382  -0.836339   0.625409  \n",
      "  0.773973   -0.838802    1.17581   -1.01578    0.713891   -0.761442    0.96289  -0.841908    1.05965   -1.11158   0.761883  -0.939268  \n",
      " -0.739651    0.791798  -0.501109   0.994008   -0.651659    0.602214  -0.841908    1.06104  -0.905117    1.03951  -0.452006   0.538614  \n",
      "  0.740781   -0.724076    1.16579   -1.05599    0.730984   -0.728849    1.05965  -0.905117    1.01195   -1.04748   0.888843  -0.811619  \n",
      " -0.802561    0.817653   -1.12139     1.0656   -0.738688    0.712382   -1.11158    1.03951   -1.04748    1.15417  -0.830172    0.82165  \n",
      "  0.432282    -0.35953    1.13622   -1.05352    0.840778   -0.836339   0.761883  -0.452006   0.888843  -0.830172    0.83468  -0.857842  \n",
      " -0.441904    0.483057   -1.15153   0.964445   -0.677116    0.625409  -0.939268   0.538614  -0.811619    0.82165  -0.857842     0.3799  \n"
     ]
    },
    {
     "data": {
      "image/png": "[encoded data removed]",
      "text/plain": [
       "<Figure size 432x288 with 1 Axes>"
      ]
     },
     "metadata": {
      "needs_background": "light"
     },
     "output_type": "display_data"
    },
    {
     "name": "stdout",
     "output_type": "stream",
     "text": [
      " 5.89171  \n",
      "-4.91164  \n",
      "-21.0855  \n",
      " 15.9832  \n",
      "-5.64547  \n",
      " -12.221  \n",
      "-14.4616  \n",
      " 26.3573  \n",
      " 3.79259  \n",
      " 1.60358  \n",
      " 23.2759  \n",
      "-43.2694  \n",
      "[[0.15873016 0.         0.         0.         0.         0.\n",
      "  0.         0.         0.         0.         0.         0.        ]\n",
      " [0.         0.15873016 0.         0.         0.         0.\n",
      "  0.         0.         0.         0.         0.         0.        ]\n",
      " [0.         0.         0.00793651 0.         0.         0.\n",
      "  0.         0.         0.         0.         0.         0.        ]\n",
      " [0.         0.         0.         0.00793651 0.         0.\n",
      "  0.         0.         0.         0.         0.         0.        ]\n",
      " [0.         0.         0.         0.         0.15873016 0.\n",
      "  0.         0.         0.         0.         0.         0.        ]\n",
      " [0.         0.         0.         0.         0.         0.15873016\n",
      "  0.         0.         0.         0.         0.         0.        ]\n",
      " [0.         0.         0.         0.         0.         0.\n",
      "  0.00793651 0.         0.         0.         0.         0.        ]\n",
      " [0.         0.         0.         0.         0.         0.\n",
      "  0.         0.00793651 0.         0.         0.         0.        ]\n",
      " [0.         0.         0.         0.         0.         0.\n",
      "  0.         0.         0.15873016 0.         0.         0.        ]\n",
      " [0.         0.         0.         0.         0.         0.\n",
      "  0.         0.         0.         0.15873016 0.         0.        ]\n",
      " [0.         0.         0.         0.         0.         0.\n",
      "  0.         0.         0.         0.         0.00793651 0.        ]\n",
      " [0.         0.         0.         0.         0.         0.\n",
      "  0.         0.         0.         0.         0.         0.00793651]]\n"
     ]
    },
    {
     "data": {
      "image/png": "[encoded data removed]",
      "text/plain": [
       "<Figure size 432x288 with 1 Axes>"
      ]
     },
     "metadata": {
      "needs_background": "light"
     },
     "output_type": "display_data"
    },
    {
     "name": "stdout",
     "output_type": "stream",
     "text": [
      "arg q-func : \n",
      "[[0.97734742]]\n",
      "random\n",
      "beta 0.771320643266746\n",
      "random\n",
      "beta 0.0207519493594015\n",
      "random\n",
      "beta 0.6336482349262754\n",
      "random\n",
      "beta 0.7488038825386119\n",
      "random\n",
      "beta 0.4985070123025904\n",
      "random\n",
      "beta 0.22479664553084766\n",
      "random\n",
      "beta 0.19806286475962398\n",
      "task 1 empirical mean = -0.05101151671608839\n",
      "task 1 empirical mean = -0.1685920178688018\n",
      "task 1 empirical mean = 0.03963968183321687\n",
      "task 1 empirical mean = 0.025913976930101168\n",
      "task 1 empirical mean = -0.04280576502257588\n",
      "task 1 empirical mean = -0.017713268389584813\n",
      "task 1 empirical mean = 0.020810101033053877\n",
      "task 1 empirical mean = 0.14197243830540557\n",
      "MM_gathered : \n",
      "  0.966294    -1.02803   0.760029   -1.02895    0.107645  -0.0591596   0.773973  -0.739651   0.740781  -0.802561   0.432282  -0.441904   0.311772  -0.228704   0.433141  -0.164405  \n",
      "  -1.02803     1.15724  -0.709761    1.04108  -0.0498879  -0.0481287  -0.838802   0.791798  -0.724076   0.817653   -0.35953   0.483057  -0.251151   0.183502  -0.387027  0.0663466  \n",
      "  0.760029   -0.709761    1.28922   -1.21604    0.847901   -0.991683    1.17581  -0.501109    1.16579   -1.12139    1.13622   -1.15153   0.966728  -0.995652    0.78396  -0.760696  \n",
      "  -1.02895     1.04108   -1.21604    1.17272   -0.500232    0.568762   -1.01578   0.994008   -1.05599     1.0656   -1.05352   0.964445  -0.656682   0.551001   -1.04711   0.762324  \n",
      "  0.107645  -0.0498879   0.847901  -0.500232    0.896748    -0.97198   0.713891  -0.651659   0.730984  -0.738688   0.840778  -0.677116   0.899904  -0.915325     1.0092  -0.867783  \n",
      "-0.0591596  -0.0481287  -0.991683   0.568762    -0.97198     1.05391  -0.761442   0.602214  -0.728849   0.712382  -0.836339   0.625409  -0.955437   0.959462   -1.07361   0.933838  \n",
      "  0.773973   -0.838802    1.17581   -1.01578    0.713891   -0.761442    0.96289  -0.841908    1.05965   -1.11158   0.761883  -0.939268   0.947034  -0.879271   0.810368  -0.617378  \n",
      " -0.739651    0.791798  -0.501109   0.994008   -0.651659    0.602214  -0.841908    1.06104  -0.905117    1.03951  -0.452006   0.538614  -0.749207   0.791807   -1.17819   0.609994  \n",
      "  0.740781   -0.724076    1.16579   -1.05599    0.730984   -0.728849    1.05965  -0.905117    1.01195   -1.04748   0.888843  -0.811619   0.854516   -0.81226   0.959492  -0.763524  \n",
      " -0.802561    0.817653   -1.12139     1.0656   -0.738688    0.712382   -1.11158    1.03951   -1.04748    1.15417  -0.830172    0.82165  -0.841542   0.825082  -0.979423   0.697148  \n",
      "  0.432282    -0.35953    1.13622   -1.05352    0.840778   -0.836339   0.761883  -0.452006   0.888843  -0.830172    0.83468  -0.857842    0.85647  -0.808266   0.787243  -0.904748  \n",
      " -0.441904    0.483057   -1.15153   0.964445   -0.677116    0.625409  -0.939268   0.538614  -0.811619    0.82165  -0.857842     0.3799  -0.743867   0.733792   -1.00208   0.450878  \n",
      "  0.311772   -0.251151   0.966728  -0.656682    0.899904   -0.955437   0.947034  -0.749207   0.854516  -0.841542    0.85647  -0.743867   0.940728  -0.946035    1.08144  -0.800451  \n",
      " -0.228704    0.183502  -0.995652   0.551001   -0.915325    0.959462  -0.879271   0.791807   -0.81226   0.825082  -0.808266   0.733792  -0.946035   0.922612   -1.09199   0.783791  \n",
      "  0.433141   -0.387027    0.78396   -1.04711      1.0092    -1.07361   0.810368   -1.17819   0.959492  -0.979423   0.787243   -1.00208    1.08144   -1.09199   0.977381   -0.71145  \n",
      " -0.164405   0.0663466  -0.760696   0.762324   -0.867783    0.933838  -0.617378   0.609994  -0.763524   0.697148  -0.904748   0.450878  -0.800451   0.783791   -0.71145   0.897205  \n"
     ]
    },
    {
     "data": {
      "image/png": "[encoded data removed]",
      "text/plain": [
       "<Figure size 432x288 with 1 Axes>"
      ]
     },
     "metadata": {
      "needs_background": "light"
     },
     "output_type": "display_data"
    },
    {
     "name": "stdout",
     "output_type": "stream",
     "text": [
      " 8.89429  \n",
      " -6.9507  \n",
      "-37.5588  \n",
      " 23.4224  \n",
      "-5.42437  \n",
      "-19.7299  \n",
      "-15.9867  \n",
      " 33.3831  \n",
      " 6.41716  \n",
      " 2.65966  \n",
      " 30.0182  \n",
      "-65.6226  \n",
      "-7.57349  \n",
      "-1.92579  \n",
      "-24.3093  \n",
      "-3.59186  \n",
      "[[0.11904762 0.         0.         0.         0.         0.\n",
      "  0.         0.         0.         0.         0.         0.\n",
      "  0.         0.         0.         0.        ]\n",
      " [0.         0.11904762 0.         0.         0.         0.\n",
      "  0.         0.         0.         0.         0.         0.\n",
      "  0.         0.         0.         0.        ]\n",
      " [0.         0.         0.00595238 0.         0.         0.\n",
      "  0.         0.         0.         0.         0.         0.\n",
      "  0.         0.         0.         0.        ]\n",
      " [0.         0.         0.         0.00595238 0.         0.\n",
      "  0.         0.         0.         0.         0.         0.\n",
      "  0.         0.         0.         0.        ]\n",
      " [0.         0.         0.         0.         0.11904762 0.\n",
      "  0.         0.         0.         0.         0.         0.\n",
      "  0.         0.         0.         0.        ]\n",
      " [0.         0.         0.         0.         0.         0.11904762\n",
      "  0.         0.         0.         0.         0.         0.\n",
      "  0.         0.         0.         0.        ]\n",
      " [0.         0.         0.         0.         0.         0.\n",
      "  0.00595238 0.         0.         0.         0.         0.\n",
      "  0.         0.         0.         0.        ]\n",
      " [0.         0.         0.         0.         0.         0.\n",
      "  0.         0.00595238 0.         0.         0.         0.\n",
      "  0.         0.         0.         0.        ]\n",
      " [0.         0.         0.         0.         0.         0.\n",
      "  0.         0.         0.11904762 0.         0.         0.\n",
      "  0.         0.         0.         0.        ]\n",
      " [0.         0.         0.         0.         0.         0.\n",
      "  0.         0.         0.         0.11904762 0.         0.\n",
      "  0.         0.         0.         0.        ]\n",
      " [0.         0.         0.         0.         0.         0.\n",
      "  0.         0.         0.         0.         0.00595238 0.\n",
      "  0.         0.         0.         0.        ]\n",
      " [0.         0.         0.         0.         0.         0.\n",
      "  0.         0.         0.         0.         0.         0.00595238\n",
      "  0.         0.         0.         0.        ]\n",
      " [0.         0.         0.         0.         0.         0.\n",
      "  0.         0.         0.         0.         0.         0.\n",
      "  0.11904762 0.         0.         0.        ]\n",
      " [0.         0.         0.         0.         0.         0.\n",
      "  0.         0.         0.         0.         0.         0.\n",
      "  0.         0.11904762 0.         0.        ]\n",
      " [0.         0.         0.         0.         0.         0.\n",
      "  0.         0.         0.         0.         0.         0.\n",
      "  0.         0.         0.00595238 0.        ]\n",
      " [0.         0.         0.         0.         0.         0.\n",
      "  0.         0.         0.         0.         0.         0.\n",
      "  0.         0.         0.         0.00595238]]\n"
     ]
    },
    {
     "data": {
      "image/png": "[encoded data removed]",
      "text/plain": [
       "<Figure size 432x288 with 1 Axes>"
      ]
     },
     "metadata": {
      "needs_background": "light"
     },
     "output_type": "display_data"
    },
    {
     "name": "stdout",
     "output_type": "stream",
     "text": [
      "arg q-func : \n",
      "[[0.981079]]\n",
      "random\n",
      "beta 0.771320643266746\n",
      "random\n",
      "beta 0.0207519493594015\n",
      "random\n",
      "beta 0.6336482349262754\n",
      "random\n",
      "beta 0.7488038825386119\n",
      "random\n",
      "beta 0.4985070123025904\n",
      "random\n",
      "beta 0.22479664553084766\n",
      "random\n",
      "beta 0.19806286475962398\n",
      "random\n",
      "beta 0.7605307121989587\n",
      "random\n",
      "beta 0.16911083656253545\n",
      "task 1 empirical mean = -0.05101151671608839\n",
      "task 1 empirical mean = -0.1685920178688018\n",
      "task 1 empirical mean = 0.03963968183321687\n",
      "task 1 empirical mean = 0.025913976930101168\n",
      "task 1 empirical mean = -0.04280576502257588\n",
      "task 1 empirical mean = -0.017713268389584813\n",
      "task 1 empirical mean = 0.020810101033053877\n",
      "task 1 empirical mean = 0.14197243830540557\n",
      "task 1 empirical mean = 0.010513175950733977\n",
      "task 1 empirical mean = 0.03297791622761381\n",
      "MM_gathered : \n",
      "  0.966294    -1.02803   0.760029   -1.02895    0.107645  -0.0591596   0.773973  -0.739651   0.740781  -0.802561   0.432282  -0.441904   0.311772  -0.228704   0.433141  -0.164405   0.765777  -0.773855   0.317833  -0.300786  \n",
      "  -1.02803     1.15724  -0.709761    1.04108  -0.0498879  -0.0481287  -0.838802   0.791798  -0.724076   0.817653   -0.35953   0.483057  -0.251151   0.183502  -0.387027  0.0663466  -0.801157    0.77871  -0.248338   0.157641  \n",
      "  0.760029   -0.709761    1.28922   -1.21604    0.847901   -0.991683    1.17581  -0.501109    1.16579   -1.12139    1.13622   -1.15153   0.966728  -0.995652    0.78396  -0.760696    1.06127   -1.14739    1.28293   -1.02659  \n",
      "  -1.02895     1.04108   -1.21604    1.17272   -0.500232    0.568762   -1.01578   0.994008   -1.05599     1.0656   -1.05352   0.964445  -0.656682   0.551001   -1.04711   0.762324   -1.06405    1.09544  -0.474129   0.538955  \n",
      "  0.107645  -0.0498879   0.847901  -0.500232    0.896748    -0.97198   0.713891  -0.651659   0.730984  -0.738688   0.840778  -0.677116   0.899904  -0.915325     1.0092  -0.867783   0.670315   -0.70044   0.982809  -0.888478  \n",
      "-0.0591596  -0.0481287  -0.991683   0.568762    -0.97198     1.05391  -0.761442   0.602214  -0.728849   0.712382  -0.836339   0.625409  -0.955437   0.959462   -1.07361   0.933838  -0.654592   0.694604   -1.03017   0.885232  \n",
      "  0.773973   -0.838802    1.17581   -1.01578    0.713891   -0.761442    0.96289  -0.841908    1.05965   -1.11158   0.761883  -0.939268   0.947034  -0.879271   0.810368  -0.617378    1.04498   -1.08956   0.940932  -0.890535  \n",
      " -0.739651    0.791798  -0.501109   0.994008   -0.651659    0.602214  -0.841908    1.06104  -0.905117    1.03951  -0.452006   0.538614  -0.749207   0.791807   -1.17819   0.609994  -0.985563    1.00505  -0.771392    0.99317  \n",
      "  0.740781   -0.724076    1.16579   -1.05599    0.730984   -0.728849    1.05965  -0.905117    1.01195   -1.04748   0.888843  -0.811619   0.854516   -0.81226   0.959492  -0.763524    1.00743   -1.01221   0.901659  -0.839543  \n",
      " -0.802561    0.817653   -1.12139     1.0656   -0.738688    0.712382   -1.11158    1.03951   -1.04748    1.15417  -0.830172    0.82165  -0.841542   0.825082  -0.979423   0.697148   -1.06399    1.07593  -0.937514   0.750674  \n",
      "  0.432282    -0.35953    1.13622   -1.05352    0.840778   -0.836339   0.761883  -0.452006   0.888843  -0.830172    0.83468  -0.857842    0.85647  -0.808266   0.787243  -0.904748   0.930675  -0.796923    1.12112   -0.59923  \n",
      " -0.441904    0.483057   -1.15153   0.964445   -0.677116    0.625409  -0.939268   0.538614  -0.811619    0.82165  -0.857842     0.3799  -0.743867   0.733792   -1.00208   0.450878  -0.727359   0.823531  -0.796324   0.701178  \n",
      "  0.311772   -0.251151   0.966728  -0.656682    0.899904   -0.955437   0.947034  -0.749207   0.854516  -0.841542    0.85647  -0.743867   0.940728  -0.946035    1.08144  -0.800451   0.798921  -0.838479    1.10361  -0.885173  \n",
      " -0.228704    0.183502  -0.995652   0.551001   -0.915325    0.959462  -0.879271   0.791807   -0.81226   0.825082  -0.808266   0.733792  -0.946035   0.922612   -1.09199   0.783791  -0.772754    0.79844   -1.06104   0.843028  \n",
      "  0.433141   -0.387027    0.78396   -1.04711      1.0092    -1.07361   0.810368   -1.17819   0.959492  -0.979423   0.787243   -1.00208    1.08144   -1.09199   0.977381   -0.71145   0.933187  -0.924145     1.0695   -1.17239  \n",
      " -0.164405   0.0663466  -0.760696   0.762324   -0.867783    0.933838  -0.617378   0.609994  -0.763524   0.697148  -0.904748   0.450878  -0.800451   0.783791   -0.71145   0.897205  -0.618039   0.675539  -0.999557   0.639627  \n",
      "  0.765777   -0.801157    1.06127   -1.06405    0.670315   -0.654592    1.04498  -0.985563    1.00743   -1.06399   0.930675  -0.727359   0.798921  -0.772754   0.933187  -0.618039   0.994275    -1.0037   0.899884  -0.730043  \n",
      " -0.773855     0.77871   -1.14739    1.09544    -0.70044    0.694604   -1.08956    1.00505   -1.01221    1.07593  -0.796923   0.823531  -0.838479    0.79844  -0.924145   0.675539    -1.0037    1.02042  -0.890181   0.717296  \n",
      "  0.317833   -0.248338    1.28293  -0.474129    0.982809    -1.03017   0.940932  -0.771392   0.901659  -0.937514    1.12112  -0.796324    1.10361   -1.06104     1.0695  -0.999557   0.899884  -0.890181    1.13436  -0.851077  \n",
      " -0.300786    0.157641   -1.02659   0.538955   -0.888478    0.885232  -0.890535    0.99317  -0.839543   0.750674   -0.59923   0.701178  -0.885173   0.843028   -1.17239   0.639627  -0.730043   0.717296  -0.851077    0.38161  \n"
     ]
    },
    {
     "data": {
      "image/png": "[encoded data removed]",
      "text/plain": [
       "<Figure size 432x288 with 1 Axes>"
      ]
     },
     "metadata": {
      "needs_background": "light"
     },
     "output_type": "display_data"
    },
    {
     "name": "stdout",
     "output_type": "stream",
     "text": [
      "  8.03357  \n",
      " -7.87021  \n",
      " -56.8041  \n",
      "  35.8228  \n",
      " -9.19173  \n",
      " -24.4047  \n",
      " -24.7961  \n",
      "  55.2639  \n",
      "  5.86326  \n",
      "  5.12995  \n",
      "   46.074  \n",
      " -75.2094  \n",
      " -12.1781  \n",
      " -1.38349  \n",
      " -25.8587  \n",
      " -5.86495  \n",
      "-0.443908  \n",
      " -12.3179  \n",
      "  3.45371  \n",
      "   -35.84  \n",
      "[[0.0952381 0.        0.        0.        0.        0.        0.\n",
      "  0.        0.        0.        0.        0.        0.        0.\n",
      "  0.        0.        0.        0.        0.        0.       ]\n",
      " [0.        0.0952381 0.        0.        0.        0.        0.\n",
      "  0.        0.        0.        0.        0.        0.        0.\n",
      "  0.        0.        0.        0.        0.        0.       ]\n",
      " [0.        0.        0.0047619 0.        0.        0.        0.\n",
      "  0.        0.        0.        0.        0.        0.        0.\n",
      "  0.        0.        0.        0.        0.        0.       ]\n",
      " [0.        0.        0.        0.0047619 0.        0.        0.\n",
      "  0.        0.        0.        0.        0.        0.        0.\n",
      "  0.        0.        0.        0.        0.        0.       ]\n",
      " [0.        0.        0.        0.        0.0952381 0.        0.\n",
      "  0.        0.        0.        0.        0.        0.        0.\n",
      "  0.        0.        0.        0.        0.        0.       ]\n",
      " [0.        0.        0.        0.        0.        0.0952381 0.\n",
      "  0.        0.        0.        0.        0.        0.        0.\n",
      "  0.        0.        0.        0.        0.        0.       ]\n",
      " [0.        0.        0.        0.        0.        0.        0.0047619\n",
      "  0.        0.        0.        0.        0.        0.        0.\n",
      "  0.        0.        0.        0.        0.        0.       ]\n",
      " [0.        0.        0.        0.        0.        0.        0.\n",
      "  0.0047619 0.        0.        0.        0.        0.        0.\n",
      "  0.        0.        0.        0.        0.        0.       ]\n",
      " [0.        0.        0.        0.        0.        0.        0.\n",
      "  0.        0.0952381 0.        0.        0.        0.        0.\n",
      "  0.        0.        0.        0.        0.        0.       ]\n",
      " [0.        0.        0.        0.        0.        0.        0.\n",
      "  0.        0.        0.0952381 0.        0.        0.        0.\n",
      "  0.        0.        0.        0.        0.        0.       ]\n",
      " [0.        0.        0.        0.        0.        0.        0.\n",
      "  0.        0.        0.        0.0047619 0.        0.        0.\n",
      "  0.        0.        0.        0.        0.        0.       ]\n",
      " [0.        0.        0.        0.        0.        0.        0.\n",
      "  0.        0.        0.        0.        0.0047619 0.        0.\n",
      "  0.        0.        0.        0.        0.        0.       ]\n",
      " [0.        0.        0.        0.        0.        0.        0.\n",
      "  0.        0.        0.        0.        0.        0.0952381 0.\n",
      "  0.        0.        0.        0.        0.        0.       ]\n",
      " [0.        0.        0.        0.        0.        0.        0.\n",
      "  0.        0.        0.        0.        0.        0.        0.0952381\n",
      "  0.        0.        0.        0.        0.        0.       ]\n",
      " [0.        0.        0.        0.        0.        0.        0.\n",
      "  0.        0.        0.        0.        0.        0.        0.\n",
      "  0.0047619 0.        0.        0.        0.        0.       ]\n",
      " [0.        0.        0.        0.        0.        0.        0.\n",
      "  0.        0.        0.        0.        0.        0.        0.\n",
      "  0.        0.0047619 0.        0.        0.        0.       ]\n",
      " [0.        0.        0.        0.        0.        0.        0.\n",
      "  0.        0.        0.        0.        0.        0.        0.\n",
      "  0.        0.        0.0952381 0.        0.        0.       ]\n",
      " [0.        0.        0.        0.        0.        0.        0.\n",
      "  0.        0.        0.        0.        0.        0.        0.\n",
      "  0.        0.        0.        0.0952381 0.        0.       ]\n",
      " [0.        0.        0.        0.        0.        0.        0.\n",
      "  0.        0.        0.        0.        0.        0.        0.\n",
      "  0.        0.        0.        0.        0.0047619 0.       ]\n",
      " [0.        0.        0.        0.        0.        0.        0.\n",
      "  0.        0.        0.        0.        0.        0.        0.\n",
      "  0.        0.        0.        0.        0.        0.0047619]]\n"
     ]
    },
    {
     "data": {
      "image/png": "[encoded data removed]",
      "text/plain": [
       "<Figure size 432x288 with 1 Axes>"
      ]
     },
     "metadata": {
      "needs_background": "light"
     },
     "output_type": "display_data"
    },
    {
     "name": "stdout",
     "output_type": "stream",
     "text": [
      "arg q-func : \n",
      "[[0.98626563]]\n",
      "random\n",
      "beta 0.771320643266746\n",
      "random\n",
      "beta 0.0207519493594015\n",
      "random\n",
      "beta 0.6336482349262754\n",
      "random\n",
      "beta 0.7488038825386119\n",
      "random\n",
      "beta 0.4985070123025904\n",
      "random\n",
      "beta 0.22479664553084766\n",
      "random\n",
      "beta 0.19806286475962398\n",
      "random\n",
      "beta 0.7605307121989587\n",
      "random\n",
      "beta 0.16911083656253545\n",
      "random\n",
      "beta 0.08833981417401027\n",
      "random\n",
      "beta 0.6853598183677972\n",
      "task 1 empirical mean = -0.05101151671608839\n",
      "task 1 empirical mean = -0.1685920178688018\n",
      "task 1 empirical mean = 0.03963968183321687\n",
      "task 1 empirical mean = 0.025913976930101168\n",
      "task 1 empirical mean = -0.04280576502257588\n",
      "task 1 empirical mean = -0.017713268389584813\n",
      "task 1 empirical mean = 0.020810101033053877\n",
      "task 1 empirical mean = 0.14197243830540557\n",
      "task 1 empirical mean = 0.010513175950733977\n",
      "task 1 empirical mean = 0.03297791622761381\n",
      "task 1 empirical mean = 0.0302281783401204\n",
      "task 1 empirical mean = -0.14058510448002937\n",
      "MM_gathered : \n",
      "  0.966294     -1.02803   0.760029   -1.02895    0.107645  -0.0591596   0.773973  -0.739651   0.740781  -0.802561   0.432282  -0.441904   0.311772  -0.228704   0.433141  -0.164405   0.765777  -0.773855   0.317833  -0.300786    0.136786   -0.0706709   0.659126  -0.915232  \n",
      "  -1.02803      1.15724  -0.709761    1.04108  -0.0498879  -0.0481287  -0.838802   0.791798  -0.724076   0.817653   -0.35953   0.483057  -0.251151   0.183502  -0.387027  0.0663466  -0.801157    0.77871  -0.248338   0.157641  -0.0650698  -0.00324887   -0.77166    1.02521  \n",
      "  0.760029    -0.709761    1.28922   -1.21604    0.847901   -0.991683    1.17581  -0.501109    1.16579   -1.12139    1.13622   -1.15153   0.966728  -0.995652    0.78396  -0.760696    1.06127   -1.14739    1.28293   -1.02659    0.836086    -0.844738    1.43206   -1.44604  \n",
      "  -1.02895      1.04108   -1.21604    1.17272   -0.500232    0.568762   -1.01578   0.994008   -1.05599     1.0656   -1.05352   0.964445  -0.656682   0.551001   -1.04711   0.762324   -1.06405    1.09544  -0.474129   0.538955   -0.611959     0.537043   -1.04763    1.47931  \n",
      "  0.107645   -0.0498879   0.847901  -0.500232    0.896748    -0.97198   0.713891  -0.651659   0.730984  -0.738688   0.840778  -0.677116   0.899904  -0.915325     1.0092  -0.867783   0.670315   -0.70044   0.982809  -0.888478    0.943416     -0.99066   0.892242  -0.707556  \n",
      "-0.0591596   -0.0481287  -0.991683   0.568762    -0.97198     1.05391  -0.761442   0.602214  -0.728849   0.712382  -0.836339   0.625409  -0.955437   0.959462   -1.07361   0.933838  -0.654592   0.694604   -1.03017   0.885232    -1.00005      1.02887   -1.09385   0.783677  \n",
      "  0.773973    -0.838802    1.17581   -1.01578    0.713891   -0.761442    0.96289  -0.841908    1.05965   -1.11158   0.761883  -0.939268   0.947034  -0.879271   0.810368  -0.617378    1.04498   -1.08956   0.940932  -0.890535    0.791096     -0.78833    1.35709   -1.27891  \n",
      " -0.739651     0.791798  -0.501109   0.994008   -0.651659    0.602214  -0.841908    1.06104  -0.905117    1.03951  -0.452006   0.538614  -0.749207   0.791807   -1.17819   0.609994  -0.985563    1.00505  -0.771392    0.99317   -0.644734     0.637818   -1.12855    1.14408  \n",
      "  0.740781    -0.724076    1.16579   -1.05599    0.730984   -0.728849    1.05965  -0.905117    1.01195   -1.04748   0.888843  -0.811619   0.854516   -0.81226   0.959492  -0.763524    1.00743   -1.01221   0.901659  -0.839543    0.758067    -0.739884    1.20845   -1.19313  \n",
      " -0.802561     0.817653   -1.12139     1.0656   -0.738688    0.712382   -1.11158    1.03951   -1.04748    1.15417  -0.830172    0.82165  -0.841542   0.825082  -0.979423   0.697148   -1.06399    1.07593  -0.937514   0.750674   -0.752745     0.733206   -1.20917    1.27217  \n",
      "  0.432282     -0.35953    1.13622   -1.05352    0.840778   -0.836339   0.761883  -0.452006   0.888843  -0.830172    0.83468  -0.857842    0.85647  -0.808266   0.787243  -0.904748   0.930675  -0.796923    1.12112   -0.59923    0.799074    -0.907867      1.002   -1.15107  \n",
      " -0.441904     0.483057   -1.15153   0.964445   -0.677116    0.625409  -0.939268   0.538614  -0.811619    0.82165  -0.857842     0.3799  -0.743867   0.733792   -1.00208   0.450878  -0.727359   0.823531  -0.796324   0.701178   -0.744761     0.763914   -1.00517    0.74637  \n",
      "  0.311772    -0.251151   0.966728  -0.656682    0.899904   -0.955437   0.947034  -0.749207   0.854516  -0.841542    0.85647  -0.743867   0.940728  -0.946035    1.08144  -0.800451   0.798921  -0.838479    1.10361  -0.885173    0.965872    -0.983934    1.16182  -0.989272  \n",
      " -0.228704     0.183502  -0.995652   0.551001   -0.915325    0.959462  -0.879271   0.791807   -0.81226   0.825082  -0.808266   0.733792  -0.946035   0.922612   -1.09199   0.783791  -0.772754    0.79844   -1.06104   0.843028   -0.953825     0.982825   -1.15023   0.898143  \n",
      "  0.433141    -0.387027    0.78396   -1.04711      1.0092    -1.07361   0.810368   -1.17819   0.959492  -0.979423   0.787243   -1.00208    1.08144   -1.09199   0.977381   -0.71145   0.933187  -0.924145     1.0695   -1.17239     1.14918     -1.12417    1.07175   -1.14998  \n",
      " -0.164405    0.0663466  -0.760696   0.762324   -0.867783    0.933838  -0.617378   0.609994  -0.763524   0.697148  -0.904748   0.450878  -0.800451   0.783791   -0.71145   0.897205  -0.618039   0.675539  -0.999557   0.639627   -0.815442     0.909132  -0.920034   0.600598  \n",
      "  0.765777    -0.801157    1.06127   -1.06405    0.670315   -0.654592    1.04498  -0.985563    1.00743   -1.06399   0.930675  -0.727359   0.798921  -0.772754   0.933187  -0.618039   0.994275    -1.0037   0.899884  -0.730043    0.712045    -0.677388    1.25006   -1.16416  \n",
      " -0.773855      0.77871   -1.14739    1.09544    -0.70044    0.694604   -1.08956    1.00505   -1.01221    1.07593  -0.796923   0.823531  -0.838479    0.79844  -0.924145   0.675539    -1.0037    1.02042  -0.890181   0.717296   -0.735155     0.697136    -1.1308    1.25998  \n",
      "  0.317833    -0.248338    1.28293  -0.474129    0.982809    -1.03017   0.940932  -0.771392   0.901659  -0.937514    1.12112  -0.796324    1.10361   -1.06104     1.0695  -0.999557   0.899884  -0.890181    1.13436  -0.851077     0.96735     -1.05893     1.2483   -1.03887  \n",
      " -0.300786     0.157641   -1.02659   0.538955   -0.888478    0.885232  -0.890535    0.99317  -0.839543   0.750674   -0.59923   0.701178  -0.885173   0.843028   -1.17239   0.639627  -0.730043   0.717296  -0.851077    0.38161   -0.950735     0.821928  -0.835018   0.931182  \n",
      "  0.136786   -0.0650698   0.836086  -0.611959    0.943416    -1.00005   0.791096  -0.644734   0.758067  -0.752745   0.799074  -0.744761   0.965872  -0.953825    1.14918  -0.815442   0.712045  -0.735155    0.96735  -0.950735    0.967527    -0.999512    1.01959  -0.778594  \n",
      "-0.0706709  -0.00324887  -0.844738   0.537043    -0.99066     1.02887   -0.78833   0.637818  -0.739884   0.733206  -0.907867   0.763914  -0.983934   0.982825   -1.12417   0.909132  -0.677388   0.697136   -1.05893   0.821928   -0.999512      1.05682   -1.04993   0.796146  \n",
      "  0.659126     -0.77166    1.43206   -1.04763    0.892242    -1.09385    1.35709   -1.12855    1.20845   -1.20917      1.002   -1.00517    1.16182   -1.15023    1.07175  -0.920034    1.25006    -1.1308     1.2483  -0.835018     1.01959     -1.04993    2.10485   -1.56829  \n",
      " -0.915232      1.02521   -1.44604    1.47931   -0.707556    0.783677   -1.27891    1.14408   -1.19313    1.27217   -1.15107    0.74637  -0.989272   0.898143   -1.14998   0.600598   -1.16416    1.25998   -1.03887   0.931182   -0.778594     0.796146   -1.56829    1.29414  \n"
     ]
    },
    {
     "data": {
      "image/png": "[encoded data removed]",
      "text/plain": [
       "<Figure size 432x288 with 1 Axes>"
      ]
     },
     "metadata": {
      "needs_background": "light"
     },
     "output_type": "display_data"
    },
    {
     "name": "stdout",
     "output_type": "stream",
     "text": [
      "  11.3533  \n",
      " -8.80707  \n",
      " -69.8318  \n",
      "  53.5548  \n",
      "    -11.4  \n",
      " -29.8396  \n",
      " -30.0606  \n",
      "  65.0113  \n",
      "   6.6088  \n",
      "  7.85756  \n",
      "   40.366  \n",
      " -99.7311  \n",
      " -17.4967  \n",
      "-0.682041  \n",
      " -40.8276  \n",
      "  -10.078  \n",
      "  2.19982  \n",
      " -12.5794  \n",
      "  4.04859  \n",
      " -36.5983  \n",
      " 0.647789  \n",
      " -4.11638  \n",
      " -21.0696  \n",
      " -55.4016  \n",
      "[[0.07936508 0.         0.         0.         0.         0.\n",
      "  0.         0.         0.         0.         0.         0.\n",
      "  0.         0.         0.         0.         0.         0.\n",
      "  0.         0.         0.         0.         0.         0.        ]\n",
      " [0.         0.07936508 0.         0.         0.         0.\n",
      "  0.         0.         0.         0.         0.         0.\n",
      "  0.         0.         0.         0.         0.         0.\n",
      "  0.         0.         0.         0.         0.         0.        ]\n",
      " [0.         0.         0.00396825 0.         0.         0.\n",
      "  0.         0.         0.         0.         0.         0.\n",
      "  0.         0.         0.         0.         0.         0.\n",
      "  0.         0.         0.         0.         0.         0.        ]\n",
      " [0.         0.         0.         0.00396825 0.         0.\n",
      "  0.         0.         0.         0.         0.         0.\n",
      "  0.         0.         0.         0.         0.         0.\n",
      "  0.         0.         0.         0.         0.         0.        ]\n",
      " [0.         0.         0.         0.         0.07936508 0.\n",
      "  0.         0.         0.         0.         0.         0.\n",
      "  0.         0.         0.         0.         0.         0.\n",
      "  0.         0.         0.         0.         0.         0.        ]\n",
      " [0.         0.         0.         0.         0.         0.07936508\n",
      "  0.         0.         0.         0.         0.         0.\n",
      "  0.         0.         0.         0.         0.         0.\n",
      "  0.         0.         0.         0.         0.         0.        ]\n",
      " [0.         0.         0.         0.         0.         0.\n",
      "  0.00396825 0.         0.         0.         0.         0.\n",
      "  0.         0.         0.         0.         0.         0.\n",
      "  0.         0.         0.         0.         0.         0.        ]\n",
      " [0.         0.         0.         0.         0.         0.\n",
      "  0.         0.00396825 0.         0.         0.         0.\n",
      "  0.         0.         0.         0.         0.         0.\n",
      "  0.         0.         0.         0.         0.         0.        ]\n",
      " [0.         0.         0.         0.         0.         0.\n",
      "  0.         0.         0.07936508 0.         0.         0.\n",
      "  0.         0.         0.         0.         0.         0.\n",
      "  0.         0.         0.         0.         0.         0.        ]\n",
      " [0.         0.         0.         0.         0.         0.\n",
      "  0.         0.         0.         0.07936508 0.         0.\n",
      "  0.         0.         0.         0.         0.         0.\n",
      "  0.         0.         0.         0.         0.         0.        ]\n",
      " [0.         0.         0.         0.         0.         0.\n",
      "  0.         0.         0.         0.         0.00396825 0.\n",
      "  0.         0.         0.         0.         0.         0.\n",
      "  0.         0.         0.         0.         0.         0.        ]\n",
      " [0.         0.         0.         0.         0.         0.\n",
      "  0.         0.         0.         0.         0.         0.00396825\n",
      "  0.         0.         0.         0.         0.         0.\n",
      "  0.         0.         0.         0.         0.         0.        ]\n",
      " [0.         0.         0.         0.         0.         0.\n",
      "  0.         0.         0.         0.         0.         0.\n",
      "  0.07936508 0.         0.         0.         0.         0.\n",
      "  0.         0.         0.         0.         0.         0.        ]\n",
      " [0.         0.         0.         0.         0.         0.\n",
      "  0.         0.         0.         0.         0.         0.\n",
      "  0.         0.07936508 0.         0.         0.         0.\n",
      "  0.         0.         0.         0.         0.         0.        ]\n",
      " [0.         0.         0.         0.         0.         0.\n",
      "  0.         0.         0.         0.         0.         0.\n",
      "  0.         0.         0.00396825 0.         0.         0.\n",
      "  0.         0.         0.         0.         0.         0.        ]\n",
      " [0.         0.         0.         0.         0.         0.\n",
      "  0.         0.         0.         0.         0.         0.\n",
      "  0.         0.         0.         0.00396825 0.         0.\n",
      "  0.         0.         0.         0.         0.         0.        ]\n",
      " [0.         0.         0.         0.         0.         0.\n",
      "  0.         0.         0.         0.         0.         0.\n",
      "  0.         0.         0.         0.         0.07936508 0.\n",
      "  0.         0.         0.         0.         0.         0.        ]\n",
      " [0.         0.         0.         0.         0.         0.\n",
      "  0.         0.         0.         0.         0.         0.\n",
      "  0.         0.         0.         0.         0.         0.07936508\n",
      "  0.         0.         0.         0.         0.         0.        ]\n",
      " [0.         0.         0.         0.         0.         0.\n",
      "  0.         0.         0.         0.         0.         0.\n",
      "  0.         0.         0.         0.         0.         0.\n",
      "  0.00396825 0.         0.         0.         0.         0.        ]\n",
      " [0.         0.         0.         0.         0.         0.\n",
      "  0.         0.         0.         0.         0.         0.\n",
      "  0.         0.         0.         0.         0.         0.\n",
      "  0.         0.00396825 0.         0.         0.         0.        ]\n",
      " [0.         0.         0.         0.         0.         0.\n",
      "  0.         0.         0.         0.         0.         0.\n",
      "  0.         0.         0.         0.         0.         0.\n",
      "  0.         0.         0.07936508 0.         0.         0.        ]\n",
      " [0.         0.         0.         0.         0.         0.\n",
      "  0.         0.         0.         0.         0.         0.\n",
      "  0.         0.         0.         0.         0.         0.\n",
      "  0.         0.         0.         0.07936508 0.         0.        ]\n",
      " [0.         0.         0.         0.         0.         0.\n",
      "  0.         0.         0.         0.         0.         0.\n",
      "  0.         0.         0.         0.         0.         0.\n",
      "  0.         0.         0.         0.         0.00396825 0.        ]\n",
      " [0.         0.         0.         0.         0.         0.\n",
      "  0.         0.         0.         0.         0.         0.\n",
      "  0.         0.         0.         0.         0.         0.\n",
      "  0.         0.         0.         0.         0.         0.00396825]]\n"
     ]
    },
    {
     "data": {
      "image/png": "[encoded data removed]",
      "text/plain": [
       "<Figure size 432x288 with 1 Axes>"
      ]
     },
     "metadata": {
      "needs_background": "light"
     },
     "output_type": "display_data"
    },
    {
     "name": "stdout",
     "output_type": "stream",
     "text": [
      "arg q-func : \n",
      "[[0.98684951]]\n",
      "random\n",
      "beta 0.771320643266746\n",
      "random\n",
      "beta 0.0207519493594015\n",
      "random\n",
      "beta 0.6336482349262754\n",
      "random\n",
      "beta 0.7488038825386119\n",
      "random\n",
      "beta 0.4985070123025904\n",
      "random\n",
      "beta 0.22479664553084766\n",
      "random\n",
      "beta 0.19806286475962398\n",
      "random\n",
      "beta 0.7605307121989587\n",
      "random\n",
      "beta 0.16911083656253545\n",
      "random\n",
      "beta 0.08833981417401027\n",
      "random\n",
      "beta 0.6853598183677972\n",
      "random\n",
      "beta 0.9533933461949365\n",
      "random\n",
      "beta 0.003948266327914451\n",
      "task 1 empirical mean = -0.05101151671608839\n",
      "task 1 empirical mean = -0.1685920178688018\n",
      "task 1 empirical mean = 0.03963968183321687\n",
      "task 1 empirical mean = 0.025913976930101168\n",
      "task 1 empirical mean = -0.04280576502257588\n",
      "task 1 empirical mean = -0.017713268389584813\n",
      "task 1 empirical mean = 0.020810101033053877\n",
      "task 1 empirical mean = 0.14197243830540557\n",
      "task 1 empirical mean = 0.010513175950733977\n",
      "task 1 empirical mean = 0.03297791622761381\n",
      "task 1 empirical mean = 0.0302281783401204\n",
      "task 1 empirical mean = -0.14058510448002937\n",
      "task 1 empirical mean = 0.0040816544338293514\n",
      "task 1 empirical mean = -0.1551361156837205\n",
      "MM_gathered : \n",
      "  0.966294     -1.02803   0.760029   -1.02895    0.107645  -0.0591596   0.773973  -0.739651   0.740781  -0.802561   0.432282  -0.441904   0.311772  -0.228704   0.433141  -0.164405   0.765777  -0.773855   0.317833  -0.300786    0.136786   -0.0706709   0.659126  -0.915232   0.930096  -0.949438  -0.0767211  -0.208039  \n",
      "  -1.02803      1.15724  -0.709761    1.04108  -0.0498879  -0.0481287  -0.838802   0.791798  -0.724076   0.817653   -0.35953   0.483057  -0.251151   0.183502  -0.387027  0.0663466  -0.801157    0.77871  -0.248338   0.157641  -0.0650698  -0.00324887   -0.77166    1.02521    -1.0174    1.01692     0.12244  0.0738754  \n",
      "  0.760029    -0.709761    1.28922   -1.21604    0.847901   -0.991683    1.17581  -0.501109    1.16579   -1.12139    1.13622   -1.15153   0.966728  -0.995652    0.78396  -0.760696    1.06127   -1.14739    1.28293   -1.02659    0.836086    -0.844738    1.43206   -1.44604   0.851651  -0.897228    0.890948   -1.51924  \n",
      "  -1.02895      1.04108   -1.21604    1.17272   -0.500232    0.568762   -1.01578   0.994008   -1.05599     1.0656   -1.05352   0.964445  -0.656682   0.551001   -1.04711   0.762324   -1.06405    1.09544  -0.474129   0.538955   -0.611959     0.537043   -1.04763    1.47931   -1.02523     1.0773   -0.364253   0.416474  \n",
      "  0.107645   -0.0498879   0.847901  -0.500232    0.896748    -0.97198   0.713891  -0.651659   0.730984  -0.738688   0.840778  -0.677116   0.899904  -0.915325     1.0092  -0.867783   0.670315   -0.70044   0.982809  -0.888478    0.943416     -0.99066   0.892242  -0.707556   0.370481  -0.344911    0.794018  -0.955663  \n",
      "-0.0591596   -0.0481287  -0.991683   0.568762    -0.97198     1.05391  -0.761442   0.602214  -0.728849   0.712382  -0.836339   0.625409  -0.955437   0.959462   -1.07361   0.933838  -0.654592   0.694604   -1.03017   0.885232    -1.00005      1.02887   -1.09385   0.783677  -0.312224   0.283979   -0.845225   0.953094  \n",
      "  0.773973    -0.838802    1.17581   -1.01578    0.713891   -0.761442    0.96289  -0.841908    1.05965   -1.11158   0.761883  -0.939268   0.947034  -0.879271   0.810368  -0.617378    1.04498   -1.08956   0.940932  -0.890535    0.791096     -0.78833    1.35709   -1.27891    1.05871  -0.904334    0.525017   -1.09103  \n",
      " -0.739651     0.791798  -0.501109   0.994008   -0.651659    0.602214  -0.841908    1.06104  -0.905117    1.03951  -0.452006   0.538614  -0.749207   0.791807   -1.17819   0.609994  -0.985563    1.00505  -0.771392    0.99317   -0.644734     0.637818   -1.12855    1.14408  -0.911589   0.864449   0.0400345   0.453804  \n",
      "  0.740781    -0.724076    1.16579   -1.05599    0.730984   -0.728849    1.05965  -0.905117    1.01195   -1.04748   0.888843  -0.811619   0.854516   -0.81226   0.959492  -0.763524    1.00743   -1.01221   0.901659  -0.839543    0.758067    -0.739884    1.20845   -1.19313   0.909502   -0.89185    0.459284  -0.830554  \n",
      " -0.802561     0.817653   -1.12139     1.0656   -0.738688    0.712382   -1.11158    1.03951   -1.04748    1.15417  -0.830172    0.82165  -0.841542   0.825082  -0.979423   0.697148   -1.06399    1.07593  -0.937514   0.750674   -0.752745     0.733206   -1.20917    1.27217  -0.995845   0.958598   -0.432442   0.768807  \n",
      "  0.432282     -0.35953    1.13622   -1.05352    0.840778   -0.836339   0.761883  -0.452006   0.888843  -0.830172    0.83468  -0.857842    0.85647  -0.808266   0.787243  -0.904748   0.930675  -0.796923    1.12112   -0.59923    0.799074    -0.907867      1.002   -1.15107   0.691966  -0.727813    0.800818   -0.60371  \n",
      " -0.441904     0.483057   -1.15153   0.964445   -0.677116    0.625409  -0.939268   0.538614  -0.811619    0.82165  -0.857842     0.3799  -0.743867   0.733792   -1.00208   0.450878  -0.727359   0.823531  -0.796324   0.701178   -0.744761     0.763914   -1.00517    0.74637  -0.756169   0.688452   -0.569319   0.888702  \n",
      "  0.311772    -0.251151   0.966728  -0.656682    0.899904   -0.955437   0.947034  -0.749207   0.854516  -0.841542    0.85647  -0.743867   0.940728  -0.946035    1.08144  -0.800451   0.798921  -0.838479    1.10361  -0.885173    0.965872    -0.983934    1.16182  -0.989272   0.534263  -0.513166    0.761951  -0.961391  \n",
      " -0.228704     0.183502  -0.995652   0.551001   -0.915325    0.959462  -0.879271   0.791807   -0.81226   0.825082  -0.808266   0.733792  -0.946035   0.922612   -1.09199   0.783791  -0.772754    0.79844   -1.06104   0.843028   -0.953825     0.982825   -1.15023   0.898143  -0.499393   0.492183   -0.740842    1.01883  \n",
      "  0.433141    -0.387027    0.78396   -1.04711      1.0092    -1.07361   0.810368   -1.17819   0.959492  -0.979423   0.787243   -1.00208    1.08144   -1.09199   0.977381   -0.71145   0.933187  -0.924145     1.0695   -1.17239     1.14918     -1.12417    1.07175   -1.14998   0.674918  -0.650642    0.866846   -1.01998  \n",
      " -0.164405    0.0663466  -0.760696   0.762324   -0.867783    0.933838  -0.617378   0.609994  -0.763524   0.697148  -0.904748   0.450878  -0.800451   0.783791   -0.71145   0.897205  -0.618039   0.675539  -0.999557   0.639627   -0.815442     0.909132  -0.920034   0.600598  -0.347778   0.230591   -0.738265    0.87803  \n",
      "  0.765777    -0.801157    1.06127   -1.06405    0.670315   -0.654592    1.04498  -0.985563    1.00743   -1.06399   0.930675  -0.727359   0.798921  -0.772754   0.933187  -0.618039   0.994275    -1.0037   0.899884  -0.730043    0.712045    -0.677388    1.25006   -1.16416   0.942685  -0.897504    0.409086   -0.69448  \n",
      " -0.773855      0.77871   -1.14739    1.09544    -0.70044    0.694604   -1.08956    1.00505   -1.01221    1.07593  -0.796923   0.823531  -0.838479    0.79844  -0.924145   0.675539    -1.0037    1.02042  -0.890181   0.717296   -0.735155     0.697136    -1.1308    1.25998    -0.9283   0.905899    -0.41668   0.787329  \n",
      "  0.317833    -0.248338    1.28293  -0.474129    0.982809    -1.03017   0.940932  -0.771392   0.901659  -0.937514    1.12112  -0.796324    1.10361   -1.06104     1.0695  -0.999557   0.899884  -0.890181    1.13436  -0.851077     0.96735     -1.05893     1.2483   -1.03887   0.570294  -0.588724    0.971879   -1.16901  \n",
      " -0.300786     0.157641   -1.02659   0.538955   -0.888478    0.885232  -0.890535    0.99317  -0.839543   0.750674   -0.59923   0.701178  -0.885173   0.843028   -1.17239   0.639627  -0.730043   0.717296  -0.851077    0.38161   -0.950735     0.821928  -0.835018   0.931182   -0.42348   0.356282   -0.761201   0.972442  \n",
      "  0.136786   -0.0650698   0.836086  -0.611959    0.943416    -1.00005   0.791096  -0.644734   0.758067  -0.752745   0.799074  -0.744761   0.965872  -0.953825    1.14918  -0.815442   0.712045  -0.735155    0.96735  -0.950735    0.967527    -0.999512    1.01959  -0.778594   0.393472  -0.341689    0.716954  -0.981582  \n",
      "-0.0706709  -0.00324887  -0.844738   0.537043    -0.99066     1.02887   -0.78833   0.637818  -0.739884   0.733206  -0.907867   0.763914  -0.983934   0.982825   -1.12417   0.909132  -0.677388   0.697136   -1.05893   0.821928   -0.999512      1.05682   -1.04993   0.796146  -0.342883   0.335525   -0.878421   0.962204  \n",
      "  0.659126     -0.77166    1.43206   -1.04763    0.892242    -1.09385    1.35709   -1.12855    1.20845   -1.20917      1.002   -1.00517    1.16182   -1.15023    1.07175  -0.920034    1.25006    -1.1308     1.2483  -0.835018     1.01959     -1.04993    2.10485   -1.56829     1.0078  -0.924941    0.731777  -0.930913  \n",
      " -0.915232      1.02521   -1.44604    1.47931   -0.707556    0.783677   -1.27891    1.14408   -1.19313    1.27217   -1.15107    0.74637  -0.989272   0.898143   -1.14998   0.600598   -1.16416    1.25998   -1.03887   0.931182   -0.778594     0.796146   -1.56829    1.29414   -1.06326    1.19271   -0.254424   0.447195  \n",
      "  0.930096      -1.0174   0.851651   -1.02523    0.370481   -0.312224    1.05871  -0.911589   0.909502  -0.995845   0.691966  -0.756169   0.534263  -0.499393   0.674918  -0.347778   0.942685    -0.9283   0.570294   -0.42348    0.393472    -0.342883     1.0078   -1.06326    1.03007    -1.0348   0.0320643  -0.488698  \n",
      " -0.949438      1.01692  -0.897228     1.0773   -0.344911    0.283979  -0.904334   0.864449   -0.89185   0.958598  -0.727813   0.688452  -0.513166   0.492183  -0.650642   0.230591  -0.897504   0.905899  -0.588724   0.356282   -0.341689     0.335525  -0.924941    1.19271    -1.0348    1.03656   -0.101265   0.413107  \n"
     ]
    },
    {
     "name": "stdout",
     "output_type": "stream",
     "text": [
      "-0.0767211      0.12244   0.890948  -0.364253    0.794018   -0.845225   0.525017  0.0400345   0.459284  -0.432442   0.800818  -0.569319   0.761951  -0.740842   0.866846  -0.738265   0.409086   -0.41668   0.971879  -0.761201    0.716954    -0.878421   0.731777  -0.254424  0.0320643  -0.101265    0.830593  -0.779269  \n",
      " -0.208039    0.0738754   -1.51924   0.416474   -0.955663    0.953094   -1.09103   0.453804  -0.830554   0.768807   -0.60371   0.888702  -0.961391    1.01883   -1.01998    0.87803   -0.69448   0.787329   -1.16901   0.972442   -0.981582     0.962204  -0.930913   0.447195  -0.488698   0.413107   -0.779269   0.310406  \n"
     ]
    },
    {
     "data": {
      "image/png": "[encoded data removed]",
      "text/plain": [
       "<Figure size 432x288 with 1 Axes>"
      ]
     },
     "metadata": {
      "needs_background": "light"
     },
     "output_type": "display_data"
    },
    {
     "name": "stdout",
     "output_type": "stream",
     "text": [
      " 15.5231  \n",
      "-21.6294  \n",
      " -197.76  \n",
      " 80.8763  \n",
      "-21.4784  \n",
      "-42.6966  \n",
      "-39.9088  \n",
      " 40.8709  \n",
      " 13.6357  \n",
      " 1.47149  \n",
      " 99.4068  \n",
      "-162.417  \n",
      "-27.5611  \n",
      " 5.90487  \n",
      " -62.163  \n",
      " 12.3878  \n",
      " 9.98145  \n",
      "-15.9374  \n",
      "-10.4983  \n",
      "-13.9757  \n",
      "-1.92209  \n",
      "-3.25766  \n",
      "-17.4323  \n",
      "-111.859  \n",
      "-29.0126  \n",
      " 1.31234  \n",
      " 48.9544  \n",
      "-254.641  \n",
      "[[0.06802721 0.         0.         0.         0.         0.\n",
      "  0.         0.         0.         0.         0.         0.\n",
      "  0.         0.         0.         0.         0.         0.\n",
      "  0.         0.         0.         0.         0.         0.\n",
      "  0.         0.         0.         0.        ]\n",
      " [0.         0.06802721 0.         0.         0.         0.\n",
      "  0.         0.         0.         0.         0.         0.\n",
      "  0.         0.         0.         0.         0.         0.\n",
      "  0.         0.         0.         0.         0.         0.\n",
      "  0.         0.         0.         0.        ]\n",
      " [0.         0.         0.00340136 0.         0.         0.\n",
      "  0.         0.         0.         0.         0.         0.\n",
      "  0.         0.         0.         0.         0.         0.\n",
      "  0.         0.         0.         0.         0.         0.\n",
      "  0.         0.         0.         0.        ]\n",
      " [0.         0.         0.         0.00340136 0.         0.\n",
      "  0.         0.         0.         0.         0.         0.\n",
      "  0.         0.         0.         0.         0.         0.\n",
      "  0.         0.         0.         0.         0.         0.\n",
      "  0.         0.         0.         0.        ]\n",
      " [0.         0.         0.         0.         0.06802721 0.\n",
      "  0.         0.         0.         0.         0.         0.\n",
      "  0.         0.         0.         0.         0.         0.\n",
      "  0.         0.         0.         0.         0.         0.\n",
      "  0.         0.         0.         0.        ]\n",
      " [0.         0.         0.         0.         0.         0.06802721\n",
      "  0.         0.         0.         0.         0.         0.\n",
      "  0.         0.         0.         0.         0.         0.\n",
      "  0.         0.         0.         0.         0.         0.\n",
      "  0.         0.         0.         0.        ]\n",
      " [0.         0.         0.         0.         0.         0.\n",
      "  0.00340136 0.         0.         0.         0.         0.\n",
      "  0.         0.         0.         0.         0.         0.\n",
      "  0.         0.         0.         0.         0.         0.\n",
      "  0.         0.         0.         0.        ]\n",
      " [0.         0.         0.         0.         0.         0.\n",
      "  0.         0.00340136 0.         0.         0.         0.\n",
      "  0.         0.         0.         0.         0.         0.\n",
      "  0.         0.         0.         0.         0.         0.\n",
      "  0.         0.         0.         0.        ]\n",
      " [0.         0.         0.         0.         0.         0.\n",
      "  0.         0.         0.06802721 0.         0.         0.\n",
      "  0.         0.         0.         0.         0.         0.\n",
      "  0.         0.         0.         0.         0.         0.\n",
      "  0.         0.         0.         0.        ]\n",
      " [0.         0.         0.         0.         0.         0.\n",
      "  0.         0.         0.         0.06802721 0.         0.\n",
      "  0.         0.         0.         0.         0.         0.\n",
      "  0.         0.         0.         0.         0.         0.\n",
      "  0.         0.         0.         0.        ]\n",
      " [0.         0.         0.         0.         0.         0.\n",
      "  0.         0.         0.         0.         0.00340136 0.\n",
      "  0.         0.         0.         0.         0.         0.\n",
      "  0.         0.         0.         0.         0.         0.\n",
      "  0.         0.         0.         0.        ]\n",
      " [0.         0.         0.         0.         0.         0.\n",
      "  0.         0.         0.         0.         0.         0.00340136\n",
      "  0.         0.         0.         0.         0.         0.\n",
      "  0.         0.         0.         0.         0.         0.\n",
      "  0.         0.         0.         0.        ]\n",
      " [0.         0.         0.         0.         0.         0.\n",
      "  0.         0.         0.         0.         0.         0.\n",
      "  0.06802721 0.         0.         0.         0.         0.\n",
      "  0.         0.         0.         0.         0.         0.\n",
      "  0.         0.         0.         0.        ]\n",
      " [0.         0.         0.         0.         0.         0.\n",
      "  0.         0.         0.         0.         0.         0.\n",
      "  0.         0.06802721 0.         0.         0.         0.\n",
      "  0.         0.         0.         0.         0.         0.\n",
      "  0.         0.         0.         0.        ]\n",
      " [0.         0.         0.         0.         0.         0.\n",
      "  0.         0.         0.         0.         0.         0.\n",
      "  0.         0.         0.00340136 0.         0.         0.\n",
      "  0.         0.         0.         0.         0.         0.\n",
      "  0.         0.         0.         0.        ]\n",
      " [0.         0.         0.         0.         0.         0.\n",
      "  0.         0.         0.         0.         0.         0.\n",
      "  0.         0.         0.         0.00340136 0.         0.\n",
      "  0.         0.         0.         0.         0.         0.\n",
      "  0.         0.         0.         0.        ]\n",
      " [0.         0.         0.         0.         0.         0.\n",
      "  0.         0.         0.         0.         0.         0.\n",
      "  0.         0.         0.         0.         0.06802721 0.\n",
      "  0.         0.         0.         0.         0.         0.\n",
      "  0.         0.         0.         0.        ]\n",
      " [0.         0.         0.         0.         0.         0.\n",
      "  0.         0.         0.         0.         0.         0.\n",
      "  0.         0.         0.         0.         0.         0.06802721\n",
      "  0.         0.         0.         0.         0.         0.\n",
      "  0.         0.         0.         0.        ]\n",
      " [0.         0.         0.         0.         0.         0.\n",
      "  0.         0.         0.         0.         0.         0.\n",
      "  0.         0.         0.         0.         0.         0.\n",
      "  0.00340136 0.         0.         0.         0.         0.\n",
      "  0.         0.         0.         0.        ]\n",
      " [0.         0.         0.         0.         0.         0.\n",
      "  0.         0.         0.         0.         0.         0.\n",
      "  0.         0.         0.         0.         0.         0.\n",
      "  0.         0.00340136 0.         0.         0.         0.\n",
      "  0.         0.         0.         0.        ]\n",
      " [0.         0.         0.         0.         0.         0.\n",
      "  0.         0.         0.         0.         0.         0.\n",
      "  0.         0.         0.         0.         0.         0.\n",
      "  0.         0.         0.06802721 0.         0.         0.\n",
      "  0.         0.         0.         0.        ]\n",
      " [0.         0.         0.         0.         0.         0.\n",
      "  0.         0.         0.         0.         0.         0.\n",
      "  0.         0.         0.         0.         0.         0.\n",
      "  0.         0.         0.         0.06802721 0.         0.\n",
      "  0.         0.         0.         0.        ]\n",
      " [0.         0.         0.         0.         0.         0.\n",
      "  0.         0.         0.         0.         0.         0.\n",
      "  0.         0.         0.         0.         0.         0.\n",
      "  0.         0.         0.         0.         0.00340136 0.\n",
      "  0.         0.         0.         0.        ]\n",
      " [0.         0.         0.         0.         0.         0.\n",
      "  0.         0.         0.         0.         0.         0.\n",
      "  0.         0.         0.         0.         0.         0.\n",
      "  0.         0.         0.         0.         0.         0.00340136\n",
      "  0.         0.         0.         0.        ]\n",
      " [0.         0.         0.         0.         0.         0.\n",
      "  0.         0.         0.         0.         0.         0.\n",
      "  0.         0.         0.         0.         0.         0.\n",
      "  0.         0.         0.         0.         0.         0.\n",
      "  0.06802721 0.         0.         0.        ]\n",
      " [0.         0.         0.         0.         0.         0.\n",
      "  0.         0.         0.         0.         0.         0.\n",
      "  0.         0.         0.         0.         0.         0.\n",
      "  0.         0.         0.         0.         0.         0.\n",
      "  0.         0.06802721 0.         0.        ]\n",
      " [0.         0.         0.         0.         0.         0.\n",
      "  0.         0.         0.         0.         0.         0.\n",
      "  0.         0.         0.         0.         0.         0.\n",
      "  0.         0.         0.         0.         0.         0.\n",
      "  0.         0.         0.00340136 0.        ]\n",
      " [0.         0.         0.         0.         0.         0.\n",
      "  0.         0.         0.         0.         0.         0.\n",
      "  0.         0.         0.         0.         0.         0.\n",
      "  0.         0.         0.         0.         0.         0.\n",
      "  0.         0.         0.         0.00340136]]\n"
     ]
    },
    {
     "data": {
      "image/png": "[encoded data removed]",
      "text/plain": [
       "<Figure size 432x288 with 1 Axes>"
      ]
     },
     "metadata": {
      "needs_background": "light"
     },
     "output_type": "display_data"
    },
    {
     "name": "stdout",
     "output_type": "stream",
     "text": [
      "arg q-func : \n",
      "[[0.99004742]]\n",
      "random\n",
      "beta 0.771320643266746\n",
      "random\n",
      "beta 0.0207519493594015\n",
      "random\n",
      "beta 0.6336482349262754\n",
      "random\n",
      "beta 0.7488038825386119\n",
      "random\n",
      "beta 0.4985070123025904\n",
      "random\n",
      "beta 0.22479664553084766\n",
      "random\n",
      "beta 0.19806286475962398\n",
      "random\n",
      "beta 0.7605307121989587\n",
      "random\n",
      "beta 0.16911083656253545\n",
      "random\n",
      "beta 0.08833981417401027\n",
      "random\n",
      "beta 0.6853598183677972\n",
      "random\n",
      "beta 0.9533933461949365\n",
      "random\n",
      "beta 0.003948266327914451\n",
      "random\n",
      "beta 0.5121922633857766\n",
      "random\n",
      "beta 0.8126209616521135\n",
      "task 1 empirical mean = -0.05101151671608839\n",
      "task 1 empirical mean = -0.1685920178688018\n",
      "task 1 empirical mean = 0.03963968183321687\n",
      "task 1 empirical mean = 0.025913976930101168\n",
      "task 1 empirical mean = -0.04280576502257588\n",
      "task 1 empirical mean = -0.017713268389584813\n",
      "task 1 empirical mean = 0.020810101033053877\n",
      "task 1 empirical mean = 0.14197243830540557\n",
      "task 1 empirical mean = 0.010513175950733977\n",
      "task 1 empirical mean = 0.03297791622761381\n",
      "task 1 empirical mean = 0.0302281783401204\n",
      "task 1 empirical mean = -0.14058510448002937\n",
      "task 1 empirical mean = 0.0040816544338293514\n",
      "task 1 empirical mean = -0.1551361156837205\n",
      "task 1 empirical mean = -0.019048855507685536\n",
      "task 1 empirical mean = -0.027077309600288813\n",
      "MM_gathered : \n",
      "  0.966294     -1.02803   0.760029   -1.02895    0.107645  -0.0591596   0.773973  -0.739651   0.740781  -0.802561   0.432282  -0.441904   0.311772  -0.228704   0.433141  -0.164405   0.765777  -0.773855   0.317833  -0.300786    0.136786   -0.0706709   0.659126  -0.915232   0.930096  -0.949438  -0.0767211  -0.208039   0.511673  -0.531574   0.652212  -0.768086  \n",
      "  -1.02803      1.15724  -0.709761    1.04108  -0.0498879  -0.0481287  -0.838802   0.791798  -0.724076   0.817653   -0.35953   0.483057  -0.251151   0.183502  -0.387027  0.0663466  -0.801157    0.77871  -0.248338   0.157641  -0.0650698  -0.00324887   -0.77166    1.02521    -1.0174    1.01692     0.12244  0.0738754  -0.480536    0.52144  -0.757025   0.770834  \n",
      "  0.760029    -0.709761    1.28922   -1.21604    0.847901   -0.991683    1.17581  -0.501109    1.16579   -1.12139    1.13622   -1.15153   0.966728  -0.995652    0.78396  -0.760696    1.06127   -1.14739    1.28293   -1.02659    0.836086    -0.844738    1.43206   -1.44604   0.851651  -0.897228    0.890948   -1.51924    1.05956   -1.09611    0.41215  -0.941069  \n",
      "  -1.02895      1.04108   -1.21604    1.17272   -0.500232    0.568762   -1.01578   0.994008   -1.05599     1.0656   -1.05352   0.964445  -0.656682   0.551001   -1.04711   0.762324   -1.06405    1.09544  -0.474129   0.538955   -0.611959     0.537043   -1.04763    1.47931   -1.02523     1.0773   -0.364253   0.416474  -0.963329   0.912521  -0.652455    1.57999  \n",
      "  0.107645   -0.0498879   0.847901  -0.500232    0.896748    -0.97198   0.713891  -0.651659   0.730984  -0.738688   0.840778  -0.677116   0.899904  -0.915325     1.0092  -0.867783   0.670315   -0.70044   0.982809  -0.888478    0.943416     -0.99066   0.892242  -0.707556   0.370481  -0.344911    0.794018  -0.955663   0.897121  -0.856405   0.401512  -0.641984  \n",
      "-0.0591596   -0.0481287  -0.991683   0.568762    -0.97198     1.05391  -0.761442   0.602214  -0.728849   0.712382  -0.836339   0.625409  -0.955437   0.959462   -1.07361   0.933838  -0.654592   0.694604   -1.03017   0.885232    -1.00005      1.02887   -1.09385   0.783677  -0.312224   0.283979   -0.845225   0.953094   -0.91007   0.860563  -0.295083    0.60121  \n",
      "  0.773973    -0.838802    1.17581   -1.01578    0.713891   -0.761442    0.96289  -0.841908    1.05965   -1.11158   0.761883  -0.939268   0.947034  -0.879271   0.810368  -0.617378    1.04498   -1.08956   0.940932  -0.890535    0.791096     -0.78833    1.35709   -1.27891    1.05871  -0.904334    0.525017   -1.09103    1.05475   -1.07782   0.648047     -1.227  \n",
      " -0.739651     0.791798  -0.501109   0.994008   -0.651659    0.602214  -0.841908    1.06104  -0.905117    1.03951  -0.452006   0.538614  -0.749207   0.791807   -1.17819   0.609994  -0.985563    1.00505  -0.771392    0.99317   -0.644734     0.637818   -1.12855    1.14408  -0.911589   0.864449   0.0400345   0.453804  -0.910392   0.898214   -1.30828   0.439946  \n",
      "  0.740781    -0.724076    1.16579   -1.05599    0.730984   -0.728849    1.05965  -0.905117    1.01195   -1.04748   0.888843  -0.811619   0.854516   -0.81226   0.959492  -0.763524    1.00743   -1.01221   0.901659  -0.839543    0.758067    -0.739884    1.20845   -1.19313   0.909502   -0.89185    0.459284  -0.830554   0.973316  -0.971065   0.695735  -0.860868  \n",
      " -0.802561     0.817653   -1.12139     1.0656   -0.738688    0.712382   -1.11158    1.03951   -1.04748    1.15417  -0.830172    0.82165  -0.841542   0.825082  -0.979423   0.697148   -1.06399    1.07593  -0.937514   0.750674   -0.752745     0.733206   -1.20917    1.27217  -0.995845   0.958598   -0.432442   0.768807    -1.0091   0.992169  -0.743162    1.09145  \n",
      "  0.432282     -0.35953    1.13622   -1.05352    0.840778   -0.836339   0.761883  -0.452006   0.888843  -0.830172    0.83468  -0.857842    0.85647  -0.808266   0.787243  -0.904748   0.930675  -0.796923    1.12112   -0.59923    0.799074    -0.907867      1.002   -1.15107   0.691966  -0.727813    0.800818   -0.60371   0.989664  -0.956557   0.533742  -0.521704  \n",
      " -0.441904     0.483057   -1.15153   0.964445   -0.677116    0.625409  -0.939268   0.538614  -0.811619    0.82165  -0.857842     0.3799  -0.743867   0.733792   -1.00208   0.450878  -0.727359   0.823531  -0.796324   0.701178   -0.744761     0.763914   -1.00517    0.74637  -0.756169   0.688452   -0.569319   0.888702  -0.882543   0.850645   -1.00656   0.467305  \n",
      "  0.311772    -0.251151   0.966728  -0.656682    0.899904   -0.955437   0.947034  -0.749207   0.854516  -0.841542    0.85647  -0.743867   0.940728  -0.946035    1.08144  -0.800451   0.798921  -0.838479    1.10361  -0.885173    0.965872    -0.983934    1.16182  -0.989272   0.534263  -0.513166    0.761951  -0.961391   0.970237  -0.920417   0.623723  -0.678653  \n",
      " -0.228704     0.183502  -0.995652   0.551001   -0.915325    0.959462  -0.879271   0.791807   -0.81226   0.825082  -0.808266   0.733792  -0.946035   0.922612   -1.09199   0.783791  -0.772754    0.79844   -1.06104   0.843028   -0.953825     0.982825   -1.15023   0.898143  -0.499393   0.492183   -0.740842    1.01883  -0.977197    0.90776  -0.532083   0.663846  \n",
      "  0.433141    -0.387027    0.78396   -1.04711      1.0092    -1.07361   0.810368   -1.17819   0.959492  -0.979423   0.787243   -1.00208    1.08144   -1.09199   0.977381   -0.71145   0.933187  -0.924145     1.0695   -1.17239     1.14918     -1.12417    1.07175   -1.14998   0.674918  -0.650642    0.866846   -1.01998     1.1362    -1.0686   0.615383  -0.804734  \n",
      " -0.164405    0.0663466  -0.760696   0.762324   -0.867783    0.933838  -0.617378   0.609994  -0.763524   0.697148  -0.904748   0.450878  -0.800451   0.783791   -0.71145   0.897205  -0.618039   0.675539  -0.999557   0.639627   -0.815442     0.909132  -0.920034   0.600598  -0.347778   0.230591   -0.738265    0.87803   -0.82132   0.751811  -0.247143    0.71707  \n",
      "  0.765777    -0.801157    1.06127   -1.06405    0.670315   -0.654592    1.04498  -0.985563    1.00743   -1.06399   0.930675  -0.727359   0.798921  -0.772754   0.933187  -0.618039   0.994275    -1.0037   0.899884  -0.730043    0.712045    -0.677388    1.25006   -1.16416   0.942685  -0.897504    0.409086   -0.69448   0.962811  -0.938129   0.731334  -0.892988  \n",
      " -0.773855      0.77871   -1.14739    1.09544    -0.70044    0.694604   -1.08956    1.00505   -1.01221    1.07593  -0.796923   0.823531  -0.838479    0.79844  -0.924145   0.675539    -1.0037    1.02042  -0.890181   0.717296   -0.735155     0.697136    -1.1308    1.25998    -0.9283   0.905899    -0.41668   0.787329   -0.96503   0.964176  -0.813157   0.938791  \n",
      "  0.317833    -0.248338    1.28293  -0.474129    0.982809    -1.03017   0.940932  -0.771392   0.901659  -0.937514    1.12112  -0.796324    1.10361   -1.06104     1.0695  -0.999557   0.899884  -0.890181    1.13436  -0.851077     0.96735     -1.05893     1.2483   -1.03887   0.570294  -0.588724    0.971879   -1.16901    1.04344   -1.03435   0.401634  -0.578868  \n",
      " -0.300786     0.157641   -1.02659   0.538955   -0.888478    0.885232  -0.890535    0.99317  -0.839543   0.750674   -0.59923   0.701178  -0.885173   0.843028   -1.17239   0.639627  -0.730043   0.717296  -0.851077    0.38161   -0.950735     0.821928  -0.835018   0.931182   -0.42348   0.356282   -0.761201   0.972442  -0.859792   0.833673  -0.537759   0.337531  \n"
     ]
    },
    {
     "name": "stdout",
     "output_type": "stream",
     "text": [
      "  0.136786   -0.0650698   0.836086  -0.611959    0.943416    -1.00005   0.791096  -0.644734   0.758067  -0.752745   0.799074  -0.744761   0.965872  -0.953825    1.14918  -0.815442   0.712045  -0.735155    0.96735  -0.950735    0.967527    -0.999512    1.01959  -0.778594   0.393472  -0.341689    0.716954  -0.981582   0.953251  -0.873895   0.417547  -0.655325  \n",
      "-0.0706709  -0.00324887  -0.844738   0.537043    -0.99066     1.02887   -0.78833   0.637818  -0.739884   0.733206  -0.907867   0.763914  -0.983934   0.982825   -1.12417   0.909132  -0.677388   0.697136   -1.05893   0.821928   -0.999512      1.05682   -1.04993   0.796146  -0.342883   0.335525   -0.878421   0.962204  -0.937195    0.87033  -0.390931   0.578985  \n",
      "  0.659126     -0.77166    1.43206   -1.04763    0.892242    -1.09385    1.35709   -1.12855    1.20845   -1.20917      1.002   -1.00517    1.16182   -1.15023    1.07175  -0.920034    1.25006    -1.1308     1.2483  -0.835018     1.01959     -1.04993    2.10485   -1.56829     1.0078  -0.924941    0.731777  -0.930913    1.26358   -1.13479   0.765384   -1.17118  \n",
      " -0.915232      1.02521   -1.44604    1.47931   -0.707556    0.783677   -1.27891    1.14408   -1.19313    1.27217   -1.15107    0.74637  -0.989272   0.898143   -1.14998   0.600598   -1.16416    1.25998   -1.03887   0.931182   -0.778594     0.796146   -1.56829    1.29414   -1.06326    1.19271   -0.254424   0.447195   -1.11287     1.1694  -0.956017    1.34611  \n",
      "  0.930096      -1.0174   0.851651   -1.02523    0.370481   -0.312224    1.05871  -0.911589   0.909502  -0.995845   0.691966  -0.756169   0.534263  -0.499393   0.674918  -0.347778   0.942685    -0.9283   0.570294   -0.42348    0.393472    -0.342883     1.0078   -1.06326    1.03007    -1.0348   0.0320643  -0.488698   0.747707  -0.777161   0.784508  -0.827646  \n",
      " -0.949438      1.01692  -0.897228     1.0773   -0.344911    0.283979  -0.904334   0.864449   -0.89185   0.958598  -0.727813   0.688452  -0.513166   0.492183  -0.650642   0.230591  -0.897504   0.905899  -0.588724   0.356282   -0.341689     0.335525  -0.924941    1.19271    -1.0348    1.03656   -0.101265   0.413107  -0.731661    0.74232  -0.753594   0.827058  \n",
      "-0.0767211      0.12244   0.890948  -0.364253    0.794018   -0.845225   0.525017  0.0400345   0.459284  -0.432442   0.800818  -0.569319   0.761951  -0.740842   0.866846  -0.738265   0.409086   -0.41668   0.971879  -0.761201    0.716954    -0.878421   0.731777  -0.254424  0.0320643  -0.101265    0.830593  -0.779269   0.570278  -0.574918   0.488257  -0.515756  \n",
      " -0.208039    0.0738754   -1.51924   0.416474   -0.955663    0.953094   -1.09103   0.453804  -0.830554   0.768807   -0.60371   0.888702  -0.961391    1.01883   -1.01998    0.87803   -0.69448   0.787329   -1.16901   0.972442   -0.981582     0.962204  -0.930913   0.447195  -0.488698   0.413107   -0.779269   0.310406   -0.90336   0.951466  -0.325207   0.642426  \n",
      "  0.511673    -0.480536    1.05956  -0.963329    0.897121    -0.91007    1.05475  -0.910392   0.973316    -1.0091   0.989664  -0.882543   0.970237  -0.977197     1.1362   -0.82132   0.962811   -0.96503    1.04344  -0.859792    0.953251    -0.937195    1.26358   -1.11287   0.747707  -0.731661    0.570278   -0.90336    1.03668   -1.00737   0.639659  -0.881413  \n",
      " -0.531574      0.52144   -1.09611   0.912521   -0.856405    0.860563   -1.07782   0.898214  -0.971065   0.992169  -0.956557   0.850645  -0.920417    0.90776    -1.0686   0.751811  -0.938129   0.964176   -1.03435   0.833673   -0.873895      0.87033   -1.13479     1.1694  -0.777161    0.74232   -0.574918   0.951466   -1.00737    0.96062  -0.612457   0.848223  \n",
      "  0.652212    -0.757025    0.41215  -0.652455    0.401512   -0.295083   0.648047   -1.30828   0.695735  -0.743162   0.533742   -1.00656   0.623723  -0.532083   0.615383  -0.247143   0.731334  -0.813157   0.401634  -0.537759    0.417547    -0.390931   0.765384  -0.956017   0.784508  -0.753594    0.488257  -0.325207   0.639659  -0.612457   0.196408  -0.358397  \n",
      " -0.768086     0.770834  -0.941069    1.57999   -0.641984     0.60121     -1.227   0.439946  -0.860868    1.09145  -0.521704   0.467305  -0.678653   0.663846  -0.804734    0.71707  -0.892988   0.938791  -0.578868   0.337531   -0.655325     0.578985   -1.17118    1.34611  -0.827646   0.827058   -0.515756   0.642426  -0.881413   0.848223  -0.358397    1.04826  \n"
     ]
    },
    {
     "data": {
      "image/png": "[encoded data removed]",
      "text/plain": [
       "<Figure size 432x288 with 1 Axes>"
      ]
     },
     "metadata": {
      "needs_background": "light"
     },
     "output_type": "display_data"
    },
    {
     "name": "stdout",
     "output_type": "stream",
     "text": [
      " 12.0513  \n",
      "-30.8387  \n",
      "-270.526  \n",
      " 178.507  \n",
      "-34.0805  \n",
      "-52.3903  \n",
      "-116.402  \n",
      " -59.464  \n",
      " 19.3168  \n",
      " 12.3427  \n",
      " 147.492  \n",
      "-288.913  \n",
      "-15.0343  \n",
      " 8.59888  \n",
      "-103.633  \n",
      " 36.7336  \n",
      " 10.9057  \n",
      "-25.2943  \n",
      " -36.637  \n",
      "-50.4449  \n",
      "-16.2069  \n",
      "-1.40633  \n",
      "-66.4952  \n",
      "-139.561  \n",
      "-27.1257  \n",
      " 7.13511  \n",
      " 109.109  \n",
      "-323.468  \n",
      " 20.0302  \n",
      " 12.7094  \n",
      "-228.418  \n",
      "-153.612  \n",
      "[[0.05952381 0.         0.         ... 0.         0.         0.        ]\n",
      " [0.         0.05952381 0.         ... 0.         0.         0.        ]\n",
      " [0.         0.         0.00297619 ... 0.         0.         0.        ]\n",
      " ...\n",
      " [0.         0.         0.         ... 0.05952381 0.         0.        ]\n",
      " [0.         0.         0.         ... 0.         0.00297619 0.        ]\n",
      " [0.         0.         0.         ... 0.         0.         0.00297619]]\n"
     ]
    },
    {
     "data": {
      "image/png": "[encoded data removed]",
      "text/plain": [
       "<Figure size 432x288 with 1 Axes>"
      ]
     },
     "metadata": {
      "needs_background": "light"
     },
     "output_type": "display_data"
    },
    {
     "name": "stdout",
     "output_type": "stream",
     "text": [
      "arg q-func : \n",
      "[[0.99124149]]\n",
      "random\n",
      "beta 0.771320643266746\n",
      "random\n",
      "beta 0.0207519493594015\n",
      "random\n",
      "beta 0.6336482349262754\n",
      "random\n",
      "beta 0.7488038825386119\n",
      "random\n",
      "beta 0.4985070123025904\n",
      "random\n",
      "beta 0.22479664553084766\n",
      "random\n",
      "beta 0.19806286475962398\n",
      "random\n",
      "beta 0.7605307121989587\n",
      "random\n",
      "beta 0.16911083656253545\n",
      "random\n",
      "beta 0.08833981417401027\n",
      "random\n",
      "beta 0.6853598183677972\n",
      "random\n",
      "beta 0.9533933461949365\n",
      "random\n",
      "beta 0.003948266327914451\n",
      "random\n",
      "beta 0.5121922633857766\n",
      "random\n",
      "beta 0.8126209616521135\n",
      "random\n",
      "beta 0.6125260668293881\n",
      "random\n",
      "beta 0.7217553174317995\n",
      "task 1 empirical mean = -0.05101151671608839\n",
      "task 1 empirical mean = -0.1685920178688018\n",
      "task 1 empirical mean = 0.03963968183321687\n",
      "task 1 empirical mean = 0.025913976930101168\n",
      "task 1 empirical mean = -0.04280576502257588\n",
      "task 1 empirical mean = -0.017713268389584813\n",
      "task 1 empirical mean = 0.020810101033053877\n",
      "task 1 empirical mean = 0.14197243830540557\n",
      "task 1 empirical mean = 0.010513175950733977\n",
      "task 1 empirical mean = 0.03297791622761381\n",
      "task 1 empirical mean = 0.0302281783401204\n",
      "task 1 empirical mean = -0.14058510448002937\n",
      "task 1 empirical mean = 0.0040816544338293514\n",
      "task 1 empirical mean = -0.1551361156837205\n",
      "task 1 empirical mean = -0.019048855507685536\n",
      "task 1 empirical mean = -0.027077309600288813\n",
      "task 1 empirical mean = -0.04303667988705118\n",
      "task 1 empirical mean = 0.05779076447081949\n",
      "MM_gathered : \n",
      "  0.966294     -1.02803   0.760029   -1.02895    0.107645  -0.0591596   0.773973  -0.739651   0.740781  -0.802561   0.432282  -0.441904   0.311772  -0.228704   0.433141  -0.164405   0.765777  -0.773855   0.317833  -0.300786    0.136786   -0.0706709   0.659126  -0.915232   0.930096  -0.949438  -0.0767211  -0.208039   0.511673  -0.531574   0.652212  -0.768086   0.601051  -0.652623   0.685803  -0.560955  \n",
      "  -1.02803      1.15724  -0.709761    1.04108  -0.0498879  -0.0481287  -0.838802   0.791798  -0.724076   0.817653   -0.35953   0.483057  -0.251151   0.183502  -0.387027  0.0663466  -0.801157    0.77871  -0.248338   0.157641  -0.0650698  -0.00324887   -0.77166    1.02521    -1.0174    1.01692     0.12244  0.0738754  -0.480536    0.52144  -0.757025   0.770834  -0.557102   0.645744  -0.563186   0.587396  \n",
      "  0.760029    -0.709761    1.28922   -1.21604    0.847901   -0.991683    1.17581  -0.501109    1.16579   -1.12139    1.13622   -1.15153   0.966728  -0.995652    0.78396  -0.760696    1.06127   -1.14739    1.28293   -1.02659    0.836086    -0.844738    1.43206   -1.44604   0.851651  -0.897228    0.890948   -1.51924    1.05956   -1.09611    0.41215  -0.941069    1.05426   -1.06731    0.84468  -0.764972  \n",
      "  -1.02895      1.04108   -1.21604    1.17272   -0.500232    0.568762   -1.01578   0.994008   -1.05599     1.0656   -1.05352   0.964445  -0.656682   0.551001   -1.04711   0.762324   -1.06405    1.09544  -0.474129   0.538955   -0.611959     0.537043   -1.04763    1.47931   -1.02523     1.0773   -0.364253   0.416474  -0.963329   0.912521  -0.652455    1.57999  -0.931024    1.00374   -1.21085   0.705025  \n",
      "  0.107645   -0.0498879   0.847901  -0.500232    0.896748    -0.97198   0.713891  -0.651659   0.730984  -0.738688   0.840778  -0.677116   0.899904  -0.915325     1.0092  -0.867783   0.670315   -0.70044   0.982809  -0.888478    0.943416     -0.99066   0.892242  -0.707556   0.370481  -0.344911    0.794018  -0.955663   0.897121  -0.856405   0.401512  -0.641984   0.782084   -0.71711   0.802055  -0.611541  \n",
      "-0.0591596   -0.0481287  -0.991683   0.568762    -0.97198     1.05391  -0.761442   0.602214  -0.728849   0.712382  -0.836339   0.625409  -0.955437   0.959462   -1.07361   0.933838  -0.654592   0.694604   -1.03017   0.885232    -1.00005      1.02887   -1.09385   0.783677  -0.312224   0.283979   -0.845225   0.953094   -0.91007   0.860563  -0.295083    0.60121  -0.791215   0.727024  -0.749713   0.582592  \n",
      "  0.773973    -0.838802    1.17581   -1.01578    0.713891   -0.761442    0.96289  -0.841908    1.05965   -1.11158   0.761883  -0.939268   0.947034  -0.879271   0.810368  -0.617378    1.04498   -1.08956   0.940932  -0.890535    0.791096     -0.78833    1.35709   -1.27891    1.05871  -0.904334    0.525017   -1.09103    1.05475   -1.07782   0.648047     -1.227   0.993058   -1.01974    1.20739  -0.689927  \n",
      " -0.739651     0.791798  -0.501109   0.994008   -0.651659    0.602214  -0.841908    1.06104  -0.905117    1.03951  -0.452006   0.538614  -0.749207   0.791807   -1.17819   0.609994  -0.985563    1.00505  -0.771392    0.99317   -0.644734     0.637818   -1.12855    1.14408  -0.911589   0.864449   0.0400345   0.453804  -0.910392   0.898214   -1.30828   0.439946  -0.889097   0.975045   -1.02035   0.701194  \n",
      "  0.740781    -0.724076    1.16579   -1.05599    0.730984   -0.728849    1.05965  -0.905117    1.01195   -1.04748   0.888843  -0.811619   0.854516   -0.81226   0.959492  -0.763524    1.00743   -1.01221   0.901659  -0.839543    0.758067    -0.739884    1.20845   -1.19313   0.909502   -0.89185    0.459284  -0.830554   0.973316  -0.971065   0.695735  -0.860868   0.949627  -0.956613   0.977838  -0.704857  \n",
      " -0.802561     0.817653   -1.12139     1.0656   -0.738688    0.712382   -1.11158    1.03951   -1.04748    1.15417  -0.830172    0.82165  -0.841542   0.825082  -0.979423   0.697148   -1.06399    1.07593  -0.937514   0.750674   -0.752745     0.733206   -1.20917    1.27217  -0.995845   0.958598   -0.432442   0.768807    -1.0091   0.992169  -0.743162    1.09145    -1.0238    1.02477  -0.948239   0.801527  \n",
      "  0.432282     -0.35953    1.13622   -1.05352    0.840778   -0.836339   0.761883  -0.452006   0.888843  -0.830172    0.83468  -0.857842    0.85647  -0.808266   0.787243  -0.904748   0.930675  -0.796923    1.12112   -0.59923    0.799074    -0.907867      1.002   -1.15107   0.691966  -0.727813    0.800818   -0.60371   0.989664  -0.956557   0.533742  -0.521704   0.821639  -0.932593    1.06537  -0.767472  \n",
      " -0.441904     0.483057   -1.15153   0.964445   -0.677116    0.625409  -0.939268   0.538614  -0.811619    0.82165  -0.857842     0.3799  -0.743867   0.733792   -1.00208   0.450878  -0.727359   0.823531  -0.796324   0.701178   -0.744761     0.763914   -1.00517    0.74637  -0.756169   0.688452   -0.569319   0.888702  -0.882543   0.850645   -1.00656   0.467305  -0.843749   0.780684  -0.358743   0.591833  \n",
      "  0.311772    -0.251151   0.966728  -0.656682    0.899904   -0.955437   0.947034  -0.749207   0.854516  -0.841542    0.85647  -0.743867   0.940728  -0.946035    1.08144  -0.800451   0.798921  -0.838479    1.10361  -0.885173    0.965872    -0.983934    1.16182  -0.989272   0.534263  -0.513166    0.761951  -0.961391   0.970237  -0.920417   0.623723  -0.678653   0.899503  -0.826926   0.897944    -0.6262  \n",
      " -0.228704     0.183502  -0.995652   0.551001   -0.915325    0.959462  -0.879271   0.791807   -0.81226   0.825082  -0.808266   0.733792  -0.946035   0.922612   -1.09199   0.783791  -0.772754    0.79844   -1.06104   0.843028   -0.953825     0.982825   -1.15023   0.898143  -0.499393   0.492183   -0.740842    1.01883  -0.977197    0.90776  -0.532083   0.663846  -0.873624   0.801692  -0.842132   0.574287  \n",
      "  0.433141    -0.387027    0.78396   -1.04711      1.0092    -1.07361   0.810368   -1.17819   0.959492  -0.979423   0.787243   -1.00208    1.08144   -1.09199   0.977381   -0.71145   0.933187  -0.924145     1.0695   -1.17239     1.14918     -1.12417    1.07175   -1.14998   0.674918  -0.650642    0.866846   -1.01998     1.1362    -1.0686   0.615383  -0.804734    1.00537  -0.963788   0.903029  -0.534491  \n",
      " -0.164405    0.0663466  -0.760696   0.762324   -0.867783    0.933838  -0.617378   0.609994  -0.763524   0.697148  -0.904748   0.450878  -0.800451   0.783791   -0.71145   0.897205  -0.618039   0.675539  -0.999557   0.639627   -0.815442     0.909132  -0.920034   0.600598  -0.347778   0.230591   -0.738265    0.87803   -0.82132   0.751811  -0.247143    0.71707   -0.74377   0.657864  -0.765183   0.500445  \n",
      "  0.765777    -0.801157    1.06127   -1.06405    0.670315   -0.654592    1.04498  -0.985563    1.00743   -1.06399   0.930675  -0.727359   0.798921  -0.772754   0.933187  -0.618039   0.994275    -1.0037   0.899884  -0.730043    0.712045    -0.677388    1.25006   -1.16416   0.942685  -0.897504    0.409086   -0.69448   0.962811  -0.938129   0.731334  -0.892988   0.942124  -0.957899    1.05721  -0.724928  \n",
      " -0.773855      0.77871   -1.14739    1.09544    -0.70044    0.694604   -1.08956    1.00505   -1.01221    1.07593  -0.796923   0.823531  -0.838479    0.79844  -0.924145   0.675539    -1.0037    1.02042  -0.890181   0.717296   -0.735155     0.697136    -1.1308    1.25998    -0.9283   0.905899    -0.41668   0.787329   -0.96503   0.964176  -0.813157   0.938791  -0.973581   0.959847   -1.03691   0.784206  \n",
      "  0.317833    -0.248338    1.28293  -0.474129    0.982809    -1.03017   0.940932  -0.771392   0.901659  -0.937514    1.12112  -0.796324    1.10361   -1.06104     1.0695  -0.999557   0.899884  -0.890181    1.13436  -0.851077     0.96735     -1.05893     1.2483   -1.03887   0.570294  -0.588724    0.971879   -1.16901    1.04344   -1.03435   0.401634  -0.578868   0.939875  -0.940409    1.09146   -0.53761  \n",
      " -0.300786     0.157641   -1.02659   0.538955   -0.888478    0.885232  -0.890535    0.99317  -0.839543   0.750674   -0.59923   0.701178  -0.885173   0.843028   -1.17239   0.639627  -0.730043   0.717296  -0.851077    0.38161   -0.950735     0.821928  -0.835018   0.931182   -0.42348   0.356282   -0.761201   0.972442  -0.859792   0.833673  -0.537759   0.337531  -0.757208   0.715621  -0.669217   0.518711  \n",
      "  0.136786   -0.0650698   0.836086  -0.611959    0.943416    -1.00005   0.791096  -0.644734   0.758067  -0.752745   0.799074  -0.744761   0.965872  -0.953825    1.14918  -0.815442   0.712045  -0.735155    0.96735  -0.950735    0.967527    -0.999512    1.01959  -0.778594   0.393472  -0.341689    0.716954  -0.981582   0.953251  -0.873895   0.417547  -0.655325   0.834543  -0.747922   0.759877  -0.490301  \n"
     ]
    },
    {
     "name": "stdout",
     "output_type": "stream",
     "text": [
      "-0.0706709  -0.00324887  -0.844738   0.537043    -0.99066     1.02887   -0.78833   0.637818  -0.739884   0.733206  -0.907867   0.763914  -0.983934   0.982825   -1.12417   0.909132  -0.677388   0.697136   -1.05893   0.821928   -0.999512      1.05682   -1.04993   0.796146  -0.342883   0.335525   -0.878421   0.962204  -0.937195    0.87033  -0.390931   0.578985  -0.842177   0.729632  -0.865137   0.533493  \n",
      "  0.659126     -0.77166    1.43206   -1.04763    0.892242    -1.09385    1.35709   -1.12855    1.20845   -1.20917      1.002   -1.00517    1.16182   -1.15023    1.07175  -0.920034    1.25006    -1.1308     1.2483  -0.835018     1.01959     -1.04993    2.10485   -1.56829     1.0078  -0.924941    0.731777  -0.930913    1.26358   -1.13479   0.765384   -1.17118    1.15891   -1.20455   0.860616  -0.615651  \n",
      " -0.915232      1.02521   -1.44604    1.47931   -0.707556    0.783677   -1.27891    1.14408   -1.19313    1.27217   -1.15107    0.74637  -0.989272   0.898143   -1.14998   0.600598   -1.16416    1.25998   -1.03887   0.931182   -0.778594     0.796146   -1.56829    1.29414   -1.06326    1.19271   -0.254424   0.447195   -1.11287     1.1694  -0.956017    1.34611   -1.17029    1.13877  -0.925674   0.581435  \n",
      "  0.930096      -1.0174   0.851651   -1.02523    0.370481   -0.312224    1.05871  -0.911589   0.909502  -0.995845   0.691966  -0.756169   0.534263  -0.499393   0.674918  -0.347778   0.942685    -0.9283   0.570294   -0.42348    0.393472    -0.342883     1.0078   -1.06326    1.03007    -1.0348   0.0320643  -0.488698   0.747707  -0.777161   0.784508  -0.827646   0.781942  -0.854096   0.805382  -0.698315  \n",
      " -0.949438      1.01692  -0.897228     1.0773   -0.344911    0.283979  -0.904334   0.864449   -0.89185   0.958598  -0.727813   0.688452  -0.513166   0.492183  -0.650642   0.230591  -0.897504   0.905899  -0.588724   0.356282   -0.341689     0.335525  -0.924941    1.19271    -1.0348    1.03656   -0.101265   0.413107  -0.731661    0.74232  -0.753594   0.827058  -0.770657   0.815477  -0.790744   0.650036  \n",
      "-0.0767211      0.12244   0.890948  -0.364253    0.794018   -0.845225   0.525017  0.0400345   0.459284  -0.432442   0.800818  -0.569319   0.761951  -0.740842   0.866846  -0.738265   0.409086   -0.41668   0.971879  -0.761201    0.716954    -0.878421   0.731777  -0.254424  0.0320643  -0.101265    0.830593  -0.779269   0.570278  -0.574918   0.488257  -0.515756   0.464679  -0.438827   0.440979  -0.371792  \n",
      " -0.208039    0.0738754   -1.51924   0.416474   -0.955663    0.953094   -1.09103   0.453804  -0.830554   0.768807   -0.60371   0.888702  -0.961391    1.01883   -1.01998    0.87803   -0.69448   0.787329   -1.16901   0.972442   -0.981582     0.962204  -0.930913   0.447195  -0.488698   0.413107   -0.779269   0.310406   -0.90336   0.951466  -0.325207   0.642426  -0.835989   0.829335  -0.764109   0.338706  \n",
      "  0.511673    -0.480536    1.05956  -0.963329    0.897121    -0.91007    1.05475  -0.910392   0.973316    -1.0091   0.989664  -0.882543   0.970237  -0.977197     1.1362   -0.82132   0.962811   -0.96503    1.04344  -0.859792    0.953251    -0.937195    1.26358   -1.11287   0.747707  -0.731661    0.570278   -0.90336    1.03668   -1.00737   0.639659  -0.881413   0.984753  -0.946284   0.948747  -0.716999  \n",
      " -0.531574      0.52144   -1.09611   0.912521   -0.856405    0.860563   -1.07782   0.898214  -0.971065   0.992169  -0.956557   0.850645  -0.920417    0.90776    -1.0686   0.751811  -0.938129   0.964176   -1.03435   0.833673   -0.873895      0.87033   -1.13479     1.1694  -0.777161    0.74232   -0.574918   0.951466   -1.00737    0.96062  -0.612457   0.848223  -0.939665    0.92448  -0.957892    0.70344  \n",
      "  0.652212    -0.757025    0.41215  -0.652455    0.401512   -0.295083   0.648047   -1.30828   0.695735  -0.743162   0.533742   -1.00656   0.623723  -0.532083   0.615383  -0.247143   0.731334  -0.813157   0.401634  -0.537759    0.417547    -0.390931   0.765384  -0.956017   0.784508  -0.753594    0.488257  -0.325207   0.639659  -0.612457   0.196408  -0.358397   0.721376  -0.725269   0.533103  -0.942519  \n",
      " -0.768086     0.770834  -0.941069    1.57999   -0.641984     0.60121     -1.227   0.439946  -0.860868    1.09145  -0.521704   0.467305  -0.678653   0.663846  -0.804734    0.71707  -0.892988   0.938791  -0.578868   0.337531   -0.655325     0.578985   -1.17118    1.34611  -0.827646   0.827058   -0.515756   0.642426  -0.881413   0.848223  -0.358397    1.04826  -0.931016   0.881206   -1.05475   0.502232  \n",
      "  0.601051    -0.557102    1.05426  -0.931024    0.782084   -0.791215   0.993058  -0.889097   0.949627    -1.0238   0.821639  -0.843749   0.899503  -0.873624    1.00537   -0.74377   0.942124  -0.973581   0.939875  -0.757208    0.834543    -0.842177    1.15891   -1.17029   0.781942  -0.770657    0.464679  -0.835989   0.984753  -0.939665   0.721376  -0.931016   0.931841  -0.910581    0.92045  -0.686325  \n",
      " -0.652623     0.645744   -1.06731    1.00374    -0.71711    0.727024   -1.01974   0.975045  -0.956613    1.02477  -0.932593   0.780684  -0.826926   0.801692  -0.963788   0.657864  -0.957899   0.959847  -0.940409   0.715621   -0.747922     0.729632   -1.20455    1.13877  -0.854096   0.815477   -0.438827   0.829335  -0.946284    0.92448  -0.725269   0.881206  -0.910581   0.908905  -0.965474   0.683983  \n",
      "  0.685803    -0.563186    0.84468   -1.21085    0.802055   -0.749713    1.20739   -1.02035   0.977838  -0.948239    1.06537  -0.358743   0.897944  -0.842132   0.903029  -0.765183    1.05721   -1.03691    1.09146  -0.669217    0.759877    -0.865137   0.860616  -0.925674   0.805382  -0.790744    0.440979  -0.764109   0.948747  -0.957892   0.533103   -1.05475    0.92045  -0.965474   0.843398  -0.790558  \n",
      " -0.560955     0.587396  -0.764972   0.705025   -0.611541    0.582592  -0.689927   0.701194  -0.704857   0.801527  -0.767472   0.591833    -0.6262   0.574287  -0.534491   0.500445  -0.724928   0.784206   -0.53761   0.518711   -0.490301     0.533493  -0.615651   0.581435  -0.698315   0.650036   -0.371792   0.338706  -0.716999    0.70344  -0.942519   0.502232  -0.686325   0.683983  -0.790558  -0.254705  \n"
     ]
    },
    {
     "data": {
      "image/png": "[encoded data removed]",
      "text/plain": [
       "<Figure size 432x288 with 1 Axes>"
      ]
     },
     "metadata": {
      "needs_background": "light"
     },
     "output_type": "display_data"
    },
    {
     "name": "stdout",
     "output_type": "stream",
     "text": [
      " 8.30229  \n",
      "-36.9164  \n",
      " -310.25  \n",
      " 232.463  \n",
      "-44.8837  \n",
      " -54.317  \n",
      " -136.73  \n",
      "-82.1085  \n",
      " 23.8634  \n",
      " 20.1872  \n",
      " 140.675  \n",
      "-345.793  \n",
      "-23.3007  \n",
      " 14.7219  \n",
      "-112.395  \n",
      " 33.0672  \n",
      " 4.07929  \n",
      "-20.9689  \n",
      "-45.5848  \n",
      "-57.8329  \n",
      "-11.0854  \n",
      " 3.46418  \n",
      " -65.335  \n",
      "-191.175  \n",
      "-34.3917  \n",
      " 7.80412  \n",
      " 170.193  \n",
      "-377.743  \n",
      " 24.6053  \n",
      " 13.6334  \n",
      "-321.601  \n",
      "-160.257  \n",
      " 14.1973  \n",
      "-18.3538  \n",
      " 71.4078  \n",
      "-129.477  \n",
      "[[0.05291005 0.         0.         ... 0.         0.         0.        ]\n",
      " [0.         0.05291005 0.         ... 0.         0.         0.        ]\n",
      " [0.         0.         0.0026455  ... 0.         0.         0.        ]\n",
      " ...\n",
      " [0.         0.         0.         ... 0.05291005 0.         0.        ]\n",
      " [0.         0.         0.         ... 0.         0.0026455  0.        ]\n",
      " [0.         0.         0.         ... 0.         0.         0.0026455 ]]\n"
     ]
    },
    {
     "data": {
      "image/png": "[encoded data removed]",
      "text/plain": [
       "<Figure size 432x288 with 1 Axes>"
      ]
     },
     "metadata": {
      "needs_background": "light"
     },
     "output_type": "display_data"
    },
    {
     "name": "stdout",
     "output_type": "stream",
     "text": [
      "arg q-func : \n",
      "[[0.99229516]]\n"
     ]
    }
   ],
   "source": [
    "# %%prun -s cumulative\n",
    "%matplotlib inline\n",
    "# profiling\n",
    "p = 100\n",
    "m = 2\n",
    "# on ajoute des tâches 2 par 2\n",
    "nb_tasks = 6\n",
    "step = 2\n",
    "t = range(2,step*nb_tasks, step)\n",
    "multiple = 1\n",
    "to_add = [1000, 1000], [50, 50]\n",
    "n_t = []\n",
    "n_t_test = [[1000, 1000]]\n",
    "nt = sum(n_t_test[0])\n",
    "# la liste temps comprendra le temps pour le training, le calcul de M et y et le temps d'inférence\n",
    "emp_rate, th_rate, var, relative_error_rate = [], [], [], []\n",
    "\n",
    "# temps\n",
    "t_SC = 0\n",
    "t_inf = []\n",
    "t_MM_f = 0\n",
    "t_inf_f = 0\n",
    "t_total_d = []\n",
    "t_SC_d = []\n",
    "random_state = 10\n",
    "\n",
    "# données envoyées de taille p\n",
    "data_sent = []\n",
    "\n",
    "# on définit la tache cible\n",
    "task_target = 1\n",
    "\n",
    "M = mean_matrix(p, beta=None, k=2, random_seed=random_state, random=True)\n",
    "X_test, y_test = gaussian_synthetic_data(nt, p, m, 1, n_t_test, [M[task_target]], random_state)\n",
    "mean_test = M[task_target]\n",
    "# print(\"norme tâche de test : \", np.linalg.norm(X_test_aggregated))\n",
    "X_test = normalisation(X_test, p)\n",
    "\n",
    "for b in t:\n",
    "    t_MM = []\n",
    "    sent = 0\n",
    "    for i in range(step):\n",
    "        n_t.append(to_add[i])\n",
    "    \n",
    "    n = sum(list(map(sum, (n_t[i] for i in range(b)))))\n",
    "#     print(\"n = \", n)\n",
    "    # on crée les données synthétiques\n",
    "    M = mean_matrix(p, beta=None, k=b, random_seed=random_state, random=True)\n",
    "#     print(f\"Test mean: {mean_test[0]==M[1][0]}\") # True\n",
    "       \n",
    "    X, y_bs = gaussian_synthetic_data(n, p, m, b, n_t, M, random_state)\n",
    "    MM = []\n",
    "    diag = []\n",
    "#     X = normalisation(X, p)\n",
    "    \n",
    "    # On calcule les moyennes empiriques sur les données locales de chaque serveur\n",
    "    # diag1 = [diag1[0], diag1[1]]\n",
    "    for i in range(b):\n",
    "        t0 = time()\n",
    "        MM1, diag1 = empirical_mean_old(1, m, [X[i]], p, [n_t[i]])\n",
    "        print(f\"task 1 empirical mean = {np.mean(MM1[0])}\")\n",
    "        # chaque moyenne empirique calculée est un vecteur de taille p\n",
    "        sent+=1\n",
    "        t_MM.append(time()-t0)\n",
    "        \n",
    "        MM.append(MM1)\n",
    "        diag.append(diag1)\n",
    "\n",
    "    # CENTRAL SERVER\n",
    "    t0 = time()\n",
    "    # sending empirical means to central server\n",
    "    V, y, correlation_matrix, Dc, c0 = merging_center(MM, diag, b, m, p, n, n_t, task_target, True)   \n",
    "    #V_true, y_true, correlation_matrix_true, Dc, c0 = merging_center(M_true, diag_true, b, m, p, n_t, task_target)\n",
    "    t_SC = time()-t0\n",
    "    print(Dc)\n",
    "    \n",
    "    # END CENTRAL SERVER\n",
    "    # a prendre en compte dans le timing\n",
    "    \n",
    "    X_train_aggregated = aggregate_array(X, p, n, b, m)\n",
    "    X_test_aggregated = aggregate_array(X_test, p, nt, 1, m)\n",
    "    # On time le temps d'inférence\n",
    "    \n",
    "    # Calcul avec les vraies moyennes\n",
    "    M_true = true_mean(M, p, b, m)\n",
    "    MM_true = M_true.T@M_true\n",
    "    correlation_matrix_true = compute_M_cal(n, p, Dc, MM_true, display=False)\n",
    "    y_true = label_evaluation(b,m,Dc, MM_true, c0, task_target=task_target)\n",
    "    \n",
    "#     V_true = compute_V(y_true, X_train_aggregated, J, n)\n",
    "#     debug_histogram(V_true, X_test_aggregated, n_t_test)\n",
    "#     print(\"V = \")\n",
    "#     test pour vérifier le calcul de V dans le serveur: tout est bon\n",
    "#     J = create_J(m, b, n, n_t)\n",
    "#     V = compute_V(y, X_train_aggregated, J, n)\n",
    "    VTX = V.T@X_test_aggregated\n",
    "    var.append(np.var(VTX))\n",
    "    debug_histogram(V, X_test_aggregated, n_t_test)\n",
    "    \n",
    "    t0 = time()\n",
    "    m_t = create_mt(b, m, y, Dc, correlation_matrix)\n",
    "    \n",
    "    erreur_theorique = error_rate(b, m,  Dc, MM_true, c0)[0][0]\n",
    "    emp_rate.append(compute_error_rate(X_test, V, m_t, 1, m, n_t_test, Dc, c0))\n",
    "    th_rate.append(erreur_theorique)\n",
    "    t_inf.append(time()-t0)\n",
    "    t_MM_f = max(t_MM)\n",
    "    t_inf_f = max(t_inf)\n",
    "    t_total_d.append(t_MM_f + t_SC)\n",
    "    t_SC_d.append(t_SC)\n",
    "    data_sent.append(sent)\n",
    "\n",
    "# print(f\"temps moyen clients : {round(np.mean(t_MM_f), 5)}, {round(np.mean(t_inf_f), 5)}\")\n",
    "# print(f\"temps moyen Serveur central : {round(np.mean(t_SC), 5)}\")\n",
    "# print(f\"temps total moyen : {round(np.mean(t_MM_f), 5) + round(np.mean(t_inf_f), 5) + round(np.mean(t_SC), 5)}\")"
   ]
  },
  {
   "cell_type": "code",
   "execution_count": 44,
   "metadata": {},
   "outputs": [
    {
     "name": "stdout",
     "output_type": "stream",
     "text": [
      "[2, 4, 6, 8, 10]\n",
      "[2100, 4200, 6300, 8400, 10500]\n",
      "[0.21463251113891602, 0.1909496784210205, 0.1764202117919922, 0.28003716468811035, 0.3195788860321045]\n",
      "[0.215956449508667, 0.19174504280090332, 0.17744803428649902, 0.2811012268066406, 0.32141757011413574]\n",
      "[0.22280175195202867, 0.16330704986164485, 0.16180137712313486, 0.1606472022307061, 0.1602570784068436]\n"
     ]
    }
   ],
   "source": [
    "print(data_sent)\n",
    "print(data_sent_nd)\n",
    "print(t_SC_d)\n",
    "print(t_total_d)\n",
    "print(th_rate)"
   ]
  },
  {
   "cell_type": "code",
   "execution_count": 37,
   "metadata": {},
   "outputs": [
    {
     "data": {
      "image/png": "[encoded data removed]",
      "text/plain": [
       "<Figure size 432x288 with 1 Axes>"
      ]
     },
     "metadata": {
      "needs_background": "light"
     },
     "output_type": "display_data"
    },
    {
     "data": {
      "image/png": "[encoded data removed]",
      "text/plain": [
       "<Figure size 432x288 with 1 Axes>"
      ]
     },
     "metadata": {
      "needs_background": "light"
     },
     "output_type": "display_data"
    },
    {
     "data": {
      "image/png": "[encoded data removed]",
      "text/plain": [
       "<Figure size 432x288 with 1 Axes>"
      ]
     },
     "metadata": {
      "needs_background": "light"
     },
     "output_type": "display_data"
    }
   ],
   "source": [
    "# plot le temps du distribué vs non distribué\n",
    "plt.plot(data_sent, t_total_d, '-o', label='distribué')\n",
    "plt.plot(data_sent, t_SC_d, '-o', label='serveur central')\n",
    "# plt.plot(t, t_total_nd, '-o', label='non distribué')\n",
    "plt.xlabel(\"Nombre de tâches\")\n",
    "plt.ylabel(\"Temps total\")\n",
    "plt.title(\"Temps totaux de traitement en fonction du nombre de tâches\")\n",
    "plt.legend()\n",
    "plt.grid()\n",
    "plt.show()\n",
    "\n",
    "plt.plot(data_sent, data_sent, \"-o\", label='distribué')\n",
    "# plt.plot(t, data_sent_nd, '-o', label='non distribué')\n",
    "plt.xlabel(\"Nombre de tâches\")\n",
    "plt.ylabel(\"Nombre de données envoyées\")\n",
    "plt.yscale(\"log\")\n",
    "plt.title(r\"Nombre de données de taille $p$ envoyées au serveur central\")\n",
    "plt.legend()\n",
    "plt.grid()\n",
    "plt.show()\n",
    "\n",
    "lower = np.array(emp_rate) - np.array(var)\n",
    "upper = np.array(emp_rate) + np.array(var)\n",
    "plt.fill_between(data_sent, lower, upper, alpha=0.2, label=\"variance\")\n",
    "plt.plot(data_sent, emp_rate, \"-o\", label='empirical rate')\n",
    "plt.plot(data_sent, th_rate, '-o', label='theoritical rate')\n",
    "plt.xlabel(\"Nombre de tâches\")\n",
    "plt.ylabel(\"Taux d'erreur\")\n",
    "plt.title(r\"Taux d'erreur empirique et théorique\")\n",
    "plt.legend()\n",
    "plt.grid()\n",
    "plt.show()"
   ]
  },
  {
   "cell_type": "markdown",
   "metadata": {},
   "source": [
    "# Real Data"
   ]
  },
  {
   "cell_type": "code",
   "execution_count": 27,
   "metadata": {},
   "outputs": [],
   "source": [
    "def normalisation(X, p, z=False):\n",
    "    \"\"\"\n",
    "    si z: z-score normalisation par tâche\n",
    "    sinon: divsion par sqrt(p)\n",
    "    \"\"\"\n",
    "    if not z:\n",
    "        for i in range(len(X)):\n",
    "            for j in range(len(X[i])):\n",
    "                X[i][j] *= 1/np.sqrt(p)\n",
    "    else:\n",
    "        for i in range(len(X)):\n",
    "            task = np.concatenate((X[i][0], X[i][1]), axis=1)\n",
    "            mean = np.mean(task, axis=1)\n",
    "            mean = np.reshape(mean, (p, 1))\n",
    "            X[i][0] = (X[i][0] - mean)/np.std(task)\n",
    "            X[i][1] = (X[i][1] - mean)/np.std(task)\n",
    "    return X"
   ]
  },
  {
   "cell_type": "code",
   "execution_count": 28,
   "metadata": {},
   "outputs": [],
   "source": [
    "from sklearn import preprocessing\n",
    "\n",
    "def divide_array(X,y,k,m=2):\n",
    "    \"\"\"\n",
    "    Divide a data ndarray in an array of k arrays of m ndarrays each.\n",
    "    Return the divided array and the number of elements in each classes of each tasks\n",
    "    \"\"\"\n",
    "    X_data = []\n",
    "    n_t = []\n",
    "    for task in range(k):\n",
    "        n_t.append([])\n",
    "        X_data.append([])\n",
    "        n_t1 = np.count_nonzero(y)\n",
    "        n_t[task].append(n_t1)\n",
    "        n_t[task].append(len(y) - n_t1)\n",
    "        X_data[task].append(X[:n_t1].T)\n",
    "        X_data[task].append(X[n_t1:].T)\n",
    "        \n",
    "    return X_data, n_t\n",
    "\n",
    "def preprocess(X, p):\n",
    "    \"\"\"\n",
    "    Centre et réduit les données X\n",
    "    \"\"\"\n",
    "    tiled = np.tile(np.reshape(np.sum(X, axis=0), (p, 1)), (1, X.shape[0])).T\n",
    "    X_t = np.true_divide(X, tiled, where=(tiled!=0))\n",
    "    return preprocessing.scale(X, axis=0)\n",
    "    "
   ]
  },
  {
   "cell_type": "code",
   "execution_count": 209,
   "metadata": {},
   "outputs": [
    {
     "name": "stdout",
     "output_type": "stream",
     "text": [
      "(400, 999) (400, 1000)\n",
      "[[999, 1000]]\n",
      "[[80, 200], [400, 20]]\n",
      "n :  700\n",
      "lenMM : 2\n",
      "MM_gathered : \n",
      "  0.905682    -1.53159    0.0618304    -0.0484037  \n",
      "  -1.53159    0.824589   -0.0665062     0.0954148  \n",
      " 0.0618304  -0.0665062    0.0047108   -0.00623109  \n",
      "-0.0484037   0.0954148  -0.00623109  -0.000383289  \n"
     ]
    },
    {
     "data": {
      "image/png": "[encoded data removed]",
      "text/plain": [
       "<Figure size 432x288 with 1 Axes>"
      ]
     },
     "metadata": {
      "needs_background": "light"
     },
     "output_type": "display_data"
    },
    {
     "name": "stdout",
     "output_type": "stream",
     "text": [
      "   0.0383687  \n",
      "   -0.191739  \n",
      "   0.0122401  \n",
      "-0.000638611  \n",
      "0.114286         0         0          0  \n",
      "       0  0.285714         0          0  \n",
      "       0         0  0.571429          0  \n",
      "       0         0         0  0.0285714  \n"
     ]
    },
    {
     "data": {
      "image/png": "[encoded data removed]",
      "text/plain": [
       "<Figure size 432x288 with 1 Axes>"
      ]
     },
     "metadata": {
      "needs_background": "light"
     },
     "output_type": "display_data"
    },
    {
     "name": "stdout",
     "output_type": "stream",
     "text": [
      "[[80, 200], [400, 20], [80, 200]]\n",
      "n :  980\n",
      "lenMM : 3\n",
      "MM_gathered : \n",
      "  0.905682    -1.53159    0.0618304    -0.0484037     1.11948      -1.212  \n",
      "  -1.53159    0.824589   -0.0665062     0.0954148    -1.31798     1.08809  \n",
      " 0.0618304  -0.0665062    0.0047108   -0.00623109   0.0698015  -0.0579252  \n",
      "-0.0484037   0.0954148  -0.00623109  -0.000383289  -0.0800253   0.0727445  \n",
      "   1.11948    -1.31798    0.0698015    -0.0800253     1.64442     -1.5018  \n",
      "    -1.212     1.08809   -0.0579252     0.0727445     -1.5018    0.978784  \n"
     ]
    },
    {
     "data": {
      "image/png": "[encoded data removed]",
      "text/plain": [
       "<Figure size 432x288 with 1 Axes>"
      ]
     },
     "metadata": {
      "needs_background": "light"
     },
     "output_type": "display_data"
    },
    {
     "name": "stdout",
     "output_type": "stream",
     "text": [
      " 0.0108424  \n",
      " -0.214981  \n",
      " 0.0147362  \n",
      "0.00189585  \n",
      "  0.102996  \n",
      " -0.113315  \n",
      "0.0816327         0         0          0          0         0  \n",
      "        0  0.204082         0          0          0         0  \n",
      "        0         0  0.408163          0          0         0  \n",
      "        0         0         0  0.0204082          0         0  \n",
      "        0         0         0          0  0.0816327         0  \n",
      "        0         0         0          0          0  0.204082  \n"
     ]
    },
    {
     "data": {
      "image/png": "[encoded data removed]",
      "text/plain": [
       "<Figure size 432x288 with 1 Axes>"
      ]
     },
     "metadata": {
      "needs_background": "light"
     },
     "output_type": "display_data"
    },
    {
     "name": "stdout",
     "output_type": "stream",
     "text": [
      "[[80, 200], [400, 20], [80, 200], [400, 20]]\n",
      "n :  1400\n",
      "lenMM : 4\n",
      "MM_gathered : \n",
      "  0.905682    -1.53159    0.0618304    -0.0484037     1.11948      -1.212    1.22374    -1.57061  \n",
      "  -1.53159    0.824589   -0.0665062     0.0954148    -1.31798     1.08809   -1.13246     1.61769  \n",
      " 0.0618304  -0.0665062    0.0047108   -0.00623109   0.0698015  -0.0579252  0.0911456  -0.0798997  \n",
      "-0.0484037   0.0954148  -0.00623109  -0.000383289  -0.0800253   0.0727445  -0.115647   0.0682284  \n",
      "   1.11948    -1.31798    0.0698015    -0.0800253     1.64442     -1.5018    1.14971    -0.95644  \n",
      "    -1.212     1.08809   -0.0579252     0.0727445     -1.5018    0.978784    -1.1718     1.70674  \n",
      "   1.22374    -1.13246    0.0911456     -0.115647     1.14971     -1.1718    1.64806    -1.71215  \n",
      "  -1.57061     1.61769   -0.0798997     0.0682284    -0.95644     1.70674   -1.71215     1.02319  \n"
     ]
    },
    {
     "data": {
      "image/png": "[encoded data removed]",
      "text/plain": [
       "<Figure size 432x288 with 1 Axes>"
      ]
     },
     "metadata": {
      "needs_background": "light"
     },
     "output_type": "display_data"
    },
    {
     "name": "stdout",
     "output_type": "stream",
     "text": [
      "-0.0759282  \n",
      " -0.208353  \n",
      "0.00983928  \n",
      " 0.0171903  \n",
      " 0.0848807  \n",
      "-0.0585466  \n",
      "   0.21716  \n",
      " 0.0618006  \n",
      "0.0571429         0         0          0          0         0         0          0  \n",
      "        0  0.142857         0          0          0         0         0          0  \n",
      "        0         0  0.285714          0          0         0         0          0  \n",
      "        0         0         0  0.0142857          0         0         0          0  \n",
      "        0         0         0          0  0.0571429         0         0          0  \n",
      "        0         0         0          0          0  0.142857         0          0  \n",
      "        0         0         0          0          0         0  0.285714          0  \n",
      "        0         0         0          0          0         0         0  0.0142857  \n"
     ]
    },
    {
     "data": {
      "image/png": "[encoded data removed]",
      "text/plain": [
       "<Figure size 432x288 with 1 Axes>"
      ]
     },
     "metadata": {
      "needs_background": "light"
     },
     "output_type": "display_data"
    }
   ],
   "source": [
    "from scipy.stats import zscore\n",
    "from scipy.io import loadmat\n",
    "\n",
    "dataset = \"amazon\"\n",
    "%matplotlib inline\n",
    "m=2\n",
    "p=400\n",
    "n11, n12, n21, n22 = 100, 100, 50, 50\n",
    "var, emp_rate = [], []\n",
    "if dataset == \"amazon\":\n",
    "    k = 3\n",
    "    mat = loadmat(\"books_400.mat\")\n",
    "    mat_test = loadmat(\"kitchen_400.mat\")\n",
    "\n",
    "    X_test_aggregated, y_test = mat_test['fts'], mat_test['labels']\n",
    "    X_test_aggregated = preprocess(X_test_aggregated,p)\n",
    "    X_test, n_t_test = divide_array(X_test_aggregated, y_test, 1)\n",
    "    \n",
    "    X_test = normalisation(X_test, p)\n",
    "    # X1 contient toute la premiere tâche\n",
    "    X1_aggregated, y = mat[\"fts\"], mat[\"labels\"]\n",
    "    X1_aggregated = preprocess(X1_aggregated, p)\n",
    "#     X1_aggregated = zscore(X1_aggregated, axis=None)\n",
    "    \n",
    "    X, n_t = divide_array(X1_aggregated, y, 1)\n",
    "    X = [[X[0][0].T[:n11].T, X[0][1].T[:n12].T]]\n",
    "    n_t = [[n11, n12]]\n",
    "#     X = normalisation(X, p, True)\n",
    "    X.append([X_test[:][0][0].T[:n21].T, X_test[:][0][1].T[:n22].T])\n",
    "#     X_test = [[X_test[0][0].T[n21:n21+500].T, X_test[0][1].T[n22:n22+50].T]]\n",
    "    print(X_test[0][0].shape, X_test[0][1].shape)\n",
    "    print(n_t_test)\n",
    "#     n_t_test = [[500, 500]]\n",
    "    n_t.append([n21, n22])\n",
    "    task_target = 1\n",
    "    \n",
    "for t in range(2, k+2):\n",
    "#     nt = sum(n_t_test[0])\n",
    "    # add tasks\n",
    "    if t>2:\n",
    "        if t==3:\n",
    "            mat = loadmat(\"dvd_400.mat\")\n",
    "            X2_aggregated, y2 = mat[\"fts\"], mat[\"labels\"] \n",
    "#             X2_aggregated = zscore(X2_aggregated, axis=None)\n",
    "            X2_aggregated = preprocess(X2_aggregated, p)\n",
    "            X_tmp, n_t_tmp = divide_array(X2_aggregated, y2, 1)\n",
    "            X_tmp = [[X_tmp[0][0].T[:n11].T, X_tmp[0][1].T[:n12].T]]\n",
    "#             X_tmp = normalisation(X_tmp, p)\n",
    "#             X_tmp = normalisation(X_tmp, p, True)\n",
    "            X.append(X_tmp[0][:])\n",
    "            n_t.append([n11, n12])\n",
    "        elif t==4:\n",
    "            mat = loadmat(\"elec_400.mat\")\n",
    "            X3_aggregated, y3 = mat[\"fts\"], mat[\"labels\"] \n",
    "#             X3_aggregated = zscore(X3_aggregated, axis=None)\n",
    "            X3_aggregated = preprocess(X3_aggregated, p)\n",
    "            X_tmp, n_t_tmp = divide_array(X3_aggregated, y3, 1)\n",
    "            X_tmp = [[X_tmp[0][0].T[:n21].T, X_tmp[0][1].T[:n22].T]]\n",
    "#             X_tmp = normalisation(X_tmp[:], p, True)\n",
    "#             X_tmp = normalisation(X_tmp, p)\n",
    "            X.append(X_tmp[0][:])\n",
    "            n_t.append([n21, n22])\n",
    "    print(n_t)\n",
    "    n = sum(list(map(sum, (n_t[i] for i in range(t)))))\n",
    "    print(\"n : \", n)\n",
    "    MM = []\n",
    "    diag = []\n",
    "    for i in range(t):\n",
    "        MM1, diag1 = empirical_mean_old(1, m, [X[i]], p, [n_t[i]])\n",
    "        # chaque moyenne empirique calculée est un vecteur de taille p\n",
    "#         sent+=1\n",
    "#         t_MM.append(time()-t0)\n",
    "        MM.append(MM1)\n",
    "        diag.append(diag1)\n",
    "    print(f\"lenMM : {len(MM)}\")\n",
    "    # CENTRAL SERVER\n",
    "#     t0 = time()\n",
    "    # sending empirical means to central server\n",
    "    V, y_opt, correlation_matrix, Dc, c0 = merging_center(MM, diag, t, m, p, n, n_t, task_target, True)\n",
    "    matprint(Dc)\n",
    "    # END CENTRAL SERVER\n",
    "    VTX = V.T@X_test_aggregated.T\n",
    "    debug_histogram(V, X_test_aggregated.T, n_t_test)\n",
    "    var.append(np.var(VTX))\n",
    "    m_t = create_mt(t, m, y_opt, Dc, correlation_matrix)\n",
    "    \n",
    "#     erreur_theorique = error_rate(t, m,  Dc, MM_true, c0)[0][0]\n",
    "    emp_rate.append(compute_error_rate(X_test, V, m_t, 1, m, n_t_test, Dc, c0))\n",
    "    \n",
    "%matplotlib qt\n",
    "plt.plot(list(range(k)), emp_rate, '-o')\n",
    "lower = np.array(emp_rate) - np.array(var)\n",
    "upper = np.array(emp_rate) + np.array(var)\n",
    "plt.fill_between(list(range(k)), lower, upper, alpha=0.2, label=\"variance\")\n",
    "ticks = [\"Books\", \"DVDs\", \"Electronics\"]\n",
    "plt.xticks(range(len(ticks)), ticks, size='larger')\n",
    "plt.xlabel(\"Added tasks\")\n",
    "# plt.ylim(0.18,0.24)\n",
    "plt.ylabel(\"Empirical error rate\")\n",
    "plt.legend()\n",
    "plt.grid()\n",
    "plt.title(\"Real data\")\n",
    "plt.show()"
   ]
  },
  {
   "cell_type": "markdown",
   "metadata": {},
   "source": [
    "# MNIST\n"
   ]
  },
  {
   "cell_type": "code",
   "execution_count": 100,
   "metadata": {},
   "outputs": [
    {
     "data": {
      "text/plain": [
       "176"
      ]
     },
     "execution_count": 100,
     "metadata": {},
     "output_type": "execute_result"
    }
   ],
   "source": [
    "pca = PCA(0.99).fit(X1)\n",
    "pca.n_components_"
   ]
  },
  {
   "cell_type": "code",
   "execution_count": 72,
   "metadata": {},
   "outputs": [
    {
     "name": "stdout",
     "output_type": "stream",
     "text": [
      "100 composantes sont suffisantes\n"
     ]
    },
    {
     "data": {
      "image/png": "[encoded data removed]",
      "text/plain": [
       "<Figure size 432x288 with 1 Axes>"
      ]
     },
     "metadata": {
      "needs_background": "light"
     },
     "output_type": "display_data"
    }
   ],
   "source": [
    "from sklearn.decomposition import PCA\n",
    "\n",
    "pca = PCA().fit(X1)\n",
    "plt.grid()\n",
    "plt.plot(np.cumsum(pca.explained_variance_ratio_))\n",
    "plt.xlabel('number of components')\n",
    "plt.ylabel('cumulative explained variance');\n",
    "\n",
    "print(\"100 composantes sont suffisantes\")"
   ]
  },
  {
   "cell_type": "code",
   "execution_count": 183,
   "metadata": {},
   "outputs": [],
   "source": [
    "from keras.datasets import mnist\n",
    "from sklearn.decomposition import PCA\n",
    "p=100\n",
    "def mnist_prepocessing(p):\n",
    "    (X_train,y_train), (X_t,y_test)=mnist.load_data()\n",
    "    print(X_t.shape, X_train.shape)\n",
    "    X_train, X_t = np.reshape(X_train, (60000, 784)), np.reshape(X_t, (10000, 784))\n",
    "    X_train, X_t = PCA(n_components=100).fit(X_train).transform(X_train), PCA(n_components=100).fit(X_t).transform(X_t)\n",
    "    X_train, X_t = X_train.T, X_t.T\n",
    "    print(X_t.shape, X_train.shape)\n",
    "    sigma=1\n",
    "#     X_train = X_train+sigma*np.random.randn(X_train.shape[0], X_train.shape[1])\n",
    "#     X_t = X_t+sigma*np.random.randn(X_t.shape[0], X_t.shape[1])\n",
    "    \n",
    "    \n",
    "    X_train /= np.max(X_train)\n",
    "    X_t /= np.max(X_t)\n",
    "    # mean_data=mean(data,2);mean_test=mean(test,2);\n",
    "    # norm2_data=0;norm2_test=0;\n",
    "    # for i=1:init_n\n",
    "    #     norm2_data=norm2_data+1/init_n*norm(data(:,i)-mean_data)^2;\n",
    "    # end\n",
    "    # for i=1:test_n\n",
    "    #     norm2_test=norm2_test+1/test_n*norm(test(:,i)-mean_test)^2;\n",
    "    # end\n",
    "    #  data=(data-mean_data*ones(1,size(data,2)))/sqrt(norm2_data)*sqrt(p);\n",
    "    #  test=(test-mean_test*ones(1,size(test,2)))/sqrt(norm2_test)*sqrt(p);\n",
    "    mean_data = np.mean(X_train,axis=1); mean_test=np.mean(X_t, axis=1)\n",
    "    mean_data = np.reshape(mean_data, (p,1)); mean_test = np.reshape(mean_test, (p,1))\n",
    "    norm2_data=0;norm2_test=0;\n",
    "    for i in range(len(X_train)):\n",
    "        norm2_data += 1/len(X_train)*np.linalg.norm(X_train.T[i]-mean_data)**2\n",
    "    for i in range(len(X_t)):\n",
    "        norm2_test += 1/len(X_t)*np.linalg.norm(X_t.T[i]-mean_test)**2\n",
    "    X_train = (X_train-mean_data@np.ones((1, X_train.shape[1])))/np.sqrt(norm2_data)*np.sqrt(p)\n",
    "    X_t = (X_t-mean_test@np.ones((1, X_t.shape[1])))/np.sqrt(norm2_test)*np.sqrt(p)\n",
    "    \n",
    "    return X_train, X_t\n",
    "    "
   ]
  },
  {
   "cell_type": "code",
   "execution_count": 184,
   "metadata": {},
   "outputs": [
    {
     "name": "stdout",
     "output_type": "stream",
     "text": [
      "(10000, 28, 28) (60000, 28, 28)\n",
      "(100, 10000) (100, 60000)\n",
      "102.18950775573038\n"
     ]
    }
   ],
   "source": [
    "X_train, X_t = mnist_prepocessing(p)\n",
    "print(np.linalg.norm(X_t))"
   ]
  },
  {
   "cell_type": "code",
   "execution_count": 185,
   "metadata": {},
   "outputs": [],
   "source": [
    "X0 = (X_train.T[y_train==0].T)\n",
    "X1 = (X_train.T[y_train==1].T)\n",
    "X2 = (X_train.T[y_train==2].T)\n",
    "X3 = (X_train.T[y_train==3].T)\n",
    "X4 = (X_train.T[y_train==4].T)\n",
    "X5 = (X_train.T[y_train==5].T)\n",
    "X6 = (X_train.T[y_train==6].T)\n",
    "X7 = (X_train.T[y_train==7].T)\n",
    "X8 = (X_train.T[y_train==8].T)\n",
    "X9 = (X_train.T[y_train==9].T)\n",
    "\n",
    "X0_test = (X_t.T[y_test==0].T)\n",
    "X1_test = (X_t.T[y_test==1].T)\n",
    "X2_test = (X_t.T[y_test==2].T)\n",
    "X3_test = (X_t.T[y_test==3].T)\n",
    "X4_test = (X_t.T[y_test==4].T)\n",
    "X5_test = (X_t.T[y_test==5].T)\n",
    "X6_test = (X_t.T[y_test==6].T)\n",
    "X7_test = (X_t.T[y_test==7].T)\n",
    "X8_test = (X_t.T[y_test==8].T)\n",
    "X9_test = (X_t.T[y_test==9].T)"
   ]
  },
  {
   "cell_type": "code",
   "execution_count": 191,
   "metadata": {
    "scrolled": true
   },
   "outputs": [
    {
     "name": "stdout",
     "output_type": "stream",
     "text": [
      "n :  200\n",
      "MM_gathered : \n",
      "   0.252047    0.122466  -0.00811616  0.0600103  \n",
      "   0.122466    0.165635   -0.0200639  0.0936121  \n",
      "-0.00811616  -0.0200639     0.336848  -0.064017  \n",
      "  0.0600103   0.0936121    -0.064017    0.22749  \n"
     ]
    },
    {
     "data": {
      "image/png": "[encoded data removed]",
      "text/plain": [
       "<Figure size 432x288 with 1 Axes>"
      ]
     },
     "metadata": {
      "needs_background": "light"
     },
     "output_type": "display_data"
    },
    {
     "name": "stdout",
     "output_type": "stream",
     "text": [
      "-0.0957943  \n",
      "  -0.17697  \n",
      "  0.670774  \n",
      " -0.494176  \n"
     ]
    },
    {
     "data": {
      "image/png": "[encoded data removed]",
      "text/plain": [
       "<Figure size 432x288 with 1 Axes>"
      ]
     },
     "metadata": {
      "needs_background": "light"
     },
     "output_type": "display_data"
    },
    {
     "name": "stdout",
     "output_type": "stream",
     "text": [
      "n :  400\n",
      "MM_gathered : \n",
      "   0.252047    0.122466  -0.00811616   0.0600103   -0.0679379  -0.0623269  \n",
      "   0.122466    0.165635   -0.0200639   0.0936121   -0.0375744  -0.0145974  \n",
      "-0.00811616  -0.0200639     0.336848   -0.064017  -0.00918252   0.0553276  \n",
      "  0.0600103   0.0936121    -0.064017     0.22749   -0.0837473  -0.0509044  \n",
      " -0.0679379  -0.0375744  -0.00918252  -0.0837473     0.207509   0.0368603  \n",
      " -0.0623269  -0.0145974    0.0553276  -0.0509044    0.0368603    0.178382  \n"
     ]
    },
    {
     "data": {
      "image/png": "[encoded data removed]",
      "text/plain": [
       "<Figure size 432x288 with 1 Axes>"
      ]
     },
     "metadata": {
      "needs_background": "light"
     },
     "output_type": "display_data"
    },
    {
     "name": "stdout",
     "output_type": "stream",
     "text": [
      "-0.164368  \n",
      "-0.345842  \n",
      "  1.33001  \n",
      "-0.961217  \n",
      " 0.199691  \n",
      " 0.295883  \n"
     ]
    },
    {
     "data": {
      "image/png": "[encoded data removed]",
      "text/plain": [
       "<Figure size 432x288 with 1 Axes>"
      ]
     },
     "metadata": {
      "needs_background": "light"
     },
     "output_type": "display_data"
    },
    {
     "name": "stdout",
     "output_type": "stream",
     "text": [
      "n :  500\n",
      "MM_gathered : \n",
      "   0.252047    0.122466  -0.00811616   0.0600103   -0.0679379  -0.0623269  -0.0283291  -0.0784693  \n",
      "   0.122466    0.165635   -0.0200639   0.0936121   -0.0375744  -0.0145974  -0.0230806  -0.0380218  \n",
      "-0.00811616  -0.0200639     0.336848   -0.064017  -0.00918252   0.0553276    0.016168  -0.0618442  \n",
      "  0.0600103   0.0936121    -0.064017     0.22749   -0.0837473  -0.0509044  -0.0374184    0.034162  \n",
      " -0.0679379  -0.0375744  -0.00918252  -0.0837473     0.207509   0.0368603   0.0488513   -0.109455  \n",
      " -0.0623269  -0.0145974    0.0553276  -0.0509044    0.0368603    0.178382  0.00801014  -0.0496836  \n",
      " -0.0283291  -0.0230806     0.016168  -0.0374184    0.0488513  0.00801014   0.0962709  -0.0236511  \n",
      " -0.0784693  -0.0380218   -0.0618442    0.034162    -0.109455  -0.0496836  -0.0236511    0.330771  \n"
     ]
    },
    {
     "data": {
      "image/png": "[encoded data removed]",
      "text/plain": [
       "<Figure size 432x288 with 1 Axes>"
      ]
     },
     "metadata": {
      "needs_background": "light"
     },
     "output_type": "display_data"
    },
    {
     "name": "stdout",
     "output_type": "stream",
     "text": [
      "-0.215835  \n",
      "-0.436462  \n",
      "  1.65283  \n",
      " -1.19477  \n",
      " 0.230923  \n",
      " 0.362975  \n",
      " 0.196618  \n",
      "-0.325768  \n"
     ]
    },
    {
     "data": {
      "image/png": "[encoded data removed]",
      "text/plain": [
       "<Figure size 432x288 with 1 Axes>"
      ]
     },
     "metadata": {
      "needs_background": "light"
     },
     "output_type": "display_data"
    },
    {
     "name": "stdout",
     "output_type": "stream",
     "text": [
      "n :  700\n",
      "MM_gathered : \n",
      "   0.252047    0.122466  -0.00811616   0.0600103   -0.0679379  -0.0623269  -0.0283291  -0.0784693   -0.0914216    0.107221  \n",
      "   0.122466    0.165635   -0.0200639   0.0936121   -0.0375744  -0.0145974  -0.0230806  -0.0380218   -0.0986529    0.163256  \n",
      "-0.00811616  -0.0200639     0.336848   -0.064017  -0.00918252   0.0553276    0.016168  -0.0618442  -0.00348294  -0.0300047  \n",
      "  0.0600103   0.0936121    -0.064017     0.22749   -0.0837473  -0.0509044  -0.0374184    0.034162   -0.0103408   0.0952362  \n",
      " -0.0679379  -0.0375744  -0.00918252  -0.0837473     0.207509   0.0368603   0.0488513   -0.109455   0.00728737  -0.0519195  \n",
      " -0.0623269  -0.0145974    0.0553276  -0.0509044    0.0368603    0.178382  0.00801014  -0.0496836    0.0224261  -0.0104999  \n",
      " -0.0283291  -0.0230806     0.016168  -0.0374184    0.0488513  0.00801014   0.0962709  -0.0236511   -0.0293597  -0.0270816  \n",
      " -0.0784693  -0.0380218   -0.0618442    0.034162    -0.109455  -0.0496836  -0.0236511    0.330771    0.0478964  -0.0194621  \n",
      " -0.0914216  -0.0986529  -0.00348294  -0.0103408   0.00728737   0.0224261  -0.0293597   0.0478964     0.198824  -0.0792021  \n",
      "   0.107221    0.163256   -0.0300047   0.0952362   -0.0519195  -0.0104999  -0.0270816  -0.0194621   -0.0792021    0.139258  \n"
     ]
    },
    {
     "data": {
      "image/png": "[encoded data removed]",
      "text/plain": [
       "<Figure size 432x288 with 1 Axes>"
      ]
     },
     "metadata": {
      "needs_background": "light"
     },
     "output_type": "display_data"
    },
    {
     "name": "stdout",
     "output_type": "stream",
     "text": [
      " -0.254798  \n",
      " -0.528564  \n",
      "   2.30012  \n",
      "  -1.62808  \n",
      "  0.301438  \n",
      "     0.507  \n",
      "   0.26203  \n",
      " -0.465119  \n",
      "-0.0339623  \n",
      " -0.606133  \n"
     ]
    },
    {
     "data": {
      "image/png": "[encoded data removed]",
      "text/plain": [
       "<Figure size 432x288 with 1 Axes>"
      ]
     },
     "metadata": {
      "needs_background": "light"
     },
     "output_type": "display_data"
    },
    {
     "name": "stdout",
     "output_type": "stream",
     "text": [
      "n :  800\n",
      "MM_gathered : \n",
      "   0.252047    0.122466  -0.00811616   0.0600103   -0.0679379  -0.0623269  -0.0283291  -0.0784693   -0.0914216    0.107221  -0.0730239  -0.0283291  \n",
      "   0.122466    0.165635   -0.0200639   0.0936121   -0.0375744  -0.0145974  -0.0230806  -0.0380218   -0.0986529    0.163256  -0.0396562  -0.0230806  \n",
      "-0.00811616  -0.0200639     0.336848   -0.064017  -0.00918252   0.0553276    0.016168  -0.0618442  -0.00348294  -0.0300047  -0.0224697    0.016168  \n",
      "  0.0600103   0.0936121    -0.064017     0.22749   -0.0837473  -0.0509044  -0.0374184    0.034162   -0.0103408   0.0952362  -0.0967498  -0.0374184  \n",
      " -0.0679379  -0.0375744  -0.00918252  -0.0837473     0.207509   0.0368603   0.0488513   -0.109455   0.00728737  -0.0519195    0.253666   0.0488513  \n",
      " -0.0623269  -0.0145974    0.0553276  -0.0509044    0.0368603    0.178382  0.00801014  -0.0496836    0.0224261  -0.0104999   0.0395074  0.00801014  \n",
      " -0.0283291  -0.0230806     0.016168  -0.0374184    0.0488513  0.00801014   0.0962709  -0.0236511   -0.0293597  -0.0270816   0.0387078    0.115457  \n",
      " -0.0784693  -0.0380218   -0.0618442    0.034162    -0.109455  -0.0496836  -0.0236511    0.330771    0.0478964  -0.0194621   -0.130336  -0.0236511  \n",
      " -0.0914216  -0.0986529  -0.00348294  -0.0103408   0.00728737   0.0224261  -0.0293597   0.0478964     0.198824  -0.0792021   0.0125213  -0.0293597  \n",
      "   0.107221    0.163256   -0.0300047   0.0952362   -0.0519195  -0.0104999  -0.0270816  -0.0194621   -0.0792021    0.139258  -0.0573085  -0.0270816  \n",
      " -0.0730239  -0.0396562   -0.0224697  -0.0967498     0.253666   0.0395074   0.0387078   -0.130336    0.0125213  -0.0573085    0.270524   0.0387078  \n",
      " -0.0283291  -0.0230806     0.016168  -0.0374184    0.0488513  0.00801014    0.115457  -0.0236511   -0.0293597  -0.0270816   0.0387078   0.0962709  \n"
     ]
    },
    {
     "data": {
      "image/png": "[encoded data removed]",
      "text/plain": [
       "<Figure size 432x288 with 1 Axes>"
      ]
     },
     "metadata": {
      "needs_background": "light"
     },
     "output_type": "display_data"
    },
    {
     "name": "stdout",
     "output_type": "stream",
     "text": [
      " -0.281361  \n",
      " -0.598948  \n",
      "   2.63064  \n",
      "  -1.84773  \n",
      "  0.310857  \n",
      "  0.575628  \n",
      "  0.281116  \n",
      " -0.515805  \n",
      "-0.0359821  \n",
      " -0.684929  \n",
      "  0.288365  \n",
      "  0.281116  \n"
     ]
    },
    {
     "data": {
      "image/png": "[encoded data removed]",
      "text/plain": [
       "<Figure size 432x288 with 1 Axes>"
      ]
     },
     "metadata": {
      "needs_background": "light"
     },
     "output_type": "display_data"
    },
    {
     "name": "stderr",
     "output_type": "stream",
     "text": [
      "No handles with labels found to put in legend.\n"
     ]
    }
   ],
   "source": [
    "%matplotlib inline\n",
    "n1, n2 = 100, 50\n",
    "X_test = [[X1_test.T[:250].T, X4_test.T[:250].T]]\n",
    "n_t_test = [[250, 250]]\n",
    "X = [[X7.T[:n2].T, X9.T[:n2].T]]\n",
    "n_t = [[n2,n2]]\n",
    "m, k = 2, 5\n",
    "var, emp_rate = [], []\n",
    "task_target = 1\n",
    "\n",
    "# X_test = normalisation(X_test, p, True)\n",
    "n = sum(list(map(sum, (n_t[i] for i in range(len(n_t))))))\n",
    "X_test_aggregated = aggregate_array(X_test, p, n, 1, 2)\n",
    "\n",
    "# X = normalisation(X, p, True)\n",
    "\n",
    "for t in range(2, k+2):\n",
    "#     nt = sum(n_t_test[0])\n",
    "    \n",
    "    # add tasks\n",
    "    if t==2:\n",
    "        X_tmp = [[X1.T[:n2].T, X4.T[:n2].T]]\n",
    "#         X_tmp = normalisation(X_tmp,p,True)\n",
    "        X.append(X_tmp[:][0])\n",
    "        n_t.append([n2, n2])\n",
    "    elif t==3:\n",
    "        X_tmp = [[X3.T[:n1].T, X8.T[:n1].T]]\n",
    "        X.append(X_tmp[:][0])\n",
    "        n_t.append([n1, n1])\n",
    "    elif t==4:\n",
    "        X_tmp = [[X5.T[:n2].T, X6.T[:n2].T]]\n",
    "        X.append(X_tmp[:][0])\n",
    "        n_t.append([n2, n2])\n",
    "    elif t==5:\n",
    "        X_tmp = [[X2.T[:n1].T, X9.T[:n1].T]]\n",
    "        X.append(X_tmp[:][0])\n",
    "        n_t.append([n1, n1])\n",
    "    elif t==6:\n",
    "        X_tmp = [[X3.T[:n2].T, X5.T[:n2].T]]\n",
    "        X.append(X_tmp[:][0])\n",
    "        X.append([X3.T[:n2].T, X5.T[:n2].T])\n",
    "        n_t.append([n2, n2])\n",
    "    \n",
    "    n = sum(list(map(sum, (n_t[i] for i in range(len(n_t))))))\n",
    "    print(\"n : \", n)\n",
    "            \n",
    "    MM = []\n",
    "    diag = []\n",
    "    for i in range(t):\n",
    "        MM1, diag1 = empirical_mean_old(1, m, [X[i]], p, [n_t[i]])\n",
    "        MM.append(MM1)\n",
    "        diag.append(diag1)\n",
    "\n",
    "    V, y_opt, correlation_matrix, Dc, c0 = merging_center(MM, diag, t, m, p, n, n_t, task_target, True)\n",
    "    \n",
    "    VTX = V.T@X_test_aggregated\n",
    "    debug_histogram(V, X_test_aggregated, n_t_test)\n",
    "    var.append(np.var(VTX))\n",
    "    m_t = create_mt(t, m, y_opt, Dc, correlation_matrix)\n",
    "    emp_rate.append(compute_error_rate(X_test, V, m_t, 1, m, n_t_test, Dc, c0))\n",
    "\n",
    "%matplotlib qt\n",
    "plt.plot(list(range(k)), emp_rate, '-o')\n",
    "# lower = np.array(emp_rate) - np.array(var)\n",
    "# upper = np.array(emp_rate) + np.array(var)\n",
    "# plt.fill_between(list(range(k)), lower, upper, alpha=0.2, label=\"variance\")\n",
    "plt.legend()\n",
    "ticks = [\"(7-9)\", \"(3-8)\", \"(5-6)\", \"(2-9)\", \"(3-5)\"]\n",
    "plt.xticks(range(len(ticks)), ticks, size='larger')\n",
    "plt.xlabel(\"Added tasks\")\n",
    "plt.ylabel(\"Empirical error rate\")\n",
    "plt.grid()\n",
    "plt.title(\"MNIST data\")\n",
    "plt.show()"
   ]
  },
  {
   "cell_type": "code",
   "execution_count": 178,
   "metadata": {},
   "outputs": [
    {
     "name": "stdout",
     "output_type": "stream",
     "text": [
      "(100, 5923)\n"
     ]
    }
   ],
   "source": [
    "print(X0.shape)"
   ]
  },
  {
   "cell_type": "markdown",
   "metadata": {},
   "source": [
    "# Optimalité"
   ]
  },
  {
   "cell_type": "code",
   "execution_count": 192,
   "metadata": {},
   "outputs": [],
   "source": [
    "# print((MM-MM*(np.identity(2*t)+1/sigma**2*np.identity(2*t)*MM)).shape)\n",
    "from scipy.stats import norm\n",
    "def bayes_risk(rho, gamma):\n",
    "    \"\"\"\n",
    "    Compute minimal Bayes error rate of label estimation for task t\n",
    "    \"\"\"\n",
    "    if rho == 1/2:\n",
    "        return 1-norm.cdf(np.sqrt(gamma))\n",
    "\n",
    "    return 1-rho*norm.cdf(np.sqrt(gamma)-1/(2*np.sqrt(gamma))*np.log((1-rho)/rho))-(1-rho)*norm.cdf(np.sqrt(gamma)+1/(2*np.sqrt(gamma))*np.log((1-rho)/rho))"
   ]
  },
  {
   "cell_type": "code",
   "execution_count": 82,
   "metadata": {
    "scrolled": true
   },
   "outputs": [
    {
     "name": "stdout",
     "output_type": "stream",
     "text": [
      "task 1 empirical mean = 0.01\n",
      "   1.05412   -0.969539    0.118643  -0.0498272  \n",
      " -0.969539     1.09495  -0.0732167   0.0143571  \n",
      "  0.118643  -0.0732167     1.10769   -0.898358  \n",
      "-0.0498272   0.0143571   -0.898358     1.04712  \n",
      "10   0  0  0  \n",
      " 0  10  0  0  \n",
      " 0   0  5  0  \n",
      " 0   0  0  5  \n",
      "[0.9382795570891507, 0.8791901119121424]\n",
      "task 1 empirical mean = 0.012761423749153965\n",
      "  1.05412  -0.969539   0.442593  -0.373777  \n",
      "-0.969539    1.09495  -0.406935   0.348076  \n",
      " 0.442593  -0.406935    1.17447  -0.950863  \n",
      "-0.373777   0.348076  -0.950863    1.08535  \n",
      "10   0  0  0  \n",
      " 0  10  0  0  \n",
      " 0   0  5  0  \n",
      " 0   0  0  5  \n",
      "[1.0035690335885885, 0.9164697992833846]\n",
      "task 1 empirical mean = 0.014120226591665966\n",
      "  1.05412  -0.969539    0.76426  -0.695444  \n",
      "-0.969539    1.09495  -0.745352   0.686492  \n",
      "  0.76426  -0.745352    1.25329   -1.01911  \n",
      "-0.695444   0.686492   -1.01911    1.14301  \n",
      "10   0  0  0  \n",
      " 0  10  0  0  \n",
      " 0   0  5  0  \n",
      " 0   0  0  5  \n",
      "[1.080817316912103, 0.9727939749359849]\n",
      "task 1 empirical mean = 0.01\n",
      "  1.05412  -0.969539   1.07701  -1.00819  \n",
      "-0.969539    1.09495  -1.10212   1.04326  \n",
      "  1.07701   -1.10212    1.3792  -1.14883  \n",
      " -1.00819    1.04326  -1.14883   1.27656  \n",
      "10   0  0  0  \n",
      " 0  10  0  0  \n",
      " 0   0  5  0  \n",
      " 0   0  0  5  \n",
      "[1.204525305283364, 1.1036458605164945]\n"
     ]
    },
    {
     "data": {
      "image/png": "[encoded data removed]",
      "text/plain": [
       "<Figure size 432x288 with 1 Axes>"
      ]
     },
     "metadata": {
      "needs_background": "light"
     },
     "output_type": "display_data"
    }
   ],
   "source": [
    "# T = 2, p_t = 1, lambda = 1, a1, a2 = 1 ?\n",
    "# calcul de q_t\n",
    "p = 100\n",
    "m = 2\n",
    "t = 2\n",
    "beta = np.linspace(0,1,4)\n",
    "n_t = [[1000, 1000], [500, 500]]\n",
    "n = sum(list(map(sum, (n_t[i] for i in range(t)))))\n",
    "n_t_test = [[1000, 1000]]\n",
    "nt = sum(n_t_test[0])\n",
    "random_state=100\n",
    "sigma = 1\n",
    "R1, R2 = [], []\n",
    "for b in beta:\n",
    "    qt = []\n",
    "    M = mean_matrix(p, b, t, random_seed=random_state)\n",
    "#     M = [[]]\n",
    "    print(f\"task 1 empirical mean = {np.mean(M[1][0])}\")\n",
    "#     M1 = np.mean(np.concatenate((M[0][0], M[0][1]), axis=1), axis=1)\n",
    "#     M2 = np.mean(np.concatenate((M[1][0], M[1][1]), axis=1), axis=1)\n",
    "    X, y_bs = gaussian_synthetic_data(n, p, m, t, n_t, M, random_state)\n",
    "#     if b==0:\n",
    "#         M_prec=M[:]\n",
    "#         X_prec=X[:]\n",
    "#     else:\n",
    "#         print(f\"Test : {X_prec[1][0]==X[1][0]}\")\n",
    "#         print(f\"Test : {M_prec[1][0]==M[1][0]}\")\n",
    "#     X = normalisation(X, p)\n",
    "#     print(X[1][0].T[10].T)\n",
    "#     X_test, y_test = gaussian_synthetic_data(nt, p, m, 1, n_t_test, [M[1]], random_state)\n",
    "    # M1 et M2 sont les moyennes empiriques pour les taches 1 et 2\n",
    "#     M1_true = true_mean(M,p,2,2)\n",
    "#     M1 = empirical_mean_old(1, 1, [[np.concatenate((X[0][0],X[0][1]), axis=1)]], p, [[sum(n_t[0])]])[0]\n",
    "#     M2 = empirical_mean_old(1, 1, [[np.concatenate((X[1][0],X[1][1]), axis=1)]], p, [[sum(n_t[1])]])[0]\n",
    "#     if b==0:\n",
    "#         M2_prec=M2[:]\n",
    "#     else:\n",
    "#         print(f\"Test : {M2_prec==M2}\")\n",
    "#         print(M1.T@M2)\n",
    "#         print(M1.T@M2_prec)\n",
    "#         print(f\"Encore un test : {M1.T@M2==M1.T@M2_prec}\")\n",
    "#     print(f\"task 1 empirical mean = {np.mean(M1)}\")\n",
    "#     print(f\"task 2 empirical mean = {np.mean(M2)}\")\n",
    "#     print(M1, M2)\n",
    "#     MM = np.array([[(M1.T@M1)[0][0], (M1.T@M2)[0][0]],[(M2.T@M1)[0][0], (M2.T@M2)[0][0]]])\n",
    "    M1 = empirical_mean_old(2,2,X,p,n_t)[0]\n",
    "    MM = M1.T@M1\n",
    "    matprint(MM)\n",
    "    r1, r2 = bayes_optimal(n_t, MM, p)\n",
    "    R1.append(r1)\n",
    "    R2.append(r2)\n",
    "    \n",
    "plt.plot(beta, R2)\n",
    "plt.grid()\n",
    "plt.show()\n",
    "    "
   ]
  },
  {
   "cell_type": "code",
   "execution_count": 193,
   "metadata": {},
   "outputs": [],
   "source": [
    "def bayes_optimal(n_t, MM, p, sigma=1):\n",
    "    \"\"\"\n",
    "    Renvoie R1, R2\n",
    "    \"\"\"\n",
    "    qt = []\n",
    "    a1, a2, a3, a4 = n_t[0][0]/p, n_t[0][1]/p, n_t[1][0]/p, n_t[1][1]/p\n",
    "    D = np.diag([a1/sigma**2, a2/sigma**2, a3/sigma**2, a3/sigma**2])\n",
    "    matprint(D)\n",
    "    Q = np.diag((MM-MM*np.linalg.inv(np.identity(4)+D*MM)))\n",
    "    qt.append(Q[2])\n",
    "    qt.append(Q[3])\n",
    "    \n",
    "    print(qt)\n",
    "    if bayes_risk(n_t[0][0]/sum(n_t[0]), qt[0])>0.5:\n",
    "        R1 = (1-bayes_risk(n_t[0][0]/sum(n_t[0]), qt[0]))\n",
    "    else:\n",
    "        R1 = (bayes_risk(n_t[0][0]/sum(n_t[0]), qt[0]))\n",
    "    if bayes_risk(n_t[1][0]/sum(n_t[1]), qt[1])>0.5:\n",
    "        R2 = (1-bayes_risk(n_t[1][0]/sum(n_t[1]), qt[1]))\n",
    "    else:\n",
    "        R2 = (bayes_risk(n_t[1][0]/sum(n_t[1]), qt[1]))  \n",
    "    return R1, R2"
   ]
  },
  {
   "cell_type": "code",
   "execution_count": 194,
   "metadata": {},
   "outputs": [
    {
     "name": "stdout",
     "output_type": "stream",
     "text": [
      "[]\n"
     ]
    },
    {
     "ename": "ValueError",
     "evalue": "x and y must have same first dimension, but have shapes (10,) and (0,)",
     "output_type": "error",
     "traceback": [
      "\u001b[0;31m---------------------------------------------------------------------------\u001b[0m",
      "\u001b[0;31mValueError\u001b[0m                                Traceback (most recent call last)",
      "\u001b[0;32m<ipython-input-194-d759dc10931d>\u001b[0m in \u001b[0;36m<module>\u001b[0;34m\u001b[0m\n\u001b[1;32m      1\u001b[0m \u001b[0mprint\u001b[0m\u001b[0;34m(\u001b[0m\u001b[0mR1\u001b[0m\u001b[0;34m)\u001b[0m\u001b[0;34m\u001b[0m\u001b[0;34m\u001b[0m\u001b[0m\n\u001b[0;32m----> 2\u001b[0;31m \u001b[0mplt\u001b[0m\u001b[0;34m.\u001b[0m\u001b[0mplot\u001b[0m\u001b[0;34m(\u001b[0m\u001b[0mbeta\u001b[0m\u001b[0;34m,\u001b[0m \u001b[0mR1\u001b[0m\u001b[0;34m,\u001b[0m \u001b[0;34m'-o'\u001b[0m\u001b[0;34m,\u001b[0m \u001b[0mlabel\u001b[0m\u001b[0;34m=\u001b[0m\u001b[0;34m\"R1\"\u001b[0m\u001b[0;34m)\u001b[0m\u001b[0;34m\u001b[0m\u001b[0;34m\u001b[0m\u001b[0m\n\u001b[0m\u001b[1;32m      3\u001b[0m \u001b[0mplt\u001b[0m\u001b[0;34m.\u001b[0m\u001b[0mplot\u001b[0m\u001b[0;34m(\u001b[0m\u001b[0mbeta\u001b[0m\u001b[0;34m,\u001b[0m \u001b[0mR2\u001b[0m\u001b[0;34m,\u001b[0m \u001b[0;34m'-o'\u001b[0m\u001b[0;34m,\u001b[0m \u001b[0mlabel\u001b[0m\u001b[0;34m=\u001b[0m\u001b[0;34m\"R2\"\u001b[0m\u001b[0;34m)\u001b[0m\u001b[0;34m\u001b[0m\u001b[0;34m\u001b[0m\u001b[0m\n\u001b[1;32m      4\u001b[0m \u001b[0mplt\u001b[0m\u001b[0;34m.\u001b[0m\u001b[0mlegend\u001b[0m\u001b[0;34m(\u001b[0m\u001b[0;34m)\u001b[0m\u001b[0;34m\u001b[0m\u001b[0;34m\u001b[0m\u001b[0m\n\u001b[1;32m      5\u001b[0m \u001b[0mplt\u001b[0m\u001b[0;34m.\u001b[0m\u001b[0mgrid\u001b[0m\u001b[0;34m(\u001b[0m\u001b[0;34m)\u001b[0m\u001b[0;34m\u001b[0m\u001b[0;34m\u001b[0m\u001b[0m\n",
      "\u001b[0;32m~/anaconda3/lib/python3.7/site-packages/matplotlib/pyplot.py\u001b[0m in \u001b[0;36mplot\u001b[0;34m(scalex, scaley, data, *args, **kwargs)\u001b[0m\n\u001b[1;32m   2840\u001b[0m     return gca().plot(\n\u001b[1;32m   2841\u001b[0m         \u001b[0;34m*\u001b[0m\u001b[0margs\u001b[0m\u001b[0;34m,\u001b[0m \u001b[0mscalex\u001b[0m\u001b[0;34m=\u001b[0m\u001b[0mscalex\u001b[0m\u001b[0;34m,\u001b[0m \u001b[0mscaley\u001b[0m\u001b[0;34m=\u001b[0m\u001b[0mscaley\u001b[0m\u001b[0;34m,\u001b[0m\u001b[0;34m\u001b[0m\u001b[0;34m\u001b[0m\u001b[0m\n\u001b[0;32m-> 2842\u001b[0;31m         **({\"data\": data} if data is not None else {}), **kwargs)\n\u001b[0m\u001b[1;32m   2843\u001b[0m \u001b[0;34m\u001b[0m\u001b[0m\n\u001b[1;32m   2844\u001b[0m \u001b[0;34m\u001b[0m\u001b[0m\n",
      "\u001b[0;32m~/anaconda3/lib/python3.7/site-packages/matplotlib/axes/_axes.py\u001b[0m in \u001b[0;36mplot\u001b[0;34m(self, scalex, scaley, data, *args, **kwargs)\u001b[0m\n\u001b[1;32m   1741\u001b[0m         \"\"\"\n\u001b[1;32m   1742\u001b[0m         \u001b[0mkwargs\u001b[0m \u001b[0;34m=\u001b[0m \u001b[0mcbook\u001b[0m\u001b[0;34m.\u001b[0m\u001b[0mnormalize_kwargs\u001b[0m\u001b[0;34m(\u001b[0m\u001b[0mkwargs\u001b[0m\u001b[0;34m,\u001b[0m \u001b[0mmlines\u001b[0m\u001b[0;34m.\u001b[0m\u001b[0mLine2D\u001b[0m\u001b[0;34m)\u001b[0m\u001b[0;34m\u001b[0m\u001b[0;34m\u001b[0m\u001b[0m\n\u001b[0;32m-> 1743\u001b[0;31m         \u001b[0mlines\u001b[0m \u001b[0;34m=\u001b[0m \u001b[0;34m[\u001b[0m\u001b[0;34m*\u001b[0m\u001b[0mself\u001b[0m\u001b[0;34m.\u001b[0m\u001b[0m_get_lines\u001b[0m\u001b[0;34m(\u001b[0m\u001b[0;34m*\u001b[0m\u001b[0margs\u001b[0m\u001b[0;34m,\u001b[0m \u001b[0mdata\u001b[0m\u001b[0;34m=\u001b[0m\u001b[0mdata\u001b[0m\u001b[0;34m,\u001b[0m \u001b[0;34m**\u001b[0m\u001b[0mkwargs\u001b[0m\u001b[0;34m)\u001b[0m\u001b[0;34m]\u001b[0m\u001b[0;34m\u001b[0m\u001b[0;34m\u001b[0m\u001b[0m\n\u001b[0m\u001b[1;32m   1744\u001b[0m         \u001b[0;32mfor\u001b[0m \u001b[0mline\u001b[0m \u001b[0;32min\u001b[0m \u001b[0mlines\u001b[0m\u001b[0;34m:\u001b[0m\u001b[0;34m\u001b[0m\u001b[0;34m\u001b[0m\u001b[0m\n\u001b[1;32m   1745\u001b[0m             \u001b[0mself\u001b[0m\u001b[0;34m.\u001b[0m\u001b[0madd_line\u001b[0m\u001b[0;34m(\u001b[0m\u001b[0mline\u001b[0m\u001b[0;34m)\u001b[0m\u001b[0;34m\u001b[0m\u001b[0;34m\u001b[0m\u001b[0m\n",
      "\u001b[0;32m~/anaconda3/lib/python3.7/site-packages/matplotlib/axes/_base.py\u001b[0m in \u001b[0;36m__call__\u001b[0;34m(self, data, *args, **kwargs)\u001b[0m\n\u001b[1;32m    271\u001b[0m                 \u001b[0mthis\u001b[0m \u001b[0;34m+=\u001b[0m \u001b[0margs\u001b[0m\u001b[0;34m[\u001b[0m\u001b[0;36m0\u001b[0m\u001b[0;34m]\u001b[0m\u001b[0;34m,\u001b[0m\u001b[0;34m\u001b[0m\u001b[0;34m\u001b[0m\u001b[0m\n\u001b[1;32m    272\u001b[0m                 \u001b[0margs\u001b[0m \u001b[0;34m=\u001b[0m \u001b[0margs\u001b[0m\u001b[0;34m[\u001b[0m\u001b[0;36m1\u001b[0m\u001b[0;34m:\u001b[0m\u001b[0;34m]\u001b[0m\u001b[0;34m\u001b[0m\u001b[0;34m\u001b[0m\u001b[0m\n\u001b[0;32m--> 273\u001b[0;31m             \u001b[0;32myield\u001b[0m \u001b[0;32mfrom\u001b[0m \u001b[0mself\u001b[0m\u001b[0;34m.\u001b[0m\u001b[0m_plot_args\u001b[0m\u001b[0;34m(\u001b[0m\u001b[0mthis\u001b[0m\u001b[0;34m,\u001b[0m \u001b[0mkwargs\u001b[0m\u001b[0;34m)\u001b[0m\u001b[0;34m\u001b[0m\u001b[0;34m\u001b[0m\u001b[0m\n\u001b[0m\u001b[1;32m    274\u001b[0m \u001b[0;34m\u001b[0m\u001b[0m\n\u001b[1;32m    275\u001b[0m     \u001b[0;32mdef\u001b[0m \u001b[0mget_next_color\u001b[0m\u001b[0;34m(\u001b[0m\u001b[0mself\u001b[0m\u001b[0;34m)\u001b[0m\u001b[0;34m:\u001b[0m\u001b[0;34m\u001b[0m\u001b[0;34m\u001b[0m\u001b[0m\n",
      "\u001b[0;32m~/anaconda3/lib/python3.7/site-packages/matplotlib/axes/_base.py\u001b[0m in \u001b[0;36m_plot_args\u001b[0;34m(self, tup, kwargs)\u001b[0m\n\u001b[1;32m    397\u001b[0m \u001b[0;34m\u001b[0m\u001b[0m\n\u001b[1;32m    398\u001b[0m         \u001b[0;32mif\u001b[0m \u001b[0mx\u001b[0m\u001b[0;34m.\u001b[0m\u001b[0mshape\u001b[0m\u001b[0;34m[\u001b[0m\u001b[0;36m0\u001b[0m\u001b[0;34m]\u001b[0m \u001b[0;34m!=\u001b[0m \u001b[0my\u001b[0m\u001b[0;34m.\u001b[0m\u001b[0mshape\u001b[0m\u001b[0;34m[\u001b[0m\u001b[0;36m0\u001b[0m\u001b[0;34m]\u001b[0m\u001b[0;34m:\u001b[0m\u001b[0;34m\u001b[0m\u001b[0;34m\u001b[0m\u001b[0m\n\u001b[0;32m--> 399\u001b[0;31m             raise ValueError(f\"x and y must have same first dimension, but \"\n\u001b[0m\u001b[1;32m    400\u001b[0m                              f\"have shapes {x.shape} and {y.shape}\")\n\u001b[1;32m    401\u001b[0m         \u001b[0;32mif\u001b[0m \u001b[0mx\u001b[0m\u001b[0;34m.\u001b[0m\u001b[0mndim\u001b[0m \u001b[0;34m>\u001b[0m \u001b[0;36m2\u001b[0m \u001b[0;32mor\u001b[0m \u001b[0my\u001b[0m\u001b[0;34m.\u001b[0m\u001b[0mndim\u001b[0m \u001b[0;34m>\u001b[0m \u001b[0;36m2\u001b[0m\u001b[0;34m:\u001b[0m\u001b[0;34m\u001b[0m\u001b[0;34m\u001b[0m\u001b[0m\n",
      "\u001b[0;31mValueError\u001b[0m: x and y must have same first dimension, but have shapes (10,) and (0,)"
     ]
    }
   ],
   "source": [
    "print(R1)\n",
    "plt.plot(beta, R1, '-o', label=\"R1\")\n",
    "plt.plot(beta, R2, '-o', label=\"R2\")\n",
    "plt.legend()\n",
    "plt.grid()\n",
    "plt.show()"
   ]
  },
  {
   "cell_type": "markdown",
   "metadata": {},
   "source": [
    "# Algorithme distribué k-tâches m classes\n",
    "On se ramène à un cas 2-tâches 2-classes en fait"
   ]
  },
  {
   "cell_type": "code",
   "execution_count": 81,
   "metadata": {},
   "outputs": [],
   "source": [
    "from scipy.stats import zscore\n",
    "\n",
    "def z_normalize(X, k):\n",
    "    \"\"\"\n",
    "    Normalise les données.\n",
    "    k tâches, m classes\n",
    "    X le tableau de données.\n",
    "    \"\"\"\n",
    "    return zscore(X)"
   ]
  },
  {
   "cell_type": "code",
   "execution_count": 195,
   "metadata": {
    "scrolled": true
   },
   "outputs": [
    {
     "name": "stdout",
     "output_type": "stream",
     "text": [
      "random\n",
      "beta 0.5434049417909654\n"
     ]
    },
    {
     "ename": "KeyboardInterrupt",
     "evalue": "",
     "output_type": "error",
     "traceback": [
      "\u001b[0;31m---------------------------------------------------------------------------\u001b[0m",
      "\u001b[0;31mKeyboardInterrupt\u001b[0m                         Traceback (most recent call last)",
      "\u001b[0;32m<ipython-input-195-78d072b47f1f>\u001b[0m in \u001b[0;36m<module>\u001b[0;34m\u001b[0m\n\u001b[1;32m     21\u001b[0m \u001b[0;31m# choisir la tache que l'on veut tester\u001b[0m\u001b[0;34m\u001b[0m\u001b[0;34m\u001b[0m\u001b[0;34m\u001b[0m\u001b[0m\n\u001b[1;32m     22\u001b[0m \u001b[0mtest_task\u001b[0m \u001b[0;34m=\u001b[0m \u001b[0;36m1\u001b[0m\u001b[0;34m\u001b[0m\u001b[0;34m\u001b[0m\u001b[0m\n\u001b[0;32m---> 23\u001b[0;31m \u001b[0mX_test\u001b[0m\u001b[0;34m,\u001b[0m \u001b[0my_test\u001b[0m \u001b[0;34m=\u001b[0m \u001b[0mgaussian_synthetic_data\u001b[0m\u001b[0;34m(\u001b[0m\u001b[0mn\u001b[0m\u001b[0;34m,\u001b[0m \u001b[0mp\u001b[0m\u001b[0;34m,\u001b[0m \u001b[0mm\u001b[0m\u001b[0;34m,\u001b[0m \u001b[0;36m1\u001b[0m\u001b[0;34m,\u001b[0m \u001b[0mn_t_test\u001b[0m\u001b[0;34m,\u001b[0m \u001b[0;34m[\u001b[0m\u001b[0mM\u001b[0m\u001b[0;34m[\u001b[0m\u001b[0mtest_task\u001b[0m\u001b[0;34m]\u001b[0m\u001b[0;34m]\u001b[0m\u001b[0;34m,\u001b[0m \u001b[0mrandom_state\u001b[0m\u001b[0;34m)\u001b[0m\u001b[0;34m\u001b[0m\u001b[0;34m\u001b[0m\u001b[0m\n\u001b[0m\u001b[1;32m     24\u001b[0m \u001b[0mX\u001b[0m\u001b[0;34m,\u001b[0m \u001b[0mX_test\u001b[0m \u001b[0;34m=\u001b[0m \u001b[0mz_normalize\u001b[0m\u001b[0;34m(\u001b[0m\u001b[0mX\u001b[0m\u001b[0;34m,\u001b[0m \u001b[0mk\u001b[0m\u001b[0;34m,\u001b[0m \u001b[0mm\u001b[0m\u001b[0;34m)\u001b[0m\u001b[0;34m,\u001b[0m \u001b[0mz_normalize\u001b[0m\u001b[0;34m(\u001b[0m\u001b[0mX_test\u001b[0m\u001b[0;34m,\u001b[0m \u001b[0;36m1\u001b[0m\u001b[0;34m,\u001b[0m \u001b[0mm\u001b[0m\u001b[0;34m)\u001b[0m\u001b[0;34m\u001b[0m\u001b[0;34m\u001b[0m\u001b[0m\n\u001b[1;32m     25\u001b[0m \u001b[0;31m# beta = []\u001b[0m\u001b[0;34m\u001b[0m\u001b[0;34m\u001b[0m\u001b[0;34m\u001b[0m\u001b[0m\n",
      "\u001b[0;32m<ipython-input-5-33dd478054b0>\u001b[0m in \u001b[0;36mgaussian_synthetic_data\u001b[0;34m(n, p, m, t, n_t, M, random_seed)\u001b[0m\n\u001b[1;32m     28\u001b[0m                 \u001b[0;31m# comment utiliser des vecteurs de moyennes pour générer les données ?\u001b[0m\u001b[0;34m\u001b[0m\u001b[0;34m\u001b[0m\u001b[0;34m\u001b[0m\u001b[0m\n\u001b[1;32m     29\u001b[0m                 \u001b[0mmean\u001b[0m \u001b[0;34m=\u001b[0m \u001b[0mnp\u001b[0m\u001b[0;34m.\u001b[0m\u001b[0mreshape\u001b[0m\u001b[0;34m(\u001b[0m\u001b[0mM\u001b[0m\u001b[0;34m[\u001b[0m\u001b[0mtask\u001b[0m\u001b[0;34m]\u001b[0m\u001b[0;34m[\u001b[0m\u001b[0mk\u001b[0m\u001b[0;34m]\u001b[0m\u001b[0;34m,\u001b[0m \u001b[0mp\u001b[0m\u001b[0;34m)\u001b[0m\u001b[0;34m\u001b[0m\u001b[0;34m\u001b[0m\u001b[0m\n\u001b[0;32m---> 30\u001b[0;31m                 \u001b[0mX_k\u001b[0m\u001b[0;34m[\u001b[0m\u001b[0mj\u001b[0m\u001b[0;34m]\u001b[0m \u001b[0;34m=\u001b[0m \u001b[0mnp\u001b[0m\u001b[0;34m.\u001b[0m\u001b[0mrandom\u001b[0m\u001b[0;34m.\u001b[0m\u001b[0mmultivariate_normal\u001b[0m\u001b[0;34m(\u001b[0m\u001b[0mmean\u001b[0m\u001b[0;34m,\u001b[0m \u001b[0mnp\u001b[0m\u001b[0;34m.\u001b[0m\u001b[0midentity\u001b[0m\u001b[0;34m(\u001b[0m\u001b[0mp\u001b[0m\u001b[0;34m)\u001b[0m\u001b[0;34m)\u001b[0m\u001b[0;34m\u001b[0m\u001b[0;34m\u001b[0m\u001b[0m\n\u001b[0m\u001b[1;32m     31\u001b[0m                 \u001b[0my_test\u001b[0m\u001b[0;34m.\u001b[0m\u001b[0mappend\u001b[0m\u001b[0;34m(\u001b[0m\u001b[0mk\u001b[0m\u001b[0;34m)\u001b[0m\u001b[0;34m\u001b[0m\u001b[0;34m\u001b[0m\u001b[0m\n\u001b[1;32m     32\u001b[0m             \u001b[0mX_k\u001b[0m \u001b[0;34m=\u001b[0m \u001b[0mnp\u001b[0m\u001b[0;34m.\u001b[0m\u001b[0mtranspose\u001b[0m\u001b[0;34m(\u001b[0m\u001b[0mX_k\u001b[0m\u001b[0;34m)\u001b[0m\u001b[0;34m\u001b[0m\u001b[0;34m\u001b[0m\u001b[0m\n",
      "\u001b[0;32mmtrand.pyx\u001b[0m in \u001b[0;36mnumpy.random.mtrand.RandomState.multivariate_normal\u001b[0;34m()\u001b[0m\n",
      "\u001b[0;32m<__array_function__ internals>\u001b[0m in \u001b[0;36msvd\u001b[0;34m(*args, **kwargs)\u001b[0m\n",
      "\u001b[0;32m~/anaconda3/lib/python3.7/site-packages/numpy/linalg/linalg.py\u001b[0m in \u001b[0;36msvd\u001b[0;34m(a, full_matrices, compute_uv, hermitian)\u001b[0m\n\u001b[1;32m   1658\u001b[0m \u001b[0;34m\u001b[0m\u001b[0m\n\u001b[1;32m   1659\u001b[0m         \u001b[0msignature\u001b[0m \u001b[0;34m=\u001b[0m \u001b[0;34m'D->DdD'\u001b[0m \u001b[0;32mif\u001b[0m \u001b[0misComplexType\u001b[0m\u001b[0;34m(\u001b[0m\u001b[0mt\u001b[0m\u001b[0;34m)\u001b[0m \u001b[0;32melse\u001b[0m \u001b[0;34m'd->ddd'\u001b[0m\u001b[0;34m\u001b[0m\u001b[0;34m\u001b[0m\u001b[0m\n\u001b[0;32m-> 1660\u001b[0;31m         \u001b[0mu\u001b[0m\u001b[0;34m,\u001b[0m \u001b[0ms\u001b[0m\u001b[0;34m,\u001b[0m \u001b[0mvh\u001b[0m \u001b[0;34m=\u001b[0m \u001b[0mgufunc\u001b[0m\u001b[0;34m(\u001b[0m\u001b[0ma\u001b[0m\u001b[0;34m,\u001b[0m \u001b[0msignature\u001b[0m\u001b[0;34m=\u001b[0m\u001b[0msignature\u001b[0m\u001b[0;34m,\u001b[0m \u001b[0mextobj\u001b[0m\u001b[0;34m=\u001b[0m\u001b[0mextobj\u001b[0m\u001b[0;34m)\u001b[0m\u001b[0;34m\u001b[0m\u001b[0;34m\u001b[0m\u001b[0m\n\u001b[0m\u001b[1;32m   1661\u001b[0m         \u001b[0mu\u001b[0m \u001b[0;34m=\u001b[0m \u001b[0mu\u001b[0m\u001b[0;34m.\u001b[0m\u001b[0mastype\u001b[0m\u001b[0;34m(\u001b[0m\u001b[0mresult_t\u001b[0m\u001b[0;34m,\u001b[0m \u001b[0mcopy\u001b[0m\u001b[0;34m=\u001b[0m\u001b[0;32mFalse\u001b[0m\u001b[0;34m)\u001b[0m\u001b[0;34m\u001b[0m\u001b[0;34m\u001b[0m\u001b[0m\n\u001b[1;32m   1662\u001b[0m         \u001b[0ms\u001b[0m \u001b[0;34m=\u001b[0m \u001b[0ms\u001b[0m\u001b[0;34m.\u001b[0m\u001b[0mastype\u001b[0m\u001b[0;34m(\u001b[0m\u001b[0m_realType\u001b[0m\u001b[0;34m(\u001b[0m\u001b[0mresult_t\u001b[0m\u001b[0;34m)\u001b[0m\u001b[0;34m,\u001b[0m \u001b[0mcopy\u001b[0m\u001b[0;34m=\u001b[0m\u001b[0;32mFalse\u001b[0m\u001b[0;34m)\u001b[0m\u001b[0;34m\u001b[0m\u001b[0;34m\u001b[0m\u001b[0m\n",
      "\u001b[0;31mKeyboardInterrupt\u001b[0m: "
     ]
    }
   ],
   "source": [
    "# Algorithme 1 du papier\n",
    "k = 2\n",
    "m = 10\n",
    "n1 = [100 for i in range(m)]\n",
    "n2 = [50 for i in range(m)]\n",
    "p = 100\n",
    "n_t = [n1, n2]\n",
    "n_t_test = [[1000 for i in range(m)]]\n",
    "nt = sum(n_t_test[0])\n",
    "# faire quelque chose de généralisable\n",
    "n = sum(list(map(sum, (n_t[i] for i in range(k)))))\n",
    "c0 = p/n\n",
    "var = []\n",
    "emp_rate = []\n",
    "scores = []\n",
    "random_state=100\n",
    "# si je peux essayer de faire plus dégeu pour le n \n",
    "M = mean_matrix(p, k=k, m=m, random_seed=random_state, random=True)\n",
    "X, y_bs = gaussian_synthetic_data(n, p, m, k, n_t, M, random_state)\n",
    "\n",
    "# choisir la tache que l'on veut tester\n",
    "test_task = 1\n",
    "X_test, y_test = gaussian_synthetic_data(n, p, m, 1, n_t_test, [M[test_task]], random_state)\n",
    "X, X_test = z_normalize(X, k, m), z_normalize(X_test, 1, m)\n",
    "# beta = []\n",
    "# [[[],[]], [[], []]]\n",
    "\n",
    "# inverser les boucles ?\n",
    "for l in range(m):\n",
    "    for t in range(k):\n",
    "        if t==test_task:\n",
    "            # how does it benefit from the other tasks?\n",
    "            # pourquoi faire une boucle sur les tâches ?\n",
    "    #         beta.append(l*k+t)\n",
    "            X_data = []\n",
    "            # on ajoute la premiere classe de la premiere tache\n",
    "            X_data.append([X[t][l]])\n",
    "            current_n_t = [[n_t[t][l]]]\n",
    "            s = 0           \n",
    "\n",
    "            tmp = np.empty((p, 0), float)\n",
    "    #         print(\"tmp : \", tmp)\n",
    "            for cl in range(m):\n",
    "                if cl==l:\n",
    "                    continue\n",
    "    #             print(\"on ajoute : \", X[t][cl])\n",
    "    #             print(X[t][cl].shape)\n",
    "                tmp = np.concatenate((tmp, X[t][cl]), axis=1)\n",
    "                s += n_t[t][cl]\n",
    "    #         print(\"tmp : \", tmp)\n",
    "            X_data[0].append(tmp)\n",
    "    #         qui est la deuxieme tâche ? \n",
    "    #         X_data.append(X_test[0])\n",
    "#             regrouper toutes les autres tâches\n",
    "#             a reprendre\n",
    "            temp = []\n",
    "            tmp1 = np.empty((p, 0), float)\n",
    "            s1 = 0\n",
    "            sc = []\n",
    "            for tp in range(k):\n",
    "                if tp == test_task:\n",
    "                    continue\n",
    "                for l in range(m):\n",
    "                    tmp1 = np.concatenate((tmp1, X[tp][l]), axis=1)\n",
    "                    s1 += n_t[tp][l]\n",
    "                temp.append(tmp1)\n",
    "                sc.append(s2)\n",
    "                sc.append(s1)\n",
    "            X_data.append(temp)\n",
    "    #         print(\"len(X) : \", len(X_data))\n",
    "    #         print(\"len(X[0]) : \", len(X_data[1][0]))\n",
    "            current_n_t[0].append(s)\n",
    "            current_n_t.append(sc)\n",
    "            print(f\"current nt = {current_n_t}\")\n",
    "            MM = empirical_mean(2, 2, X_data, p, current_n_t)\n",
    "            matprint(MM)\n",
    "            c = estimate_c(current_n_t, n, 2, 2)\n",
    "            Dc = np.diag(c)\n",
    "            matprint(Dc)\n",
    "            correlation_matrix = compute_M_cal(n, p, Dc, MM, 2, True)\n",
    "\n",
    "            y = label_evaluation(2, 2, Dc, MM, c0)\n",
    "            matprint(y)\n",
    "            X_aggregated = aggregate_array(X_data, p, n, 2, 2)\n",
    "            X_test_aggregated = aggregate_array(X_test, p, nt, 1, 2)\n",
    "\n",
    "            # no need to compute V anymore\n",
    "            J = create_J(2, 2, n, current_n_t)\n",
    "            V = compute_V(y, X_aggregated, J, n)\n",
    "            # On time le temps d'inférence\n",
    "\n",
    "        #     debug_histogram(V_true, X_test_aggregated, n_t_test)\n",
    "        #     print(\"V = \")\n",
    "            VTX = V.T@X_test_aggregated\n",
    "            var.append(np.var(VTX))\n",
    "            debug_histogram(V, X_test_aggregated, n_t_test)\n",
    "\n",
    "            # pour l'instant pas vraiment utilisé\n",
    "            m_t = create_mt(2, 2, y, Dc, correlation_matrix)\n",
    "            # gxt in R^1xn\n",
    "\n",
    "            gxt = y.T@J.T@X_aggregated.T@X_test_aggregated/np.linalg.norm(y.T@J.T@X_aggregated.T)\n",
    "            gxt = np.reshape(gxt, (nt))\n",
    "            scores.append(gxt-m_t[0][0])\n",
    "\n",
    "            erreur_empirique = compute_error_rate(X_test, V, m_t, 1, 2, n_t_test, Dc, c0)\n",
    "    #         erreur_theorique = error_rate(t, m,  Dc, MM_true, c0)[0][0]\n",
    "            emp_rate.append(erreur_empirique)\n",
    "    #         th_rate.append(erreur_theorique)\n",
    "    #         relative_error_rate.append(abs(erreur_empirique - erreur_theorique)/erreur_theorique)\n",
    "\n",
    "estimated_class=[]\n",
    "for j in range(len(scores[0])):\n",
    "#     print(np.argmax(scores[l][j] for l in range(m)))\n",
    "    classes=[]\n",
    "    for l in range(m):\n",
    "#         print(scores[l][j])\n",
    "        classes.append(scores[l][j])\n",
    "#     print(classes)\n",
    "    estimated_class.append(np.argmax(classes))\n",
    "\n",
    "        \n",
    "        \n",
    "# lower = np.array(emp_rate) - np.array(var)\n",
    "# upper = np.array(emp_rate) + np.array(var)\n",
    "# plt.plot(beta, emp_rate, '-o', label='empirical rate')\n",
    "# plt.fill_between(beta, lower, upper, alpha=0.2, label=\"variance\")\n",
    "# plt.legend()\n",
    "# plt.title(f\"2-class Gaussian mixture transfer error rate for n={n} and p={p}\")\n",
    "# plt.xlabel(\"Task relatedness (beta)\")\n",
    "# plt.ylabel(\"error rate\")\n",
    "# plt.grid()\n",
    "# plt.show()\n",
    "        "
   ]
  },
  {
   "cell_type": "code",
   "execution_count": 162,
   "metadata": {},
   "outputs": [
    {
     "name": "stdout",
     "output_type": "stream",
     "text": [
      "(100, 1000)\n"
     ]
    }
   ],
   "source": [
    "print(X_data[1][1].shape)"
   ]
  },
  {
   "cell_type": "code",
   "execution_count": 168,
   "metadata": {},
   "outputs": [
    {
     "name": "stdout",
     "output_type": "stream",
     "text": [
      "0.5\n",
      "800\n"
     ]
    }
   ],
   "source": [
    "estimated_class = []\n",
    "erreur= []\n",
    "\n",
    "for j in range(len(scores[0])):\n",
    "#     print(np.argmax(scores[l][j] for l in range(m)))\n",
    "    classes=[]\n",
    "    for l in range(m):\n",
    "#         print(scores[l][j])\n",
    "        classes.append(scores[l][j])\n",
    "#     print(classes)\n",
    "    estimated_class.append(np.argmax(classes))\n",
    "    erreur.append(int(np.argmax(classes)==y_test[j]))\n",
    "    \n",
    "err = erreur.count(1)/len(scores[0])\n",
    "if err>0.5:\n",
    "    err = 1-err\n",
    "\n",
    "print(err)\n",
    "# estimated_class\n",
    "# print(np.argmax(scores[l][0] for l in range(m)))\n",
    "# print(np.argmax((scores[0][0], scores[1][0])))"
   ]
  },
  {
   "cell_type": "code",
   "execution_count": 165,
   "metadata": {
    "scrolled": true
   },
   "outputs": [
    {
     "name": "stdout",
     "output_type": "stream",
     "text": [
      "Empirical proportions : \n",
      "C1 proportion : 0.0 %, C2 proportion : 100.0 %\n",
      "Theoritical proportions : \n",
      "C1 proportion : 66.667 %, C2 proportion : 33.333 %\n"
     ]
    }
   ],
   "source": [
    "ones=0\n",
    "twos=0\n",
    "for i in range(len(scores[0])):\n",
    "    maxi = scores[0][i]\n",
    "    indice = 0\n",
    "    for idx, score in enumerate(scores):\n",
    "        if score[i] > maxi:\n",
    "            maxi = score[i]\n",
    "            indice = idx\n",
    "    l = indice%2+1\n",
    "    if l == 1:\n",
    "        ones+=1\n",
    "    else:\n",
    "        twos+=1\n",
    "    \n",
    "#     print(l)\n",
    "print(f\"Empirical proportions : \\nC1 proportion : {ones/len(scores[0])*100} %, C2 proportion : {twos/len(scores[0])*100} %\")\n",
    "print(f\"Theoritical proportions : \\nC1 proportion : {round(sum(n1)/(sum(n1)+sum(n2))*100, 3)} %, C2 proportion : {round(sum(n2)/(sum(n1)+sum(n2))*100, 3)} %\")"
   ]
  },
  {
   "cell_type": "code",
   "execution_count": null,
   "metadata": {},
   "outputs": [],
   "source": []
  },
  {
   "cell_type": "code",
   "execution_count": 98,
   "metadata": {},
   "outputs": [
    {
     "name": "stdout",
     "output_type": "stream",
     "text": [
      "[[200, 600]]\n",
      "(1, 800)\n",
      "(2, 800)\n",
      "(800, 100)\n",
      "(100, 800)\n"
     ]
    }
   ],
   "source": [
    "print(current_n_t)\n",
    "print(gxt.shape)\n",
    "print(J.T.shape)\n",
    "print(X_aggregated.T.shape)\n",
    "print(X_test_aggregated.shape)"
   ]
  },
  {
   "cell_type": "code",
   "execution_count": 102,
   "metadata": {},
   "outputs": [
    {
     "name": "stdout",
     "output_type": "stream",
     "text": [
      "(2, 2)\n",
      "2\n",
      "2\n",
      "(1, 4)\n",
      "(2, 2)\n",
      "(2, 2)\n",
      "(4,)\n",
      "[[array([[-0.88007943, -0.47482649],\n",
      "       [-0.96586158,  0.2590587 ]]), array([[0.92226127, 0.38656715],\n",
      "       [0.91331841, 0.40724621]])], [array([[0.36683514, 0.43040179, 0.0591088 , 0.82261317],\n",
      "       [0.24975802, 0.77567657, 0.21940746, 0.53647661]]), array([[-0.34926064, -0.34675433, -0.05486188, -0.8687742 ],\n",
      "       [-0.1093427 , -0.39596414, -0.807452  , -0.42341213]])]]\n",
      "[[-0.88007943 -0.47482649]\n",
      " [-0.96586158  0.2590587 ]]\n",
      "[[0.92226127 0.38656715]\n",
      " [0.91331841 0.40724621]]\n"
     ]
    }
   ],
   "source": [
    "print(tmp.shape)\n",
    "print(s)\n",
    "print(len(X_data))\n",
    "print(np.ones((n_t[0][0], 1)).T.shape)\n",
    "print((X_data[0][0].T.shape))\n",
    "print((X_data[0][1].shape))\n",
    "print(np.ones(n_t[0][1]).shape)\n",
    "#1x240x50\n",
    "print(X_data)\n",
    "print(X[3][1])\n",
    "print(X[3][0])"
   ]
  },
  {
   "cell_type": "code",
   "execution_count": 65,
   "metadata": {},
   "outputs": [
    {
     "name": "stdout",
     "output_type": "stream",
     "text": [
      "50\n",
      "(200, 10)\n",
      "(200, 50)\n",
      "[[50, 50], [500, 500]]\n"
     ]
    }
   ],
   "source": [
    "print(n_t[0][0])\n",
    "print(X[1][0].shape)\n",
    "print(X_data[0][0].shape)\n",
    "print(current_n_t)"
   ]
  },
  {
   "cell_type": "code",
   "execution_count": 104,
   "metadata": {},
   "outputs": [
    {
     "name": "stdout",
     "output_type": "stream",
     "text": [
      "[[4, 4], [5, 5]]\n"
     ]
    },
    {
     "data": {
      "text/plain": [
       "[[10, 10], [[4, 4]]]"
      ]
     },
     "execution_count": 104,
     "metadata": {},
     "output_type": "execute_result"
    }
   ],
   "source": [
    "n_t = [[10,10], [4,4], [5,5]]\n",
    "n = sum(list(map(sum, (n_t[i] for i in range(2)))))\n",
    "print(list(n_t[i] for i in range(3) if i!=0))\n",
    "current = [n_t[0], list(n_t[i] for i in range(2) if i!=0)[0]]\n",
    "current"
   ]
  },
  {
   "cell_type": "code",
   "execution_count": 1,
   "metadata": {},
   "outputs": [],
   "source": [
    "import pandas"
   ]
  },
  {
   "cell_type": "code",
   "execution_count": 6,
   "metadata": {},
   "outputs": [
    {
     "name": "stdout",
     "output_type": "stream",
     "text": [
      "Help on function sum in module pandas.core.generic:\n",
      "\n",
      "sum(self, axis=None, skipna=None, level=None, numeric_only=None, min_count=0, **kwargs)\n",
      "    Return the sum of the values over the requested axis.\n",
      "    \n",
      "    This is equivalent to the method ``numpy.sum``.\n",
      "    \n",
      "    Parameters\n",
      "    ----------\n",
      "    axis : {index (0), columns (1)}\n",
      "        Axis for the function to be applied on.\n",
      "    skipna : bool, default True\n",
      "        Exclude NA/null values when computing the result.\n",
      "    level : int or level name, default None\n",
      "        If the axis is a MultiIndex (hierarchical), count along a\n",
      "        particular level, collapsing into a Series.\n",
      "    numeric_only : bool, default None\n",
      "        Include only float, int, boolean columns. If None, will attempt to use\n",
      "        everything, then use only numeric data. Not implemented for Series.\n",
      "    min_count : int, default 0\n",
      "        The required number of valid values to perform the operation. If fewer than\n",
      "        ``min_count`` non-NA values are present the result will be NA.\n",
      "    **kwargs\n",
      "        Additional keyword arguments to be passed to the function.\n",
      "    \n",
      "    Returns\n",
      "    -------\n",
      "    Series or DataFrame (if level specified)\n",
      "    \n",
      "    See Also\n",
      "    --------\n",
      "    Series.sum : Return the sum.\n",
      "    Series.min : Return the minimum.\n",
      "    Series.max : Return the maximum.\n",
      "    Series.idxmin : Return the index of the minimum.\n",
      "    Series.idxmax : Return the index of the maximum.\n",
      "    DataFrame.sum : Return the sum over the requested axis.\n",
      "    DataFrame.min : Return the minimum over the requested axis.\n",
      "    DataFrame.max : Return the maximum over the requested axis.\n",
      "    DataFrame.idxmin : Return the index of the minimum over the requested axis.\n",
      "    DataFrame.idxmax : Return the index of the maximum over the requested axis.\n",
      "    \n",
      "    Examples\n",
      "    --------\n",
      "    >>> idx = pd.MultiIndex.from_arrays([\n",
      "    ...     ['warm', 'warm', 'cold', 'cold'],\n",
      "    ...     ['dog', 'falcon', 'fish', 'spider']],\n",
      "    ...     names=['blooded', 'animal'])\n",
      "    >>> s = pd.Series([4, 2, 0, 8], name='legs', index=idx)\n",
      "    >>> s\n",
      "    blooded  animal\n",
      "    warm     dog       4\n",
      "             falcon    2\n",
      "    cold     fish      0\n",
      "             spider    8\n",
      "    Name: legs, dtype: int64\n",
      "    \n",
      "    >>> s.sum()\n",
      "    14\n",
      "    \n",
      "    Sum using level names, as well as indices.\n",
      "    \n",
      "    >>> s.sum(level='blooded')\n",
      "    blooded\n",
      "    warm    6\n",
      "    cold    8\n",
      "    Name: legs, dtype: int64\n",
      "    \n",
      "    >>> s.sum(level=0)\n",
      "    blooded\n",
      "    warm    6\n",
      "    cold    8\n",
      "    Name: legs, dtype: int64\n",
      "    \n",
      "    By default, the sum of an empty or all-NA Series is ``0``.\n",
      "    \n",
      "    >>> pd.Series([]).sum()  # min_count=0 is the default\n",
      "    0.0\n",
      "    \n",
      "    This can be controlled with the ``min_count`` parameter. For example, if\n",
      "    you'd like the sum of an empty series to be NaN, pass ``min_count=1``.\n",
      "    \n",
      "    >>> pd.Series([]).sum(min_count=1)\n",
      "    nan\n",
      "    \n",
      "    Thanks to the ``skipna`` parameter, ``min_count`` handles all-NA and\n",
      "    empty series identically.\n",
      "    \n",
      "    >>> pd.Series([np.nan]).sum()\n",
      "    0.0\n",
      "    \n",
      "    >>> pd.Series([np.nan]).sum(min_count=1)\n",
      "    nan\n",
      "\n"
     ]
    }
   ],
   "source": [
    "help(pandas.DataFrame.sum)"
   ]
  },
  {
   "cell_type": "code",
   "execution_count": null,
   "metadata": {},
   "outputs": [],
   "source": []
  }
 ],
 "metadata": {
  "kernelspec": {
   "display_name": "Python 3",
   "language": "python",
   "name": "python3"
  },
  "language_info": {
   "codemirror_mode": {
    "name": "ipython",
    "version": 3
   },
   "file_extension": ".py",
   "mimetype": "text/x-python",
   "name": "python",
   "nbconvert_exporter": "python",
   "pygments_lexer": "ipython3",
   "version": "3.7.10"
  }
 },
 "nbformat": 4,
 "nbformat_minor": 2
}
