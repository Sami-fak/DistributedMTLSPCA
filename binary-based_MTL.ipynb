{
 "cells": [
  {
   "cell_type": "code",
   "execution_count": 223,
   "metadata": {},
   "outputs": [],
   "source": [
    "%matplotlib inline\n",
    "import numpy as np\n",
    "import matplotlib.pyplot as plt\n",
    "from sklearn.model_selection import train_test_split"
   ]
  },
  {
   "cell_type": "code",
   "execution_count": 224,
   "metadata": {},
   "outputs": [],
   "source": [
    "def matprint(mat, fmt=\"g\"):\n",
    "    \"\"\"\n",
    "    Pour une un print plus clair de la matrice\n",
    "    https://gist.github.com/braingineer/d801735dac07ff3ac4d746e1f218ab75\n",
    "    \"\"\"\n",
    "    col_maxes = [max([len((\"{:\"+fmt+\"}\").format(x)) for x in col]) for col in mat.T]\n",
    "    for x in mat:\n",
    "        for i, y in enumerate(x):\n",
    "            print((\"{:\"+str(col_maxes[i])+fmt+\"}\").format(y), end=\"  \")\n",
    "        print(\"\")"
   ]
  },
  {
   "cell_type": "markdown",
   "metadata": {},
   "source": [
    "# Table of contents\n",
    "* [Algorithme non distribué 2 taches 2 classes](#Algorithme-non-distribué-2-taches-2-classes)\n",
    "     * [1ère étape: Calcul des moyennes empiriques](#1ère-étape)\n",
    "     * [2ème étape: Estimation de $c$ et de $\\mathcal{M}$](#2ème-étape)\n",
    "     * [3ème étape: Calcul des labels optimaux](#3ème-étape)\n",
    "     * [4ème étape: Estimation des $m_{tj}$](#4ème-étape)\n",
    "     * [5ème étape: Calcul de $V$](#5ème-étape)\n",
    "     * [6ème étape: Evaluation et calcul d'erreur](#6ème-étape)\n",
    "* [2-class Gaussian mixture transfer](#2-class-Gaussian-mixture-transfer-(c.f.-Figure-2))\n",
    "* [Algorithme distribué 2-tâches 2-classes](#Algorithme-distribué-2-tâches-2-classes)\n",
    "     * [Serveur isolé](#Serveur-isolé)\n",
    "     "
   ]
  },
  {
   "cell_type": "markdown",
   "metadata": {},
   "source": [
    "Créons des données synthétiques gaussiennes. Ici nous nous intéresserons dans un premier temps au cas où $m=2$. (Binary MTL Supervised Principal Component Analysis) "
   ]
  },
  {
   "cell_type": "markdown",
   "metadata": {},
   "source": [
    "# Algorithme non distribué 2 taches 2 classes\n",
    "Fonctions pour générer des données synthétiques gaussiennes"
   ]
  },
  {
   "cell_type": "code",
   "execution_count": 225,
   "metadata": {},
   "outputs": [],
   "source": [
    "def mean_random_matrix(m, k, p, l, h, random_seed=42):\n",
    "    \"\"\"\n",
    "    Retourne une matrice M de taille pxm*k contenant\n",
    "    les moyennes de chaque composante de chaque vecteur aléatoire\n",
    "    pour l'instant les moyennes sont tirées aléatoirement \n",
    "    suivant la loi uniforme sur l, h (pas convaincu par ce choix)\n",
    "    m est le nombre de classes\n",
    "    k est le nombre de taches\n",
    "    p est le nombre de features\n",
    "    \"\"\"\n",
    "    np.random.seed(random_seed)\n",
    "    M = []\n",
    "    tmp = []\n",
    "    for task in range(k):\n",
    "        tmp = []\n",
    "        for classe in range(m):\n",
    "            # on crée un vecteur de moyennes égales pour chaque classes\n",
    "            # de sorte à créer des classes gravitant autour d'une meme moyenne\n",
    "            tmp.append(np.ones((p,1))*np.random.uniform(low = 0.0, high = h))\n",
    "        M.append(tmp)\n",
    "    return M"
   ]
  },
  {
   "cell_type": "markdown",
   "metadata": {},
   "source": [
    "Si on prend des moyennes de la même façon que dans le papier"
   ]
  },
  {
   "cell_type": "code",
   "execution_count": 226,
   "metadata": {},
   "outputs": [],
   "source": [
    "# Test\n",
    "# ici on reprend les mêmes paramètres que dans la figure 2\n",
    "n_t = [[1000,1000], [50,50]]\n",
    "n = 2200\n",
    "p = 100\n",
    "m = 2\n",
    "t = 2\n",
    "# 2 taches, 2 classes, p = 20\n",
    "#M = mean_random_matrix(m, t, p, 0., 20.)\n",
    "#print(M)\n",
    "\n",
    "# pour plusieurs taches\n",
    "# M = mean_matrix(2, 3, 10, 0., 2.)\n",
    "# print(M)"
   ]
  },
  {
   "cell_type": "code",
   "execution_count": 227,
   "metadata": {},
   "outputs": [],
   "source": [
    "beta = 0.0\n",
    "def mean_matrix(beta, p, random_seed=42):\n",
    "    \"\"\"\n",
    "    Crée des vecteurs de moyennes de la meme facon que dans la figure 2 du papier\n",
    "    \"\"\"\n",
    "    np.random.seed(random_seed)\n",
    "    #mu_1 = np.ones((p,1))*np.random.uniform(low = 0.0, high = 10.)\n",
    "    mu_1 = np.zeros((p,1))\n",
    "    mu_1[0]= 1\n",
    "    perpendicular_vector = np.zeros((p,1))\n",
    "    perpendicular_vector[-1] = 1\n",
    "    mu_2 = beta*mu_1+np.sqrt(1-beta**2)*perpendicular_vector\n",
    "    M = [[mu_1, -mu_1], [mu_2, -mu_2]]\n",
    "    return M\n",
    "M = mean_matrix(beta, p)"
   ]
  },
  {
   "cell_type": "code",
   "execution_count": 228,
   "metadata": {},
   "outputs": [],
   "source": [
    "def gaussian_synthetic_data(n, p, m, t, n_t, M, random_seed=42):\n",
    "    \"\"\"\n",
    "    Renvoie un tableau de données synthétiques gaussiennes. X[0] accède aux données de la premiere tache.\n",
    "    X[0][1] accede aux données de la deuxieme classe de la premiere tache.\n",
    "    (vecteurs gaussiens de taille n_j * p tq sum(n_j for j) = n)\n",
    "    à partir du nombre d'échantillons n de taille p et du nombre de classe m.\n",
    "    t est le nombre de tâches\n",
    "    n_t est un vecteur comprenant les différentes valeurs n_j pour chaque task\n",
    "    M est la matrice des moyennes de chaque composante \n",
    "    de chaque vecteur aléatoire\n",
    "    \"\"\"\n",
    "    # assert(sum(n_j)/n==1\n",
    "    np.random.seed(random_seed)\n",
    "    X = []\n",
    "    tmp = []\n",
    "    for task in range(t):\n",
    "        # pour une tache on a m classes\n",
    "        tmp = []\n",
    "        for k in range(m):\n",
    "            X_k = np.empty((n_t[task][k], p))\n",
    "            # on prendra la transposée a la fin\n",
    "            #print( n_t[task][k])\n",
    "            for j in range(n_t[task][k]):\n",
    "                # on crée n_j[task][k] vecteurs aléatoires de taille 1xp\n",
    "                # std = 1?\n",
    "                # comment utiliser des vecteurs de moyennes pour générer les données ?\n",
    "                mean = np.reshape(M[task][k], p)\n",
    "                X_k[j] = np.random.multivariate_normal(mean, np.identity(p))\n",
    "                # indice 0 parce que c'est toujours la meme moyenne dans M (pour l'instant ?)\n",
    "            X_k = np.transpose(X_k)\n",
    "            #print(k)\n",
    "            tmp.append(X_k)\n",
    "            # print(\"tmp = \", tmp)\n",
    "        X.append(tmp)\n",
    "            \n",
    "    return X"
   ]
  },
  {
   "cell_type": "code",
   "execution_count": 229,
   "metadata": {},
   "outputs": [],
   "source": [
    "X = gaussian_synthetic_data(n, p, m, t, n_t, M)\n",
    "#np.random.normal(M[0][0], np.identity(p), size=(1, p))\n",
    "#mean = np.reshape(M[0][0], p)"
   ]
  },
  {
   "cell_type": "code",
   "execution_count": 230,
   "metadata": {},
   "outputs": [
    {
     "data": {
      "text/plain": [
       "[array([[0.],\n",
       "        [0.],\n",
       "        [0.],\n",
       "        [0.],\n",
       "        [0.],\n",
       "        [0.],\n",
       "        [0.],\n",
       "        [0.],\n",
       "        [0.],\n",
       "        [0.],\n",
       "        [0.],\n",
       "        [0.],\n",
       "        [0.],\n",
       "        [0.],\n",
       "        [0.],\n",
       "        [0.],\n",
       "        [0.],\n",
       "        [0.],\n",
       "        [0.],\n",
       "        [0.],\n",
       "        [0.],\n",
       "        [0.],\n",
       "        [0.],\n",
       "        [0.],\n",
       "        [0.],\n",
       "        [0.],\n",
       "        [0.],\n",
       "        [0.],\n",
       "        [0.],\n",
       "        [0.],\n",
       "        [0.],\n",
       "        [0.],\n",
       "        [0.],\n",
       "        [0.],\n",
       "        [0.],\n",
       "        [0.],\n",
       "        [0.],\n",
       "        [0.],\n",
       "        [0.],\n",
       "        [0.],\n",
       "        [0.],\n",
       "        [0.],\n",
       "        [0.],\n",
       "        [0.],\n",
       "        [0.],\n",
       "        [0.],\n",
       "        [0.],\n",
       "        [0.],\n",
       "        [0.],\n",
       "        [0.],\n",
       "        [0.],\n",
       "        [0.],\n",
       "        [0.],\n",
       "        [0.],\n",
       "        [0.],\n",
       "        [0.],\n",
       "        [0.],\n",
       "        [0.],\n",
       "        [0.],\n",
       "        [0.],\n",
       "        [0.],\n",
       "        [0.],\n",
       "        [0.],\n",
       "        [0.],\n",
       "        [0.],\n",
       "        [0.],\n",
       "        [0.],\n",
       "        [0.],\n",
       "        [0.],\n",
       "        [0.],\n",
       "        [0.],\n",
       "        [0.],\n",
       "        [0.],\n",
       "        [0.],\n",
       "        [0.],\n",
       "        [0.],\n",
       "        [0.],\n",
       "        [0.],\n",
       "        [0.],\n",
       "        [0.],\n",
       "        [0.],\n",
       "        [0.],\n",
       "        [0.],\n",
       "        [0.],\n",
       "        [0.],\n",
       "        [0.],\n",
       "        [0.],\n",
       "        [0.],\n",
       "        [0.],\n",
       "        [0.],\n",
       "        [0.],\n",
       "        [0.],\n",
       "        [0.],\n",
       "        [0.],\n",
       "        [0.],\n",
       "        [0.],\n",
       "        [0.],\n",
       "        [0.],\n",
       "        [0.],\n",
       "        [1.]]),\n",
       " array([[-0.],\n",
       "        [-0.],\n",
       "        [-0.],\n",
       "        [-0.],\n",
       "        [-0.],\n",
       "        [-0.],\n",
       "        [-0.],\n",
       "        [-0.],\n",
       "        [-0.],\n",
       "        [-0.],\n",
       "        [-0.],\n",
       "        [-0.],\n",
       "        [-0.],\n",
       "        [-0.],\n",
       "        [-0.],\n",
       "        [-0.],\n",
       "        [-0.],\n",
       "        [-0.],\n",
       "        [-0.],\n",
       "        [-0.],\n",
       "        [-0.],\n",
       "        [-0.],\n",
       "        [-0.],\n",
       "        [-0.],\n",
       "        [-0.],\n",
       "        [-0.],\n",
       "        [-0.],\n",
       "        [-0.],\n",
       "        [-0.],\n",
       "        [-0.],\n",
       "        [-0.],\n",
       "        [-0.],\n",
       "        [-0.],\n",
       "        [-0.],\n",
       "        [-0.],\n",
       "        [-0.],\n",
       "        [-0.],\n",
       "        [-0.],\n",
       "        [-0.],\n",
       "        [-0.],\n",
       "        [-0.],\n",
       "        [-0.],\n",
       "        [-0.],\n",
       "        [-0.],\n",
       "        [-0.],\n",
       "        [-0.],\n",
       "        [-0.],\n",
       "        [-0.],\n",
       "        [-0.],\n",
       "        [-0.],\n",
       "        [-0.],\n",
       "        [-0.],\n",
       "        [-0.],\n",
       "        [-0.],\n",
       "        [-0.],\n",
       "        [-0.],\n",
       "        [-0.],\n",
       "        [-0.],\n",
       "        [-0.],\n",
       "        [-0.],\n",
       "        [-0.],\n",
       "        [-0.],\n",
       "        [-0.],\n",
       "        [-0.],\n",
       "        [-0.],\n",
       "        [-0.],\n",
       "        [-0.],\n",
       "        [-0.],\n",
       "        [-0.],\n",
       "        [-0.],\n",
       "        [-0.],\n",
       "        [-0.],\n",
       "        [-0.],\n",
       "        [-0.],\n",
       "        [-0.],\n",
       "        [-0.],\n",
       "        [-0.],\n",
       "        [-0.],\n",
       "        [-0.],\n",
       "        [-0.],\n",
       "        [-0.],\n",
       "        [-0.],\n",
       "        [-0.],\n",
       "        [-0.],\n",
       "        [-0.],\n",
       "        [-0.],\n",
       "        [-0.],\n",
       "        [-0.],\n",
       "        [-0.],\n",
       "        [-0.],\n",
       "        [-0.],\n",
       "        [-0.],\n",
       "        [-0.],\n",
       "        [-0.],\n",
       "        [-0.],\n",
       "        [-0.],\n",
       "        [-0.],\n",
       "        [-0.],\n",
       "        [-0.],\n",
       "        [-1.]])]"
      ]
     },
     "execution_count": 230,
     "metadata": {},
     "output_type": "execute_result"
    }
   ],
   "source": [
    "X[1][1]\n",
    "M[1]"
   ]
  },
  {
   "cell_type": "code",
   "execution_count": 231,
   "metadata": {},
   "outputs": [],
   "source": [
    "from sklearn.preprocessing import normalize\n",
    "\n",
    "def normalisation_old(X, t, m):\n",
    "    \"\"\"\n",
    "    Normalise les vecteurs de données\n",
    "    \"\"\"\n",
    "    for k in range(t):\n",
    "        for l in range(m):\n",
    "            # on normalise les colonnes\n",
    "            X[k][l] = normalize(X[k][l], axis=1)      \n",
    "    return X\n",
    "\n",
    "def normalisation(X, p):\n",
    "    for i in range(len(X)):\n",
    "        for j in range(len(X[i])):\n",
    "            X[i][j] /= np.sqrt(p)\n",
    "    \n",
    "    return X"
   ]
  },
  {
   "cell_type": "code",
   "execution_count": 232,
   "metadata": {},
   "outputs": [],
   "source": [
    "def train_test_split_data(X, split_rate, nb_tasks, nb_classes):\n",
    "    \"\"\"\n",
    "    Retourne une matrice de données de tests, et une matrice d'entrainement\n",
    "    Pas nécessaire.\n",
    "    Les données de tests, sont les données de la task target\n",
    "    \"\"\"\n",
    "    X_train = []\n",
    "    X_test = []\n",
    "    tmp_test = []\n",
    "    tmp_train = []\n",
    "    n_t_train = []\n",
    "    n_t_test = []\n",
    "    for t in range(nb_tasks):\n",
    "        tmp_test = []\n",
    "        tmp_train = []\n",
    "        tmp_nt_train = []\n",
    "        tmp_nt_test = []\n",
    "        for l in range(nb_classes):\n",
    "            decoupe = int(split_rate*X[t][l].shape[1])\n",
    "            tmp_train.append(X[t][l][:, :decoupe])\n",
    "            tmp_test.append(X[t][l][:, decoupe:])\n",
    "            tmp_nt_train.append(decoupe)\n",
    "            tmp_nt_test.append(X[t][l].shape[1]-decoupe)\n",
    "        n_t_train.append(tmp_nt_train)\n",
    "        n_t_test.append(tmp_nt_test)\n",
    "        X_train.append(tmp_train)\n",
    "        X_test.append(tmp_test)\n",
    "    return X_train, X_test, n_t_train, n_t_test"
   ]
  },
  {
   "cell_type": "code",
   "execution_count": 233,
   "metadata": {},
   "outputs": [
    {
     "data": {
      "text/plain": [
       "(100, 200)"
      ]
     },
     "execution_count": 233,
     "metadata": {},
     "output_type": "execute_result"
    }
   ],
   "source": [
    "X_train, X_test, n_t_train, n_t_test = train_test_split_data(X, 0.8, 2, 2)\n",
    "n_t_train\n",
    "X_test[0][0].shape"
   ]
  },
  {
   "cell_type": "markdown",
   "metadata": {},
   "source": [
    "Il faut aussi créer le vecteur $\\tilde{y}\\in\\mathbb{R}^{2k}$, qui contiendra les labels associées aux données."
   ]
  },
  {
   "cell_type": "code",
   "execution_count": 234,
   "metadata": {},
   "outputs": [],
   "source": [
    "def create_labels(nb_tasks, nb_classes):\n",
    "    \"\"\"\n",
    "    Crée le vecteurs y_tilde contenant les labels associés aux données.\n",
    "    Ici on le fait pour deux 2 tâches et pour deux classes.\n",
    "    \"\"\"\n",
    "    y = np.empty((nb_classes*nb_tasks))\n",
    "    for t in range(0, nb_classes*nb_tasks-1, 2):\n",
    "        y[t] = -1\n",
    "        y[t+1] = 1\n",
    "        \n",
    "    return y"
   ]
  },
  {
   "cell_type": "code",
   "execution_count": 235,
   "metadata": {},
   "outputs": [
    {
     "name": "stdout",
     "output_type": "stream",
     "text": [
      "[-1.  1. -1.  1.]\n"
     ]
    }
   ],
   "source": [
    "y = create_labels(t,m)\n",
    "print(y)"
   ]
  },
  {
   "cell_type": "markdown",
   "metadata": {},
   "source": [
    "## 1ère étape\n",
    "Calcul des moyennes empiriques, et calcul de la matrice $M\\in\\mathbb{R}^{p\\times 2k}$\n",
    "$$\\frac{1}{n_{tj}}X_{tj}\\mathbb{1}_{n_{tj}}=\\frac{1}{n_{tj}}\\sum_{l=1}^{n_{tj}}x_{tl}^{(j)}$$"
   ]
  },
  {
   "cell_type": "code",
   "execution_count": 236,
   "metadata": {},
   "outputs": [],
   "source": [
    "# pas fait le cas du j=j' mais j'ai pas l'impression que c'est nécessaire en tout cas pas ici ?\n",
    "# cf remark 1\n",
    "\n",
    "def empirical_mean_old(nb_tasks, nb_classes, X, p, n_t):\n",
    "    \"\"\"\n",
    "    compute empirical mean for data X\n",
    "    return an 1xp vector being the empirical mean for the random vector X_{tj}\n",
    "    retourne la matrice M\n",
    "    \"\"\"\n",
    "    M = np.empty((nb_classes*nb_tasks, p))\n",
    "    for t in range(nb_tasks):\n",
    "        for l in range(nb_classes):\n",
    "            print(X[t][l].dot(np.ones((n_t[t][l]))).shape)\n",
    "            # print(t*nb_classes+l)\n",
    "            M[t*nb_tasks+l] = X[t][l].dot(np.ones((n_t[t][l])))\n",
    "            M[t*nb_tasks+l] /= n_t[t][l]\n",
    "            #print(f\"class {t*nb_tasks+l} empirical mean = {np.mean(M[t*nb_tasks+l])}\")\n",
    "    return np.transpose(M)\n",
    "\n",
    "def empirical_mean(nb_tasks, nb_classes, X, p, n_t):\n",
    "    \"\"\"\n",
    "    Retourne la matrice M avec les produits scalaires croisés\n",
    "    cf. Remark 1\n",
    "    \"\"\"\n",
    "    l = nb_classes*nb_tasks\n",
    "    M = np.empty((l, l)) # ici 4x4\n",
    "    for i in range(l):\n",
    "        for j in range(l):\n",
    "            if i != j:\n",
    "                M[i][j] = X[i][j].dot(np.ones((n_t[t][l])))\n",
    "    return M.T"
   ]
  },
  {
   "cell_type": "code",
   "execution_count": 237,
   "metadata": {},
   "outputs": [],
   "source": [
    "def true_mean(M, p, nb_tasks, nb_classes):\n",
    "    \"\"\"\n",
    "    Retourne un ndarray contenant les vraies moyennes avec lequel on peut travailler\n",
    "    \"\"\"\n",
    "    true_M = np.empty((nb_tasks*nb_classes, p))\n",
    "    for t in range(nb_tasks):\n",
    "        for l in range(nb_classes):\n",
    "            mean = np.reshape(M[t][l], (100,))\n",
    "            true_M[t*nb_tasks+l] = mean\n",
    "\n",
    "    return np.transpose(true_M)"
   ]
  },
  {
   "cell_type": "code",
   "execution_count": 238,
   "metadata": {
    "scrolled": true
   },
   "outputs": [
    {
     "name": "stdout",
     "output_type": "stream",
     "text": [
      "class 0 empirical mean = 0.010966868140949599\n",
      "class 1 empirical mean = -0.009018965963952234\n",
      "class 2 empirical mean = -0.006619397650194787\n",
      "class 3 empirical mean = -0.017908346408138175\n"
     ]
    }
   ],
   "source": [
    "M_mean = empirical_mean(t, m, X, p, n_t)\n",
    "#print(M_mean.shape)\n",
    "#matprint(M_mean)\n",
    "#print(np.transpose(M_mean).dot(M_mean))\n",
    "#print(M[1][0].shape)"
   ]
  },
  {
   "cell_type": "code",
   "execution_count": 239,
   "metadata": {},
   "outputs": [],
   "source": [
    "# utile pour les puissances négatives\n",
    "def power_diagonal_matrix(D, exponent):\n",
    "    diag = np.zeros(len(D))\n",
    "    for i in range(len(D)):\n",
    "        diag[i] = D[i][i]**exponent\n",
    "    \n",
    "    return np.diag(diag)"
   ]
  },
  {
   "cell_type": "markdown",
   "metadata": {},
   "source": [
    "## 2ème étape\n",
    "Estimer $c$ et $\\mathcal{M}\\in\\mathbb{R}^{2k\\times 2k}$. \n",
    "$c=\\left[ c_{11},\\ldots,c_{km} \\right]^T\\in\\mathbb{R}^{km}$"
   ]
  },
  {
   "cell_type": "code",
   "execution_count": 240,
   "metadata": {},
   "outputs": [],
   "source": [
    "def estimate_c(n_t, n, nb_tasks, nb_classes):\n",
    "    c = np.empty(nb_tasks*nb_classes)\n",
    "    for task in range(nb_tasks):\n",
    "        for m in range(nb_classes):\n",
    "            c[task*nb_tasks+m]=n_t[task][m]/n\n",
    "            \n",
    "    return c"
   ]
  },
  {
   "cell_type": "code",
   "execution_count": 241,
   "metadata": {},
   "outputs": [
    {
     "name": "stdout",
     "output_type": "stream",
     "text": [
      "c = [0.45454545 0.45454545 0.02272727 0.02272727]T\n"
     ]
    },
    {
     "data": {
      "text/plain": [
       "array([[0.45454545, 0.        , 0.        , 0.        ],\n",
       "       [0.        , 0.45454545, 0.        , 0.        ],\n",
       "       [0.        , 0.        , 0.02272727, 0.        ],\n",
       "       [0.        , 0.        , 0.        , 0.02272727]])"
      ]
     },
     "execution_count": 241,
     "metadata": {},
     "output_type": "execute_result"
    }
   ],
   "source": [
    "c = estimate_c(n_t, n, t, m)\n",
    "print(f\"c = {c}T\")\n",
    "Dc = np.diag(c)\n",
    "Dc"
   ]
  },
  {
   "cell_type": "code",
   "execution_count": 242,
   "metadata": {},
   "outputs": [],
   "source": [
    "def compute_M_cal(n,p,Dc,M, display=False):\n",
    "    \"\"\"\n",
    "    renvoie la matrice M cursive estimée\n",
    "    \"\"\"\n",
    "    c0 = 2*p/n\n",
    "    correlation_matrix = 1/c0*np.power(Dc, 1/2).dot(np.transpose(M)).dot(M).dot(np.power(Dc, 1/2))\n",
    "    if display==True:\n",
    "        plt.imshow(correlation_matrix)\n",
    "        plt.show()\n",
    "    return correlation_matrix"
   ]
  },
  {
   "cell_type": "code",
   "execution_count": 243,
   "metadata": {},
   "outputs": [
    {
     "data": {
      "image/png": "[encoded data removed]",
      "text/plain": [
       "<Figure size 432x288 with 1 Axes>"
      ]
     },
     "metadata": {
      "needs_background": "light"
     },
     "output_type": "display_data"
    },
    {
     "name": "stdout",
     "output_type": "stream",
     "text": [
      " 5.72785   -5.05124   0.328255   0.482621  \n",
      "-5.05124    5.46064  -0.194662  -0.486498  \n",
      "0.328255  -0.194662   0.822093  -0.201468  \n",
      "0.482621  -0.486498  -0.201468   0.654956  \n"
     ]
    }
   ],
   "source": [
    "correlation_matrix = compute_M_cal(n,p,Dc,M_mean, True)\n",
    "matprint(correlation_matrix)"
   ]
  },
  {
   "cell_type": "markdown",
   "metadata": {},
   "source": [
    "## 3ème étape\n",
    "Let's compute optimal labels"
   ]
  },
  {
   "cell_type": "code",
   "execution_count": 244,
   "metadata": {},
   "outputs": [],
   "source": [
    "# a revoir ?\n",
    "\n",
    "def label_evaluation(nb_tasks, nb_classes, Dc, M_estimated):\n",
    "    \"\"\"\n",
    "    Evalue le label y pour une tache t pour 2 classes\n",
    "    \"\"\"\n",
    "    inverse = np.linalg.inv(M_estimated+np.identity(nb_classes*nb_tasks))\n",
    "    power_dc = power_diagonal_matrix(Dc, -1/2)\n",
    "    et1_et2 = np.zeros((nb_tasks*nb_classes,1))\n",
    "    y = np.zeros((nb_tasks*nb_classes, 1))\n",
    "    e3_e4 = np.zeros((nb_tasks*nb_classes,1))\n",
    "    e3_e4[-2] = 1\n",
    "    e3_e4[-1] = -1\n",
    "#     for t in range(nb_tasks):\n",
    "#         et1_et2 = np.zeros((nb_tasks*nb_classes,1))\n",
    "#         for l in range(nb_classes):\n",
    "#             #print(t*nb_tasks+l)\n",
    "#             et1_et2[t*nb_tasks+l] = 1 if l == 0 else -1\n",
    "#         #print(et1_et2)\n",
    "#         y[t*nb_tasks] = (power_dc.dot(inverse).dot(M_estimated).dot(power_dc).dot(et1_et2))[t*nb_tasks]\n",
    "#         y[t*nb_tasks+1] = (power_dc.dot(inverse).dot(M_estimated).dot(power_dc).dot(et1_et2))[t*nb_tasks+1]\n",
    "    y[-2] += (power_dc.dot(inverse).dot(M_estimated).dot(power_dc).dot(e3_e4))[-2]\n",
    "    y[-1] += (power_dc.dot(inverse).dot(M_estimated).dot(power_dc).dot(e3_e4))[-1]\n",
    "    return y\n",
    "#malik's formula:\n",
    "#tilde_y=(diag(c)*MM*diag(c)/co+diag(c))\\((e3-e4)'*MM*diag(c))';\n",
    "#\\ : pour résoudre un systeme A\\B => x solution de Ax=B"
   ]
  },
  {
   "cell_type": "code",
   "execution_count": 268,
   "metadata": {},
   "outputs": [
    {
     "name": "stdout",
     "output_type": "stream",
     "text": [
      "optimal labels for a 2-task 2-class example with synthetic gaussian data : \n",
      "       0  \n",
      "       0  \n",
      " 1.82609  \n",
      "-1.82609  \n"
     ]
    },
    {
     "data": {
      "text/plain": [
       "(4, 1)"
      ]
     },
     "execution_count": 268,
     "metadata": {},
     "output_type": "execute_result"
    }
   ],
   "source": [
    "y = label_evaluation(t,m,Dc,correlation_matrix)\n",
    "print(\"optimal labels for a 2-task 2-class example with synthetic gaussian data : \")\n",
    "matprint(y)\n",
    "y.shape"
   ]
  },
  {
   "cell_type": "markdown",
   "metadata": {},
   "source": [
    "## 4ème étape\n",
    "Estimation des $m_{tj}$, étant les $k\\times m$ moyennes estimées pour modéliser nos données."
   ]
  },
  {
   "cell_type": "code",
   "execution_count": 246,
   "metadata": {},
   "outputs": [],
   "source": [
    "def asymptotic_mean(nb_tasks, nb_classes, y_tilde, Dc, correlation_matrix, t, j):\n",
    "    \"\"\"\n",
    "    compute asymptotic mean m_tj\n",
    "    t current task\n",
    "    j current class\n",
    "    \"\"\"\n",
    "    y_transpose = np.transpose(y_tilde)\n",
    "    etj = np.zeros((nb_tasks*nb_classes, 1))\n",
    "    etj[t*nb_tasks+j] = 1\n",
    "    power_dc = power_diagonal_matrix(Dc, -1/2)\n",
    "    # Dc^1/2 ou Dc^{-1/2} ?\n",
    "    m_tj = y_transpose.dot(np.power(Dc, 1/2)).dot(correlation_matrix).dot(power_dc).dot(etj)\n",
    "    m_tj /= np.sqrt(y_transpose.dot(np.power(Dc, 1/2).dot(correlation_matrix).dot(np.power(Dc, 1/2)) + Dc).dot(y_tilde))\n",
    "    return m_tj[0][0]"
   ]
  },
  {
   "cell_type": "code",
   "execution_count": 247,
   "metadata": {},
   "outputs": [
    {
     "name": "stdout",
     "output_type": "stream",
     "text": [
      "m_kl = -0.07366010799382466\n",
      "m_kl = 0.18339577985669583\n",
      "m_kl = 3.5740123109814026\n",
      "m_kl = -2.7649998321044893\n"
     ]
    }
   ],
   "source": [
    "for k in range(t):\n",
    "    for l in range(m):\n",
    "        print(f\"m_kl = {asymptotic_mean(t, m, y, Dc, correlation_matrix, k, l)}\")"
   ]
  },
  {
   "cell_type": "markdown",
   "metadata": {},
   "source": [
    "## 5ème étape\n",
    "Calcul de $V$ le sous-espace engendrés par les $\\tau$ plus grands vecteurs propres. Dans le cas du binary MTL-SPCA, $V=\\frac{Xy}{\\lVert Xy \\rVert}=\\frac{XJ\\tilde{y}}{\\lVert XJ\\tilde{y} \\rVert}\\in\\mathbb{R}^{p\\times1}$, avec $J\\in\\mathbb{R}^{n\\times km}$"
   ]
  },
  {
   "cell_type": "code",
   "execution_count": 248,
   "metadata": {},
   "outputs": [],
   "source": [
    "def aggregate_array(X, p, n, nb_tasks, nb_classes):\n",
    "    X_aggregated = np.empty((p, n))\n",
    "    class_1 = X[0][0]\n",
    "    for t in range(nb_tasks):\n",
    "        for l in range(nb_classes):\n",
    "            if t==0 and l==0:\n",
    "                continue\n",
    "            class_1 = np.append(class_1, X[t][l], 1)\n",
    "    X_aggregated = class_1\n",
    "    return X_aggregated"
   ]
  },
  {
   "cell_type": "code",
   "execution_count": 249,
   "metadata": {},
   "outputs": [],
   "source": [
    "X_train_aggregated = aggregate_array(X, p, n, t, m)\n",
    "X_test_aggregated = aggregate_array(X_test, p, n, 1, m)\n"
   ]
  },
  {
   "cell_type": "code",
   "execution_count": 250,
   "metadata": {
    "collapsed": true
   },
   "outputs": [
    {
     "name": "stdout",
     "output_type": "stream",
     "text": [
      "[[ 1.66400108e+00 -2.99971846e-01  6.39308346e-01  1.45117468e+00\n",
      "   1.79630634e+00 -3.84049288e-01  3.91297311e-01  6.28304064e-01\n",
      "   1.26971362e+00  1.79679911e+00  1.25141113e-01  3.01137950e+00\n",
      "   4.86265323e-01  1.18412788e+00  2.73842933e+00  4.00379222e-01\n",
      "  -8.27770507e-01  1.52665336e+00  3.31059044e-01  7.56810215e-01\n",
      "   1.33184435e+00  1.05483899e+00 -8.72201447e-01  2.53288740e+00\n",
      "   1.57049318e+00  1.58879382e+00  1.11881056e+00  1.25128192e+00\n",
      "   6.80545260e-01  1.79972283e+00  4.58521543e-01 -7.44482830e-01\n",
      "   1.18757674e+00  7.65733900e-01  2.40867620e+00  6.05714694e-01\n",
      "   2.09610048e-01  4.56262882e-01  4.38373743e+00 -1.35029027e+00\n",
      "   7.06848279e-01 -1.01986578e-01  1.20291361e+00 -5.97759672e-01\n",
      "  -6.23498838e-01 -1.19041230e+00  1.08572158e+00  3.57075025e-01\n",
      "   1.02835700e+00  2.53135128e+00  2.57692312e+00 -2.90570837e-01\n",
      "   1.80065098e+00  7.82773544e-01 -1.81808065e-01  1.95376242e+00\n",
      "   1.52826281e-01  2.26091322e+00  1.46469089e+00  9.89637857e-02\n",
      "  -5.55651046e-01  1.94786697e+00  2.93885101e-01  1.37407085e+00\n",
      "   8.72158221e-01  2.03474534e+00  1.87069317e+00  1.50916459e+00\n",
      "   7.36445996e-01  2.64829478e+00  2.57703505e+00  1.05062487e-01\n",
      "   1.19671006e+00  7.79848613e-01  1.37295201e+00  6.68377080e-01\n",
      "   6.28313716e-01 -4.46456479e-01  2.38740444e+00  1.24573643e-01\n",
      "   9.83243139e-01  3.22434042e+00  9.52821392e-01 -9.64778724e-01\n",
      "  -5.89439197e-01  1.16357868e+00  2.89513803e-01  1.74664170e+00\n",
      "   2.20234251e-01  5.24081701e-01  2.36817372e+00  1.94447512e+00\n",
      "   8.73380609e-01 -6.10014250e-01  7.63828114e-01  1.20167162e+00\n",
      "   3.41826688e-01  1.75067172e+00  8.18626766e-01  3.42874653e-02\n",
      "   1.96089457e+00 -1.17195740e+00  3.26627521e+00  1.90084135e+00\n",
      "   2.04325777e-01  1.65528606e-01  2.27603724e+00  5.64171007e-01\n",
      "   3.19525005e-01  1.30923272e+00  1.24218646e-01  1.54168087e+00\n",
      "   6.43282860e-01  8.01446357e-01  2.34260053e+00  4.56707166e-01\n",
      "   1.16616025e-01 -6.87357002e-01 -4.32765693e-02  1.70489155e+00\n",
      "   1.03816186e+00  5.96486212e-01  7.88198688e-01  2.58226203e+00\n",
      "   8.23165765e-02  9.36667366e-01  4.04250046e-01  1.66017110e+00\n",
      "  -4.29206839e-01  1.08125185e+00  2.26174455e+00  7.91621881e-01\n",
      "  -5.23038216e-01  2.39136351e+00  1.32876184e+00  8.39831430e-01\n",
      "  -2.56852129e-02  1.89212952e+00  3.15716408e+00  2.28878779e-01\n",
      "   1.19325744e+00  7.91292622e-01 -7.52039806e-02  2.10287195e+00\n",
      "   9.31761801e-01  7.40132672e-01  7.26219124e-01  7.82142323e-01\n",
      "   4.54186419e-01  8.76306078e-01  4.91181094e-01  1.33501707e+00\n",
      "  -3.66165664e-01  5.38565450e-01 -3.91038887e-02  5.44464953e-01\n",
      "   2.01739695e+00  6.97193613e-01  1.56724295e+00  3.78211035e-01\n",
      "   1.51505801e+00  1.10606949e+00  1.22307151e+00  1.07869464e+00\n",
      "   4.99656746e-01  1.04891477e+00 -6.18019559e-02 -1.03962924e-01\n",
      "   1.65930819e-01  4.57839221e-01  2.74231559e+00  8.16151024e-01\n",
      "   1.97507006e+00  2.00375996e+00  1.06952835e+00  2.03366972e+00\n",
      "   1.50808500e-01  1.61448918e+00 -1.74181029e-01 -1.37292354e-01\n",
      "   6.98860486e-01  9.21229899e-01  2.05088895e+00  2.29037491e+00\n",
      "   9.82832111e-01  1.83129138e+00  1.64674426e+00  8.45130134e-01\n",
      "  -2.00519743e-01  8.48681295e-01  2.35609217e+00  4.16225503e-01\n",
      "   2.18267803e+00  2.26734307e+00  1.12041469e+00  2.54612959e+00\n",
      "   3.97364238e-01 -3.93844901e-01  1.10054608e+00 -5.29231928e-01\n",
      "  -5.87218946e-01 -4.01065265e+00 -2.07015354e+00 -2.20561280e+00\n",
      "  -5.97458108e-01 -7.56229652e-01 -5.97676907e-01 -4.52496299e-01\n",
      "  -2.32919227e+00 -1.14724494e+00 -5.08948719e-01 -2.02542456e-01\n",
      "  -1.54291994e+00 -3.58370698e-01 -7.38954962e-01 -2.42972533e+00\n",
      "   2.99554609e-01  4.44911853e-01 -4.05051912e-01 -1.65689894e+00\n",
      "  -5.89206704e-01  8.12578238e-01 -6.94218201e-01  1.37196118e-01\n",
      "  -2.55814903e+00  6.72248053e-02 -1.10440709e+00  9.74445915e-01\n",
      "  -2.59179014e+00 -1.60337000e-01 -1.14590973e+00 -7.99185948e-01\n",
      "  -1.29095247e+00 -1.12444081e+00 -9.72036723e-01 -2.23749300e+00\n",
      "   8.35889671e-02 -1.02576964e+00  2.11348227e-01 -5.07242166e-01\n",
      "  -9.14932236e-01 -1.07917754e+00 -1.49646708e+00 -1.58406063e-01\n",
      "  -1.29378132e+00 -3.25827315e+00 -1.36016235e+00 -2.70202930e+00\n",
      "  -1.08498936e+00 -7.30543068e-01 -1.85805815e-02 -2.77098509e+00\n",
      "  -1.02038846e+00 -8.53472934e-01 -1.76316608e+00  1.27001836e-01\n",
      "  -2.00788325e+00 -4.09739972e-01 -2.40940266e-01 -2.97018815e-01\n",
      "   3.71241028e-01 -1.03904084e+00 -1.45890861e+00 -6.43840147e-01\n",
      "  -2.05987191e+00 -1.57813502e+00 -1.15347056e+00 -3.24148013e+00\n",
      "  -1.49067183e+00 -6.70904675e-01 -1.36105886e+00 -1.85881038e+00\n",
      "  -1.07810177e+00 -1.50082244e+00  4.87709366e-01  6.63882945e-01\n",
      "   5.73164354e-01 -1.33044517e+00 -2.00550438e+00 -1.32238277e+00\n",
      "  -6.56643363e-01 -1.37531165e+00 -1.50589924e+00 -1.01810562e-01\n",
      "  -6.34337032e-01 -2.86948806e+00 -1.96263510e+00 -1.57313343e+00\n",
      "  -3.01159661e-01 -3.49097558e+00  1.67210046e-01 -2.58744691e+00\n",
      "  -1.54242089e-01 -7.37747378e-01 -2.17548287e+00 -1.33949017e+00\n",
      "  -5.65300247e-01 -8.00848013e-02 -2.02560626e+00 -2.42756853e+00\n",
      "  -3.87415988e-02 -1.22391370e+00 -7.70223820e-01 -1.07852319e+00\n",
      "  -7.47849863e-01 -1.13235608e+00 -5.80070691e-01  3.64578449e-01\n",
      "   3.12679453e-01 -9.35803332e-01 -4.02298882e-01 -1.22552336e+00\n",
      "  -8.71299411e-01 -3.82954244e-01 -1.75342487e+00 -1.60959086e+00\n",
      "  -1.69330330e+00 -5.44366359e-01 -7.24001805e-01 -2.49408639e+00\n",
      "  -2.08261850e+00 -1.15173538e+00 -9.14815145e-01  6.99880724e-02\n",
      "  -1.13005874e+00 -1.34424986e+00 -1.83979440e+00  2.94167700e-01\n",
      "  -9.05196978e-01 -6.94716045e-01  1.50897634e-01 -2.33949972e+00\n",
      "  -8.00843549e-02  4.73829094e-01 -7.66901859e-01 -2.59094676e+00\n",
      "  -1.59253346e+00 -2.76498878e+00 -1.55056020e+00 -4.48521332e-01\n",
      "  -1.14733734e+00 -1.23144309e+00 -1.33384441e+00 -1.02854006e+00\n",
      "  -3.46130921e-01 -8.99985348e-01 -2.37690001e+00  6.90851005e-01\n",
      "  -2.50905279e-01 -1.37374537e+00 -1.17436198e+00 -1.04224480e+00\n",
      "  -1.06415741e+00 -3.33063181e-01 -3.00096699e+00 -1.04229263e+00\n",
      "  -9.06450745e-01 -8.50132976e-01 -1.13565887e+00 -2.22420726e+00\n",
      "   1.22678582e+00 -7.07881448e-01  4.15713925e-01 -1.25496792e-01\n",
      "  -5.08233084e-01 -9.32032304e-01 -1.13236603e+00  1.06526670e+00\n",
      "  -2.17775522e+00 -9.49610362e-01 -2.15907995e+00 -2.39844698e+00\n",
      "  -2.38802812e+00 -1.16022211e+00 -1.54744700e+00 -3.32133939e-01\n",
      "  -1.54001970e+00 -1.58614148e+00 -1.94961237e-01 -9.90884257e-01\n",
      "  -1.70054019e+00 -2.51090791e+00 -1.64885760e+00 -3.95761891e-01\n",
      "  -1.43488210e+00 -1.06765206e+00 -3.20600679e-01 -1.83298864e+00\n",
      "  -1.65811295e+00  1.13452624e+00 -9.58934730e-01 -1.94458997e+00\n",
      "  -2.03701038e+00 -2.29350664e+00 -1.57341761e+00 -4.61305767e-03\n",
      "  -4.32369549e-01 -1.25325755e+00  2.29140175e-02 -1.30496134e-01]\n",
      " [-2.96116049e-01 -2.12290288e-01 -4.90808378e-02  2.55936597e-01\n",
      "  -6.22649404e-01 -1.90435134e+00 -1.48002067e-01 -8.26787846e-02\n",
      "  -6.38607969e-01  3.04080549e-01  1.45156637e+00 -3.78185964e-01\n",
      "   3.35508342e-01  6.16895251e-01 -6.39658971e-01 -5.55040866e-01\n",
      "  -1.15424226e+00  1.46179636e+00 -8.13404954e-01 -4.30176510e-01\n",
      "   1.85446965e+00 -2.03655755e+00  4.51821917e-01 -1.84509389e+00\n",
      "   9.09904874e-01  8.06130078e-01  2.80725786e-01 -8.89015276e-01\n",
      "   1.11069018e+00 -7.34226971e-01 -9.52644606e-01  8.33005895e-01\n",
      "   2.21581046e+00 -1.33417656e+00 -1.04779922e+00 -2.14352280e-01\n",
      "  -1.45920608e+00  2.20837165e-01  3.23731891e-01 -1.45452300e-01\n",
      "  -9.97531956e-01  4.26424211e-01  7.04056828e-02 -1.93917685e+00\n",
      "   1.45825925e+00  8.91662908e-01 -1.39480186e+00  4.45473733e-01\n",
      "  -8.60300018e-01  4.55600344e-01  3.38188010e-01 -1.20110405e+00\n",
      "  -9.14989909e-02 -1.12430867e+00 -1.71474658e+00  4.48624504e-01\n",
      "  -1.85180217e-02  5.52052792e-01  1.80459883e+00  1.50541262e-01\n",
      "  -4.14408674e-03  4.34779977e-01  6.70508115e-01 -6.49000179e-01\n",
      "  -1.52458191e+00  5.37381930e-01 -6.90957217e-01  1.18157272e+00\n",
      "  -1.09155891e+00 -3.09442630e-01  5.96182564e-01 -7.14640282e-01\n",
      "   1.49709182e+00 -4.49604802e-01 -4.51249723e-01 -8.48738795e-01\n",
      "  -8.78008060e-01  1.02612701e+00 -3.28424632e-01 -1.75475989e-01\n",
      "   4.32147765e-01  5.23469442e-01 -4.37771739e-01 -1.52504203e-01\n",
      "  -9.71715795e-01  6.92260017e-01  7.12304180e-01 -5.74173414e-01\n",
      "   1.50976464e+00  9.26687049e-01 -2.32125743e-01 -5.67257985e-01\n",
      "   2.53701895e-01  1.94928727e-01 -1.20326593e+00 -5.60947469e-01\n",
      "   3.46595018e-01 -9.51580929e-01  3.11280073e-01  2.52008903e-02\n",
      "  -3.69964737e-01  3.62000884e-01  1.19727437e+00  2.34357969e+00\n",
      "  -1.22739641e+00  3.47141401e-01  2.48581910e+00 -3.75932587e-01\n",
      "   2.12817261e-01 -7.72972311e-01  4.34667701e-01 -1.76116949e+00\n",
      "  -1.29902550e-01  1.16537369e+00 -1.17394081e+00  1.12591767e+00\n",
      "   3.51069981e-01 -1.93667836e-01 -1.18735587e+00  4.12395644e-01\n",
      "  -5.85079222e-01 -1.93423263e+00 -3.90692187e-01  1.86651879e+00\n",
      "   7.24760619e-01  2.92000468e-01 -3.11177719e-01 -3.72248955e-01\n",
      "   3.28371557e-03  1.16214082e-01  7.53126263e-03  4.62015328e-01\n",
      "   3.01058118e-01  6.84122495e-01 -3.65680607e-02 -3.87527003e-01\n",
      "   3.15251250e-01 -1.41726469e+00 -1.56940523e-01 -1.48016552e+00\n",
      "  -2.92425421e-01 -2.37874740e-01 -1.28853937e+00 -1.96035888e-01\n",
      "   1.42913960e+00  4.26979653e-02  6.24942730e-01 -1.02048648e+00\n",
      "  -6.34188192e-01  3.49931575e-01 -9.51266481e-01 -2.41154149e+00\n",
      "  -2.79687769e+00 -1.88404858e+00 -3.79326731e-01 -3.91230032e-01\n",
      "   4.71631403e-01  8.81000594e-01  8.26239517e-01  6.58887724e-01\n",
      "  -3.29052167e-01 -3.20908294e-01 -1.08582658e+00 -1.07573419e+00\n",
      "  -7.84633986e-01 -2.52810061e-01 -2.07705972e-02  1.42599633e+00\n",
      "   4.91315693e-01 -5.92731983e-01 -1.05779951e-01 -9.94466956e-01\n",
      "  -7.87916038e-01  4.83454232e-01  4.02170523e-01  4.58986770e-01\n",
      "  -4.03586090e-01  4.24197728e-01 -2.50977753e-01 -1.08383149e+00\n",
      "  -5.93205198e-01  1.23509477e-01  1.44656829e+00  6.76396388e-01\n",
      "   6.84586115e-01 -6.06866848e-01  7.41836568e-01 -2.14344367e+00\n",
      "  -4.69981011e-01  1.21738640e+00 -5.40007900e-01  7.12192387e-01\n",
      "  -2.15279783e-01 -2.66770799e-01  1.82829189e-01 -3.41921793e-01\n",
      "   3.11555870e-01 -5.49546206e-01 -1.41530705e-01 -7.20969261e-02\n",
      "   1.77319856e+00  1.36583420e+00  5.67008686e-01 -8.44003186e-01\n",
      "   1.53736588e+00  3.77053317e-01 -3.08642826e-01 -4.14814080e-01\n",
      "   1.21557396e+00  6.62507552e-01  7.47218667e-01  4.60674952e-01\n",
      "  -4.99582339e-01 -1.54566947e-01 -1.09378256e+00  3.67525232e-01\n",
      "  -7.86326789e-01  1.22734052e+00  4.20262244e-02 -5.25780323e-01\n",
      "   2.40932343e-01 -1.21845487e+00 -1.45905880e+00  9.06883236e-01\n",
      "  -1.71726256e+00  2.88289627e-01 -4.37404280e+00 -5.21470539e-01\n",
      "  -2.43448123e+00 -1.29544808e+00  2.08899717e+00  3.30394102e-01\n",
      "  -3.05997291e-01 -5.87755052e-01 -1.11567719e+00 -5.31067421e-01\n",
      "  -9.97612838e-01 -8.43736790e-01 -1.72296986e-01 -5.26852136e-02\n",
      "  -5.48895702e-02 -5.09298406e-01  9.40147929e-01  4.79164843e-01\n",
      "  -8.29526576e-02 -2.83137640e+00  4.98485288e-01 -2.13636945e+00\n",
      "  -1.03614892e-01 -2.38238273e-01 -3.63203975e-01 -9.53212004e-01\n",
      "   1.39162836e+00  7.85337245e-01  1.32089844e+00 -2.15499335e+00\n",
      "  -9.02071219e-01  3.17127545e-01 -1.34341458e+00  4.22590825e-01\n",
      "  -1.22250411e+00  8.72308000e-01  2.29597032e-01 -4.15979548e-01\n",
      "  -1.12005735e+00 -4.75707456e-01  1.20429007e+00  5.43964306e-01\n",
      "  -5.99308605e-01  4.81802623e-01 -1.22760747e+00 -9.17394781e-01\n",
      "  -3.47665945e-01 -1.04266827e+00 -1.31939882e+00  9.33638468e-01\n",
      "   2.01510100e+00 -8.91566910e-01  4.67081096e-01  1.62263662e+00\n",
      "  -1.59585054e+00  4.79902329e-01  1.03234065e-01 -4.48208603e-01\n",
      "  -2.00034924e+00  1.40307452e-01  3.37364187e-01 -3.20518139e-01\n",
      "  -3.97230123e-01 -2.73480515e-01  1.76313905e+00  2.82310854e-01\n",
      "  -1.58236279e+00  1.48138380e+00 -1.39230272e+00  1.92963256e-01\n",
      "   9.65017559e-01 -2.42918816e-01 -6.61605403e-01  1.92716373e-01\n",
      "   1.43396160e+00 -7.00888648e-02  1.39591781e+00  1.27575438e-01\n",
      "   1.45727389e-01  5.80307390e-01  8.34553998e-01  7.01508554e-01\n",
      "   2.08464985e-01 -3.99219148e-01  1.06604967e+00  2.13707682e+00\n",
      "   1.43978022e+00 -2.93006223e-01  1.67692294e+00 -1.34345785e+00\n",
      "  -2.22638700e-01  5.42550740e-01 -1.64201149e-01  2.94796792e-01\n",
      "   5.55613631e-01 -5.05267942e-01  6.75676346e-01 -5.45078897e-01\n",
      "  -9.15431095e-01  8.09590265e-01  2.31067948e+00 -1.86859964e-01\n",
      "  -1.43045414e+00 -5.07379162e-01 -1.50865666e-01 -2.34037201e+00\n",
      "  -3.22981630e-01  1.16430713e-01  5.34973593e-02  4.08907525e-01\n",
      "  -4.45727801e-01  1.87640725e+00 -4.26920014e-01  5.19967800e-01\n",
      "  -8.41899037e-01 -2.37956137e-02  9.41951899e-01 -2.26211174e-01\n",
      "   1.47349337e+00  1.40296558e+00  8.12154823e-01  9.44366456e-01\n",
      "  -3.12647407e-01 -8.21396798e-02 -7.13327559e-01 -6.00133024e-01\n",
      "  -1.98749907e-01  6.47686963e-01  1.56300046e-01  1.52198885e+00\n",
      "  -5.00364655e-01  1.39131128e+00 -4.17133242e-01  6.49932223e-01\n",
      "  -1.14617671e+00  6.30756622e-04 -1.43050080e+00  3.11006094e-01\n",
      "   6.53108948e-02  8.35469752e-02  1.19335192e+00 -3.79907694e-01\n",
      "  -1.64060988e+00  2.01078915e-01  2.21685240e+00 -4.87342352e-01\n",
      "  -3.31074781e-01  1.11454895e+00  1.42632099e+00  1.04472421e+00\n",
      "  -1.16663595e+00  1.36862361e+00  5.60563079e-01 -6.61787050e-01\n",
      "   1.91704751e-01  1.03169602e-01  6.88608799e-01 -4.29684585e-01\n",
      "  -5.75489569e-01  7.65565584e-01  9.12501493e-01 -1.09755946e+00\n",
      "   6.48343292e-01  6.75681069e-01  2.74725562e-01  4.74559789e-01\n",
      "   7.73324987e-01  5.36954134e-01  8.59270504e-01 -1.64169752e+00\n",
      "   1.60294168e+00  9.01376490e-01  6.46396531e-01 -1.26098641e+00]]\n",
      "[ 1.66400108 -0.29997185  0.63930835  1.45117468  1.79630634]\n",
      "0.02291401748752442\n"
     ]
    }
   ],
   "source": [
    "# verification \n",
    "# ca semble bon\n",
    "\n",
    "# print(X_test_aggregated[0:2])\n",
    "# print(X_test[0][0][0][0:5])\n",
    "# print(X_test[0][1][0][-2])"
   ]
  },
  {
   "cell_type": "markdown",
   "metadata": {},
   "source": [
    "$V=\\frac{Xy}{\\lVert Xy \\rVert}=\\frac{XJ\\tilde{y}}{\\lVert XJ\\tilde{y} \\rVert}$"
   ]
  },
  {
   "cell_type": "code",
   "execution_count": 251,
   "metadata": {},
   "outputs": [],
   "source": [
    "def create_J(nb_classes, nb_tasks, n, n_t):\n",
    "    # enlever paramètre n\n",
    "    left = 0\n",
    "    beg = 0\n",
    "    for i in range(nb_tasks):\n",
    "        left += int(sum(n_t[i]))\n",
    "    J = np.zeros((left, nb_tasks*nb_classes))\n",
    "    #matprint(J)\n",
    "    for t in range(nb_tasks):\n",
    "        for j in range(nb_classes):\n",
    "            for i in range(beg, beg+n_t[t][j]):\n",
    "                J[i][t*nb_tasks+j] = 1\n",
    "            beg += n_t[t][j]\n",
    "    return J"
   ]
  },
  {
   "cell_type": "code",
   "execution_count": 252,
   "metadata": {},
   "outputs": [],
   "source": [
    "def compute_V_old(y_tilde, X, J):\n",
    "    \"\"\"\n",
    "    Utilise la formule explicite de V pour la classification binaire\n",
    "    \"\"\"\n",
    "    xy_product = X.dot(J).dot(y_tilde)\n",
    "    return xy_product/np.linalg.norm(xy_product)\n",
    "\n",
    "def compute_V(y, X, J, n):\n",
    "    \"\"\"\n",
    "    Recalcule V (calcul vecteur propre)\n",
    "    Vstar dans le fichier matlab\n",
    "    Division par p, si les X pas normalisé ?\n",
    "    wtf is wrong with V? \n",
    "    \"\"\"\n",
    "    #X*J*(tilde_y*tilde_y')*J'*X'/n\n",
    "    #print(X.shape)\n",
    "    eigenvalue, V = np.linalg.eig(X.dot(J).dot((y).dot(y.T)).dot(J.T).dot(X.T)/(n))\n",
    "    maximum = eigenvalue[0]\n",
    "    idx_larg = 0\n",
    "    # retrieve the index of the largest eigenvalue\n",
    "    for idx, value in enumerate(eigenvalue):\n",
    "        if value > maximum:\n",
    "            maximum = value\n",
    "            idx_larg = idx\n",
    "    \n",
    "    largest_eigenvalue = np.sort(eigenvalue.real)[-1]\n",
    "    #print(largest_eigenvalue)\n",
    "    #print(maximum)\n",
    "    return V.T[idx_larg].real"
   ]
  },
  {
   "cell_type": "code",
   "execution_count": 253,
   "metadata": {},
   "outputs": [
    {
     "data": {
      "text/plain": [
       "array([[-0.03850955],\n",
       "       [-0.00236092],\n",
       "       [-0.07848714]])"
      ]
     },
     "execution_count": 253,
     "metadata": {},
     "output_type": "execute_result"
    }
   ],
   "source": [
    "J = create_J(m, t, n, n_t)\n",
    "#matprint(J)\n",
    "# revoir J\n",
    "#x = np.random.normal(0, 1, size=(p,1))\n",
    "#compute_score(y, J, X, x)\n",
    "compute_V_old(y, X_train_aggregated, J)[0:3]"
   ]
  },
  {
   "cell_type": "code",
   "execution_count": 254,
   "metadata": {
    "scrolled": true
   },
   "outputs": [
    {
     "name": "stdout",
     "output_type": "stream",
     "text": [
      "[-0.03850955 -0.00236092 -0.07848714]\n"
     ]
    }
   ],
   "source": [
    "V = compute_V(y, X_train_aggregated, J, n)\n",
    "V.shape\n",
    "print(V[0:3])"
   ]
  },
  {
   "cell_type": "markdown",
   "metadata": {},
   "source": [
    "## 6ème étape\n",
    "Evaluation de nouvelles données $\\mathbf{x}$ : \n",
    "$V^T\\mathbf{x}$\n",
    "\n",
    "On utilise les données du test set $X\\_test$. On obtient de très mauvais résultats"
   ]
  },
  {
   "cell_type": "code",
   "execution_count": 255,
   "metadata": {},
   "outputs": [],
   "source": [
    "def create_mt(t, m, y, Dc, correlation_matrix):\n",
    "    m_t = []\n",
    "    for k in range(t):\n",
    "        m_tj = []\n",
    "        for l in range(m):\n",
    "            m_tj.append(asymptotic_mean(t, m, y, Dc, correlation_matrix, k, l))\n",
    "        m_t.append(m_tj)\n",
    "\n",
    "    return m_t"
   ]
  },
  {
   "cell_type": "code",
   "execution_count": 256,
   "metadata": {},
   "outputs": [
    {
     "name": "stdout",
     "output_type": "stream",
     "text": [
      "[[-0.07366010799382466, 0.18339577985669583], [3.5740123109814026, -2.7649998321044893]]\n"
     ]
    }
   ],
   "source": [
    "m_t = create_mt(t, m, y, Dc, correlation_matrix)\n",
    "print(m_t)"
   ]
  },
  {
   "cell_type": "code",
   "execution_count": 257,
   "metadata": {},
   "outputs": [],
   "source": [
    "def compute_score(V, x, m_t):\n",
    "    \"\"\"\n",
    "    x vecteur aléatoire que l'on veut classifier\n",
    "    On compare V^Tx à la moyenne des moyennes estimées pour les deux classes de la tache t\n",
    "    \"\"\"\n",
    "    x_projection = np.transpose(V).dot(x)\n",
    "    average_mean = 1/2*(m_t[0] + m_t[1])\n",
    "    return (1 if x_projection > 0 else -1) "
   ]
  },
  {
   "cell_type": "code",
   "execution_count": 258,
   "metadata": {},
   "outputs": [],
   "source": [
    "from scipy import special as sp\n",
    "def qfunc(x):\n",
    "    return 0.5-0.5*sp.erf(x/np.sqrt(2))"
   ]
  },
  {
   "cell_type": "code",
   "execution_count": 259,
   "metadata": {},
   "outputs": [],
   "source": [
    "def error_rate(m_t,nb_tasks, nb_classes, Dc, M_cur, c0):\n",
    "    #return qfunc(1/2*(m_t[0] - m_t[1]))\n",
    "    #quelle fonction prendre ?\n",
    "    et1_et2 = np.zeros((2*nb_classes, 1))\n",
    "    # seulement besoin de e3 et e4 étant donné que l'on teste les données de la task target\n",
    "    et1_et2[2] = 1\n",
    "    et1_et2[3] = -1\n",
    "    e3 = np.zeros((2*nb_classes, 1))\n",
    "    e3[2] = 1\n",
    "    power_dc = power_diagonal_matrix(Dc, -1/2)\n",
    "    inv = np.linalg.inv(M_cur+np.identity(2*2))\n",
    "    et_trans = np.transpose(et1_et2)\n",
    "    print(\"inverse : \", Dc.dot(M_cur).dot(Dc))\n",
    "    print(\"c0Dc  : \", c0*Dc)\n",
    "    print(\"arg q-func : \")\n",
    "    print(e3.T.dot(M_cur).dot(Dc).dot(np.linalg.inv(Dc.dot(M_cur).dot(Dc)+c0*Dc)).dot(Dc).dot(M_cur).dot(e3))\n",
    "    return qfunc(np.sqrt(e3.T.dot(M_cur).dot(Dc).dot(np.linalg.inv(Dc.dot(M_cur).dot(Dc)+c0*Dc)).dot(Dc).dot(M_cur).dot(e3)))\n",
    "    #return qfunc(1/2*np.sqrt(et_trans.dot(power_dc).dot(M_cur).dot(inv).dot(M_cur).dot(power_dc).dot(et1_et2)))\n",
    "#erfc(sqrt(e3'*MM*diag(c)*inv((diag(c)*MM*diag(c)+diag(co*c/k)))*diag(c)*MM*e3)/(sqrt(2)))/2;"
   ]
  },
  {
   "cell_type": "code",
   "execution_count": 260,
   "metadata": {},
   "outputs": [],
   "source": [
    "def plot_error_rate(nb_tasks, nb_classes, emp_rate, error_rate, m_t, Dc, M_cur):\n",
    "    plt.scatter(1, emp_rate, label=\"empirical error\")\n",
    "    plt.scatter(1, [error_rate(m_t[1], nb_tasks, nb_classes, Dc, M_cur)], label=\"theoritical error\")\n",
    "    plt.grid()\n",
    "    plt.ylim((0,1))\n",
    "    plt.xlim((-0.5, 0.5))\n",
    "    plt.legend()\n",
    "    plt.title(f\"Classification error rate per task\")\n",
    "    plt.show()"
   ]
  },
  {
   "cell_type": "code",
   "execution_count": 261,
   "metadata": {},
   "outputs": [],
   "source": [
    "def compute_error_rate(X_test, V, m_t, nb_tasks, nb_classes, n_t, Dc, M_cur, c0, display = False):\n",
    "    \"\"\"\n",
    "    Compute and plot classification error rate on test set\n",
    "    \"\"\"\n",
    "    #print(\"n dans fonction: \", n)\n",
    "    emp_rate = []\n",
    "    error = 0\n",
    "    ni = 0\n",
    "    for t in range(nb_tasks):\n",
    "        error = 0\n",
    "        ni = sum(n_t[t])\n",
    "        for l in range(nb_classes):\n",
    "            for i in range(n_t[t][l]):\n",
    "                # on prend la transposée pour pouvoir travailler avec les colonnes\n",
    "                score = compute_score(V, np.transpose(X_test[t][l])[i], m_t[1])\n",
    "                if (score == 1 and l == 1):\n",
    "                    error +=1\n",
    "                elif (score == -1 and l == 0):\n",
    "                    error +=1\n",
    "        \n",
    "        erreur_emp = error/ni\n",
    "        \n",
    "        if erreur_emp > 0.5:\n",
    "            erreur_emp=1-erreur_emp\n",
    "        emp_rate.append(erreur_emp)\n",
    "       \n",
    "    if display:\n",
    "        plot_error_rate(nb_tasks, nb_classes, emp_rate, error_rate, m_t, Dc, M_cur)\n",
    "    \n",
    "    return np.mean(emp_rate), error_rate(m_t[1], nb_tasks, nb_classes,  Dc, M_cur, c0)[0][0]"
   ]
  },
  {
   "cell_type": "code",
   "execution_count": 262,
   "metadata": {},
   "outputs": [
    {
     "name": "stdout",
     "output_type": "stream",
     "text": [
      "inverse :  [[ 1.18343932e+00 -1.04364466e+00  3.39106668e-03  4.98575246e-03]\n",
      " [-1.04364466e+00  1.12823236e+00 -2.01097227e-03 -5.02580248e-03]\n",
      " [ 3.39106668e-03 -2.01097227e-03  4.24635035e-04 -1.04064227e-04]\n",
      " [ 4.98575246e-03 -5.02580248e-03 -1.04064227e-04  3.38303813e-04]]\n",
      "c0Dc  :  [[0.02066116 0.         0.         0.        ]\n",
      " [0.         0.02066116 0.         0.        ]\n",
      " [0.         0.         0.00103306 0.        ]\n",
      " [0.         0.         0.         0.00103306]]\n",
      "arg q-func : \n",
      "[[0.26215903]]\n"
     ]
    },
    {
     "data": {
      "text/plain": [
       "(0.3625, 0.304320370112392)"
      ]
     },
     "execution_count": 262,
     "metadata": {},
     "output_type": "execute_result"
    }
   ],
   "source": [
    "compute_error_rate(X_test, V, m_t, t, m, n_t_test, Dc, correlation_matrix, p/n)"
   ]
  },
  {
   "cell_type": "code",
   "execution_count": 263,
   "metadata": {},
   "outputs": [
    {
     "ename": "TypeError",
     "evalue": "error_rate() takes 6 positional arguments but 7 were given",
     "output_type": "error",
     "traceback": [
      "\u001b[0;31m---------------------------------------------------------------------------\u001b[0m",
      "\u001b[0;31mTypeError\u001b[0m                                 Traceback (most recent call last)",
      "\u001b[0;32m<ipython-input-263-a463ee54c375>\u001b[0m in \u001b[0;36m<module>\u001b[0;34m\u001b[0m\n\u001b[0;32m----> 1\u001b[0;31m \u001b[0merror_rate\u001b[0m\u001b[0;34m(\u001b[0m\u001b[0mm_t\u001b[0m\u001b[0;34m[\u001b[0m\u001b[0;36m1\u001b[0m\u001b[0;34m]\u001b[0m\u001b[0;34m,\u001b[0m \u001b[0mt\u001b[0m\u001b[0;34m,\u001b[0m \u001b[0mm\u001b[0m\u001b[0;34m,\u001b[0m \u001b[0mDc\u001b[0m\u001b[0;34m,\u001b[0m \u001b[0mnp\u001b[0m\u001b[0;34m.\u001b[0m\u001b[0mtranspose\u001b[0m\u001b[0;34m(\u001b[0m\u001b[0mM_mean\u001b[0m\u001b[0;34m)\u001b[0m\u001b[0;34m.\u001b[0m\u001b[0mdot\u001b[0m\u001b[0;34m(\u001b[0m\u001b[0mM_mean\u001b[0m\u001b[0;34m)\u001b[0m\u001b[0;34m,\u001b[0m \u001b[0mp\u001b[0m\u001b[0;34m,\u001b[0m \u001b[0mn\u001b[0m\u001b[0;34m)\u001b[0m\u001b[0;34m\u001b[0m\u001b[0;34m\u001b[0m\u001b[0m\n\u001b[0m",
      "\u001b[0;31mTypeError\u001b[0m: error_rate() takes 6 positional arguments but 7 were given"
     ]
    }
   ],
   "source": [
    "error_rate(m_t[1], t, m, Dc, np.transpose(M_mean).dot(M_mean), p, n)"
   ]
  },
  {
   "cell_type": "code",
   "execution_count": 264,
   "metadata": {},
   "outputs": [],
   "source": [
    "def debug_histogram(V, X_test, n_t):\n",
    "    \"\"\"\n",
    "    Trace l'histogramme de V^T*x_1 et V^T*x_2.\n",
    "    \"\"\"\n",
    "#     print(X1[0][0])\n",
    "#     print(n_t[0][0])\n",
    "    alpha = 0.5\n",
    "    bins = 20\n",
    "    plt.hist(V.T.dot(X_test.T[:n_t[0][0]].T), bins = bins, alpha=alpha, label=r\"$C_1$\")\n",
    "    plt.hist(V.T.dot(X_test.T[n_t[0][0]:].T), bins = bins, alpha=alpha, label=r\"$C_2$\")\n",
    "    plt.title(r\"Histogramme des données de tests projetées sur $V$ : $V^Tx_j$\")\n",
    "    plt.legend()\n",
    "    plt.show()"
   ]
  },
  {
   "cell_type": "code",
   "execution_count": 267,
   "metadata": {},
   "outputs": [
    {
     "data": {
      "image/png": "[encoded data removed]",
      "text/plain": [
       "<Figure size 432x288 with 1 Axes>"
      ]
     },
     "metadata": {
      "needs_background": "light"
     },
     "output_type": "display_data"
    }
   ],
   "source": [
    "debug_histogram(V, X_test_aggregated, n_t_test)"
   ]
  },
  {
   "cell_type": "markdown",
   "metadata": {},
   "source": [
    "# 2-class Gaussian mixture transfer (c.f. Figure 2)"
   ]
  },
  {
   "cell_type": "code",
   "execution_count": 266,
   "metadata": {},
   "outputs": [
    {
     "name": "stdout",
     "output_type": "stream",
     "text": [
      "MTM : \n",
      "[[ 1. -1.  0.  0.]\n",
      " [-1.  1.  0.  0.]\n",
      " [ 0.  0.  1. -1.]\n",
      " [ 0.  0. -1.  1.]]\n",
      "c =  [0.47619048 0.47619048 0.02380952 0.02380952]\n",
      "Correlation Matrix : \n",
      " 5  -5      0      0  \n",
      "-5   5      0      0  \n",
      " 0   0   0.25  -0.25  \n",
      " 0   0  -0.25   0.25  \n",
      "y = \n",
      "  0  \n",
      "  0  \n",
      " 14  \n",
      "-14  \n"
     ]
    },
    {
     "data": {
      "image/png": "[encoded data removed]",
      "text/plain": [
       "<Figure size 432x288 with 1 Axes>"
      ]
     },
     "metadata": {
      "needs_background": "light"
     },
     "output_type": "display_data"
    },
    {
     "name": "stdout",
     "output_type": "stream",
     "text": [
      "m_t =  [[0.0, 0.0], [1.8708286933869707, -1.8708286933869707]]\n",
      "inverse :  [[ 0.22675737 -0.22675737  0.          0.        ]\n",
      " [-0.22675737  0.22675737  0.          0.        ]\n",
      " [ 0.          0.          0.00056689 -0.00056689]\n",
      " [ 0.          0.         -0.00056689  0.00056689]]\n",
      "c0Dc  :  [[0.02267574 0.         0.         0.        ]\n",
      " [0.         0.02267574 0.         0.        ]\n",
      " [0.         0.         0.00113379 0.        ]\n",
      " [0.         0.         0.         0.00113379]]\n",
      "arg q-func : \n",
      "[[0.5]]\n",
      "[0.22950000000000004] [0.23975006109347674]\n",
      "MTM : \n",
      "[[ 1.  -1.   0.1 -0.1]\n",
      " [-1.   1.  -0.1  0.1]\n",
      " [ 0.1 -0.1  1.  -1. ]\n",
      " [-0.1  0.1 -1.   1. ]]\n",
      "c =  [0.47619048 0.47619048 0.02380952 0.02380952]\n",
      "Correlation Matrix : \n",
      "        5         -5   0.111803  -0.111803  \n",
      "       -5          5  -0.111803   0.111803  \n",
      " 0.111803  -0.111803       0.25      -0.25  \n",
      "-0.111803   0.111803      -0.25       0.25  \n",
      "y = \n",
      "       0  \n",
      "       0  \n",
      " 13.9149  \n",
      "-13.9149  \n"
     ]
    },
    {
     "data": {
      "image/png": "[encoded data removed]",
      "text/plain": [
       "<Figure size 432x288 with 1 Axes>"
      ]
     },
     "metadata": {
      "needs_background": "light"
     },
     "output_type": "display_data"
    },
    {
     "name": "stdout",
     "output_type": "stream",
     "text": [
      "m_t =  [[0.18708286933869708, -0.18708286933869708], [1.8708286933869707, -1.8708286933869707]]\n",
      "inverse :  [[ 0.22675737 -0.22675737  0.00113379 -0.00113379]\n",
      " [-0.22675737  0.22675737 -0.00113379  0.00113379]\n",
      " [ 0.00113379 -0.00113379  0.00056689 -0.00056689]\n",
      " [-0.00113379  0.00113379 -0.00056689  0.00056689]]\n",
      "c0Dc  :  [[0.02267574 0.         0.         0.        ]\n",
      " [0.         0.02267574 0.         0.        ]\n",
      " [0.         0.         0.00113379 0.        ]\n",
      " [0.         0.         0.         0.00113379]]\n",
      "arg q-func : \n",
      "[[0.50239234]]\n",
      "[0.22950000000000004, 0.22950000000000004] [0.23975006109347674, 0.23922541434207162]\n",
      "MTM : \n",
      "[[ 1.  -1.   0.2 -0.2]\n",
      " [-1.   1.  -0.2  0.2]\n",
      " [ 0.2 -0.2  1.  -1. ]\n",
      " [-0.2  0.2 -1.   1. ]]\n",
      "c =  [0.47619048 0.47619048 0.02380952 0.02380952]\n",
      "Correlation Matrix : \n",
      "        5         -5   0.223607  -0.223607  \n",
      "       -5          5  -0.223607   0.223607  \n",
      " 0.223607  -0.223607       0.25      -0.25  \n",
      "-0.223607   0.223607      -0.25       0.25  \n",
      "y = \n",
      "       0  \n",
      "       0  \n",
      " 13.6564  \n",
      "-13.6564  \n"
     ]
    },
    {
     "data": {
      "image/png": "[encoded data removed]",
      "text/plain": [
       "<Figure size 432x288 with 1 Axes>"
      ]
     },
     "metadata": {
      "needs_background": "light"
     },
     "output_type": "display_data"
    },
    {
     "name": "stdout",
     "output_type": "stream",
     "text": [
      "m_t =  [[0.37416573867739417, -0.37416573867739417], [1.8708286933869709, -1.8708286933869709]]\n",
      "inverse :  [[ 0.22675737 -0.22675737  0.00226757 -0.00226757]\n",
      " [-0.22675737  0.22675737 -0.00226757  0.00226757]\n",
      " [ 0.00226757 -0.00226757  0.00056689 -0.00056689]\n",
      " [-0.00226757  0.00226757 -0.00056689  0.00056689]]\n",
      "c0Dc  :  [[0.02267574 0.         0.         0.        ]\n",
      " [0.         0.02267574 0.         0.        ]\n",
      " [0.         0.         0.00113379 0.        ]\n",
      " [0.         0.         0.         0.00113379]]\n",
      "arg q-func : \n",
      "[[0.50970874]]\n",
      "[0.22950000000000004, 0.22950000000000004, 0.23350000000000004] [0.23975006109347674, 0.23922541434207162, 0.2376324842081241]\n",
      "MTM : \n",
      "[[ 1.  -1.   0.3 -0.3]\n",
      " [-1.   1.  -0.3  0.3]\n",
      " [ 0.3 -0.3  1.  -1. ]\n",
      " [-0.3  0.3 -1.   1. ]]\n",
      "c =  [0.47619048 0.47619048 0.02380952 0.02380952]\n",
      "Correlation Matrix : \n",
      "       5        -5   0.33541  -0.33541  \n",
      "      -5         5  -0.33541   0.33541  \n",
      " 0.33541  -0.33541      0.25     -0.25  \n",
      "-0.33541   0.33541     -0.25      0.25  \n",
      "y = \n",
      "      0  \n",
      "      0  \n",
      " 13.215  \n",
      "-13.215  \n"
     ]
    },
    {
     "data": {
      "image/png": "[encoded data removed]",
      "text/plain": [
       "<Figure size 432x288 with 1 Axes>"
      ]
     },
     "metadata": {
      "needs_background": "light"
     },
     "output_type": "display_data"
    },
    {
     "name": "stdout",
     "output_type": "stream",
     "text": [
      "m_t =  [[0.5612486080160913, -0.5612486080160913], [1.870828693386971, -1.870828693386971]]\n",
      "inverse :  [[ 0.22675737 -0.22675737  0.00340136 -0.00340136]\n",
      " [-0.22675737  0.22675737 -0.00340136  0.00340136]\n",
      " [ 0.00340136 -0.00340136  0.00056689 -0.00056689]\n",
      " [-0.00340136  0.00340136 -0.00056689  0.00056689]]\n",
      "c0Dc  :  [[0.02267574 0.         0.         0.        ]\n",
      " [0.         0.02267574 0.         0.        ]\n",
      " [0.         0.         0.00113379 0.        ]\n",
      " [0.         0.         0.         0.00113379]]\n",
      "arg q-func : \n",
      "[[0.52238806]]\n",
      "[0.22950000000000004, 0.22950000000000004, 0.23350000000000004, 0.23150000000000004] [0.23975006109347674, 0.23922541434207162, 0.2376324842081241, 0.2349123888336228]\n",
      "MTM : \n",
      "[[ 1.  -1.   0.4 -0.4]\n",
      " [-1.   1.  -0.4  0.4]\n",
      " [ 0.4 -0.4  1.  -1. ]\n",
      " [-0.4  0.4 -1.   1. ]]\n",
      "c =  [0.47619048 0.47619048 0.02380952 0.02380952]\n",
      "Correlation Matrix : \n",
      "        5         -5   0.447214  -0.447214  \n",
      "       -5          5  -0.447214   0.447214  \n",
      " 0.447214  -0.447214       0.25      -0.25  \n",
      "-0.447214   0.447214      -0.25       0.25  \n",
      "y = \n",
      "       0  \n",
      "       0  \n",
      " 12.5732  \n",
      "-12.5732  \n"
     ]
    },
    {
     "data": {
      "image/png": "[encoded data removed]",
      "text/plain": [
       "<Figure size 432x288 with 1 Axes>"
      ]
     },
     "metadata": {
      "needs_background": "light"
     },
     "output_type": "display_data"
    },
    {
     "name": "stdout",
     "output_type": "stream",
     "text": [
      "m_t =  [[0.7483314773547886, -0.7483314773547886], [1.8708286933869707, -1.8708286933869707]]\n",
      "inverse :  [[ 0.22675737 -0.22675737  0.00453515 -0.00453515]\n",
      " [-0.22675737  0.22675737 -0.00453515  0.00453515]\n",
      " [ 0.00453515 -0.00453515  0.00056689 -0.00056689]\n",
      " [-0.00453515  0.00453515 -0.00056689  0.00056689]]\n",
      "c0Dc  :  [[0.02267574 0.         0.         0.        ]\n",
      " [0.         0.02267574 0.         0.        ]\n",
      " [0.         0.         0.00113379 0.        ]\n",
      " [0.         0.         0.         0.00113379]]\n",
      "arg q-func : \n",
      "[[0.54123711]]\n",
      "[0.22950000000000004, 0.22950000000000004, 0.23350000000000004, 0.23150000000000004, 0.23050000000000004] [0.23975006109347674, 0.23922541434207162, 0.2376324842081241, 0.2349123888336228, 0.2309602391618985]\n",
      "MTM : \n",
      "[[ 1.  -1.   0.5 -0.5]\n",
      " [-1.   1.  -0.5  0.5]\n",
      " [ 0.5 -0.5  1.  -1. ]\n",
      " [-0.5  0.5 -1.   1. ]]\n",
      "c =  [0.47619048 0.47619048 0.02380952 0.02380952]\n",
      "Correlation Matrix : \n",
      "        5         -5   0.559017  -0.559017  \n",
      "       -5          5  -0.559017   0.559017  \n",
      " 0.559017  -0.559017       0.25      -0.25  \n",
      "-0.559017   0.559017      -0.25       0.25  \n",
      "y = \n",
      "       0  \n",
      "       0  \n",
      " 11.7049  \n",
      "-11.7049  \n"
     ]
    },
    {
     "data": {
      "image/png": "[encoded data removed]",
      "text/plain": [
       "<Figure size 432x288 with 1 Axes>"
      ]
     },
     "metadata": {
      "needs_background": "light"
     },
     "output_type": "display_data"
    },
    {
     "name": "stdout",
     "output_type": "stream",
     "text": [
      "m_t =  [[0.9354143466934853, -0.9354143466934853], [1.8708286933869707, -1.8708286933869707]]\n",
      "inverse :  [[ 0.22675737 -0.22675737  0.00566893 -0.00566893]\n",
      " [-0.22675737  0.22675737 -0.00566893  0.00566893]\n",
      " [ 0.00566893 -0.00566893  0.00056689 -0.00056689]\n",
      " [-0.00566893  0.00566893 -0.00056689  0.00056689]]\n",
      "c0Dc  :  [[0.02267574 0.         0.         0.        ]\n",
      " [0.         0.02267574 0.         0.        ]\n",
      " [0.         0.         0.00113379 0.        ]\n",
      " [0.         0.         0.         0.00113379]]\n",
      "arg q-func : \n",
      "[[0.56756757]]\n",
      "[0.22950000000000004, 0.22950000000000004, 0.23350000000000004, 0.23150000000000004, 0.23050000000000004, 0.22750000000000004] [0.23975006109347674, 0.23922541434207162, 0.2376324842081241, 0.2349123888336228, 0.2309602391618985, 0.2256135612113705]\n",
      "MTM : \n",
      "[[ 1.  -1.   0.6 -0.6]\n",
      " [-1.   1.  -0.6  0.6]\n",
      " [ 0.6 -0.6  1.  -1. ]\n",
      " [-0.6  0.6 -1.   1. ]]\n",
      "c =  [0.47619048 0.47619048 0.02380952 0.02380952]\n",
      "Correlation Matrix : \n",
      "       5        -5   0.67082  -0.67082  \n",
      "      -5         5  -0.67082   0.67082  \n",
      " 0.67082  -0.67082      0.25     -0.25  \n",
      "-0.67082   0.67082     -0.25      0.25  \n",
      "y = \n",
      "       0  \n",
      "       0  \n",
      " 10.5714  \n",
      "-10.5714  \n"
     ]
    },
    {
     "data": {
      "image/png": "[encoded data removed]",
      "text/plain": [
       "<Figure size 432x288 with 1 Axes>"
      ]
     },
     "metadata": {
      "needs_background": "light"
     },
     "output_type": "display_data"
    },
    {
     "name": "stdout",
     "output_type": "stream",
     "text": [
      "m_t =  [[1.1224972160321827, -1.1224972160321827], [1.8708286933869707, -1.8708286933869707]]\n",
      "inverse :  [[ 0.22675737 -0.22675737  0.00680272 -0.00680272]\n",
      " [-0.22675737  0.22675737 -0.00680272  0.00680272]\n",
      " [ 0.00680272 -0.00680272  0.00056689 -0.00056689]\n",
      " [-0.00680272  0.00680272 -0.00056689  0.00056689]]\n",
      "c0Dc  :  [[0.02267574 0.         0.         0.        ]\n",
      " [0.         0.02267574 0.         0.        ]\n",
      " [0.         0.         0.00113379 0.        ]\n",
      " [0.         0.         0.         0.00113379]]\n",
      "arg q-func : \n",
      "[[0.60344828]]\n",
      "[0.22950000000000004, 0.22950000000000004, 0.23350000000000004, 0.23150000000000004, 0.23050000000000004, 0.22750000000000004, 0.22950000000000004] [0.23975006109347674, 0.23922541434207162, 0.2376324842081241, 0.2349123888336228, 0.2309602391618985, 0.2256135612113705, 0.21863268448869144]\n",
      "MTM : \n",
      "[[ 1.  -1.   0.7 -0.7]\n",
      " [-1.   1.  -0.7  0.7]\n",
      " [ 0.7 -0.7  1.  -1. ]\n",
      " [-0.7  0.7 -1.   1. ]]\n",
      "c =  [0.47619048 0.47619048 0.02380952 0.02380952]\n",
      "Correlation Matrix : \n",
      "        5         -5   0.782624  -0.782624  \n",
      "       -5          5  -0.782624   0.782624  \n",
      " 0.782624  -0.782624       0.25      -0.25  \n",
      "-0.782624   0.782624      -0.25       0.25  \n",
      "y = \n",
      "       0  \n",
      "       0  \n",
      " 9.11744  \n",
      "-9.11744  \n"
     ]
    },
    {
     "data": {
      "image/png": "[encoded data removed]",
      "text/plain": [
       "<Figure size 432x288 with 1 Axes>"
      ]
     },
     "metadata": {
      "needs_background": "light"
     },
     "output_type": "display_data"
    },
    {
     "name": "stdout",
     "output_type": "stream",
     "text": [
      "m_t =  [[1.3095800853708799, -1.3095800853708799], [1.8708286933869709, -1.8708286933869709]]\n",
      "inverse :  [[ 0.22675737 -0.22675737  0.00793651 -0.00793651]\n",
      " [-0.22675737  0.22675737 -0.00793651  0.00793651]\n",
      " [ 0.00793651 -0.00793651  0.00056689 -0.00056689]\n",
      " [-0.00793651  0.00793651 -0.00056689  0.00056689]]\n",
      "c0Dc  :  [[0.02267574 0.         0.         0.        ]\n",
      " [0.         0.02267574 0.         0.        ]\n",
      " [0.         0.         0.00113379 0.        ]\n",
      " [0.         0.         0.         0.00113379]]\n",
      "arg q-func : \n",
      "[[0.65217391]]\n",
      "[0.22950000000000004, 0.22950000000000004, 0.23350000000000004, 0.23150000000000004, 0.23050000000000004, 0.22750000000000004, 0.22950000000000004, 0.23199999999999998] [0.23975006109347674, 0.23922541434207162, 0.2376324842081241, 0.2349123888336228, 0.2309602391618985, 0.2256135612113705, 0.21863268448869144, 0.20966825979188647]\n",
      "MTM : \n",
      "[[ 1.  -1.   0.8 -0.8]\n",
      " [-1.   1.  -0.8  0.8]\n",
      " [ 0.8 -0.8  1.  -1. ]\n",
      " [-0.8  0.8 -1.   1. ]]\n",
      "c =  [0.47619048 0.47619048 0.02380952 0.02380952]\n",
      "Correlation Matrix : \n",
      "        5         -5   0.894427  -0.894427  \n",
      "       -5          5  -0.894427   0.894427  \n",
      " 0.894427  -0.894427       0.25      -0.25  \n",
      "-0.894427   0.894427      -0.25       0.25  \n",
      "y = \n",
      "       0  \n",
      "       0  \n",
      " 7.26316  \n",
      "-7.26316  \n"
     ]
    },
    {
     "data": {
      "image/png": "[encoded data removed]",
      "text/plain": [
       "<Figure size 432x288 with 1 Axes>"
      ]
     },
     "metadata": {
      "needs_background": "light"
     },
     "output_type": "display_data"
    },
    {
     "name": "stdout",
     "output_type": "stream",
     "text": [
      "m_t =  [[1.496662954709577, -1.496662954709577], [1.8708286933869707, -1.8708286933869707]]\n",
      "inverse :  [[ 0.22675737 -0.22675737  0.00907029 -0.00907029]\n",
      " [-0.22675737  0.22675737 -0.00907029  0.00907029]\n",
      " [ 0.00907029 -0.00907029  0.00056689 -0.00056689]\n",
      " [-0.00907029  0.00907029 -0.00056689  0.00056689]]\n",
      "c0Dc  :  [[0.02267574 0.         0.         0.        ]\n",
      " [0.         0.02267574 0.         0.        ]\n",
      " [0.         0.         0.00113379 0.        ]\n",
      " [0.         0.         0.         0.00113379]]\n",
      "arg q-func : \n",
      "[[0.71917808]]\n",
      "[0.22950000000000004, 0.22950000000000004, 0.23350000000000004, 0.23150000000000004, 0.23050000000000004, 0.22750000000000004, 0.22950000000000004, 0.23199999999999998, 0.23399999999999999] [0.23975006109347674, 0.23922541434207162, 0.2376324842081241, 0.2349123888336228, 0.2309602391618985, 0.2256135612113705, 0.21863268448869144, 0.20966825979188647, 0.19820682273975027]\n",
      "MTM : \n",
      "[[ 1.  -1.   0.9 -0.9]\n",
      " [-1.   1.  -0.9  0.9]\n",
      " [ 0.9 -0.9  1.  -1. ]\n",
      " [-0.9  0.9 -1.   1. ]]\n",
      "c =  [0.47619048 0.47619048 0.02380952 0.02380952]\n",
      "Correlation Matrix : \n",
      "       5        -5   1.00623  -1.00623  \n",
      "      -5         5  -1.00623   1.00623  \n",
      " 1.00623  -1.00623      0.25     -0.25  \n",
      "-1.00623   1.00623     -0.25      0.25  \n",
      "y = \n",
      "       0  \n",
      "       0  \n",
      " 4.89157  \n",
      "-4.89157  \n"
     ]
    },
    {
     "data": {
      "image/png": "[encoded data removed]",
      "text/plain": [
       "<Figure size 432x288 with 1 Axes>"
      ]
     },
     "metadata": {
      "needs_background": "light"
     },
     "output_type": "display_data"
    },
    {
     "name": "stdout",
     "output_type": "stream",
     "text": [
      "m_t =  [[1.6837458240482743, -1.6837458240482743], [1.8708286933869709, -1.8708286933869709]]\n",
      "inverse :  [[ 0.22675737 -0.22675737  0.01020408 -0.01020408]\n",
      " [-0.22675737  0.22675737 -0.01020408  0.01020408]\n",
      " [ 0.01020408 -0.01020408  0.00056689 -0.00056689]\n",
      " [-0.01020408  0.01020408 -0.00056689  0.00056689]]\n",
      "c0Dc  :  [[0.02267574 0.         0.         0.        ]\n",
      " [0.         0.02267574 0.         0.        ]\n",
      " [0.         0.         0.00113379 0.        ]\n",
      " [0.         0.         0.         0.00113379]]\n",
      "arg q-func : \n",
      "[[0.81395349]]\n",
      "[0.22950000000000004, 0.22950000000000004, 0.23350000000000004, 0.23150000000000004, 0.23050000000000004, 0.22750000000000004, 0.22950000000000004, 0.23199999999999998, 0.23399999999999999, 0.24050000000000005] [0.23975006109347674, 0.23922541434207162, 0.2376324842081241, 0.2349123888336228, 0.2309602391618985, 0.2256135612113705, 0.21863268448869144, 0.20966825979188647, 0.19820682273975027, 0.18347698807927781]\n",
      "MTM : \n",
      "[[ 1. -1.  1. -1.]\n",
      " [-1.  1. -1.  1.]\n",
      " [ 1. -1.  1. -1.]\n",
      " [-1.  1. -1.  1.]]\n",
      "c =  [0.47619048 0.47619048 0.02380952 0.02380952]\n",
      "Correlation Matrix : \n",
      "       5        -5   1.11803  -1.11803  \n",
      "      -5         5  -1.11803   1.11803  \n",
      " 1.11803  -1.11803      0.25     -0.25  \n",
      "-1.11803   1.11803     -0.25      0.25  \n",
      "y = \n",
      "       0  \n",
      "       0  \n",
      " 1.82609  \n",
      "-1.82609  \n"
     ]
    },
    {
     "data": {
      "image/png": "[encoded data removed]",
      "text/plain": [
       "<Figure size 432x288 with 1 Axes>"
      ]
     },
     "metadata": {
      "needs_background": "light"
     },
     "output_type": "display_data"
    },
    {
     "name": "stdout",
     "output_type": "stream",
     "text": [
      "m_t =  [[1.8708286933869709, -1.8708286933869709], [1.8708286933869707, -1.8708286933869707]]\n",
      "inverse :  [[ 0.22675737 -0.22675737  0.01133787 -0.01133787]\n",
      " [-0.22675737  0.22675737 -0.01133787  0.01133787]\n",
      " [ 0.01133787 -0.01133787  0.00056689 -0.00056689]\n",
      " [-0.01133787  0.01133787 -0.00056689  0.00056689]]\n",
      "c0Dc  :  [[0.02267574 0.         0.         0.        ]\n",
      " [0.         0.02267574 0.         0.        ]\n",
      " [0.         0.         0.00113379 0.        ]\n",
      " [0.         0.         0.         0.00113379]]\n",
      "arg q-func : \n",
      "[[0.95454545]]\n",
      "[0.22950000000000004, 0.22950000000000004, 0.23350000000000004, 0.23150000000000004, 0.23050000000000004, 0.22750000000000004, 0.22950000000000004, 0.23199999999999998, 0.23399999999999999, 0.24050000000000005, 0.238] [0.23975006109347674, 0.23922541434207162, 0.2376324842081241, 0.2349123888336228, 0.2309602391618985, 0.2256135612113705, 0.21863268448869144, 0.20966825979188647, 0.19820682273975027, 0.18347698807927781, 0.16428249171959852]\n"
     ]
    },
    {
     "data": {
      "image/png": "[encoded data removed]",
      "text/plain": [
       "<Figure size 432x288 with 1 Axes>"
      ]
     },
     "metadata": {
      "needs_background": "light"
     },
     "output_type": "display_data"
    }
   ],
   "source": [
    "n = 2100\n",
    "p = 100\n",
    "m = 2\n",
    "t = 2\n",
    "beta = np.arange(0,1.1,0.1)\n",
    "n_t = [[1000,1000], [50, 50]]\n",
    "n_t_test = [[1000, 1000]]\n",
    "emp_rate, th_rate = [], []\n",
    "for b in beta:\n",
    "    # on crée les données synthétiques\n",
    "    M = mean_matrix(b, p)\n",
    "    #print(M)\n",
    "    X = gaussian_synthetic_data(n, p, m, t, n_t, M)\n",
    "    X_test = gaussian_synthetic_data(n, p, m, 1, n_t_test, [M[1]])\n",
    "    X = normalisation(X, p)\n",
    "    X_test = normalisation(X_test, p)\n",
    "    #X = normalisation_old(X, t, m)\n",
    "    # Malik's normalization (dividing by sqrt(p))\n",
    "    #X_train, X_test, n_t_train, n_t_test = train_test_split_data(X, 0.8, t, m)\n",
    "    #y = create_labels(t,m)\n",
    "    \n",
    "    # On calcule les moyennes empiriques\n",
    "    #M_mean = empirical_mean(t, m, X_train, p, n_t_train)\n",
    "    M_mean = true_mean(M, p, t, m)\n",
    "    print(\"MTM : \")\n",
    "    MM = np.transpose(M_mean).dot(M_mean)\n",
    "    print(MM)\n",
    "    c = estimate_c(n_t, n, t, m)\n",
    "    c0 = p/n\n",
    "    Dc = np.diag(c)\n",
    "    print(\"c = \", c)\n",
    "    print(\"Correlation Matrix : \")\n",
    "    correlation_matrix = compute_M_cal(n,p,Dc,M_mean, display=False)\n",
    "    matprint(correlation_matrix)\n",
    "    y = label_evaluation(t,m,Dc,correlation_matrix)\n",
    "    print(\"y = \")\n",
    "    matprint(y)\n",
    "    X_train_aggregated = aggregate_array(X, p, n, t, m)\n",
    "    X_test_aggregated = aggregate_array(X_test, p, sum(n_t_test[0]), 1, m)\n",
    "    J = create_J(m, t, n, n_t)\n",
    "    \n",
    "    V = compute_V(y, X_train_aggregated, J, n)\n",
    "    debug_histogram(V, X_test_aggregated, n_t_test)\n",
    "#     print(\"V = \")\n",
    "#     print(V)\n",
    "    m_t = create_mt(t, m, y, Dc, correlation_matrix)\n",
    "    print(\"m_t = \", m_t)\n",
    "    erreurs = compute_error_rate(X_test, V, m_t, 1, m, n_t_test, Dc, MM, c0)\n",
    "    emp_rate.append(erreurs[0])\n",
    "    th_rate.append(erreurs[1])\n",
    "\n",
    "    print(emp_rate, th_rate)\n",
    "    \n",
    "plt.plot(beta, emp_rate, '-o', label='empirical rate')\n",
    "plt.plot(beta, th_rate, '-o', label='theoritical rate')\n",
    "plt.legend()\n",
    "plt.title(\"2-class Gaussian mixture transfer error rate\")\n",
    "plt.xlabel(\"Task relatedness (beta)\")\n",
    "plt.ylabel(\"error rate\")\n",
    "plt.grid()\n",
    "plt.show()"
   ]
  },
  {
   "cell_type": "code",
   "execution_count": null,
   "metadata": {},
   "outputs": [],
   "source": [
    "plt.plot(beta, th_rate, '-o', label='theoritical rate')\n",
    "plt.legend()\n",
    "plt.title(\"2-class Gaussian mixture transfer error rate\")\n",
    "plt.xlabel(\"Task relatedness (beta)\")\n",
    "plt.ylabel(\"error rate\")\n",
    "plt.grid()\n",
    "plt.show()"
   ]
  },
  {
   "cell_type": "code",
   "execution_count": null,
   "metadata": {},
   "outputs": [],
   "source": [
    "np.transpose(M_mean).dot(M_mean)"
   ]
  },
  {
   "cell_type": "markdown",
   "metadata": {},
   "source": [
    "# Algorithme distribué 2 tâches 2 classes\n",
    "Bien que certains résultats du précedent algorithmes sont particulèrement inquiétants, essayons de voir comment distribuer l'algorithme sur plusieurs serveurs.\n",
    "\n",
    "Par exemple un serveur demande les moyennes des autres serveurs pour pouvoir obtenir des meilleurs résultats en calculant la moyenne des ses données et la moyenne de toutes les moyennes avant de le renvoyer au serveur principal qui mettra à jour le modèle.\n",
    "\n",
    "Prendre des données synthétiques pour la 1ère tâche à 2 classes, puis rappatrier une ou plusieurs moyennes pour les autres tasks. \n",
    "Faire des comparaisons, avec et sans federated learning."
   ]
  },
  {
   "cell_type": "markdown",
   "metadata": {},
   "source": [
    "### Serveur isolé"
   ]
  },
  {
   "cell_type": "code",
   "execution_count": null,
   "metadata": {},
   "outputs": [],
   "source": [
    "n = 2000\n",
    "p = 100\n",
    "m = 2\n",
    "t = 1\n",
    "n_t = [[1000,1000]]\n",
    "M = mean_random_matrix(m, t, p, 0., 0.5)\n",
    "X = gaussian_synthetic_data(n, p, m, t, n_t, M)\n",
    "X_train, X_test, n_t_train, n_t_test = train_test_split_data(X, 0.8, t, m)\n",
    "y = create_labels(t,m)\n",
    "M_mean = empirical_mean(t, m, X_train, p, n_t_train)\n",
    "c = estimate_c(n_t, n, t, m)\n",
    "Dc = np.diag(c)\n",
    "correlation_matrix = compute_M_cal(n,p,Dc,M_mean, display=True)\n",
    "y = label_evaluation(t,m,Dc,correlation_matrix)\n",
    "X_train_aggregated = aggregate_array(X_train, p, n, t, m)\n",
    "X_test_aggregated = aggregate_array(X_train, p, n, t, m)\n",
    "J = create_J(m, t, n, n_t_train)\n",
    "V = compute_V(y, X_train_aggregated, J)\n",
    "m_t = create_mt(t, m, y, Dc, correlation_matrix)\n",
    "compute_error_rate(X_test, V, m_t, t, m, n_t_test, Dc, correlation_matrix, True)"
   ]
  },
  {
   "cell_type": "markdown",
   "metadata": {},
   "source": [
    "### 2 serveurs \n",
    "L'un des serveurs va demander les moyennes de l'autre pour entraîner le modèle sur ses données et sortir un résultat. \n",
    "\n",
    "L'autre serveur pourrait envoyer sa matrice de corrélation $\\mathcal{M}\\in\\mathbb{R}^{km\\times km}$ et le serveur demandant utiliserait une matrice de corrélation moyennée et pondérée par les poids de chaque dataset (si un dataset est plus grand que l'autr, il faut évidemment le prendre en compte) entre les deux matrices de corrélation.\n",
    "\n",
    "Enfait, non il faut envoyer les moyennes empiriques de chaque classe dans chaque tache (=chaque client) pour pouvoir ensuite calculer $\\mathcal{M}$, car il nous faut aussi les produits scalaires entre les moyennes des différentes tâches."
   ]
  },
  {
   "cell_type": "markdown",
   "metadata": {},
   "source": [
    "Calcul des moyennes empiriques, et calcul de la matrice $M\\in\\mathbb{R}^{p\\times 2k}$\n",
    "$$\\frac{1}{n_{tj}}X_{tj}\\mathbb{1}_{n_{tj}}=\\frac{1}{n_{tj}}\\sum_{l=1}^{n_{tj}}x_{tl}^{(j)}$$\n",
    "\n",
    "Chaque client calcule en local les moyennes empiriques des données et les envoie au serveur central.\n",
    "\n",
    "De la même façcon que précédemment les données de chaque client (=chaque tâche) devront respecter les conditions de non-trivialité."
   ]
  },
  {
   "cell_type": "code",
   "execution_count": null,
   "metadata": {},
   "outputs": [],
   "source": [
    "def average_correlation_matrix(nb_tasks, nb_classes, matrices, weights):\n",
    "    \"\"\"\n",
    "    Renvoie une matrice de corrélation moyennée et pondérée à partir des différentes matrices de corrélation en input.\n",
    "    matrices est un tableau de matrice 2x2\n",
    "    weights est un tableau avec les différents poids des datasets (i.e. n le nombre de samples dans le dataset)\n",
    "    \"\"\"\n",
    "    nb_matrices = len(matrices)\n",
    "    size = nb_classes*nb_tasks\n",
    "    averaged_M = np.zeros((size, size))\n",
    "    for i in range(size):\n",
    "        for j in range(size):\n",
    "            for idx, mat in enumerate(matrices):\n",
    "                averaged_M[i][j] += mat[i][j]\n",
    "            averaged_M[i][j] /= nb_matrices\n",
    "\n",
    "    return averaged_M"
   ]
  },
  {
   "cell_type": "code",
   "execution_count": null,
   "metadata": {},
   "outputs": [],
   "source": [
    "def create_clients(k, m):\n",
    "    \"\"\"\n",
    "    Retourne k datasets à m classes gaussiens représentant les k taches  \n",
    "    \"\"\"\n",
    "    pass"
   ]
  },
  {
   "cell_type": "code",
   "execution_count": null,
   "metadata": {},
   "outputs": [],
   "source": [
    "def central_server(emp_means, k):\n",
    "    \"\"\"\n",
    "    Retourne les taux d'erreur après utilisation des données de tous les clients\n",
    "    \"\"\"\n",
    "    pass"
   ]
  },
  {
   "cell_type": "code",
   "execution_count": null,
   "metadata": {},
   "outputs": [],
   "source": [
    "# pas fait le cas du j=j' mais j'ai pas l'impression que c'est nécessaire en tout cas pas ici ?\n",
    "# cf remark 1\n",
    "\n",
    "def empirical_mean_old(nb_tasks, nb_classes, X, p, n_t):\n",
    "    \"\"\"\n",
    "    compute empirical mean for data X\n",
    "    return an 1xp vector being the empirical mean for the random vector X_{tj}\n",
    "    retourne la matrice M\n",
    "    \"\"\"\n",
    "    M = np.empty((nb_classes*nb_tasks, p))\n",
    "    for t in range(nb_tasks):\n",
    "        for l in range(nb_classes):\n",
    "            print(X[t][l].dot(np.ones((n_t[t][l]))).shape)\n",
    "            # print(t*nb_classes+l)\n",
    "            M[t*nb_tasks+l] = X[t][l].dot(np.ones((n_t[t][l])))\n",
    "            M[t*nb_tasks+l] /= n_t[t][l]\n",
    "            #print(f\"class {t*nb_tasks+l} empirical mean = {np.mean(M[t*nb_tasks+l])}\")\n",
    "    return np.transpose(M)\n",
    "\n",
    "def empirical_mean(nb_tasks, nb_classes, X, p, n_t):\n",
    "    \"\"\"\n",
    "    Retourne la matrice M avec les produits scalaires croisés\n",
    "    cf. Remark 1\n",
    "    \"\"\"\n",
    "    M = np.empty((nb_classes*nb_tasks, p))\n",
    "    for i in range(nb_classes)\n",
    "    return M.T"
   ]
  },
  {
   "cell_type": "code",
   "execution_count": null,
   "metadata": {},
   "outputs": [],
   "source": [
    "def gather_empirical_mean(k, p, emp_means):\n",
    "    \"\"\"\n",
    "    Crée la fonction M (p*2k) avec les moyennes empiriques des différents clients\n",
    "    avec k le nombre de clients(+serveur central)\n",
    "    emp_means est un tableau de taille k qui contient toutes les moyennes empiriques (serveur compris)\n",
    "    \"\"\"\n",
    "    M = np.empty((2*k, p))\n",
    "    for idx, mean in enumerate(emp_means):\n",
    "        mean = np.reshape(mean, (100))\n",
    "        print(mean.shape)\n",
    "        M[idx] = mean\n",
    "    return M.T"
   ]
  },
  {
   "cell_type": "code",
   "execution_count": null,
   "metadata": {},
   "outputs": [],
   "source": [
    "n = 2100\n",
    "p = 100\n",
    "m = 2\n",
    "t = 1\n",
    "n_t = [[1000,1000], [50, 50]]\n",
    "# s'assurer des conditions de non trivialité entre les moyennes des différentes tâches\n",
    "M = mean_random_matrix(m, t, p, 0., 0.5)\n",
    "M1 = np.zeros((p, 1))\n",
    "M2 = np.zeros((p, 1))\n",
    "M1[-1] = 1\n",
    "M2 = -M1\n",
    "X = gaussian_synthetic_data(n, p, m, t, n_t, M)\n",
    "X_test = gaussian_synthetic_data(n, p, m, t, n_t, [M1, M2]) # ?\n",
    "#X_train, X_test, n_t_train, n_t_test = train_test_split_data(X, 0.8, t, m)\n",
    "#y = create_labels(t,m)\n",
    "# on calcule les moyennes empiriques des données locales\n",
    "M_mean = empirical_mean(t, m, X_train, p, n_t_train)\n",
    "# on crée la matrice des moyennes empiriques locales et externes\n",
    "M_gathered = gather_empirical_mean(2, p, [M[0][0], M[0][1], M1, M2])\n",
    "c = estimate_c(n_t, n, 2, m)\n",
    "Dc = np.diag(c)\n",
    "correlation_matrix = compute_M_cal(n,p,Dc,M_gathered, display=True)\n",
    "matprint(correlation_matrix)\n",
    "# on calcule les labels optimaux à partir de la matrice de corrélation issue des données locales et externes\n",
    "y = label_evaluation(2,m,Dc,correlation_matrix) \n",
    "X_train_aggregated = aggregate_array(X, p, n, t, m)\n",
    "X_test_aggregated = aggregate_array(X_test, p, n, t, m)\n",
    "\n",
    "# Le serveur central (qui peut aussi être un client) envoie maintenant la donnée x qu'il souhaite tester aux clients (a-t-il le droit d'envoyer une donnée x de la sorte ?)\n",
    "# Chaque client calcule le score à partir de x\n",
    "\n",
    "# Il faut créer les données locales de chaque clients\n",
    "# Il faut aussi avoir accès à la matrice M cursive qui reste pareil, sauf lorsque le client recoit une update du serveur central\n",
    "\n",
    "X1 = gaussian_synthetic_data(n, p, m, t, n_t[1], M1)\n",
    "J1 = create_J(m, 1, n, n_t[1])\n",
    "V1 = compute_V(y, X1, J1)\n",
    "m_t = create_mt(t, m, y, Dc, correlation_matrix)\n",
    "# On calcule le score en local\n",
    "compute_error_rate(X_test, V1, m_t, t, m, n_t_test, Dc, correlation_matrix1)\n",
    "\n",
    "# on ajoute les longueurs des données externes\n",
    "n_t_train.append(n_t[1])\n",
    "J = create_J(m, 2, n, n_t_train)\n",
    "V = compute_V(y, X_train_aggregated, J)\n",
    "m_t = create_mt(2, m, y, Dc, correlation_matrix)\n",
    "compute_error_rate(X_test, V, m_t, 2, m, n_t_test, Dc, correlation_matrix, True)"
   ]
  },
  {
   "cell_type": "markdown",
   "metadata": {},
   "source": [
    "$(1/n_{tj})\\sum_{m=1}^{n_{tj}} x^{(t)}_{jm}$"
   ]
  },
  {
   "cell_type": "code",
   "execution_count": null,
   "metadata": {},
   "outputs": [],
   "source": [
    "print(n_t_train)"
   ]
  },
  {
   "cell_type": "markdown",
   "metadata": {},
   "source": [
    "Bonjour, après notre discussion d'hier avec Malik, Malik m'a donné des pistes pour distribué l'algo.\n",
    "Dans l'idée les clients enverraient les moyennes empiriques, calculées sur leurs données en locales, au serveur central qui pourra alors calculer la matrice de corrélation M cursive et les labels optimaux \\tilde{y}. \n",
    "Le serveur central peut alors renvoyer les labels optimaux aux clients pour qu'ils puissent prendre des décisions sur de nouvelles données $x$ en local."
   ]
  },
  {
   "cell_type": "code",
   "execution_count": null,
   "metadata": {},
   "outputs": [],
   "source": []
  }
 ],
 "metadata": {
  "kernelspec": {
   "display_name": "Python 3",
   "language": "python",
   "name": "python3"
  },
  "language_info": {
   "codemirror_mode": {
    "name": "ipython",
    "version": 3
   },
   "file_extension": ".py",
   "mimetype": "text/x-python",
   "name": "python",
   "nbconvert_exporter": "python",
   "pygments_lexer": "ipython3",
   "version": "3.7.10"
  }
 },
 "nbformat": 4,
 "nbformat_minor": 2
}
