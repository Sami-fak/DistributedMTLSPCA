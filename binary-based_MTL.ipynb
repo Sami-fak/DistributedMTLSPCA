{
 "cells": [
  {
   "cell_type": "code",
   "execution_count": 55,
   "metadata": {},
   "outputs": [],
   "source": [
    "%matplotlib inline\n",
    "import numpy as np\n",
    "import matplotlib.pyplot as plt\n",
    "from sklearn.model_selection import train_test_split"
   ]
  },
  {
   "cell_type": "code",
   "execution_count": 56,
   "metadata": {},
   "outputs": [],
   "source": [
    "def matprint(mat, fmt=\"g\"):\n",
    "    \"\"\"\n",
    "    Pour une un print plus clair de la matrice\n",
    "    https://gist.github.com/braingineer/d801735dac07ff3ac4d746e1f218ab75\n",
    "    \"\"\"\n",
    "    col_maxes = [max([len((\"{:\"+fmt+\"}\").format(x)) for x in col]) for col in mat.T]\n",
    "    for x in mat:\n",
    "        for i, y in enumerate(x):\n",
    "            print((\"{:\"+str(col_maxes[i])+fmt+\"}\").format(y), end=\"  \")\n",
    "        print(\"\")"
   ]
  },
  {
   "cell_type": "markdown",
   "metadata": {},
   "source": [
    "# Table of contents\n",
    "* [Algorithme non distribué 2 taches 2 classes](#Algorithme-non-distribué-2-taches-2-classes)\n",
    "     * [1ère étape: Calcul des moyennes empiriques](#1ère-étape)\n",
    "     * [2ème étape: Estimation de $c$ et de $\\mathcal{M}$](#2ème-étape)\n",
    "     * [3ème étape: Calcul des labels optimaux](#3ème-étape)\n",
    "     * [4ème étape: Estimation des $m_{tj}$](#4ème-étape)\n",
    "     * [5ème étape: Calcul de $V$](#5ème-étape)\n",
    "     * [6ème étape: Evaluation et calcul d'erreur](#6ème-étape)\n",
    "* [2-class Gaussian mixture transfer](#2-class-Gaussian-mixture-transfer-(c.f.-Figure-2))\n",
    "* [Algorithme distribué 2-tâches 2-classes](#Algorithme-distribué-2-tâches-2-classes)\n",
    "     * [Serveur isolé](#Serveur-isolé)\n",
    "     "
   ]
  },
  {
   "cell_type": "markdown",
   "metadata": {},
   "source": [
    "Créons des données synthétiques gaussiennes. Ici nous nous intéresserons dans un premier temps au cas où $m=2$. (Binary MTL Supervised Principal Component Analysis) "
   ]
  },
  {
   "cell_type": "markdown",
   "metadata": {},
   "source": [
    "# Algorithme non distribué 2 taches 2 classes\n",
    "Fonctions pour générer des données synthétiques gaussiennes"
   ]
  },
  {
   "cell_type": "code",
   "execution_count": 57,
   "metadata": {},
   "outputs": [],
   "source": [
    "def mean_random_matrix(m, k, p, l, h, random_seed=42):\n",
    "    \"\"\"\n",
    "    Retourne une matrice M de taille pxm*k contenant\n",
    "    les moyennes de chaque composante de chaque vecteur aléatoire\n",
    "    pour l'instant les moyennes sont tirées aléatoirement \n",
    "    suivant la loi uniforme sur l, h (pas convaincu par ce choix)\n",
    "    m est le nombre de classes\n",
    "    k est le nombre de taches\n",
    "    p est le nombre de features\n",
    "    \"\"\"\n",
    "    np.random.seed(random_seed)\n",
    "    M = []\n",
    "    tmp = []\n",
    "    for task in range(k):\n",
    "        tmp = []\n",
    "        for classe in range(m):\n",
    "            # on crée un vecteur de moyennes égales pour chaque classes\n",
    "            # de sorte à créer des classes gravitant autour d'une meme moyenne\n",
    "            tmp.append(np.ones((p,1))*np.random.uniform(low = 0.0, high = h))\n",
    "        M.append(tmp)\n",
    "    return M"
   ]
  },
  {
   "cell_type": "markdown",
   "metadata": {},
   "source": [
    "Si on prend des moyennes de la même façon que dans le papier"
   ]
  },
  {
   "cell_type": "code",
   "execution_count": 58,
   "metadata": {},
   "outputs": [],
   "source": [
    "# Test\n",
    "# ici on reprend les mêmes paramètres que dans la figure 2\n",
    "n_t = [[1000,1000], [50,50]]\n",
    "n = 2200\n",
    "p = 100\n",
    "m = 2\n",
    "t = 2\n",
    "# 2 taches, 2 classes, p = 20\n",
    "#M = mean_random_matrix(m, t, p, 0., 20.)\n",
    "#print(M)\n",
    "\n",
    "# pour plusieurs taches\n",
    "# M = mean_matrix(2, 3, 10, 0., 2.)\n",
    "# print(M)"
   ]
  },
  {
   "cell_type": "code",
   "execution_count": 59,
   "metadata": {},
   "outputs": [],
   "source": [
    "beta = 0.0\n",
    "def mean_matrix(beta, p, random_seed=42):\n",
    "    \"\"\"\n",
    "    Crée des vecteurs de moyennes de la meme facon que dans la figure 2 du papier\n",
    "    \"\"\"\n",
    "    np.random.seed(random_seed)\n",
    "    #mu_1 = np.ones((p,1))*np.random.uniform(low = 0.0, high = 10.)\n",
    "    mu_1 = np.zeros((p,1))\n",
    "    mu_1[0]= 1\n",
    "    perpendicular_vector = np.zeros((p,1))\n",
    "    perpendicular_vector[-1] = 1\n",
    "    mu_2 = beta*mu_1+np.sqrt(1-beta**2)*perpendicular_vector\n",
    "    M = [[mu_1, -mu_1], [mu_2, -mu_2]]\n",
    "    return M\n",
    "M = mean_matrix(beta, p)"
   ]
  },
  {
   "cell_type": "code",
   "execution_count": 60,
   "metadata": {},
   "outputs": [],
   "source": [
    "def gaussian_synthetic_data(n, p, m, t, n_t, M, random_seed=42):\n",
    "    \"\"\"\n",
    "    Renvoie un tableau de données synthétiques gaussiennes. X[0] accède aux données de la premiere tache.\n",
    "    X[0][1] accede aux données de la deuxieme classe de la premiere tache.\n",
    "    (vecteurs gaussiens de taille n_j * p tq sum(n_j for j) = n)\n",
    "    à partir du nombre d'échantillons n de taille p et du nombre de classe m.\n",
    "    t est le nombre de tâches\n",
    "    n_t est un vecteur comprenant les différentes valeurs n_j pour chaque task\n",
    "    M est la matrice des moyennes de chaque composante \n",
    "    de chaque vecteur aléatoire\n",
    "    \"\"\"\n",
    "    # assert(sum(n_j)/n==1\n",
    "    np.random.seed(random_seed)\n",
    "    X = []\n",
    "    tmp = []\n",
    "    for task in range(t):\n",
    "        # pour une tache on a m classes\n",
    "        tmp = []\n",
    "        for k in range(m):\n",
    "            X_k = np.empty((n_t[task][k], p))\n",
    "            # on prendra la transposée a la fin\n",
    "            #print( n_t[task][k])\n",
    "            for j in range(n_t[task][k]):\n",
    "                # on crée n_j[task][k] vecteurs aléatoires de taille 1xp\n",
    "                # std = 1?\n",
    "                # comment utiliser des vecteurs de moyennes pour générer les données ?\n",
    "                mean = np.reshape(M[task][k], p)\n",
    "                X_k[j] = np.random.multivariate_normal(mean, np.identity(p))\n",
    "                # indice 0 parce que c'est toujours la meme moyenne dans M (pour l'instant ?)\n",
    "            X_k = np.transpose(X_k)\n",
    "            #print(k)\n",
    "            tmp.append(X_k)\n",
    "            # print(\"tmp = \", tmp)\n",
    "        X.append(tmp)\n",
    "            \n",
    "    return X"
   ]
  },
  {
   "cell_type": "code",
   "execution_count": 61,
   "metadata": {},
   "outputs": [],
   "source": [
    "X = gaussian_synthetic_data(n, p, m, t, n_t, M)\n",
    "#np.random.normal(M[0][0], np.identity(p), size=(1, p))\n",
    "#mean = np.reshape(M[0][0], p)"
   ]
  },
  {
   "cell_type": "code",
   "execution_count": 62,
   "metadata": {},
   "outputs": [
    {
     "data": {
      "text/plain": [
       "[array([[0.],\n",
       "        [0.],\n",
       "        [0.],\n",
       "        [0.],\n",
       "        [0.],\n",
       "        [0.],\n",
       "        [0.],\n",
       "        [0.],\n",
       "        [0.],\n",
       "        [0.],\n",
       "        [0.],\n",
       "        [0.],\n",
       "        [0.],\n",
       "        [0.],\n",
       "        [0.],\n",
       "        [0.],\n",
       "        [0.],\n",
       "        [0.],\n",
       "        [0.],\n",
       "        [0.],\n",
       "        [0.],\n",
       "        [0.],\n",
       "        [0.],\n",
       "        [0.],\n",
       "        [0.],\n",
       "        [0.],\n",
       "        [0.],\n",
       "        [0.],\n",
       "        [0.],\n",
       "        [0.],\n",
       "        [0.],\n",
       "        [0.],\n",
       "        [0.],\n",
       "        [0.],\n",
       "        [0.],\n",
       "        [0.],\n",
       "        [0.],\n",
       "        [0.],\n",
       "        [0.],\n",
       "        [0.],\n",
       "        [0.],\n",
       "        [0.],\n",
       "        [0.],\n",
       "        [0.],\n",
       "        [0.],\n",
       "        [0.],\n",
       "        [0.],\n",
       "        [0.],\n",
       "        [0.],\n",
       "        [0.],\n",
       "        [0.],\n",
       "        [0.],\n",
       "        [0.],\n",
       "        [0.],\n",
       "        [0.],\n",
       "        [0.],\n",
       "        [0.],\n",
       "        [0.],\n",
       "        [0.],\n",
       "        [0.],\n",
       "        [0.],\n",
       "        [0.],\n",
       "        [0.],\n",
       "        [0.],\n",
       "        [0.],\n",
       "        [0.],\n",
       "        [0.],\n",
       "        [0.],\n",
       "        [0.],\n",
       "        [0.],\n",
       "        [0.],\n",
       "        [0.],\n",
       "        [0.],\n",
       "        [0.],\n",
       "        [0.],\n",
       "        [0.],\n",
       "        [0.],\n",
       "        [0.],\n",
       "        [0.],\n",
       "        [0.],\n",
       "        [0.],\n",
       "        [0.],\n",
       "        [0.],\n",
       "        [0.],\n",
       "        [0.],\n",
       "        [0.],\n",
       "        [0.],\n",
       "        [0.],\n",
       "        [0.],\n",
       "        [0.],\n",
       "        [0.],\n",
       "        [0.],\n",
       "        [0.],\n",
       "        [0.],\n",
       "        [0.],\n",
       "        [0.],\n",
       "        [0.],\n",
       "        [0.],\n",
       "        [0.],\n",
       "        [1.]]),\n",
       " array([[-0.],\n",
       "        [-0.],\n",
       "        [-0.],\n",
       "        [-0.],\n",
       "        [-0.],\n",
       "        [-0.],\n",
       "        [-0.],\n",
       "        [-0.],\n",
       "        [-0.],\n",
       "        [-0.],\n",
       "        [-0.],\n",
       "        [-0.],\n",
       "        [-0.],\n",
       "        [-0.],\n",
       "        [-0.],\n",
       "        [-0.],\n",
       "        [-0.],\n",
       "        [-0.],\n",
       "        [-0.],\n",
       "        [-0.],\n",
       "        [-0.],\n",
       "        [-0.],\n",
       "        [-0.],\n",
       "        [-0.],\n",
       "        [-0.],\n",
       "        [-0.],\n",
       "        [-0.],\n",
       "        [-0.],\n",
       "        [-0.],\n",
       "        [-0.],\n",
       "        [-0.],\n",
       "        [-0.],\n",
       "        [-0.],\n",
       "        [-0.],\n",
       "        [-0.],\n",
       "        [-0.],\n",
       "        [-0.],\n",
       "        [-0.],\n",
       "        [-0.],\n",
       "        [-0.],\n",
       "        [-0.],\n",
       "        [-0.],\n",
       "        [-0.],\n",
       "        [-0.],\n",
       "        [-0.],\n",
       "        [-0.],\n",
       "        [-0.],\n",
       "        [-0.],\n",
       "        [-0.],\n",
       "        [-0.],\n",
       "        [-0.],\n",
       "        [-0.],\n",
       "        [-0.],\n",
       "        [-0.],\n",
       "        [-0.],\n",
       "        [-0.],\n",
       "        [-0.],\n",
       "        [-0.],\n",
       "        [-0.],\n",
       "        [-0.],\n",
       "        [-0.],\n",
       "        [-0.],\n",
       "        [-0.],\n",
       "        [-0.],\n",
       "        [-0.],\n",
       "        [-0.],\n",
       "        [-0.],\n",
       "        [-0.],\n",
       "        [-0.],\n",
       "        [-0.],\n",
       "        [-0.],\n",
       "        [-0.],\n",
       "        [-0.],\n",
       "        [-0.],\n",
       "        [-0.],\n",
       "        [-0.],\n",
       "        [-0.],\n",
       "        [-0.],\n",
       "        [-0.],\n",
       "        [-0.],\n",
       "        [-0.],\n",
       "        [-0.],\n",
       "        [-0.],\n",
       "        [-0.],\n",
       "        [-0.],\n",
       "        [-0.],\n",
       "        [-0.],\n",
       "        [-0.],\n",
       "        [-0.],\n",
       "        [-0.],\n",
       "        [-0.],\n",
       "        [-0.],\n",
       "        [-0.],\n",
       "        [-0.],\n",
       "        [-0.],\n",
       "        [-0.],\n",
       "        [-0.],\n",
       "        [-0.],\n",
       "        [-0.],\n",
       "        [-1.]])]"
      ]
     },
     "execution_count": 62,
     "metadata": {},
     "output_type": "execute_result"
    }
   ],
   "source": [
    "X[1][1]\n",
    "M[1]"
   ]
  },
  {
   "cell_type": "code",
   "execution_count": 63,
   "metadata": {},
   "outputs": [],
   "source": [
    "from sklearn.preprocessing import normalize\n",
    "\n",
    "def normalisation_old(X, t, m):\n",
    "    \"\"\"\n",
    "    Normalise les vecteurs de données\n",
    "    \"\"\"\n",
    "    for k in range(t):\n",
    "        for l in range(m):\n",
    "            # on normalise les colonnes\n",
    "            X[k][l] = normalize(X[k][l], axis=1)      \n",
    "    return X\n",
    "\n",
    "def normalisation(X, p):\n",
    "    for i in range(len(X)):\n",
    "        for j in range(len(X[i])):\n",
    "            X[i][j] /= np.sqrt(p)\n",
    "    \n",
    "    return X"
   ]
  },
  {
   "cell_type": "code",
   "execution_count": 64,
   "metadata": {},
   "outputs": [],
   "source": [
    "def train_test_split_data(X, split_rate, nb_tasks, nb_classes):\n",
    "    \"\"\"\n",
    "    Retourne une matrice de données de tests, et une matrice d'entrainement\n",
    "    Pas nécessaire.\n",
    "    Les données de tests, sont les données de la task target\n",
    "    \"\"\"\n",
    "    X_train = []\n",
    "    X_test = []\n",
    "    tmp_test = []\n",
    "    tmp_train = []\n",
    "    n_t_train = []\n",
    "    n_t_test = []\n",
    "    for t in range(nb_tasks):\n",
    "        tmp_test = []\n",
    "        tmp_train = []\n",
    "        tmp_nt_train = []\n",
    "        tmp_nt_test = []\n",
    "        for l in range(nb_classes):\n",
    "            decoupe = int(split_rate*X[t][l].shape[1])\n",
    "            tmp_train.append(X[t][l][:, :decoupe])\n",
    "            tmp_test.append(X[t][l][:, decoupe:])\n",
    "            tmp_nt_train.append(decoupe)\n",
    "            tmp_nt_test.append(X[t][l].shape[1]-decoupe)\n",
    "        n_t_train.append(tmp_nt_train)\n",
    "        n_t_test.append(tmp_nt_test)\n",
    "        X_train.append(tmp_train)\n",
    "        X_test.append(tmp_test)\n",
    "    return X_train, X_test, n_t_train, n_t_test"
   ]
  },
  {
   "cell_type": "code",
   "execution_count": 65,
   "metadata": {},
   "outputs": [
    {
     "data": {
      "text/plain": [
       "(100, 200)"
      ]
     },
     "execution_count": 65,
     "metadata": {},
     "output_type": "execute_result"
    }
   ],
   "source": [
    "X_train, X_test, n_t_train, n_t_test = train_test_split_data(X, 0.8, 2, 2)\n",
    "n_t_train\n",
    "X_test[0][0].shape"
   ]
  },
  {
   "cell_type": "markdown",
   "metadata": {},
   "source": [
    "Il faut aussi créer le vecteur $\\tilde{y}\\in\\mathbb{R}^{2k}$, qui contiendra les labels associées aux données."
   ]
  },
  {
   "cell_type": "code",
   "execution_count": 66,
   "metadata": {},
   "outputs": [],
   "source": [
    "def create_labels(nb_tasks, nb_classes):\n",
    "    \"\"\"\n",
    "    Crée le vecteurs y_tilde contenant les labels associés aux données.\n",
    "    Ici on le fait pour deux 2 tâches et pour deux classes.\n",
    "    \"\"\"\n",
    "    y = np.empty((nb_classes*nb_tasks))\n",
    "    for t in range(0, nb_classes*nb_tasks-1, 2):\n",
    "        y[t] = -1\n",
    "        y[t+1] = 1\n",
    "        \n",
    "    return y"
   ]
  },
  {
   "cell_type": "code",
   "execution_count": 67,
   "metadata": {},
   "outputs": [
    {
     "name": "stdout",
     "output_type": "stream",
     "text": [
      "[-1.  1. -1.  1.]\n"
     ]
    }
   ],
   "source": [
    "y = create_labels(t,m)\n",
    "print(y)"
   ]
  },
  {
   "cell_type": "markdown",
   "metadata": {},
   "source": [
    "## 1ère étape\n",
    "Calcul des moyennes empiriques, et calcul de la matrice $M\\in\\mathbb{R}^{p\\times 2k}$\n",
    "$$\\frac{1}{n_{tj}}X_{tj}\\mathbb{1}_{n_{tj}}=\\frac{1}{n_{tj}}\\sum_{l=1}^{n_{tj}}x_{tl}^{(j)}$$"
   ]
  },
  {
   "cell_type": "code",
   "execution_count": 102,
   "metadata": {},
   "outputs": [
    {
     "name": "stdout",
     "output_type": "stream",
     "text": [
      "  0.0104248  -0.0101025     0.013153  -0.00590027  \n",
      " -0.0101025   0.0101043   -0.0114212   0.00532873  \n",
      "   0.013153  -0.0114212    0.0120327  -0.00616238  \n",
      "-0.00590027  0.00532873  -0.00616238  -0.00533972  \n"
     ]
    }
   ],
   "source": [
    "# pas fait le cas du j=j' mais j'ai pas l'impression que c'est nécessaire en tout cas pas ici ?\n",
    "# cf remark 1\n",
    "\n",
    "def empirical_mean_old(nb_tasks, nb_classes, X, p, n_t):\n",
    "    \"\"\"\n",
    "    compute empirical mean for data X\n",
    "    return an 1xp vector being the empirical mean for the random vector X_{tj}\n",
    "    retourne la matrice M\n",
    "    \"\"\"\n",
    "    M = np.empty((nb_classes*nb_tasks, p))\n",
    "    for t in range(nb_tasks):\n",
    "        for l in range(nb_classes):\n",
    "            print(X[t][l].dot(np.ones((n_t[t][l]))).shape)\n",
    "            # print(t*nb_classes+l)\n",
    "            M[t*nb_tasks+l] = X[t][l].dot(np.ones((n_t[t][l])))\n",
    "            M[t*nb_tasks+l] /= n_t[t][l]\n",
    "            #print(f\"class {t*nb_tasks+l} empirical mean = {np.mean(M[t*nb_tasks+l])}\")\n",
    "    return np.transpose(M)\n",
    "\n",
    "def empirical_mean(nb_tasks, nb_classes, X, p, n_t, display=False):\n",
    "    \"\"\"\n",
    "    Retourne la matrice M avec les produits scalaires croisés\n",
    "    cf. Remark 1\n",
    "    \"\"\"\n",
    "    \n",
    "    M = np.empty((4, 4)) # ici 4x4\n",
    "    for i in range(nb_tasks):\n",
    "        for j in range(nb_classes):\n",
    "            for k in range(nb_tasks):\n",
    "                for l in range(nb_classes):\n",
    "                    if i == k and j == l:\n",
    "                        moitie = int(n_t[i][j]/2)\n",
    "                        #print(i*nb_tasks+j, i*nb_tasks+j)\n",
    "                        M[i*nb_tasks+j][i*nb_tasks+j] = 4*np.ones((moitie, 1)).T.dot(X[i][j].T[:moitie]).dot(X[i][j].T[moitie:].T).dot(np.ones((moitie)))\n",
    "                        M[i*nb_tasks+j][i*nb_tasks+j] /= n_t[i][j]**2\n",
    "                    else:\n",
    "                        #print(i*nb_tasks+j, k*nb_tasks+l)\n",
    "                        M[i*nb_tasks+j][k*nb_tasks+l] = np.ones((n_t[i][j], 1)).T.dot(X[i][j].T).dot(X[k][l]).dot(np.ones((n_t[k][l])))\n",
    "                        M[i*nb_tasks+j][k*nb_tasks+l] /= n_t[i][j]*n_t[k][l]\n",
    "    \n",
    "    if display:\n",
    "        for t in range(nb_tasks):\n",
    "            for l in range(nb_classes):\n",
    "                print(f\"class {t*nb_tasks+l} empirical mean = {np.mean(M[t*nb_tasks+l])}\")\n",
    "                \n",
    "    return M.T\n",
    "\n",
    "matprint(empirical_mean(t, m, X, p, n_t))"
   ]
  },
  {
   "cell_type": "code",
   "execution_count": 69,
   "metadata": {},
   "outputs": [],
   "source": [
    "def true_mean(M, p, nb_tasks, nb_classes):\n",
    "    \"\"\"\n",
    "    Retourne un ndarray contenant les vraies moyennes avec lequel on peut travailler\n",
    "    \"\"\"\n",
    "    true_M = np.empty((nb_tasks*nb_classes, p))\n",
    "    for t in range(nb_tasks):\n",
    "        for l in range(nb_classes):\n",
    "            mean = np.reshape(M[t][l], (100,))\n",
    "            true_M[t*nb_tasks+l] = mean\n",
    "\n",
    "    return np.transpose(true_M)"
   ]
  },
  {
   "cell_type": "code",
   "execution_count": 70,
   "metadata": {
    "scrolled": true
   },
   "outputs": [
    {
     "name": "stdout",
     "output_type": "stream",
     "text": [
      "class 0 empirical mean = 0.18937524656085686\n",
      "class 1 empirical mean = -0.1522670807477981\n",
      "class 2 empirical mean = 0.06247469391184651\n",
      "class 3 empirical mean = -0.1742626992068855\n"
     ]
    }
   ],
   "source": [
    "M_mean = empirical_mean(t, m, X, p, n_t)\n",
    "#print(M_mean.shape)\n",
    "#matprint(M_mean)\n",
    "#print(np.transpose(M_mean).dot(M_mean))\n",
    "#print(M[1][0].shape)"
   ]
  },
  {
   "cell_type": "code",
   "execution_count": 71,
   "metadata": {},
   "outputs": [],
   "source": [
    "# utile pour les puissances négatives\n",
    "def power_diagonal_matrix(D, exponent):\n",
    "    diag = np.zeros(len(D))\n",
    "    for i in range(len(D)):\n",
    "        diag[i] = D[i][i]**exponent\n",
    "    \n",
    "    return np.diag(diag)"
   ]
  },
  {
   "cell_type": "markdown",
   "metadata": {},
   "source": [
    "## 2ème étape\n",
    "Estimer $c$ et $\\mathcal{M}\\in\\mathbb{R}^{2k\\times 2k}$. \n",
    "$c=\\left[ c_{11},\\ldots,c_{km} \\right]^T\\in\\mathbb{R}^{km}$"
   ]
  },
  {
   "cell_type": "code",
   "execution_count": 72,
   "metadata": {},
   "outputs": [],
   "source": [
    "def estimate_c(n_t, n, nb_tasks, nb_classes):\n",
    "    c = np.empty(nb_tasks*nb_classes)\n",
    "    for task in range(nb_tasks):\n",
    "        for m in range(nb_classes):\n",
    "            c[task*nb_tasks+m]=n_t[task][m]/n\n",
    "            \n",
    "    return c"
   ]
  },
  {
   "cell_type": "code",
   "execution_count": 73,
   "metadata": {},
   "outputs": [
    {
     "name": "stdout",
     "output_type": "stream",
     "text": [
      "c = [0.45454545 0.45454545 0.02272727 0.02272727]T\n"
     ]
    },
    {
     "data": {
      "text/plain": [
       "array([[0.45454545, 0.        , 0.        , 0.        ],\n",
       "       [0.        , 0.45454545, 0.        , 0.        ],\n",
       "       [0.        , 0.        , 0.02272727, 0.        ],\n",
       "       [0.        , 0.        , 0.        , 0.02272727]])"
      ]
     },
     "execution_count": 73,
     "metadata": {},
     "output_type": "execute_result"
    }
   ],
   "source": [
    "c = estimate_c(n_t, n, t, m)\n",
    "print(f\"c = {c}T\")\n",
    "Dc = np.diag(c)\n",
    "Dc"
   ]
  },
  {
   "cell_type": "code",
   "execution_count": 74,
   "metadata": {},
   "outputs": [],
   "source": [
    "def compute_M_cal(n,p,Dc,M, display=False):\n",
    "    \"\"\"\n",
    "    renvoie la matrice M cursive estimée\n",
    "    \"\"\"\n",
    "    c0 = 2*p/n\n",
    "    correlation_matrix = 1/c0*np.power(Dc, 1/2).dot(np.transpose(M)).dot(M).dot(np.power(Dc, 1/2))\n",
    "    if display==True:\n",
    "        plt.imshow(correlation_matrix)\n",
    "        plt.show()\n",
    "    return correlation_matrix"
   ]
  },
  {
   "cell_type": "code",
   "execution_count": 75,
   "metadata": {},
   "outputs": [
    {
     "data": {
      "image/png": "[encoded data removed]",
      "text/plain": [
       "<Figure size 432x288 with 1 Axes>"
      ]
     },
     "metadata": {
      "needs_background": "light"
     },
     "output_type": "display_data"
    },
    {
     "name": "stdout",
     "output_type": "stream",
     "text": [
      " 11.8995   -11.5645   0.457265   0.784267  \n",
      "-11.5645    11.3061  -0.318514  -0.876893  \n",
      "0.457265  -0.318514   0.410643  -0.160629  \n",
      "0.784267  -0.876893  -0.160629   0.259431  \n"
     ]
    }
   ],
   "source": [
    "correlation_matrix = compute_M_cal(n,p,Dc,M_mean, True)\n",
    "matprint(correlation_matrix)"
   ]
  },
  {
   "cell_type": "markdown",
   "metadata": {},
   "source": [
    "## 3ème étape\n",
    "Let's compute optimal labels"
   ]
  },
  {
   "cell_type": "code",
   "execution_count": 76,
   "metadata": {},
   "outputs": [],
   "source": [
    "# a revoir ?\n",
    "\n",
    "def label_evaluation(nb_tasks, nb_classes, Dc, M_estimated):\n",
    "    \"\"\"\n",
    "    Evalue le label y pour une tache t pour 2 classes\n",
    "    \"\"\"\n",
    "    inverse = np.linalg.inv(M_estimated+np.identity(nb_classes*nb_tasks))\n",
    "    power_dc = power_diagonal_matrix(Dc, -1/2)\n",
    "    et1_et2 = np.zeros((nb_tasks*nb_classes,1))\n",
    "    y = np.zeros((nb_tasks*nb_classes, 1))\n",
    "    e3_e4 = np.zeros((nb_tasks*nb_classes,1))\n",
    "    e3_e4[-2] = 1\n",
    "    e3_e4[-1] = -1\n",
    "#     for t in range(nb_tasks):\n",
    "#         et1_et2 = np.zeros((nb_tasks*nb_classes,1))\n",
    "#         for l in range(nb_classes):\n",
    "#             #print(t*nb_tasks+l)\n",
    "#             et1_et2[t*nb_tasks+l] = 1 if l == 0 else -1\n",
    "#         #print(et1_et2)\n",
    "#         y[t*nb_tasks] = (power_dc.dot(inverse).dot(M_estimated).dot(power_dc).dot(et1_et2))[t*nb_tasks]\n",
    "#         y[t*nb_tasks+1] = (power_dc.dot(inverse).dot(M_estimated).dot(power_dc).dot(et1_et2))[t*nb_tasks+1]\n",
    "    y[-2] += (power_dc.dot(inverse).dot(M_estimated).dot(power_dc).dot(e3_e4))[-2]\n",
    "    y[-1] += (power_dc.dot(inverse).dot(M_estimated).dot(power_dc).dot(e3_e4))[-1]\n",
    "    return y\n",
    "#malik's formula:\n",
    "#tilde_y=(diag(c)*MM*diag(c)/co+diag(c))\\((e3-e4)'*MM*diag(c))';\n",
    "#\\ : pour résoudre un systeme A\\B => x solution de Ax=B"
   ]
  },
  {
   "cell_type": "code",
   "execution_count": 77,
   "metadata": {},
   "outputs": [
    {
     "name": "stdout",
     "output_type": "stream",
     "text": [
      "optimal labels for a 2-task 2-class example with synthetic gaussian data : \n",
      "       0  \n",
      "       0  \n",
      " 16.5816  \n",
      "-11.3471  \n"
     ]
    },
    {
     "data": {
      "text/plain": [
       "(4, 1)"
      ]
     },
     "execution_count": 77,
     "metadata": {},
     "output_type": "execute_result"
    }
   ],
   "source": [
    "y = label_evaluation(t,m,Dc,correlation_matrix)\n",
    "print(\"optimal labels for a 2-task 2-class example with synthetic gaussian data : \")\n",
    "matprint(y)\n",
    "y.shape"
   ]
  },
  {
   "cell_type": "markdown",
   "metadata": {},
   "source": [
    "## 4ème étape\n",
    "Estimation des $m_{tj}$, étant les $k\\times m$ moyennes estimées pour modéliser nos données."
   ]
  },
  {
   "cell_type": "code",
   "execution_count": 78,
   "metadata": {},
   "outputs": [],
   "source": [
    "def asymptotic_mean(nb_tasks, nb_classes, y_tilde, Dc, correlation_matrix, t, j):\n",
    "    \"\"\"\n",
    "    compute asymptotic mean m_tj\n",
    "    t current task\n",
    "    j current class\n",
    "    \"\"\"\n",
    "    y_transpose = np.transpose(y_tilde)\n",
    "    etj = np.zeros((nb_tasks*nb_classes, 1))\n",
    "    etj[t*nb_tasks+j] = 1\n",
    "    power_dc = power_diagonal_matrix(Dc, -1/2)\n",
    "    # Dc^1/2 ou Dc^{-1/2} ?\n",
    "    m_tj = y_transpose.dot(np.power(Dc, 1/2)).dot(correlation_matrix).dot(power_dc).dot(etj)\n",
    "    m_tj /= np.sqrt(y_transpose.dot(np.power(Dc, 1/2).dot(correlation_matrix).dot(np.power(Dc, 1/2)) + Dc).dot(y_tilde))\n",
    "    return m_tj[0][0]"
   ]
  },
  {
   "cell_type": "code",
   "execution_count": 79,
   "metadata": {},
   "outputs": [
    {
     "name": "stdout",
     "output_type": "stream",
     "text": [
      "m_kl = -0.07906060220389861\n",
      "m_kl = 0.28027215526770616\n",
      "m_kl = 2.3173865133091063\n",
      "m_kl = -1.5053904217489484\n"
     ]
    }
   ],
   "source": [
    "for k in range(t):\n",
    "    for l in range(m):\n",
    "        print(f\"m_kl = {asymptotic_mean(t, m, y, Dc, correlation_matrix, k, l)}\")"
   ]
  },
  {
   "cell_type": "markdown",
   "metadata": {},
   "source": [
    "## 5ème étape\n",
    "Calcul de $V$ le sous-espace engendrés par les $\\tau$ plus grands vecteurs propres. Dans le cas du binary MTL-SPCA, $V=\\frac{Xy}{\\lVert Xy \\rVert}=\\frac{XJ\\tilde{y}}{\\lVert XJ\\tilde{y} \\rVert}\\in\\mathbb{R}^{p\\times1}$, avec $J\\in\\mathbb{R}^{n\\times km}$"
   ]
  },
  {
   "cell_type": "code",
   "execution_count": 80,
   "metadata": {},
   "outputs": [],
   "source": [
    "def aggregate_array(X, p, n, nb_tasks, nb_classes):\n",
    "    X_aggregated = np.empty((p, n))\n",
    "    class_1 = X[0][0]\n",
    "    for t in range(nb_tasks):\n",
    "        for l in range(nb_classes):\n",
    "            if t==0 and l==0:\n",
    "                continue\n",
    "            class_1 = np.append(class_1, X[t][l], 1)\n",
    "    X_aggregated = class_1\n",
    "    return X_aggregated"
   ]
  },
  {
   "cell_type": "code",
   "execution_count": 81,
   "metadata": {},
   "outputs": [],
   "source": [
    "X_train_aggregated = aggregate_array(X, p, n, t, m)\n",
    "X_test_aggregated = aggregate_array(X_test, p, n, 1, m)\n"
   ]
  },
  {
   "cell_type": "code",
   "execution_count": 82,
   "metadata": {},
   "outputs": [],
   "source": [
    "# verification \n",
    "# ca semble bon\n",
    "\n",
    "# print(X_test_aggregated[0:2])\n",
    "# print(X_test[0][0][0][0:5])\n",
    "# print(X_test[0][1][0][-2])"
   ]
  },
  {
   "cell_type": "markdown",
   "metadata": {},
   "source": [
    "$V=\\frac{Xy}{\\lVert Xy \\rVert}=\\frac{XJ\\tilde{y}}{\\lVert XJ\\tilde{y} \\rVert}$"
   ]
  },
  {
   "cell_type": "code",
   "execution_count": 83,
   "metadata": {},
   "outputs": [],
   "source": [
    "def create_J(nb_classes, nb_tasks, n, n_t):\n",
    "    # enlever paramètre n\n",
    "    left = 0\n",
    "    beg = 0\n",
    "    for i in range(nb_tasks):\n",
    "        left += int(sum(n_t[i]))\n",
    "    J = np.zeros((left, nb_tasks*nb_classes))\n",
    "    #matprint(J)\n",
    "    for t in range(nb_tasks):\n",
    "        for j in range(nb_classes):\n",
    "            for i in range(beg, beg+n_t[t][j]):\n",
    "                J[i][t*nb_tasks+j] = 1\n",
    "            beg += n_t[t][j]\n",
    "    return J"
   ]
  },
  {
   "cell_type": "code",
   "execution_count": 84,
   "metadata": {},
   "outputs": [],
   "source": [
    "def compute_V_old(y_tilde, X, J):\n",
    "    \"\"\"\n",
    "    Utilise la formule explicite de V pour la classification binaire\n",
    "    \"\"\"\n",
    "    xy_product = X.dot(J).dot(y_tilde)\n",
    "    return xy_product/np.linalg.norm(xy_product)\n",
    "\n",
    "def compute_V(y, X, J, n):\n",
    "    \"\"\"\n",
    "    Recalcule V (calcul vecteur propre)\n",
    "    Vstar dans le fichier matlab\n",
    "    Division par p, si les X pas normalisé ?\n",
    "    wtf is wrong with V? \n",
    "    \"\"\"\n",
    "    #X*J*(tilde_y*tilde_y')*J'*X'/n\n",
    "    #print(X.shape)\n",
    "    eigenvalue, V = np.linalg.eig(X.dot(J).dot((y).dot(y.T)).dot(J.T).dot(X.T)/(n))\n",
    "    maximum = eigenvalue[0]\n",
    "    idx_larg = 0\n",
    "    # retrieve the index of the largest eigenvalue\n",
    "    for idx, value in enumerate(eigenvalue):\n",
    "        if value > maximum:\n",
    "            maximum = value\n",
    "            idx_larg = idx\n",
    "    \n",
    "    largest_eigenvalue = np.sort(eigenvalue.real)[-1]\n",
    "    #print(largest_eigenvalue)\n",
    "    #print(maximum)\n",
    "    return V.T[idx_larg].real"
   ]
  },
  {
   "cell_type": "code",
   "execution_count": 85,
   "metadata": {},
   "outputs": [
    {
     "data": {
      "text/plain": [
       "array([[-0.01055125],\n",
       "       [-0.0068712 ],\n",
       "       [-0.08895414]])"
      ]
     },
     "execution_count": 85,
     "metadata": {},
     "output_type": "execute_result"
    }
   ],
   "source": [
    "J = create_J(m, t, n, n_t)\n",
    "#matprint(J)\n",
    "# revoir J\n",
    "#x = np.random.normal(0, 1, size=(p,1))\n",
    "#compute_score(y, J, X, x)\n",
    "compute_V_old(y, X_train_aggregated, J)[0:3]"
   ]
  },
  {
   "cell_type": "code",
   "execution_count": 86,
   "metadata": {
    "scrolled": true
   },
   "outputs": [
    {
     "name": "stdout",
     "output_type": "stream",
     "text": [
      "[-0.01055125 -0.0068712  -0.08895414]\n"
     ]
    }
   ],
   "source": [
    "V = compute_V(y, X_train_aggregated, J, n)\n",
    "V.shape\n",
    "print(V[0:3])"
   ]
  },
  {
   "cell_type": "markdown",
   "metadata": {},
   "source": [
    "## 6ème étape\n",
    "Evaluation de nouvelles données $\\mathbf{x}$ : \n",
    "$V^T\\mathbf{x}$\n",
    "\n",
    "On utilise les données du test set $X\\_test$. On obtient de très mauvais résultats"
   ]
  },
  {
   "cell_type": "code",
   "execution_count": 87,
   "metadata": {},
   "outputs": [],
   "source": [
    "def create_mt(t, m, y, Dc, correlation_matrix):\n",
    "    m_t = []\n",
    "    for k in range(t):\n",
    "        m_tj = []\n",
    "        for l in range(m):\n",
    "            m_tj.append(asymptotic_mean(t, m, y, Dc, correlation_matrix, k, l))\n",
    "        m_t.append(m_tj)\n",
    "\n",
    "    return m_t"
   ]
  },
  {
   "cell_type": "code",
   "execution_count": 88,
   "metadata": {},
   "outputs": [
    {
     "name": "stdout",
     "output_type": "stream",
     "text": [
      "[[-0.07906060220389861, 0.28027215526770616], [2.3173865133091063, -1.5053904217489484]]\n"
     ]
    }
   ],
   "source": [
    "m_t = create_mt(t, m, y, Dc, correlation_matrix)\n",
    "print(m_t)"
   ]
  },
  {
   "cell_type": "code",
   "execution_count": 89,
   "metadata": {},
   "outputs": [],
   "source": [
    "def compute_score(V, x, m_t):\n",
    "    \"\"\"\n",
    "    x vecteur aléatoire que l'on veut classifier\n",
    "    On compare V^Tx à la moyenne des moyennes estimées pour les deux classes de la tache t\n",
    "    \"\"\"\n",
    "    x_projection = np.transpose(V).dot(x)\n",
    "    average_mean = 1/2*(m_t[0] + m_t[1])\n",
    "    return (1 if x_projection > 0 else -1) "
   ]
  },
  {
   "cell_type": "code",
   "execution_count": 90,
   "metadata": {},
   "outputs": [],
   "source": [
    "from scipy import special as sp\n",
    "def qfunc(x):\n",
    "    return 0.5-0.5*sp.erf(x/np.sqrt(2))"
   ]
  },
  {
   "cell_type": "code",
   "execution_count": 91,
   "metadata": {},
   "outputs": [],
   "source": [
    "def error_rate(m_t,nb_tasks, nb_classes, Dc, M_cur, c0):\n",
    "    #return qfunc(1/2*(m_t[0] - m_t[1]))\n",
    "    #quelle fonction prendre ?\n",
    "    et1_et2 = np.zeros((2*nb_classes, 1))\n",
    "    # seulement besoin de e3 et e4 étant donné que l'on teste les données de la task target\n",
    "    et1_et2[2] = 1\n",
    "    et1_et2[3] = -1\n",
    "    e3 = np.zeros((2*nb_classes, 1))\n",
    "    e3[2] = 1\n",
    "    power_dc = power_diagonal_matrix(Dc, -1/2)\n",
    "    inv = np.linalg.inv(M_cur+np.identity(2*2))\n",
    "    et_trans = np.transpose(et1_et2)\n",
    "    print(\"inverse : \", Dc.dot(M_cur).dot(Dc))\n",
    "    print(\"c0Dc  : \", c0*Dc)\n",
    "    print(\"arg q-func : \")\n",
    "    print(e3.T.dot(M_cur).dot(Dc).dot(np.linalg.inv(Dc.dot(M_cur).dot(Dc)+c0*Dc)).dot(Dc).dot(M_cur).dot(e3))\n",
    "    return qfunc(np.sqrt(e3.T.dot(M_cur).dot(Dc).dot(np.linalg.inv(Dc.dot(M_cur).dot(Dc)+c0*Dc)).dot(Dc).dot(M_cur).dot(e3)))\n",
    "    #return qfunc(1/2*np.sqrt(et_trans.dot(power_dc).dot(M_cur).dot(inv).dot(M_cur).dot(power_dc).dot(et1_et2)))\n",
    "#erfc(sqrt(e3'*MM*diag(c)*inv((diag(c)*MM*diag(c)+diag(co*c/k)))*diag(c)*MM*e3)/(sqrt(2)))/2;"
   ]
  },
  {
   "cell_type": "code",
   "execution_count": 92,
   "metadata": {},
   "outputs": [],
   "source": [
    "def plot_error_rate(nb_tasks, nb_classes, emp_rate, error_rate, m_t, Dc, M_cur):\n",
    "    plt.scatter(1, emp_rate, label=\"empirical error\")\n",
    "    plt.scatter(1, [error_rate(m_t[1], nb_tasks, nb_classes, Dc, M_cur)], label=\"theoritical error\")\n",
    "    plt.grid()\n",
    "    plt.ylim((0,1))\n",
    "    plt.xlim((-0.5, 0.5))\n",
    "    plt.legend()\n",
    "    plt.title(f\"Classification error rate per task\")\n",
    "    plt.show()"
   ]
  },
  {
   "cell_type": "code",
   "execution_count": 93,
   "metadata": {},
   "outputs": [],
   "source": [
    "def compute_error_rate(X_test, V, m_t, nb_tasks, nb_classes, n_t, Dc, M_cur, c0, display = False):\n",
    "    \"\"\"\n",
    "    Compute and plot classification error rate on test set\n",
    "    \"\"\"\n",
    "    #print(\"n dans fonction: \", n)\n",
    "    emp_rate = []\n",
    "    error = 0\n",
    "    ni = 0\n",
    "    for t in range(nb_tasks):\n",
    "        error = 0\n",
    "        ni = sum(n_t[t])\n",
    "        for l in range(nb_classes):\n",
    "            for i in range(n_t[t][l]):\n",
    "                # on prend la transposée pour pouvoir travailler avec les colonnes\n",
    "                score = compute_score(V, np.transpose(X_test[t][l])[i], m_t[1])\n",
    "                if (score == 1 and l == 1):\n",
    "                    error +=1\n",
    "                elif (score == -1 and l == 0):\n",
    "                    error +=1\n",
    "        \n",
    "        erreur_emp = error/ni\n",
    "        \n",
    "        if erreur_emp > 0.5:\n",
    "            erreur_emp=1-erreur_emp\n",
    "        emp_rate.append(erreur_emp)\n",
    "       \n",
    "    if display:\n",
    "        plot_error_rate(nb_tasks, nb_classes, emp_rate, error_rate, m_t, Dc, M_cur)\n",
    "    \n",
    "    return np.mean(emp_rate), error_rate(m_t[1], nb_tasks, nb_classes,  Dc, M_cur, c0)[0][0]"
   ]
  },
  {
   "cell_type": "code",
   "execution_count": 94,
   "metadata": {},
   "outputs": [
    {
     "name": "stdout",
     "output_type": "stream",
     "text": [
      "inverse :  [[ 2.45857840e+00 -2.38935892e+00  4.72381022e-03  8.10193173e-03]\n",
      " [-2.38935892e+00  2.33597479e+00 -3.29043862e-03 -9.05881493e-03]\n",
      " [ 4.72381022e-03 -3.29043862e-03  2.12109152e-04 -8.29696041e-05]\n",
      " [ 8.10193173e-03 -9.05881493e-03 -8.29696041e-05  1.34003520e-04]]\n",
      "c0Dc  :  [[0.02066116 0.         0.         0.        ]\n",
      " [0.         0.02066116 0.         0.        ]\n",
      " [0.         0.         0.00103306 0.        ]\n",
      " [0.         0.         0.         0.00103306]]\n",
      "arg q-func : \n",
      "[[0.1290925]]\n"
     ]
    },
    {
     "data": {
      "text/plain": [
       "(0.34750000000000003, 0.35968741163399487)"
      ]
     },
     "execution_count": 94,
     "metadata": {},
     "output_type": "execute_result"
    }
   ],
   "source": [
    "compute_error_rate(X_test, V, m_t, t, m, n_t_test, Dc, correlation_matrix, p/n)"
   ]
  },
  {
   "cell_type": "code",
   "execution_count": 96,
   "metadata": {},
   "outputs": [
    {
     "name": "stdout",
     "output_type": "stream",
     "text": [
      "inverse :  [[ 4.91715679e-01 -4.77871784e-01  4.22510431e-03  7.24658804e-03]\n",
      " [-4.77871784e-01  4.67194959e-01 -2.94305778e-03 -8.10245039e-03]\n",
      " [ 4.22510431e-03 -2.94305778e-03  8.48436609e-04 -3.31878417e-04]\n",
      " [ 7.24658804e-03 -8.10245039e-03 -3.31878417e-04  5.36014079e-04]]\n",
      "c0Dc  :  [[0.02066116 0.         0.         0.        ]\n",
      " [0.         0.02066116 0.         0.        ]\n",
      " [0.         0.         0.00103306 0.        ]\n",
      " [0.         0.         0.         0.00103306]]\n",
      "arg q-func : \n",
      "[[0.83540619]]\n"
     ]
    },
    {
     "data": {
      "text/plain": [
       "array([[0.18035696]])"
      ]
     },
     "execution_count": 96,
     "metadata": {},
     "output_type": "execute_result"
    }
   ],
   "source": [
    "error_rate(m_t[1], t, m, Dc, np.transpose(M_mean).dot(M_mean), p/n)"
   ]
  },
  {
   "cell_type": "code",
   "execution_count": 97,
   "metadata": {},
   "outputs": [],
   "source": [
    "def debug_histogram(V, X_test, n_t):\n",
    "    \"\"\"\n",
    "    Trace l'histogramme de V^T*x_1 et V^T*x_2.\n",
    "    \"\"\"\n",
    "#     print(X1[0][0])\n",
    "#     print(n_t[0][0])\n",
    "    alpha = 0.5\n",
    "    bins = 20\n",
    "    plt.hist(V.T.dot(X_test.T[:n_t[0][0]].T), bins = bins, alpha=alpha, label=r\"$C_1$\")\n",
    "    plt.hist(V.T.dot(X_test.T[n_t[0][0]:].T), bins = bins, alpha=alpha, label=r\"$C_2$\")\n",
    "    plt.title(r\"Histogramme des données de tests projetées sur $V$ : $V^Tx_j$\")\n",
    "    plt.legend()\n",
    "    plt.show()"
   ]
  },
  {
   "cell_type": "code",
   "execution_count": 98,
   "metadata": {},
   "outputs": [
    {
     "data": {
      "image/png": "[encoded data removed]",
      "text/plain": [
       "<Figure size 432x288 with 1 Axes>"
      ]
     },
     "metadata": {
      "needs_background": "light"
     },
     "output_type": "display_data"
    }
   ],
   "source": [
    "debug_histogram(V, X_test_aggregated, n_t_test)"
   ]
  },
  {
   "cell_type": "markdown",
   "metadata": {},
   "source": [
    "# 2-class Gaussian mixture transfer (c.f. Figure 2)"
   ]
  },
  {
   "cell_type": "code",
   "execution_count": 101,
   "metadata": {},
   "outputs": [
    {
     "name": "stdout",
     "output_type": "stream",
     "text": [
      "class 0 empirical mean = 0.19249338591143622\n",
      "class 1 empirical mean = -0.15542887590148635\n",
      "class 2 empirical mean = 0.09245862478165584\n",
      "class 3 empirical mean = -0.15887804909490447\n",
      "MTM : \n",
      "[[ 2.51841682 -2.34649656  0.56877761  0.6344133 ]\n",
      " [-2.34649656  2.19735631 -0.35223124 -0.72907916]\n",
      " [ 0.56877761 -0.35223124  3.63314925 -2.19547195]\n",
      " [ 0.6344133  -0.72907916 -2.19547195  2.01129639]]\n",
      "c =  [0.47619048 0.47619048 0.02380952 0.02380952]\n",
      "Correlation Matrix : \n",
      " 12.5921   -11.7325   0.635913   0.709296  \n",
      "-11.7325    10.9868  -0.393807  -0.815135  \n",
      "0.635913  -0.393807   0.908287  -0.548868  \n",
      "0.709296  -0.815135  -0.548868   0.502824  \n",
      "y = \n",
      "      0  \n",
      "      0  \n",
      "26.4567  \n",
      "-18.992  \n"
     ]
    },
    {
     "data": {
      "image/png": "[encoded data removed]",
      "text/plain": [
       "<Figure size 432x288 with 1 Axes>"
      ]
     },
     "metadata": {
      "needs_background": "light"
     },
     "output_type": "display_data"
    },
    {
     "name": "stdout",
     "output_type": "stream",
     "text": [
      "m_t =  [[0.09858827907021545, 0.14883511477625705], [4.530264391130005, -3.1649789619179556]]\n",
      "inverse :  [[ 0.57106957 -0.53208539  0.00644873  0.00719289]\n",
      " [-0.53208539  0.49826674 -0.00399355 -0.0082662 ]\n",
      " [ 0.00644873 -0.00399355  0.00205961 -0.0012446 ]\n",
      " [ 0.00719289 -0.0082662  -0.0012446   0.00114019]]\n",
      "c0Dc  :  [[0.02267574 0.         0.         0.        ]\n",
      " [0.         0.02267574 0.         0.        ]\n",
      " [0.         0.         0.00113379 0.        ]\n",
      " [0.         0.         0.         0.00113379]]\n",
      "arg q-func : \n",
      "[[2.61380559]]\n",
      "inverse :  [[ 0.22675737 -0.22675737  0.          0.        ]\n",
      " [-0.22675737  0.22675737  0.          0.        ]\n",
      " [ 0.          0.          0.00056689 -0.00056689]\n",
      " [ 0.          0.         -0.00056689  0.00056689]]\n",
      "c0Dc  :  [[0.02267574 0.         0.         0.        ]\n",
      " [0.         0.02267574 0.         0.        ]\n",
      " [0.         0.         0.00113379 0.        ]\n",
      " [0.         0.         0.         0.00113379]]\n",
      "arg q-func : \n",
      "[[0.5]]\n",
      "[0.231] [0.23975006109347674]\n",
      "class 0 empirical mean = 0.19249338591143622\n",
      "class 1 empirical mean = -0.15542887590148635\n",
      "class 2 empirical mean = 0.09245862478165584\n",
      "class 3 empirical mean = -0.15887804909490447\n",
      "MTM : \n",
      "[[ 2.51841682 -2.34649656  0.56877761  0.6344133 ]\n",
      " [-2.34649656  2.19735631 -0.35223124 -0.72907916]\n",
      " [ 0.56877761 -0.35223124  3.63314925 -2.19547195]\n",
      " [ 0.6344133  -0.72907916 -2.19547195  2.01129639]]\n",
      "c =  [0.47619048 0.47619048 0.02380952 0.02380952]\n",
      "Correlation Matrix : \n",
      " 12.5921   -11.7325   0.635913   0.709296  \n",
      "-11.7325    10.9868  -0.393807  -0.815135  \n",
      "0.635913  -0.393807   0.908287  -0.548868  \n",
      "0.709296  -0.815135  -0.548868   0.502824  \n",
      "y = \n",
      "      0  \n",
      "      0  \n",
      "26.4567  \n",
      "-18.992  \n"
     ]
    },
    {
     "data": {
      "image/png": "[encoded data removed]",
      "text/plain": [
       "<Figure size 432x288 with 1 Axes>"
      ]
     },
     "metadata": {
      "needs_background": "light"
     },
     "output_type": "display_data"
    },
    {
     "name": "stdout",
     "output_type": "stream",
     "text": [
      "m_t =  [[0.09858827907021545, 0.14883511477625705], [4.530264391130005, -3.1649789619179556]]\n",
      "inverse :  [[ 0.57106957 -0.53208539  0.00644873  0.00719289]\n",
      " [-0.53208539  0.49826674 -0.00399355 -0.0082662 ]\n",
      " [ 0.00644873 -0.00399355  0.00205961 -0.0012446 ]\n",
      " [ 0.00719289 -0.0082662  -0.0012446   0.00114019]]\n",
      "c0Dc  :  [[0.02267574 0.         0.         0.        ]\n",
      " [0.         0.02267574 0.         0.        ]\n",
      " [0.         0.         0.00113379 0.        ]\n",
      " [0.         0.         0.         0.00113379]]\n",
      "arg q-func : \n",
      "[[2.61380559]]\n",
      "inverse :  [[ 0.22675737 -0.22675737  0.00113379 -0.00113379]\n",
      " [-0.22675737  0.22675737 -0.00113379  0.00113379]\n",
      " [ 0.00113379 -0.00113379  0.00056689 -0.00056689]\n",
      " [-0.00113379  0.00113379 -0.00056689  0.00056689]]\n",
      "c0Dc  :  [[0.02267574 0.         0.         0.        ]\n",
      " [0.         0.02267574 0.         0.        ]\n",
      " [0.         0.         0.00113379 0.        ]\n",
      " [0.         0.         0.         0.00113379]]\n",
      "arg q-func : \n",
      "[[0.50239234]]\n",
      "[0.231, 0.235] [0.23975006109347674, 0.23922541434207162]\n",
      "class 0 empirical mean = 0.19249338591143622\n",
      "class 1 empirical mean = -0.15542887590148635\n",
      "class 2 empirical mean = 0.09245862478165584\n",
      "class 3 empirical mean = -0.15887804909490447\n",
      "MTM : \n",
      "[[ 2.51841682 -2.34649656  0.56877761  0.6344133 ]\n",
      " [-2.34649656  2.19735631 -0.35223124 -0.72907916]\n",
      " [ 0.56877761 -0.35223124  3.63314925 -2.19547195]\n",
      " [ 0.6344133  -0.72907916 -2.19547195  2.01129639]]\n",
      "c =  [0.47619048 0.47619048 0.02380952 0.02380952]\n",
      "Correlation Matrix : \n",
      " 12.5921   -11.7325   0.635913   0.709296  \n",
      "-11.7325    10.9868  -0.393807  -0.815135  \n",
      "0.635913  -0.393807   0.908287  -0.548868  \n",
      "0.709296  -0.815135  -0.548868   0.502824  \n",
      "y = \n",
      "      0  \n",
      "      0  \n",
      "26.4567  \n",
      "-18.992  \n"
     ]
    },
    {
     "data": {
      "image/png": "[encoded data removed]",
      "text/plain": [
       "<Figure size 432x288 with 1 Axes>"
      ]
     },
     "metadata": {
      "needs_background": "light"
     },
     "output_type": "display_data"
    },
    {
     "name": "stdout",
     "output_type": "stream",
     "text": [
      "m_t =  [[0.09858827907021545, 0.14883511477625705], [4.530264391130005, -3.1649789619179556]]\n",
      "inverse :  [[ 0.57106957 -0.53208539  0.00644873  0.00719289]\n",
      " [-0.53208539  0.49826674 -0.00399355 -0.0082662 ]\n",
      " [ 0.00644873 -0.00399355  0.00205961 -0.0012446 ]\n",
      " [ 0.00719289 -0.0082662  -0.0012446   0.00114019]]\n",
      "c0Dc  :  [[0.02267574 0.         0.         0.        ]\n",
      " [0.         0.02267574 0.         0.        ]\n",
      " [0.         0.         0.00113379 0.        ]\n",
      " [0.         0.         0.         0.00113379]]\n",
      "arg q-func : \n",
      "[[2.61380559]]\n",
      "inverse :  [[ 0.22675737 -0.22675737  0.00226757 -0.00226757]\n",
      " [-0.22675737  0.22675737 -0.00226757  0.00226757]\n",
      " [ 0.00226757 -0.00226757  0.00056689 -0.00056689]\n",
      " [-0.00226757  0.00226757 -0.00056689  0.00056689]]\n",
      "c0Dc  :  [[0.02267574 0.         0.         0.        ]\n",
      " [0.         0.02267574 0.         0.        ]\n",
      " [0.         0.         0.00113379 0.        ]\n",
      " [0.         0.         0.         0.00113379]]\n",
      "arg q-func : \n",
      "[[0.50970874]]\n",
      "[0.231, 0.235, 0.2315] [0.23975006109347674, 0.23922541434207162, 0.2376324842081241]\n",
      "class 0 empirical mean = 0.19249338591143622\n",
      "class 1 empirical mean = -0.15542887590148635\n",
      "class 2 empirical mean = 0.09245862478165584\n",
      "class 3 empirical mean = -0.15887804909490447\n",
      "MTM : \n",
      "[[ 2.51841682 -2.34649656  0.56877761  0.6344133 ]\n",
      " [-2.34649656  2.19735631 -0.35223124 -0.72907916]\n",
      " [ 0.56877761 -0.35223124  3.63314925 -2.19547195]\n",
      " [ 0.6344133  -0.72907916 -2.19547195  2.01129639]]\n",
      "c =  [0.47619048 0.47619048 0.02380952 0.02380952]\n",
      "Correlation Matrix : \n",
      " 12.5921   -11.7325   0.635913   0.709296  \n",
      "-11.7325    10.9868  -0.393807  -0.815135  \n",
      "0.635913  -0.393807   0.908287  -0.548868  \n",
      "0.709296  -0.815135  -0.548868   0.502824  \n",
      "y = \n",
      "      0  \n",
      "      0  \n",
      "26.4567  \n",
      "-18.992  \n"
     ]
    },
    {
     "data": {
      "image/png": "[encoded data removed]",
      "text/plain": [
       "<Figure size 432x288 with 1 Axes>"
      ]
     },
     "metadata": {
      "needs_background": "light"
     },
     "output_type": "display_data"
    },
    {
     "name": "stdout",
     "output_type": "stream",
     "text": [
      "m_t =  [[0.09858827907021545, 0.14883511477625705], [4.530264391130005, -3.1649789619179556]]\n",
      "inverse :  [[ 0.57106957 -0.53208539  0.00644873  0.00719289]\n",
      " [-0.53208539  0.49826674 -0.00399355 -0.0082662 ]\n",
      " [ 0.00644873 -0.00399355  0.00205961 -0.0012446 ]\n",
      " [ 0.00719289 -0.0082662  -0.0012446   0.00114019]]\n",
      "c0Dc  :  [[0.02267574 0.         0.         0.        ]\n",
      " [0.         0.02267574 0.         0.        ]\n",
      " [0.         0.         0.00113379 0.        ]\n",
      " [0.         0.         0.         0.00113379]]\n",
      "arg q-func : \n",
      "[[2.61380559]]\n",
      "inverse :  [[ 0.22675737 -0.22675737  0.00340136 -0.00340136]\n",
      " [-0.22675737  0.22675737 -0.00340136  0.00340136]\n",
      " [ 0.00340136 -0.00340136  0.00056689 -0.00056689]\n",
      " [-0.00340136  0.00340136 -0.00056689  0.00056689]]\n",
      "c0Dc  :  [[0.02267574 0.         0.         0.        ]\n",
      " [0.         0.02267574 0.         0.        ]\n",
      " [0.         0.         0.00113379 0.        ]\n",
      " [0.         0.         0.         0.00113379]]\n",
      "arg q-func : \n",
      "[[0.52238806]]\n",
      "[0.231, 0.235, 0.2315, 0.232] [0.23975006109347674, 0.23922541434207162, 0.2376324842081241, 0.2349123888336228]\n",
      "class 0 empirical mean = 0.19249338591143622\n",
      "class 1 empirical mean = -0.15542887590148635\n",
      "class 2 empirical mean = 0.09245862478165584\n",
      "class 3 empirical mean = -0.15887804909490447\n",
      "MTM : \n",
      "[[ 2.51841682 -2.34649656  0.56877761  0.6344133 ]\n",
      " [-2.34649656  2.19735631 -0.35223124 -0.72907916]\n",
      " [ 0.56877761 -0.35223124  3.63314925 -2.19547195]\n",
      " [ 0.6344133  -0.72907916 -2.19547195  2.01129639]]\n",
      "c =  [0.47619048 0.47619048 0.02380952 0.02380952]\n",
      "Correlation Matrix : \n",
      " 12.5921   -11.7325   0.635913   0.709296  \n",
      "-11.7325    10.9868  -0.393807  -0.815135  \n",
      "0.635913  -0.393807   0.908287  -0.548868  \n",
      "0.709296  -0.815135  -0.548868   0.502824  \n",
      "y = \n",
      "      0  \n",
      "      0  \n",
      "26.4567  \n",
      "-18.992  \n"
     ]
    },
    {
     "data": {
      "image/png": "[encoded data removed]",
      "text/plain": [
       "<Figure size 432x288 with 1 Axes>"
      ]
     },
     "metadata": {
      "needs_background": "light"
     },
     "output_type": "display_data"
    },
    {
     "name": "stdout",
     "output_type": "stream",
     "text": [
      "m_t =  [[0.09858827907021545, 0.14883511477625705], [4.530264391130005, -3.1649789619179556]]\n",
      "inverse :  [[ 0.57106957 -0.53208539  0.00644873  0.00719289]\n",
      " [-0.53208539  0.49826674 -0.00399355 -0.0082662 ]\n",
      " [ 0.00644873 -0.00399355  0.00205961 -0.0012446 ]\n",
      " [ 0.00719289 -0.0082662  -0.0012446   0.00114019]]\n",
      "c0Dc  :  [[0.02267574 0.         0.         0.        ]\n",
      " [0.         0.02267574 0.         0.        ]\n",
      " [0.         0.         0.00113379 0.        ]\n",
      " [0.         0.         0.         0.00113379]]\n",
      "arg q-func : \n",
      "[[2.61380559]]\n",
      "inverse :  [[ 0.22675737 -0.22675737  0.00453515 -0.00453515]\n",
      " [-0.22675737  0.22675737 -0.00453515  0.00453515]\n",
      " [ 0.00453515 -0.00453515  0.00056689 -0.00056689]\n",
      " [-0.00453515  0.00453515 -0.00056689  0.00056689]]\n",
      "c0Dc  :  [[0.02267574 0.         0.         0.        ]\n",
      " [0.         0.02267574 0.         0.        ]\n",
      " [0.         0.         0.00113379 0.        ]\n",
      " [0.         0.         0.         0.00113379]]\n",
      "arg q-func : \n",
      "[[0.54123711]]\n",
      "[0.231, 0.235, 0.2315, 0.232, 0.2325] [0.23975006109347674, 0.23922541434207162, 0.2376324842081241, 0.2349123888336228, 0.2309602391618985]\n",
      "class 0 empirical mean = 0.19249338591143622\n",
      "class 1 empirical mean = -0.15542887590148635\n",
      "class 2 empirical mean = 0.09245862478165584\n",
      "class 3 empirical mean = -0.15887804909490447\n",
      "MTM : \n",
      "[[ 2.51841682 -2.34649656  0.56877761  0.6344133 ]\n",
      " [-2.34649656  2.19735631 -0.35223124 -0.72907916]\n",
      " [ 0.56877761 -0.35223124  3.63314925 -2.19547195]\n",
      " [ 0.6344133  -0.72907916 -2.19547195  2.01129639]]\n",
      "c =  [0.47619048 0.47619048 0.02380952 0.02380952]\n",
      "Correlation Matrix : \n",
      " 12.5921   -11.7325   0.635913   0.709296  \n",
      "-11.7325    10.9868  -0.393807  -0.815135  \n",
      "0.635913  -0.393807   0.908287  -0.548868  \n",
      "0.709296  -0.815135  -0.548868   0.502824  \n",
      "y = \n",
      "      0  \n",
      "      0  \n",
      "26.4567  \n",
      "-18.992  \n"
     ]
    },
    {
     "data": {
      "image/png": "[encoded data removed]",
      "text/plain": [
       "<Figure size 432x288 with 1 Axes>"
      ]
     },
     "metadata": {
      "needs_background": "light"
     },
     "output_type": "display_data"
    },
    {
     "name": "stdout",
     "output_type": "stream",
     "text": [
      "m_t =  [[0.09858827907021545, 0.14883511477625705], [4.530264391130005, -3.1649789619179556]]\n",
      "inverse :  [[ 0.57106957 -0.53208539  0.00644873  0.00719289]\n",
      " [-0.53208539  0.49826674 -0.00399355 -0.0082662 ]\n",
      " [ 0.00644873 -0.00399355  0.00205961 -0.0012446 ]\n",
      " [ 0.00719289 -0.0082662  -0.0012446   0.00114019]]\n",
      "c0Dc  :  [[0.02267574 0.         0.         0.        ]\n",
      " [0.         0.02267574 0.         0.        ]\n",
      " [0.         0.         0.00113379 0.        ]\n",
      " [0.         0.         0.         0.00113379]]\n",
      "arg q-func : \n",
      "[[2.61380559]]\n",
      "inverse :  [[ 0.22675737 -0.22675737  0.00566893 -0.00566893]\n",
      " [-0.22675737  0.22675737 -0.00566893  0.00566893]\n",
      " [ 0.00566893 -0.00566893  0.00056689 -0.00056689]\n",
      " [-0.00566893  0.00566893 -0.00056689  0.00056689]]\n",
      "c0Dc  :  [[0.02267574 0.         0.         0.        ]\n",
      " [0.         0.02267574 0.         0.        ]\n",
      " [0.         0.         0.00113379 0.        ]\n",
      " [0.         0.         0.         0.00113379]]\n",
      "arg q-func : \n",
      "[[0.56756757]]\n",
      "[0.231, 0.235, 0.2315, 0.232, 0.2325, 0.229] [0.23975006109347674, 0.23922541434207162, 0.2376324842081241, 0.2349123888336228, 0.2309602391618985, 0.2256135612113705]\n",
      "class 0 empirical mean = 0.19249338591143622\n",
      "class 1 empirical mean = -0.15542887590148635\n",
      "class 2 empirical mean = 0.09245862478165584\n",
      "class 3 empirical mean = -0.15887804909490447\n",
      "MTM : \n",
      "[[ 2.51841682 -2.34649656  0.56877761  0.6344133 ]\n",
      " [-2.34649656  2.19735631 -0.35223124 -0.72907916]\n",
      " [ 0.56877761 -0.35223124  3.63314925 -2.19547195]\n",
      " [ 0.6344133  -0.72907916 -2.19547195  2.01129639]]\n",
      "c =  [0.47619048 0.47619048 0.02380952 0.02380952]\n",
      "Correlation Matrix : \n",
      " 12.5921   -11.7325   0.635913   0.709296  \n",
      "-11.7325    10.9868  -0.393807  -0.815135  \n",
      "0.635913  -0.393807   0.908287  -0.548868  \n",
      "0.709296  -0.815135  -0.548868   0.502824  \n",
      "y = \n",
      "      0  \n",
      "      0  \n",
      "26.4567  \n",
      "-18.992  \n"
     ]
    },
    {
     "data": {
      "image/png": "[encoded data removed]",
      "text/plain": [
       "<Figure size 432x288 with 1 Axes>"
      ]
     },
     "metadata": {
      "needs_background": "light"
     },
     "output_type": "display_data"
    },
    {
     "name": "stdout",
     "output_type": "stream",
     "text": [
      "m_t =  [[0.09858827907021545, 0.14883511477625705], [4.530264391130005, -3.1649789619179556]]\n",
      "inverse :  [[ 0.57106957 -0.53208539  0.00644873  0.00719289]\n",
      " [-0.53208539  0.49826674 -0.00399355 -0.0082662 ]\n",
      " [ 0.00644873 -0.00399355  0.00205961 -0.0012446 ]\n",
      " [ 0.00719289 -0.0082662  -0.0012446   0.00114019]]\n",
      "c0Dc  :  [[0.02267574 0.         0.         0.        ]\n",
      " [0.         0.02267574 0.         0.        ]\n",
      " [0.         0.         0.00113379 0.        ]\n",
      " [0.         0.         0.         0.00113379]]\n",
      "arg q-func : \n",
      "[[2.61380559]]\n",
      "inverse :  [[ 0.22675737 -0.22675737  0.00680272 -0.00680272]\n",
      " [-0.22675737  0.22675737 -0.00680272  0.00680272]\n",
      " [ 0.00680272 -0.00680272  0.00056689 -0.00056689]\n",
      " [-0.00680272  0.00680272 -0.00056689  0.00056689]]\n",
      "c0Dc  :  [[0.02267574 0.         0.         0.        ]\n",
      " [0.         0.02267574 0.         0.        ]\n",
      " [0.         0.         0.00113379 0.        ]\n",
      " [0.         0.         0.         0.00113379]]\n",
      "arg q-func : \n",
      "[[0.60344828]]\n",
      "[0.231, 0.235, 0.2315, 0.232, 0.2325, 0.229, 0.2295] [0.23975006109347674, 0.23922541434207162, 0.2376324842081241, 0.2349123888336228, 0.2309602391618985, 0.2256135612113705, 0.21863268448869144]\n",
      "class 0 empirical mean = 0.19249338591143622\n",
      "class 1 empirical mean = -0.15542887590148635\n",
      "class 2 empirical mean = 0.09245862478165584\n",
      "class 3 empirical mean = -0.15887804909490447\n",
      "MTM : \n",
      "[[ 2.51841682 -2.34649656  0.56877761  0.6344133 ]\n",
      " [-2.34649656  2.19735631 -0.35223124 -0.72907916]\n",
      " [ 0.56877761 -0.35223124  3.63314925 -2.19547195]\n",
      " [ 0.6344133  -0.72907916 -2.19547195  2.01129639]]\n",
      "c =  [0.47619048 0.47619048 0.02380952 0.02380952]\n",
      "Correlation Matrix : \n",
      " 12.5921   -11.7325   0.635913   0.709296  \n",
      "-11.7325    10.9868  -0.393807  -0.815135  \n",
      "0.635913  -0.393807   0.908287  -0.548868  \n",
      "0.709296  -0.815135  -0.548868   0.502824  \n",
      "y = \n",
      "      0  \n",
      "      0  \n",
      "26.4567  \n",
      "-18.992  \n"
     ]
    },
    {
     "data": {
      "image/png": "[encoded data removed]",
      "text/plain": [
       "<Figure size 432x288 with 1 Axes>"
      ]
     },
     "metadata": {
      "needs_background": "light"
     },
     "output_type": "display_data"
    },
    {
     "name": "stdout",
     "output_type": "stream",
     "text": [
      "m_t =  [[0.09858827907021545, 0.14883511477625705], [4.530264391130005, -3.1649789619179556]]\n",
      "inverse :  [[ 0.57106957 -0.53208539  0.00644873  0.00719289]\n",
      " [-0.53208539  0.49826674 -0.00399355 -0.0082662 ]\n",
      " [ 0.00644873 -0.00399355  0.00205961 -0.0012446 ]\n",
      " [ 0.00719289 -0.0082662  -0.0012446   0.00114019]]\n",
      "c0Dc  :  [[0.02267574 0.         0.         0.        ]\n",
      " [0.         0.02267574 0.         0.        ]\n",
      " [0.         0.         0.00113379 0.        ]\n",
      " [0.         0.         0.         0.00113379]]\n",
      "arg q-func : \n",
      "[[2.61380559]]\n",
      "inverse :  [[ 0.22675737 -0.22675737  0.00793651 -0.00793651]\n",
      " [-0.22675737  0.22675737 -0.00793651  0.00793651]\n",
      " [ 0.00793651 -0.00793651  0.00056689 -0.00056689]\n",
      " [-0.00793651  0.00793651 -0.00056689  0.00056689]]\n",
      "c0Dc  :  [[0.02267574 0.         0.         0.        ]\n",
      " [0.         0.02267574 0.         0.        ]\n",
      " [0.         0.         0.00113379 0.        ]\n",
      " [0.         0.         0.         0.00113379]]\n",
      "arg q-func : \n",
      "[[0.65217391]]\n",
      "[0.231, 0.235, 0.2315, 0.232, 0.2325, 0.229, 0.2295, 0.229] [0.23975006109347674, 0.23922541434207162, 0.2376324842081241, 0.2349123888336228, 0.2309602391618985, 0.2256135612113705, 0.21863268448869144, 0.20966825979188647]\n",
      "class 0 empirical mean = 0.19249338591143622\n",
      "class 1 empirical mean = -0.15542887590148635\n",
      "class 2 empirical mean = 0.09245862478165584\n",
      "class 3 empirical mean = -0.15887804909490447\n",
      "MTM : \n",
      "[[ 2.51841682 -2.34649656  0.56877761  0.6344133 ]\n",
      " [-2.34649656  2.19735631 -0.35223124 -0.72907916]\n",
      " [ 0.56877761 -0.35223124  3.63314925 -2.19547195]\n",
      " [ 0.6344133  -0.72907916 -2.19547195  2.01129639]]\n",
      "c =  [0.47619048 0.47619048 0.02380952 0.02380952]\n",
      "Correlation Matrix : \n",
      " 12.5921   -11.7325   0.635913   0.709296  \n",
      "-11.7325    10.9868  -0.393807  -0.815135  \n",
      "0.635913  -0.393807   0.908287  -0.548868  \n",
      "0.709296  -0.815135  -0.548868   0.502824  \n",
      "y = \n",
      "      0  \n",
      "      0  \n",
      "26.4567  \n",
      "-18.992  \n"
     ]
    },
    {
     "data": {
      "image/png": "[encoded data removed]",
      "text/plain": [
       "<Figure size 432x288 with 1 Axes>"
      ]
     },
     "metadata": {
      "needs_background": "light"
     },
     "output_type": "display_data"
    },
    {
     "name": "stdout",
     "output_type": "stream",
     "text": [
      "m_t =  [[0.09858827907021545, 0.14883511477625705], [4.530264391130005, -3.1649789619179556]]\n",
      "inverse :  [[ 0.57106957 -0.53208539  0.00644873  0.00719289]\n",
      " [-0.53208539  0.49826674 -0.00399355 -0.0082662 ]\n",
      " [ 0.00644873 -0.00399355  0.00205961 -0.0012446 ]\n",
      " [ 0.00719289 -0.0082662  -0.0012446   0.00114019]]\n",
      "c0Dc  :  [[0.02267574 0.         0.         0.        ]\n",
      " [0.         0.02267574 0.         0.        ]\n",
      " [0.         0.         0.00113379 0.        ]\n",
      " [0.         0.         0.         0.00113379]]\n",
      "arg q-func : \n",
      "[[2.61380559]]\n",
      "inverse :  [[ 0.22675737 -0.22675737  0.00907029 -0.00907029]\n",
      " [-0.22675737  0.22675737 -0.00907029  0.00907029]\n",
      " [ 0.00907029 -0.00907029  0.00056689 -0.00056689]\n",
      " [-0.00907029  0.00907029 -0.00056689  0.00056689]]\n",
      "c0Dc  :  [[0.02267574 0.         0.         0.        ]\n",
      " [0.         0.02267574 0.         0.        ]\n",
      " [0.         0.         0.00113379 0.        ]\n",
      " [0.         0.         0.         0.00113379]]\n",
      "arg q-func : \n",
      "[[0.71917808]]\n",
      "[0.231, 0.235, 0.2315, 0.232, 0.2325, 0.229, 0.2295, 0.229, 0.232] [0.23975006109347674, 0.23922541434207162, 0.2376324842081241, 0.2349123888336228, 0.2309602391618985, 0.2256135612113705, 0.21863268448869144, 0.20966825979188647, 0.19820682273975027]\n",
      "class 0 empirical mean = 0.19249338591143622\n",
      "class 1 empirical mean = -0.15542887590148635\n",
      "class 2 empirical mean = 0.09245862478165584\n",
      "class 3 empirical mean = -0.15887804909490447\n",
      "MTM : \n",
      "[[ 2.51841682 -2.34649656  0.56877761  0.6344133 ]\n",
      " [-2.34649656  2.19735631 -0.35223124 -0.72907916]\n",
      " [ 0.56877761 -0.35223124  3.63314925 -2.19547195]\n",
      " [ 0.6344133  -0.72907916 -2.19547195  2.01129639]]\n",
      "c =  [0.47619048 0.47619048 0.02380952 0.02380952]\n",
      "Correlation Matrix : \n",
      " 12.5921   -11.7325   0.635913   0.709296  \n",
      "-11.7325    10.9868  -0.393807  -0.815135  \n",
      "0.635913  -0.393807   0.908287  -0.548868  \n",
      "0.709296  -0.815135  -0.548868   0.502824  \n",
      "y = \n",
      "      0  \n",
      "      0  \n",
      "26.4567  \n",
      "-18.992  \n"
     ]
    },
    {
     "data": {
      "image/png": "[encoded data removed]",
      "text/plain": [
       "<Figure size 432x288 with 1 Axes>"
      ]
     },
     "metadata": {
      "needs_background": "light"
     },
     "output_type": "display_data"
    },
    {
     "name": "stdout",
     "output_type": "stream",
     "text": [
      "m_t =  [[0.09858827907021545, 0.14883511477625705], [4.530264391130005, -3.1649789619179556]]\n",
      "inverse :  [[ 0.57106957 -0.53208539  0.00644873  0.00719289]\n",
      " [-0.53208539  0.49826674 -0.00399355 -0.0082662 ]\n",
      " [ 0.00644873 -0.00399355  0.00205961 -0.0012446 ]\n",
      " [ 0.00719289 -0.0082662  -0.0012446   0.00114019]]\n",
      "c0Dc  :  [[0.02267574 0.         0.         0.        ]\n",
      " [0.         0.02267574 0.         0.        ]\n",
      " [0.         0.         0.00113379 0.        ]\n",
      " [0.         0.         0.         0.00113379]]\n",
      "arg q-func : \n",
      "[[2.61380559]]\n",
      "inverse :  [[ 0.22675737 -0.22675737  0.01020408 -0.01020408]\n",
      " [-0.22675737  0.22675737 -0.01020408  0.01020408]\n",
      " [ 0.01020408 -0.01020408  0.00056689 -0.00056689]\n",
      " [-0.01020408  0.01020408 -0.00056689  0.00056689]]\n",
      "c0Dc  :  [[0.02267574 0.         0.         0.        ]\n",
      " [0.         0.02267574 0.         0.        ]\n",
      " [0.         0.         0.00113379 0.        ]\n",
      " [0.         0.         0.         0.00113379]]\n",
      "arg q-func : \n",
      "[[0.81395349]]\n",
      "[0.231, 0.235, 0.2315, 0.232, 0.2325, 0.229, 0.2295, 0.229, 0.232, 0.2345] [0.23975006109347674, 0.23922541434207162, 0.2376324842081241, 0.2349123888336228, 0.2309602391618985, 0.2256135612113705, 0.21863268448869144, 0.20966825979188647, 0.19820682273975027, 0.18347698807927781]\n",
      "class 0 empirical mean = 0.19249338591143622\n",
      "class 1 empirical mean = -0.15542887590148635\n",
      "class 2 empirical mean = 0.09245862478165584\n",
      "class 3 empirical mean = -0.15887804909490447\n",
      "MTM : \n",
      "[[ 2.51841682 -2.34649656  0.56877761  0.6344133 ]\n",
      " [-2.34649656  2.19735631 -0.35223124 -0.72907916]\n",
      " [ 0.56877761 -0.35223124  3.63314925 -2.19547195]\n",
      " [ 0.6344133  -0.72907916 -2.19547195  2.01129639]]\n",
      "c =  [0.47619048 0.47619048 0.02380952 0.02380952]\n",
      "Correlation Matrix : \n",
      " 12.5921   -11.7325   0.635913   0.709296  \n",
      "-11.7325    10.9868  -0.393807  -0.815135  \n",
      "0.635913  -0.393807   0.908287  -0.548868  \n",
      "0.709296  -0.815135  -0.548868   0.502824  \n",
      "y = \n",
      "      0  \n",
      "      0  \n",
      "26.4567  \n",
      "-18.992  \n"
     ]
    },
    {
     "data": {
      "image/png": "[encoded data removed]",
      "text/plain": [
       "<Figure size 432x288 with 1 Axes>"
      ]
     },
     "metadata": {
      "needs_background": "light"
     },
     "output_type": "display_data"
    },
    {
     "name": "stdout",
     "output_type": "stream",
     "text": [
      "m_t =  [[0.09858827907021545, 0.14883511477625705], [4.530264391130005, -3.1649789619179556]]\n",
      "inverse :  [[ 0.57106957 -0.53208539  0.00644873  0.00719289]\n",
      " [-0.53208539  0.49826674 -0.00399355 -0.0082662 ]\n",
      " [ 0.00644873 -0.00399355  0.00205961 -0.0012446 ]\n",
      " [ 0.00719289 -0.0082662  -0.0012446   0.00114019]]\n",
      "c0Dc  :  [[0.02267574 0.         0.         0.        ]\n",
      " [0.         0.02267574 0.         0.        ]\n",
      " [0.         0.         0.00113379 0.        ]\n",
      " [0.         0.         0.         0.00113379]]\n",
      "arg q-func : \n",
      "[[2.61380559]]\n",
      "inverse :  [[ 0.22675737 -0.22675737  0.01133787 -0.01133787]\n",
      " [-0.22675737  0.22675737 -0.01133787  0.01133787]\n",
      " [ 0.01133787 -0.01133787  0.00056689 -0.00056689]\n",
      " [-0.01133787  0.01133787 -0.00056689  0.00056689]]\n",
      "c0Dc  :  [[0.02267574 0.         0.         0.        ]\n",
      " [0.         0.02267574 0.         0.        ]\n",
      " [0.         0.         0.00113379 0.        ]\n",
      " [0.         0.         0.         0.00113379]]\n",
      "arg q-func : \n",
      "[[0.95454545]]\n",
      "[0.231, 0.235, 0.2315, 0.232, 0.2325, 0.229, 0.2295, 0.229, 0.232, 0.2345, 0.234] [0.23975006109347674, 0.23922541434207162, 0.2376324842081241, 0.2349123888336228, 0.2309602391618985, 0.2256135612113705, 0.21863268448869144, 0.20966825979188647, 0.19820682273975027, 0.18347698807927781, 0.16428249171959852]\n"
     ]
    },
    {
     "data": {
      "image/png": "[encoded data removed]",
      "text/plain": [
       "<Figure size 432x288 with 1 Axes>"
      ]
     },
     "metadata": {
      "needs_background": "light"
     },
     "output_type": "display_data"
    }
   ],
   "source": [
    "n = 2100\n",
    "p = 100\n",
    "m = 2\n",
    "t = 2\n",
    "beta = np.arange(0,1.1,0.1)\n",
    "n_t = [[1000,1000], [50, 50]]\n",
    "n_t_test = [[1000, 1000]]\n",
    "emp_rate, th_rate = [], []\n",
    "for b in beta:\n",
    "    # on crée les données synthétiques\n",
    "    M = mean_matrix(b, p)\n",
    "# #     print(M)\n",
    "    X = gaussian_synthetic_data(n, p, m, t, n_t, M)\n",
    "    X_test = gaussian_synthetic_data(n, p, m, 1, n_t_test, [M[1]])\n",
    "    X = normalisation(X, p)\n",
    "    X_test = normalisation(X_test, p)\n",
    "#     X = normalisation_old(X, t, m)\n",
    "#     Malik's normalization (dividing by sqrt(p))\n",
    "#     X_train, X_test, n_t_train, n_t_test = train_test_split_data(X, 0.8, t, m)\n",
    "#     y = create_labels(t,m)\n",
    "    \n",
    "    # On calcule les moyennes empiriques\n",
    "    M_mean = empirical_mean(t, m, X_train, p, n_t_train)\n",
    "    M_true = true_mean(M, p, t, m)\n",
    "#     print(\"MTM : \")\n",
    "    MM = np.transpose(M_mean).dot(M_mean)\n",
    "    MM_true = np.transpose(M_true).dot(M_true)\n",
    "#     print(MM)\n",
    "    c = estimate_c(n_t, n, t, m)\n",
    "    c0 = p/n\n",
    "    Dc = np.diag(c)\n",
    "#     print(\"c = \", c)\n",
    "#     print(\"Correlation Matrix : \")\n",
    "    correlation_matrix = compute_M_cal(n,p,Dc, M_mean, display=False)\n",
    "    correlation_matrix_true = compute_M_cal(n,p,Dc, M_true, display=False)\n",
    "#     matprint(correlation_matrix)\n",
    "    y = label_evaluation(t,m,Dc,correlation_matrix)\n",
    "    y_true = label_evaluation(t,m,Dc,correlation_matrix_true)\n",
    "#     print(\"y = \")\n",
    "#     matprint(y)\n",
    "    X_train_aggregated = aggregate_array(X, p, n, t, m)\n",
    "    X_test_aggregated = aggregate_array(X_test, p, sum(n_t_test[0]), 1, m)\n",
    "    J = create_J(m, t, n, n_t)\n",
    "    \n",
    "    V = compute_V(y, X_train_aggregated, J, n)\n",
    "    V_true = compute_V(y_true, X_train_aggregated, J, n)\n",
    "    debug_histogram(V, X_test_aggregated, n_t_test)\n",
    "#     print(\"V = \")\n",
    "#     print(V)\n",
    "    m_t = create_mt(t, m, y, Dc, correlation_matrix)\n",
    "    m_t_true = create_mt(t, m, y_true, Dc, correlation_matrix_true)\n",
    "#     print(\"m_t = \", m_t)\n",
    "#     erreurs = compute_error_rate(X_test, V, m_t, 1, m, n_t_test, Dc, MM, c0)\n",
    "    emp_rate.append(compute_error_rate(X_test, V, m_t, 1, m, n_t_test, Dc, MM, c0)[0])\n",
    "    th_rate.append(compute_error_rate(X_test, V_true, m_t_true, 1, m, n_t_test, Dc, MM_true, c0)[1])\n",
    "\n",
    "    print(emp_rate, th_rate)\n",
    "    \n",
    "plt.plot(beta, emp_rate, '-o', label='empirical rate')\n",
    "plt.plot(beta, th_rate, '-o', label='theoritical rate')\n",
    "plt.legend()\n",
    "plt.title(\"2-class Gaussian mixture transfer error rate\")\n",
    "plt.xlabel(\"Task relatedness (beta)\")\n",
    "plt.ylabel(\"error rate\")\n",
    "plt.grid()\n",
    "plt.show()"
   ]
  },
  {
   "cell_type": "code",
   "execution_count": null,
   "metadata": {},
   "outputs": [],
   "source": [
    "plt.plot(beta, th_rate, '-o', label='theoritical rate')\n",
    "plt.legend()\n",
    "plt.title(\"2-class Gaussian mixture transfer error rate\")\n",
    "plt.xlabel(\"Task relatedness (beta)\")\n",
    "plt.ylabel(\"error rate\")\n",
    "plt.grid()\n",
    "plt.show()"
   ]
  },
  {
   "cell_type": "code",
   "execution_count": null,
   "metadata": {},
   "outputs": [],
   "source": [
    "np.transpose(M_mean).dot(M_mean)"
   ]
  },
  {
   "cell_type": "markdown",
   "metadata": {},
   "source": [
    "# Algorithme distribué 2 tâches 2 classes\n",
    "Bien que certains résultats du précedent algorithmes sont particulèrement inquiétants, essayons de voir comment distribuer l'algorithme sur plusieurs serveurs.\n",
    "\n",
    "Par exemple un serveur demande les moyennes des autres serveurs pour pouvoir obtenir des meilleurs résultats en calculant la moyenne des ses données et la moyenne de toutes les moyennes avant de le renvoyer au serveur principal qui mettra à jour le modèle.\n",
    "\n",
    "Prendre des données synthétiques pour la 1ère tâche à 2 classes, puis rappatrier une ou plusieurs moyennes pour les autres tasks. \n",
    "Faire des comparaisons, avec et sans federated learning."
   ]
  },
  {
   "cell_type": "markdown",
   "metadata": {},
   "source": [
    "### Serveur isolé"
   ]
  },
  {
   "cell_type": "code",
   "execution_count": null,
   "metadata": {},
   "outputs": [],
   "source": [
    "n = 2000\n",
    "p = 100\n",
    "m = 2\n",
    "t = 1\n",
    "n_t = [[1000,1000]]\n",
    "M = mean_random_matrix(m, t, p, 0., 0.5)\n",
    "X = gaussian_synthetic_data(n, p, m, t, n_t, M)\n",
    "X_train, X_test, n_t_train, n_t_test = train_test_split_data(X, 0.8, t, m)\n",
    "y = create_labels(t,m)\n",
    "M_mean = empirical_mean(t, m, X_train, p, n_t_train)\n",
    "c = estimate_c(n_t, n, t, m)\n",
    "Dc = np.diag(c)\n",
    "correlation_matrix = compute_M_cal(n,p,Dc,M_mean, display=True)\n",
    "y = label_evaluation(t,m,Dc,correlation_matrix)\n",
    "X_train_aggregated = aggregate_array(X_train, p, n, t, m)\n",
    "X_test_aggregated = aggregate_array(X_train, p, n, t, m)\n",
    "J = create_J(m, t, n, n_t_train)\n",
    "V = compute_V(y, X_train_aggregated, J)\n",
    "m_t = create_mt(t, m, y, Dc, correlation_matrix)\n",
    "compute_error_rate(X_test, V, m_t, t, m, n_t_test, Dc, correlation_matrix, True)"
   ]
  },
  {
   "cell_type": "markdown",
   "metadata": {},
   "source": [
    "### 2 serveurs \n",
    "L'un des serveurs va demander les moyennes de l'autre pour entraîner le modèle sur ses données et sortir un résultat. \n",
    "\n",
    "L'autre serveur pourrait envoyer sa matrice de corrélation $\\mathcal{M}\\in\\mathbb{R}^{km\\times km}$ et le serveur demandant utiliserait une matrice de corrélation moyennée et pondérée par les poids de chaque dataset (si un dataset est plus grand que l'autr, il faut évidemment le prendre en compte) entre les deux matrices de corrélation.\n",
    "\n",
    "Enfait, non il faut envoyer les moyennes empiriques de chaque classe dans chaque tache (=chaque client) pour pouvoir ensuite calculer $\\mathcal{M}$, car il nous faut aussi les produits scalaires entre les moyennes des différentes tâches."
   ]
  },
  {
   "cell_type": "markdown",
   "metadata": {},
   "source": [
    "Calcul des moyennes empiriques, et calcul de la matrice $M\\in\\mathbb{R}^{p\\times 2k}$\n",
    "$$\\frac{1}{n_{tj}}X_{tj}\\mathbb{1}_{n_{tj}}=\\frac{1}{n_{tj}}\\sum_{l=1}^{n_{tj}}x_{tl}^{(j)}$$\n",
    "\n",
    "Chaque client calcule en local les moyennes empiriques des données et les envoie au serveur central.\n",
    "\n",
    "De la même façcon que précédemment les données de chaque client (=chaque tâche) devront respecter les conditions de non-trivialité."
   ]
  },
  {
   "cell_type": "code",
   "execution_count": null,
   "metadata": {},
   "outputs": [],
   "source": [
    "def average_correlation_matrix(nb_tasks, nb_classes, matrices, weights):\n",
    "    \"\"\"\n",
    "    Renvoie une matrice de corrélation moyennée et pondérée à partir des différentes matrices de corrélation en input.\n",
    "    matrices est un tableau de matrice 2x2\n",
    "    weights est un tableau avec les différents poids des datasets (i.e. n le nombre de samples dans le dataset)\n",
    "    \"\"\"\n",
    "    nb_matrices = len(matrices)\n",
    "    size = nb_classes*nb_tasks\n",
    "    averaged_M = np.zeros((size, size))\n",
    "    for i in range(size):\n",
    "        for j in range(size):\n",
    "            for idx, mat in enumerate(matrices):\n",
    "                averaged_M[i][j] += mat[i][j]\n",
    "            averaged_M[i][j] /= nb_matrices\n",
    "\n",
    "    return averaged_M"
   ]
  },
  {
   "cell_type": "code",
   "execution_count": null,
   "metadata": {},
   "outputs": [],
   "source": [
    "def create_clients(k, m):\n",
    "    \"\"\"\n",
    "    Retourne k datasets à m classes gaussiens représentant les k taches  \n",
    "    \"\"\"\n",
    "    pass"
   ]
  },
  {
   "cell_type": "code",
   "execution_count": null,
   "metadata": {},
   "outputs": [],
   "source": [
    "def central_server(emp_means, k):\n",
    "    \"\"\"\n",
    "    Retourne les taux d'erreur après utilisation des données de tous les clients\n",
    "    \"\"\"\n",
    "    pass"
   ]
  },
  {
   "cell_type": "code",
   "execution_count": null,
   "metadata": {},
   "outputs": [],
   "source": [
    "# pas fait le cas du j=j' mais j'ai pas l'impression que c'est nécessaire en tout cas pas ici ?\n",
    "# cf remark 1\n",
    "\n",
    "def empirical_mean_old(nb_tasks, nb_classes, X, p, n_t):\n",
    "    \"\"\"\n",
    "    compute empirical mean for data X\n",
    "    return an 1xp vector being the empirical mean for the random vector X_{tj}\n",
    "    retourne la matrice M\n",
    "    \"\"\"\n",
    "    M = np.empty((nb_classes*nb_tasks, p))\n",
    "    for t in range(nb_tasks):\n",
    "        for l in range(nb_classes):\n",
    "            print(X[t][l].dot(np.ones((n_t[t][l]))).shape)\n",
    "            # print(t*nb_classes+l)\n",
    "            M[t*nb_tasks+l] = X[t][l].dot(np.ones((n_t[t][l])))\n",
    "            M[t*nb_tasks+l] /= n_t[t][l]\n",
    "            #print(f\"class {t*nb_tasks+l} empirical mean = {np.mean(M[t*nb_tasks+l])}\")\n",
    "    return np.transpose(M)\n",
    "\n",
    "def empirical_mean(nb_tasks, nb_classes, X, p, n_t):\n",
    "    \"\"\"\n",
    "    Retourne la matrice M avec les produits scalaires croisés\n",
    "    cf. Remark 1\n",
    "    \"\"\"\n",
    "    M = np.empty((nb_classes*nb_tasks, p))\n",
    "    for i in range(nb_classes)\n",
    "    return M.T"
   ]
  },
  {
   "cell_type": "code",
   "execution_count": null,
   "metadata": {},
   "outputs": [],
   "source": [
    "def gather_empirical_mean(k, p, emp_means):\n",
    "    \"\"\"\n",
    "    Crée la fonction M (p*2k) avec les moyennes empiriques des différents clients\n",
    "    avec k le nombre de clients(+serveur central)\n",
    "    emp_means est un tableau de taille k qui contient toutes les moyennes empiriques (serveur compris)\n",
    "    \"\"\"\n",
    "    M = np.empty((2*k, p))\n",
    "    for idx, mean in enumerate(emp_means):\n",
    "        mean = np.reshape(mean, (100))\n",
    "        print(mean.shape)\n",
    "        M[idx] = mean\n",
    "    return M.T"
   ]
  },
  {
   "cell_type": "code",
   "execution_count": null,
   "metadata": {},
   "outputs": [],
   "source": [
    "n = 2100\n",
    "p = 100\n",
    "m = 2\n",
    "t = 1\n",
    "n_t = [[1000,1000], [50, 50]]\n",
    "# s'assurer des conditions de non trivialité entre les moyennes des différentes tâches\n",
    "M = mean_random_matrix(m, t, p, 0., 0.5)\n",
    "M1 = np.zeros((p, 1))\n",
    "M2 = np.zeros((p, 1))\n",
    "M1[-1] = 1\n",
    "M2 = -M1\n",
    "X = gaussian_synthetic_data(n, p, m, t, n_t, M)\n",
    "X_test = gaussian_synthetic_data(n, p, m, t, n_t, [M1, M2]) # ?\n",
    "#X_train, X_test, n_t_train, n_t_test = train_test_split_data(X, 0.8, t, m)\n",
    "#y = create_labels(t,m)\n",
    "# on calcule les moyennes empiriques des données locales\n",
    "M_mean = empirical_mean(t, m, X_train, p, n_t_train)\n",
    "# on crée la matrice des moyennes empiriques locales et externes\n",
    "M_gathered = gather_empirical_mean(2, p, [M[0][0], M[0][1], M1, M2])\n",
    "c = estimate_c(n_t, n, 2, m)\n",
    "Dc = np.diag(c)\n",
    "correlation_matrix = compute_M_cal(n,p,Dc,M_gathered, display=True)\n",
    "matprint(correlation_matrix)\n",
    "# on calcule les labels optimaux à partir de la matrice de corrélation issue des données locales et externes\n",
    "y = label_evaluation(2,m,Dc,correlation_matrix) \n",
    "X_train_aggregated = aggregate_array(X, p, n, t, m)\n",
    "X_test_aggregated = aggregate_array(X_test, p, n, t, m)\n",
    "\n",
    "# Le serveur central (qui peut aussi être un client) envoie maintenant la donnée x qu'il souhaite tester aux clients (a-t-il le droit d'envoyer une donnée x de la sorte ?)\n",
    "# Chaque client calcule le score à partir de x\n",
    "\n",
    "# Il faut créer les données locales de chaque clients\n",
    "# Il faut aussi avoir accès à la matrice M cursive qui reste pareil, sauf lorsque le client recoit une update du serveur central\n",
    "\n",
    "X1 = gaussian_synthetic_data(n, p, m, t, n_t[1], M1)\n",
    "J1 = create_J(m, 1, n, n_t[1])\n",
    "V1 = compute_V(y, X1, J1)\n",
    "m_t = create_mt(t, m, y, Dc, correlation_matrix)\n",
    "# On calcule le score en local\n",
    "compute_error_rate(X_test, V1, m_t, t, m, n_t_test, Dc, correlation_matrix1)\n",
    "\n",
    "# on ajoute les longueurs des données externes\n",
    "n_t_train.append(n_t[1])\n",
    "J = create_J(m, 2, n, n_t_train)\n",
    "V = compute_V(y, X_train_aggregated, J)\n",
    "m_t = create_mt(2, m, y, Dc, correlation_matrix)\n",
    "compute_error_rate(X_test, V, m_t, 2, m, n_t_test, Dc, correlation_matrix, True)"
   ]
  },
  {
   "cell_type": "markdown",
   "metadata": {},
   "source": [
    "$(1/n_{tj})\\sum_{m=1}^{n_{tj}} x^{(t)}_{jm}$"
   ]
  },
  {
   "cell_type": "code",
   "execution_count": null,
   "metadata": {},
   "outputs": [],
   "source": [
    "print(n_t_train)"
   ]
  },
  {
   "cell_type": "code",
   "execution_count": null,
   "metadata": {},
   "outputs": [],
   "source": []
  }
 ],
 "metadata": {
  "kernelspec": {
   "display_name": "Python 3",
   "language": "python",
   "name": "python3"
  },
  "language_info": {
   "codemirror_mode": {
    "name": "ipython",
    "version": 3
   },
   "file_extension": ".py",
   "mimetype": "text/x-python",
   "name": "python",
   "nbconvert_exporter": "python",
   "pygments_lexer": "ipython3",
   "version": "3.7.10"
  }
 },
 "nbformat": 4,
 "nbformat_minor": 2
}
