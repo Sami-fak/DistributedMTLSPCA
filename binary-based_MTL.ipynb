{
 "cells": [
  {
   "cell_type": "code",
   "execution_count": 1,
   "metadata": {},
   "outputs": [],
   "source": [
    "%matplotlib inline\n",
    "import numpy as np\n",
    "import matplotlib.pyplot as plt\n",
    "from sklearn.model_selection import train_test_split"
   ]
  },
  {
   "cell_type": "code",
   "execution_count": 2,
   "metadata": {},
   "outputs": [],
   "source": [
    "def matprint(mat, fmt=\"g\"):\n",
    "    \"\"\"\n",
    "    Pour une un print plus clair de la matrice\n",
    "    https://gist.github.com/braingineer/d801735dac07ff3ac4d746e1f218ab75\n",
    "    \"\"\"\n",
    "    col_maxes = [max([len((\"{:\"+fmt+\"}\").format(x)) for x in col]) for col in mat.T]\n",
    "    for x in mat:\n",
    "        for i, y in enumerate(x):\n",
    "            print((\"{:\"+str(col_maxes[i])+fmt+\"}\").format(y), end=\"  \")\n",
    "        print(\"\")"
   ]
  },
  {
   "cell_type": "markdown",
   "metadata": {},
   "source": [
    "# Table of contents\n",
    "* [Algorithme non distribué 2 taches 2 classes](#Algorithme-non-distribué-2-taches-2-classes)\n",
    "     * [1ère étape: Calcul des moyennes empiriques](#1ère-étape)\n",
    "     * [2ème étape: Estimation de $c$ et de $\\mathcal{M}$](#2ème-étape)\n",
    "     * [3ème étape: Calcul des labels optimaux](#3ème-étape)\n",
    "     * [4ème étape: Estimation des $m_{tj}$](#4ème-étape)\n",
    "     * [5ème étape: Calcul de $V$](#5ème-étape)\n",
    "     * [6ème étape: Evaluation et calcul d'erreur](#6ème-étape)\n",
    "* [2-class Gaussian mixture transfer](#2-class-Gaussian-mixture-transfer-(c.f.-Figure-2))\n",
    "* [Algorithme distribué 2-tâches 2-classes](#Algorithme-distribué-2-tâches-2-classes)\n",
    "     * [Serveur isolé](#Serveur-isolé)\n",
    "     "
   ]
  },
  {
   "cell_type": "markdown",
   "metadata": {},
   "source": [
    "Créons des données synthétiques gaussiennes. Ici nous nous intéresserons dans un premier temps au cas où $m=2$. (Binary MTL Supervised Principal Component Analysis) "
   ]
  },
  {
   "cell_type": "markdown",
   "metadata": {},
   "source": [
    "# Algorithme non distribué 2 taches 2 classes\n",
    "Fonctions pour générer des données synthétiques gaussiennes"
   ]
  },
  {
   "cell_type": "code",
   "execution_count": 3,
   "metadata": {},
   "outputs": [],
   "source": [
    "def mean_random_matrix(m, k, p, l, h, random_seed=42):\n",
    "    \"\"\"\n",
    "    Retourne une matrice M de taille pxm*k contenant\n",
    "    les moyennes de chaque composante de chaque vecteur aléatoire\n",
    "    pour l'instant les moyennes sont tirées aléatoirement \n",
    "    suivant la loi uniforme sur l, h (pas convaincu par ce choix)\n",
    "    m est le nombre de classes\n",
    "    k est le nombre de taches\n",
    "    p est le nombre de features\n",
    "    \"\"\"\n",
    "    np.random.seed(random_seed)\n",
    "    M = []\n",
    "    tmp = []\n",
    "    for task in range(k):\n",
    "        tmp = []\n",
    "        for classe in range(m):\n",
    "            # on crée un vecteur de moyennes égales pour chaque classes\n",
    "            # de sorte à créer des classes gravitant autour d'une meme moyenne\n",
    "            tmp.append(np.ones((p,1))*np.random.uniform(low = 0.0, high = h))\n",
    "        M.append(tmp)\n",
    "    return M"
   ]
  },
  {
   "cell_type": "markdown",
   "metadata": {},
   "source": [
    "Si on prend des moyennes de la même façon que dans le papier"
   ]
  },
  {
   "cell_type": "code",
   "execution_count": 4,
   "metadata": {},
   "outputs": [],
   "source": [
    "# Test\n",
    "# ici on reprend les mêmes paramètres que dans la figure 2\n",
    "n_t = [[1000,1000], [50,50]]\n",
    "n = 2200\n",
    "p = 100\n",
    "m = 2\n",
    "t = 2\n",
    "# 2 taches, 2 classes, p = 20\n",
    "#M = mean_random_matrix(m, t, p, 0., 20.)\n",
    "#print(M)\n",
    "\n",
    "# pour plusieurs taches\n",
    "# M = mean_matrix(2, 3, 10, 0., 2.)\n",
    "# print(M)"
   ]
  },
  {
   "cell_type": "code",
   "execution_count": 87,
   "metadata": {},
   "outputs": [],
   "source": [
    "beta = 0.0\n",
    "def mean_matrix(beta, p, random_seed=42):\n",
    "    \"\"\"\n",
    "    Crée des vecteurs de moyennes de la meme facon que dans la figure 2 du papier\n",
    "    \"\"\"\n",
    "    np.random.seed(random_seed)\n",
    "    #mu_1 = np.ones((p,1))*np.random.uniform(low = 0.0, high = 10.)\n",
    "    mu_1 = np.zeros((p,1))\n",
    "    mu_1[0]= 1\n",
    "    perpendicular_vector = np.zeros((p,1))\n",
    "    perpendicular_vector[-1] = 1\n",
    "    mu_2 = beta*mu_1+np.sqrt(1-beta**2)*perpendicular_vector\n",
    "    M = [[mu_1, -mu_1], [mu_2, -mu_2]]\n",
    "    return M\n",
    "M = mean_matrix(beta, p)"
   ]
  },
  {
   "cell_type": "code",
   "execution_count": 95,
   "metadata": {},
   "outputs": [],
   "source": [
    "def gaussian_synthetic_data(n, p, m, t, n_t, M, random_seed=42):\n",
    "    \"\"\"\n",
    "    Renvoie un tableau de données synthétiques gaussiennes. X[0] accède aux données de la premiere tache.\n",
    "    X[0][1] accede aux données de la deuxieme classe de la premiere tache.\n",
    "    (vecteurs gaussiens de taille n_j * p tq sum(n_j for j) = n)\n",
    "    à partir du nombre d'échantillons n de taille p et du nombre de classe m.\n",
    "    t est le nombre de tâches\n",
    "    n_t est un vecteur comprenant les différentes valeurs n_j pour chaque task\n",
    "    M est la matrice des moyennes de chaque composante \n",
    "    de chaque vecteur aléatoire\n",
    "    \"\"\"\n",
    "    # assert(sum(n_j)/n==1\n",
    "    np.random.seed(random_seed)\n",
    "    X = []\n",
    "    tmp = []\n",
    "    for task in range(t):\n",
    "        # pour une tache on a m classes\n",
    "        tmp = []\n",
    "        for k in range(m):\n",
    "            X_k = np.empty((n_t[task][k], p))\n",
    "            # on prendra la transposée a la fin\n",
    "            #print( n_t[task][k])\n",
    "            for j in range(n_t[task][k]):\n",
    "                # on crée n_j[task][k] vecteurs aléatoires de taille 1xp\n",
    "                # std = 1?\n",
    "                # comment utiliser des vecteurs de moyennes pour générer les données ?\n",
    "                mean = np.reshape(M[task][k], p)\n",
    "                X_k[j] = np.random.multivariate_normal(mean, 1e-8*np.identity(p))\n",
    "                # indice 0 parce que c'est toujours la meme moyenne dans M (pour l'instant ?)\n",
    "            X_k = np.transpose(X_k)\n",
    "            #print(k)\n",
    "            tmp.append(X_k)\n",
    "            # print(\"tmp = \", tmp)\n",
    "        X.append(tmp)\n",
    "            \n",
    "    return X"
   ]
  },
  {
   "cell_type": "code",
   "execution_count": 96,
   "metadata": {},
   "outputs": [],
   "source": [
    "X = gaussian_synthetic_data(n, p, m, t, n_t, M)\n",
    "#np.random.normal(M[0][0], np.identity(p), size=(1, p))\n",
    "#mean = np.reshape(M[0][0], p)"
   ]
  },
  {
   "cell_type": "code",
   "execution_count": 90,
   "metadata": {},
   "outputs": [
    {
     "data": {
      "text/plain": [
       "[array([[0.],\n",
       "        [0.],\n",
       "        [0.],\n",
       "        [0.],\n",
       "        [0.],\n",
       "        [0.],\n",
       "        [0.],\n",
       "        [0.],\n",
       "        [0.],\n",
       "        [0.],\n",
       "        [0.],\n",
       "        [0.],\n",
       "        [0.],\n",
       "        [0.],\n",
       "        [0.],\n",
       "        [0.],\n",
       "        [0.],\n",
       "        [0.],\n",
       "        [0.],\n",
       "        [0.],\n",
       "        [0.],\n",
       "        [0.],\n",
       "        [0.],\n",
       "        [0.],\n",
       "        [0.],\n",
       "        [0.],\n",
       "        [0.],\n",
       "        [0.],\n",
       "        [0.],\n",
       "        [0.],\n",
       "        [0.],\n",
       "        [0.],\n",
       "        [0.],\n",
       "        [0.],\n",
       "        [0.],\n",
       "        [0.],\n",
       "        [0.],\n",
       "        [0.],\n",
       "        [0.],\n",
       "        [0.],\n",
       "        [0.],\n",
       "        [0.],\n",
       "        [0.],\n",
       "        [0.],\n",
       "        [0.],\n",
       "        [0.],\n",
       "        [0.],\n",
       "        [0.],\n",
       "        [0.],\n",
       "        [0.],\n",
       "        [0.],\n",
       "        [0.],\n",
       "        [0.],\n",
       "        [0.],\n",
       "        [0.],\n",
       "        [0.],\n",
       "        [0.],\n",
       "        [0.],\n",
       "        [0.],\n",
       "        [0.],\n",
       "        [0.],\n",
       "        [0.],\n",
       "        [0.],\n",
       "        [0.],\n",
       "        [0.],\n",
       "        [0.],\n",
       "        [0.],\n",
       "        [0.],\n",
       "        [0.],\n",
       "        [0.],\n",
       "        [0.],\n",
       "        [0.],\n",
       "        [0.],\n",
       "        [0.],\n",
       "        [0.],\n",
       "        [0.],\n",
       "        [0.],\n",
       "        [0.],\n",
       "        [0.],\n",
       "        [0.],\n",
       "        [0.],\n",
       "        [0.],\n",
       "        [0.],\n",
       "        [0.],\n",
       "        [0.],\n",
       "        [0.],\n",
       "        [0.],\n",
       "        [0.],\n",
       "        [0.],\n",
       "        [0.],\n",
       "        [0.],\n",
       "        [0.],\n",
       "        [0.],\n",
       "        [0.],\n",
       "        [0.],\n",
       "        [0.],\n",
       "        [0.],\n",
       "        [0.],\n",
       "        [0.],\n",
       "        [1.]]),\n",
       " array([[-0.],\n",
       "        [-0.],\n",
       "        [-0.],\n",
       "        [-0.],\n",
       "        [-0.],\n",
       "        [-0.],\n",
       "        [-0.],\n",
       "        [-0.],\n",
       "        [-0.],\n",
       "        [-0.],\n",
       "        [-0.],\n",
       "        [-0.],\n",
       "        [-0.],\n",
       "        [-0.],\n",
       "        [-0.],\n",
       "        [-0.],\n",
       "        [-0.],\n",
       "        [-0.],\n",
       "        [-0.],\n",
       "        [-0.],\n",
       "        [-0.],\n",
       "        [-0.],\n",
       "        [-0.],\n",
       "        [-0.],\n",
       "        [-0.],\n",
       "        [-0.],\n",
       "        [-0.],\n",
       "        [-0.],\n",
       "        [-0.],\n",
       "        [-0.],\n",
       "        [-0.],\n",
       "        [-0.],\n",
       "        [-0.],\n",
       "        [-0.],\n",
       "        [-0.],\n",
       "        [-0.],\n",
       "        [-0.],\n",
       "        [-0.],\n",
       "        [-0.],\n",
       "        [-0.],\n",
       "        [-0.],\n",
       "        [-0.],\n",
       "        [-0.],\n",
       "        [-0.],\n",
       "        [-0.],\n",
       "        [-0.],\n",
       "        [-0.],\n",
       "        [-0.],\n",
       "        [-0.],\n",
       "        [-0.],\n",
       "        [-0.],\n",
       "        [-0.],\n",
       "        [-0.],\n",
       "        [-0.],\n",
       "        [-0.],\n",
       "        [-0.],\n",
       "        [-0.],\n",
       "        [-0.],\n",
       "        [-0.],\n",
       "        [-0.],\n",
       "        [-0.],\n",
       "        [-0.],\n",
       "        [-0.],\n",
       "        [-0.],\n",
       "        [-0.],\n",
       "        [-0.],\n",
       "        [-0.],\n",
       "        [-0.],\n",
       "        [-0.],\n",
       "        [-0.],\n",
       "        [-0.],\n",
       "        [-0.],\n",
       "        [-0.],\n",
       "        [-0.],\n",
       "        [-0.],\n",
       "        [-0.],\n",
       "        [-0.],\n",
       "        [-0.],\n",
       "        [-0.],\n",
       "        [-0.],\n",
       "        [-0.],\n",
       "        [-0.],\n",
       "        [-0.],\n",
       "        [-0.],\n",
       "        [-0.],\n",
       "        [-0.],\n",
       "        [-0.],\n",
       "        [-0.],\n",
       "        [-0.],\n",
       "        [-0.],\n",
       "        [-0.],\n",
       "        [-0.],\n",
       "        [-0.],\n",
       "        [-0.],\n",
       "        [-0.],\n",
       "        [-0.],\n",
       "        [-0.],\n",
       "        [-0.],\n",
       "        [-0.],\n",
       "        [-1.]])]"
      ]
     },
     "execution_count": 90,
     "metadata": {},
     "output_type": "execute_result"
    }
   ],
   "source": [
    "X[1][1]\n",
    "M[1]"
   ]
  },
  {
   "cell_type": "code",
   "execution_count": 8,
   "metadata": {},
   "outputs": [],
   "source": [
    "from sklearn.preprocessing import normalize\n",
    "\n",
    "def normalisation(X, t, m):\n",
    "    \"\"\"\n",
    "    Normalise les vecteurs de données\n",
    "    \"\"\"\n",
    "    for k in range(t):\n",
    "        for l in range(m):\n",
    "            # on normalise les colonnes\n",
    "            X[k][l] = normalize(X[k][l], axis=1)      \n",
    "    return X"
   ]
  },
  {
   "cell_type": "code",
   "execution_count": 9,
   "metadata": {},
   "outputs": [],
   "source": [
    "def train_test_split_data(X, split_rate, nb_tasks, nb_classes):\n",
    "    \"\"\"\n",
    "    Retourne une matrice de données de tests, et une matrice d'entrainement\n",
    "    \"\"\"\n",
    "    X_train = []\n",
    "    X_test = []\n",
    "    tmp_test = []\n",
    "    tmp_train = []\n",
    "    n_t_train = []\n",
    "    n_t_test = []\n",
    "    for t in range(nb_tasks):\n",
    "        tmp_test = []\n",
    "        tmp_train = []\n",
    "        tmp_nt_train = []\n",
    "        tmp_nt_test = []\n",
    "        for l in range(nb_classes):\n",
    "            decoupe = int(split_rate*X[t][l].shape[1])\n",
    "            tmp_train.append(X[t][l][:, :decoupe])\n",
    "            tmp_test.append(X[t][l][:, decoupe:])\n",
    "            tmp_nt_train.append(decoupe)\n",
    "            tmp_nt_test.append(X[t][l].shape[1]-decoupe)\n",
    "        n_t_train.append(tmp_nt_train)\n",
    "        n_t_test.append(tmp_nt_test)\n",
    "        X_train.append(tmp_train)\n",
    "        X_test.append(tmp_test)\n",
    "    return X_train, X_test, n_t_train, n_t_test"
   ]
  },
  {
   "cell_type": "code",
   "execution_count": 10,
   "metadata": {},
   "outputs": [
    {
     "data": {
      "text/plain": [
       "(100, 200)"
      ]
     },
     "execution_count": 10,
     "metadata": {},
     "output_type": "execute_result"
    }
   ],
   "source": [
    "X_train, X_test, n_t_train, n_t_test = train_test_split_data(X, 0.8, 2, 2)\n",
    "n_t_train\n",
    "X_test[0][0].shape"
   ]
  },
  {
   "cell_type": "markdown",
   "metadata": {},
   "source": [
    "Il faut aussi créer le vecteur $\\tilde{y}\\in\\mathbb{R}^{2k}$, qui contiendra les labels associées aux données."
   ]
  },
  {
   "cell_type": "code",
   "execution_count": 11,
   "metadata": {},
   "outputs": [],
   "source": [
    "def create_labels(nb_tasks, nb_classes):\n",
    "    \"\"\"\n",
    "    Crée le vecteurs y_tilde contenant les labels associés aux données.\n",
    "    Ici on le fait pour deux 2 tâches et pour deux classes.\n",
    "    \"\"\"\n",
    "    y = np.empty((nb_classes*nb_tasks))\n",
    "    for t in range(0, nb_classes*nb_tasks-1, 2):\n",
    "        y[t] = -1\n",
    "        y[t+1] = 1\n",
    "        \n",
    "    return y"
   ]
  },
  {
   "cell_type": "code",
   "execution_count": 12,
   "metadata": {},
   "outputs": [
    {
     "name": "stdout",
     "output_type": "stream",
     "text": [
      "[-1.  1. -1.  1.]\n"
     ]
    }
   ],
   "source": [
    "y = create_labels(t,m)\n",
    "print(y)"
   ]
  },
  {
   "cell_type": "markdown",
   "metadata": {},
   "source": [
    "## 1ère étape\n",
    "Calcul des moyennes empiriques, et calcul de la matrice $M\\in\\mathbb{R}^{p\\times 2k}$\n",
    "$$\\frac{1}{n_{tj}}X_{tj}\\mathbb{1}_{n_{tj}}=\\frac{1}{n_{tj}}\\sum_{l=1}^{n_{tj}}x_{tl}^{(j)}$$"
   ]
  },
  {
   "cell_type": "code",
   "execution_count": 69,
   "metadata": {},
   "outputs": [],
   "source": [
    "# pas fait le cas du j=j' mais j'ai pas l'impression que c'est nécessaire en tout cas pas ici ?\n",
    "\n",
    "def empirical_mean(nb_tasks, nb_classes, X, p, n_t):\n",
    "    \"\"\"\n",
    "    compute empirical mean for data X\n",
    "    return an 1xp vector being the empirical mean for the random vector X_{tj}\n",
    "    retourne la matrice M\n",
    "    \"\"\"\n",
    "    M = np.empty((nb_classes*nb_tasks, p))\n",
    "    for t in range(nb_tasks):\n",
    "        for l in range(nb_classes):\n",
    "            #print(X[t][l].dot(np.ones((n_t[t][l]))).shape)\n",
    "            # print(t*nb_classes+l)\n",
    "            M[t*nb_tasks+l] = X[t][l].dot(np.ones((n_t[t][l])))\n",
    "            M[t*nb_tasks+l] /= n_t[t][l]\n",
    "            print(f\"class {t*nb_tasks+l} empirical mean = {np.mean(M[t*nb_tasks+l])}\")\n",
    "    return np.transpose(M)"
   ]
  },
  {
   "cell_type": "code",
   "execution_count": 113,
   "metadata": {},
   "outputs": [],
   "source": [
    "def true_mean(M, p, nb_tasks, nb_classes):\n",
    "    \"\"\"\n",
    "    Retourne un ndarray contenant les vraies moyennes \n",
    "    \"\"\"\n",
    "    true_M = np.empty((nb_tasks*nb_classes, p))\n",
    "    for t in range(nb_tasks):\n",
    "        for l in range(nb_classes):\n",
    "            mean = np.reshape(M[t][l], (100,))\n",
    "            true_M[t*nb_tasks+l] = mean\n",
    "\n",
    "    return np.transpose(true_M)"
   ]
  },
  {
   "cell_type": "code",
   "execution_count": 114,
   "metadata": {},
   "outputs": [
    {
     "data": {
      "text/plain": [
       "array([[ 1., -1.,  0., -0.],\n",
       "       [ 0., -0.,  0., -0.],\n",
       "       [ 0., -0.,  0., -0.],\n",
       "       [ 0., -0.,  0., -0.],\n",
       "       [ 0., -0.,  0., -0.],\n",
       "       [ 0., -0.,  0., -0.],\n",
       "       [ 0., -0.,  0., -0.],\n",
       "       [ 0., -0.,  0., -0.],\n",
       "       [ 0., -0.,  0., -0.],\n",
       "       [ 0., -0.,  0., -0.],\n",
       "       [ 0., -0.,  0., -0.],\n",
       "       [ 0., -0.,  0., -0.],\n",
       "       [ 0., -0.,  0., -0.],\n",
       "       [ 0., -0.,  0., -0.],\n",
       "       [ 0., -0.,  0., -0.],\n",
       "       [ 0., -0.,  0., -0.],\n",
       "       [ 0., -0.,  0., -0.],\n",
       "       [ 0., -0.,  0., -0.],\n",
       "       [ 0., -0.,  0., -0.],\n",
       "       [ 0., -0.,  0., -0.],\n",
       "       [ 0., -0.,  0., -0.],\n",
       "       [ 0., -0.,  0., -0.],\n",
       "       [ 0., -0.,  0., -0.],\n",
       "       [ 0., -0.,  0., -0.],\n",
       "       [ 0., -0.,  0., -0.],\n",
       "       [ 0., -0.,  0., -0.],\n",
       "       [ 0., -0.,  0., -0.],\n",
       "       [ 0., -0.,  0., -0.],\n",
       "       [ 0., -0.,  0., -0.],\n",
       "       [ 0., -0.,  0., -0.],\n",
       "       [ 0., -0.,  0., -0.],\n",
       "       [ 0., -0.,  0., -0.],\n",
       "       [ 0., -0.,  0., -0.],\n",
       "       [ 0., -0.,  0., -0.],\n",
       "       [ 0., -0.,  0., -0.],\n",
       "       [ 0., -0.,  0., -0.],\n",
       "       [ 0., -0.,  0., -0.],\n",
       "       [ 0., -0.,  0., -0.],\n",
       "       [ 0., -0.,  0., -0.],\n",
       "       [ 0., -0.,  0., -0.],\n",
       "       [ 0., -0.,  0., -0.],\n",
       "       [ 0., -0.,  0., -0.],\n",
       "       [ 0., -0.,  0., -0.],\n",
       "       [ 0., -0.,  0., -0.],\n",
       "       [ 0., -0.,  0., -0.],\n",
       "       [ 0., -0.,  0., -0.],\n",
       "       [ 0., -0.,  0., -0.],\n",
       "       [ 0., -0.,  0., -0.],\n",
       "       [ 0., -0.,  0., -0.],\n",
       "       [ 0., -0.,  0., -0.],\n",
       "       [ 0., -0.,  0., -0.],\n",
       "       [ 0., -0.,  0., -0.],\n",
       "       [ 0., -0.,  0., -0.],\n",
       "       [ 0., -0.,  0., -0.],\n",
       "       [ 0., -0.,  0., -0.],\n",
       "       [ 0., -0.,  0., -0.],\n",
       "       [ 0., -0.,  0., -0.],\n",
       "       [ 0., -0.,  0., -0.],\n",
       "       [ 0., -0.,  0., -0.],\n",
       "       [ 0., -0.,  0., -0.],\n",
       "       [ 0., -0.,  0., -0.],\n",
       "       [ 0., -0.,  0., -0.],\n",
       "       [ 0., -0.,  0., -0.],\n",
       "       [ 0., -0.,  0., -0.],\n",
       "       [ 0., -0.,  0., -0.],\n",
       "       [ 0., -0.,  0., -0.],\n",
       "       [ 0., -0.,  0., -0.],\n",
       "       [ 0., -0.,  0., -0.],\n",
       "       [ 0., -0.,  0., -0.],\n",
       "       [ 0., -0.,  0., -0.],\n",
       "       [ 0., -0.,  0., -0.],\n",
       "       [ 0., -0.,  0., -0.],\n",
       "       [ 0., -0.,  0., -0.],\n",
       "       [ 0., -0.,  0., -0.],\n",
       "       [ 0., -0.,  0., -0.],\n",
       "       [ 0., -0.,  0., -0.],\n",
       "       [ 0., -0.,  0., -0.],\n",
       "       [ 0., -0.,  0., -0.],\n",
       "       [ 0., -0.,  0., -0.],\n",
       "       [ 0., -0.,  0., -0.],\n",
       "       [ 0., -0.,  0., -0.],\n",
       "       [ 0., -0.,  0., -0.],\n",
       "       [ 0., -0.,  0., -0.],\n",
       "       [ 0., -0.,  0., -0.],\n",
       "       [ 0., -0.,  0., -0.],\n",
       "       [ 0., -0.,  0., -0.],\n",
       "       [ 0., -0.,  0., -0.],\n",
       "       [ 0., -0.,  0., -0.],\n",
       "       [ 0., -0.,  0., -0.],\n",
       "       [ 0., -0.,  0., -0.],\n",
       "       [ 0., -0.,  0., -0.],\n",
       "       [ 0., -0.,  0., -0.],\n",
       "       [ 0., -0.,  0., -0.],\n",
       "       [ 0., -0.,  0., -0.],\n",
       "       [ 0., -0.,  0., -0.],\n",
       "       [ 0., -0.,  0., -0.],\n",
       "       [ 0., -0.,  0., -0.],\n",
       "       [ 0., -0.,  0., -0.],\n",
       "       [ 0., -0.,  0., -0.],\n",
       "       [ 0., -0.,  1., -1.]])"
      ]
     },
     "execution_count": 114,
     "metadata": {},
     "output_type": "execute_result"
    }
   ],
   "source": [
    "true_mean(M, p, t, m)"
   ]
  },
  {
   "cell_type": "code",
   "execution_count": 110,
   "metadata": {
    "scrolled": true
   },
   "outputs": [
    {
     "name": "stdout",
     "output_type": "stream",
     "text": [
      "class 0 empirical mean = 0.010000096686814099\n",
      "class 1 empirical mean = -0.009999901896596396\n",
      "class 2 empirical mean = 0.009999849166677975\n",
      "class 3 empirical mean = -0.01000001290424691\n",
      "(100, 4)\n",
      "(100, 1)\n"
     ]
    }
   ],
   "source": [
    "M_mean = empirical_mean(t, m, X, p, n_t)\n",
    "print(M_mean.shape)\n",
    "#matprint(M_mean)\n",
    "#print(np.transpose(M_mean).dot(M_mean))\n",
    "print(M[1][0].shape)"
   ]
  },
  {
   "cell_type": "code",
   "execution_count": 15,
   "metadata": {},
   "outputs": [],
   "source": [
    "# utile pour les puissances négatives\n",
    "def power_diagonal_matrix(D, exponent):\n",
    "    diag = np.zeros(len(D))\n",
    "    for i in range(len(D)):\n",
    "        diag[i] = D[i][i]**exponent\n",
    "    \n",
    "    return np.diag(diag)"
   ]
  },
  {
   "cell_type": "markdown",
   "metadata": {},
   "source": [
    "## 2ème étape\n",
    "Estimer $c$ et $\\mathcal{M}\\in\\mathbb{R}^{2k\\times 2k}$. \n",
    "$c=\\left[ c_{11},\\ldots,c_{km} \\right]^T\\in\\mathbb{R}^{km}$"
   ]
  },
  {
   "cell_type": "code",
   "execution_count": 16,
   "metadata": {},
   "outputs": [],
   "source": [
    "def estimate_c(n_t, n, nb_tasks, nb_classes):\n",
    "    c = np.empty(nb_tasks*nb_classes)\n",
    "    for task in range(nb_tasks):\n",
    "        for m in range(nb_classes):\n",
    "            c[task*nb_tasks+m]=n_t[task][m]/n\n",
    "            \n",
    "    return c"
   ]
  },
  {
   "cell_type": "code",
   "execution_count": 17,
   "metadata": {},
   "outputs": [
    {
     "name": "stdout",
     "output_type": "stream",
     "text": [
      "c = [0.45454545 0.45454545 0.02272727 0.02272727]T\n"
     ]
    },
    {
     "data": {
      "text/plain": [
       "array([[0.45454545, 0.        , 0.        , 0.        ],\n",
       "       [0.        , 0.45454545, 0.        , 0.        ],\n",
       "       [0.        , 0.        , 0.02272727, 0.        ],\n",
       "       [0.        , 0.        , 0.        , 0.02272727]])"
      ]
     },
     "execution_count": 17,
     "metadata": {},
     "output_type": "execute_result"
    }
   ],
   "source": [
    "c = estimate_c(n_t, n, t, m)\n",
    "print(f\"c = {c}T\")\n",
    "Dc = np.diag(c)\n",
    "Dc"
   ]
  },
  {
   "cell_type": "code",
   "execution_count": 18,
   "metadata": {},
   "outputs": [],
   "source": [
    "def compute_M_cal(n,p,Dc,M, display=False):\n",
    "    \"\"\"\n",
    "    renvoie la matrice M cursive estimée\n",
    "    \"\"\"\n",
    "    c0 = 2*p/n\n",
    "    correlation_matrix = 1/c0*np.power(Dc, 1/2).dot(np.transpose(M)).dot(M).dot(np.power(Dc, 1/2))\n",
    "    if display==True:\n",
    "        plt.imshow(correlation_matrix)\n",
    "        plt.show()\n",
    "    return correlation_matrix"
   ]
  },
  {
   "cell_type": "code",
   "execution_count": 19,
   "metadata": {},
   "outputs": [
    {
     "data": {
      "image/png": "[encoded data removed]",
      "text/plain": [
       "<Figure size 432x288 with 1 Axes>"
      ]
     },
     "metadata": {
      "needs_background": "light"
     },
     "output_type": "display_data"
    },
    {
     "name": "stdout",
     "output_type": "stream",
     "text": [
      " 6.13643   -5.11781    0.46798   0.293649  \n",
      "-5.11781    5.51366  -0.331358  -0.317534  \n",
      " 0.46798  -0.331358     1.0236  -0.293954  \n",
      "0.293649  -0.317534  -0.293954   0.825004  \n"
     ]
    }
   ],
   "source": [
    "correlation_matrix = compute_M_cal(n,p,Dc,M_mean, True)\n",
    "matprint(correlation_matrix)"
   ]
  },
  {
   "cell_type": "markdown",
   "metadata": {},
   "source": [
    "## 3ème étape\n",
    "Let's compute optimal labels"
   ]
  },
  {
   "cell_type": "code",
   "execution_count": 20,
   "metadata": {},
   "outputs": [],
   "source": [
    "# a revoir ?\n",
    "\n",
    "def label_evaluation(nb_tasks, nb_classes, Dc, M_estimated):\n",
    "    \"\"\"\n",
    "    Evalue le label y pour une tache t pour 2 classes\n",
    "    \"\"\"\n",
    "    inverse = np.linalg.inv(M_estimated+np.identity(nb_classes*nb_tasks))\n",
    "    power_dc = power_diagonal_matrix(Dc, -1/2)\n",
    "    et1_et2 = np.zeros((nb_tasks*nb_classes,1))\n",
    "    y = np.empty((nb_tasks*nb_classes, 1))\n",
    "    for t in range(nb_tasks):\n",
    "        et1_et2 = np.zeros((nb_tasks*nb_classes,1))\n",
    "        for l in range(nb_classes):\n",
    "            #print(t*nb_tasks+l)\n",
    "            et1_et2[t*nb_tasks+l] = 1 if l == 0 else -1\n",
    "        #print(et1_et2)\n",
    "        y[t*nb_tasks] = (power_dc.dot(inverse).dot(M_estimated).dot(power_dc).dot(et1_et2))[t*nb_tasks]\n",
    "        y[t*nb_tasks+1] = (power_dc.dot(inverse).dot(M_estimated).dot(power_dc).dot(et1_et2))[t*nb_tasks+1]\n",
    "    return y\n",
    "#malik's formula:\n",
    "#tilde_y=(diag(c)*MM*diag(c)/co+diag(c))\\((e3-e4)'*MM*diag(c))';\n",
    "#\\ : pour résoudre un systeme A\\B => x solution de Ax=B"
   ]
  },
  {
   "cell_type": "code",
   "execution_count": 21,
   "metadata": {},
   "outputs": [
    {
     "name": "stdout",
     "output_type": "stream",
     "text": [
      "optimal labels for a 2-task 2-class example with synthetic gaussian data : \n",
      " 2.04196  \n",
      "-1.97836  \n",
      " 25.2324  \n",
      "-22.9238  \n"
     ]
    },
    {
     "data": {
      "text/plain": [
       "(4, 1)"
      ]
     },
     "execution_count": 21,
     "metadata": {},
     "output_type": "execute_result"
    }
   ],
   "source": [
    "y = label_evaluation(t,m,Dc,correlation_matrix)\n",
    "print(\"optimal labels for a 2-task 2-class example with synthetic gaussian data : \")\n",
    "matprint(y)\n",
    "y.shape"
   ]
  },
  {
   "cell_type": "markdown",
   "metadata": {},
   "source": [
    "## 4ème étape\n",
    "Estimation des $m_{tj}$, étant les $k\\times m$ moyennes estimées pour modéliser nos données."
   ]
  },
  {
   "cell_type": "code",
   "execution_count": 22,
   "metadata": {},
   "outputs": [],
   "source": [
    "def asymptotic_mean(nb_tasks, nb_classes, y_tilde, Dc, correlation_matrix, t, j):\n",
    "    \"\"\"\n",
    "    compute asymptotic mean m_tj\n",
    "    t current task\n",
    "    j current class\n",
    "    \"\"\"\n",
    "    y_transpose = np.transpose(y_tilde)\n",
    "    etj = np.zeros((nb_tasks*nb_classes, 1))\n",
    "    etj[t*nb_tasks+j] = 1\n",
    "    power_dc = power_diagonal_matrix(Dc, -1/2)\n",
    "    # Dc^1/2 ou Dc^{-1/2} ?\n",
    "    m_tj = y_transpose.dot(np.power(Dc, 1/2)).dot(correlation_matrix).dot(power_dc).dot(etj)\n",
    "    m_tj /= np.sqrt(y_transpose.dot(np.power(Dc, 1/2).dot(correlation_matrix).dot(np.power(Dc, 1/2)) + Dc).dot(y_tilde))\n",
    "    return m_tj[0][0]"
   ]
  },
  {
   "cell_type": "code",
   "execution_count": 23,
   "metadata": {},
   "outputs": [
    {
     "name": "stdout",
     "output_type": "stream",
     "text": [
      "m_kl = 2.318869849082946\n",
      "m_kl = -2.105395857703411\n",
      "m_kl = 3.8765704674963684\n",
      "m_kl = -2.0311328005355715\n"
     ]
    }
   ],
   "source": [
    "for k in range(t):\n",
    "    for l in range(m):\n",
    "        print(f\"m_kl = {asymptotic_mean(t, m, y, Dc, correlation_matrix, k, l)}\")"
   ]
  },
  {
   "cell_type": "markdown",
   "metadata": {},
   "source": [
    "Les valeurs ont l'air particulièrement grandes par rapport aux moyennes empiriques trouvées."
   ]
  },
  {
   "cell_type": "markdown",
   "metadata": {},
   "source": [
    "## 5ème étape\n",
    "Calcul de $V$ le sous-espace engendrés par les $\\tau$ plus grands vecteurs propres. Dans le cas du binary MTL-SPCA, $V=\\frac{Xy}{\\lVert Xy \\rVert}=\\frac{XJ\\tilde{y}}{\\lVert XJ\\tilde{y} \\rVert}\\in\\mathbb{R}^{p\\times1}$, avec $J\\in\\mathbb{R}^{n\\times km}$"
   ]
  },
  {
   "cell_type": "code",
   "execution_count": 24,
   "metadata": {},
   "outputs": [],
   "source": [
    "def aggregate_array(X, p, n, nb_tasks, nb_classes):\n",
    "    X_aggregated = np.empty((p, n))\n",
    "    class_1 = X[0][0]\n",
    "    for t in range(nb_tasks):\n",
    "        for l in range(nb_classes):\n",
    "            if t==0 and l==0:\n",
    "                continue\n",
    "            class_1 = np.append(class_1, X[t][l], 1)\n",
    "    X_aggregated = class_1\n",
    "    return X_aggregated"
   ]
  },
  {
   "cell_type": "code",
   "execution_count": 25,
   "metadata": {},
   "outputs": [
    {
     "name": "stdout",
     "output_type": "stream",
     "text": [
      "(100, 1680)\n"
     ]
    }
   ],
   "source": [
    "X_train_aggregated = aggregate_array(X_train, p, n, t, m)\n",
    "X_test_aggregated = aggregate_array(X_train, p, n, t, m)\n",
    "print(X_train_aggregated.shape)"
   ]
  },
  {
   "cell_type": "markdown",
   "metadata": {},
   "source": [
    "$V=\\frac{Xy}{\\lVert Xy \\rVert}=\\frac{XJ\\tilde{y}}{\\lVert XJ\\tilde{y} \\rVert}$"
   ]
  },
  {
   "cell_type": "code",
   "execution_count": 26,
   "metadata": {},
   "outputs": [],
   "source": [
    "def compute_V(y_tilde, X, J):\n",
    "    xy_product = X.dot(J).dot(y_tilde)\n",
    "    return xy_product/np.linalg.norm(xy_product)"
   ]
  },
  {
   "cell_type": "code",
   "execution_count": 27,
   "metadata": {},
   "outputs": [],
   "source": [
    "def create_J(nb_classes, nb_tasks, n, n_t):\n",
    "    # enlever paramètre n\n",
    "    left = 0\n",
    "    beg = 0\n",
    "    for i in range(nb_tasks):\n",
    "        left += int(sum(n_t[i]))\n",
    "    J = np.zeros((left, nb_tasks*nb_classes))\n",
    "    #matprint(J)\n",
    "    for t in range(nb_tasks):\n",
    "        for j in range(nb_classes):\n",
    "            for i in range(beg, beg+n_t[t][j]):\n",
    "                J[i][t*nb_tasks+j] = 1\n",
    "            beg += n_t[t][j]\n",
    "    return J"
   ]
  },
  {
   "cell_type": "code",
   "execution_count": 28,
   "metadata": {},
   "outputs": [],
   "source": [
    "J = create_J(m, t, n, n_t_train)\n",
    "#matprint(J)\n",
    "# revoir J\n",
    "#x = np.random.normal(0, 1, size=(p,1))\n",
    "#compute_score(y, J, X, x)"
   ]
  },
  {
   "cell_type": "code",
   "execution_count": 29,
   "metadata": {
    "scrolled": true
   },
   "outputs": [
    {
     "name": "stdout",
     "output_type": "stream",
     "text": [
      "   0.732137  \n",
      " -0.0380928  \n",
      "   0.013481  \n",
      "-0.00468477  \n",
      "-0.00127311  \n",
      "  -0.133351  \n",
      "-0.00260045  \n",
      " -0.0441661  \n",
      "-0.00759366  \n",
      " -0.0730937  \n",
      "  0.0109388  \n",
      " -0.0109401  \n",
      "  0.0178242  \n",
      " -0.0685805  \n",
      "  0.0710977  \n",
      "    0.01615  \n",
      "  0.0348283  \n",
      "  0.0251735  \n",
      " -0.0311893  \n",
      "   0.012195  \n",
      "  0.0923413  \n",
      "0.000349767  \n",
      "  0.0074747  \n",
      "  0.0374123  \n",
      "  0.0461354  \n",
      "    -0.1167  \n",
      "  0.0236077  \n",
      "  0.0175152  \n",
      "  0.0860179  \n",
      "-0.00909643  \n",
      "-0.00796777  \n",
      "  0.0145565  \n",
      "  0.0725853  \n",
      " -0.0625318  \n",
      " 0.00575613  \n",
      " -0.0519915  \n",
      "-0.00364439  \n",
      " -0.0613204  \n",
      " -0.0387506  \n",
      "  0.0583373  \n",
      " -0.0484026  \n",
      "  -0.051594  \n",
      "-0.00256187  \n",
      "  0.0043738  \n",
      "  0.0209822  \n",
      "  0.0028663  \n",
      "-0.00119502  \n",
      " -0.0695184  \n",
      "  0.0574901  \n",
      "  0.0172145  \n",
      "  0.0218353  \n",
      "-0.00263457  \n",
      "-0.00938523  \n",
      " -0.0482365  \n",
      " -0.0372698  \n",
      "   0.088714  \n",
      "  0.0248288  \n",
      " 0.00396813  \n",
      "  -0.110404  \n",
      "   0.031265  \n",
      "  0.0330202  \n",
      "  0.0288882  \n",
      " -0.0374764  \n",
      " -0.0912245  \n",
      "  0.0607426  \n",
      " -0.0742795  \n",
      "  0.0290965  \n",
      " -0.0854699  \n",
      "  0.0183486  \n",
      "  0.0919459  \n",
      "  0.0459808  \n",
      "  0.0310182  \n",
      " -0.0380752  \n",
      "-0.00647416  \n",
      "  0.0307463  \n",
      " 0.00345276  \n",
      "  0.0661518  \n",
      "  -0.065031  \n",
      " 0.00979215  \n",
      "  0.0127796  \n",
      " -0.0542694  \n",
      "   0.090718  \n",
      "-0.00904342  \n",
      "  0.0117022  \n",
      " -0.0175428  \n",
      "  0.0883728  \n",
      " 0.00181153  \n",
      "  0.0477794  \n",
      " -0.0347136  \n",
      "  0.0445844  \n",
      "  0.0487113  \n",
      " -0.0392445  \n",
      "  0.0210161  \n",
      " -0.0240435  \n",
      "  -0.111736  \n",
      " -0.0308961  \n",
      "  0.0219178  \n",
      " -0.0244234  \n",
      "  0.0347496  \n",
      "   0.480605  \n"
     ]
    }
   ],
   "source": [
    "V = compute_V(y, X_train_aggregated, J)\n",
    "V.shape\n",
    "matprint(V)"
   ]
  },
  {
   "cell_type": "markdown",
   "metadata": {},
   "source": [
    "## 6ème étape\n",
    "Evaluation de nouvelles données $\\mathbf{x}$ : \n",
    "$V^T\\mathbf{x}$\n",
    "\n",
    "On utilise les données du test set $X\\_test$. On obtient de très mauvais résultats"
   ]
  },
  {
   "cell_type": "code",
   "execution_count": 30,
   "metadata": {},
   "outputs": [],
   "source": [
    "def create_mt(t, m, y, Dc, correlation_matrix):\n",
    "    m_t = []\n",
    "    for k in range(t):\n",
    "        m_tj = []\n",
    "        for l in range(m):\n",
    "            m_tj.append(asymptotic_mean(t, m, y, Dc, correlation_matrix, k, l))\n",
    "        m_t.append(m_tj)\n",
    "\n",
    "    return m_t"
   ]
  },
  {
   "cell_type": "code",
   "execution_count": 31,
   "metadata": {},
   "outputs": [
    {
     "name": "stdout",
     "output_type": "stream",
     "text": [
      "[[2.318869849082946, -2.105395857703411], [3.8765704674963684, -2.0311328005355715]]\n"
     ]
    }
   ],
   "source": [
    "m_t = create_mt(t, m, y, Dc, correlation_matrix)\n",
    "print(m_t)"
   ]
  },
  {
   "cell_type": "code",
   "execution_count": 32,
   "metadata": {},
   "outputs": [],
   "source": [
    "def compute_score(V, x, m_t):\n",
    "    \"\"\"\n",
    "    x vecteur aléatoire que l'on veut classifier\n",
    "    On compare V^Tx à la moyenne des moyennes estimées pour les deux classes de la tache t\n",
    "    \"\"\"\n",
    "    x_projection = np.transpose(V).dot(x)\n",
    "    average_mean = 1/2*(m_t[0] + m_t[1])\n",
    "    return (1 if x_projection > average_mean else -1) "
   ]
  },
  {
   "cell_type": "code",
   "execution_count": 33,
   "metadata": {},
   "outputs": [],
   "source": [
    "from scipy import special as sp\n",
    "def qfunc(x):\n",
    "    return 0.5*sp.erfc(x/np.sqrt(2))"
   ]
  },
  {
   "cell_type": "code",
   "execution_count": 34,
   "metadata": {},
   "outputs": [],
   "source": [
    "def error_rate(m_t, t, nb_tasks, nb_classes, Dc, M_cur):\n",
    "    #return qfunc(1/2*(m_t[0] - m_t[1]))\n",
    "    #quelle fonction prendre ?\n",
    "    print(\"M gothique = \")\n",
    "    matprint(M_cur)\n",
    "    et1_et2 = np.zeros((nb_tasks*nb_classes, 1))\n",
    "    et1_et2[t*nb_tasks] = 1\n",
    "    et1_et2[t*nb_tasks+1] = -1\n",
    "    power_dc = power_diagonal_matrix(Dc, -1/2)\n",
    "    inv = np.linalg.inv(M_cur+np.identity(2*nb_tasks))\n",
    "    et_trans = np.transpose(et1_et2)\n",
    "    return qfunc(1/2*np.sqrt(et_trans.dot(power_dc).dot(M_cur).dot(inv).dot(M_cur).dot(power_dc).dot(et1_et2)))\n",
    "#erfc(sqrt(e3'*MM*diag(c)*inv((diag(c)*MM*diag(c)+diag(co*c/k)))*diag(c)*MM*e3)/(sqrt(2)))/2;"
   ]
  },
  {
   "cell_type": "code",
   "execution_count": 35,
   "metadata": {},
   "outputs": [],
   "source": [
    "def plot_error_rate(nb_tasks, nb_classes, emp_rate, error_rate, m_t, Dc, M_cur):\n",
    "    plt.scatter(range(nb_tasks), emp_rate, label=\"empirical error\")\n",
    "    plt.scatter(range(nb_tasks), [error_rate(m_t[i], i, nb_tasks, nb_classes, Dc, M_cur) for i in range(nb_tasks)], label=\"theoritical error\")\n",
    "    plt.grid()\n",
    "    plt.ylim((0,1))\n",
    "    plt.xlim((-0.5, 0.5))\n",
    "    plt.legend()\n",
    "    plt.title(f\"Classification error rate per task\")\n",
    "    plt.show()"
   ]
  },
  {
   "cell_type": "code",
   "execution_count": 36,
   "metadata": {},
   "outputs": [],
   "source": [
    "def compute_error_rate(X_test, V, m_t, nb_tasks, nb_classes, n_t, Dc, M_cur, display = False):\n",
    "    \"\"\"\n",
    "    Compute and plot classification error rate on test set\n",
    "    \"\"\"\n",
    "    emp_rate = []\n",
    "    error = 0\n",
    "    n = 0\n",
    "    for t in range(nb_tasks):\n",
    "        error = 0\n",
    "        n = sum(n_t[t])\n",
    "        for l in range(nb_classes):\n",
    "            for i in range(n_t[t][l]):\n",
    "                # on prend la transposée pour pouvoir travailler avec les colonnes\n",
    "                score = compute_score(V, np.transpose(X_test[t][l])[i], m_t[t])\n",
    "                #print(score)\n",
    "                if (score == 1 and l == 1):\n",
    "                    error +=1\n",
    "                elif (score == -1 and l == 0):\n",
    "                    error +=1\n",
    "        emp_rate.append(error/n)\n",
    "       \n",
    "    if display:\n",
    "        plot_error_rate(nb_tasks, nb_classes, emp_rate, error_rate, m_t, Dc, M_cur)\n",
    "    \n",
    "    return np.mean(emp_rate), np.mean([error_rate(m_t[i], i, nb_tasks, nb_classes,  Dc, M_cur) for i in range(nb_tasks)])"
   ]
  },
  {
   "cell_type": "code",
   "execution_count": 37,
   "metadata": {},
   "outputs": [
    {
     "data": {
      "text/plain": [
       "(0.3925, 0.000254356592684607)"
      ]
     },
     "execution_count": 37,
     "metadata": {},
     "output_type": "execute_result"
    }
   ],
   "source": [
    "compute_error_rate(X_test, V, m_t, t, m, n_t_test, Dc, correlation_matrix)"
   ]
  },
  {
   "cell_type": "code",
   "execution_count": 38,
   "metadata": {},
   "outputs": [
    {
     "data": {
      "text/plain": [
       "array([[6.09651668e-05]])"
      ]
     },
     "execution_count": 38,
     "metadata": {},
     "output_type": "execute_result"
    }
   ],
   "source": [
    "error_rate(m_t[1], 1, t, m, Dc, correlation_matrix)"
   ]
  },
  {
   "cell_type": "markdown",
   "metadata": {},
   "source": [
    "# 2-class Gaussian mixture transfer (c.f. Figure 2)"
   ]
  },
  {
   "cell_type": "code",
   "execution_count": 115,
   "metadata": {},
   "outputs": [
    {
     "name": "stdout",
     "output_type": "stream",
     "text": [
      "[[ 1. -1.  0.  0.]\n",
      " [-1.  1.  0.  0.]\n",
      " [ 0.  0.  1. -1.]\n",
      " [ 0.  0. -1.  1.]]\n"
     ]
    },
    {
     "data": {
      "image/png": "[encoded data removed]",
      "text/plain": [
       "<Figure size 432x288 with 1 Axes>"
      ]
     },
     "metadata": {
      "needs_background": "light"
     },
     "output_type": "display_data"
    },
    {
     "name": "stdout",
     "output_type": "stream",
     "text": [
      " 5  -5   0   0  \n",
      "-5   5   0   0  \n",
      " 0   0   5  -5  \n",
      " 0   0  -5   5  \n",
      "[[ 1.  -1.   0.1 -0.1]\n",
      " [-1.   1.  -0.1  0.1]\n",
      " [ 0.1 -0.1  1.  -1. ]\n",
      " [-0.1  0.1 -1.   1. ]]\n"
     ]
    },
    {
     "data": {
      "image/png": "[encoded data removed]",
      "text/plain": [
       "<Figure size 432x288 with 1 Axes>"
      ]
     },
     "metadata": {
      "needs_background": "light"
     },
     "output_type": "display_data"
    },
    {
     "name": "stdout",
     "output_type": "stream",
     "text": [
      "   5    -5   0.5  -0.5  \n",
      "  -5     5  -0.5   0.5  \n",
      " 0.5  -0.5     5    -5  \n",
      "-0.5   0.5    -5     5  \n",
      "[[ 1.  -1.   0.2 -0.2]\n",
      " [-1.   1.  -0.2  0.2]\n",
      " [ 0.2 -0.2  1.  -1. ]\n",
      " [-0.2  0.2 -1.   1. ]]\n"
     ]
    },
    {
     "data": {
      "image/png": "[encoded data removed]",
      "text/plain": [
       "<Figure size 432x288 with 1 Axes>"
      ]
     },
     "metadata": {
      "needs_background": "light"
     },
     "output_type": "display_data"
    },
    {
     "name": "stdout",
     "output_type": "stream",
     "text": [
      " 5  -5   1  -1  \n",
      "-5   5  -1   1  \n",
      " 1  -1   5  -5  \n",
      "-1   1  -5   5  \n",
      "[[ 1.  -1.   0.3 -0.3]\n",
      " [-1.   1.  -0.3  0.3]\n",
      " [ 0.3 -0.3  1.  -1. ]\n",
      " [-0.3  0.3 -1.   1. ]]\n"
     ]
    },
    {
     "data": {
      "image/png": "[encoded data removed]",
      "text/plain": [
       "<Figure size 432x288 with 1 Axes>"
      ]
     },
     "metadata": {
      "needs_background": "light"
     },
     "output_type": "display_data"
    },
    {
     "name": "stdout",
     "output_type": "stream",
     "text": [
      "   5    -5   1.5  -1.5  \n",
      "  -5     5  -1.5   1.5  \n",
      " 1.5  -1.5     5    -5  \n",
      "-1.5   1.5    -5     5  \n",
      "[[ 1.  -1.   0.4 -0.4]\n",
      " [-1.   1.  -0.4  0.4]\n",
      " [ 0.4 -0.4  1.  -1. ]\n",
      " [-0.4  0.4 -1.   1. ]]\n"
     ]
    },
    {
     "data": {
      "image/png": "[encoded data removed]",
      "text/plain": [
       "<Figure size 432x288 with 1 Axes>"
      ]
     },
     "metadata": {
      "needs_background": "light"
     },
     "output_type": "display_data"
    },
    {
     "name": "stdout",
     "output_type": "stream",
     "text": [
      " 5  -5   2  -2  \n",
      "-5   5  -2   2  \n",
      " 2  -2   5  -5  \n",
      "-2   2  -5   5  \n",
      "[[ 1.  -1.   0.5 -0.5]\n",
      " [-1.   1.  -0.5  0.5]\n",
      " [ 0.5 -0.5  1.  -1. ]\n",
      " [-0.5  0.5 -1.   1. ]]\n"
     ]
    },
    {
     "data": {
      "image/png": "[encoded data removed]",
      "text/plain": [
       "<Figure size 432x288 with 1 Axes>"
      ]
     },
     "metadata": {
      "needs_background": "light"
     },
     "output_type": "display_data"
    },
    {
     "name": "stdout",
     "output_type": "stream",
     "text": [
      "   5    -5   2.5  -2.5  \n",
      "  -5     5  -2.5   2.5  \n",
      " 2.5  -2.5     5    -5  \n",
      "-2.5   2.5    -5     5  \n",
      "[[ 1.  -1.   0.6 -0.6]\n",
      " [-1.   1.  -0.6  0.6]\n",
      " [ 0.6 -0.6  1.  -1. ]\n",
      " [-0.6  0.6 -1.   1. ]]\n"
     ]
    },
    {
     "data": {
      "image/png": "[encoded data removed]",
      "text/plain": [
       "<Figure size 432x288 with 1 Axes>"
      ]
     },
     "metadata": {
      "needs_background": "light"
     },
     "output_type": "display_data"
    },
    {
     "name": "stdout",
     "output_type": "stream",
     "text": [
      " 5  -5   3  -3  \n",
      "-5   5  -3   3  \n",
      " 3  -3   5  -5  \n",
      "-3   3  -5   5  \n",
      "[[ 1.  -1.   0.7 -0.7]\n",
      " [-1.   1.  -0.7  0.7]\n",
      " [ 0.7 -0.7  1.  -1. ]\n",
      " [-0.7  0.7 -1.   1. ]]\n"
     ]
    },
    {
     "data": {
      "image/png": "[encoded data removed]",
      "text/plain": [
       "<Figure size 432x288 with 1 Axes>"
      ]
     },
     "metadata": {
      "needs_background": "light"
     },
     "output_type": "display_data"
    },
    {
     "name": "stdout",
     "output_type": "stream",
     "text": [
      "   5    -5   3.5  -3.5  \n",
      "  -5     5  -3.5   3.5  \n",
      " 3.5  -3.5     5    -5  \n",
      "-3.5   3.5    -5     5  \n",
      "[[ 1.  -1.   0.8 -0.8]\n",
      " [-1.   1.  -0.8  0.8]\n",
      " [ 0.8 -0.8  1.  -1. ]\n",
      " [-0.8  0.8 -1.   1. ]]\n"
     ]
    },
    {
     "data": {
      "image/png": "[encoded data removed]",
      "text/plain": [
       "<Figure size 432x288 with 1 Axes>"
      ]
     },
     "metadata": {
      "needs_background": "light"
     },
     "output_type": "display_data"
    },
    {
     "name": "stdout",
     "output_type": "stream",
     "text": [
      " 5  -5   4  -4  \n",
      "-5   5  -4   4  \n",
      " 4  -4   5  -5  \n",
      "-4   4  -5   5  \n",
      "[[ 1.  -1.   0.9 -0.9]\n",
      " [-1.   1.  -0.9  0.9]\n",
      " [ 0.9 -0.9  1.  -1. ]\n",
      " [-0.9  0.9 -1.   1. ]]\n"
     ]
    },
    {
     "data": {
      "image/png": "[encoded data removed]",
      "text/plain": [
       "<Figure size 432x288 with 1 Axes>"
      ]
     },
     "metadata": {
      "needs_background": "light"
     },
     "output_type": "display_data"
    },
    {
     "name": "stdout",
     "output_type": "stream",
     "text": [
      "   5    -5   4.5  -4.5  \n",
      "  -5     5  -4.5   4.5  \n",
      " 4.5  -4.5     5    -5  \n",
      "-4.5   4.5    -5     5  \n",
      "[[ 1. -1.  1. -1.]\n",
      " [-1.  1. -1.  1.]\n",
      " [ 1. -1.  1. -1.]\n",
      " [-1.  1. -1.  1.]]\n"
     ]
    },
    {
     "data": {
      "image/png": "[encoded data removed]",
      "text/plain": [
       "<Figure size 432x288 with 1 Axes>"
      ]
     },
     "metadata": {
      "needs_background": "light"
     },
     "output_type": "display_data"
    },
    {
     "name": "stdout",
     "output_type": "stream",
     "text": [
      " 5  -5   5  -5  \n",
      "-5   5  -5   5  \n",
      " 5  -5   5  -5  \n",
      "-5   5  -5   5  \n",
      "[0.0, 0.0, 0.0, 0.0, 0.0, 0.0, 0.0, 0.0, 0.0, 0.0, 0.0] [1.0039328062150243e-05, 1.0031344213679017e-05, 1.0006614383217816e-05, 9.962606204949598e-06, 9.894341364447001e-06, 9.792824136989342e-06, 9.641531931003922e-06, 9.407882563927661e-06, 9.019087912010004e-06, 8.275261433265957e-06, 6.374837460521032e-06]\n"
     ]
    },
    {
     "data": {
      "image/png": "[encoded data removed]",
      "text/plain": [
       "<Figure size 432x288 with 1 Axes>"
      ]
     },
     "metadata": {
      "needs_background": "light"
     },
     "output_type": "display_data"
    }
   ],
   "source": [
    "n = 4000\n",
    "p = 100\n",
    "m = 2\n",
    "t = 2\n",
    "beta = np.arange(0,1.1,0.1)\n",
    "n_t = [[1000,1000], [1000, 1000]]\n",
    "emp_rate, th_rate = [], []\n",
    "for b in beta:\n",
    "    # on crée les données synthétiques\n",
    "    M = mean_matrix(b, p)\n",
    "    #print(M)\n",
    "    X = gaussian_synthetic_data(n, p, m, t, n_t, M)\n",
    "    #X = normalisation(X, t, m)\n",
    "    # ca change de tout de normaliser\n",
    "    X_train, X_test, n_t_train, n_t_test = train_test_split_data(X, 0.8, t, m)\n",
    "    #y = create_labels(t,m)\n",
    "    \n",
    "    # On calcule les moyennes empiriques\n",
    "    #M_mean = empirical_mean(t, m, X_train, p, n_t_train)\n",
    "    M_mean = true_mean(M, p, t, m)\n",
    "    print(np.transpose(M_mean).dot(M_mean))\n",
    "    c = estimate_c(n_t, n, t, m)\n",
    "    Dc = np.diag(c)\n",
    "    #print(c)\n",
    "    correlation_matrix = compute_M_cal(n,p,Dc,M_mean, display=True)\n",
    "    matprint(correlation_matrix)\n",
    "    y = label_evaluation(t,m,Dc,correlation_matrix)\n",
    "    #print(\"y = \")\n",
    "    #matprint(y)\n",
    "    X_train_aggregated = aggregate_array(X_train, p, n, t, m)\n",
    "    X_test_aggregated = aggregate_array(X_test, p, n, t, m)\n",
    "    J = create_J(m, t, n, n_t_train)\n",
    "    V = compute_V(y, X_train_aggregated, J)\n",
    "    m_t = create_mt(t, m, y, Dc, correlation_matrix)\n",
    "    emp_rate.append(compute_error_rate(X_test, V, m_t, t, m, n_t_test, Dc, correlation_matrix)[0])\n",
    "    th_rate.append(compute_error_rate(X_test, V, m_t, t, m, n_t_test, Dc, correlation_matrix)[1])\n",
    "\n",
    "print(emp_rate, th_rate)\n",
    "    \n",
    "plt.plot(beta, emp_rate, '-o', label='empirical rate')\n",
    "plt.plot(beta, th_rate, '-o', label='theoritical rate')\n",
    "plt.legend()\n",
    "plt.title(\"2-class Gaussian mixture transfer error rate\")\n",
    "plt.xlabel(\"Task relatedness (beta)\")\n",
    "plt.ylabel(\"error rate\")\n",
    "plt.grid()\n",
    "plt.show()"
   ]
  },
  {
   "cell_type": "code",
   "execution_count": 59,
   "metadata": {},
   "outputs": [
    {
     "data": {
      "text/plain": [
       "array([[ 3.67989552,  9.01425245],\n",
       "       [ 9.01425245, 23.04958492]])"
      ]
     },
     "execution_count": 59,
     "metadata": {},
     "output_type": "execute_result"
    }
   ],
   "source": [
    "np.transpose(M_mean).dot(M_mean)"
   ]
  },
  {
   "cell_type": "markdown",
   "metadata": {},
   "source": [
    "# Algorithme distribué 2 tâches 2 classes\n",
    "Bien que certains résultats du précedent algorithmes sont particulèrement inquiétants, essayons de voir comment distribuer l'algorithme sur plusieurs serveurs.\n",
    "\n",
    "Par exemple un serveur demande les moyennes des autres serveurs pour pouvoir obtenir des meilleurs résultats en calculant la moyenne des ses données et la moyenne de toutes les moyennes avant de le renvoyer au serveur principal qui mettra à jour le modèle.\n",
    "\n",
    "Prendre des données synthétiques pour la 1ère tâche à 2 classes, puis rappatrier une ou plusieurs moyennes pour les autres tasks. \n",
    "Faire des comparaisons, avec et sans federated learning."
   ]
  },
  {
   "cell_type": "markdown",
   "metadata": {},
   "source": [
    "### Serveur isolé"
   ]
  },
  {
   "cell_type": "code",
   "execution_count": 40,
   "metadata": {},
   "outputs": [
    {
     "data": {
      "image/png": "[encoded data removed]",
      "text/plain": [
       "<Figure size 432x288 with 1 Axes>"
      ]
     },
     "metadata": {
      "needs_background": "light"
     },
     "output_type": "display_data"
    },
    {
     "data": {
      "image/png": "[encoded data removed]",
      "text/plain": [
       "<Figure size 432x288 with 1 Axes>"
      ]
     },
     "metadata": {
      "needs_background": "light"
     },
     "output_type": "display_data"
    },
    {
     "data": {
      "text/plain": [
       "(0.5, 2.008160918443025e-06)"
      ]
     },
     "execution_count": 40,
     "metadata": {},
     "output_type": "execute_result"
    }
   ],
   "source": [
    "n = 2000\n",
    "p = 100\n",
    "m = 2\n",
    "t = 1\n",
    "n_t = [[1000,1000]]\n",
    "M = mean_random_matrix(m, t, p, 0., 0.5)\n",
    "X = gaussian_synthetic_data(n, p, m, t, n_t, M)\n",
    "X_train, X_test, n_t_train, n_t_test = train_test_split_data(X, 0.8, t, m)\n",
    "y = create_labels(t,m)\n",
    "M_mean = empirical_mean(t, m, X_train, p, n_t_train)\n",
    "c = estimate_c(n_t, n, t, m)\n",
    "Dc = np.diag(c)\n",
    "correlation_matrix = compute_M_cal(n,p,Dc,M_mean, display=True)\n",
    "y = label_evaluation(t,m,Dc,correlation_matrix)\n",
    "X_train_aggregated = aggregate_array(X_train, p, n, t, m)\n",
    "X_test_aggregated = aggregate_array(X_train, p, n, t, m)\n",
    "J = create_J(m, t, n, n_t_train)\n",
    "V = compute_V(y, X_train_aggregated, J)\n",
    "m_t = create_mt(t, m, y, Dc, correlation_matrix)\n",
    "compute_error_rate(X_test, V, m_t, t, m, n_t_test, Dc, correlation_matrix, True)"
   ]
  },
  {
   "cell_type": "markdown",
   "metadata": {},
   "source": [
    "### 2 serveurs \n",
    "L'un des serveurs va demander les moyennes de l'autre pour entraîner le modèle sur ses données et sortir un résultat. \n",
    "\n",
    "L'autre serveur pourrait envoyer sa matrice de corrélation $\\mathcal{M}\\in\\mathbb{R}^{km\\times km}$ et le serveur demandant utiliserait une matrice de corrélation moyennée et pondérée par les poids de chaque dataset (si un dataset est plus grand que l'autr, il faut évidemment le prendre en compte) entre les deux matrices de corrélation.\n",
    "\n",
    "Enfait, non il faut envoyer les moyennes empiriques de chaque classe dans chaque tache (=chaque client) pour pouvoir ensuite calculer $\\mathcal{M}$, car il nous faut aussi les produits scalaires entre les moyennes des différentes tâches."
   ]
  },
  {
   "cell_type": "markdown",
   "metadata": {},
   "source": [
    "Calcul des moyennes empiriques, et calcul de la matrice $M\\in\\mathbb{R}^{p\\times 2k}$\n",
    "$$\\frac{1}{n_{tj}}X_{tj}\\mathbb{1}_{n_{tj}}=\\frac{1}{n_{tj}}\\sum_{l=1}^{n_{tj}}x_{tl}^{(j)}$$\n",
    "\n",
    "Chaque client calcule en local les moyennes empiriques des données et les envoie au serveur central.\n",
    "\n",
    "De la même façcon que précédemment les données de chaque client (=chaque tâche) devront respecter les conditions de non-trivialité."
   ]
  },
  {
   "cell_type": "code",
   "execution_count": 41,
   "metadata": {},
   "outputs": [],
   "source": [
    "def average_correlation_matrix(nb_tasks, nb_classes, matrices, weights):\n",
    "    \"\"\"\n",
    "    Renvoie une matrice de corrélation moyennée et pondérée à partir des différentes matrices de corrélation en input.\n",
    "    matrices est un tableau de matrice 2x2\n",
    "    weights est un tableau avec les différents poids des datasets (i.e. n le nombre de samples dans le dataset)\n",
    "    \"\"\"\n",
    "    nb_matrices = len(matrices)\n",
    "    size = nb_classes*nb_tasks\n",
    "    averaged_M = np.zeros((size, size))\n",
    "    for i in range(size):\n",
    "        for j in range(size):\n",
    "            for idx, mat in enumerate(matrices):\n",
    "                averaged_M[i][j] += mat[i][j]\n",
    "            averaged_M[i][j] /= nb_matrices\n",
    "\n",
    "    return averaged_M"
   ]
  },
  {
   "cell_type": "code",
   "execution_count": 42,
   "metadata": {},
   "outputs": [],
   "source": [
    "def create_clients(k, m):\n",
    "    \"\"\"\n",
    "    Retourne k datasets à m classes gaussiens représentant les k taches  \n",
    "    \"\"\"\n",
    "    pass"
   ]
  },
  {
   "cell_type": "code",
   "execution_count": 43,
   "metadata": {},
   "outputs": [],
   "source": [
    "def central_server(emp_means, k):\n",
    "    \"\"\"\n",
    "    Retourne les taux d'erreur après utilisation des données de tous les clients\n",
    "    \"\"\"\n",
    "    pass"
   ]
  },
  {
   "cell_type": "code",
   "execution_count": 44,
   "metadata": {},
   "outputs": [],
   "source": [
    "# pas fait le cas du j=j' mais j'ai pas l'impression que c'est nécessaire en tout cas pas ici ?\n",
    "# cf remark 1\n",
    "\n",
    "def empirical_mean(nb_tasks, nb_classes, X, p, n_t):\n",
    "    \"\"\"\n",
    "    compute empirical mean for data X\n",
    "    return an 1xp vector being the empirical mean for the random vector X_{tj}\n",
    "    retourne la matrice M\n",
    "    \"\"\"\n",
    "    M = np.empty((nb_classes*nb_tasks, p))\n",
    "    for t in range(nb_tasks):\n",
    "        for l in range(nb_classes):\n",
    "            print(X[t][l].dot(np.ones((n_t[t][l]))).shape)\n",
    "            # print(t*nb_classes+l)\n",
    "            M[t*nb_tasks+l] = X[t][l].dot(np.ones((n_t[t][l])))\n",
    "            M[t*nb_tasks+l] /= n_t[t][l]\n",
    "            #print(f\"class {t*nb_tasks+l} empirical mean = {np.mean(M[t*nb_tasks+l])}\")\n",
    "    return np.transpose(M)"
   ]
  },
  {
   "cell_type": "code",
   "execution_count": 45,
   "metadata": {},
   "outputs": [],
   "source": [
    "def gather_empirical_mean(k, p, emp_means):\n",
    "    \"\"\"\n",
    "    Crée la fonction M (p*2k) avec les moyennes empiriques des différents clients\n",
    "    avec k le nombre de clients(+serveur central)\n",
    "    emp_means est un tableau de taille k qui contient toutes les moyennes empiriques (serveur compris)\n",
    "    \"\"\"\n",
    "    M = np.empty((2*k, p))\n",
    "    for idx, mean in enumerate(emp_means):\n",
    "        mean = np.reshape(mean, (100))\n",
    "        print(mean.shape)\n",
    "        M[idx] = mean\n",
    "    \n",
    "    return M.T"
   ]
  },
  {
   "cell_type": "code",
   "execution_count": 64,
   "metadata": {},
   "outputs": [
    {
     "name": "stdout",
     "output_type": "stream",
     "text": [
      "(100,)\n",
      "(100,)\n",
      "(100,)\n",
      "(100,)\n",
      "(100,)\n",
      "(100,)\n"
     ]
    },
    {
     "data": {
      "image/png": "[encoded data removed]",
      "text/plain": [
       "<Figure size 432x288 with 1 Axes>"
      ]
     },
     "metadata": {
      "needs_background": "light"
     },
     "output_type": "display_data"
    },
    {
     "name": "stdout",
     "output_type": "stream",
     "text": [
      "  17.535   44.5101  0.93635  -0.93635  \n",
      " 44.5101   112.982  2.37679  -2.37679  \n",
      " 0.93635   2.37679        5        -5  \n",
      "-0.93635  -2.37679       -5         5  \n"
     ]
    },
    {
     "ename": "ValueError",
     "evalue": "shapes (100,1600) and (3600,4) not aligned: 1600 (dim 1) != 3600 (dim 0)",
     "output_type": "error",
     "traceback": [
      "\u001b[0;31m---------------------------------------------------------------------------\u001b[0m",
      "\u001b[0;31mValueError\u001b[0m                                Traceback (most recent call last)",
      "\u001b[0;32m<ipython-input-64-ae16013bab42>\u001b[0m in \u001b[0;36m<module>\u001b[0;34m\u001b[0m\n\u001b[1;32m     27\u001b[0m \u001b[0mn_t_train\u001b[0m\u001b[0;34m.\u001b[0m\u001b[0mappend\u001b[0m\u001b[0;34m(\u001b[0m\u001b[0mn_t\u001b[0m\u001b[0;34m[\u001b[0m\u001b[0;36m1\u001b[0m\u001b[0;34m]\u001b[0m\u001b[0;34m)\u001b[0m\u001b[0;34m\u001b[0m\u001b[0;34m\u001b[0m\u001b[0m\n\u001b[1;32m     28\u001b[0m \u001b[0mJ\u001b[0m \u001b[0;34m=\u001b[0m \u001b[0mcreate_J\u001b[0m\u001b[0;34m(\u001b[0m\u001b[0mm\u001b[0m\u001b[0;34m,\u001b[0m \u001b[0;36m2\u001b[0m\u001b[0;34m,\u001b[0m \u001b[0mn\u001b[0m\u001b[0;34m,\u001b[0m \u001b[0mn_t_train\u001b[0m\u001b[0;34m)\u001b[0m\u001b[0;34m\u001b[0m\u001b[0;34m\u001b[0m\u001b[0m\n\u001b[0;32m---> 29\u001b[0;31m \u001b[0mV\u001b[0m \u001b[0;34m=\u001b[0m \u001b[0mcompute_V\u001b[0m\u001b[0;34m(\u001b[0m\u001b[0my\u001b[0m\u001b[0;34m,\u001b[0m \u001b[0mX_train_aggregated\u001b[0m\u001b[0;34m,\u001b[0m \u001b[0mJ\u001b[0m\u001b[0;34m)\u001b[0m\u001b[0;34m\u001b[0m\u001b[0;34m\u001b[0m\u001b[0m\n\u001b[0m\u001b[1;32m     30\u001b[0m \u001b[0mm_t\u001b[0m \u001b[0;34m=\u001b[0m \u001b[0mcreate_mt\u001b[0m\u001b[0;34m(\u001b[0m\u001b[0;36m2\u001b[0m\u001b[0;34m,\u001b[0m \u001b[0mm\u001b[0m\u001b[0;34m,\u001b[0m \u001b[0my\u001b[0m\u001b[0;34m,\u001b[0m \u001b[0mDc\u001b[0m\u001b[0;34m,\u001b[0m \u001b[0mcorrelation_matrix\u001b[0m\u001b[0;34m)\u001b[0m\u001b[0;34m\u001b[0m\u001b[0;34m\u001b[0m\u001b[0m\n\u001b[1;32m     31\u001b[0m \u001b[0mcompute_error_rate\u001b[0m\u001b[0;34m(\u001b[0m\u001b[0mX_test\u001b[0m\u001b[0;34m,\u001b[0m \u001b[0mV\u001b[0m\u001b[0;34m,\u001b[0m \u001b[0mm_t\u001b[0m\u001b[0;34m,\u001b[0m \u001b[0;36m2\u001b[0m\u001b[0;34m,\u001b[0m \u001b[0mm\u001b[0m\u001b[0;34m,\u001b[0m \u001b[0mn_t_test\u001b[0m\u001b[0;34m,\u001b[0m \u001b[0mDc\u001b[0m\u001b[0;34m,\u001b[0m \u001b[0mcorrelation_matrix\u001b[0m\u001b[0;34m,\u001b[0m \u001b[0;32mTrue\u001b[0m\u001b[0;34m)\u001b[0m\u001b[0;34m\u001b[0m\u001b[0;34m\u001b[0m\u001b[0m\n",
      "\u001b[0;32m<ipython-input-26-8f22ed1ea06c>\u001b[0m in \u001b[0;36mcompute_V\u001b[0;34m(y_tilde, X, J)\u001b[0m\n\u001b[1;32m      1\u001b[0m \u001b[0;32mdef\u001b[0m \u001b[0mcompute_V\u001b[0m\u001b[0;34m(\u001b[0m\u001b[0my_tilde\u001b[0m\u001b[0;34m,\u001b[0m \u001b[0mX\u001b[0m\u001b[0;34m,\u001b[0m \u001b[0mJ\u001b[0m\u001b[0;34m)\u001b[0m\u001b[0;34m:\u001b[0m\u001b[0;34m\u001b[0m\u001b[0;34m\u001b[0m\u001b[0m\n\u001b[0;32m----> 2\u001b[0;31m     \u001b[0mxy_product\u001b[0m \u001b[0;34m=\u001b[0m \u001b[0mX\u001b[0m\u001b[0;34m.\u001b[0m\u001b[0mdot\u001b[0m\u001b[0;34m(\u001b[0m\u001b[0mJ\u001b[0m\u001b[0;34m)\u001b[0m\u001b[0;34m.\u001b[0m\u001b[0mdot\u001b[0m\u001b[0;34m(\u001b[0m\u001b[0my_tilde\u001b[0m\u001b[0;34m)\u001b[0m\u001b[0;34m\u001b[0m\u001b[0;34m\u001b[0m\u001b[0m\n\u001b[0m\u001b[1;32m      3\u001b[0m     \u001b[0;32mreturn\u001b[0m \u001b[0mxy_product\u001b[0m\u001b[0;34m/\u001b[0m\u001b[0mnp\u001b[0m\u001b[0;34m.\u001b[0m\u001b[0mlinalg\u001b[0m\u001b[0;34m.\u001b[0m\u001b[0mnorm\u001b[0m\u001b[0;34m(\u001b[0m\u001b[0mxy_product\u001b[0m\u001b[0;34m)\u001b[0m\u001b[0;34m\u001b[0m\u001b[0;34m\u001b[0m\u001b[0m\n",
      "\u001b[0;31mValueError\u001b[0m: shapes (100,1600) and (3600,4) not aligned: 1600 (dim 1) != 3600 (dim 0)"
     ]
    }
   ],
   "source": [
    "n = 2000\n",
    "p = 100\n",
    "m = 2\n",
    "t = 1\n",
    "n_t = [[1000,1000], [1000,1000]]\n",
    "M = mean_random_matrix(m, t, p, 0., 0.5)\n",
    "M1 = np.zeros((p, 1))\n",
    "M2 = np.zeros((p, 1))\n",
    "M1[-1] = 1\n",
    "M2 = -M1\n",
    "X = gaussian_synthetic_data(n, p, m, t, n_t, M)\n",
    "X_train, X_test, n_t_train, n_t_test = train_test_split_data(X, 0.8, t, m)\n",
    "#y = create_labels(t,m)\n",
    "# on calcule les moyennes empiriques des données locales\n",
    "M_mean = empirical_mean(t, m, X_train, p, n_t_train)\n",
    "# on crée la matrice des moyennes empiriques locales et externes\n",
    "M_gathered = gather_empirical_mean(2, p, [M[0][0], M[0][1], M1, M2])\n",
    "c = estimate_c(n_t, n, 2, m)\n",
    "Dc = np.diag(c)\n",
    "correlation_matrix = compute_M_cal(n,p,Dc,M_gathered, display=True)\n",
    "matprint(correlation_matrix)\n",
    "# on calcule les labels optimaux à partir de la matrice de corrélation issue des données locales et externes\n",
    "y = label_evaluation(2,m,Dc,correlation_matrix) \n",
    "X_train_aggregated = aggregate_array(X_train, p, n, t, m)\n",
    "X_test_aggregated = aggregate_array(X_test, p, n, t, m)\n",
    "# on ajoute les longueurs des données externes\n",
    "n_t_train.append(n_t[1])\n",
    "J = create_J(m, 2, n, n_t_train)\n",
    "V = compute_V(y, X_train_aggregated, J)\n",
    "m_t = create_mt(2, m, y, Dc, correlation_matrix)\n",
    "compute_error_rate(X_test, V, m_t, 2, m, n_t_test, Dc, correlation_matrix, True)"
   ]
  },
  {
   "cell_type": "markdown",
   "metadata": {},
   "source": [
    "$(1/n_{tj})\\sum_{m=1}^{n_{tj}} x^{(t)}_{jm}$"
   ]
  },
  {
   "cell_type": "code",
   "execution_count": 52,
   "metadata": {},
   "outputs": [
    {
     "name": "stdout",
     "output_type": "stream",
     "text": [
      "[[800, 800], [[1000, 1000], [50, 50]], [[1000, 1000], [50, 50]]]\n"
     ]
    }
   ],
   "source": [
    "print(n_t_train)"
   ]
  },
  {
   "cell_type": "code",
   "execution_count": null,
   "metadata": {},
   "outputs": [],
   "source": []
  }
 ],
 "metadata": {
  "kernelspec": {
   "display_name": "Python 3",
   "language": "python",
   "name": "python3"
  },
  "language_info": {
   "codemirror_mode": {
    "name": "ipython",
    "version": 3
   },
   "file_extension": ".py",
   "mimetype": "text/x-python",
   "name": "python",
   "nbconvert_exporter": "python",
   "pygments_lexer": "ipython3",
   "version": "3.7.10"
  }
 },
 "nbformat": 4,
 "nbformat_minor": 2
}
