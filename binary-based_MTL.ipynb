{
 "cells": [
  {
   "cell_type": "code",
   "execution_count": 1,
   "metadata": {},
   "outputs": [],
   "source": [
    "%matplotlib inline\n",
    "import numpy as np\n",
    "import matplotlib.pyplot as plt\n",
    "from sklearn.model_selection import train_test_split"
   ]
  },
  {
   "cell_type": "code",
   "execution_count": 2,
   "metadata": {},
   "outputs": [],
   "source": [
    "def matprint(mat, fmt=\"g\"):\n",
    "    \"\"\"\n",
    "    Pour une un print plus clair de la matrice\n",
    "    https://gist.github.com/braingineer/d801735dac07ff3ac4d746e1f218ab75\n",
    "    \"\"\"\n",
    "    col_maxes = [max([len((\"{:\"+fmt+\"}\").format(x)) for x in col]) for col in mat.T]\n",
    "    for x in mat:\n",
    "        for i, y in enumerate(x):\n",
    "            print((\"{:\"+str(col_maxes[i])+fmt+\"}\").format(y), end=\"  \")\n",
    "        print(\"\")"
   ]
  },
  {
   "cell_type": "markdown",
   "metadata": {},
   "source": [
    "# Table of contents\n",
    "* [Algorithme non distribué 2 taches 2 classes](#Algorithme-non-distribué-2-taches-2-classes)\n",
    "     * [1ère étape: Calcul des moyennes empiriques](#1ère-étape)\n",
    "     * [2ème étape: Estimation de $c$ et de $\\mathcal{M}$](#2ème-étape)\n",
    "     * [3ème étape: Calcul des labels optimaux](#3ème-étape)\n",
    "     * [4ème étape: Estimation des $m_{tj}$](#4ème-étape)\n",
    "     * [5ème étape: Calcul de $V$](#5ème-étape)\n",
    "     * [6ème étape: Evaluation et calcul d'erreur](#6ème-étape)\n",
    "* [2-class Gaussian mixture transfer](#2-class-Gaussian-mixture-transfer-(c.f.-Figure-2))\n",
    "* [Algorithme distribué 2-tâches 2-classes](#Algorithme-distribué-2-tâches-2-classes)\n",
    "     * [Serveur isolé](#Serveur-isolé)\n",
    "     "
   ]
  },
  {
   "cell_type": "markdown",
   "metadata": {},
   "source": [
    "Créons des données synthétiques gaussiennes. Ici nous nous intéresserons dans un premier temps au cas où $m=2$. (Binary MTL Supervised Principal Component Analysis) "
   ]
  },
  {
   "cell_type": "markdown",
   "metadata": {},
   "source": [
    "# Algorithme non distribué 2 taches 2 classes\n",
    "Fonctions pour générer des données synthétiques gaussiennes"
   ]
  },
  {
   "cell_type": "code",
   "execution_count": 3,
   "metadata": {},
   "outputs": [],
   "source": [
    "def mean_random_matrix(m, k, p, l, h, random_seed=42):\n",
    "    \"\"\"\n",
    "    Retourne une matrice M de taille pxm*k contenant\n",
    "    les moyennes de chaque composante de chaque vecteur aléatoire\n",
    "    pour l'instant les moyennes sont tirées aléatoirement \n",
    "    suivant la loi uniforme sur l, h (pas convaincu par ce choix)\n",
    "    m est le nombre de classes\n",
    "    k est le nombre de taches\n",
    "    p est le nombre de features\n",
    "    \"\"\"\n",
    "    np.random.seed(random_seed)\n",
    "    M = []\n",
    "    tmp = []\n",
    "    for task in range(k):\n",
    "        tmp = []\n",
    "        for classe in range(m):\n",
    "            # on crée un vecteur de moyennes égales pour chaque classes\n",
    "            # de sorte à créer des classes gravitant autour d'une meme moyenne\n",
    "            tmp.append(np.ones((p,1))*np.random.uniform(low = 0.0, high = h))\n",
    "        M.append(tmp)\n",
    "    return M"
   ]
  },
  {
   "cell_type": "markdown",
   "metadata": {},
   "source": [
    "Si on prend des moyennes de la même façon que dans le papier"
   ]
  },
  {
   "cell_type": "code",
   "execution_count": 4,
   "metadata": {},
   "outputs": [],
   "source": [
    "def mean_matrix(beta, p, random_seed=42):\n",
    "    \"\"\"\n",
    "    Crée des vecteurs de moyennes de la meme facon que dans la figure 2 du papier\n",
    "    \"\"\"\n",
    "    np.random.seed(random_seed)\n",
    "    #mu_1 = np.ones((p,1))*np.random.uniform(low = 0.0, high = 10.)\n",
    "    mu_1 = np.zeros((p,1))\n",
    "    mu_1[0]= 1\n",
    "    perpendicular_vector = np.zeros((p,1))\n",
    "    perpendicular_vector[-1] = 1\n",
    "    mu_2 = beta*mu_1+np.sqrt(1-beta**2)*perpendicular_vector\n",
    "    M = [[mu_1, -mu_1], [mu_2, -mu_2]]\n",
    "    return M"
   ]
  },
  {
   "cell_type": "code",
   "execution_count": 5,
   "metadata": {},
   "outputs": [],
   "source": [
    "def gaussian_synthetic_data(n, p, m, t, n_t, M, random_seed=42):\n",
    "    \"\"\"\n",
    "    Renvoie un tableau de données synthétiques gaussiennes. X[0] accède aux données de la premiere tache.\n",
    "    X[0][1] accede aux données de la deuxieme classe de la premiere tache.\n",
    "    (vecteurs gaussiens de taille n_j * p tq sum(n_j for j) = n)\n",
    "    à partir du nombre d'échantillons n de taille p et du nombre de classe m.\n",
    "    t est le nombre de tâches\n",
    "    n_t est un vecteur comprenant les différentes valeurs n_j pour chaque task\n",
    "    M est la matrice des moyennes de chaque composante \n",
    "    de chaque vecteur aléatoire\n",
    "    \"\"\"\n",
    "    # assert(sum(n_j)/n==1\n",
    "    np.random.seed(random_seed)\n",
    "    X = []\n",
    "    tmp = []\n",
    "    for task in range(t):\n",
    "        # pour une tache on a m classes\n",
    "        tmp = []\n",
    "        for k in range(m):\n",
    "            X_k = np.empty((n_t[task][k], p))\n",
    "            # on prendra la transposée a la fin\n",
    "            #print( n_t[task][k])\n",
    "            for j in range(n_t[task][k]):\n",
    "                # on crée n_j[task][k] vecteurs aléatoires de taille 1xp\n",
    "                # std = 1?\n",
    "                # comment utiliser des vecteurs de moyennes pour générer les données ?\n",
    "                mean = np.reshape(M[task][k], p)\n",
    "                X_k[j] = np.random.multivariate_normal(mean, np.identity(p))\n",
    "                # indice 0 parce que c'est toujours la meme moyenne dans M (pour l'instant ?)\n",
    "            X_k = np.transpose(X_k)\n",
    "            #print(k)\n",
    "            tmp.append(X_k)\n",
    "            # print(\"tmp = \", tmp)\n",
    "        X.append(tmp)\n",
    "            \n",
    "    return X"
   ]
  },
  {
   "cell_type": "code",
   "execution_count": 6,
   "metadata": {},
   "outputs": [],
   "source": [
    "def normalisation(X, p):\n",
    "    for i in range(len(X)):\n",
    "        for j in range(len(X[i])):\n",
    "            X[i][j] *= 1/np.sqrt(p)\n",
    "    \n",
    "    return X"
   ]
  },
  {
   "cell_type": "markdown",
   "metadata": {},
   "source": [
    "## 1ère étape\n",
    "Calcul des moyennes empiriques, et calcul de la matrice $M\\in\\mathbb{R}^{p\\times 2k}$\n",
    "$$\\frac{1}{n_{tj}}X_{tj}\\mathbb{1}_{n_{tj}}=\\frac{1}{n_{tj}}\\sum_{l=1}^{n_{tj}}x_{tl}^{(j)}$$"
   ]
  },
  {
   "cell_type": "code",
   "execution_count": 7,
   "metadata": {},
   "outputs": [],
   "source": [
    "def empirical_mean(nb_tasks, nb_classes, X, p, n_t, display=False):\n",
    "    \"\"\"\n",
    "    Retourne la matrice M avec les produits scalaires croisés\n",
    "    cf. Remark 1\n",
    "    \"\"\"\n",
    "    \n",
    "    M = np.empty((4, 4)) # ici 4x4\n",
    "    for i in range(nb_tasks):\n",
    "        for j in range(nb_classes):\n",
    "            for k in range(nb_tasks):\n",
    "                for l in range(nb_classes):\n",
    "                    if i == k and j == l:\n",
    "                        moitie = int(n_t[i][j]/2)\n",
    "                        #print(f\"i = {i}, j = {j}\")\n",
    "                        print(i*nb_tasks+j, i*nb_tasks+j)\n",
    "#                         print(moitie)\n",
    "#                         print(np.ones((moitie, 1)).T.dot(X[i][j].T[:moitie]).shape)\n",
    "                        M[i*nb_tasks+j][i*nb_tasks+j] = np.ones((moitie, 1)).T@X[i][j].T[:moitie]@X[i][j].T[moitie:].T@np.ones((moitie))\n",
    "                        M[i*nb_tasks+j][i*nb_tasks+j] /= moitie**2\n",
    "                    else:\n",
    "#                         print(i*nb_tasks+j, k*nb_tasks+l)\n",
    "                        M[i*nb_tasks+j][k*nb_tasks+l] = np.ones((n_t[i][j], 1)).T@X[i][j].T@X[k][l]@np.ones((n_t[k][l]))\n",
    "                        M[i*nb_tasks+j][k*nb_tasks+l] /= n_t[i][j]*n_t[k][l]\n",
    "    \n",
    "    if display:\n",
    "        for t in range(nb_tasks):\n",
    "            for l in range(nb_classes):\n",
    "                print(f\"class {t*nb_tasks+l} empirical mean = {np.mean(M[t*nb_tasks+l])}\")\n",
    "                \n",
    "    return M"
   ]
  },
  {
   "cell_type": "code",
   "execution_count": 8,
   "metadata": {},
   "outputs": [],
   "source": [
    "def true_mean(M, p, nb_tasks, nb_classes):\n",
    "    \"\"\"\n",
    "    Retourne un ndarray contenant les vraies moyennes avec lequel on peut travailler\n",
    "    \"\"\"\n",
    "    true_M = np.empty((nb_tasks*nb_classes, p))\n",
    "    for t in range(nb_tasks):\n",
    "        for l in range(nb_classes):\n",
    "            mean = np.reshape(M[t][l], (p,))\n",
    "            true_M[t*nb_tasks+l] = mean\n",
    "\n",
    "    return np.transpose(true_M)"
   ]
  },
  {
   "cell_type": "code",
   "execution_count": 9,
   "metadata": {},
   "outputs": [],
   "source": [
    "# utile pour les puissances négatives\n",
    "def power_diagonal_matrix(D, exponent):\n",
    "    diag = np.zeros(len(D))\n",
    "    for i in range(len(D)):\n",
    "        diag[i] = D[i][i]**exponent\n",
    "    \n",
    "    return np.diag(diag)"
   ]
  },
  {
   "cell_type": "markdown",
   "metadata": {},
   "source": [
    "## 2ème étape\n",
    "Estimer $c$ et $\\mathcal{M}\\in\\mathbb{R}^{2k\\times 2k}$. \n",
    "$c=\\left[ c_{11},\\ldots,c_{km} \\right]^T\\in\\mathbb{R}^{km}$"
   ]
  },
  {
   "cell_type": "code",
   "execution_count": 10,
   "metadata": {},
   "outputs": [],
   "source": [
    "def estimate_c(n_t, n, nb_tasks, nb_classes):\n",
    "    c = np.empty(nb_tasks*nb_classes)\n",
    "    for task in range(nb_tasks):\n",
    "        for m in range(nb_classes):\n",
    "            c[task*nb_tasks+m]=n_t[task][m]/n\n",
    "            \n",
    "    return c"
   ]
  },
  {
   "cell_type": "code",
   "execution_count": 11,
   "metadata": {},
   "outputs": [],
   "source": [
    "def compute_M_cal(n,p,Dc,MM, display=False):\n",
    "    \"\"\"\n",
    "    renvoie la matrice M cursive estimée\n",
    "    \"\"\"\n",
    "    c0 = 2*p/n\n",
    "    correlation_matrix = 1/c0*np.power(Dc, 1/2)@MM@np.power(Dc, 1/2)\n",
    "    if display==True:\n",
    "        plt.imshow(correlation_matrix)\n",
    "        plt.show()\n",
    "    return correlation_matrix"
   ]
  },
  {
   "cell_type": "markdown",
   "metadata": {},
   "source": [
    "## 3ème étape\n",
    "Let's compute optimal labels"
   ]
  },
  {
   "cell_type": "code",
   "execution_count": 30,
   "metadata": {},
   "outputs": [],
   "source": [
    "# a revoir ?\n",
    "\n",
    "def label_evaluation(nb_tasks, nb_classes, Dc, M_estimated, c0):\n",
    "    \"\"\"\n",
    "    Evalue le label y pour une tache t pour 2 classes\n",
    "    \"\"\"\n",
    "    inverse = np.linalg.inv(M_estimated+np.identity(nb_classes*nb_tasks))\n",
    "    power_dc = power_diagonal_matrix(Dc, -1/2)\n",
    "    et1_et2 = np.zeros((nb_tasks*nb_classes,1))\n",
    "    y = np.zeros((nb_tasks*nb_classes, 1))\n",
    "    e3_e4 = np.zeros((nb_tasks*nb_classes,1))\n",
    "    e3_e4[-2] = 1\n",
    "    e3_e4[-1] = -1\n",
    "    y[-2] += (power_dc.dot(inverse).dot(M_estimated).dot(power_dc).dot(e3_e4))[-2]\n",
    "    y[-1] += (power_dc.dot(inverse).dot(M_estimated).dot(power_dc).dot(e3_e4))[-1]\n",
    "    tilde_y=np.linalg.solve((Dc+Dc@M_estimated@Dc*1/c0),(Dc*1/c0@M_estimated@(e3_e4)))\n",
    "    return tilde_y\n",
    "#malik's formula:\n",
    "#tilde_y=(diag(c)*MM*diag(c)/co+diag(c))\\((e3-e4)'*MM*diag(c))';"
   ]
  },
  {
   "cell_type": "markdown",
   "metadata": {},
   "source": [
    "## 4ème étape\n",
    "Estimation des $m_{tj}$, étant les $k\\times m$ moyennes estimées pour modéliser nos données."
   ]
  },
  {
   "cell_type": "code",
   "execution_count": 13,
   "metadata": {},
   "outputs": [],
   "source": [
    "def asymptotic_mean(nb_tasks, nb_classes, y_tilde, Dc, correlation_matrix, t, j):\n",
    "    \"\"\"\n",
    "    compute asymptotic mean m_tj\n",
    "    t current task\n",
    "    j current class\n",
    "    \"\"\"\n",
    "    y_transpose = np.transpose(y_tilde)\n",
    "    etj = np.zeros((nb_tasks*nb_classes, 1))\n",
    "    etj[t*nb_tasks+j] = 1\n",
    "    power_dc = power_diagonal_matrix(Dc, -1/2)\n",
    "    # Dc^1/2 ou Dc^{-1/2} ?\n",
    "    m_tj = y_transpose.dot(np.power(Dc, 1/2)).dot(correlation_matrix).dot(power_dc).dot(etj)\n",
    "    m_tj /= np.sqrt(y_transpose.dot(np.power(Dc, 1/2).dot(correlation_matrix).dot(np.power(Dc, 1/2)) + Dc).dot(y_tilde))\n",
    "    return m_tj[0][0]"
   ]
  },
  {
   "cell_type": "markdown",
   "metadata": {},
   "source": [
    "## 5ème étape\n",
    "Calcul de $V$ le sous-espace engendrés par les $\\tau$ plus grands vecteurs propres. Dans le cas du binary MTL-SPCA, $V=\\frac{Xy}{\\lVert Xy \\rVert}=\\frac{XJ\\tilde{y}}{\\lVert XJ\\tilde{y} \\rVert}\\in\\mathbb{R}^{p\\times1}$, avec $J\\in\\mathbb{R}^{n\\times km}$"
   ]
  },
  {
   "cell_type": "code",
   "execution_count": 14,
   "metadata": {},
   "outputs": [],
   "source": [
    "def aggregate_array(X, p, n, nb_tasks, nb_classes):\n",
    "    X_aggregated = np.empty((p, n))\n",
    "    class_1 = X[0][0]\n",
    "    for t in range(nb_tasks):\n",
    "        for l in range(nb_classes):\n",
    "            if t==0 and l==0:\n",
    "                continue\n",
    "            class_1 = np.append(class_1, X[t][l], 1)\n",
    "    X_aggregated = class_1\n",
    "    return X_aggregated"
   ]
  },
  {
   "cell_type": "markdown",
   "metadata": {},
   "source": [
    "$V=\\frac{Xy}{\\lVert Xy \\rVert}=\\frac{XJ\\tilde{y}}{\\lVert XJ\\tilde{y} \\rVert}$"
   ]
  },
  {
   "cell_type": "code",
   "execution_count": 15,
   "metadata": {},
   "outputs": [],
   "source": [
    "def create_J(nb_classes, nb_tasks, n, n_t):\n",
    "    # enlever paramètre n\n",
    "    left = 0\n",
    "    beg = 0\n",
    "    for i in range(nb_tasks):\n",
    "        left += int(sum(n_t[i]))\n",
    "    J = np.zeros((left, nb_tasks*nb_classes))\n",
    "    #matprint(J)\n",
    "    for t in range(nb_tasks):\n",
    "        for j in range(nb_classes):\n",
    "            for i in range(beg, beg+n_t[t][j]):\n",
    "                J[i][t*nb_tasks+j] = 1\n",
    "            beg += n_t[t][j]\n",
    "    return J"
   ]
  },
  {
   "cell_type": "code",
   "execution_count": 16,
   "metadata": {},
   "outputs": [],
   "source": [
    "def compute_V_old(y_tilde, X, J):\n",
    "    \"\"\"\n",
    "    Utilise la formule explicite de V pour la classification binaire\n",
    "    \"\"\"\n",
    "    xy_product = X.dot(J).dot(y_tilde)\n",
    "    return xy_product/np.linalg.norm(xy_product)\n",
    "\n",
    "def compute_V(y, X, J, n):\n",
    "    \"\"\"\n",
    "    Recalcule V (calcul vecteur propre)\n",
    "    Vstar dans le fichier matlab\n",
    "    Division par p, si les X pas normalisé ?\n",
    "    wtf is wrong with V? \n",
    "    \"\"\"\n",
    "    #X*J*(tilde_y*tilde_y')*J'*X'/n\n",
    "    #print(X.shape)\n",
    "    eigenvalue, V = np.linalg.eig(X.dot(J).dot((y).dot(y.T)).dot(J.T).dot(X.T)/(n))\n",
    "    maximum = eigenvalue[0]\n",
    "    idx_larg = 0\n",
    "    # retrieve the index of the largest eigenvalue\n",
    "    for idx, value in enumerate(eigenvalue):\n",
    "        if value > maximum:\n",
    "            maximum = value\n",
    "            idx_larg = idx\n",
    "    \n",
    "    largest_eigenvalue = np.sort(eigenvalue.real)[-1]\n",
    "    return V.T[idx_larg].real"
   ]
  },
  {
   "cell_type": "markdown",
   "metadata": {},
   "source": [
    "## 6ème étape\n",
    "Evaluation de nouvelles données $\\mathbf{x}$ : \n",
    "$V^T\\mathbf{x}$\n",
    "\n",
    "On utilise les données du test set $X\\_test$. On obtient de très mauvais résultats"
   ]
  },
  {
   "cell_type": "code",
   "execution_count": 17,
   "metadata": {},
   "outputs": [],
   "source": [
    "def create_mt(t, m, y, Dc, correlation_matrix):\n",
    "    m_t = []\n",
    "    for k in range(t):\n",
    "        m_tj = []\n",
    "        for l in range(m):\n",
    "            m_tj.append(asymptotic_mean(t, m, y, Dc, correlation_matrix, k, l))\n",
    "        m_t.append(m_tj)\n",
    "\n",
    "    return m_t"
   ]
  },
  {
   "cell_type": "code",
   "execution_count": 18,
   "metadata": {},
   "outputs": [],
   "source": [
    "def compute_score(V, x, m_t):\n",
    "    \"\"\"\n",
    "    x vecteur aléatoire que l'on veut classifier\n",
    "    On compare V^Tx à la moyenne des moyennes estimées pour les deux classes de la tache t\n",
    "    \"\"\"\n",
    "    x_projection = np.transpose(V).dot(x)\n",
    "    average_mean = 1/2*(m_t[0] + m_t[1])\n",
    "    return (1 if x_projection > 0 else -1) "
   ]
  },
  {
   "cell_type": "code",
   "execution_count": 19,
   "metadata": {},
   "outputs": [],
   "source": [
    "from scipy import special as sp\n",
    "def qfunc(x):\n",
    "    return 0.5-0.5*sp.erf(x/np.sqrt(2))"
   ]
  },
  {
   "cell_type": "code",
   "execution_count": 20,
   "metadata": {},
   "outputs": [],
   "source": [
    "def error_rate(nb_tasks, nb_classes, Dc, M_cur, c0):\n",
    "    e3 = np.zeros((2*nb_classes, 1))\n",
    "    e3[2] = 1\n",
    "    power_dc = power_diagonal_matrix(Dc, -1/2)\n",
    "    inv = np.linalg.inv(M_cur+np.identity(2*2))\n",
    "    print(\"arg q-func : \")\n",
    "    print(e3.T.dot(M_cur).dot(Dc).dot(np.linalg.inv(Dc.dot(M_cur).dot(Dc)+c0*Dc)).dot(Dc).dot(M_cur).dot(e3))\n",
    "    return qfunc(np.sqrt(e3.T.dot(M_cur).dot(Dc).dot(np.linalg.inv(Dc.dot(M_cur).dot(Dc)+c0*Dc)).dot(Dc).dot(M_cur).dot(e3)))\n",
    "    #return qfunc(1/2*np.sqrt(et_trans.dot(power_dc).dot(M_cur).dot(inv).dot(M_cur).dot(power_dc).dot(et1_et2)))\n",
    "#erfc(sqrt(e3'*MM*diag(c)*inv((diag(c)*MM*diag(c)+diag(co*c/k)))*diag(c)*MM*e3)/(sqrt(2)))/2;"
   ]
  },
  {
   "cell_type": "code",
   "execution_count": 21,
   "metadata": {},
   "outputs": [],
   "source": [
    "def plot_error_rate(nb_tasks, nb_classes, emp_rate, error_rate, m_t, Dc, M_cur):\n",
    "    plt.scatter(1, emp_rate, label=\"empirical error\")\n",
    "    plt.scatter(1, [error_rate(m_t[1], nb_tasks, nb_classes, Dc, M_cur)], label=\"theoritical error\")\n",
    "    plt.grid()\n",
    "    plt.ylim((0,1))\n",
    "    plt.xlim((-0.5, 0.5))\n",
    "    plt.legend()\n",
    "    plt.title(f\"Classification error rate per task\")\n",
    "    plt.show()"
   ]
  },
  {
   "cell_type": "code",
   "execution_count": 22,
   "metadata": {},
   "outputs": [],
   "source": [
    "def compute_error_rate(X_test, V, m_t, nb_tasks, nb_classes, n_t, Dc, c0):\n",
    "    \"\"\"\n",
    "    Compute and plot classification error rate on test set\n",
    "    \"\"\"\n",
    "    print(\"mt1= \\n\", m_t[1])\n",
    "    emp_rate = []\n",
    "    error = 0\n",
    "    ni = 0\n",
    "    for t in range(nb_tasks):\n",
    "        error = 0\n",
    "        ni = sum(n_t[t])\n",
    "        for l in range(nb_classes):\n",
    "            for i in range(n_t[t][l]):\n",
    "                # on prend la transposée pour pouvoir travailler avec les colonnes\n",
    "                score = compute_score(V, X_test[t][l].T[i], m_t[1])\n",
    "                if (score == 1 and l == 1):\n",
    "                    error +=1\n",
    "                elif (score == -1 and l == 0):\n",
    "                    error +=1\n",
    "        \n",
    "        erreur_emp = error/ni\n",
    "        \n",
    "        if erreur_emp > 0.5:\n",
    "            erreur_emp=1-erreur_emp\n",
    "        emp_rate.append(erreur_emp)\n",
    "    return np.mean(emp_rate)"
   ]
  },
  {
   "cell_type": "code",
   "execution_count": 23,
   "metadata": {},
   "outputs": [],
   "source": [
    "def debug_histogram(V, X_test, n_t):\n",
    "    \"\"\"\n",
    "    Trace l'histogramme de V^T*x_1 et V^T*x_2.\n",
    "    \"\"\"\n",
    "#     print(X1[0][0])\n",
    "#     print(n_t[0][0])\n",
    "    alpha = 0.5\n",
    "    bins = 20\n",
    "    plt.hist(V.T.dot(X_test.T[:n_t[0][0]].T), bins = bins, alpha=alpha, label=r\"$C_1$\")\n",
    "    plt.hist(V.T.dot(X_test.T[n_t[0][0]:].T), bins = bins, alpha=alpha, label=r\"$C_2$\")\n",
    "    plt.title(r\"Histogramme des données de tests projetées sur $V$ : $V^Tx_j$\")\n",
    "    plt.legend()\n",
    "    plt.show()"
   ]
  },
  {
   "cell_type": "markdown",
   "metadata": {},
   "source": [
    "# 2-class Gaussian mixture transfer (c.f. Figure 2)"
   ]
  },
  {
   "cell_type": "code",
   "execution_count": 25,
   "metadata": {},
   "outputs": [],
   "source": [
    "plt.style.use('seaborn-dark-palette')"
   ]
  },
  {
   "cell_type": "code",
   "execution_count": 44,
   "metadata": {},
   "execution_count": 32,
   "metadata": {
    "scrolled": true
   },
   "outputs": [
    {
     "name": "stdout",
     "output_type": "stream",
     "text": [
      "0 0\n",
      "1 1\n",
      "2 2\n",
      "3 3\n",
      " 5  -5      0      0  \n",
      "-5   5      0      0  \n",
      " 0   0   0.25  -0.25  \n",
      " 0   0  -0.25   0.25  \n",
      "y = \n",
      "0.0739595  \n",
      "  0.19497  \n",
      "  18.1018  \n",
      " -17.8097  \n",
      "mt1= \n",
      " [1.5265495094730657, -1.4140355228246124]\n",
      "arg q-func : \n",
      "[[0.5]]\n",
      "[0.26] [0.23975006109347674]\n",
      "0 0\n",
      "1 1\n",
      "2 2\n",
      "3 3\n",
      "        5         -5   0.124226  -0.124226  \n",
      "       -5          5  -0.124226   0.124226  \n",
      " 0.124226  -0.124226       0.25      -0.25  \n",
      "-0.124226   0.124226      -0.25       0.25  \n",
      "y = \n",
      "  0.18107  \n",
      "0.0464908  \n",
      "  17.9556  \n",
      " -17.7479  \n",
      "mt1= \n",
      " [1.4586221643201829, -1.4597179145689578]\n",
      "arg q-func : \n",
      "[[0.50295683]]\n",
      "[0.26, 0.255] [0.23975006109347674, 0.23910189492427802]\n",
      "0 0\n",
      "1 1\n",
      "2 2\n",
      "3 3\n",
      "        5         -5   0.248452  -0.248452  \n",
      "       -5          5  -0.248452   0.248452  \n",
      " 0.248452  -0.248452       0.25      -0.25  \n",
      "-0.248452   0.248452      -0.25       0.25  \n",
      "y = \n",
      " 0.287202  \n",
      "-0.111032  \n",
      "  17.5227  \n",
      " -17.3344  \n",
      "mt1= \n",
      " [1.428185016591924, -1.5405232949622611]\n",
      "arg q-func : \n",
      "[[0.51204094]]\n",
      "[0.26, 0.255, 0.255] [0.23975006109347674, 0.23910189492427802, 0.23712834068265354]\n",
      "0 0\n",
      "1 1\n",
      "2 2\n",
      "3 3\n",
      "        5         -5   0.372678  -0.372678  \n",
      "       -5          5  -0.372678   0.372678  \n",
      " 0.372678  -0.372678       0.25      -0.25  \n",
      "-0.372678   0.372678      -0.25       0.25  \n",
      "y = \n",
      " 0.396267  \n",
      "-0.284887  \n",
      "  16.7716  \n",
      " -16.5308  \n",
      "mt1= \n",
      " [1.4388665177818982, -1.6590171151551878]\n",
      "arg q-func : \n",
      "[[0.52793296]]\n",
      "[0.26, 0.255, 0.255, 0.255] [0.23975006109347674, 0.23910189492427802, 0.23712834068265354, 0.23373859215337528]\n",
      "0 0\n",
      "1 1\n",
      "2 2\n",
      "3 3\n",
      "        5         -5   0.496904  -0.496904  \n",
      "       -5          5  -0.496904   0.496904  \n",
      " 0.496904  -0.496904       0.25      -0.25  \n",
      "-0.496904   0.496904      -0.25       0.25  \n",
      "y = \n",
      "0.512497  \n",
      "-0.48489  \n",
      " 15.6427  \n",
      "-15.2603  \n",
      "mt1= \n",
      " [1.4957978187816547, -1.8192671578787025]\n",
      "arg q-func : \n",
      "[[0.55191434]]\n",
      "[0.26, 0.255, 0.255, 0.255, 0.235] [0.23975006109347674, 0.23910189492427802, 0.23712834068265354, 0.23373859215337528, 0.2287682743173643]\n",
      "0 0\n",
      "1 1\n",
      "2 2\n",
      "3 3\n",
      "       5        -5   0.62113  -0.62113  \n",
      "      -5         5  -0.62113   0.62113  \n",
      " 0.62113  -0.62113      0.25     -0.25  \n",
      "-0.62113   0.62113     -0.25      0.25  \n",
      "y = \n",
      "  0.64092  \n",
      "-0.725509  \n",
      "  14.0359  \n",
      " -13.3884  \n",
      "mt1= \n",
      " [1.605262487694045, -2.026294924265921]\n",
      "arg q-func : \n",
      "[[0.58614748]]\n",
      "[0.26, 0.255, 0.255, 0.255, 0.235, 0.21999999999999997] [0.23975006109347674, 0.23910189492427802, 0.23712834068265354, 0.23373859215337528, 0.2287682743173643, 0.22195637062121154]\n",
      "0 0\n",
      "1 1\n",
      "2 2\n",
      "3 3\n",
      "        5         -5   0.745356  -0.745356  \n",
      "       -5          5  -0.745356   0.745356  \n",
      " 0.745356  -0.745356       0.25      -0.25  \n",
      "-0.745356   0.745356      -0.25       0.25  \n",
      "y = \n",
      "0.787856  \n",
      "-1.03001  \n",
      " 11.7875  \n",
      "-10.6831  \n",
      "mt1= \n",
      " [1.7732535498656423, -2.284466368782498]\n",
      "arg q-func : \n",
      "[[0.63422819]]\n",
      "[0.26, 0.255, 0.255, 0.255, 0.235, 0.21999999999999997, 0.20999999999999996] [0.23975006109347674, 0.23910189492427802, 0.23712834068265354, 0.23373859215337528, 0.2287682743173643, 0.22195637062121154, 0.2129043075952785]\n",
      "0 0\n",
      "1 1\n",
      "2 2\n",
      "3 3\n",
      "        5         -5   0.869582  -0.869582  \n",
      "       -5          5  -0.869582   0.869582  \n",
      " 0.869582  -0.869582       0.25      -0.25  \n",
      "-0.869582   0.869582      -0.25       0.25  \n",
      "y = \n",
      "0.960869  \n",
      "-1.43964  \n",
      " 8.62728  \n",
      " -6.7306  \n",
      "mt1= \n",
      " [2.001404045416579, -2.593601260679709]\n",
      "arg q-func : \n",
      "[[0.70231214]]\n",
      "[0.26, 0.255, 0.255, 0.255, 0.235, 0.21999999999999997, 0.20999999999999996, 0.19] [0.23975006109347674, 0.23910189492427802, 0.23712834068265354, 0.23373859215337528, 0.2287682743173643, 0.22195637062121154, 0.2129043075952785, 0.20100393554334806]\n",
      "0 0\n",
      "1 1\n",
      "2 2\n",
      "3 3\n",
      "        5         -5   0.993808  -0.993808  \n",
      "       -5          5  -0.993808   0.993808  \n",
      " 0.993808  -0.993808       0.25      -0.25  \n",
      "-0.993808   0.993808      -0.25       0.25  \n",
      "y = \n",
      "  1.16338  \n",
      " -2.03877  \n",
      "  4.12279  \n",
      "-0.730181  \n",
      "mt1= \n",
      " [2.2776052454187345, -2.9419012149304313]\n",
      "arg q-func : \n",
      "[[0.80160226]]\n",
      "[0.26, 0.255, 0.255, 0.255, 0.235, 0.21999999999999997, 0.20999999999999996, 0.19, 0.18000000000000005] [0.23975006109347674, 0.23910189492427802, 0.23712834068265354, 0.23373859215337528, 0.2287682743173643, 0.22195637062121154, 0.2129043075952785, 0.20100393554334806, 0.18530737544421827]\n",
      "0 0\n",
      "1 1\n",
      "2 2\n",
      "3 3\n",
      "       5        -5   1.11803  -1.11803  \n",
      "      -5         5  -1.11803   1.11803  \n",
      " 1.11803  -1.11803      0.25     -0.25  \n",
      "-1.11803   1.11803     -0.25      0.25  \n",
      "y = \n",
      " 1.20519  \n",
      "-3.16697  \n",
      "-1.09627  \n",
      " 9.40221  \n",
      "mt1= \n",
      " [2.552551557551375, -3.315087925346169]\n",
      "arg q-func : \n",
      "[[0.95454545]]\n",
      "[0.26, 0.255, 0.255, 0.255, 0.235, 0.21999999999999997, 0.20999999999999996, 0.19, 0.18000000000000005, 0.15500000000000003] [0.23975006109347674, 0.23910189492427802, 0.23712834068265354, 0.23373859215337528, 0.2287682743173643, 0.22195637062121154, 0.2129043075952785, 0.20100393554334806, 0.18530737544421827, 0.16428249171959852]\n",
      "Erreur relative moyenne pour n=4200 et p=200, moyennée sur 10 simulations\n",
      "0.05068679582474015\n"
     ]
    },
    {
     "data": {
      "image/png": "[encoded data removed]",
      "text/plain": [
       "<Figure size 432x288 with 1 Axes>"
      ]
     },
     "metadata": {
      "needs_background": "light"
     },
     "output_type": "display_data"
    }
   ],
   "source": [
    "# %%prun -s cumulative\n",
    "# profiling\n",
    "n = 4200\n",
    "p = 200\n",
    "m = 2\n",
    "t = 2\n",
    "beta = np.linspace(0,1,10)\n",
    "n_t = [[2000,2000], [100, 100]]\n",
    "n_t_test = [[100, 100]]\n",
    "nt = sum(n_t_test[0])\n",
    "emp_rate, th_rate, var, relative_error_rate = [], [], [], []\n",
    "for b in beta:\n",
    "    # on crée les données synthétiques\n",
    "    M = mean_matrix(b, p, 100)\n",
    "#       print(M)\n",
    "    X = gaussian_synthetic_data(n, p, m, t, n_t, M, 100)\n",
    "    X_test = gaussian_synthetic_data(nt, p, m, 1, n_t_test, [M[1]], 100)\n",
    "    \n",
    "#     X = normalisation_old(X, t, m)\n",
    "#     Malik's normalization (dividing by sqrt(p))\n",
    "#     X_train, X_test, n_t_train, n_t_test = train_test_split_data(X, 0.8, t, m)\n",
    "#     y = create_labels(t,m)\n",
    "\n",
    "# DEBUG\n",
    "    #MM1, diag1 = empirical_mean_old(1, m, X, p, [n_t[0]])\n",
    "    # On calcule les moyennes empiriques\n",
    "    MM = empirical_mean(t, m, X, p, n_t)\n",
    "    M_true = true_mean(M, p, t, m)\n",
    "    MM_true = M_true.T@M_true\n",
    "#     print(MM)\n",
    "    c = estimate_c(n_t, n, t, m)\n",
    "    c0 = p/n\n",
    "    Dc = np.diag(c)\n",
    "#     print(\"c = \", c)\n",
    "#     print(\"Correlation Matrix : \")\n",
    "    correlation_matrix = compute_M_cal(n, p, Dc, MM, display=False)\n",
    "    correlation_matrix_true = compute_M_cal(n, p, Dc, MM_true, display=False)\n",
    "    matprint(correlation_matrix_true)\n",
    "    y = label_evaluation(t,m,Dc,MM, c0)\n",
    "    y_true = label_evaluation(t,m,Dc,MM_true, c0)\n",
    "    print(\"y = \")\n",
    "    matprint(y)\n",
    "    X = normalisation(X, p)\n",
    "    X_test = normalisation(X_test, p)\n",
    "    X_train_aggregated = aggregate_array(X, p, n, t, m)\n",
    "    X_test_aggregated = aggregate_array(X_test, p, nt, 1, m)\n",
    "    J = create_J(m, t, n, n_t)\n",
    "    \n",
    "    V = compute_V(y, X_train_aggregated, J, n)\n",
    "    V_true = compute_V(y_true, X_train_aggregated, J, n)\n",
    "#     debug_histogram(V_true, X_test_aggregated, n_t_test)\n",
    "#     print(\"V = \")\n",
    "#     print(V\n",
    "    VTX = V.T@X_test_aggregated\n",
    "    var.append(np.var(VTX))\n",
    "    m_t = create_mt(t, m, y, Dc, correlation_matrix)\n",
    "    m_t_true = create_mt(t, m, y_true, Dc, correlation_matrix_true)\n",
    "    \n",
    "    erreur_empirique = compute_error_rate(X_test, V, m_t, 1, m, n_t_test, Dc, c0)\n",
    "    erreur_theorique = error_rate(t, m,  Dc, MM_true, c0)[0][0]\n",
    "    emp_rate.append(erreur_empirique)\n",
    "    th_rate.append(erreur_theorique)\n",
    "    relative_error_rate.append(abs(erreur_empirique - erreur_theorique)/erreur_theorique)\n",
    "    \n",
    "    print(emp_rate, th_rate)\n",
    "    \n",
    "erreur_relative_moy = np.mean(relative_error_rate)\n",
    "print(f\"Erreur relative moyenne pour n={n} et p={p}, moyennée sur 10 simulations\")\n",
    "print(erreur_relative_moy)\n",
    "\n",
    "lower = np.array(emp_rate) - np.array(var)\n",
    "upper = np.array(emp_rate) + np.array(var)\n",
    "plt.plot(beta, emp_rate, '-o', label='empirical rate')\n",
    "plt.plot(beta, th_rate, '-o', label='theoritical rate')\n",
    "plt.fill_between(beta, lower, upper, alpha=0.2, label=\"variance\")\n",
    "plt.legend()\n",
    "plt.title(\"2-class Gaussian mixture transfer error rate\")\n",
    "plt.xlabel(\"Task relatedness (beta)\")\n",
    "plt.ylabel(\"error rate\")\n",
    "plt.grid()\n",
    "plt.show()"
   ]
  },
  {
   "cell_type": "markdown",
   "metadata": {},
   "source": [
    "Results when doubling n and p proportionately: \n",
    "[0.244, 0.2395, 0.23624999999999996, 0.23624999999999996, 0.22999999999999998, 0.2195, 0.21050000000000002, 0.195, 0.17700000000000005, 0.15674999999999994] \n",
    "[0.23975006109347674, 0.23910189492427802, 0.23712834068265354, 0.23373859215337528, 0.2287682743173643, 0.22195637062121154, 0.2129043075952785, 0.20100393554334806, 0.18530737544421827, 0.16428249171959852]"
   ]
  },
  {
   "cell_type": "code",
   "execution_count": 58,
   "metadata": {
    "scrolled": true
   },
   "outputs": [
    {
     "name": "stdout",
     "output_type": "stream",
     "text": [
      "Erreur relative moyenne pour n=2100 et p=100, moyennée sur 10 simulations et 2000 données de test : 0.051\n",
      "En doublant n et p proportionnellement, l'erreur relative moyenne est divisé par un facteur 4.0\n"
     ]
    },
    {
     "data": {
      "image/png": "[encoded data removed]",
      "text/plain": [
       "<Figure size 432x288 with 1 Axes>"
      ]
     },
     "metadata": {
      "needs_background": "light"
     },
     "output_type": "display_data"
    }
   ],
   "source": [
    "erreur_relative_prec = 0.1591995127638776\n",
    "erreur_relative_moy = np.mean(relative_error_rate)\n",
    "print(f\"Erreur relative moyenne pour n={n} et p={p}, moyennée sur 10 simulations et {nt} données de test : {round(erreur_relative_moy, 3)}\")\n",
    "\n",
    "print(f\"En doublant n et p proportionnellement, l'erreur relative moyenne est divisé par un facteur {np.ceil(erreur_relative_prec/erreur_relative_moy)}\")\n",
    "\n",
    "lower = np.array(emp_rate) - np.array(var)\n",
    "upper = np.array(emp_rate) + np.array(var)\n",
    "plt.plot(beta, emp_rate, '-o', label='empirical rate')\n",
    "plt.plot(beta, th_rate, '-o', label='theoritical rate')\n",
    "plt.fill_between(beta, lower, upper, alpha=0.2, label=\"variance\")\n",
    "plt.legend()\n",
    "plt.title(f\"2-class Gaussian mixture transfer error rate for n={n} and p={p}\")\n",
    "plt.xlabel(\"Task relatedness (beta)\")\n",
    "plt.ylabel(\"error rate\")\n",
    "plt.grid()\n",
    "plt.show()"
   ]
  },
  {
   "cell_type": "code",
   "execution_count": 59,
   "metadata": {
    "collapsed": true
   },
   "outputs": [
    {
     "ename": "ValueError",
     "evalue": "shapes (200,) and (100,1000) not aligned: 200 (dim 0) != 100 (dim 0)",
     "output_type": "error",
     "traceback": [
      "\u001b[0;31m---------------------------------------------------------------------------\u001b[0m",
      "\u001b[0;31mValueError\u001b[0m                                Traceback (most recent call last)",
      "\u001b[0;32m<ipython-input-59-7a8edca8b917>\u001b[0m in \u001b[0;36m<module>\u001b[0;34m\u001b[0m\n\u001b[0;32m----> 1\u001b[0;31m \u001b[0mdebug_histogram\u001b[0m\u001b[0;34m(\u001b[0m\u001b[0mV\u001b[0m\u001b[0;34m,\u001b[0m \u001b[0mX_test_aggregated\u001b[0m\u001b[0;34m,\u001b[0m \u001b[0mn_t_test\u001b[0m\u001b[0;34m)\u001b[0m\u001b[0;34m\u001b[0m\u001b[0;34m\u001b[0m\u001b[0m\n\u001b[0m",
      "\u001b[0;32m<ipython-input-23-79ff84291a90>\u001b[0m in \u001b[0;36mdebug_histogram\u001b[0;34m(V, X_test, n_t)\u001b[0m\n\u001b[1;32m      7\u001b[0m     \u001b[0malpha\u001b[0m \u001b[0;34m=\u001b[0m \u001b[0;36m0.5\u001b[0m\u001b[0;34m\u001b[0m\u001b[0;34m\u001b[0m\u001b[0m\n\u001b[1;32m      8\u001b[0m     \u001b[0mbins\u001b[0m \u001b[0;34m=\u001b[0m \u001b[0;36m20\u001b[0m\u001b[0;34m\u001b[0m\u001b[0;34m\u001b[0m\u001b[0m\n\u001b[0;32m----> 9\u001b[0;31m     \u001b[0mplt\u001b[0m\u001b[0;34m.\u001b[0m\u001b[0mhist\u001b[0m\u001b[0;34m(\u001b[0m\u001b[0mV\u001b[0m\u001b[0;34m.\u001b[0m\u001b[0mT\u001b[0m\u001b[0;34m.\u001b[0m\u001b[0mdot\u001b[0m\u001b[0;34m(\u001b[0m\u001b[0mX_test\u001b[0m\u001b[0;34m.\u001b[0m\u001b[0mT\u001b[0m\u001b[0;34m[\u001b[0m\u001b[0;34m:\u001b[0m\u001b[0mn_t\u001b[0m\u001b[0;34m[\u001b[0m\u001b[0;36m0\u001b[0m\u001b[0;34m]\u001b[0m\u001b[0;34m[\u001b[0m\u001b[0;36m0\u001b[0m\u001b[0;34m]\u001b[0m\u001b[0;34m]\u001b[0m\u001b[0;34m.\u001b[0m\u001b[0mT\u001b[0m\u001b[0;34m)\u001b[0m\u001b[0;34m,\u001b[0m \u001b[0mbins\u001b[0m \u001b[0;34m=\u001b[0m \u001b[0mbins\u001b[0m\u001b[0;34m,\u001b[0m \u001b[0malpha\u001b[0m\u001b[0;34m=\u001b[0m\u001b[0malpha\u001b[0m\u001b[0;34m,\u001b[0m \u001b[0mlabel\u001b[0m\u001b[0;34m=\u001b[0m\u001b[0;34mr\"$C_1$\"\u001b[0m\u001b[0;34m)\u001b[0m\u001b[0;34m\u001b[0m\u001b[0;34m\u001b[0m\u001b[0m\n\u001b[0m\u001b[1;32m     10\u001b[0m     \u001b[0mplt\u001b[0m\u001b[0;34m.\u001b[0m\u001b[0mhist\u001b[0m\u001b[0;34m(\u001b[0m\u001b[0mV\u001b[0m\u001b[0;34m.\u001b[0m\u001b[0mT\u001b[0m\u001b[0;34m.\u001b[0m\u001b[0mdot\u001b[0m\u001b[0;34m(\u001b[0m\u001b[0mX_test\u001b[0m\u001b[0;34m.\u001b[0m\u001b[0mT\u001b[0m\u001b[0;34m[\u001b[0m\u001b[0mn_t\u001b[0m\u001b[0;34m[\u001b[0m\u001b[0;36m0\u001b[0m\u001b[0;34m]\u001b[0m\u001b[0;34m[\u001b[0m\u001b[0;36m0\u001b[0m\u001b[0;34m]\u001b[0m\u001b[0;34m:\u001b[0m\u001b[0;34m]\u001b[0m\u001b[0;34m.\u001b[0m\u001b[0mT\u001b[0m\u001b[0;34m)\u001b[0m\u001b[0;34m,\u001b[0m \u001b[0mbins\u001b[0m \u001b[0;34m=\u001b[0m \u001b[0mbins\u001b[0m\u001b[0;34m,\u001b[0m \u001b[0malpha\u001b[0m\u001b[0;34m=\u001b[0m\u001b[0malpha\u001b[0m\u001b[0;34m,\u001b[0m \u001b[0mlabel\u001b[0m\u001b[0;34m=\u001b[0m\u001b[0;34mr\"$C_2$\"\u001b[0m\u001b[0;34m)\u001b[0m\u001b[0;34m\u001b[0m\u001b[0;34m\u001b[0m\u001b[0m\n\u001b[1;32m     11\u001b[0m     \u001b[0mplt\u001b[0m\u001b[0;34m.\u001b[0m\u001b[0mtitle\u001b[0m\u001b[0;34m(\u001b[0m\u001b[0;34mr\"Histogramme des données de tests projetées sur $V$ : $V^Tx_j$\"\u001b[0m\u001b[0;34m)\u001b[0m\u001b[0;34m\u001b[0m\u001b[0;34m\u001b[0m\u001b[0m\n",
      "\u001b[0;31mValueError\u001b[0m: shapes (200,) and (100,1000) not aligned: 200 (dim 0) != 100 (dim 0)"
     ]
    }
   ],
   "source": [
    "debug_histogram(V, X_test_aggregated, n_t_test)"
   ]
  },
  {
   "cell_type": "markdown",
   "metadata": {},
   "source": [
    "# Algorithme distribué 2 tâches 2 classes\n",
    "Bien que certains résultats du précedent algorithmes sont particulèrement inquiétants, essayons de voir comment distribuer l'algorithme sur plusieurs serveurs.\n",
    "\n",
    "Par exemple un serveur demande les moyennes des autres serveurs pour pouvoir obtenir des meilleurs résultats en calculant la moyenne des ses données et la moyenne de toutes les moyennes avant de le renvoyer au serveur principal qui mettra à jour le modèle.\n",
    "\n",
    "Prendre des données synthétiques pour la 1ère tâche à 2 classes, puis rappatrier une ou plusieurs moyennes pour les autres tasks. \n",
    "Faire des comparaisons, avec et sans federated learning."
   ]
  },
  {
   "cell_type": "markdown",
   "metadata": {},
   "source": [
    "### 2 serveurs \n",
    "#### Federated Learning 2 classes 2 taches\n",
    "Imaginons 1 Serveur central er dex clients. L'un cherche à classifier un certain type d'images, l'autre un deuxième type d'images. Les deux clients sont confrontés un problème de classification binaire sur des images sensiblement similaire (quantifié par le paramètre $\\beta$), et peuvent donc s'aider du training de l'autre pour affiner leur classification.\n",
    "\n",
    "Le premier client entraîne son modèle de classification sur son jeu de données locales. Il espère obtenir de meilleures performances à l'aide du transfer Learning. Les deux clients envoient alors les moyennes empiriques calculées sur leurs donnée locales, au serveur central. Le serveur peut alors calculé la matrice de corrélation $\\mathcal{M}$ et les labels optimaux $\\tilde{y}$. Les clients recoivent les labels optimaux, et peuvent maintenant recalculer le vecteur propre $V$ de $\\displaystyle\\frac{X_ty_ty_t^TX_t^T}{np}$ et inférer sur de nouvelles données $x$."
   ]
  },
  {
   "cell_type": "markdown",
   "metadata": {},
   "source": [
    "Calcul des moyennes empiriques, et calcul de la matrice $M\\in\\mathbb{R}^{p\\times 2k}$\n",
    "$$\\frac{1}{n_{tj}}X_{tj}\\mathbb{1}_{n_{tj}}=\\frac{1}{n_{tj}}\\sum_{l=1}^{n_{tj}}x_{tl}^{(j)}$$\n",
    "\n",
    "Chaque client calcule en local les moyennes empiriques des données et les envoie au serveur central.\n",
    "\n",
    "De la même façcon que précédemment les données de chaque client (=chaque tâche) devront respecter les conditions de non-trivialité."
   ]
  },
  {
   "cell_type": "code",
   "execution_count": 50,
   "metadata": {},
   "outputs": [],
   "source": [
    "def average_correlation_matrix(nb_tasks, nb_classes, matrices, weights):\n",
    "    \"\"\"\n",
    "    Renvoie une matrice de corrélation moyennée et pondérée à partir des différentes matrices de corrélation en input.\n",
    "    matrices est un tableau de matrice 2x2\n",
    "    weights est un tableau avec les différents poids des datasets (i.e. n le nombre de samples dans le dataset)\n",
    "    \"\"\"\n",
    "    nb_matrices = len(matrices)\n",
    "    size = nb_classes*nb_tasks\n",
    "    averaged_M = np.zeros((size, size))\n",
    "    for i in range(size):\n",
    "        for j in range(size):\n",
    "            for idx, mat in enumerate(matrices):\n",
    "                averaged_M[i][j] += mat[i][j]\n",
    "            averaged_M[i][j] /= nb_matrices\n",
    "\n",
    "    return averaged_M"
   ]
  },
  {
   "cell_type": "code",
   "execution_count": 51,
   "metadata": {},
   "outputs": [],
   "source": [
    "def create_clients(k, m):\n",
    "    \"\"\"\n",
    "    Retourne k datasets à m classes gaussiens représentant les k taches  \n",
    "    \"\"\"\n",
    "    pass"
   ]
  },
  {
   "cell_type": "code",
   "execution_count": 52,
   "metadata": {},
   "outputs": [],
   "source": [
    "def central_server(emp_means, k):\n",
    "    \"\"\"\n",
    "    Retourne les taux d'erreur après utilisation des données de tous les clients\n",
    "    \"\"\"\n",
    "    pass"
   ]
  },
  {
   "cell_type": "code",
   "execution_count": 53,
   "metadata": {},
   "outputs": [],
   "source": [
    "def empirical_mean_old(nb_tasks, nb_classes, X, p, n_t):\n",
    "    \"\"\"\n",
    "    compute empirical mean for data \n",
    "    retourne la matrice M de taille px4\n",
    "    \"\"\"\n",
    "    M = np.empty((nb_classes*nb_tasks, p))\n",
    "    diag = []\n",
    "    for t in range(nb_tasks):\n",
    "        for l in range(nb_classes):\n",
    "            M[t*nb_tasks+l] = X[t][l].dot(np.ones((n_t[t][l])))\n",
    "            M[t*nb_tasks+l] /= n_t[t][l]\n",
    "            \n",
    "            moitie = int(n_t[t][l]/2)\n",
    "#             print(\"shape X : \", X[t][l].T[:moitie].T.shape)\n",
    "            mu1 = 1/moitie*X[t][l].T[:moitie].T@np.ones((moitie))\n",
    "            mu2 = 1/moitie*X[t][l].T[moitie:].T@np.ones((moitie))\n",
    "            mu1, mu2 = np.reshape(mu1, (p, 1)), np.reshape(mu2, (p, 1))\n",
    "#             print(mu1.shape)\n",
    "#             print(mu2.shape)\n",
    "            diag.append(mu1.T@mu2)\n",
    "    \n",
    "    return M.T, diag\n",
    "\n",
    "# diag1 = [mu1]\n",
    "#diag_means = [[mu1], [mu2]]\n",
    "\n",
    "def gather_empirical_mean(nb_tasks, nb_classes, emp_means, p, n_t):\n",
    "    \"\"\"\n",
    "    emp_means est un vecteur contenant les moyennes empiriques de chaque tache de chaque classe.\n",
    "    Chaque vecteur de moyennes et de taille px1\n",
    "    Renvoie la matrice M des, produits scalaires entre moyennes empiriques de chaque client\n",
    "    \"\"\"\n",
    "    M = np.empty((4, 4)) # ici 4x4\n",
    "    for i in range(nb_tasks):\n",
    "        for j in range(nb_classes):\n",
    "            for k in range(nb_tasks):\n",
    "                for l in range(nb_classes):\n",
    "                    if i == k and j == l:\n",
    "                        moitie = int(len(emp_means[i*nb_tasks+j])/2)\n",
    "                        #print(f\"i = {i}, j = {j}\")\n",
    "#                         print(i*nb_tasks+j, i*nb_tasks+j)\n",
    "#                         print(moitie)\n",
    "#                         print(np.ones((moitie, 1)).T.dot(X[i][j].T[:moitie]).shape)\n",
    "#                         print(emp_means[i*nb_tasks+j][:moitie].T.shape)\n",
    "                        M[i*nb_tasks+j][i*nb_tasks+j] = diag_means[i*nb_tasks+j]\n",
    "                        print(M[i*nb_tasks+j][i*nb_tasks+j])\n",
    "                    else:\n",
    "#                         print(i*nb_tasks+j, k*nb_tasks+l)\n",
    "#                         print(emp_means[i*nb_tasks+j].T.shape)\n",
    "#                         print(emp_means[k*nb_tasks+l].shape)\n",
    "                        M[i*nb_tasks+j][k*nb_tasks+l] = emp_means[i*nb_tasks+j].T.dot(emp_means[k*nb_tasks+l])\n",
    "#                         print(M[i*nb_tasks+j][k*nb_tasks+l].shape)\n",
    "                \n",
    "    return M"
   ]
  },
  {
   "cell_type": "code",
   "execution_count": 57,
   "metadata": {},
   "outputs": [
    {
     "name": "stdout",
     "output_type": "stream",
     "text": [
      "0.9519238590976167\n",
      "1.0012283015491088\n",
      "0.8242499679418743\n",
      "0.8425394118751374\n"
     ]
    },
    {
     "data": {
      "image/png": "[encoded data removed]",
      "text/plain": [
       "<Figure size 432x288 with 1 Axes>"
      ]
     },
     "metadata": {
      "needs_background": "light"
     },
     "output_type": "display_data"
    },
    {
     "name": "stdout",
     "output_type": "stream",
     "text": [
      "mt1= \n",
      " [1.7963882706803753, -1.7661550095175187]\n",
      "0.9519238590976167\n",
      "1.0012283015491088\n",
      "0.8792566913037924\n",
      "0.8568292059395622\n"
     ]
    },
    {
     "data": {
      "image/png": "[encoded data removed]",
      "text/plain": [
       "<Figure size 432x288 with 1 Axes>"
      ]
     },
     "metadata": {
      "needs_background": "light"
     },
     "output_type": "display_data"
    },
    {
     "name": "stdout",
     "output_type": "stream",
     "text": [
      "mt1= \n",
      " [1.9263421659735371, -1.826137340964544]\n",
      "0.9519238590976167\n",
      "1.0012283015491088\n",
      "0.938149048591546\n",
      "0.8700505080803219\n"
     ]
    },
    {
     "data": {
      "image/png": "[encoded data removed]",
      "text/plain": [
       "<Figure size 432x288 with 1 Axes>"
      ]
     },
     "metadata": {
      "needs_background": "light"
     },
     "output_type": "display_data"
    },
    {
     "name": "stdout",
     "output_type": "stream",
     "text": [
      "mt1= \n",
      " [2.078885911849296, -1.90806618562052]\n",
      "0.9519238590976167\n",
      "1.0012283015491088\n",
      "1.001159537826025\n",
      "0.8821393847765722\n"
     ]
    },
    {
     "data": {
      "image/png": "[encoded data removed]",
      "text/plain": [
       "<Figure size 432x288 with 1 Axes>"
      ]
     },
     "metadata": {
      "needs_background": "light"
     },
     "output_type": "display_data"
    },
    {
     "name": "stdout",
     "output_type": "stream",
     "text": [
      "mt1= \n",
      " [2.2536047874389493, -2.0122747129106897]\n",
      "0.9519238590976167\n",
      "1.0012283015491088\n",
      "1.0687317051464584\n",
      "0.8929738673929286\n"
     ]
    },
    {
     "data": {
      "image/png": "[encoded data removed]",
      "text/plain": [
       "<Figure size 432x288 with 1 Axes>"
      ]
     },
     "metadata": {
      "needs_background": "light"
     },
     "output_type": "display_data"
    },
    {
     "name": "stdout",
     "output_type": "stream",
     "text": [
      "mt1= \n",
      " [2.451109363484066, -2.14058808000217]\n",
      "0.9519238590976167\n",
      "1.0012283015491088\n",
      "1.14163798532105\n",
      "0.9023415477800024\n"
     ]
    },
    {
     "data": {
      "image/png": "[encoded data removed]",
      "text/plain": [
       "<Figure size 432x288 with 1 Axes>"
      ]
     },
     "metadata": {
      "needs_background": "light"
     },
     "output_type": "display_data"
    },
    {
     "name": "stdout",
     "output_type": "stream",
     "text": [
      "mt1= \n",
      " [2.6728049171385644, -2.2964753484130083]\n",
      "0.9519238590976167\n",
      "1.0012283015491088\n",
      "1.221255309026634\n",
      "0.9098637903442919\n"
     ]
    },
    {
     "data": {
      "image/png": "[encoded data removed]",
      "text/plain": [
       "<Figure size 432x288 with 1 Axes>"
      ]
     },
     "metadata": {
      "needs_background": "light"
     },
     "output_type": "display_data"
    },
    {
     "name": "stdout",
     "output_type": "stream",
     "text": [
      "mt1= \n",
      " [2.9203699917634345, -2.485282985550987]\n",
      "0.9519238590976167\n",
      "1.0012283015491088\n",
      "1.3103229618218946\n",
      "0.9147873320270696\n"
     ]
    },
    {
     "data": {
      "image/png": "[encoded data removed]",
      "text/plain": [
       "<Figure size 432x288 with 1 Axes>"
      ]
     },
     "metadata": {
      "needs_background": "light"
     },
     "output_type": "display_data"
    },
    {
     "name": "stdout",
     "output_type": "stream",
     "text": [
      "mt1= \n",
      " [3.1943295258320386, -2.7143942211136545]\n",
      "0.9519238590976167\n",
      "1.0012283015491088\n",
      "1.4158938286886815\n",
      "0.9151727336568933\n"
     ]
    },
    {
     "data": {
      "image/png": "[encoded data removed]",
      "text/plain": [
       "<Figure size 432x288 with 1 Axes>"
      ]
     },
     "metadata": {
      "needs_background": "light"
     },
     "output_type": "display_data"
    },
    {
     "name": "stdout",
     "output_type": "stream",
     "text": [
      "mt1= \n",
      " [3.4901090919201927, -2.993026434229532]\n",
      "0.9519238590976167\n",
      "1.0012283015491088\n",
      "1.6100484574321072\n",
      "0.8911989094976481\n"
     ]
    },
    {
     "data": {
      "image/png": "[encoded data removed]",
      "text/plain": [
       "<Figure size 432x288 with 1 Axes>"
      ]
     },
     "metadata": {
      "needs_background": "light"
     },
     "output_type": "display_data"
    },
    {
     "name": "stdout",
     "output_type": "stream",
     "text": [
      "mt1= \n",
      " [3.792470865992735, -3.344469977671046]\n"
     ]
    },
    {
     "data": {
      "image/png": "[encoded data removed]",
      "text/plain": [
       "<Figure size 432x288 with 1 Axes>"
      ]
     },
     "metadata": {
      "needs_background": "light"
     },
     "output_type": "display_data"
    }
   ],
   "source": [
    "n1 = 2000\n",
    "n2 = 100\n",
    "n = n1+n2\n",
    "p = 100\n",
    "m = 2\n",
    "t = 2\n",
    "beta = np.linspace(0,1,10)\n",
    "n_t = [[int(n1/2),int(n1/2)], [int(n2/2), int(n2/2)]]\n",
    "n_t_test = [[1000, 1000]]\n",
    "nt = sum(n_t_test[0])\n",
    "emp_rate, th_rate = [], []\n",
    "for b in beta:\n",
    "    # on crée les données synthétiques\n",
    "    M = mean_matrix(b, p, 100)\n",
    "#       print(M)\n",
    "    # X1 is the local data of the first client\n",
    "    # normalisation?\n",
    "    X = gaussian_synthetic_data(n, p, m, 2, n_t, M, 100)\n",
    "    # ici on prend exactement les memes données que dans l'algo du dessus.\n",
    "    \n",
    "    X1 = [X[0]]\n",
    "    # X2 is the local data of the second client\n",
    "    X2 = [X[1]]\n",
    "    \n",
    "    # data we want to test on our model, here new data of client n°2\n",
    "    X_test = gaussian_synthetic_data(nt, p, m, 1, n_t_test, [M[1]], 100)\n",
    "    X_test = normalisation(X_test, p)\n",
    "    \n",
    "    \n",
    "    # On calcule les moyennes empiriques sur les données locales\n",
    "    MM1, diag1 = empirical_mean_old(1, m, X1, p, [n_t[0]])\n",
    "    MM2, diag2 = empirical_mean_old(1, m, X2, p, [n_t[1]])\n",
    "    M_true = true_mean(M, p, t, m)\n",
    "#     print(\"MTM : \")\n",
    "#     print(MM1)\n",
    "#     print(MM2)\n",
    "    MM_true = M_true.T@M_true\n",
    "\n",
    "# CENTRAL SERVER\n",
    "    # sending empirical means to central server\n",
    "    MM1T0 = np.reshape(MM1.T[0], (p, 1))\n",
    "    MM1T1 = np.reshape(MM1.T[1], (p, 1))\n",
    "    MM2T0 = np.reshape(MM2.T[0], (p, 1))\n",
    "    MM2T1 = np.reshape(MM2.T[1], (p, 1))\n",
    "    emp_means = [MM1T0, MM1T1, MM2T0, MM2T1]\n",
    "    MM_gathered = gather_empirical_mean(t, m, emp_means, [diag1[0], diag1[1], diag2[0], diag2[1]], p, n_t)\n",
    "#     print(\"MM_gathered : \")\n",
    "#     matprint(MM_gathered)\n",
    "    \n",
    "    c = estimate_c(n_t, n, t, m)\n",
    "    c0 = p/n\n",
    "    Dc = np.diag(c)\n",
    "#     print(\"c = \", c)\n",
    "#     print(\"Correlation Matrix : \")\n",
    "    correlation_matrix = compute_M_cal(n, p, Dc, MM_gathered, display=False)\n",
    "    correlation_matrix_true = compute_M_cal(n, p, Dc, MM_true, display=False)\n",
    "#     matprint(correlation_matrix)\n",
    "#     matprint(correlation_matrix_true)\n",
    "    y = label_evaluation(t,m,Dc,MM_gathered, c0)\n",
    "    y_true = label_evaluation(t,m,Dc,MM_true, c0)\n",
    "#     print(\"y = \")\n",
    "#     matprint(y)\n",
    "    \n",
    "    # when to normalize the data ?\n",
    "    X1 = normalisation(X1, p)\n",
    "    X2 = normalisation(X2, p)\n",
    "    X_test = normalisation(X_test, p)\n",
    "\n",
    "# END CENTRAL SERVER\n",
    "\n",
    "    # Sending back optimal labels to clients\n",
    "    X1_train_aggregated = aggregate_array(X1, p, n1, 1, m)\n",
    "    X2_train_aggregated = aggregate_array(X2, p, n2, 1, m)\n",
    "    X_test_aggregated = aggregate_array(X_test, p, nt, 1, m)\n",
    "    # ou alors créer un J ?\n",
    "#     J = create_J(m, 2, n, n_t)\n",
    "    J1 = create_J(m, 1, n1, [n_t[0]])\n",
    "    J2 = create_J(m, 1, n2, [n_t[1]])\n",
    "    \n",
    "    V1 = compute_V(y[0:2], X1_train_aggregated, J1, n1)\n",
    "    V2 = compute_V(y[2:], X2_train_aggregated, J2, n2)\n",
    "    #V_true = compute_V(y_true, X_train_aggregated, J, n)\n",
    "    # Comme ici c'est le client 2 qui a besoin d'optimiser son classifier on teste sur V2\n",
    "    debug_histogram(V2, X_test_aggregated, n_t_test)\n",
    "#     print(\"V = \")\n",
    "#     print(V)\n",
    "    m_t = create_mt(t, m, y, Dc, correlation_matrix)\n",
    "    m_t_true = create_mt(t, m, y_true, Dc, correlation_matrix_true)\n",
    "    \n",
    "    emp_rate.append(compute_error_rate(X_test, V2, m_t, 1, m, n_t_test, Dc, c0))\n",
    "#     th_rate.append(error_rate(t, m,  Dc, MM_true, c0)[0][0])\n",
    "#     print(emp_rate, th_rate)\n",
    "    \n",
    "# pour pas le recalculer a chaque fois \n",
    "th_rate = [0.23975006109347674, 0.23910189492427802, 0.23712834068265354, 0.23373859215337528, 0.2287682743173643, 0.22195637062121154, 0.2129043075952785, 0.20100393554334806, 0.18530737544421827, 0.16428249171959852]   \n",
    "lower = np.array(emp_rate) - np.array(var)\n",
    "upper = np.array(emp_rate) + np.array(var)\n",
    "plt.plot(beta, emp_rate, '-o', label='empirical rate')\n",
    "plt.plot(beta, th_rate, '-o', label='theoritical rate')\n",
    "plt.fill_between(beta, lower, upper, color='gray', alpha=0.2, label=\"1-std\")\n",
    "plt.legend()\n",
    "plt.title(f\"2-class Gaussian mixture transfer error rate for n={n} and p={p}\")\n",
    "plt.xlabel(\"Task relatedness (beta)\")\n",
    "plt.ylabel(\"error rate\")\n",
    "plt.grid()\n",
    "plt.show()"
   ]
  },
  {
   "cell_type": "markdown",
   "metadata": {},
   "source": [
    "[[ 0.95192386 -0.96953935  0.21400559 -0.04360498]\n",
    " [-0.96953935  1.0012283  -0.21980622  0.07171104]\n",
    " [ 0.21400559 -0.21980622  0.82424997 -1.02778683]\n",
    " [-0.04360498  0.07171104 -1.02778683  0.84253941]]\n",
    " 0.00885528  \n",
    " -0.285474  \n",
    "   19.6689  \n",
    "  -20.3765"
   ]
  },
  {
   "cell_type": "markdown",
   "metadata": {},
   "source": [
    "$(1/n_{tj})\\sum_{m=1}^{n_{tj}} x^{(t)}_{jm}$"
   ]
  },
  {
   "cell_type": "code",
   "execution_count": null,
   "metadata": {},
   "outputs": [],
   "source": [
    "print(n_t_train)"
   ]
  },
  {
   "cell_type": "code",
   "execution_count": 57,
   "metadata": {},
   "outputs": [
    {
     "name": "stdout",
     "output_type": "stream",
     "text": [
      "(100,)\n"
     ]
    }
   ],
   "source": [
    "print(MM1.T[0].T.shape)"
   ]
  },
  {
   "cell_type": "code",
   "execution_count": null,
   "metadata": {},
   "outputs": [],
   "source": [
    "0.951924   -0.969539  0.00972731  -0.0525865  \n",
    " -0.969539     1.00123   0.0966007  -0.0072645  \n",
    "0.00972731   0.0966007    0.876232    -1.67733  \n",
    "-0.0525865  -0.0072645    -1.67733     0.80272 "
   ]
  }
 ],
 "metadata": {
  "kernelspec": {
   "display_name": "Python 3",
   "language": "python",
   "name": "python3"
  },
  "language_info": {
   "codemirror_mode": {
    "name": "ipython",
    "version": 3
   },
   "file_extension": ".py",
   "mimetype": "text/x-python",
   "name": "python",
   "nbconvert_exporter": "python",
   "pygments_lexer": "ipython3",
   "version": "3.7.10"
  }
 },
 "nbformat": 4,
 "nbformat_minor": 2
}
