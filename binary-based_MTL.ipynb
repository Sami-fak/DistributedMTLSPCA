{
 "cells": [
  {
   "cell_type": "code",
   "execution_count": 1,
   "metadata": {},
   "outputs": [],
   "source": [
    "%matplotlib inline\n",
    "import numpy as np\n",
    "import matplotlib.pyplot as plt\n",
    "from sklearn.model_selection import train_test_split"
   ]
  },
  {
   "cell_type": "code",
   "execution_count": 2,
   "metadata": {},
   "outputs": [],
   "source": [
    "def matprint(mat, fmt=\"g\"):\n",
    "    \"\"\"\n",
    "    Pour une un print plus clair de la matrice\n",
    "    https://gist.github.com/braingineer/d801735dac07ff3ac4d746e1f218ab75\n",
    "    \"\"\"\n",
    "    col_maxes = [max([len((\"{:\"+fmt+\"}\").format(x)) for x in col]) for col in mat.T]\n",
    "    for x in mat:\n",
    "        for i, y in enumerate(x):\n",
    "            print((\"{:\"+str(col_maxes[i])+fmt+\"}\").format(y), end=\"  \")\n",
    "        print(\"\")"
   ]
  },
  {
   "cell_type": "markdown",
   "metadata": {},
   "source": [
    "# Table of contents\n",
    "* [Algorithme non distribué 2 taches 2 classes](#Algorithme-non-distribué-2-taches-2-classes)\n",
    "     * [1ère étape: Calcul des moyennes empiriques](#1ère-étape)\n",
    "     * [2ème étape: Estimation de $c$ et de $\\mathcal{M}$](#2ème-étape)\n",
    "     * [3ème étape: Calcul des labels optimaux](#3ème-étape)\n",
    "     * [4ème étape: Estimation des $m_{tj}$](#4ème-étape)\n",
    "     * [5ème étape: Calcul de $V$](#5ème-étape)\n",
    "     * [6ème étape: Evaluation et calcul d'erreur](#6ème-étape)\n",
    "* [2-class Gaussian mixture transfer](#2-class-Gaussian-mixture-transfer-(c.f.-Figure-2))\n",
    "* [Adding Tasks](#Adding-tasks)\n",
    "* [Algorithme distribué 2-tâches 2-classes](#Algorithme-distribué-2-tâches-2-classes)\n",
    "     * [Serveur isolé](#Serveur-isolé)\n",
    "* [Distributively adding tasks](#Distributively-adding-tasks)\n",
    "     * [Working with real data](#Real-Data)\n",
    "* [Algorithme distribué k-tâches 2-classes](#Algorithme-distribué-k-tâches-m-classes)\n",
    "     "
   ]
  },
  {
   "cell_type": "markdown",
   "metadata": {},
   "source": [
    "Créons des données synthétiques gaussiennes. Ici nous nous intéresserons dans un premier temps au cas où $m=2$. (Binary MTL Supervised Principal Component Analysis) "
   ]
  },
  {
   "cell_type": "markdown",
   "metadata": {},
   "source": [
    "# Algorithme non distribué 2 taches 2 classes\n",
    "Fonctions pour générer des données synthétiques gaussiennes"
   ]
  },
  {
   "cell_type": "code",
   "execution_count": 3,
   "metadata": {},
   "outputs": [],
   "source": [
    "def mean_random_matrix(m, k, p, l, h, random_seed=42):\n",
    "    \"\"\"\n",
    "    Retourne une matrice M de taille pxm*k contenant\n",
    "    les moyennes de chaque composante de chaque vecteur aléatoire\n",
    "    pour l'instant les moyennes sont tirées aléatoirement \n",
    "    suivant la loi uniforme sur l, h (pas convaincu par ce choix)\n",
    "    m est le nombre de classes\n",
    "    k est le nombre de taches\n",
    "    p est le nombre de features\n",
    "    \"\"\"\n",
    "    np.random.seed(random_seed)\n",
    "    M = []\n",
    "    tmp = []\n",
    "    for task in range(k):\n",
    "        tmp = []\n",
    "        for classe in range(m):\n",
    "            # on crée un vecteur de moyennes égales pour chaque classes\n",
    "            # de sorte à créer des classes gravitant autour d'une meme moyenne\n",
    "            tmp.append(np.ones((p,1))*np.random.uniform(low = 0.0, high = h))\n",
    "        M.append(tmp)\n",
    "    return M"
   ]
  },
  {
   "cell_type": "code",
   "execution_count": 4,
   "metadata": {},
   "outputs": [],
   "source": [
    "def mean_matrix(p, beta=None, k=2, m=2, random_seed=42, random=False):\n",
    "    \"\"\"\n",
    "    Crée des vecteurs de moyennes en respectant les conditions de non trivialité \n",
    "    retourne un tableau contenant k tableaux de m moyennes.\n",
    "    beta est le paramètre de task relatedness. Si beta n'est pas précisé, il est tiré au hasard uniformément sur [0,1] pour chaque t.\n",
    "    k=2, m=2 par défaut\n",
    "    \"\"\"\n",
    "    np.random.seed(random_seed)\n",
    "    mu = np.zeros((p,1))\n",
    "    mu[0]= 1\n",
    "    mu_ortho = np.zeros((p,1))\n",
    "    mu_ortho[-1] = 1\n",
    "    \n",
    "    M = []\n",
    "    classes = []\n",
    "    for l in range(m):\n",
    "        classes.append((-1)**l*mu)\n",
    "    M.append(classes)\n",
    "    \n",
    "    for t in range(1, k):\n",
    "        if random:\n",
    "            print(\"random\")\n",
    "            beta = np.random.uniform(0, 1)\n",
    "        print(\"beta\", beta)\n",
    "        mu_t = beta*mu+np.sqrt(1-beta**2)*mu_ortho\n",
    "        classes = []\n",
    "        for l in range(m):\n",
    "            classes.append((-1)**l*mu_t)\n",
    "        M.append(classes)\n",
    "    return M"
   ]
  },
  {
   "cell_type": "code",
   "execution_count": 5,
   "metadata": {},
   "outputs": [],
   "source": [
    "def gaussian_synthetic_data(n, p, m, t, n_t, M, random_seed=42):\n",
    "    \"\"\"\n",
    "    Renvoie un tableau de données synthétiques gaussiennes. X[0] accède aux données de la premiere tache.\n",
    "    X[0][1] accede aux données de la deuxieme classe de la premiere tache.\n",
    "    (vecteurs gaussiens de taille n_j * p tq sum(n_j for j) = n)\n",
    "    à partir du nombre d'échantillons n de taille p et du nombre de classe m.\n",
    "    t est le nombre de tâches\n",
    "    n_t est un vecteur comprenant les différentes valeurs n_j pour chaque task\n",
    "    M est la matrice des moyennes de chaque composante \n",
    "    de chaque vecteur aléatoire\n",
    "    \"\"\"\n",
    "    # assert(sum(n_j)/n==1\n",
    "    \n",
    "    np.random.seed(random_seed)\n",
    "    X = []\n",
    "    tmp = []\n",
    "    y_test = []\n",
    "    for task in range(t):\n",
    "        # pour une tache on a m classes\n",
    "        tmp = []\n",
    "        for k in range(m):\n",
    "            X_k = np.empty((n_t[task][k], p))\n",
    "            # on prendra la transposée a la fin\n",
    "#             print( n_t[task][k])\n",
    "            for j in range(n_t[task][k]):\n",
    "                # on crée n_j[task][k] vecteurs aléatoires de taille 1xp\n",
    "                # std = 1?\n",
    "                # comment utiliser des vecteurs de moyennes pour générer les données ?\n",
    "                mean = np.reshape(M[task][k], p)\n",
    "                X_k[j] = np.random.multivariate_normal(mean, np.identity(p))\n",
    "                y_test.append(k)\n",
    "            X_k = np.transpose(X_k)\n",
    "            #print(k)\n",
    "            tmp.append(X_k)\n",
    "            # print(\"tmp = \", tmp)\n",
    "        X.append(tmp)\n",
    "            \n",
    "    return X, y_test"
   ]
  },
  {
   "cell_type": "code",
   "execution_count": 6,
   "metadata": {},
   "outputs": [],
   "source": [
    "def normalisation(X, p):\n",
    "    for i in range(len(X)):\n",
    "        for j in range(len(X[i])):\n",
    "            X[i][j] *= 1/np.sqrt(p)\n",
    "    \n",
    "    return X"
   ]
  },
  {
   "cell_type": "markdown",
   "metadata": {},
   "source": [
    "## 1ère étape\n",
    "Calcul des moyennes empiriques, et calcul de la matrice $M\\in\\mathbb{R}^{p\\times 2k}$\n",
    "$$\\frac{1}{n_{tj}}X_{tj}\\mathbb{1}_{n_{tj}}=\\frac{1}{n_{tj}}\\sum_{l=1}^{n_{tj}}x_{tl}^{(j)}$$"
   ]
  },
  {
   "cell_type": "code",
   "execution_count": 7,
   "metadata": {},
   "outputs": [],
   "source": [
    "def empirical_mean(nb_tasks, nb_classes, X, p, n_t, display=False):\n",
    "    \"\"\"\n",
    "    Retourne la matrice M avec les produits scalaires croisés\n",
    "    cf. Remark 1\n",
    "    \"\"\"\n",
    "    \n",
    "    M = np.empty((nb_tasks*nb_classes, nb_tasks*nb_classes)) # ici 4x4\n",
    "    for i in range(nb_tasks):\n",
    "        for j in range(nb_classes):\n",
    "            for k in range(nb_tasks):\n",
    "                for l in range(nb_classes):\n",
    "                    if i == k and j == l:\n",
    "                        moitie = int(n_t[i][j]/2)\n",
    "#                         print(\"DEBUG diagonal\")\n",
    "#                         print(f\"i = {i}, j = {j}\")\n",
    "#                         print(i*nb_classes+j, i*nb_classes+j)\n",
    "#                         print(\"moitie : \", moitie)\n",
    "                        \n",
    "                        M[i*nb_classes+j][i*nb_classes+j] = np.ones((moitie, 1)).T@X[i][j].T[:moitie]@X[i][j].T[moitie:].T@np.ones((moitie))\n",
    "                        M[i*nb_classes+j][i*nb_classes+j] /= moitie**2\n",
    "                    else:\n",
    "#                         print(i*nb_classes+j, k*nb_classes+l)\n",
    "#                         print(i, j, k, l)\n",
    "                        M[i*nb_classes+j][k*nb_classes+l] = np.ones((n_t[i][j], 1)).T@X[i][j].T@X[k][l]@np.ones((n_t[k][l]))\n",
    "                        M[i*nb_classes+j][k*nb_classes+l] /= n_t[i][j]*n_t[k][l]\n",
    "    \n",
    "    if display:\n",
    "        for t in range(nb_tasks):\n",
    "            for l in range(nb_classes):\n",
    "                print(f\"class {t*nb_classes+l} empirical mean = {np.mean(M[t*nb_classes+l])}\")\n",
    "                \n",
    "    return M"
   ]
  },
  {
   "cell_type": "code",
   "execution_count": 8,
   "metadata": {},
   "outputs": [],
   "source": [
    "def true_mean(M, p, nb_tasks, nb_classes):\n",
    "    \"\"\"\n",
    "    Retourne un ndarray contenant les vraies moyennes avec lequel on peut travailler\n",
    "    \"\"\"\n",
    "    true_M = np.empty((nb_tasks*nb_classes, p))\n",
    "    for t in range(nb_tasks):\n",
    "        for l in range(nb_classes):\n",
    "            mean = np.reshape(M[t][l], (p,))\n",
    "            true_M[t*nb_classes+l] = mean\n",
    "\n",
    "    return np.transpose(true_M)"
   ]
  },
  {
   "cell_type": "code",
   "execution_count": 9,
   "metadata": {},
   "outputs": [],
   "source": [
    "# utile pour les puissances négatives\n",
    "def power_diagonal_matrix(D, exponent):\n",
    "    diag = np.zeros(len(D))\n",
    "    for i in range(len(D)):\n",
    "        diag[i] = D[i][i]**exponent\n",
    "    \n",
    "    return np.diag(diag)"
   ]
  },
  {
   "cell_type": "markdown",
   "metadata": {},
   "source": [
    "## 2ème étape\n",
    "Estimer $c$ et $\\mathcal{M}\\in\\mathbb{R}^{2k\\times 2k}$. \n",
    "$c=\\left[ c_{11},\\ldots,c_{km} \\right]^T\\in\\mathbb{R}^{km}$"
   ]
  },
  {
   "cell_type": "code",
   "execution_count": 10,
   "metadata": {},
   "outputs": [],
   "source": [
    "def estimate_c(n_t, n, nb_tasks, nb_classes):\n",
    "    \"\"\"\n",
    "    Estime le vecteur c en divisant n_t[nb_tasks][nb_classes]/n\n",
    "    \"\"\"\n",
    "    c = np.empty(nb_tasks*nb_classes)\n",
    "    for task in range(nb_tasks):\n",
    "        for m in range(nb_classes):\n",
    "            c[task*nb_classes+m]=n_t[task][m]/n\n",
    "            \n",
    "    return c"
   ]
  },
  {
   "cell_type": "code",
   "execution_count": 11,
   "metadata": {},
   "outputs": [],
   "source": [
    "def compute_M_cal(n,p,Dc,MM, k=2, display=False):\n",
    "    \"\"\"\n",
    "    renvoie la matrice M cursive estimée.\n",
    "    O(2*k)\n",
    "    \"\"\"\n",
    "    c0 = k*p/n\n",
    "    correlation_matrix = 1/c0*np.power(Dc, 1/2)@MM@np.power(Dc, 1/2)\n",
    "    if display==True:\n",
    "        plt.imshow(correlation_matrix)\n",
    "        plt.show()\n",
    "    return correlation_matrix"
   ]
  },
  {
   "cell_type": "markdown",
   "metadata": {},
   "source": [
    "## 3ème étape\n",
    "Let's compute optimal labels"
   ]
  },
  {
   "cell_type": "code",
   "execution_count": 12,
   "metadata": {},
   "outputs": [],
   "source": [
    "# a revoir ?\n",
    "\n",
    "def label_evaluation(nb_tasks, nb_classes, Dc, M_estimated, c0, task_target=None):\n",
    "    \"\"\"\n",
    "    Evalue le label y pour une tache t pour 2 classes\n",
    "    task_target=None par défaut, permet de choisir la tâche target en cas d'algo distribué.\n",
    "    \"\"\"\n",
    "    inverse = np.linalg.inv(M_estimated+np.identity(nb_classes*nb_tasks))\n",
    "    # 0(16*k^3)\n",
    "    power_dc = power_diagonal_matrix(Dc, -1/2)\n",
    "    # O(2*k)\n",
    "    y = np.zeros((nb_tasks*nb_classes, 1))\n",
    "    e3_e4 = np.zeros((nb_tasks*nb_classes,1))\n",
    "    if task_target is not None:\n",
    "        e3_e4[2*task_target] = 1\n",
    "        e3_e4[2*task_target+1] = -1\n",
    "    else:\n",
    "        e3_e4[-2] = 1\n",
    "        e3_e4[-1] = -1\n",
    "    tilde_y=np.linalg.solve((Dc+Dc@M_estimated@Dc*1/c0),(Dc*1/c0@M_estimated@(e3_e4)))\n",
    "    # O(8*k^3)\n",
    "    return tilde_y\n",
    "#malik's formula:\n",
    "#tilde_y=(diag(c)*MM*diag(c)/co+diag(c))\\((e3-e4)'*MM*diag(c))';"
   ]
  },
  {
   "cell_type": "markdown",
   "metadata": {},
   "source": [
    "## 4ème étape\n",
    "Estimation des $m_{tj}$, étant les $k\\times m$ moyennes estimées pour modéliser nos données."
   ]
  },
  {
   "cell_type": "code",
   "execution_count": 13,
   "metadata": {},
   "outputs": [],
   "source": [
    "def asymptotic_mean(nb_tasks, nb_classes, y_tilde, Dc, correlation_matrix, t, j):\n",
    "    \"\"\"\n",
    "    compute asymptotic mean m_tj\n",
    "    t current task\n",
    "    j current class\n",
    "    \"\"\"\n",
    "    y_transpose = np.transpose(y_tilde)\n",
    "    etj = np.zeros((nb_tasks*nb_classes, 1))\n",
    "    etj[t*nb_classes+j] = 1\n",
    "    power_dc = power_diagonal_matrix(Dc, -1/2)\n",
    "    # Dc^1/2 ou Dc^{-1/2} ?\n",
    "    m_tj = y_transpose.dot(np.power(Dc, 1/2)).dot(correlation_matrix).dot(power_dc).dot(etj)\n",
    "    m_tj /= np.sqrt(y_transpose.dot(np.power(Dc, 1/2).dot(correlation_matrix).dot(np.power(Dc, 1/2)) + Dc).dot(y_tilde))\n",
    "    return m_tj[0][0]"
   ]
  },
  {
   "cell_type": "markdown",
   "metadata": {},
   "source": [
    "## 5ème étape\n",
    "Calcul de $V$ le sous-espace engendrés par les $\\tau$ plus grands vecteurs propres. Dans le cas du binary MTL-SPCA, $V=\\frac{Xy}{\\lVert Xy \\rVert}=\\frac{XJ\\tilde{y}}{\\lVert XJ\\tilde{y} \\rVert}\\in\\mathbb{R}^{p\\times1}$, avec $J\\in\\mathbb{R}^{n\\times km}$"
   ]
  },
  {
   "cell_type": "code",
   "execution_count": 14,
   "metadata": {},
   "outputs": [],
   "source": [
    "def aggregate_array(X, p, n, nb_tasks, nb_classes):\n",
    "    X_aggregated = np.empty((p, n))\n",
    "    class_1 = X[0][0]\n",
    "    for t in range(nb_tasks):\n",
    "        for l in range(nb_classes):\n",
    "            if t==0 and l==0:\n",
    "                continue\n",
    "            class_1 = np.append(class_1, X[t][l], 1)\n",
    "    X_aggregated = class_1\n",
    "    return X_aggregated"
   ]
  },
  {
   "cell_type": "markdown",
   "metadata": {},
   "source": [
    "$V=\\frac{Xy}{\\lVert Xy \\rVert}=\\frac{XJ\\tilde{y}}{\\lVert XJ\\tilde{y} \\rVert}$"
   ]
  },
  {
   "cell_type": "code",
   "execution_count": 15,
   "metadata": {},
   "outputs": [],
   "source": [
    "def create_J(nb_classes, nb_tasks, n, n_t):\n",
    "    # enlever paramètre n\n",
    "    left = 0\n",
    "    beg = 0\n",
    "    for i in range(nb_tasks):\n",
    "        left += int(sum(n_t[i]))\n",
    "    J = np.zeros((left, nb_tasks*nb_classes))\n",
    "    #matprint(J)\n",
    "    for t in range(nb_tasks):\n",
    "        for j in range(nb_classes):\n",
    "            for i in range(beg, beg+n_t[t][j]):\n",
    "                J[i][t*nb_classes+j] = 1\n",
    "            beg += n_t[t][j]\n",
    "    return J"
   ]
  },
  {
   "cell_type": "code",
   "execution_count": 16,
   "metadata": {},
   "outputs": [],
   "source": [
    "def compute_V_old(y_tilde, X, J):\n",
    "    \"\"\"\n",
    "    Utilise la formule explicite de V pour la classification binaire\n",
    "    \"\"\"\n",
    "    xy_product = X.dot(J).dot(y_tilde)\n",
    "    return xy_product/np.linalg.norm(xy_product)\n",
    "\n",
    "def compute_V(y, X, J, n):\n",
    "    \"\"\"\n",
    "    Recalcule V (calcul vecteur propre)\n",
    "    Vstar dans le fichier matlab\n",
    "    Division par p, si les X pas normalisé ?\n",
    "    wtf is wrong with V? \n",
    "    \"\"\"\n",
    "    #X*J*(tilde_y*tilde_y')*J'*X'/n\n",
    "    #print(X.shape)\n",
    "    eigenvalue, V = np.linalg.eig(X.dot(J).dot((y).dot(y.T)).dot(J.T).dot(X.T)/(n))\n",
    "    maximum = eigenvalue[0]\n",
    "    idx_larg = 0\n",
    "    # retrieve the index of the largest eigenvalue\n",
    "    for idx, value in enumerate(eigenvalue):\n",
    "        if value > maximum:\n",
    "            maximum = value\n",
    "            idx_larg = idx\n",
    "    \n",
    "    largest_eigenvalue = np.sort(eigenvalue.real)[-1]\n",
    "    return V.T[idx_larg].real"
   ]
  },
  {
   "cell_type": "markdown",
   "metadata": {},
   "source": [
    "## 6ème étape\n",
    "Evaluation de nouvelles données $\\mathbf{x}$ : \n",
    "$V^T\\mathbf{x}$\n",
    "\n",
    "On utilise les données du test set $X\\_test$. On obtient de très mauvais résultats"
   ]
  },
  {
   "cell_type": "code",
   "execution_count": 17,
   "metadata": {},
   "outputs": [],
   "source": [
    "def create_mt(t, m, y, Dc, correlation_matrix):\n",
    "    m_t = []\n",
    "    for k in range(t):\n",
    "        m_tj = []\n",
    "        for l in range(m):\n",
    "            m_tj.append(asymptotic_mean(t, m, y, Dc, correlation_matrix, k, l))\n",
    "        m_t.append(m_tj)\n",
    "\n",
    "    return m_t"
   ]
  },
  {
   "cell_type": "code",
   "execution_count": 18,
   "metadata": {},
   "outputs": [],
   "source": [
    "def compute_score(V, x, m_t):\n",
    "    \"\"\"\n",
    "    x vecteur aléatoire que l'on veut classifier\n",
    "    On compare V^Tx à la moyenne des moyennes estimées pour les deux classes de la tache t\n",
    "    \"\"\"\n",
    "    x_projection = np.transpose(V).dot(x)\n",
    "    average_mean = 1/2*(m_t[0] + m_t[1])\n",
    "    return (1 if x_projection > 0 else -1) "
   ]
  },
  {
   "cell_type": "code",
   "execution_count": 19,
   "metadata": {},
   "outputs": [],
   "source": [
    "from scipy import special as sp\n",
    "def qfunc(x):\n",
    "    return 0.5-0.5*sp.erf(x/np.sqrt(2))"
   ]
  },
  {
   "cell_type": "code",
   "execution_count": 20,
   "metadata": {},
   "outputs": [],
   "source": [
    "def error_rate(nb_tasks, nb_classes, Dc, M_cur, c0, task_target=1):\n",
    "    e3 = np.zeros((nb_tasks*nb_classes, 1))\n",
    "    e3[2*task_target] = 1\n",
    "    power_dc = power_diagonal_matrix(Dc, -1/2)\n",
    "    inv = np.linalg.inv(M_cur+np.identity(nb_tasks*nb_classes))\n",
    "    print(\"arg q-func : \")\n",
    "    print(e3.T.dot(M_cur).dot(Dc).dot(np.linalg.inv(Dc.dot(M_cur).dot(Dc)+c0*Dc)).dot(Dc).dot(M_cur).dot(e3))\n",
    "    return qfunc(np.sqrt(e3.T.dot(M_cur).dot(Dc).dot(np.linalg.inv(Dc.dot(M_cur).dot(Dc)+c0*Dc)).dot(Dc).dot(M_cur).dot(e3)))\n",
    "    #return qfunc(1/2*np.sqrt(et_trans.dot(power_dc).dot(M_cur).dot(inv).dot(M_cur).dot(power_dc).dot(et1_et2)))\n",
    "#erfc(sqrt(e3'*MM*diag(c)*inv((diag(c)*MM*diag(c)+diag(co*c/k)))*diag(c)*MM*e3)/(sqrt(2)))/2;"
   ]
  },
  {
   "cell_type": "code",
   "execution_count": 21,
   "metadata": {},
   "outputs": [],
   "source": [
    "def plot_error_rate(nb_tasks, nb_classes, emp_rate, error_rate, m_t, Dc, M_cur):\n",
    "    plt.scatter(1, emp_rate, label=\"empirical error\")\n",
    "    plt.scatter(1, [error_rate(m_t[1], nb_tasks, nb_classes, Dc, M_cur)], label=\"theoritical error\")\n",
    "    plt.grid()\n",
    "    plt.ylim((0,1))\n",
    "    plt.xlim((-0.5, 0.5))\n",
    "    plt.legend()\n",
    "    plt.title(f\"Classification error rate per task\")\n",
    "    plt.show()"
   ]
  },
  {
   "cell_type": "code",
   "execution_count": 22,
   "metadata": {},
   "outputs": [],
   "source": [
    "def compute_error_rate(X_test, V, m_t, nb_tasks, nb_classes, n_t, Dc, c0, task_target=1):\n",
    "    \"\"\"\n",
    "    Compute and plot classification error rate on test set\n",
    "    \"\"\"\n",
    "#     print(\"mt1= \\n\", m_t[1])\n",
    "    emp_rate = []\n",
    "    error = 0\n",
    "    ni = 0\n",
    "    error = 0\n",
    "    for t in range(nb_tasks):\n",
    "        \n",
    "        ni += sum(n_t[t])\n",
    "        for l in range(nb_classes):\n",
    "            for i in range(n_t[t][l]):\n",
    "                # on prend la transposée pour pouvoir travailler avec les colonnes\n",
    "                score = compute_score(V, X_test[t][l].T[i], m_t[task_target])\n",
    "                if (score == 1 and l == 1):\n",
    "                    error +=1\n",
    "                elif (score == -1 and l == 0):\n",
    "                    error +=1\n",
    "        \n",
    "    erreur_emp = error/ni\n",
    "\n",
    "    if erreur_emp > 0.5:\n",
    "        erreur_emp=1-erreur_emp\n",
    "    emp_rate.append(erreur_emp)\n",
    "    return np.mean(emp_rate)"
   ]
  },
  {
   "cell_type": "code",
   "execution_count": 23,
   "metadata": {},
   "outputs": [],
   "source": [
    "def debug_histogram(V, X_test, n_t):\n",
    "    \"\"\"\n",
    "    Trace l'histogramme de V^T*x_1 et V^T*x_2.\n",
    "    \"\"\"\n",
    "#     print(X1[0][0])\n",
    "#     print(n_t[0][0])\n",
    "    alpha = 0.5\n",
    "    bins = 20\n",
    "    plt.hist(V.T.dot(X_test.T[:n_t[0][0]].T), bins = bins, alpha=alpha, label=r\"$C_1$\")\n",
    "    plt.hist(V.T.dot(X_test.T[n_t[0][0]:].T), bins = bins, alpha=alpha, label=r\"$C_2$\")\n",
    "    plt.title(r\"Histogramme des données de tests projetées sur $V$ : $V^Tx_j$\")\n",
    "    plt.legend()\n",
    "    plt.show()"
   ]
  },
  {
   "cell_type": "markdown",
   "metadata": {},
   "source": [
    "# 2-class Gaussian mixture transfer (c.f. Figure 2)"
   ]
  },
  {
   "cell_type": "code",
   "execution_count": 24,
   "metadata": {},
   "outputs": [],
   "source": [
    "from time import time\n",
    "plt.style.use('seaborn-dark-palette')"
   ]
  },
  {
   "cell_type": "code",
   "execution_count": 48,
   "metadata": {
    "scrolled": true
   },
   "outputs": [
    {
     "name": "stdout",
     "output_type": "stream",
     "text": [
      "beta 0.0\n",
      "MM : \n",
      "\n",
      " 0.951924  -0.969539   0.214006  -0.043605  \n",
      "-0.969539    1.00123  -0.219806   0.071711  \n",
      " 0.214006  -0.219806    0.82425   -1.02779  \n",
      "-0.043605   0.071711   -1.02779   0.842539  \n",
      "c : \n",
      "[0.47619048 0.47619048 0.02380952 0.02380952]\n"
     ]
    },
    {
     "data": {
      "image/png": "[encoded data removed]",
      "text/plain": [
       "<Figure size 432x288 with 1 Axes>"
      ]
     },
     "metadata": {
      "needs_background": "light"
     },
     "output_type": "display_data"
    },
    {
     "name": "stdout",
     "output_type": "stream",
     "text": [
      "   4.75962    -4.8477   0.239266  -0.0487519  \n",
      "   -4.8477    5.00614  -0.245751   0.0801754  \n",
      "  0.239266  -0.245751   0.206062   -0.256947  \n",
      "-0.0487519  0.0801754  -0.256947    0.210635  \n",
      "e3 - e4 : \n",
      " 0  \n",
      " 0  \n",
      " 1  \n",
      "-1  \n",
      "MM True = \n",
      "[[ 1. -1.  0.  0.]\n",
      " [-1.  1.  0.  0.]\n",
      " [ 0.  0.  1. -1.]\n",
      " [ 0.  0. -1.  1.]]\n",
      " 5  -5      0      0  \n",
      "-5   5      0      0  \n",
      " 0   0   0.25  -0.25  \n",
      " 0   0  -0.25   0.25  \n",
      "c0 :  0.047619047619047616\n",
      "e3 - e4 : \n",
      " 0  \n",
      " 0  \n",
      " 1  \n",
      "-1  \n",
      "y = \n",
      "0.00885528  \n",
      " -0.285474  \n",
      "   19.6689  \n",
      "  -20.3765  \n",
      "y true = \n",
      "  0  \n",
      "  0  \n",
      " 21  \n",
      "-21  \n",
      "arg q-func : \n",
      "[[0.5]]\n",
      "[0.26349999999999996] [0.23975006109347674]\n",
      "beta 0.25\n",
      "MM : \n",
      "\n",
      " 0.951924  -0.969539   0.457408  -0.287007  \n",
      "-0.969539    1.00123  -0.469718   0.321623  \n",
      " 0.457408  -0.469718   0.953502   -1.10773  \n",
      "-0.287007   0.321623   -1.10773   0.873183  \n",
      "c : \n",
      "[0.47619048 0.47619048 0.02380952 0.02380952]\n"
     ]
    },
    {
     "data": {
      "image/png": "[encoded data removed]",
      "text/plain": [
       "<Figure size 432x288 with 1 Axes>"
      ]
     },
     "metadata": {
      "needs_background": "light"
     },
     "output_type": "display_data"
    },
    {
     "name": "stdout",
     "output_type": "stream",
     "text": [
      "  4.75962    -4.8477   0.511397  -0.320884  \n",
      "  -4.8477    5.00614  -0.525161   0.359586  \n",
      " 0.511397  -0.525161   0.238376  -0.276934  \n",
      "-0.320884   0.359586  -0.276934   0.218296  \n",
      "e3 - e4 : \n",
      " 0  \n",
      " 0  \n",
      " 1  \n",
      "-1  \n",
      "MM True = \n",
      "[[ 1.   -1.    0.25 -0.25]\n",
      " [-1.    1.   -0.25  0.25]\n",
      " [ 0.25 -0.25  1.   -1.  ]\n",
      " [-0.25  0.25 -1.    1.  ]]\n",
      "        5         -5   0.279508  -0.279508  \n",
      "       -5          5  -0.279508   0.279508  \n",
      " 0.279508  -0.279508       0.25      -0.25  \n",
      "-0.279508   0.279508      -0.25       0.25  \n",
      "c0 :  0.047619047619047616\n",
      "e3 - e4 : \n",
      " 0  \n",
      " 0  \n",
      " 1  \n",
      "-1  \n",
      "y = \n",
      " 0.273049  \n",
      "-0.570078  \n",
      "  19.2604  \n",
      " -19.7094  \n",
      "y true = \n",
      " 0.257669  \n",
      "-0.257669  \n",
      "  20.3558  \n",
      " -20.3558  \n",
      "arg q-func : \n",
      "[[0.51533742]]\n",
      "[0.26349999999999996, 0.24850000000000005] [0.23975006109347674, 0.23641870497629108]\n",
      "beta 0.5\n",
      "MM : \n",
      "\n",
      " 0.951924  -0.969539   0.700236  -0.529835  \n",
      "-0.969539    1.00123  -0.721983   0.573888  \n",
      " 0.700236  -0.721983    1.10445   -1.19555  \n",
      "-0.529835   0.573888   -1.19555   0.897859  \n",
      "c : \n",
      "[0.47619048 0.47619048 0.02380952 0.02380952]\n"
     ]
    },
    {
     "data": {
      "image/png": "[encoded data removed]",
      "text/plain": [
       "<Figure size 432x288 with 1 Axes>"
      ]
     },
     "metadata": {
      "needs_background": "light"
     },
     "output_type": "display_data"
    },
    {
     "name": "stdout",
     "output_type": "stream",
     "text": [
      "  4.75962    -4.8477   0.782887  -0.592374  \n",
      "  -4.8477    5.00614  -0.807201   0.641626  \n",
      " 0.782887  -0.807201   0.276113  -0.298887  \n",
      "-0.592374   0.641626  -0.298887   0.224465  \n",
      "e3 - e4 : \n",
      " 0  \n",
      " 0  \n",
      " 1  \n",
      "-1  \n",
      "MM True = \n",
      "[[ 1.  -1.   0.5 -0.5]\n",
      " [-1.   1.  -0.5  0.5]\n",
      " [ 0.5 -0.5  1.  -1. ]\n",
      " [-0.5  0.5 -1.   1. ]]\n",
      "        5         -5   0.559017  -0.559017  \n",
      "       -5          5  -0.559017   0.559017  \n",
      " 0.559017  -0.559017       0.25      -0.25  \n",
      "-0.559017   0.559017      -0.25       0.25  \n",
      "c0 :  0.047619047619047616\n",
      "e3 - e4 : \n",
      " 0  \n",
      " 0  \n",
      " 1  \n",
      "-1  \n",
      "y = \n",
      " 0.552079  \n",
      "-0.960878  \n",
      "  17.4951  \n",
      " -17.2983  \n",
      "y true = \n",
      " 0.567568  \n",
      "-0.567568  \n",
      "  18.1622  \n",
      " -18.1622  \n",
      "arg q-func : \n",
      "[[0.56756757]]\n",
      "[0.26349999999999996, 0.24850000000000005, 0.235] [0.23975006109347674, 0.23641870497629108, 0.2256135612113705]\n",
      "beta 0.75\n",
      "MM : \n",
      "\n",
      " 0.951924  -0.969539    0.94223  -0.771829  \n",
      "-0.969539    1.00123  -0.977664   0.829569  \n",
      "  0.94223  -0.977664    1.28692   -1.29479  \n",
      "-0.771829   0.829569   -1.29479   0.913869  \n",
      "c : \n",
      "[0.47619048 0.47619048 0.02380952 0.02380952]\n"
     ]
    },
    {
     "data": {
      "image/png": "[encoded data removed]",
      "text/plain": [
       "<Figure size 432x288 with 1 Axes>"
      ]
     },
     "metadata": {
      "needs_background": "light"
     },
     "output_type": "display_data"
    },
    {
     "name": "stdout",
     "output_type": "stream",
     "text": [
      "  4.75962   -4.8477    1.05345  -0.862932  \n",
      "  -4.8477   5.00614   -1.09306   0.927486  \n",
      "  1.05345  -1.09306    0.32173  -0.323697  \n",
      "-0.862932  0.927486  -0.323697   0.228467  \n",
      "e3 - e4 : \n",
      " 0  \n",
      " 0  \n",
      " 1  \n",
      "-1  \n",
      "MM True = \n",
      "[[ 1.   -1.    0.75 -0.75]\n",
      " [-1.    1.   -0.75  0.75]\n",
      " [ 0.75 -0.75  1.   -1.  ]\n",
      " [-0.75  0.75 -1.    1.  ]]\n",
      "        5         -5   0.838525  -0.838525  \n",
      "       -5          5  -0.838525   0.838525  \n",
      " 0.838525  -0.838525       0.25      -0.25  \n",
      "-0.838525   0.838525      -0.25       0.25  \n",
      "c0 :  0.047619047619047616\n",
      "e3 - e4 : \n",
      " 0  \n",
      " 0  \n",
      " 1  \n",
      "-1  \n",
      "y = \n",
      "0.897687  \n",
      "-1.60334  \n",
      " 13.6167  \n",
      "-11.8996  \n",
      "y true = \n",
      " 1.02439  \n",
      "-1.02439  \n",
      " 13.3171  \n",
      "-13.3171  \n",
      "arg q-func : \n",
      "[[0.68292683]]\n",
      "[0.26349999999999996, 0.24850000000000005, 0.235, 0.205] [0.23975006109347674, 0.23641870497629108, 0.2256135612113705, 0.20429034966232495]\n",
      "beta 1.0\n",
      "MM : \n",
      "\n",
      " 0.951924  -0.969539    1.1805   -1.0101  \n",
      "-0.969539    1.00123   -1.2486    1.1005  \n",
      "   1.1805    -1.2486   1.61005  -1.44502  \n",
      "  -1.0101     1.1005  -1.44502  0.891199  \n",
      "c : \n",
      "[0.47619048 0.47619048 0.02380952 0.02380952]\n"
     ]
    },
    {
     "data": {
      "image/png": "[encoded data removed]",
      "text/plain": [
       "<Figure size 432x288 with 1 Axes>"
      ]
     },
     "metadata": {
      "needs_background": "light"
     },
     "output_type": "display_data"
    },
    {
     "name": "stdout",
     "output_type": "stream",
     "text": [
      " 4.75962   -4.8477    1.31984   -1.12933  \n",
      " -4.8477   5.00614   -1.39597     1.2304  \n",
      " 1.31984  -1.39597   0.402512  -0.361254  \n",
      "-1.12933    1.2304  -0.361254     0.2228  \n",
      "e3 - e4 : \n",
      " 0  \n",
      " 0  \n",
      " 1  \n",
      "-1  \n",
      "MM True = \n",
      "[[ 1. -1.  1. -1.]\n",
      " [-1.  1. -1.  1.]\n",
      " [ 1. -1.  1. -1.]\n",
      " [-1.  1. -1.  1.]]\n",
      "       5        -5   1.11803  -1.11803  \n",
      "      -5         5  -1.11803   1.11803  \n",
      " 1.11803  -1.11803      0.25     -0.25  \n",
      "-1.11803   1.11803     -0.25      0.25  \n",
      "c0 :  0.047619047619047616\n",
      "e3 - e4 : \n",
      " 0  \n",
      " 0  \n",
      " 1  \n",
      "-1  \n",
      "y = \n",
      " 1.17387  \n",
      "-3.14005  \n",
      " 6.76583  \n",
      " 1.55053  \n",
      "y true = \n",
      " 1.90909  \n",
      "-1.90909  \n",
      " 1.90909  \n",
      "-1.90909  \n",
      "arg q-func : \n",
      "[[0.95454545]]\n",
      "[0.26349999999999996, 0.24850000000000005, 0.235, 0.205, 0.1425] [0.23975006109347674, 0.23641870497629108, 0.2256135612113705, 0.20429034966232495, 0.16428249171959852]\n",
      "Erreur relative moyenne pour n=2100 et p=100, moyennée sur 10 simulations\n",
      "0.0655663953691703\n",
      "Temps moyen pour (resp.) le calcul des produits scalaires entre moyennes empiriques, l'estimation de M cursive, c et les labels optimaux y, et l'inférence : 0.0020756244659423826, 0.20903229713439941, 0.045692825317382814\n",
      "Temps total moyen : 0.257 s\n"
     ]
    },
    {
     "data": {
      "image/png": "[encoded data removed]",
      "text/plain": [
       "<Figure size 432x288 with 1 Axes>"
      ]
     },
     "metadata": {
      "needs_background": "light"
     },
     "output_type": "display_data"
    }
   ],
   "source": [
    "# %%prun -s cumulative\n",
    "# profiling\n",
    "p = 100\n",
    "m = 2\n",
    "t = 2\n",
    "beta = np.linspace(0,1,5)\n",
    "n_t = [[1000, 1000], [50, 50]]\n",
    "n = sum(list(map(sum, (n_t[i] for i in range(t)))))\n",
    "n_t_test = [[1000, 1000]]\n",
    "nt = sum(n_t_test[0])\n",
    "# la liste temps comprendra le temps pour le training, le calcul de M et y et le temps d'inférence\n",
    "emp_rate, th_rate, var, relative_error_rate = [], [], [], []\n",
    "\n",
    "temps_MM = []\n",
    "temps_estim = []\n",
    "temps_inference = []\n",
    "random_state = 100\n",
    "\n",
    "for b in beta:\n",
    "    # on crée les données synthétiques\n",
    "    M = mean_matrix(p, b, t, random_seed=random_state)\n",
    "    \n",
    "    X, y_bs = gaussian_synthetic_data(n, p, m, t, n_t, M, random_state)\n",
    "    X_test, y_test = gaussian_synthetic_data(nt, p, m, 1, n_t_test, [M[1]], random_state)\n",
    "\n",
    "# DEBUG\n",
    "    #MM1, diag1 = empirical_mean_old(1, m, X, p, [n_t[0]])\n",
    "    # On calcule les moyennes empiriques\n",
    "    \n",
    "    t0 = time()\n",
    "    MM = empirical_mean(t, m, X, p, n_t)\n",
    "    print(\"MM : \\n\")\n",
    "    temps_MM.append(time() - t0)\n",
    "    matprint(MM)\n",
    "    # On time le calcul de MTM\n",
    "\n",
    "    t0 = time()\n",
    "    c = estimate_c(n_t, n, t, m)\n",
    "    print(\"c : \")\n",
    "    print(c)\n",
    "    c0 = p/n\n",
    "    Dc = np.diag(c)\n",
    "    correlation_matrix = compute_M_cal(n, p, Dc, MM, display=True)\n",
    "    matprint(correlation_matrix)\n",
    "    y = label_evaluation(t,m,Dc,MM, c0)\n",
    "    temps_estim.append(time() - t0)\n",
    "    # On time l'estimation de y, M, et c\n",
    "    \n",
    "    M_true = true_mean(M, p, t, m)\n",
    "    MM_true = M_true.T@M_true\n",
    "    print(\"MM True = \")\n",
    "    print(MM_true)\n",
    "    correlation_matrix_true = compute_M_cal(n, p, Dc, MM_true, display=False)\n",
    "    matprint(correlation_matrix_true)\n",
    "    print(\"c0 : \", c0)\n",
    "    y_true = label_evaluation(t,m,Dc,MM_true, c0)\n",
    "    print(\"y = \")\n",
    "    matprint(y)\n",
    "    print(\"y true = \")\n",
    "    matprint(y_true)\n",
    "    X = normalisation(X, p)\n",
    "    X_test = normalisation(X_test, p)\n",
    "    X_train_aggregated = aggregate_array(X, p, n, t, m)\n",
    "    X_test_aggregated = aggregate_array(X_test, p, nt, 1, m)\n",
    "    \n",
    "    \n",
    "    t0 = time()\n",
    "    J = create_J(m, t, n, n_t)\n",
    "    V = compute_V(y, X_train_aggregated, J, n)\n",
    "    \n",
    "#     debug_histogram(V_true, X_test_aggregated, n_t_test)\n",
    "#     print(\"V = \")\n",
    "    # pour l'instant pas vraiment utilisé\n",
    "    m_t = create_mt(t, m, y, Dc, correlation_matrix)\n",
    "    erreur_empirique = compute_error_rate(X_test, V, m_t, 1, m, n_t_test, Dc, c0)\n",
    "    temps_inference.append(time() - t0)\n",
    "    \n",
    "    V_true = compute_V(y_true, X_train_aggregated, J, n)\n",
    "    VTX = V.T@X_test_aggregated\n",
    "    var.append(np.var(VTX))\n",
    "    m_t_true = create_mt(t, m, y_true, Dc, correlation_matrix_true)\n",
    "    erreur_theorique = error_rate(t, m,  Dc, MM_true, c0)[0][0]\n",
    "    emp_rate.append(erreur_empirique)\n",
    "    th_rate.append(erreur_theorique)\n",
    "    relative_error_rate.append(abs(erreur_empirique - erreur_theorique)/erreur_theorique)\n",
    "    \n",
    "    print(emp_rate, th_rate)\n",
    "    \n",
    "erreur_relative_moy = np.mean(relative_error_rate)\n",
    "print(f\"Erreur relative moyenne pour n={n} et p={p}, moyennée sur 10 simulations\")\n",
    "print(erreur_relative_moy)\n",
    "\n",
    "print(f\"Temps moyen pour (resp.) le calcul des produits scalaires entre moyennes empiriques, l'estimation de M cursive, c et les labels optimaux y, et l'inférence : {np.mean(temps_MM)}, {np.mean(temps_estim)}, {np.mean(temps_inference)}\")\n",
    "\n",
    "print(f\"Temps total moyen : {round(np.mean(temps_MM)+np.mean(temps_estim)+np.mean(temps_inference), 3)} s\")\n",
    "\n",
    "lower = np.array(emp_rate) - np.array(var)\n",
    "upper = np.array(emp_rate) + np.array(var)\n",
    "plt.plot(beta, emp_rate, '-o', label='empirical rate')\n",
    "plt.plot(beta, th_rate, '-o', label='theoritical rate')\n",
    "plt.fill_between(beta, lower, upper, alpha=0.2, label=\"variance\")\n",
    "plt.legend()\n",
    "plt.title(\"2-class Gaussian mixture transfer error rate\")\n",
    "plt.xlabel(\"Task relatedness (beta)\")\n",
    "plt.ylabel(\"error rate\")\n",
    "plt.grid()\n",
    "plt.show()"
   ]
  },
  {
   "cell_type": "code",
   "execution_count": null,
   "metadata": {},
   "outputs": [],
   "source": []
  },
  {
   "cell_type": "code",
   "execution_count": 70,
   "metadata": {},
   "outputs": [
    {
     "name": "stdout",
     "output_type": "stream",
     "text": [
      "1600\n",
      "c0 :  0.0625\n",
      "[0.25  0.25  0.125 0.125 0.125 0.125]\n",
      "y true = \n",
      " 1.88235  \n",
      "-1.88235  \n",
      " 1.88235  \n",
      "-1.88235  \n",
      " 1.88235  \n",
      "-1.88235  \n"
     ]
    }
   ],
   "source": [
    "n = sum(list(map(sum, (n_t[i] for i in range(t)))))\n",
    "print(n)\n",
    "print(\"c0 : \", c0)\n",
    "print(c)\n",
    "print(\"y true = \")\n",
    "matprint(y_true)"
   ]
  },
  {
   "cell_type": "markdown",
   "metadata": {},
   "source": [
    "Results when doubling n and p proportionately: \n",
    "[0.244, 0.2395, 0.23624999999999996, 0.23624999999999996, 0.22999999999999998, 0.2195, 0.21050000000000002, 0.195, 0.17700000000000005, 0.15674999999999994] \n",
    "[0.23975006109347674, 0.23910189492427802, 0.23712834068265354, 0.23373859215337528, 0.2287682743173643, 0.22195637062121154, 0.2129043075952785, 0.20100393554334806, 0.18530737544421827, 0.16428249171959852]"
   ]
  },
  {
   "cell_type": "code",
   "execution_count": null,
   "metadata": {},
   "outputs": [],
   "source": [
    "erreur_relative_prec = 0.054\n",
    "erreur_relative_moy = np.mean(relative_error_rate)\n",
    "print(f\"Erreur relative moyenne pour n={n} et p={p}, moyennée sur 10 simulations et {nt} données de test : {round(erreur_relative_moy, 3)}\")\n",
    "\n",
    "print(f\"En doublant n et p proportionnellement, l'erreur relative moyenne est divisé par un facteur {(1/(erreur_relative_prec/erreur_relative_moy))}\")\n",
    "\n",
    "\n",
    "print(f\"Temps moyen pour (resp.) le calcul des produits scalaires entre moyennes empiriques, l'estimation de M cursive, c et les labels optimaux y, et l'inférence : {round(np.mean(temps_MM), 5)} s, {round(np.mean(temps_estim), 5)} s, {round(np.mean(temps_inference), 5)} s.\\nLe temps total moyen est ainsi de {round(np.mean(temps_estim) + np.mean(temps_MM) , 5)} s\")\n",
    "\n",
    "lower = np.array(emp_rate) - np.array(var)\n",
    "upper = np.array(emp_rate) + np.array(var)\n",
    "plt.plot(beta, emp_rate, '-o', label='empirical rate')\n",
    "plt.plot(beta, th_rate, '-o', label='theoritical rate')\n",
    "plt.fill_between(beta, lower, upper, alpha=0.2, label=\"variance\")\n",
    "plt.legend()\n",
    "plt.title(f\"2-class Gaussian mixture transfer error rate for n={n} and p={p}\")\n",
    "plt.xlabel(\"Task relatedness (beta)\")\n",
    "plt.ylabel(\"error rate\")\n",
    "plt.grid()\n",
    "plt.show()"
   ]
  },
  {
   "cell_type": "code",
   "execution_count": 133,
   "metadata": {},
   "outputs": [],
   "source": [
    "%matplotlib qt\n",
    "debug_histogram(V, X_test_aggregated.T, n_t_test)"
   ]
  },
  {
   "cell_type": "markdown",
   "metadata": {},
   "source": [
    "# Adding tasks"
   ]
  },
  {
   "cell_type": "code",
   "execution_count": 71,
   "metadata": {},
   "outputs": [
    {
     "name": "stdout",
     "output_type": "stream",
     "text": [
      "random\n",
      "beta 0.5434049417909654\n",
      "random\n",
      "beta 0.5434049417909654\n",
      "c : \n",
      "[0.47619048 0.47619048 0.02380952 0.02380952]\n"
     ]
    },
    {
     "data": {
      "image/png": "[encoded data removed]",
      "text/plain": [
       "<Figure size 432x288 with 1 Axes>"
      ]
     },
     "metadata": {
      "needs_background": "light"
     },
     "output_type": "display_data"
    },
    {
     "name": "stdout",
     "output_type": "stream",
     "text": [
      "arg q-func : \n",
      "[[0.58181058]]\n",
      "random\n",
      "beta 0.5434049417909654\n",
      "random\n",
      "beta 0.27836938509379616\n",
      "random\n",
      "beta 0.4245175907491331\n",
      "c : \n",
      "[0.23809524 0.23809524 0.01190476 0.01190476 0.23809524 0.23809524\n",
      " 0.01190476 0.01190476]\n"
     ]
    },
    {
     "data": {
      "image/png": "[encoded data removed]",
      "text/plain": [
       "<Figure size 432x288 with 1 Axes>"
      ]
     },
     "metadata": {
      "needs_background": "light"
     },
     "output_type": "display_data"
    },
    {
     "name": "stdout",
     "output_type": "stream",
     "text": [
      "arg q-func : \n",
      "[[0.95974685]]\n",
      "random\n",
      "beta 0.5434049417909654\n",
      "random\n",
      "beta 0.27836938509379616\n",
      "random\n",
      "beta 0.4245175907491331\n",
      "random\n",
      "beta 0.8447761323199037\n",
      "random\n",
      "beta 0.004718856190972565\n",
      "c : \n",
      "[0.15873016 0.15873016 0.00793651 0.00793651 0.15873016 0.15873016\n",
      " 0.00793651 0.00793651 0.15873016 0.15873016 0.00793651 0.00793651]\n"
     ]
    },
    {
     "data": {
      "image/png": "[encoded data removed]",
      "text/plain": [
       "<Figure size 432x288 with 1 Axes>"
      ]
     },
     "metadata": {
      "needs_background": "light"
     },
     "output_type": "display_data"
    },
    {
     "name": "stdout",
     "output_type": "stream",
     "text": [
      "arg q-func : \n",
      "[[0.95362444]]\n",
      "random\n",
      "beta 0.5434049417909654\n",
      "random\n",
      "beta 0.27836938509379616\n",
      "random\n",
      "beta 0.4245175907491331\n",
      "random\n",
      "beta 0.8447761323199037\n",
      "random\n",
      "beta 0.004718856190972565\n",
      "random\n",
      "beta 0.12156912078311422\n",
      "random\n",
      "beta 0.6707490847267786\n",
      "c : \n",
      "[0.11904762 0.11904762 0.00595238 0.00595238 0.11904762 0.11904762\n",
      " 0.00595238 0.00595238 0.11904762 0.11904762 0.00595238 0.00595238\n",
      " 0.11904762 0.11904762 0.00595238 0.00595238]\n"
     ]
    },
    {
     "data": {
      "image/png": "[encoded data removed]",
      "text/plain": [
       "<Figure size 432x288 with 1 Axes>"
      ]
     },
     "metadata": {
      "needs_background": "light"
     },
     "output_type": "display_data"
    },
    {
     "name": "stdout",
     "output_type": "stream",
     "text": [
      "arg q-func : \n",
      "[[0.98364767]]\n",
      "random\n",
      "beta 0.5434049417909654\n",
      "random\n",
      "beta 0.27836938509379616\n",
      "random\n",
      "beta 0.4245175907491331\n",
      "random\n",
      "beta 0.8447761323199037\n",
      "random\n",
      "beta 0.004718856190972565\n",
      "random\n",
      "beta 0.12156912078311422\n",
      "random\n",
      "beta 0.6707490847267786\n",
      "random\n",
      "beta 0.8258527551050476\n",
      "random\n",
      "beta 0.13670658968495297\n",
      "c : \n",
      "[0.0952381 0.0952381 0.0047619 0.0047619 0.0952381 0.0952381 0.0047619\n",
      " 0.0047619 0.0952381 0.0952381 0.0047619 0.0047619 0.0952381 0.0952381\n",
      " 0.0047619 0.0047619 0.0952381 0.0952381 0.0047619 0.0047619]\n"
     ]
    },
    {
     "data": {
      "image/png": "[encoded data removed]",
      "text/plain": [
       "<Figure size 432x288 with 1 Axes>"
      ]
     },
     "metadata": {
      "needs_background": "light"
     },
     "output_type": "display_data"
    },
    {
     "name": "stdout",
     "output_type": "stream",
     "text": [
      "arg q-func : \n",
      "[[0.97888233]]\n",
      "Temps moyen pour (resp.) le calcul des produits scalaires entre moyennes empiriques, l'estimation de M cursive, c et les labels optimaux y, et l'inférence : 0.03507399559020996, 0.0011370182037353516, 0.08398818969726562\n"
     ]
    },
    {
     "data": {
      "image/png": "[encoded data removed]",
      "text/plain": [
       "<Figure size 432x288 with 1 Axes>"
      ]
     },
     "metadata": {
      "needs_background": "light"
     },
     "output_type": "display_data"
    }
   ],
   "source": [
    "# %%prun -s cumulative\n",
    "# profiling\n",
    "p = 100\n",
    "m = 2\n",
    "# on ajoute des tâches 2 par 2\n",
    "nb_tasks = 6\n",
    "t = range(2,2*nb_tasks, 2)\n",
    "multiple = 1\n",
    "to_add = [1000, 1000], [50, 50]\n",
    "n_t = []\n",
    "n_t_test = [[500, 500]]\n",
    "nt = sum(n_t_test[0])\n",
    "# la liste temps comprendra le temps pour le training, le calcul de M et y et le temps d'inférence\n",
    "emp_rate, th_rate, var, relative_error_rate = [], [], [], []\n",
    "\n",
    "# temps\n",
    "temps_MM = 0\n",
    "temps_estim = 0\n",
    "temps_inference = 0\n",
    "t_total_nd = []\n",
    "random_state = 100\n",
    "\n",
    "# données envoyées\n",
    "data_sent_nd = []\n",
    "task_target = 1\n",
    "M = mean_matrix(p, beta=None, k=2, random_seed=random_state, random=True)\n",
    "X_test, y_test = gaussian_synthetic_data(nt, p, m, 1, n_t_test, [M[task_target]], random_state)\n",
    "X_test = normalisation(X_test, p)\n",
    "\n",
    "for b in t:\n",
    "    n_t.append(to_add[0])\n",
    "    n_t.append(to_add[1])\n",
    "    \n",
    "#     print(b)\n",
    "#     print(n_t)\n",
    "    n = sum(list(map(sum, (n_t[i] for i in range(b)))))\n",
    "#     print(n)\n",
    "    # on crée les données synthétiques\n",
    "    M = mean_matrix(p, beta=None, k=b, random_seed=random_state, random=True)\n",
    "       \n",
    "    X, y_bs = gaussian_synthetic_data(n, p, m, b, n_t, M, random_state)\n",
    "\n",
    "# DEBUG\n",
    "    #MM1, diag1 = empirical_mean_old(1, m, X, p, [n_t[0]])\n",
    "    # On calcule les moyennes empiriques\n",
    "    \n",
    "    t0 = time()\n",
    "    MM = empirical_mean(b, m, X, p, n_t)\n",
    "    temps_MM = time() - t0\n",
    "    # On time le calcul de MTM\n",
    "\n",
    "    t0 = time()\n",
    "    c = estimate_c(n_t, n, b, m)\n",
    "    c0 = p/n\n",
    "    Dc = np.diag(c)\n",
    "    correlation_matrix = compute_M_cal(n, p, Dc, MM, display=False)\n",
    "    y = label_evaluation(b,m,Dc,MM, c0, task_target=task_target)\n",
    "    temps_estim = time() - t0\n",
    "    # On time l'estimation de y, M, et c\n",
    "    \n",
    "    M_true = true_mean(M, p, b, m)\n",
    "    MM_true = M_true.T@M_true\n",
    "    correlation_matrix_true = compute_M_cal(n, p, Dc, MM_true, display=True)\n",
    "    y_true = label_evaluation(b,m,Dc,MM_true, c0, task_target=task_target)\n",
    "    X = normalisation(X, p)\n",
    "    \n",
    "    X_train_aggregated = aggregate_array(X, p, n, b, m)\n",
    "    X_test_aggregated = aggregate_array(X_test, p, nt, 1, m)\n",
    "    \n",
    "    m_t_true = create_mt(b, m, y_true, Dc, correlation_matrix_true)\n",
    "    t0 = time()\n",
    "    J = create_J(m, b, n, n_t)\n",
    "    V = compute_V(y, X_train_aggregated, J, n)\n",
    "    V_true = compute_V(y_true, X_train_aggregated, J, n)\n",
    "    m_t = create_mt(b, m, y, Dc, correlation_matrix)\n",
    "    erreur_empirique = compute_error_rate(X_test, V, m_t, 1, m, n_t_test, Dc, c0)\n",
    "    temps_inference = time() - t0\n",
    "    # On time le temps d'inférence \n",
    "    \n",
    "    \n",
    "#     debug_histogram(V_true, X_test_aggregated, n_t_test)\n",
    "#     print(\"V = \")\n",
    "    VTX = V.T@X_test_aggregated\n",
    "    var.append(np.var(VTX))\n",
    "    \n",
    "    erreur_theorique = error_rate(b, m,  Dc, MM_true, c0, task_target=task_target)[0][0]\n",
    "    emp_rate.append(erreur_empirique)\n",
    "    th_rate.append(erreur_theorique)\n",
    "    relative_error_rate.append(abs(erreur_empirique - erreur_theorique)/erreur_theorique)\n",
    "    \n",
    "    t_total_nd.append(temps_MM + temps_estim)\n",
    "    data_sent_nd.append(n)\n",
    "    \n",
    "# erreur_relative_moy = np.mean(relative_error_rate)\n",
    "# print(f\"Erreur relative moyenne pour n={n} et p={p}, moyennée sur 10 simulations\")\n",
    "# print(erreur_relative_moy)\n",
    "\n",
    "print(f\"Temps moyen pour (resp.) le calcul des produits scalaires entre moyennes empiriques, l'estimation de M cursive, c et les labels optimaux y, et l'inférence : {np.mean(temps_MM)}, {np.mean(temps_estim)}, {np.mean(temps_inference)}\")\n",
    "\n",
    "lower = np.array(emp_rate) - np.array(var)\n",
    "upper = np.array(emp_rate) + np.array(var)\n",
    "plt.plot(t, emp_rate, '-o', label='empirical rate')\n",
    "plt.plot(t, th_rate, '-o', label='theoritical rate')\n",
    "plt.fill_between(t, lower, upper, alpha=0.2, label=\"variance\")\n",
    "plt.legend()\n",
    "plt.title(\"2-class Gaussian mixture transfer error rate\")\n",
    "plt.xlabel(\"Added Task\")\n",
    "plt.ylabel(\"error rate\")\n",
    "plt.grid()\n",
    "plt.show()"
   ]
  },
  {
   "cell_type": "code",
   "execution_count": 72,
   "metadata": {
    "collapsed": true
   },
   "outputs": [
    {
     "ename": "ValueError",
     "evalue": "x and y must have same first dimension, but have shapes (9,) and (10,)",
     "output_type": "error",
     "traceback": [
      "\u001b[0;31m---------------------------------------------------------------------------\u001b[0m",
      "\u001b[0;31mValueError\u001b[0m                                Traceback (most recent call last)",
      "\u001b[0;32m<ipython-input-72-324dd024ff7e>\u001b[0m in \u001b[0;36m<module>\u001b[0;34m\u001b[0m\n\u001b[1;32m      3\u001b[0m \u001b[0mupper\u001b[0m \u001b[0;34m=\u001b[0m \u001b[0mnp\u001b[0m\u001b[0;34m.\u001b[0m\u001b[0marray\u001b[0m\u001b[0;34m(\u001b[0m\u001b[0memp_rate\u001b[0m\u001b[0;34m)\u001b[0m \u001b[0;34m+\u001b[0m \u001b[0mnp\u001b[0m\u001b[0;34m.\u001b[0m\u001b[0marray\u001b[0m\u001b[0;34m(\u001b[0m\u001b[0mvar\u001b[0m\u001b[0;34m)\u001b[0m\u001b[0;34m\u001b[0m\u001b[0;34m\u001b[0m\u001b[0m\n\u001b[1;32m      4\u001b[0m \u001b[0mplt\u001b[0m\u001b[0;34m.\u001b[0m\u001b[0mplot\u001b[0m\u001b[0;34m(\u001b[0m\u001b[0mrange\u001b[0m\u001b[0;34m(\u001b[0m\u001b[0mlen\u001b[0m\u001b[0;34m(\u001b[0m\u001b[0memp_rate\u001b[0m\u001b[0;34m)\u001b[0m\u001b[0;34m)\u001b[0m\u001b[0;34m,\u001b[0m \u001b[0memp_rate\u001b[0m\u001b[0;34m,\u001b[0m \u001b[0;34m'-o'\u001b[0m\u001b[0;34m,\u001b[0m \u001b[0mlabel\u001b[0m\u001b[0;34m=\u001b[0m\u001b[0;34m'empirical rate'\u001b[0m\u001b[0;34m)\u001b[0m\u001b[0;34m\u001b[0m\u001b[0;34m\u001b[0m\u001b[0m\n\u001b[0;32m----> 5\u001b[0;31m \u001b[0mplt\u001b[0m\u001b[0;34m.\u001b[0m\u001b[0mplot\u001b[0m\u001b[0;34m(\u001b[0m\u001b[0mrange\u001b[0m\u001b[0;34m(\u001b[0m\u001b[0mlen\u001b[0m\u001b[0;34m(\u001b[0m\u001b[0memp_rate\u001b[0m\u001b[0;34m)\u001b[0m\u001b[0;34m)\u001b[0m\u001b[0;34m,\u001b[0m \u001b[0mth_rate\u001b[0m\u001b[0;34m,\u001b[0m \u001b[0;34m'-o'\u001b[0m\u001b[0;34m,\u001b[0m \u001b[0mlabel\u001b[0m\u001b[0;34m=\u001b[0m\u001b[0;34m'theoritical rate'\u001b[0m\u001b[0;34m)\u001b[0m\u001b[0;34m\u001b[0m\u001b[0;34m\u001b[0m\u001b[0m\n\u001b[0m\u001b[1;32m      6\u001b[0m \u001b[0mplt\u001b[0m\u001b[0;34m.\u001b[0m\u001b[0mfill_between\u001b[0m\u001b[0;34m(\u001b[0m\u001b[0mrange\u001b[0m\u001b[0;34m(\u001b[0m\u001b[0mlen\u001b[0m\u001b[0;34m(\u001b[0m\u001b[0memp_rate\u001b[0m\u001b[0;34m)\u001b[0m\u001b[0;34m)\u001b[0m\u001b[0;34m,\u001b[0m \u001b[0mlower\u001b[0m\u001b[0;34m,\u001b[0m \u001b[0mupper\u001b[0m\u001b[0;34m,\u001b[0m \u001b[0malpha\u001b[0m\u001b[0;34m=\u001b[0m\u001b[0;36m0.2\u001b[0m\u001b[0;34m,\u001b[0m \u001b[0mlabel\u001b[0m\u001b[0;34m=\u001b[0m\u001b[0;34m\"variance\"\u001b[0m\u001b[0;34m)\u001b[0m\u001b[0;34m\u001b[0m\u001b[0;34m\u001b[0m\u001b[0m\n\u001b[1;32m      7\u001b[0m \u001b[0mplt\u001b[0m\u001b[0;34m.\u001b[0m\u001b[0mlegend\u001b[0m\u001b[0;34m(\u001b[0m\u001b[0;34m)\u001b[0m\u001b[0;34m\u001b[0m\u001b[0;34m\u001b[0m\u001b[0m\n",
      "\u001b[0;32m~/anaconda3/lib/python3.7/site-packages/matplotlib/pyplot.py\u001b[0m in \u001b[0;36mplot\u001b[0;34m(scalex, scaley, data, *args, **kwargs)\u001b[0m\n\u001b[1;32m   2840\u001b[0m     return gca().plot(\n\u001b[1;32m   2841\u001b[0m         \u001b[0;34m*\u001b[0m\u001b[0margs\u001b[0m\u001b[0;34m,\u001b[0m \u001b[0mscalex\u001b[0m\u001b[0;34m=\u001b[0m\u001b[0mscalex\u001b[0m\u001b[0;34m,\u001b[0m \u001b[0mscaley\u001b[0m\u001b[0;34m=\u001b[0m\u001b[0mscaley\u001b[0m\u001b[0;34m,\u001b[0m\u001b[0;34m\u001b[0m\u001b[0;34m\u001b[0m\u001b[0m\n\u001b[0;32m-> 2842\u001b[0;31m         **({\"data\": data} if data is not None else {}), **kwargs)\n\u001b[0m\u001b[1;32m   2843\u001b[0m \u001b[0;34m\u001b[0m\u001b[0m\n\u001b[1;32m   2844\u001b[0m \u001b[0;34m\u001b[0m\u001b[0m\n",
      "\u001b[0;32m~/anaconda3/lib/python3.7/site-packages/matplotlib/axes/_axes.py\u001b[0m in \u001b[0;36mplot\u001b[0;34m(self, scalex, scaley, data, *args, **kwargs)\u001b[0m\n\u001b[1;32m   1741\u001b[0m         \"\"\"\n\u001b[1;32m   1742\u001b[0m         \u001b[0mkwargs\u001b[0m \u001b[0;34m=\u001b[0m \u001b[0mcbook\u001b[0m\u001b[0;34m.\u001b[0m\u001b[0mnormalize_kwargs\u001b[0m\u001b[0;34m(\u001b[0m\u001b[0mkwargs\u001b[0m\u001b[0;34m,\u001b[0m \u001b[0mmlines\u001b[0m\u001b[0;34m.\u001b[0m\u001b[0mLine2D\u001b[0m\u001b[0;34m)\u001b[0m\u001b[0;34m\u001b[0m\u001b[0;34m\u001b[0m\u001b[0m\n\u001b[0;32m-> 1743\u001b[0;31m         \u001b[0mlines\u001b[0m \u001b[0;34m=\u001b[0m \u001b[0;34m[\u001b[0m\u001b[0;34m*\u001b[0m\u001b[0mself\u001b[0m\u001b[0;34m.\u001b[0m\u001b[0m_get_lines\u001b[0m\u001b[0;34m(\u001b[0m\u001b[0;34m*\u001b[0m\u001b[0margs\u001b[0m\u001b[0;34m,\u001b[0m \u001b[0mdata\u001b[0m\u001b[0;34m=\u001b[0m\u001b[0mdata\u001b[0m\u001b[0;34m,\u001b[0m \u001b[0;34m**\u001b[0m\u001b[0mkwargs\u001b[0m\u001b[0;34m)\u001b[0m\u001b[0;34m]\u001b[0m\u001b[0;34m\u001b[0m\u001b[0;34m\u001b[0m\u001b[0m\n\u001b[0m\u001b[1;32m   1744\u001b[0m         \u001b[0;32mfor\u001b[0m \u001b[0mline\u001b[0m \u001b[0;32min\u001b[0m \u001b[0mlines\u001b[0m\u001b[0;34m:\u001b[0m\u001b[0;34m\u001b[0m\u001b[0;34m\u001b[0m\u001b[0m\n\u001b[1;32m   1745\u001b[0m             \u001b[0mself\u001b[0m\u001b[0;34m.\u001b[0m\u001b[0madd_line\u001b[0m\u001b[0;34m(\u001b[0m\u001b[0mline\u001b[0m\u001b[0;34m)\u001b[0m\u001b[0;34m\u001b[0m\u001b[0;34m\u001b[0m\u001b[0m\n",
      "\u001b[0;32m~/anaconda3/lib/python3.7/site-packages/matplotlib/axes/_base.py\u001b[0m in \u001b[0;36m__call__\u001b[0;34m(self, data, *args, **kwargs)\u001b[0m\n\u001b[1;32m    271\u001b[0m                 \u001b[0mthis\u001b[0m \u001b[0;34m+=\u001b[0m \u001b[0margs\u001b[0m\u001b[0;34m[\u001b[0m\u001b[0;36m0\u001b[0m\u001b[0;34m]\u001b[0m\u001b[0;34m,\u001b[0m\u001b[0;34m\u001b[0m\u001b[0;34m\u001b[0m\u001b[0m\n\u001b[1;32m    272\u001b[0m                 \u001b[0margs\u001b[0m \u001b[0;34m=\u001b[0m \u001b[0margs\u001b[0m\u001b[0;34m[\u001b[0m\u001b[0;36m1\u001b[0m\u001b[0;34m:\u001b[0m\u001b[0;34m]\u001b[0m\u001b[0;34m\u001b[0m\u001b[0;34m\u001b[0m\u001b[0m\n\u001b[0;32m--> 273\u001b[0;31m             \u001b[0;32myield\u001b[0m \u001b[0;32mfrom\u001b[0m \u001b[0mself\u001b[0m\u001b[0;34m.\u001b[0m\u001b[0m_plot_args\u001b[0m\u001b[0;34m(\u001b[0m\u001b[0mthis\u001b[0m\u001b[0;34m,\u001b[0m \u001b[0mkwargs\u001b[0m\u001b[0;34m)\u001b[0m\u001b[0;34m\u001b[0m\u001b[0;34m\u001b[0m\u001b[0m\n\u001b[0m\u001b[1;32m    274\u001b[0m \u001b[0;34m\u001b[0m\u001b[0m\n\u001b[1;32m    275\u001b[0m     \u001b[0;32mdef\u001b[0m \u001b[0mget_next_color\u001b[0m\u001b[0;34m(\u001b[0m\u001b[0mself\u001b[0m\u001b[0;34m)\u001b[0m\u001b[0;34m:\u001b[0m\u001b[0;34m\u001b[0m\u001b[0;34m\u001b[0m\u001b[0m\n",
      "\u001b[0;32m~/anaconda3/lib/python3.7/site-packages/matplotlib/axes/_base.py\u001b[0m in \u001b[0;36m_plot_args\u001b[0;34m(self, tup, kwargs)\u001b[0m\n\u001b[1;32m    397\u001b[0m \u001b[0;34m\u001b[0m\u001b[0m\n\u001b[1;32m    398\u001b[0m         \u001b[0;32mif\u001b[0m \u001b[0mx\u001b[0m\u001b[0;34m.\u001b[0m\u001b[0mshape\u001b[0m\u001b[0;34m[\u001b[0m\u001b[0;36m0\u001b[0m\u001b[0;34m]\u001b[0m \u001b[0;34m!=\u001b[0m \u001b[0my\u001b[0m\u001b[0;34m.\u001b[0m\u001b[0mshape\u001b[0m\u001b[0;34m[\u001b[0m\u001b[0;36m0\u001b[0m\u001b[0;34m]\u001b[0m\u001b[0;34m:\u001b[0m\u001b[0;34m\u001b[0m\u001b[0;34m\u001b[0m\u001b[0m\n\u001b[0;32m--> 399\u001b[0;31m             raise ValueError(f\"x and y must have same first dimension, but \"\n\u001b[0m\u001b[1;32m    400\u001b[0m                              f\"have shapes {x.shape} and {y.shape}\")\n\u001b[1;32m    401\u001b[0m         \u001b[0;32mif\u001b[0m \u001b[0mx\u001b[0m\u001b[0;34m.\u001b[0m\u001b[0mndim\u001b[0m \u001b[0;34m>\u001b[0m \u001b[0;36m2\u001b[0m \u001b[0;32mor\u001b[0m \u001b[0my\u001b[0m\u001b[0;34m.\u001b[0m\u001b[0mndim\u001b[0m \u001b[0;34m>\u001b[0m \u001b[0;36m2\u001b[0m\u001b[0;34m:\u001b[0m\u001b[0;34m\u001b[0m\u001b[0;34m\u001b[0m\u001b[0m\n",
      "\u001b[0;31mValueError\u001b[0m: x and y must have same first dimension, but have shapes (9,) and (10,)"
     ]
    }
   ],
   "source": [
    "lower = np.array(emp_rate) - np.array(var)\n",
    "upper = np.array(emp_rate) + np.array(var)\n",
    "plt.plot(range(len(emp_rate)), emp_rate, '-o', label='empirical rate')\n",
    "plt.plot(range(len(emp_rate)), th_rate, '-o', label='theoritical rate')\n",
    "plt.fill_between(range(len(emp_rate)), lower, upper, alpha=0.2, label=\"variance\")\n",
    "plt.legend()\n",
    "plt.title(\"2-class Gaussian mixture transfer error rate\")\n",
    "plt.xlabel(\"Added Task\")\n",
    "plt.ylabel(\"error rate\")\n",
    "plt.grid()\n",
    "plt.show()"
   ]
  },
  {
   "cell_type": "markdown",
   "metadata": {},
   "source": [
    "# Algorithme distribué k tâches 2 classes\n",
    "Bien que certains résultats du précedent algorithmes sont particulèrement inquiétants, essayons de voir comment distribuer l'algorithme sur plusieurs serveurs.\n",
    "\n",
    "Par exemple un serveur demande les moyennes des autres serveurs pour pouvoir obtenir des meilleurs résultats en calculant la moyenne des ses données et la moyenne de toutes les moyennes avant de le renvoyer au serveur principal qui mettra à jour le modèle.\n",
    "\n",
    "Prendre des données synthétiques pour la 1ère tâche à 2 classes, puis rappatrier une ou plusieurs moyennes pour les autres tasks. \n",
    "Faire des comparaisons, avec et sans federated learning."
   ]
  },
  {
   "cell_type": "markdown",
   "metadata": {},
   "source": [
    "### k serveurs \n",
    "#### Federated Learning 2 classes k taches\n",
    "Imaginons 1 Serveur central et k clients. L'un cherche à classifier un certain type d'images, l'autre un deuxième type d'images. Les deux clients sont confrontés un problème de classification binaire sur des images sensiblement similaire (quantifié par le paramètre $\\beta$), et peuvent donc s'aider du training de l'autre pour affiner leur classification.\n",
    "\n",
    "Le premier client entraîne son modèle de classification sur son jeu de données locales. Il espère obtenir de meilleures performances à l'aide du transfer Learning. Les deux clients envoient alors les moyennes empiriques calculées sur leurs donnée locales, au serveur central. Le serveur peut alors calculé la matrice de corrélation $\\mathcal{M}$ et les labels optimaux $\\tilde{y}$. Les clients recoivent les labels optimaux, et peuvent maintenant recalculer le vecteur propre $V$ de $\\displaystyle\\frac{X_ty_ty_t^TX_t^T}{np}$ et inférer sur de nouvelles données $x$."
   ]
  },
  {
   "cell_type": "markdown",
   "metadata": {},
   "source": [
    "Calcul des moyennes empiriques, et calcul de la matrice $M\\in\\mathbb{R}^{p\\times 2k}$\n",
    "$$\\frac{1}{n_{tj}}X_{tj}\\mathbb{1}_{n_{tj}}=\\frac{1}{n_{tj}}\\sum_{l=1}^{n_{tj}}x_{tl}^{(j)}$$\n",
    "\n",
    "Chaque client calcule en local les moyennes empiriques des données et les envoie au serveur central.\n",
    "\n",
    "De la même façcon que précédemment les données de chaque client (=chaque tâche) devront respecter les conditions de non-trivialité."
   ]
  },
  {
   "cell_type": "code",
   "execution_count": 96,
   "metadata": {},
   "outputs": [],
   "source": [
    "def empirical_mean_old(nb_tasks, nb_classes, X, p, n_t):\n",
    "    \"\"\"\n",
    "    compute empirical mean for data \n",
    "    retourne la matrice M de taille px4\n",
    "    nb_classes=2 (toujours)\n",
    "    \n",
    "    Complexité : \n",
    "    -------------\n",
    "    O(k*p*n_tl) = O(n*p)\n",
    "    \"\"\"\n",
    "    M = np.empty((nb_classes*nb_tasks, p))\n",
    "    diag = []\n",
    "    for t in range(nb_tasks):\n",
    "        # O(k)\n",
    "        for l in range(nb_classes):\n",
    "            # O(2)\n",
    "            M[t*nb_classes+l] = X[t][l].dot(np.ones((n_t[t][l])))\n",
    "            # O(p*n_tl)\n",
    "            M[t*nb_classes+l] /= n_t[t][l]\n",
    "            # O(1)\n",
    "            \n",
    "            moitie = int(n_t[t][l]/2)\n",
    "#             print(\"shape X : \", X[t][l].T[:moitie].T.shape)\n",
    "            mu1 = 1/moitie*X[t][l].T[:moitie].T@np.ones((moitie))\n",
    "            mu2 = 1/moitie*X[t][l].T[moitie:2*moitie].T@np.ones((moitie))\n",
    "            # O(p*n_tl)\n",
    "            mu1, mu2 = np.reshape(mu1, (p, 1)), np.reshape(mu2, (p, 1))\n",
    "#             print(mu1.shape)\n",
    "#             print(mu2.shape)\n",
    "            diag.append(mu1.T@mu2)\n",
    "            # O(1)\n",
    "    \n",
    "    return M.T, diag\n",
    "\n",
    "# diag1 = [mu1]\n",
    "#diag_means = [[mu1], [mu2]]\n",
    "\n",
    "def gather_empirical_mean(nb_tasks, nb_classes, emp_means, diag_means, p, n_t):\n",
    "    \"\"\"\n",
    "    emp_means est un vecteur contenant les moyennes empiriques de chaque tache de chaque classe.\n",
    "    Chaque vecteur de moyennes et de taille px1\n",
    "    Renvoie la matrice M des, produits scalaires entre moyennes empiriques de chaque client\n",
    "    \"\"\"\n",
    "    M = np.empty((2*nb_tasks, 2*nb_tasks)) # ici 4x4\n",
    "    for i in range(nb_tasks):\n",
    "        # O(k)\n",
    "        for j in range(nb_classes):\n",
    "            # O(2)\n",
    "            for k in range(nb_tasks):\n",
    "                # O(k)\n",
    "                for l in range(nb_classes):\n",
    "                    # O(2)\n",
    "                    if i == k and j == l:\n",
    "                        #print(f\"i = {i}, j = {j}\")\n",
    "#                         print(i*nb_tasks+j, i*nb_tasks+j)\n",
    "#                         print(moitie)\n",
    "#                         print(np.ones((moitie, 1)).T.dot(X[i][j].T[:moitie]).shape)\n",
    "#                         print(emp_means[i*nb_tasks+j][:moitie].T.shape)\n",
    "                        M[i*nb_classes+j][i*nb_classes+j] = diag_means[i*nb_classes+j]\n",
    "                    else:\n",
    "#                         print(i*nb_tasks+j, k*nb_tasks+l)\n",
    "#                         print(emp_means[i*nb_tasks+j].T.shape)\n",
    "#                         print(emp_means[k*nb_tasks+l].shape)\n",
    "                        M[i*nb_classes+j][k*nb_classes+l] = emp_means[i*nb_classes+j].T.dot(emp_means[k*nb_classes+l])\n",
    "                    # O(p)\n",
    "#                         print(M[i*nb_tasks+j][k*nb_tasks+l].shape)\n",
    "                \n",
    "    return M"
   ]
  },
  {
   "cell_type": "code",
   "execution_count": 208,
   "metadata": {},
   "outputs": [],
   "source": [
    "def merging_center(MM, diag, t, m, p, n, n_t, task_target=None, display=False):\n",
    "    \"\"\"\n",
    "    Recoit les moyennes empiriques des k clients, calcule la matrice de corrélation, les labels optimaux et renvoie le vecteur V\n",
    "    Renvoie y un vecteur de labels optimaux adapté à chaque client. (à changer?)\n",
    "    \"\"\"\n",
    "    # MM = [[MM11, MM12], [MM21, MM22], [MM31, MM32], ...]\n",
    "    emp_means = []\n",
    "    diagonal = []\n",
    "    \n",
    "    for i in range(len(MM)):\n",
    "        emp_means.append(np.reshape(MM[i].T[0], (p, 1)))\n",
    "        emp_means.append(np.reshape(MM[i].T[1], (p, 1)))\n",
    "        diagonal.append(diag[i][0])\n",
    "        diagonal.append(diag[i][1])\n",
    "    #diag = [diag1[0], diag1[1], etc.]\n",
    "    #emp_means = [MM11, MM12, MM21, MM22, MM31, ...]\n",
    "    MM_gathered = gather_empirical_mean(t, m, emp_means, diagonal, p, n_t)\n",
    "    print(\"MM_gathered : \")\n",
    "    matprint(MM_gathered)\n",
    "    \n",
    "    c = estimate_c(n_t, n, t, m)\n",
    "    c0 = p/n\n",
    "    Dc = np.diag(c)\n",
    "#     print(\"c = \", c)\n",
    "#     print(\"Correlation Matrix : \")\n",
    "    correlation_matrix = compute_M_cal(n, p, Dc, MM_gathered, display=display)\n",
    "    \n",
    "    # faire une label evaluation en fonction de la \n",
    "    # faire une boucle sur tous les clients ?\n",
    "    y = label_evaluation(t,m,Dc,MM_gathered, c0, task_target=task_target)\n",
    "    matprint(y)\n",
    "    \n",
    "    # le serveur calcule aussi\n",
    "    V = np.zeros((p,1))\n",
    "    for i in range(t):\n",
    "        for j in range(m):\n",
    "            print(emp_means[i*m+j].shape)\n",
    "            V += n_t[i][j]*emp_means[i*m+j]*y[i*m+j]\n",
    "#     print(f\"V = {V}\")\n",
    "      # essayer de comprendre pourquoi diviser par la norme fait tout foirer et donne zero\n",
    "    V = np.reshape(V, (p))\n",
    "    V = V.astype(\"float128\")\n",
    "    print(V[:10], np.linalg.norm(V))\n",
    "    V /= np.linalg.norm(V)\n",
    "    \n",
    "    return V, y, correlation_matrix, Dc, c0"
   ]
  },
  {
   "cell_type": "code",
   "execution_count": 209,
   "metadata": {},
   "outputs": [
    {
     "name": "stdout",
     "output_type": "stream",
     "text": [
      "MM_gathered : \n",
      "0.0159666  0.0154204  0.0118236  0.0117025  0.0113665  0.0109643  0.0121114  0.0115907  \n",
      "0.0154204  0.0158494  0.0120443  0.0130034  0.0115568  0.0120657  0.0124608  0.0128264  \n",
      "0.0118236  0.0120443  0.0167885  0.0155211  0.0131703  0.0126336  0.0168945  0.0152219  \n",
      "0.0117025  0.0130034  0.0155211  0.0168666  0.0130088  0.0137245  0.0161433  0.0165941  \n",
      "0.0113665  0.0115568  0.0131703  0.0130088  0.0139936  0.0134011  0.0135405  0.0127822  \n",
      "0.0109643  0.0120657  0.0126336  0.0137245  0.0134011  0.0140708  0.0131465  0.0134813  \n",
      "0.0121114  0.0124608  0.0168945  0.0161433  0.0135405  0.0131465  0.0180559  0.0162434  \n",
      "0.0115907  0.0128264  0.0152219  0.0165941  0.0127822  0.0134813  0.0162434  0.0167144  \n"
     ]
    },
    {
     "data": {
      "image/png": "[encoded data removed]",
      "text/plain": [
       "<Figure size 432x288 with 1 Axes>"
      ]
     },
     "metadata": {
      "needs_background": "light"
     },
     "output_type": "display_data"
    },
    {
     "name": "stdout",
     "output_type": "stream",
     "text": [
      "0.00271508  \n",
      "-0.0133238  \n",
      " 0.0198357  \n",
      "-0.0190522  \n",
      "0.00330573  \n",
      "-0.0153177  \n",
      " 0.0121644  \n",
      "-0.0194604  \n",
      "(400, 1)\n",
      "(400, 1)\n",
      "(400, 1)\n",
      "(400, 1)\n",
      "(400, 1)\n",
      "(400, 1)\n",
      "(400, 1)\n",
      "(400, 1)\n",
      "[ 0.64816309 -1.72501032 -1.15843202  0.26019469  0.19566239  0.19600942\n",
      " -0.29795101 -0.25918338  0.19323005  0.06146346] 4.0337461493806320164\n"
     ]
    }
   ],
   "source": [
    "V, y_opt, correlation_matrix, Dc, c0 = merging_center(MM, diag, t, m, p, n, n_t, task_target, True)"
   ]
  },
  {
   "cell_type": "code",
   "execution_count": 194,
   "metadata": {},
   "outputs": [
    {
     "name": "stdout",
     "output_type": "stream",
     "text": [
      "float64\n"
     ]
    }
   ],
   "source": [
    "print(V.dtype)"
   ]
  },
  {
   "cell_type": "code",
   "execution_count": 33,
   "metadata": {
    "scrolled": true
   },
   "outputs": [
    {
     "name": "stdout",
     "output_type": "stream",
     "text": [
      "0.0\n",
      "[array([[0.95192386]]), array([[1.0012283]])]\n",
      "[array([[0.82424997]]), array([[0.84253941]])]\n"
     ]
    },
    {
     "data": {
      "image/png": "[encoded data removed]",
      "text/plain": [
       "<Figure size 432x288 with 1 Axes>"
      ]
     },
     "metadata": {
      "needs_background": "light"
     },
     "output_type": "display_data"
    },
    {
     "name": "stdout",
     "output_type": "stream",
     "text": [
      "e3 - e4 : \n",
      " 0  \n",
      " 0  \n",
      " 1  \n",
      "-1  \n",
      "   4.75962    -4.8477   0.239266  -0.0487519  \n",
      "   -4.8477    5.00614  -0.245751   0.0801754  \n",
      "  0.239266  -0.245751   0.206062   -0.256947  \n",
      "-0.0487519  0.0801754  -0.256947    0.210635  \n",
      "0.1111111111111111\n",
      "[array([[0.95192386]]), array([[1.0012283]])]\n",
      "[array([[0.87925669]]), array([[0.85682921]])]\n"
     ]
    },
    {
     "data": {
      "image/png": "[encoded data removed]",
      "text/plain": [
       "<Figure size 432x288 with 1 Axes>"
      ]
     },
     "metadata": {
      "needs_background": "light"
     },
     "output_type": "display_data"
    },
    {
     "name": "stdout",
     "output_type": "stream",
     "text": [
      "e3 - e4 : \n",
      " 0  \n",
      " 0  \n",
      " 1  \n",
      "-1  \n",
      "  4.75962    -4.8477   0.360285  -0.169771  \n",
      "  -4.8477    5.00614  -0.369638   0.204062  \n",
      " 0.360285  -0.369638   0.219814  -0.265609  \n",
      "-0.169771   0.204062  -0.265609   0.214207  \n",
      "0.2222222222222222\n",
      "[array([[0.95192386]]), array([[1.0012283]])]\n",
      "[array([[0.93814905]]), array([[0.87005051]])]\n"
     ]
    },
    {
     "data": {
      "image/png": "[encoded data removed]",
      "text/plain": [
       "<Figure size 432x288 with 1 Axes>"
      ]
     },
     "metadata": {
      "needs_background": "light"
     },
     "output_type": "display_data"
    },
    {
     "name": "stdout",
     "output_type": "stream",
     "text": [
      "e3 - e4 : \n",
      " 0  \n",
      " 0  \n",
      " 1  \n",
      "-1  \n",
      "  4.75962    -4.8477    0.48119  -0.290676  \n",
      "  -4.8477    5.00614  -0.493995    0.32842  \n",
      "  0.48119  -0.493995   0.234537  -0.274623  \n",
      "-0.290676    0.32842  -0.274623   0.217513  \n",
      "0.3333333333333333\n",
      "[array([[0.95192386]]), array([[1.0012283]])]\n",
      "[array([[1.00115954]]), array([[0.88213938]])]\n"
     ]
    },
    {
     "data": {
      "image/png": "[encoded data removed]",
      "text/plain": [
       "<Figure size 432x288 with 1 Axes>"
      ]
     },
     "metadata": {
      "needs_background": "light"
     },
     "output_type": "display_data"
    },
    {
     "name": "stdout",
     "output_type": "stream",
     "text": [
      "e3 - e4 : \n",
      " 0  \n",
      " 0  \n",
      " 1  \n",
      "-1  \n",
      "  4.75962    -4.8477   0.601973  -0.411459  \n",
      "  -4.8477    5.00614  -0.618852   0.453277  \n",
      " 0.601973  -0.618852    0.25029   -0.28401  \n",
      "-0.411459   0.453277   -0.28401   0.220535  \n",
      "0.4444444444444444\n",
      "[array([[0.95192386]]), array([[1.0012283]])]\n",
      "[array([[1.06873171]]), array([[0.89297387]])]\n"
     ]
    },
    {
     "data": {
      "image/png": "[encoded data removed]",
      "text/plain": [
       "<Figure size 432x288 with 1 Axes>"
      ]
     },
     "metadata": {
      "needs_background": "light"
     },
     "output_type": "display_data"
    },
    {
     "name": "stdout",
     "output_type": "stream",
     "text": [
      "e3 - e4 : \n",
      " 0  \n",
      " 0  \n",
      " 1  \n",
      "-1  \n",
      "  4.75962    -4.8477   0.722621  -0.532107  \n",
      "  -4.8477    5.00614  -0.744262   0.578687  \n",
      " 0.722621  -0.744262   0.267183  -0.293811  \n",
      "-0.532107   0.578687  -0.293811   0.223243  \n",
      "0.5555555555555556\n",
      "[array([[0.95192386]]), array([[1.0012283]])]\n",
      "[array([[1.14163799]]), array([[0.90234155]])]\n"
     ]
    },
    {
     "data": {
      "image/png": "[encoded data removed]",
      "text/plain": [
       "<Figure size 432x288 with 1 Axes>"
      ]
     },
     "metadata": {
      "needs_background": "light"
     },
     "output_type": "display_data"
    },
    {
     "name": "stdout",
     "output_type": "stream",
     "text": [
      "e3 - e4 : \n",
      " 0  \n",
      " 0  \n",
      " 1  \n",
      "-1  \n",
      "  4.75962    -4.8477   0.843111  -0.652597  \n",
      "  -4.8477    5.00614  -0.870319   0.704743  \n",
      " 0.843111  -0.870319   0.285409  -0.304095  \n",
      "-0.652597   0.704743  -0.304095   0.225585  \n",
      "0.6666666666666666\n",
      "[array([[0.95192386]]), array([[1.0012283]])]\n",
      "[array([[1.22125531]]), array([[0.90986379]])]\n"
     ]
    },
    {
     "data": {
      "image/png": "[encoded data removed]",
      "text/plain": [
       "<Figure size 432x288 with 1 Axes>"
      ]
     },
     "metadata": {
      "needs_background": "light"
     },
     "output_type": "display_data"
    },
    {
     "name": "stdout",
     "output_type": "stream",
     "text": [
      "e3 - e4 : \n",
      " 0  \n",
      " 0  \n",
      " 1  \n",
      "-1  \n",
      "  4.75962    -4.8477   0.963402  -0.772889  \n",
      "  -4.8477    5.00614  -0.997188   0.831613  \n",
      " 0.963402  -0.997188   0.305314  -0.314988  \n",
      "-0.772889   0.831613  -0.314988   0.227466  \n",
      "0.7777777777777777\n",
      "[array([[0.95192386]]), array([[1.0012283]])]\n",
      "[array([[1.31032296]]), array([[0.91478733]])]\n"
     ]
    },
    {
     "data": {
      "image/png": "[encoded data removed]",
      "text/plain": [
       "<Figure size 432x288 with 1 Axes>"
      ]
     },
     "metadata": {
      "needs_background": "light"
     },
     "output_type": "display_data"
    },
    {
     "name": "stdout",
     "output_type": "stream",
     "text": [
      "e3 - e4 : \n",
      " 0  \n",
      " 0  \n",
      " 1  \n",
      "-1  \n",
      "  4.75962   -4.8477    1.08341  -0.892901  \n",
      "  -4.8477   5.00614    -1.1252   0.959628  \n",
      "  1.08341   -1.1252   0.327581  -0.326737  \n",
      "-0.892901  0.959628  -0.326737   0.228697  \n",
      "0.8888888888888888\n",
      "[array([[0.95192386]]), array([[1.0012283]])]\n",
      "[array([[1.41589383]]), array([[0.91517273]])]\n"
     ]
    },
    {
     "data": {
      "image/png": "[encoded data removed]",
      "text/plain": [
       "<Figure size 432x288 with 1 Axes>"
      ]
     },
     "metadata": {
      "needs_background": "light"
     },
     "output_type": "display_data"
    },
    {
     "name": "stdout",
     "output_type": "stream",
     "text": [
      "e3 - e4 : \n",
      " 0  \n",
      " 0  \n",
      " 1  \n",
      "-1  \n",
      " 4.75962   -4.8477    1.20294   -1.01243  \n",
      " -4.8477   5.00614   -1.25522    1.08964  \n",
      " 1.20294  -1.25522   0.353973  -0.339981  \n",
      "-1.01243   1.08964  -0.339981   0.228793  \n",
      "1.0\n",
      "[array([[0.95192386]]), array([[1.0012283]])]\n",
      "[array([[1.61004846]]), array([[0.89119891]])]\n"
     ]
    },
    {
     "data": {
      "image/png": "[encoded data removed]",
      "text/plain": [
       "<Figure size 432x288 with 1 Axes>"
      ]
     },
     "metadata": {
      "needs_background": "light"
     },
     "output_type": "display_data"
    },
    {
     "name": "stdout",
     "output_type": "stream",
     "text": [
      "e3 - e4 : \n",
      " 0  \n",
      " 0  \n",
      " 1  \n",
      "-1  \n",
      " 4.75962   -4.8477    1.31984   -1.12933  \n",
      " -4.8477   5.00614   -1.39597     1.2304  \n",
      " 1.31984  -1.39597   0.402512  -0.361254  \n",
      "-1.12933    1.2304  -0.361254     0.2228  \n",
      "temps moyen clients : 0.00093, 0.01507\n",
      "temps moyen Serveur central : 0.18465\n",
      "temps total moyen : 0.20065\n"
     ]
    },
    {
     "data": {
      "image/png": "[encoded data removed]",
      "text/plain": [
       "<Figure size 432x288 with 1 Axes>"
      ]
     },
     "metadata": {
      "needs_background": "light"
     },
     "output_type": "display_data"
    }
   ],
   "source": [
    "n1 = 2000\n",
    "n2 = 100\n",
    "n = n1+n2\n",
    "p = 100\n",
    "m = 2\n",
    "t = 2\n",
    "ni = [n1, n2]\n",
    "beta = np.linspace(0,1,10)\n",
    "n_t = [[int(n1/2),int(n1/2)], [int(n2/2), int(n2/2)]]\n",
    "n_t_test = [[500, 500]]\n",
    "nt = sum(n_t_test[0])\n",
    "emp_rate, th_rate, var = [], [], []\n",
    "\n",
    "t_MM = []\n",
    "t_SC = []\n",
    "t_inf = []\n",
    "t_MM_f = []\n",
    "t_inf_f = []\n",
    "\n",
    "random_state = 100\n",
    "task_target = 1\n",
    "\n",
    "for b in beta:\n",
    "    # on crée les données synthétiques\n",
    "    M = mean_matrix(p, b, t, random_seed=random_state)\n",
    "#       print(M)\n",
    "    # X1 is the local data of the first client\n",
    "    # normalisation?\n",
    "    X, y_bs = gaussian_synthetic_data(n, p, m, t, n_t, M, random_state)\n",
    "    \n",
    "    # data we want to test on our model, here new data of client n°2\n",
    "    X_test, y_test = gaussian_synthetic_data(nt, p, m, 1, n_t_test, [M[task_target]], random_state)\n",
    "    \n",
    "    MM = []\n",
    "    diag = []\n",
    "    \n",
    "    # On calcule les moyennes empiriques sur les données locales\n",
    "    # diag1 = [diag1[0], diag1[1]]\n",
    "    for i in range(t):\n",
    "        t0 = time()\n",
    "        MM1, diag1 = empirical_mean_old(1, m, [X[i]], p, [n_t[i]])\n",
    "        t_MM.append(time()-t0)\n",
    "        MM.append(MM1)\n",
    "        diag.append(diag1)\n",
    "    X = normalisation(X, p)\n",
    "\n",
    "# CENTRAL SERVER\n",
    "    t0 = time()\n",
    "    # sending empirical means to central server\n",
    "    # y est un vecteur de vecteurs de labels optimaux\n",
    "    V, y, correlation_matrix, Dc, c0 = merging_center(MM, diag, t, m, p, n, n_t, task_target)\n",
    "    t_SC.append(time()-t0)\n",
    "    matprint(correlation_matrix)\n",
    "    \n",
    "    # when to normalize the data ?\n",
    "    X_test = normalisation(X_test, p)\n",
    "\n",
    "# END CENTRAL SERVER\n",
    "\n",
    "    # Sending back optimal labels to clients\n",
    "    aggregated = []\n",
    "    for i in range(t):\n",
    "        aggregated.append(aggregate_array([X[i]], p, ni[i], 1, m))\n",
    "    X_test_aggregated = aggregate_array(X_test, p, nt, 1, m)\n",
    "    # ou alors créer un J ?\n",
    "#     J = create_J(m, 2, n, n_t)\n",
    "    \n",
    "    VTX = V.T@X_test_aggregated\n",
    "    var.append(np.var(VTX))\n",
    "    \n",
    "#     debug_histogram(V, X_test_aggregated, n_t_test)\n",
    "#     print(\"V = \")\n",
    "#     print(V)\n",
    "    t0 = time()\n",
    "    m_t = create_mt(t, m, y, Dc, correlation_matrix)\n",
    "    \n",
    "    emp_rate.append(compute_error_rate(X_test, V, m_t, 1, m, n_t_test, Dc, c0))\n",
    "    t_inf.append(time()-t0)\n",
    "#     th_rate.append(error_rate(t, m,  Dc, MM_true, c0)[0][0])\n",
    "#     print(emp_rate, th_rate)\n",
    "    t_MM_f.append(max(t_MM))\n",
    "    t_inf_f.append(max(t_inf))\n",
    "    \n",
    "# pour pas le recalculer a chaque fois \n",
    "th_rate = [0.23975006109347674, 0.23910189492427802, 0.23712834068265354, 0.23373859215337528, 0.2287682743173643, 0.22195637062121154, 0.2129043075952785, 0.20100393554334806, 0.18530737544421827, 0.16428249171959852]   \n",
    "\n",
    "print(f\"temps moyen clients : {round(np.mean(t_MM_f), 5)}, {round(np.mean(t_inf_f), 5)}\")\n",
    "print(f\"temps moyen Serveur central : {round(np.mean(t_SC), 5)}\")\n",
    "print(f\"temps total moyen : {round(np.mean(t_MM_f), 5) + round(np.mean(t_inf_f), 5) + round(np.mean(t_SC), 5)}\")\n",
    "\n",
    "lower = np.array(emp_rate) - np.array(var)\n",
    "upper = np.array(emp_rate) + np.array(var)\n",
    "plt.plot(beta, emp_rate, '-o', label='empirical rate')\n",
    "plt.plot(beta, th_rate, '-o', label='theoritical rate')\n",
    "plt.fill_between(beta, lower, upper, alpha=0.2, label=\"variance\")\n",
    "plt.legend()\n",
    "plt.title(f\"2-class Gaussian mixture transfer error rate for n={n} and p={p}\")\n",
    "plt.xlabel(\"Task relatedness (beta)\")\n",
    "plt.ylabel(\"error rate\")\n",
    "plt.grid()\n",
    "plt.show()"
   ]
  },
  {
   "cell_type": "code",
   "execution_count": null,
   "metadata": {},
   "outputs": [],
   "source": [
    "4.75962   -4.8477    1.08341  -0.892901  \n",
    "  -4.8477   5.00614    -1.1252   0.959628  \n",
    "  1.08341   -1.1252   0.327581  -0.326737  \n",
    "-0.892901  0.959628  -0.326737   0.228697 "
   ]
  },
  {
   "cell_type": "code",
   "execution_count": 46,
   "metadata": {},
   "outputs": [
    {
     "name": "stdout",
     "output_type": "stream",
     "text": [
      "2\n"
     ]
    }
   ],
   "source": [
    "print(i)"
   ]
  },
  {
   "cell_type": "code",
   "execution_count": 70,
   "metadata": {
    "collapsed": true
   },
   "outputs": [
    {
     "name": "stdout",
     "output_type": "stream",
     "text": [
      "temps moyen clients (calcul moyennes, inférence): 0.00093 s, 0.01507 s\n",
      "temps moyen Serveur central : 0.18465 s\n",
      "temps total moyen : 0.20065 s\n"
     ]
    },
    {
     "ename": "ValueError",
     "evalue": "x and y must have same first dimension, but have shapes (10,) and (9,)",
     "output_type": "error",
     "traceback": [
      "\u001b[0;31m---------------------------------------------------------------------------\u001b[0m",
      "\u001b[0;31mValueError\u001b[0m                                Traceback (most recent call last)",
      "\u001b[0;32m<ipython-input-70-0f822c136269>\u001b[0m in \u001b[0;36m<module>\u001b[0;34m\u001b[0m\n\u001b[1;32m      7\u001b[0m \u001b[0mlower\u001b[0m \u001b[0;34m=\u001b[0m \u001b[0mnp\u001b[0m\u001b[0;34m.\u001b[0m\u001b[0marray\u001b[0m\u001b[0;34m(\u001b[0m\u001b[0memp_rate\u001b[0m\u001b[0;34m)\u001b[0m \u001b[0;34m-\u001b[0m \u001b[0mnp\u001b[0m\u001b[0;34m.\u001b[0m\u001b[0marray\u001b[0m\u001b[0;34m(\u001b[0m\u001b[0mvar\u001b[0m\u001b[0;34m)\u001b[0m\u001b[0;34m\u001b[0m\u001b[0;34m\u001b[0m\u001b[0m\n\u001b[1;32m      8\u001b[0m \u001b[0mupper\u001b[0m \u001b[0;34m=\u001b[0m \u001b[0mnp\u001b[0m\u001b[0;34m.\u001b[0m\u001b[0marray\u001b[0m\u001b[0;34m(\u001b[0m\u001b[0memp_rate\u001b[0m\u001b[0;34m)\u001b[0m \u001b[0;34m+\u001b[0m \u001b[0mnp\u001b[0m\u001b[0;34m.\u001b[0m\u001b[0marray\u001b[0m\u001b[0;34m(\u001b[0m\u001b[0mvar\u001b[0m\u001b[0;34m)\u001b[0m\u001b[0;34m\u001b[0m\u001b[0;34m\u001b[0m\u001b[0m\n\u001b[0;32m----> 9\u001b[0;31m \u001b[0mplt\u001b[0m\u001b[0;34m.\u001b[0m\u001b[0mplot\u001b[0m\u001b[0;34m(\u001b[0m\u001b[0mbeta\u001b[0m\u001b[0;34m,\u001b[0m \u001b[0memp_rate\u001b[0m\u001b[0;34m,\u001b[0m \u001b[0;34m'-o'\u001b[0m\u001b[0;34m,\u001b[0m \u001b[0mlabel\u001b[0m\u001b[0;34m=\u001b[0m\u001b[0;34m'empirical rate'\u001b[0m\u001b[0;34m)\u001b[0m\u001b[0;34m\u001b[0m\u001b[0;34m\u001b[0m\u001b[0m\n\u001b[0m\u001b[1;32m     10\u001b[0m \u001b[0mplt\u001b[0m\u001b[0;34m.\u001b[0m\u001b[0mplot\u001b[0m\u001b[0;34m(\u001b[0m\u001b[0mbeta\u001b[0m\u001b[0;34m,\u001b[0m \u001b[0mth_rate\u001b[0m\u001b[0;34m,\u001b[0m \u001b[0;34m'-o'\u001b[0m\u001b[0;34m,\u001b[0m \u001b[0mlabel\u001b[0m\u001b[0;34m=\u001b[0m\u001b[0;34m'theoritical rate'\u001b[0m\u001b[0;34m)\u001b[0m\u001b[0;34m\u001b[0m\u001b[0;34m\u001b[0m\u001b[0m\n\u001b[1;32m     11\u001b[0m \u001b[0mplt\u001b[0m\u001b[0;34m.\u001b[0m\u001b[0mfill_between\u001b[0m\u001b[0;34m(\u001b[0m\u001b[0mbeta\u001b[0m\u001b[0;34m,\u001b[0m \u001b[0mlower\u001b[0m\u001b[0;34m,\u001b[0m \u001b[0mupper\u001b[0m\u001b[0;34m,\u001b[0m \u001b[0malpha\u001b[0m\u001b[0;34m=\u001b[0m\u001b[0;36m0.2\u001b[0m\u001b[0;34m,\u001b[0m \u001b[0mlabel\u001b[0m\u001b[0;34m=\u001b[0m\u001b[0;34m\"variance\"\u001b[0m\u001b[0;34m)\u001b[0m\u001b[0;34m\u001b[0m\u001b[0;34m\u001b[0m\u001b[0m\n",
      "\u001b[0;32m~/anaconda3/lib/python3.7/site-packages/matplotlib/pyplot.py\u001b[0m in \u001b[0;36mplot\u001b[0;34m(scalex, scaley, data, *args, **kwargs)\u001b[0m\n\u001b[1;32m   2840\u001b[0m     return gca().plot(\n\u001b[1;32m   2841\u001b[0m         \u001b[0;34m*\u001b[0m\u001b[0margs\u001b[0m\u001b[0;34m,\u001b[0m \u001b[0mscalex\u001b[0m\u001b[0;34m=\u001b[0m\u001b[0mscalex\u001b[0m\u001b[0;34m,\u001b[0m \u001b[0mscaley\u001b[0m\u001b[0;34m=\u001b[0m\u001b[0mscaley\u001b[0m\u001b[0;34m,\u001b[0m\u001b[0;34m\u001b[0m\u001b[0;34m\u001b[0m\u001b[0m\n\u001b[0;32m-> 2842\u001b[0;31m         **({\"data\": data} if data is not None else {}), **kwargs)\n\u001b[0m\u001b[1;32m   2843\u001b[0m \u001b[0;34m\u001b[0m\u001b[0m\n\u001b[1;32m   2844\u001b[0m \u001b[0;34m\u001b[0m\u001b[0m\n",
      "\u001b[0;32m~/anaconda3/lib/python3.7/site-packages/matplotlib/axes/_axes.py\u001b[0m in \u001b[0;36mplot\u001b[0;34m(self, scalex, scaley, data, *args, **kwargs)\u001b[0m\n\u001b[1;32m   1741\u001b[0m         \"\"\"\n\u001b[1;32m   1742\u001b[0m         \u001b[0mkwargs\u001b[0m \u001b[0;34m=\u001b[0m \u001b[0mcbook\u001b[0m\u001b[0;34m.\u001b[0m\u001b[0mnormalize_kwargs\u001b[0m\u001b[0;34m(\u001b[0m\u001b[0mkwargs\u001b[0m\u001b[0;34m,\u001b[0m \u001b[0mmlines\u001b[0m\u001b[0;34m.\u001b[0m\u001b[0mLine2D\u001b[0m\u001b[0;34m)\u001b[0m\u001b[0;34m\u001b[0m\u001b[0;34m\u001b[0m\u001b[0m\n\u001b[0;32m-> 1743\u001b[0;31m         \u001b[0mlines\u001b[0m \u001b[0;34m=\u001b[0m \u001b[0;34m[\u001b[0m\u001b[0;34m*\u001b[0m\u001b[0mself\u001b[0m\u001b[0;34m.\u001b[0m\u001b[0m_get_lines\u001b[0m\u001b[0;34m(\u001b[0m\u001b[0;34m*\u001b[0m\u001b[0margs\u001b[0m\u001b[0;34m,\u001b[0m \u001b[0mdata\u001b[0m\u001b[0;34m=\u001b[0m\u001b[0mdata\u001b[0m\u001b[0;34m,\u001b[0m \u001b[0;34m**\u001b[0m\u001b[0mkwargs\u001b[0m\u001b[0;34m)\u001b[0m\u001b[0;34m]\u001b[0m\u001b[0;34m\u001b[0m\u001b[0;34m\u001b[0m\u001b[0m\n\u001b[0m\u001b[1;32m   1744\u001b[0m         \u001b[0;32mfor\u001b[0m \u001b[0mline\u001b[0m \u001b[0;32min\u001b[0m \u001b[0mlines\u001b[0m\u001b[0;34m:\u001b[0m\u001b[0;34m\u001b[0m\u001b[0;34m\u001b[0m\u001b[0m\n\u001b[1;32m   1745\u001b[0m             \u001b[0mself\u001b[0m\u001b[0;34m.\u001b[0m\u001b[0madd_line\u001b[0m\u001b[0;34m(\u001b[0m\u001b[0mline\u001b[0m\u001b[0;34m)\u001b[0m\u001b[0;34m\u001b[0m\u001b[0;34m\u001b[0m\u001b[0m\n",
      "\u001b[0;32m~/anaconda3/lib/python3.7/site-packages/matplotlib/axes/_base.py\u001b[0m in \u001b[0;36m__call__\u001b[0;34m(self, data, *args, **kwargs)\u001b[0m\n\u001b[1;32m    271\u001b[0m                 \u001b[0mthis\u001b[0m \u001b[0;34m+=\u001b[0m \u001b[0margs\u001b[0m\u001b[0;34m[\u001b[0m\u001b[0;36m0\u001b[0m\u001b[0;34m]\u001b[0m\u001b[0;34m,\u001b[0m\u001b[0;34m\u001b[0m\u001b[0;34m\u001b[0m\u001b[0m\n\u001b[1;32m    272\u001b[0m                 \u001b[0margs\u001b[0m \u001b[0;34m=\u001b[0m \u001b[0margs\u001b[0m\u001b[0;34m[\u001b[0m\u001b[0;36m1\u001b[0m\u001b[0;34m:\u001b[0m\u001b[0;34m]\u001b[0m\u001b[0;34m\u001b[0m\u001b[0;34m\u001b[0m\u001b[0m\n\u001b[0;32m--> 273\u001b[0;31m             \u001b[0;32myield\u001b[0m \u001b[0;32mfrom\u001b[0m \u001b[0mself\u001b[0m\u001b[0;34m.\u001b[0m\u001b[0m_plot_args\u001b[0m\u001b[0;34m(\u001b[0m\u001b[0mthis\u001b[0m\u001b[0;34m,\u001b[0m \u001b[0mkwargs\u001b[0m\u001b[0;34m)\u001b[0m\u001b[0;34m\u001b[0m\u001b[0;34m\u001b[0m\u001b[0m\n\u001b[0m\u001b[1;32m    274\u001b[0m \u001b[0;34m\u001b[0m\u001b[0m\n\u001b[1;32m    275\u001b[0m     \u001b[0;32mdef\u001b[0m \u001b[0mget_next_color\u001b[0m\u001b[0;34m(\u001b[0m\u001b[0mself\u001b[0m\u001b[0;34m)\u001b[0m\u001b[0;34m:\u001b[0m\u001b[0;34m\u001b[0m\u001b[0;34m\u001b[0m\u001b[0m\n",
      "\u001b[0;32m~/anaconda3/lib/python3.7/site-packages/matplotlib/axes/_base.py\u001b[0m in \u001b[0;36m_plot_args\u001b[0;34m(self, tup, kwargs)\u001b[0m\n\u001b[1;32m    397\u001b[0m \u001b[0;34m\u001b[0m\u001b[0m\n\u001b[1;32m    398\u001b[0m         \u001b[0;32mif\u001b[0m \u001b[0mx\u001b[0m\u001b[0;34m.\u001b[0m\u001b[0mshape\u001b[0m\u001b[0;34m[\u001b[0m\u001b[0;36m0\u001b[0m\u001b[0;34m]\u001b[0m \u001b[0;34m!=\u001b[0m \u001b[0my\u001b[0m\u001b[0;34m.\u001b[0m\u001b[0mshape\u001b[0m\u001b[0;34m[\u001b[0m\u001b[0;36m0\u001b[0m\u001b[0;34m]\u001b[0m\u001b[0;34m:\u001b[0m\u001b[0;34m\u001b[0m\u001b[0;34m\u001b[0m\u001b[0m\n\u001b[0;32m--> 399\u001b[0;31m             raise ValueError(f\"x and y must have same first dimension, but \"\n\u001b[0m\u001b[1;32m    400\u001b[0m                              f\"have shapes {x.shape} and {y.shape}\")\n\u001b[1;32m    401\u001b[0m         \u001b[0;32mif\u001b[0m \u001b[0mx\u001b[0m\u001b[0;34m.\u001b[0m\u001b[0mndim\u001b[0m \u001b[0;34m>\u001b[0m \u001b[0;36m2\u001b[0m \u001b[0;32mor\u001b[0m \u001b[0my\u001b[0m\u001b[0;34m.\u001b[0m\u001b[0mndim\u001b[0m \u001b[0;34m>\u001b[0m \u001b[0;36m2\u001b[0m\u001b[0;34m:\u001b[0m\u001b[0;34m\u001b[0m\u001b[0;34m\u001b[0m\u001b[0m\n",
      "\u001b[0;31mValueError\u001b[0m: x and y must have same first dimension, but have shapes (10,) and (9,)"
     ]
    },
    {
     "data": {
      "image/png": "[encoded data removed]",
      "text/plain": [
       "<Figure size 432x288 with 1 Axes>"
      ]
     },
     "metadata": {
      "needs_background": "light"
     },
     "output_type": "display_data"
    }
   ],
   "source": [
    "th_rate = [0.23975006109347674, 0.23910189492427802, 0.23712834068265354, 0.23373859215337528, 0.2287682743173643, 0.22195637062121154, 0.2129043075952785, 0.20100393554334806, 0.18530737544421827, 0.16428249171959852]   \n",
    "\n",
    "print(f\"temps moyen clients (calcul moyennes, inférence): {round(np.mean(t_MM_f), 5)} s, {round(np.mean(t_inf_f), 5)} s\")\n",
    "print(f\"temps moyen Serveur central : {round(np.mean(t_SC), 5)} s\")\n",
    "print(f\"temps total moyen : {round(np.mean(t_MM_f), 5) + round(np.mean(t_inf_f), 5) + round(np.mean(t_SC), 5)} s\")\n",
    "\n",
    "lower = np.array(emp_rate) - np.array(var)\n",
    "upper = np.array(emp_rate) + np.array(var)\n",
    "plt.plot(beta, emp_rate, '-o', label='empirical rate')\n",
    "plt.plot(beta, th_rate, '-o', label='theoritical rate')\n",
    "plt.fill_between(beta, lower, upper, alpha=0.2, label=\"variance\")\n",
    "plt.legend()\n",
    "plt.title(f\"2-class Gaussian mixture transfer error rate for n={n} and p={p}\")\n",
    "plt.xlabel(\"Task relatedness (beta)\")\n",
    "plt.ylabel(\"error rate\")\n",
    "plt.grid()\n",
    "plt.show()"
   ]
  },
  {
   "cell_type": "markdown",
   "metadata": {},
   "source": [
    "# Distributively adding tasks"
   ]
  },
  {
   "cell_type": "code",
   "execution_count": 223,
   "metadata": {
    "scrolled": true
   },
   "outputs": [
    {
     "name": "stdout",
     "output_type": "stream",
     "text": [
      "random\n",
      "beta 0.3745401188473625\n",
      "random\n",
      "beta 0.3745401188473625\n",
      "MM_gathered : \n",
      "  1.00989   -1.00613   0.439756  -0.359996  \n",
      " -1.00613    1.03729  -0.466749   0.384811  \n",
      " 0.439756  -0.466749    1.33263   -1.05871  \n",
      "-0.359996   0.384811   -1.05871    1.04691  \n",
      " 0.248217  \n",
      "-0.336668  \n",
      "  4.47282  \n",
      " -4.03944  \n",
      "(200, 1)\n",
      "(200, 1)\n",
      "(200, 1)\n",
      "(200, 1)\n",
      "[1133.75005489 -241.18754561   35.42522789   53.57148234   44.88094283\n",
      "   69.98129978 -125.81363404   57.09439625  -64.73541293 -121.44882172] 2745.9912331842625162\n"
     ]
    },
    {
     "data": {
      "image/png": "[encoded data removed]",
      "text/plain": [
       "<Figure size 432x288 with 1 Axes>"
      ]
     },
     "metadata": {
      "needs_background": "light"
     },
     "output_type": "display_data"
    },
    {
     "name": "stdout",
     "output_type": "stream",
     "text": [
      "arg q-func : \n",
      "[[0.72469802]]\n",
      "random\n",
      "beta 0.3745401188473625\n",
      "random\n",
      "beta 0.9507143064099162\n",
      "random\n",
      "beta 0.7319939418114051\n",
      "MM_gathered : \n",
      "  1.00989   -1.00613   0.439756  -0.359996   0.984699  -0.981338   0.736296  -0.869464  \n",
      " -1.00613    1.03729  -0.466749   0.384811  -0.950418   0.937085  -0.733073   0.711275  \n",
      " 0.439756  -0.466749    1.33263   -1.05871   0.728542  -0.707036    1.10882  -0.924071  \n",
      "-0.359996   0.384811   -1.05871    1.04691  -0.579319   0.680197    -1.0202   0.837584  \n",
      " 0.984699  -0.950418   0.728542  -0.579319   0.961304  -0.967678   0.860329   -0.84014  \n",
      "-0.981338   0.937085  -0.707036   0.680197  -0.967678    1.04572  -0.951479   0.874853  \n",
      " 0.736296  -0.733073    1.10882    -1.0202   0.860329  -0.951479    1.17599  -0.994564  \n",
      "-0.869464   0.711275  -0.924071   0.837584   -0.84014   0.874853  -0.994564   0.956786  \n",
      "-1.88968  \n",
      "0.505847  \n",
      " 6.33996  \n",
      "-5.27863  \n",
      " 1.38463  \n",
      "-1.15299  \n",
      "  4.3345  \n",
      "-3.53527  \n",
      "(200, 1)\n",
      "(200, 1)\n",
      "(200, 1)\n",
      "(200, 1)\n",
      "(200, 1)\n",
      "(200, 1)\n",
      "(200, 1)\n",
      "(200, 1)\n",
      "[2524.82240802 -451.94561212   22.00095424  148.32221441   37.75270348\n",
      "   85.97077448 -194.66165834  100.93729995  -10.57509059 -235.70636863] 5769.9490414282060424\n"
     ]
    },
    {
     "data": {
      "image/png": "[encoded data removed]",
      "text/plain": [
       "<Figure size 432x288 with 1 Axes>"
      ]
     },
     "metadata": {
      "needs_background": "light"
     },
     "output_type": "display_data"
    },
    {
     "name": "stdout",
     "output_type": "stream",
     "text": [
      "arg q-func : \n",
      "[[0.80977304]]\n"
     ]
    }
   ],
   "source": [
    "# %%prun -s cumulative\n",
    "%matplotlib inline\n",
    "# profiling\n",
    "p = 200\n",
    "m = 2\n",
    "# on ajoute des tâches 2 par 2\n",
    "nb_tasks = 3\n",
    "step = 2\n",
    "t = range(2,step*nb_tasks, step)\n",
    "multiple = 1\n",
    "to_add = [500, 500], [250, 250]\n",
    "n_t = []\n",
    "n_t_test = [[1000, 1000]]\n",
    "nt = sum(n_t_test[0])\n",
    "# la liste temps comprendra le temps pour le training, le calcul de M et y et le temps d'inférence\n",
    "emp_rate, th_rate, var, relative_error_rate = [], [], [], []\n",
    "\n",
    "# temps\n",
    "t_SC = 0\n",
    "t_inf = []\n",
    "t_MM_f = 0\n",
    "t_inf_f = 0\n",
    "t_total_d = []\n",
    "t_SC_d = []\n",
    "random_state = 42\n",
    "\n",
    "# données envoyées de taille p\n",
    "data_sent = []\n",
    "\n",
    "# on définit la tache cible\n",
    "task_target = 1\n",
    "\n",
    "M = mean_matrix(p, beta=None, k=2, random_seed=random_state, random=True)\n",
    "X_test, y_test = gaussian_synthetic_data(nt, p, m, 1, n_t_test, [M[task_target]], random_state)\n",
    "X_test = normalisation(X_test, p)\n",
    "\n",
    "for b in t:\n",
    "    t_MM = []\n",
    "    sent = 0\n",
    "    n_t.append(to_add[0])\n",
    "    n_t.append(to_add[1])\n",
    "    \n",
    "    n = sum(list(map(sum, (n_t[i] for i in range(b)))))\n",
    "#     print(\"n = \", n)\n",
    "    # on crée les données synthétiques\n",
    "    M = mean_matrix(p, beta=None, k=b, random_seed=random_state, random=True)\n",
    "       \n",
    "    X, y_bs = gaussian_synthetic_data(n, p, m, b, n_t, M, random_state)\n",
    "    MM = []\n",
    "    diag = []\n",
    "    \n",
    "    # On calcule les moyennes empiriques sur les données locales de chaque serveur\n",
    "    # diag1 = [diag1[0], diag1[1]]\n",
    "    for i in range(b):\n",
    "        t0 = time()\n",
    "        MM1, diag1 = empirical_mean_old(1, m, [X[i]], p, [n_t[i]])\n",
    "        # chaque moyenne empirique calculée est un vecteur de taille p\n",
    "        sent+=1\n",
    "        t_MM.append(time()-t0)\n",
    "        \n",
    "        MM.append(MM1)\n",
    "        diag.append(diag1)\n",
    "\n",
    "    # CENTRAL SERVER\n",
    "    t0 = time()\n",
    "    # sending empirical means to central server\n",
    "    V, y, correlation_matrix, Dc, c0 = merging_center(MM, diag, b, m, p, n, n_t, task_target)   \n",
    "    #V_true, y_true, correlation_matrix_true, Dc, c0 = merging_center(M_true, diag_true, b, m, p, n_t, task_target)\n",
    "    t_SC = time()-t0\n",
    "    \n",
    "    # END CENTRAL SERVER\n",
    "    # a prendre en compte dans le timing\n",
    "    X = normalisation(X, p)\n",
    "    \n",
    "    X_train_aggregated = aggregate_array(X, p, n, b, m)\n",
    "    X_test_aggregated = aggregate_array(X_test, p, nt, 1, m)\n",
    "    # On time le temps d'inférence\n",
    "    \n",
    "    # Calcul avec les vraies moyennes\n",
    "    M_true = true_mean(M, p, b, m)\n",
    "    MM_true = M_true.T@M_true\n",
    "    correlation_matrix_true = compute_M_cal(n, p, Dc, MM_true, display=False)\n",
    "    y_true = label_evaluation(b,m,Dc, MM_true, c0, task_target=task_target)\n",
    "    \n",
    "#     V_true = compute_V(y_true, X_train_aggregated, J, n)\n",
    "#     debug_histogram(V_true, X_test_aggregated, n_t_test)\n",
    "#     print(\"V = \")\n",
    "    VTX = V.T@X_test_aggregated\n",
    "    var.append(np.var(VTX))\n",
    "    debug_histogram(V, X_test_aggregated, n_t_test)\n",
    "    \n",
    "    t0 = time()\n",
    "    m_t = create_mt(b, m, y, Dc, correlation_matrix)\n",
    "    \n",
    "    erreur_theorique = error_rate(b, m,  Dc, MM_true, c0)[0][0]\n",
    "    emp_rate.append(compute_error_rate(X_test, V, m_t, 1, m, n_t_test, Dc, c0))\n",
    "    th_rate.append(erreur_theorique)\n",
    "    t_inf.append(time()-t0)\n",
    "    t_MM_f = max(t_MM)\n",
    "    t_inf_f = max(t_inf)\n",
    "    t_total_d.append(t_MM_f + t_SC)\n",
    "    t_SC_d.append(t_SC)\n",
    "    data_sent.append(sent)\n",
    "\n",
    "# print(f\"temps moyen clients : {round(np.mean(t_MM_f), 5)}, {round(np.mean(t_inf_f), 5)}\")\n",
    "# print(f\"temps moyen Serveur central : {round(np.mean(t_SC), 5)}\")\n",
    "# print(f\"temps total moyen : {round(np.mean(t_MM_f), 5) + round(np.mean(t_inf_f), 5) + round(np.mean(t_SC), 5)}\")"
   ]
  },
  {
   "cell_type": "code",
   "execution_count": 222,
   "metadata": {},
   "outputs": [
    {
     "name": "stdout",
     "output_type": "stream",
     "text": [
      "[[500, 500], [250, 250]]\n"
     ]
    }
   ],
   "source": [
    "print(n_t)"
   ]
  },
  {
   "cell_type": "code",
   "execution_count": 90,
   "metadata": {},
   "outputs": [
    {
     "name": "stdout",
     "output_type": "stream",
     "text": [
      "[2, 4, 6, 8, 10, 12, 14, 16, 18]\n",
      "[2100, 4200, 6300, 8400, 10500]\n",
      "[0.0006132125854492188, 0.0007386207580566406, 0.0012683868408203125, 0.0018301010131835938, 0.0036993026733398438, 0.0035157203674316406, 0.006444215774536133, 0.006421804428100586, 0.00941157341003418]\n",
      "[0.0014486312866210938, 0.0015006065368652344, 0.0024559497833251953, 0.0027616024017333984, 0.004588603973388672, 0.004677772521972656, 0.008049964904785156, 0.007590532302856445, 0.012226581573486328]\n",
      "[0.19730359169896483, 0.18409367962615064, 0.16952392663218724, 0.16464100094357442, 0.16390025000312758, 0.16287128429045816, 0.16279455537925752, 0.16181543518909547, 0.16123270573877568]\n"
     ]
    }
   ],
   "source": [
    "print(data_sent)\n",
    "print(data_sent_nd)\n",
    "print(t_SC_d)\n",
    "print(t_total_d)\n",
    "print(th_rate)"
   ]
  },
  {
   "cell_type": "code",
   "execution_count": 224,
   "metadata": {},
   "outputs": [
    {
     "data": {
      "image/png": "[encoded data removed]",
      "text/plain": [
       "<Figure size 432x288 with 1 Axes>"
      ]
     },
     "metadata": {
      "needs_background": "light"
     },
     "output_type": "display_data"
    },
    {
     "data": {
      "image/png": "[encoded data removed]",
      "text/plain": [
       "<Figure size 432x288 with 1 Axes>"
      ]
     },
     "metadata": {
      "needs_background": "light"
     },
     "output_type": "display_data"
    },
    {
     "data": {
      "image/png": "[encoded data removed]",
      "text/plain": [
       "<Figure size 432x288 with 1 Axes>"
      ]
     },
     "metadata": {
      "needs_background": "light"
     },
     "output_type": "display_data"
    }
   ],
   "source": [
    "# plot le temps du distribué vs non distribué\n",
    "plt.plot(data_sent, t_total_d, '-o', label='distribué')\n",
    "plt.plot(data_sent, t_SC_d, '-o', label='serveur central')\n",
    "# plt.plot(t, t_total_nd, '-o', label='non distribué')\n",
    "plt.xlabel(\"Nombre de tâches\")\n",
    "plt.ylabel(\"Temps total\")\n",
    "plt.title(\"Temps totaux de traitement en fonction du nombre de tâches\")\n",
    "plt.legend()\n",
    "plt.grid()\n",
    "plt.show()\n",
    "\n",
    "plt.plot(data_sent, data_sent, \"-o\", label='distribué')\n",
    "# plt.plot(t, data_sent_nd, '-o', label='non distribué')\n",
    "plt.xlabel(\"Nombre de tâches\")\n",
    "plt.ylabel(\"Nombre de données envoyées\")\n",
    "plt.yscale(\"log\")\n",
    "plt.title(r\"Nombre de données de taille $p$ envoyées au serveur central\")\n",
    "plt.legend()\n",
    "plt.grid()\n",
    "plt.show()\n",
    "\n",
    "lower = np.array(emp_rate) - np.array(var)\n",
    "upper = np.array(emp_rate) + np.array(var)\n",
    "plt.fill_between(data_sent, lower, upper, alpha=0.2, label=\"variance\")\n",
    "plt.plot(data_sent, emp_rate, \"-o\", label='empirical rate')\n",
    "plt.plot(data_sent, th_rate, '-o', label='theoritical rate')\n",
    "plt.xlabel(\"Nombre de tâches\")\n",
    "plt.ylabel(\"Taux d'erreur\")\n",
    "plt.title(r\"Taux d'erreur empirique et théorique\")\n",
    "plt.legend()\n",
    "plt.grid()\n",
    "plt.show()"
   ]
  },
  {
   "cell_type": "code",
   "execution_count": 30,
   "metadata": {
    "collapsed": true
   },
   "outputs": [
    {
     "name": "stdout",
     "output_type": "stream",
     "text": [
      "0.3078761100769043\n"
     ]
    }
   ],
   "source": [
    "print(t_SC)\n",
    "# le temps passé dans le serveur central augmente avec le nombre de clients (augmente comment ?)"
   ]
  },
  {
   "cell_type": "markdown",
   "metadata": {},
   "source": [
    "# Real Data"
   ]
  },
  {
   "cell_type": "code",
   "execution_count": 210,
   "metadata": {},
   "outputs": [],
   "source": [
    "def divide_array(X,y,k,m=2):\n",
    "    \"\"\"\n",
    "    Divide a data ndarray in an array of k arrays of m ndarrays each.\n",
    "    Return the divided array and the number of elements in each classes of each tasks\n",
    "    \"\"\"\n",
    "    X_data = []\n",
    "    n_t = []\n",
    "    for task in range(k):\n",
    "        n_t.append([])\n",
    "        X_data.append([])\n",
    "        n_t1 = np.count_nonzero(y)\n",
    "        n_t[task].append(n_t1)\n",
    "        n_t[task].append(len(y) - n_t1)\n",
    "        X_data[task].append(X[:n_t1].T)\n",
    "        X_data[task].append(X[n_t1:].T)\n",
    "        \n",
    "    return X_data, n_t"
   ]
  },
  {
   "cell_type": "code",
   "execution_count": 230,
   "metadata": {
    "scrolled": true
   },
   "outputs": [
    {
     "name": "stdout",
     "output_type": "stream",
     "text": [
      "n :  3999\n",
      "[[1000, 1000], [999, 1000]]\n",
      "MM_gathered : \n",
      "0.0159666  0.0154204  0.0118236  0.0117025  \n",
      "0.0154204  0.0158494  0.0120443  0.0130034  \n",
      "0.0118236  0.0120443  0.0167885  0.0155211  \n",
      "0.0117025  0.0130034  0.0155211  0.0168666  \n"
     ]
    },
    {
     "data": {
      "image/png": "[encoded data removed]",
      "text/plain": [
       "<Figure size 432x288 with 1 Axes>"
      ]
     },
     "metadata": {
      "needs_background": "light"
     },
     "output_type": "display_data"
    },
    {
     "name": "stdout",
     "output_type": "stream",
     "text": [
      " 0.00151086  \n",
      "-0.00924108  \n",
      "  0.0128742  \n",
      " -0.0131405  \n",
      "(400, 1)\n",
      "(400, 1)\n",
      "(400, 1)\n",
      "(400, 1)\n",
      "[ 0.26751429 -0.56369984 -0.38071154  0.14108178  0.05562386  0.12081706\n",
      " -0.07908024 -0.06268738  0.10057756  0.04118221] 1.3119127015219087556\n",
      "0.250063         0         0         0  \n",
      "       0  0.250063         0         0  \n",
      "       0         0  0.249812         0  \n",
      "       0         0         0  0.250063  \n"
     ]
    },
    {
     "data": {
      "image/png": "[encoded data removed]",
      "text/plain": [
       "<Figure size 432x288 with 1 Axes>"
      ]
     },
     "metadata": {
      "needs_background": "light"
     },
     "output_type": "display_data"
    },
    {
     "name": "stdout",
     "output_type": "stream",
     "text": [
      "n :  3999\n",
      "[[1000, 1000], [999, 1000], [999, 1000]]\n",
      "MM_gathered : \n",
      "0.0159666  0.0154204  0.0118236  0.0117025  0.0113665  0.0109643  \n",
      "0.0154204  0.0158494  0.0120443  0.0130034  0.0115568  0.0120657  \n",
      "0.0118236  0.0120443  0.0167885  0.0155211  0.0131703  0.0126336  \n",
      "0.0117025  0.0130034  0.0155211  0.0168666  0.0130088  0.0137245  \n",
      "0.0113665  0.0115568  0.0131703  0.0130088  0.0139936  0.0134011  \n",
      "0.0109643  0.0120657  0.0126336  0.0137245  0.0134011  0.0140708  \n"
     ]
    },
    {
     "data": {
      "image/png": "[encoded data removed]",
      "text/plain": [
       "<Figure size 432x288 with 1 Axes>"
      ]
     },
     "metadata": {
      "needs_background": "light"
     },
     "output_type": "display_data"
    },
    {
     "name": "stdout",
     "output_type": "stream",
     "text": [
      " 0.00170505  \n",
      "-0.00902029  \n",
      "  0.0131009  \n",
      " -0.0128854  \n",
      " 0.00208923  \n",
      " -0.0103577  \n",
      "(400, 1)\n",
      "(400, 1)\n",
      "(400, 1)\n",
      "(400, 1)\n",
      "(400, 1)\n",
      "(400, 1)\n",
      "[ 0.25785141 -0.82974003 -0.65272107  0.13925608  0.06287252  0.1091868\n",
      " -0.15248826 -0.14809419  0.10181114  0.0222269 ] 2.0715724964416522215\n",
      "0.250063         0         0         0         0         0  \n",
      "       0  0.250063         0         0         0         0  \n",
      "       0         0  0.249812         0         0         0  \n",
      "       0         0         0  0.250063         0         0  \n",
      "       0         0         0         0  0.249812         0  \n",
      "       0         0         0         0         0  0.250063  \n"
     ]
    },
    {
     "data": {
      "image/png": "[encoded data removed]",
      "text/plain": [
       "<Figure size 432x288 with 1 Axes>"
      ]
     },
     "metadata": {
      "needs_background": "light"
     },
     "output_type": "display_data"
    },
    {
     "name": "stdout",
     "output_type": "stream",
     "text": [
      "n :  5998\n",
      "[[1000, 1000], [999, 1000], [999, 1000], [998, 1000]]\n",
      "MM_gathered : \n",
      "0.0159666  0.0154204  0.0118236  0.0117025  0.0113665  0.0109643  0.0121114  0.0115907  \n",
      "0.0154204  0.0158494  0.0120443  0.0130034  0.0115568  0.0120657  0.0124608  0.0128264  \n",
      "0.0118236  0.0120443  0.0167885  0.0155211  0.0131703  0.0126336  0.0168945  0.0152219  \n",
      "0.0117025  0.0130034  0.0155211  0.0168666  0.0130088  0.0137245  0.0161433  0.0165941  \n",
      "0.0113665  0.0115568  0.0131703  0.0130088  0.0139936  0.0134011  0.0135405  0.0127822  \n",
      "0.0109643  0.0120657  0.0126336  0.0137245  0.0134011  0.0140708  0.0131465  0.0134813  \n",
      "0.0121114  0.0124608  0.0168945  0.0161433  0.0135405  0.0131465  0.0180559  0.0162434  \n",
      "0.0115907  0.0128264  0.0152219  0.0165941  0.0127822  0.0134813  0.0162434  0.0167144  \n"
     ]
    },
    {
     "data": {
      "image/png": "[encoded data removed]",
      "text/plain": [
       "<Figure size 432x288 with 1 Axes>"
      ]
     },
     "metadata": {
      "needs_background": "light"
     },
     "output_type": "display_data"
    },
    {
     "name": "stdout",
     "output_type": "stream",
     "text": [
      "0.00271508  \n",
      "-0.0133238  \n",
      " 0.0198357  \n",
      "-0.0190522  \n",
      "0.00330573  \n",
      "-0.0153177  \n",
      " 0.0121644  \n",
      "-0.0194604  \n",
      "(400, 1)\n",
      "(400, 1)\n",
      "(400, 1)\n",
      "(400, 1)\n",
      "(400, 1)\n",
      "(400, 1)\n",
      "(400, 1)\n",
      "(400, 1)\n",
      "[ 0.64816309 -1.72501032 -1.15843202  0.26019469  0.19566239  0.19600942\n",
      " -0.29795101 -0.25918338  0.19323005  0.06146346] 4.0337461493806320164\n",
      "0.166722         0         0         0         0         0         0         0  \n",
      "       0  0.166722         0         0         0         0         0         0  \n",
      "       0         0  0.166556         0         0         0         0         0  \n",
      "       0         0         0  0.166722         0         0         0         0  \n",
      "       0         0         0         0  0.166556         0         0         0  \n",
      "       0         0         0         0         0  0.166722         0         0  \n",
      "       0         0         0         0         0         0  0.166389         0  \n",
      "       0         0         0         0         0         0         0  0.166722  \n"
     ]
    },
    {
     "data": {
      "image/png": "[encoded data removed]",
      "text/plain": [
       "<Figure size 432x288 with 1 Axes>"
      ]
     },
     "metadata": {
      "needs_background": "light"
     },
     "output_type": "display_data"
    },
    {
     "data": {
      "image/png": "[encoded data removed]",
      "text/plain": [
       "<Figure size 432x288 with 1 Axes>"
      ]
     },
     "metadata": {
      "needs_background": "light"
     },
     "output_type": "display_data"
    }
   ],
   "source": [
    "dataset = \"amazon\"\n",
    "# dataset = \"mnist\"\n",
    "# dataset = \"caltech\"\n",
    "\n",
    "from scipy.io import loadmat\n",
    "m=2\n",
    "var, emp_rate = [], []\n",
    "if dataset == \"amazon\":\n",
    "    k = 3\n",
    "    mat = loadmat(\"books_400.mat\")\n",
    "    mat_test = loadmat(\"kitchen_400.mat\")\n",
    "    X_test_aggregated, y_test = mat_test['fts'], mat_test['labels']\n",
    "    X_test, n_t_test = divide_array(X_test_aggregated, y_test, 1)\n",
    "    # X1 contient toute la premiere tâche\n",
    "    X1_aggregated, y = mat[\"fts\"], mat[\"labels\"] \n",
    "    X, n_t = divide_array(X1_aggregated, y, 1)\n",
    "    X.append(X_test[0])\n",
    "    n_t.append(n_t_test[0])\n",
    "    task_target = 1\n",
    "    p = X1_aggregated.shape[1]\n",
    "#     X = normalisation(X, p)\n",
    "    \n",
    "for t in range(2, k+2):\n",
    "#     nt = sum(n_t_test[0])\n",
    "    # faire quelque chose de généralisable\n",
    "    n = sum(list(map(sum, (n_t[i] for i in range(len(n_t))))))\n",
    "    print(\"n : \", n)\n",
    "    \n",
    "    # add tasks\n",
    "    if t>2:\n",
    "        if t==3:\n",
    "            mat = loadmat(\"dvd_400.mat\")\n",
    "            X2_aggregated, y2 = mat[\"fts\"], mat[\"labels\"] \n",
    "            X_tmp, n_t_tmp = divide_array(X2_aggregated, y2, 1)\n",
    "#             X_tmp = normalisation(X_tmp, p)\n",
    "            X.append(X_tmp[0])\n",
    "            n_t.append(n_t_tmp[0])\n",
    "        elif t==4:\n",
    "            mat = loadmat(\"elec_400.mat\")\n",
    "            X3_aggregated, y3 = mat[\"fts\"], mat[\"labels\"] \n",
    "            X_tmp, n_t_tmp = divide_array(X3_aggregated, y3, 1)\n",
    "#             X_tmp = normalisation(X_tmp, p)\n",
    "            X.append(X_tmp[0])\n",
    "            n_t.append(n_t_tmp[0])\n",
    "    print(n_t)\n",
    "            \n",
    "    MM = []\n",
    "    diag = []\n",
    "    for i in range(t):\n",
    "        MM1, diag1 = empirical_mean_old(1, m, [X[i]], p, [n_t[i]])\n",
    "        # chaque moyenne empirique calculée est un vecteur de taille p\n",
    "#         sent+=1\n",
    "#         t_MM.append(time()-t0)\n",
    "        MM.append(MM1)\n",
    "        diag.append(diag1)\n",
    "\n",
    "    # CENTRAL SERVER\n",
    "#     t0 = time()\n",
    "    # sending empirical means to central server\n",
    "    V, y_opt, correlation_matrix, Dc, c0 = merging_center(MM, diag, t, m, p, n, n_t, task_target, True)\n",
    "    matprint(Dc)\n",
    "    # END CENTRAL SERVER\n",
    "#     X_test = normalisation(X_test, p)\n",
    "    VTX = V.T@X_test_aggregated.T\n",
    "    debug_histogram(V, X_test_aggregated.T, n_t_test)\n",
    "    var.append(np.var(VTX))\n",
    "    m_t = create_mt(t, m, y_opt, Dc, correlation_matrix)\n",
    "    \n",
    "#     erreur_theorique = error_rate(t, m,  Dc, MM_true, c0)[0][0]\n",
    "    emp_rate.append(compute_error_rate(X_test, V, m_t, 1, m, n_t_test, Dc, c0))\n",
    "    \n",
    "plt.plot(list(range(k)), emp_rate, '-o')\n",
    "lower = np.array(emp_rate) - np.array(var)\n",
    "upper = np.array(emp_rate) + np.array(var)\n",
    "plt.fill_between(list(range(k)), lower, upper, alpha=0.2, label=\"variance\")\n",
    "plt.legend()\n",
    "plt.grid()\n",
    "plt.title(\"Real data\")\n",
    "plt.show()"
   ]
  },
  {
   "cell_type": "code",
   "execution_count": 220,
   "metadata": {},
   "outputs": [
    {
     "name": "stdout",
     "output_type": "stream",
     "text": [
      "[[1000, 1000], [999, 1000], [999, 1000], [998, 1000]]\n",
      "3\n",
      "400\n",
      "[0.4532266133066533, 0.4532266133066533, 0.4532266133066533]\n",
      "[[999, 1000]]\n",
      "(1999,)\n",
      "[ 2.03657726e-01 -4.29756611e-01 -2.90257701e-01  1.07316819e-01\n",
      "  4.24217358e-02  9.18618805e-02 -6.03617074e-02 -4.78943310e-02\n",
      "  7.65165473e-02  3.12917593e-02 -6.96653118e-02 -9.07953150e-02\n",
      "  5.54247794e-02 -5.13969963e-02  4.30448908e-02 -7.66539240e-02\n",
      "  3.83520941e-02 -9.57889455e-02  2.49359913e-02 -5.22925053e-02\n",
      " -4.62813124e-01 -5.43704886e-02 -5.16476932e-02 -7.03121091e-02\n",
      "  4.87874176e-02  3.83363925e-02 -9.34755890e-02 -4.35713710e-02\n",
      "  1.50634089e-02 -7.24057716e-02  3.39021797e-02 -5.23060666e-02\n",
      "  4.02007703e-02 -1.91495267e-02 -2.88229358e-02  4.87085166e-02\n",
      " -3.16592613e-02 -5.15475898e-02 -2.19940358e-02  7.81751249e-03\n",
      " -6.25428104e-02 -3.19335232e-02 -7.38274722e-02 -5.81208125e-02\n",
      " -1.70969570e-01 -3.13650328e-02 -4.19307109e-02 -5.06585306e-02\n",
      " -6.76925838e-03 -1.70008272e-02 -9.35876350e-02 -1.13642730e-01\n",
      " -3.19376253e-02  4.23460679e-02  2.45419653e-02 -3.90712566e-02\n",
      " -2.55433980e-02  1.07136023e-02 -2.92101704e-02 -2.43081533e-02\n",
      " -2.47192925e-02 -2.00431432e-02 -2.10429122e-02 -1.73067826e-02\n",
      "  1.37104122e-02 -1.02415358e-02 -5.25411169e-03 -3.29991204e-02\n",
      "  1.53202051e-02  1.04492755e-02 -3.53074213e-02 -1.97837951e-02\n",
      " -2.32240656e-02 -3.17318508e-02 -2.93711616e-02 -2.64889023e-02\n",
      " -2.34550410e-02  3.02015029e-02 -2.57533952e-02 -1.46524059e-02\n",
      " -3.31118132e-02 -3.24592456e-01  5.65309394e-03 -1.28900956e-02\n",
      " -4.23474955e-03  1.51403689e-02 -1.71496544e-02 -1.75059891e-02\n",
      " -5.72561439e-02 -7.83888536e-03 -2.16764108e-02 -5.35529760e-02\n",
      "  1.27914447e-02 -2.76738990e-02 -2.04585286e-02  4.66578154e-02\n",
      " -2.26790199e-02 -1.67743250e-02 -4.74384769e-02 -2.40772901e-02\n",
      " -4.90888243e-02 -2.56436866e-02  8.17326438e-03 -2.34229987e-02\n",
      " -4.45688119e-02  7.00011378e-04 -4.98388689e-02 -3.77163811e-02\n",
      " -9.96529255e-03 -4.40383983e-02  1.38492293e-02 -2.28814781e-02\n",
      "  1.62704004e-02 -2.57236662e-02  8.47944996e-03  2.79477822e-02\n",
      " -4.87193389e-02 -7.95099865e-02  8.41931463e-03 -5.66169671e-03\n",
      " -3.49545458e-02 -1.51085860e-02 -3.44990687e-02  1.43517188e-02\n",
      " -2.81638660e-02  3.19633293e-03  4.67747791e-03 -2.34386124e-02\n",
      " -2.19784877e-02 -1.00038699e-01  7.64302863e-03 -5.49119361e-02\n",
      "  6.30517674e-03 -1.58393896e-02 -1.30323541e-02  2.62146730e-02\n",
      "  1.91241530e-02 -5.20070293e-02 -1.75799493e-02 -1.69451148e-02\n",
      " -5.21434583e-02 -6.94443292e-03 -3.93723073e-03 -3.97308562e-03\n",
      "  1.65036758e-03 -2.40169332e-02  9.34641327e-03 -4.66070786e-02\n",
      "  1.40766653e-02 -1.06885397e-02  1.54646542e-03 -1.88724329e-02\n",
      " -1.45068558e-01 -9.63029830e-03 -1.70545509e-02 -1.11279205e-02\n",
      " -9.41296937e-03 -2.08436074e-02 -9.58104537e-03 -1.30498492e-02\n",
      " -3.11633615e-02  2.85148039e-02 -1.40113375e-02 -2.80573539e-03\n",
      " -1.91349525e-02 -1.20596017e-02 -1.42250225e-02  2.40070719e-03\n",
      " -1.05074329e-02 -1.91105177e-02  2.64218786e-02  1.28135415e-02\n",
      " -1.20584061e-02  1.99847542e-02 -1.93367652e-02 -6.88359711e-04\n",
      "  1.12202655e-02  5.73244638e-03 -2.46620883e-02 -9.48065486e-02\n",
      " -2.65513461e-02 -1.11447422e-02 -3.77576084e-02 -9.10070795e-03\n",
      " -1.42683874e-02 -1.17375458e-02 -1.23313551e-02 -1.99240377e-02\n",
      " -1.37114330e-03 -1.04245649e-02  6.40658354e-03  1.73472470e-02\n",
      "  7.89687212e-03 -1.05702572e-02 -1.36820618e-02 -9.02699069e-03\n",
      " -1.86880596e-02 -2.19018840e-02 -1.55278644e-02 -3.88440171e-02\n",
      " -1.01456070e-02  9.50241416e-03 -2.76475096e-02 -5.68462076e-03\n",
      " -2.90835622e-02 -1.88096958e-02 -6.60010221e-03  1.09256660e-02\n",
      " -1.12752337e-02 -8.90452890e-03 -3.38817349e-02 -2.53332685e-02\n",
      " -7.32662604e-03 -5.46454880e-02 -8.45809444e-03  5.77165770e-03\n",
      " -9.57423736e-03  3.90544168e-03 -1.81741440e-02  6.18137510e-03\n",
      " -1.12572347e-02 -2.00242607e-03 -1.54193432e-02 -1.32282721e-02\n",
      " -6.83641321e-03 -1.21069790e-02 -6.24081705e-02  8.43998821e-03\n",
      "  2.11702693e-02 -9.77952872e-03 -1.07246541e-02 -1.57949835e-02\n",
      " -1.93852250e-02 -2.66223954e-02 -2.71401134e-02 -8.93668768e-03\n",
      " -1.07714964e-02  3.47434657e-03  6.54470302e-03 -1.43356094e-02\n",
      " -9.33429797e-03 -9.54414159e-03 -1.74207529e-02 -9.61685442e-03\n",
      " -7.41664250e-03  1.79655707e-02 -1.53526814e-02 -8.31411439e-03\n",
      " -1.20145272e-02  1.50387928e-02 -1.87734314e-02 -8.41056715e-03\n",
      " -1.31295389e-02  2.52235210e-02  1.92419560e-02 -1.43188162e-02\n",
      " -6.04880132e-03 -9.55845295e-03 -1.12775119e-02 -1.08888888e-02\n",
      " -7.49478631e-03 -1.31153790e-02 -8.42988921e-03 -1.23690024e-02\n",
      "  5.31271784e-03 -6.59977953e-04 -2.78228972e-03 -1.95710693e-03\n",
      "  1.66419813e-02 -8.89031870e-03  7.57835130e-03 -1.13126879e-02\n",
      " -1.01916733e-02 -1.01628497e-02 -5.26414430e-03  4.78759043e-03\n",
      " -1.41934348e-02 -2.15110392e-02 -1.16190795e-02 -8.90384464e-03\n",
      " -1.19964640e-02 -1.50133652e-02 -1.42539044e-02 -6.34641142e-03\n",
      " -1.56603289e-02 -1.08526615e-02 -1.51904200e-02 -4.59724731e-03\n",
      " -1.35984676e-02  1.38296805e-02  1.82037881e-02 -9.43998844e-03\n",
      " -3.08530103e-04  1.42534998e-03 -9.37119577e-02 -3.89579328e-03\n",
      " -1.62142241e-02  4.87630308e-04 -7.72960289e-03 -6.72002390e-03\n",
      " -9.89000882e-03  4.06870731e-03  8.23454091e-03  1.54403975e-02\n",
      " -1.55913687e-02  7.94227144e-04  3.93119192e-03 -1.31612842e-02\n",
      " -8.40341861e-03  7.74200225e-03 -8.51235339e-03 -2.61597714e-02\n",
      "  4.74256858e-03 -2.84750382e-02 -2.81403298e-02  2.15300041e-03\n",
      " -8.50385947e-03  4.89421833e-03 -5.96130153e-03 -4.32029337e-02\n",
      " -5.78998001e-03 -2.48398551e-04 -6.60512803e-03  1.85196656e-03\n",
      "  1.09043286e-02  5.15409400e-03 -6.14031204e-03 -3.25355790e-03\n",
      " -9.29991470e-03 -9.31067727e-03 -3.04728727e-04 -6.59321301e-03\n",
      " -1.83445442e-02 -9.10574994e-03  1.32388821e-02  6.81983612e-04\n",
      " -1.70364168e-02  5.63882015e-03  2.06562849e-03  5.29843174e-03\n",
      " -7.38601189e-03 -2.76049847e-02 -1.47204012e-02 -2.11135090e-02\n",
      " -3.50855011e-03  6.91561182e-03 -1.87724983e-02 -1.79136339e-02\n",
      "  1.57881751e-02 -8.03941885e-03 -1.22562073e-03  1.81852688e-03\n",
      "  4.05209735e-03 -6.60790238e-03 -6.26079417e-03  2.25712159e-02\n",
      " -1.01109581e-02 -5.95552951e-03  2.10079027e-03 -6.68215074e-03\n",
      " -6.30774035e-03 -1.06392025e-02 -5.80084453e-02 -1.65283094e-02\n",
      "  8.59871937e-03 -1.08788632e-02 -4.50790662e-03 -6.75063855e-03\n",
      "  5.47444600e-03 -5.28016985e-03 -9.32704829e-03 -5.07788982e-03\n",
      " -1.78780548e-02 -1.33786387e-02 -3.14465099e-03 -1.01668988e-02\n",
      " -3.17456401e-02  2.03327069e-03  5.24556784e-03  1.25948394e-02\n",
      " -9.58801194e-03 -1.17276612e-02 -4.09328641e-03 -2.42192265e-02\n",
      "  3.44177331e-03 -9.91932657e-03 -2.29320741e-04 -1.12278118e-02\n",
      "  1.70617731e-03 -1.33679345e-02 -1.67835228e-02 -5.36799136e-03\n",
      "  4.55530639e-03 -9.75896448e-03 -9.85624759e-03  1.14522504e-02\n",
      " -2.55130375e-03 -7.20856809e-03  1.76956727e-02 -9.23907951e-03]\n",
      "1.0000000000000000002\n"
     ]
    }
   ],
   "source": [
    "# print(X[3][1].shape)\n",
    "print(n_t)\n",
    "print(i)\n",
    "print(p)\n",
    "moitie = int(n_t[1][0]/2)\n",
    "print(emp_rate)\n",
    "print(n_t_test)\n",
    "len(X_test)\n",
    "print(VTX.shape)\n",
    "print(V)\n",
    "print(np.linalg.norm(V))"
   ]
  },
  {
   "cell_type": "markdown",
   "metadata": {},
   "source": [
    "# MNIST\n"
   ]
  },
  {
   "cell_type": "code",
   "execution_count": 231,
   "metadata": {},
   "outputs": [
    {
     "name": "stderr",
     "output_type": "stream",
     "text": [
      "Using TensorFlow backend.\n",
      "/home/sami/anaconda3/lib/python3.7/site-packages/tensorflow/python/framework/dtypes.py:516: FutureWarning: Passing (type, 1) or '1type' as a synonym of type is deprecated; in a future version of numpy, it will be understood as (type, (1,)) / '(1,)type'.\n",
      "  _np_qint8 = np.dtype([(\"qint8\", np.int8, 1)])\n",
      "/home/sami/anaconda3/lib/python3.7/site-packages/tensorflow/python/framework/dtypes.py:517: FutureWarning: Passing (type, 1) or '1type' as a synonym of type is deprecated; in a future version of numpy, it will be understood as (type, (1,)) / '(1,)type'.\n",
      "  _np_quint8 = np.dtype([(\"quint8\", np.uint8, 1)])\n",
      "/home/sami/anaconda3/lib/python3.7/site-packages/tensorflow/python/framework/dtypes.py:518: FutureWarning: Passing (type, 1) or '1type' as a synonym of type is deprecated; in a future version of numpy, it will be understood as (type, (1,)) / '(1,)type'.\n",
      "  _np_qint16 = np.dtype([(\"qint16\", np.int16, 1)])\n",
      "/home/sami/anaconda3/lib/python3.7/site-packages/tensorflow/python/framework/dtypes.py:519: FutureWarning: Passing (type, 1) or '1type' as a synonym of type is deprecated; in a future version of numpy, it will be understood as (type, (1,)) / '(1,)type'.\n",
      "  _np_quint16 = np.dtype([(\"quint16\", np.uint16, 1)])\n",
      "/home/sami/anaconda3/lib/python3.7/site-packages/tensorflow/python/framework/dtypes.py:520: FutureWarning: Passing (type, 1) or '1type' as a synonym of type is deprecated; in a future version of numpy, it will be understood as (type, (1,)) / '(1,)type'.\n",
      "  _np_qint32 = np.dtype([(\"qint32\", np.int32, 1)])\n",
      "/home/sami/anaconda3/lib/python3.7/site-packages/tensorflow/python/framework/dtypes.py:525: FutureWarning: Passing (type, 1) or '1type' as a synonym of type is deprecated; in a future version of numpy, it will be understood as (type, (1,)) / '(1,)type'.\n",
      "  np_resource = np.dtype([(\"resource\", np.ubyte, 1)])\n",
      "/home/sami/anaconda3/lib/python3.7/site-packages/tensorboard/compat/tensorflow_stub/dtypes.py:541: FutureWarning: Passing (type, 1) or '1type' as a synonym of type is deprecated; in a future version of numpy, it will be understood as (type, (1,)) / '(1,)type'.\n",
      "  _np_qint8 = np.dtype([(\"qint8\", np.int8, 1)])\n",
      "/home/sami/anaconda3/lib/python3.7/site-packages/tensorboard/compat/tensorflow_stub/dtypes.py:542: FutureWarning: Passing (type, 1) or '1type' as a synonym of type is deprecated; in a future version of numpy, it will be understood as (type, (1,)) / '(1,)type'.\n",
      "  _np_quint8 = np.dtype([(\"quint8\", np.uint8, 1)])\n",
      "/home/sami/anaconda3/lib/python3.7/site-packages/tensorboard/compat/tensorflow_stub/dtypes.py:543: FutureWarning: Passing (type, 1) or '1type' as a synonym of type is deprecated; in a future version of numpy, it will be understood as (type, (1,)) / '(1,)type'.\n",
      "  _np_qint16 = np.dtype([(\"qint16\", np.int16, 1)])\n",
      "/home/sami/anaconda3/lib/python3.7/site-packages/tensorboard/compat/tensorflow_stub/dtypes.py:544: FutureWarning: Passing (type, 1) or '1type' as a synonym of type is deprecated; in a future version of numpy, it will be understood as (type, (1,)) / '(1,)type'.\n",
      "  _np_quint16 = np.dtype([(\"quint16\", np.uint16, 1)])\n",
      "/home/sami/anaconda3/lib/python3.7/site-packages/tensorboard/compat/tensorflow_stub/dtypes.py:545: FutureWarning: Passing (type, 1) or '1type' as a synonym of type is deprecated; in a future version of numpy, it will be understood as (type, (1,)) / '(1,)type'.\n",
      "  _np_qint32 = np.dtype([(\"qint32\", np.int32, 1)])\n",
      "/home/sami/anaconda3/lib/python3.7/site-packages/tensorboard/compat/tensorflow_stub/dtypes.py:550: FutureWarning: Passing (type, 1) or '1type' as a synonym of type is deprecated; in a future version of numpy, it will be understood as (type, (1,)) / '(1,)type'.\n",
      "  np_resource = np.dtype([(\"resource\", np.ubyte, 1)])\n"
     ]
    },
    {
     "name": "stdout",
     "output_type": "stream",
     "text": [
      "Downloading data from https://s3.amazonaws.com/img-datasets/mnist.npz\n",
      "11493376/11490434 [==============================] - 23s 2us/step\n"
     ]
    }
   ],
   "source": [
    "from keras.datasets import mnist\n",
    "(X_train,y_train), (X_test,y_test)=mnist.load_data()"
   ]
  },
  {
   "cell_type": "code",
   "execution_count": 233,
   "metadata": {},
   "outputs": [
    {
     "data": {
      "text/plain": [
       "(10000, 28, 28)"
      ]
     },
     "execution_count": 233,
     "metadata": {},
     "output_type": "execute_result"
    }
   ],
   "source": [
    "X_train.shape\n",
    "X_test.shape"
   ]
  },
  {
   "cell_type": "markdown",
   "metadata": {},
   "source": [
    "# Algorithme distribué k-tâches m classes\n",
    "On se ramène à un cas 2-tâches 2-classes en fait"
   ]
  },
  {
   "cell_type": "code",
   "execution_count": 28,
   "metadata": {},
   "outputs": [],
   "source": [
    "from sklearn.preprocessing import normalize\n",
    "\n",
    "def z_normalize(X, k, m):\n",
    "    \"\"\"\n",
    "    Normalise les données.\n",
    "    k tâches, m classes\n",
    "    X le tableau de données.\n",
    "    \"\"\"\n",
    "    for t in range(k):\n",
    "        for l in range(m):\n",
    "            X[t][l] = normalize(X[t][l], axis=1)\n",
    "    return X"
   ]
  },
  {
   "cell_type": "code",
   "execution_count": 174,
   "metadata": {
    "scrolled": true
   },
   "outputs": [
    {
     "name": "stdout",
     "output_type": "stream",
     "text": [
      "current nt = [[50, 450], [0, 1000]]\n",
      "0 0\n"
     ]
    },
    {
     "ename": "ValueError",
     "evalue": "matmul: Input operand 1 has a mismatch in its core dimension 0, with gufunc signature (n?,k),(k,m?)->(n?,m?) (size 0 is different from 1000)",
     "output_type": "error",
     "traceback": [
      "\u001b[0;31m---------------------------------------------------------------------------\u001b[0m",
      "\u001b[0;31mValueError\u001b[0m                                Traceback (most recent call last)",
      "\u001b[0;32m<ipython-input-174-8a293c51c9d5>\u001b[0m in \u001b[0;36m<module>\u001b[0;34m\u001b[0m\n\u001b[1;32m     76\u001b[0m             \u001b[0mcurrent_n_t\u001b[0m\u001b[0;34m.\u001b[0m\u001b[0mappend\u001b[0m\u001b[0;34m(\u001b[0m\u001b[0msc\u001b[0m\u001b[0;34m)\u001b[0m\u001b[0;34m\u001b[0m\u001b[0;34m\u001b[0m\u001b[0m\n\u001b[1;32m     77\u001b[0m             \u001b[0mprint\u001b[0m\u001b[0;34m(\u001b[0m\u001b[0;34mf\"current nt = {current_n_t}\"\u001b[0m\u001b[0;34m)\u001b[0m\u001b[0;34m\u001b[0m\u001b[0;34m\u001b[0m\u001b[0m\n\u001b[0;32m---> 78\u001b[0;31m             \u001b[0mMM\u001b[0m \u001b[0;34m=\u001b[0m \u001b[0mempirical_mean\u001b[0m\u001b[0;34m(\u001b[0m\u001b[0;36m2\u001b[0m\u001b[0;34m,\u001b[0m \u001b[0;36m2\u001b[0m\u001b[0;34m,\u001b[0m \u001b[0mX_data\u001b[0m\u001b[0;34m,\u001b[0m \u001b[0mp\u001b[0m\u001b[0;34m,\u001b[0m \u001b[0mcurrent_n_t\u001b[0m\u001b[0;34m)\u001b[0m\u001b[0;34m\u001b[0m\u001b[0;34m\u001b[0m\u001b[0m\n\u001b[0m\u001b[1;32m     79\u001b[0m             \u001b[0mmatprint\u001b[0m\u001b[0;34m(\u001b[0m\u001b[0mMM\u001b[0m\u001b[0;34m)\u001b[0m\u001b[0;34m\u001b[0m\u001b[0;34m\u001b[0m\u001b[0m\n\u001b[1;32m     80\u001b[0m             \u001b[0mc\u001b[0m \u001b[0;34m=\u001b[0m \u001b[0mestimate_c\u001b[0m\u001b[0;34m(\u001b[0m\u001b[0mcurrent_n_t\u001b[0m\u001b[0;34m,\u001b[0m \u001b[0mn\u001b[0m\u001b[0;34m,\u001b[0m \u001b[0;36m2\u001b[0m\u001b[0;34m,\u001b[0m \u001b[0;36m2\u001b[0m\u001b[0;34m)\u001b[0m\u001b[0;34m\u001b[0m\u001b[0;34m\u001b[0m\u001b[0m\n",
      "\u001b[0;32m<ipython-input-7-8e5f7f657a89>\u001b[0m in \u001b[0;36mempirical_mean\u001b[0;34m(nb_tasks, nb_classes, X, p, n_t, display)\u001b[0m\n\u001b[1;32m     21\u001b[0m                         \u001b[0;31m#print(i*nb_tasks+j, k*nb_tasks+l)\u001b[0m\u001b[0;34m\u001b[0m\u001b[0;34m\u001b[0m\u001b[0;34m\u001b[0m\u001b[0m\n\u001b[1;32m     22\u001b[0m                         \u001b[0;31m#print(i, j, k, l)\u001b[0m\u001b[0;34m\u001b[0m\u001b[0;34m\u001b[0m\u001b[0;34m\u001b[0m\u001b[0m\n\u001b[0;32m---> 23\u001b[0;31m                         \u001b[0mM\u001b[0m\u001b[0;34m[\u001b[0m\u001b[0mi\u001b[0m\u001b[0;34m*\u001b[0m\u001b[0mnb_classes\u001b[0m\u001b[0;34m+\u001b[0m\u001b[0mj\u001b[0m\u001b[0;34m]\u001b[0m\u001b[0;34m[\u001b[0m\u001b[0mk\u001b[0m\u001b[0;34m*\u001b[0m\u001b[0mnb_classes\u001b[0m\u001b[0;34m+\u001b[0m\u001b[0ml\u001b[0m\u001b[0;34m]\u001b[0m \u001b[0;34m=\u001b[0m \u001b[0mnp\u001b[0m\u001b[0;34m.\u001b[0m\u001b[0mones\u001b[0m\u001b[0;34m(\u001b[0m\u001b[0;34m(\u001b[0m\u001b[0mn_t\u001b[0m\u001b[0;34m[\u001b[0m\u001b[0mi\u001b[0m\u001b[0;34m]\u001b[0m\u001b[0;34m[\u001b[0m\u001b[0mj\u001b[0m\u001b[0;34m]\u001b[0m\u001b[0;34m,\u001b[0m \u001b[0;36m1\u001b[0m\u001b[0;34m)\u001b[0m\u001b[0;34m)\u001b[0m\u001b[0;34m.\u001b[0m\u001b[0mT\u001b[0m\u001b[0;34m@\u001b[0m\u001b[0mX\u001b[0m\u001b[0;34m[\u001b[0m\u001b[0mi\u001b[0m\u001b[0;34m]\u001b[0m\u001b[0;34m[\u001b[0m\u001b[0mj\u001b[0m\u001b[0;34m]\u001b[0m\u001b[0;34m.\u001b[0m\u001b[0mT\u001b[0m\u001b[0;34m@\u001b[0m\u001b[0mX\u001b[0m\u001b[0;34m[\u001b[0m\u001b[0mk\u001b[0m\u001b[0;34m]\u001b[0m\u001b[0;34m[\u001b[0m\u001b[0ml\u001b[0m\u001b[0;34m]\u001b[0m\u001b[0;34m@\u001b[0m\u001b[0mnp\u001b[0m\u001b[0;34m.\u001b[0m\u001b[0mones\u001b[0m\u001b[0;34m(\u001b[0m\u001b[0;34m(\u001b[0m\u001b[0mn_t\u001b[0m\u001b[0;34m[\u001b[0m\u001b[0mk\u001b[0m\u001b[0;34m]\u001b[0m\u001b[0;34m[\u001b[0m\u001b[0ml\u001b[0m\u001b[0;34m]\u001b[0m\u001b[0;34m)\u001b[0m\u001b[0;34m)\u001b[0m\u001b[0;34m\u001b[0m\u001b[0;34m\u001b[0m\u001b[0m\n\u001b[0m\u001b[1;32m     24\u001b[0m                         \u001b[0mM\u001b[0m\u001b[0;34m[\u001b[0m\u001b[0mi\u001b[0m\u001b[0;34m*\u001b[0m\u001b[0mnb_classes\u001b[0m\u001b[0;34m+\u001b[0m\u001b[0mj\u001b[0m\u001b[0;34m]\u001b[0m\u001b[0;34m[\u001b[0m\u001b[0mk\u001b[0m\u001b[0;34m*\u001b[0m\u001b[0mnb_classes\u001b[0m\u001b[0;34m+\u001b[0m\u001b[0ml\u001b[0m\u001b[0;34m]\u001b[0m \u001b[0;34m/=\u001b[0m \u001b[0mn_t\u001b[0m\u001b[0;34m[\u001b[0m\u001b[0mi\u001b[0m\u001b[0;34m]\u001b[0m\u001b[0;34m[\u001b[0m\u001b[0mj\u001b[0m\u001b[0;34m]\u001b[0m\u001b[0;34m*\u001b[0m\u001b[0mn_t\u001b[0m\u001b[0;34m[\u001b[0m\u001b[0mk\u001b[0m\u001b[0;34m]\u001b[0m\u001b[0;34m[\u001b[0m\u001b[0ml\u001b[0m\u001b[0;34m]\u001b[0m\u001b[0;34m\u001b[0m\u001b[0;34m\u001b[0m\u001b[0m\n\u001b[1;32m     25\u001b[0m \u001b[0;34m\u001b[0m\u001b[0m\n",
      "\u001b[0;31mValueError\u001b[0m: matmul: Input operand 1 has a mismatch in its core dimension 0, with gufunc signature (n?,k),(k,m?)->(n?,m?) (size 0 is different from 1000)"
     ]
    }
   ],
   "source": [
    "# Algorithme 1 du papier\n",
    "k = 2\n",
    "m = 10\n",
    "n1 = [100 for i in range(m)]\n",
    "n2 = [50 for i in range(m)]\n",
    "p = 100\n",
    "n_t = [n1, n2]\n",
    "n_t_test = [[1000 for i in range(m)]]\n",
    "nt = sum(n_t_test[0])\n",
    "# faire quelque chose de généralisable\n",
    "n = sum(list(map(sum, (n_t[i] for i in range(k)))))\n",
    "c0 = p/n\n",
    "var = []\n",
    "emp_rate = []\n",
    "scores = []\n",
    "random_state=100\n",
    "# si je peux essayer de faire plus dégeu pour le n \n",
    "M = mean_matrix(p, k=k, m=m, random_seed=random_state, random=True)\n",
    "X, y_bs = gaussian_synthetic_data(n, p, m, k, n_t, M, random_state)\n",
    "\n",
    "# choisir la tache que l'on veut tester\n",
    "test_task = 1\n",
    "X_test, y_test = gaussian_synthetic_data(n, p, m, 1, n_t_test, [M[test_task]], random_state)\n",
    "X, X_test = z_normalize(X, k, m), z_normalize(X_test, 1, m)\n",
    "# beta = []\n",
    "# [[[],[]], [[], []]]\n",
    "\n",
    "# inverser les boucles ?\n",
    "for l in range(m):\n",
    "    for t in range(k):\n",
    "        if t==test_task:\n",
    "            # how does it benefit from the other tasks?\n",
    "            # pourquoi faire une boucle sur les tâches ?\n",
    "    #         beta.append(l*k+t)\n",
    "            X_data = []\n",
    "            # on ajoute la premiere classe de la premiere tache\n",
    "            X_data.append([X[t][l]])\n",
    "            current_n_t = [[n_t[t][l]]]\n",
    "            s = 0           \n",
    "\n",
    "            tmp = np.empty((p, 0), float)\n",
    "    #         print(\"tmp : \", tmp)\n",
    "            for cl in range(m):\n",
    "                if cl==l:\n",
    "                    continue\n",
    "    #             print(\"on ajoute : \", X[t][cl])\n",
    "    #             print(X[t][cl].shape)\n",
    "                tmp = np.concatenate((tmp, X[t][cl]), axis=1)\n",
    "                s += n_t[t][cl]\n",
    "    #         print(\"tmp : \", tmp)\n",
    "            X_data[0].append(tmp)\n",
    "    #         qui est la deuxieme tâche ? \n",
    "    #         X_data.append(X_test[0])\n",
    "#             regrouper toutes les autres tâches\n",
    "#             a reprendre\n",
    "            temp = []\n",
    "            tmp1 = np.empty((p, 0), float)\n",
    "            s1 = 0\n",
    "            sc = []\n",
    "            for tp in range(k):\n",
    "                if tp == test_task:\n",
    "                    continue\n",
    "                for l in range(m):\n",
    "                    tmp1 = np.concatenate((tmp1, X[tp][l]), axis=1)\n",
    "                    s1 += n_t[tp][l]\n",
    "                temp.append(tmp1)\n",
    "                sc.append(s2)\n",
    "                sc.append(s1)\n",
    "            X_data.append(temp)\n",
    "    #         print(\"len(X) : \", len(X_data))\n",
    "    #         print(\"len(X[0]) : \", len(X_data[1][0]))\n",
    "            current_n_t[0].append(s)\n",
    "            current_n_t.append(sc)\n",
    "            print(f\"current nt = {current_n_t}\")\n",
    "            MM = empirical_mean(2, 2, X_data, p, current_n_t)\n",
    "            matprint(MM)\n",
    "            c = estimate_c(current_n_t, n, 2, 2)\n",
    "            Dc = np.diag(c)\n",
    "            matprint(Dc)\n",
    "            correlation_matrix = compute_M_cal(n, p, Dc, MM, 2, True)\n",
    "\n",
    "            y = label_evaluation(2, 2, Dc, MM, c0)\n",
    "            matprint(y)\n",
    "            X_aggregated = aggregate_array(X_data, p, n, 2, 2)\n",
    "            X_test_aggregated = aggregate_array(X_test, p, nt, 1, 2)\n",
    "\n",
    "            # no need to compute V anymore\n",
    "            J = create_J(2, 2, n, current_n_t)\n",
    "            V = compute_V(y, X_aggregated, J, n)\n",
    "            # On time le temps d'inférence\n",
    "\n",
    "        #     debug_histogram(V_true, X_test_aggregated, n_t_test)\n",
    "        #     print(\"V = \")\n",
    "            VTX = V.T@X_test_aggregated\n",
    "            var.append(np.var(VTX))\n",
    "            debug_histogram(V, X_test_aggregated, n_t_test)\n",
    "\n",
    "            # pour l'instant pas vraiment utilisé\n",
    "            m_t = create_mt(2, 2, y, Dc, correlation_matrix)\n",
    "            # gxt in R^1xn\n",
    "\n",
    "            gxt = y.T@J.T@X_aggregated.T@X_test_aggregated/np.linalg.norm(y.T@J.T@X_aggregated.T)\n",
    "            gxt = np.reshape(gxt, (nt))\n",
    "            scores.append(gxt-m_t[0][0])\n",
    "\n",
    "            erreur_empirique = compute_error_rate(X_test, V, m_t, 1, 2, n_t_test, Dc, c0)\n",
    "    #         erreur_theorique = error_rate(t, m,  Dc, MM_true, c0)[0][0]\n",
    "            emp_rate.append(erreur_empirique)\n",
    "    #         th_rate.append(erreur_theorique)\n",
    "    #         relative_error_rate.append(abs(erreur_empirique - erreur_theorique)/erreur_theorique)\n",
    "\n",
    "estimated_class=[]\n",
    "for j in range(len(scores[0])):\n",
    "#     print(np.argmax(scores[l][j] for l in range(m)))\n",
    "    classes=[]\n",
    "    for l in range(m):\n",
    "#         print(scores[l][j])\n",
    "        classes.append(scores[l][j])\n",
    "#     print(classes)\n",
    "    estimated_class.append(np.argmax(classes))\n",
    "\n",
    "        \n",
    "        \n",
    "# lower = np.array(emp_rate) - np.array(var)\n",
    "# upper = np.array(emp_rate) + np.array(var)\n",
    "# plt.plot(beta, emp_rate, '-o', label='empirical rate')\n",
    "# plt.fill_between(beta, lower, upper, alpha=0.2, label=\"variance\")\n",
    "# plt.legend()\n",
    "# plt.title(f\"2-class Gaussian mixture transfer error rate for n={n} and p={p}\")\n",
    "# plt.xlabel(\"Task relatedness (beta)\")\n",
    "# plt.ylabel(\"error rate\")\n",
    "# plt.grid()\n",
    "# plt.show()\n",
    "        "
   ]
  },
  {
   "cell_type": "code",
   "execution_count": 162,
   "metadata": {},
   "outputs": [
    {
     "name": "stdout",
     "output_type": "stream",
     "text": [
      "(100, 1000)\n"
     ]
    }
   ],
   "source": [
    "print(X_data[1][1].shape)"
   ]
  },
  {
   "cell_type": "code",
   "execution_count": 168,
   "metadata": {},
   "outputs": [
    {
     "name": "stdout",
     "output_type": "stream",
     "text": [
      "0.5\n",
      "800\n"
     ]
    }
   ],
   "source": [
    "estimated_class = []\n",
    "erreur= []\n",
    "\n",
    "for j in range(len(scores[0])):\n",
    "#     print(np.argmax(scores[l][j] for l in range(m)))\n",
    "    classes=[]\n",
    "    for l in range(m):\n",
    "#         print(scores[l][j])\n",
    "        classes.append(scores[l][j])\n",
    "#     print(classes)\n",
    "    estimated_class.append(np.argmax(classes))\n",
    "    erreur.append(int(np.argmax(classes)==y_test[j]))\n",
    "    \n",
    "err = erreur.count(1)/len(scores[0])\n",
    "if err>0.5:\n",
    "    err = 1-err\n",
    "\n",
    "print(err)\n",
    "# estimated_class\n",
    "# print(np.argmax(scores[l][0] for l in range(m)))\n",
    "# print(np.argmax((scores[0][0], scores[1][0])))"
   ]
  },
  {
   "cell_type": "code",
   "execution_count": 165,
   "metadata": {
    "scrolled": true
   },
   "outputs": [
    {
     "name": "stdout",
     "output_type": "stream",
     "text": [
      "Empirical proportions : \n",
      "C1 proportion : 0.0 %, C2 proportion : 100.0 %\n",
      "Theoritical proportions : \n",
      "C1 proportion : 66.667 %, C2 proportion : 33.333 %\n"
     ]
    }
   ],
   "source": [
    "ones=0\n",
    "twos=0\n",
    "for i in range(len(scores[0])):\n",
    "    maxi = scores[0][i]\n",
    "    indice = 0\n",
    "    for idx, score in enumerate(scores):\n",
    "        if score[i] > maxi:\n",
    "            maxi = score[i]\n",
    "            indice = idx\n",
    "    l = indice%2+1\n",
    "    if l == 1:\n",
    "        ones+=1\n",
    "    else:\n",
    "        twos+=1\n",
    "    \n",
    "#     print(l)\n",
    "print(f\"Empirical proportions : \\nC1 proportion : {ones/len(scores[0])*100} %, C2 proportion : {twos/len(scores[0])*100} %\")\n",
    "print(f\"Theoritical proportions : \\nC1 proportion : {round(sum(n1)/(sum(n1)+sum(n2))*100, 3)} %, C2 proportion : {round(sum(n2)/(sum(n1)+sum(n2))*100, 3)} %\")"
   ]
  },
  {
   "cell_type": "code",
   "execution_count": null,
   "metadata": {},
   "outputs": [],
   "source": []
  },
  {
   "cell_type": "code",
   "execution_count": 98,
   "metadata": {},
   "outputs": [
    {
     "name": "stdout",
     "output_type": "stream",
     "text": [
      "[[200, 600]]\n",
      "(1, 800)\n",
      "(2, 800)\n",
      "(800, 100)\n",
      "(100, 800)\n"
     ]
    }
   ],
   "source": [
    "print(current_n_t)\n",
    "print(gxt.shape)\n",
    "print(J.T.shape)\n",
    "print(X_aggregated.T.shape)\n",
    "print(X_test_aggregated.shape)"
   ]
  },
  {
   "cell_type": "code",
   "execution_count": 102,
   "metadata": {},
   "outputs": [
    {
     "name": "stdout",
     "output_type": "stream",
     "text": [
      "(2, 2)\n",
      "2\n",
      "2\n",
      "(1, 4)\n",
      "(2, 2)\n",
      "(2, 2)\n",
      "(4,)\n",
      "[[array([[-0.88007943, -0.47482649],\n",
      "       [-0.96586158,  0.2590587 ]]), array([[0.92226127, 0.38656715],\n",
      "       [0.91331841, 0.40724621]])], [array([[0.36683514, 0.43040179, 0.0591088 , 0.82261317],\n",
      "       [0.24975802, 0.77567657, 0.21940746, 0.53647661]]), array([[-0.34926064, -0.34675433, -0.05486188, -0.8687742 ],\n",
      "       [-0.1093427 , -0.39596414, -0.807452  , -0.42341213]])]]\n",
      "[[-0.88007943 -0.47482649]\n",
      " [-0.96586158  0.2590587 ]]\n",
      "[[0.92226127 0.38656715]\n",
      " [0.91331841 0.40724621]]\n"
     ]
    }
   ],
   "source": [
    "print(tmp.shape)\n",
    "print(s)\n",
    "print(len(X_data))\n",
    "print(np.ones((n_t[0][0], 1)).T.shape)\n",
    "print((X_data[0][0].T.shape))\n",
    "print((X_data[0][1].shape))\n",
    "print(np.ones(n_t[0][1]).shape)\n",
    "#1x240x50\n",
    "print(X_data)\n",
    "print(X[3][1])\n",
    "print(X[3][0])"
   ]
  },
  {
   "cell_type": "code",
   "execution_count": 65,
   "metadata": {},
   "outputs": [
    {
     "name": "stdout",
     "output_type": "stream",
     "text": [
      "50\n",
      "(200, 10)\n",
      "(200, 50)\n",
      "[[50, 50], [500, 500]]\n"
     ]
    }
   ],
   "source": [
    "print(n_t[0][0])\n",
    "print(X[1][0].shape)\n",
    "print(X_data[0][0].shape)\n",
    "print(current_n_t)"
   ]
  },
  {
   "cell_type": "code",
   "execution_count": 104,
   "metadata": {},
   "outputs": [
    {
     "name": "stdout",
     "output_type": "stream",
     "text": [
      "[[4, 4], [5, 5]]\n"
     ]
    },
    {
     "data": {
      "text/plain": [
       "[[10, 10], [[4, 4]]]"
      ]
     },
     "execution_count": 104,
     "metadata": {},
     "output_type": "execute_result"
    }
   ],
   "source": [
    "n_t = [[10,10], [4,4], [5,5]]\n",
    "n = sum(list(map(sum, (n_t[i] for i in range(2)))))\n",
    "print(list(n_t[i] for i in range(3) if i!=0))\n",
    "current = [n_t[0], list(n_t[i] for i in range(2) if i!=0)[0]]\n",
    "current"
   ]
  },
  {
   "cell_type": "code",
   "execution_count": null,
   "metadata": {},
   "outputs": [],
   "source": []
  }
 ],
 "metadata": {
  "kernelspec": {
   "display_name": "Python 3",
   "language": "python",
   "name": "python3"
  },
  "language_info": {
   "codemirror_mode": {
    "name": "ipython",
    "version": 3
   },
   "file_extension": ".py",
   "mimetype": "text/x-python",
   "name": "python",
   "nbconvert_exporter": "python",
   "pygments_lexer": "ipython3",
   "version": "3.7.10"
  }
 },
 "nbformat": 4,
 "nbformat_minor": 2
}
